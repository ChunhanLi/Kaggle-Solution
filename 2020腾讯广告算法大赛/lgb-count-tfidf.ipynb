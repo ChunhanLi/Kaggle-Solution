{
 "cells": [
  {
   "cell_type": "code",
   "execution_count": 1,
   "metadata": {
    "ExecuteTime": {
     "end_time": "2020-07-19T04:29:43.101412Z",
     "start_time": "2020-07-19T04:29:40.272777Z"
    }
   },
   "outputs": [
    {
     "name": "stderr",
     "output_type": "stream",
     "text": [
      "Using TensorFlow backend.\n"
     ]
    }
   ],
   "source": [
    "import pandas as pd\n",
    "import numpy as np\n",
    "import numpy as np\n",
    "import pandas as pd\n",
    "import seaborn as sns\n",
    "import matplotlib.pyplot as plt \n",
    "from sklearn import preprocessing\n",
    "from sklearn.preprocessing import LabelEncoder\n",
    "#import catboost as cb\n",
    "#import lightgbm as lgb\n",
    "from sklearn.ensemble import RandomForestClassifier\n",
    "from sklearn.model_selection import GridSearchCV, ShuffleSplit,StratifiedKFold,TimeSeriesSplit,KFold,GroupKFold,train_test_split,GroupShuffleSplit,StratifiedShuffleSplit\n",
    "from sklearn.metrics import roc_auc_score,mean_squared_error,mean_absolute_error,log_loss,confusion_matrix,accuracy_score\n",
    "#import sqlite3\n",
    "#import xgboost as xgb\n",
    "import datetime\n",
    "from sklearn.linear_model import LogisticRegression\n",
    "from scipy.stats import pearsonr\n",
    "import gc\n",
    "from sklearn.model_selection import TimeSeriesSplit\n",
    "#from bayes_opt import BayesianOptimization\n",
    "import re\n",
    "from string import punctuation\n",
    "from scipy.spatial import Voronoi\n",
    "from scipy.spatial import ConvexHull\n",
    "from scipy.spatial import Delaunay\n",
    "from tqdm.notebook import tqdm\n",
    "#from numba import jit\n",
    "from collections import Counter\n",
    "import json\n",
    "import joblib\n",
    "import multiprocessing\n",
    "import time\n",
    "import keras\n",
    "from sklearn.preprocessing import StandardScaler,OneHotEncoder\n",
    "from gensim.models import Word2Vec\n",
    "from sklearn.linear_model import LogisticRegression, SGDClassifier, PassiveAggressiveClassifier, RidgeClassifier\n",
    "from sklearn.naive_bayes import BernoulliNB, MultinomialNB\n",
    "from sklearn.feature_extraction.text import CountVectorizer\n",
    "from sklearn.feature_extraction.text import TfidfVectorizer\n",
    "from sklearn.decomposition import TruncatedSVD"
   ]
  },
  {
   "cell_type": "code",
   "execution_count": 2,
   "metadata": {
    "ExecuteTime": {
     "end_time": "2020-07-19T04:29:43.118416Z",
     "start_time": "2020-07-19T04:29:43.115415Z"
    }
   },
   "outputs": [],
   "source": [
    "from sklearn.svm import LinearSVC"
   ]
  },
  {
   "cell_type": "code",
   "execution_count": 3,
   "metadata": {
    "ExecuteTime": {
     "end_time": "2020-07-19T04:31:10.935236Z",
     "start_time": "2020-07-19T04:29:43.128418Z"
    }
   },
   "outputs": [],
   "source": [
    "### 有click_time\n",
    "df_bag = pd.read_pickle('../ipynb/df_bag_list_click_time.pkl')"
   ]
  },
  {
   "cell_type": "code",
   "execution_count": 4,
   "metadata": {
    "ExecuteTime": {
     "end_time": "2020-07-19T04:31:11.033258Z",
     "start_time": "2020-07-19T04:31:10.969244Z"
    }
   },
   "outputs": [],
   "source": [
    "user = pd.read_pickle('../raw_data/user.pkl')"
   ]
  },
  {
   "cell_type": "code",
   "execution_count": 5,
   "metadata": {
    "ExecuteTime": {
     "end_time": "2020-07-19T04:31:11.081269Z",
     "start_time": "2020-07-19T04:31:11.065265Z"
    }
   },
   "outputs": [
    {
     "data": {
      "text/html": [
       "<div>\n",
       "<style scoped>\n",
       "    .dataframe tbody tr th:only-of-type {\n",
       "        vertical-align: middle;\n",
       "    }\n",
       "\n",
       "    .dataframe tbody tr th {\n",
       "        vertical-align: top;\n",
       "    }\n",
       "\n",
       "    .dataframe thead th {\n",
       "        text-align: right;\n",
       "    }\n",
       "</style>\n",
       "<table border=\"1\" class=\"dataframe\">\n",
       "  <thead>\n",
       "    <tr style=\"text-align: right;\">\n",
       "      <th></th>\n",
       "      <th>user_id</th>\n",
       "      <th>list_creative_id</th>\n",
       "      <th>list_ad_id</th>\n",
       "      <th>list_advertiser_id</th>\n",
       "      <th>list_product_id</th>\n",
       "    </tr>\n",
       "  </thead>\n",
       "  <tbody>\n",
       "    <tr>\n",
       "      <th>0</th>\n",
       "      <td>1</td>\n",
       "      <td>[821396, 209778, 877468, 1683713, 122032, 7169...</td>\n",
       "      <td>[724607, 188507, 773445, 1458878, 109959, 6621...</td>\n",
       "      <td>[7293, 9702, 29455, 14668, 11411, 14681, 17189...</td>\n",
       "      <td>[136, 1334, 64, 1454, 64, 1261, 1261]</td>\n",
       "    </tr>\n",
       "    <tr>\n",
       "      <th>1</th>\n",
       "      <td>2</td>\n",
       "      <td>[63441, 155822, 39714, 609050, 13069, 441462, ...</td>\n",
       "      <td>[58788, 139702, 38066, 541125, 14495, 392680, ...</td>\n",
       "      <td>[22885, 10686, 18562, 25932, 768, 22885, 34505...</td>\n",
       "      <td>[87, 80, 129, 129, 1400, 87, 1261, 111, 129, 1...</td>\n",
       "    </tr>\n",
       "    <tr>\n",
       "      <th>2</th>\n",
       "      <td>3</td>\n",
       "      <td>[661347, 808612, 710859, 825434, 593522, 72694...</td>\n",
       "      <td>[586668, 713448, 629278, 728308, 527601, 64310...</td>\n",
       "      <td>[32974, 9877, 18492, 14186, 17018, 9058, 8371,...</td>\n",
       "      <td>[36256, 40905, 1674, 35985, 1674, 1031, 1786, ...</td>\n",
       "    </tr>\n",
       "    <tr>\n",
       "      <th>3</th>\n",
       "      <td>4</td>\n",
       "      <td>[39588, 589886, 574787, 1892854, 31070, 196270...</td>\n",
       "      <td>[37966, 524312, 511235, 1638619, 30773, 169820...</td>\n",
       "      <td>[19451, 7976, 13084, 12130, 13299, 23664, 811,...</td>\n",
       "      <td>[1862, 2625, 38743, 39422, 41265, 37758, 39904...</td>\n",
       "    </tr>\n",
       "    <tr>\n",
       "      <th>4</th>\n",
       "      <td>5</td>\n",
       "      <td>[296145, 350759, 24333, 43235, 852327, 1054434...</td>\n",
       "      <td>[265971, 314795, 24966, 41148, 751113, 925792,...</td>\n",
       "      <td>[11882, 992, 22885, 9706, 38760, 2862, 2862, 1...</td>\n",
       "      <td>[87, 136, 136, 136, 1064, 2620, 136, 2510, 136...</td>\n",
       "    </tr>\n",
       "  </tbody>\n",
       "</table>\n",
       "</div>"
      ],
      "text/plain": [
       "   user_id                                   list_creative_id  \\\n",
       "0        1  [821396, 209778, 877468, 1683713, 122032, 7169...   \n",
       "1        2  [63441, 155822, 39714, 609050, 13069, 441462, ...   \n",
       "2        3  [661347, 808612, 710859, 825434, 593522, 72694...   \n",
       "3        4  [39588, 589886, 574787, 1892854, 31070, 196270...   \n",
       "4        5  [296145, 350759, 24333, 43235, 852327, 1054434...   \n",
       "\n",
       "                                          list_ad_id  \\\n",
       "0  [724607, 188507, 773445, 1458878, 109959, 6621...   \n",
       "1  [58788, 139702, 38066, 541125, 14495, 392680, ...   \n",
       "2  [586668, 713448, 629278, 728308, 527601, 64310...   \n",
       "3  [37966, 524312, 511235, 1638619, 30773, 169820...   \n",
       "4  [265971, 314795, 24966, 41148, 751113, 925792,...   \n",
       "\n",
       "                                  list_advertiser_id  \\\n",
       "0  [7293, 9702, 29455, 14668, 11411, 14681, 17189...   \n",
       "1  [22885, 10686, 18562, 25932, 768, 22885, 34505...   \n",
       "2  [32974, 9877, 18492, 14186, 17018, 9058, 8371,...   \n",
       "3  [19451, 7976, 13084, 12130, 13299, 23664, 811,...   \n",
       "4  [11882, 992, 22885, 9706, 38760, 2862, 2862, 1...   \n",
       "\n",
       "                                     list_product_id  \n",
       "0              [136, 1334, 64, 1454, 64, 1261, 1261]  \n",
       "1  [87, 80, 129, 129, 1400, 87, 1261, 111, 129, 1...  \n",
       "2  [36256, 40905, 1674, 35985, 1674, 1031, 1786, ...  \n",
       "3  [1862, 2625, 38743, 39422, 41265, 37758, 39904...  \n",
       "4  [87, 136, 136, 136, 1064, 2620, 136, 2510, 136...  "
      ]
     },
     "execution_count": 5,
     "metadata": {},
     "output_type": "execute_result"
    }
   ],
   "source": [
    "df_bag.head()"
   ]
  },
  {
   "cell_type": "markdown",
   "metadata": {},
   "source": [
    "#### creative_id"
   ]
  },
  {
   "cell_type": "code",
   "execution_count": 6,
   "metadata": {
    "ExecuteTime": {
     "end_time": "2020-07-19T04:31:27.120331Z",
     "start_time": "2020-07-19T04:31:11.113277Z"
    }
   },
   "outputs": [],
   "source": [
    "cre_list = df_bag['list_creative_id'].apply(lambda x: str(x).replace('[','').replace(']','').replace(',',' '))"
   ]
  },
  {
   "cell_type": "code",
   "execution_count": 7,
   "metadata": {
    "ExecuteTime": {
     "end_time": "2020-07-19T04:31:27.159340Z",
     "start_time": "2020-07-19T04:31:27.157340Z"
    }
   },
   "outputs": [],
   "source": [
    "count_vec = CountVectorizer(dtype = np.float32,min_df=50)\n",
    "#tfidf_vec = TfidfVectorizer(dtype = np.float32,min_df=30)"
   ]
  },
  {
   "cell_type": "code",
   "execution_count": 8,
   "metadata": {
    "ExecuteTime": {
     "end_time": "2020-07-19T04:34:32.266700Z",
     "start_time": "2020-07-19T04:31:27.195348Z"
    }
   },
   "outputs": [],
   "source": [
    "count_vector_all = count_vec.fit_transform(cre_list)"
   ]
  },
  {
   "cell_type": "code",
   "execution_count": 9,
   "metadata": {
    "ExecuteTime": {
     "end_time": "2020-07-19T04:34:34.245145Z",
     "start_time": "2020-07-19T04:34:34.242145Z"
    }
   },
   "outputs": [
    {
     "data": {
      "text/plain": [
       "(4000000, 269453)"
      ]
     },
     "execution_count": 9,
     "metadata": {},
     "output_type": "execute_result"
    }
   ],
   "source": [
    "count_vector_all.shape"
   ]
  },
  {
   "cell_type": "code",
   "execution_count": 10,
   "metadata": {
    "ExecuteTime": {
     "end_time": "2020-07-18T17:33:38.287969Z",
     "start_time": "2020-07-18T16:52:34.707587Z"
    }
   },
   "outputs": [
    {
     "name": "stdout",
     "output_type": "stream",
     "text": [
      "fold_1*********************************************\n",
      "train go\n",
      "fold 1 得分：0.40754666666666667 Cost time: 484\n",
      "fold_2*********************************************\n",
      "train go\n",
      "fold 2 得分：0.4040283333333333 Cost time: 501\n",
      "fold_3*********************************************\n",
      "train go\n",
      "fold 3 得分：0.40708333333333335 Cost time: 488\n",
      "fold_4*********************************************\n",
      "train go\n",
      "fold 4 得分：0.4074583333333333 Cost time: 484\n",
      "fold_5*********************************************\n",
      "train go\n",
      "fold 5 得分：0.40635 Cost time: 440\n",
      "Mean Accuracy: 0.4064933333333333\n"
     ]
    }
   ],
   "source": [
    "kf = KFold(n_splits=5,shuffle=True,random_state=47)\n",
    "\n",
    "y_train_age = user['age']\n",
    "y_train_gender = user['gender']\n",
    "\n",
    "X_train = count_vector_all[:3000000]\n",
    "X_test = count_vector_all[3000000:]\n",
    "\n",
    "k = 1\n",
    "pred_gender = 0\n",
    "y_train_pred = np.zeros((3000000,10))\n",
    "score_list = []\n",
    "for train_index,test_index in kf.split(X_train,y_train_age):\n",
    "    \n",
    "    start = time.time()\n",
    "    print(f'fold_{k}*********************************************')\n",
    "    k+=1\n",
    "    X_train2 = X_train[train_index,:]\n",
    "    y_train2 = y_train_age.iloc[train_index]\n",
    "    X_test2 = X_train[test_index,:]\n",
    "    y_test2 = y_train_age.iloc[test_index]\n",
    "    \n",
    "    clf = LogisticRegression(random_state=47,n_jobs=8)\n",
    "    print('train go')\n",
    "    clf.fit(X_train2,y_train2)\n",
    "    end = time.time()\n",
    "    \n",
    "    y_train_pred[test_index] = clf.predict_proba(X_test2)\n",
    "    tmp_score = accuracy_score(y_test2,clf.predict(X_test2))\n",
    "    pred_gender += clf.predict_proba(X_test)/kf.n_splits\n",
    "    \n",
    "    score_list.append(tmp_score)\n",
    "    print(f'fold {k-1} 得分：{tmp_score}','Cost time:',round(end-start))\n",
    "    gc.collect()\n",
    "print('Mean Accuracy:',np.mean(score_list))"
   ]
  },
  {
   "cell_type": "code",
   "execution_count": 11,
   "metadata": {
    "ExecuteTime": {
     "end_time": "2020-07-18T17:33:43.083049Z",
     "start_time": "2020-07-18T17:33:41.055557Z"
    }
   },
   "outputs": [],
   "source": [
    "pd.DataFrame(y_train_pred).to_pickle('tf-idf-count/logistic_count_oof.pkl')\n",
    "pd.DataFrame(pred_gender).to_pickle('tf-idf-count/logistic_count_pred.pkl')"
   ]
  },
  {
   "cell_type": "code",
   "execution_count": 12,
   "metadata": {
    "ExecuteTime": {
     "end_time": "2020-07-18T17:36:36.717194Z",
     "start_time": "2020-07-18T17:33:45.751986Z"
    }
   },
   "outputs": [
    {
     "name": "stdout",
     "output_type": "stream",
     "text": [
      "fold_1*********************************************\n",
      "train go\n",
      "fold 1 得分：0.371835 Cost time: 21\n",
      "fold_2*********************************************\n",
      "train go\n",
      "fold 2 得分：0.369995 Cost time: 23\n",
      "fold_3*********************************************\n",
      "train go\n",
      "fold 3 得分：0.3697683333333333 Cost time: 22\n",
      "fold_4*********************************************\n",
      "train go\n",
      "fold 4 得分：0.37039666666666665 Cost time: 23\n",
      "fold_5*********************************************\n",
      "train go\n",
      "fold 5 得分：0.37102666666666667 Cost time: 22\n",
      "Mean Accuracy: 0.3706043333333333\n"
     ]
    }
   ],
   "source": [
    "kf = KFold(n_splits=5,shuffle=True,random_state=47)\n",
    "\n",
    "y_train_age = user['age']\n",
    "y_train_gender = user['gender']\n",
    "\n",
    "X_train = count_vector_all[:3000000]\n",
    "X_test = count_vector_all[3000000:]\n",
    "\n",
    "k = 1\n",
    "pred_gender = 0\n",
    "y_train_pred = np.zeros((3000000,10))\n",
    "score_list = []\n",
    "for train_index,test_index in kf.split(X_train,y_train_age):\n",
    "    \n",
    "    start = time.time()\n",
    "    print(f'fold_{k}*********************************************')\n",
    "    k+=1\n",
    "    X_train2 = X_train[train_index,:]\n",
    "    y_train2 = y_train_age.iloc[train_index]\n",
    "    X_test2 = X_train[test_index,:]\n",
    "    y_test2 = y_train_age.iloc[test_index]\n",
    "    \n",
    "    clf = SGDClassifier(random_state=47,loss='log',n_jobs = 8)\n",
    "    print('train go')\n",
    "    clf.fit(X_train2,y_train2)\n",
    "    end = time.time()\n",
    "    \n",
    "    y_train_pred[test_index] = clf.predict_proba(X_test2)\n",
    "    tmp_score = accuracy_score(y_test2,clf.predict(X_test2))\n",
    "    pred_gender += clf.predict_proba(X_test)/kf.n_splits\n",
    "    \n",
    "    score_list.append(tmp_score)\n",
    "    print(f'fold {k-1} 得分：{tmp_score}','Cost time:',round(end-start))\n",
    "    gc.collect()\n",
    "print('Mean Accuracy:',np.mean(score_list))"
   ]
  },
  {
   "cell_type": "code",
   "execution_count": 13,
   "metadata": {
    "ExecuteTime": {
     "end_time": "2020-07-18T17:36:41.315446Z",
     "start_time": "2020-07-18T17:36:39.403502Z"
    }
   },
   "outputs": [],
   "source": [
    "pd.DataFrame(y_train_pred).to_pickle('tf-idf-count/SGDClassifier_count_oof.pkl')\n",
    "pd.DataFrame(pred_gender).to_pickle('tf-idf-count/SGDClassifier_count_pred.pkl')"
   ]
  },
  {
   "cell_type": "code",
   "execution_count": 14,
   "metadata": {
    "ExecuteTime": {
     "end_time": "2020-07-18T17:37:58.487464Z",
     "start_time": "2020-07-18T17:36:43.990083Z"
    }
   },
   "outputs": [
    {
     "name": "stdout",
     "output_type": "stream",
     "text": [
      "fold_1*********************************************\n",
      "train go\n",
      "fold 1 得分：0.37766833333333333 Cost time: 3\n",
      "fold_2*********************************************\n",
      "train go\n",
      "fold 2 得分：0.3772316666666667 Cost time: 3\n",
      "fold_3*********************************************\n",
      "train go\n",
      "fold 3 得分：0.377175 Cost time: 3\n",
      "fold_4*********************************************\n",
      "train go\n",
      "fold 4 得分：0.37754166666666666 Cost time: 3\n",
      "fold_5*********************************************\n",
      "train go\n",
      "fold 5 得分：0.3773916666666667 Cost time: 3\n",
      "Mean Accuracy: 0.37740166666666664\n"
     ]
    }
   ],
   "source": [
    "kf = KFold(n_splits=5,shuffle=True,random_state=47)\n",
    "\n",
    "y_train_age = user['age']\n",
    "y_train_gender = user['gender']\n",
    "\n",
    "X_train = count_vector_all[:3000000]\n",
    "X_test = count_vector_all[3000000:]\n",
    "\n",
    "k = 1\n",
    "pred_gender = 0\n",
    "y_train_pred = np.zeros((3000000,10))\n",
    "score_list = []\n",
    "for train_index,test_index in kf.split(X_train,y_train_age):\n",
    "    \n",
    "    start = time.time()\n",
    "    print(f'fold_{k}*********************************************')\n",
    "    k+=1\n",
    "    X_train2 = X_train[train_index,:]\n",
    "    y_train2 = y_train_age.iloc[train_index]\n",
    "    X_test2 = X_train[test_index,:]\n",
    "    y_test2 = y_train_age.iloc[test_index]\n",
    "    \n",
    "    clf = MultinomialNB()\n",
    "    print('train go')\n",
    "    clf.fit(X_train2,y_train2)\n",
    "    end = time.time()\n",
    "    \n",
    "    y_train_pred[test_index] = clf.predict_proba(X_test2)\n",
    "    tmp_score = accuracy_score(y_test2,clf.predict(X_test2))\n",
    "    pred_gender += clf.predict_proba(X_test)/kf.n_splits\n",
    "    \n",
    "    score_list.append(tmp_score)\n",
    "    print(f'fold {k-1} 得分：{tmp_score}','Cost time:',round(end-start))\n",
    "    gc.collect()\n",
    "print('Mean Accuracy:',np.mean(score_list))"
   ]
  },
  {
   "cell_type": "code",
   "execution_count": 15,
   "metadata": {
    "ExecuteTime": {
     "end_time": "2020-07-18T17:38:03.121531Z",
     "start_time": "2020-07-18T17:38:01.164085Z"
    }
   },
   "outputs": [],
   "source": [
    "pd.DataFrame(y_train_pred).to_pickle('tf-idf-count/multinNB_count_oof.pkl')\n",
    "pd.DataFrame(pred_gender).to_pickle('tf-idf-count/multinNB_count_pred.pkl')"
   ]
  },
  {
   "cell_type": "code",
   "execution_count": 16,
   "metadata": {
    "ExecuteTime": {
     "end_time": "2020-07-18T17:39:24.784404Z",
     "start_time": "2020-07-18T17:38:05.792718Z"
    }
   },
   "outputs": [
    {
     "name": "stdout",
     "output_type": "stream",
     "text": [
      "fold_1*********************************************\n",
      "train go\n",
      "fold 1 得分：0.387425 Cost time: 3\n",
      "fold_2*********************************************\n",
      "train go\n",
      "fold 2 得分：0.387295 Cost time: 3\n",
      "fold_3*********************************************\n",
      "train go\n",
      "fold 3 得分：0.386585 Cost time: 3\n",
      "fold_4*********************************************\n",
      "train go\n",
      "fold 4 得分：0.387115 Cost time: 3\n",
      "fold_5*********************************************\n",
      "train go\n",
      "fold 5 得分：0.3870516666666667 Cost time: 3\n",
      "Mean Accuracy: 0.3870943333333334\n"
     ]
    }
   ],
   "source": [
    "kf = KFold(n_splits=5,shuffle=True,random_state=47)\n",
    "\n",
    "y_train_age = user['age']\n",
    "y_train_gender = user['gender']\n",
    "\n",
    "X_train = count_vector_all[:3000000]\n",
    "X_test = count_vector_all[3000000:]\n",
    "\n",
    "k = 1\n",
    "pred_gender = 0\n",
    "y_train_pred = np.zeros((3000000,10))\n",
    "score_list = []\n",
    "for train_index,test_index in kf.split(X_train,y_train_age):\n",
    "    \n",
    "    start = time.time()\n",
    "    print(f'fold_{k}*********************************************')\n",
    "    k+=1\n",
    "    X_train2 = X_train[train_index,:]\n",
    "    y_train2 = y_train_age.iloc[train_index]\n",
    "    X_test2 = X_train[test_index,:]\n",
    "    y_test2 = y_train_age.iloc[test_index]\n",
    "    \n",
    "    clf = BernoulliNB()\n",
    "    print('train go')\n",
    "    clf.fit(X_train2,y_train2)\n",
    "    end = time.time()\n",
    "    \n",
    "    y_train_pred[test_index] = clf.predict_proba(X_test2)\n",
    "    tmp_score = accuracy_score(y_test2,clf.predict(X_test2))\n",
    "    pred_gender += clf.predict_proba(X_test)/kf.n_splits\n",
    "    \n",
    "    score_list.append(tmp_score)\n",
    "    print(f'fold {k-1} 得分：{tmp_score}','Cost time:',round(end-start))\n",
    "    gc.collect()\n",
    "print('Mean Accuracy:',np.mean(score_list))"
   ]
  },
  {
   "cell_type": "code",
   "execution_count": 17,
   "metadata": {
    "ExecuteTime": {
     "end_time": "2020-07-18T17:39:29.602744Z",
     "start_time": "2020-07-18T17:39:27.493261Z"
    }
   },
   "outputs": [],
   "source": [
    "pd.DataFrame(y_train_pred).to_pickle('tf-idf-count/BernoulliNB_count_oof.pkl')\n",
    "pd.DataFrame(pred_gender).to_pickle('tf-idf-count/BernoulliNB_count_pred.pkl')"
   ]
  },
  {
   "cell_type": "code",
   "execution_count": 18,
   "metadata": {
    "ExecuteTime": {
     "end_time": "2020-07-18T17:55:06.487552Z",
     "start_time": "2020-07-18T17:39:32.286958Z"
    }
   },
   "outputs": [
    {
     "name": "stdout",
     "output_type": "stream",
     "text": [
      "fold_1*********************************************\n",
      "train go\n"
     ]
    },
    {
     "name": "stderr",
     "output_type": "stream",
     "text": [
      "C:\\ProgramData\\Anaconda3\\envs\\tensorflow\\lib\\site-packages\\sklearn\\linear_model\\_base.py:313: RuntimeWarning: invalid value encountered in true_divide\n",
      "  prob /= prob.sum(axis=1).reshape((prob.shape[0], -1))\n"
     ]
    },
    {
     "name": "stdout",
     "output_type": "stream",
     "text": [
      "fold 1 得分：0.3237366666666667 Cost time: 172\n",
      "fold_2*********************************************\n",
      "train go\n",
      "fold 2 得分：0.32781333333333335 Cost time: 171\n",
      "fold_3*********************************************\n",
      "train go\n",
      "fold 3 得分：0.3263 Cost time: 181\n",
      "fold_4*********************************************\n",
      "train go\n",
      "fold 4 得分：0.32781 Cost time: 173\n",
      "fold_5*********************************************\n",
      "train go\n",
      "fold 5 得分：0.32881 Cost time: 177\n",
      "Mean Accuracy: 0.326894\n"
     ]
    }
   ],
   "source": [
    "kf = KFold(n_splits=5,shuffle=True,random_state=47)\n",
    "\n",
    "y_train_age = user['age']\n",
    "y_train_gender = user['gender']\n",
    "\n",
    "X_train = count_vector_all[:3000000]\n",
    "X_test = count_vector_all[3000000:]\n",
    "\n",
    "k = 1\n",
    "pred_gender = 0\n",
    "y_train_pred = np.zeros((3000000,10))\n",
    "score_list = []\n",
    "for train_index,test_index in kf.split(X_train,y_train_age):\n",
    "    \n",
    "    start = time.time()\n",
    "    print(f'fold_{k}*********************************************')\n",
    "    k+=1\n",
    "    X_train2 = X_train[train_index,:]\n",
    "    y_train2 = y_train_age.iloc[train_index]\n",
    "    X_test2 = X_train[test_index,:]\n",
    "    y_test2 = y_train_age.iloc[test_index]\n",
    "    \n",
    "    clf = PassiveAggressiveClassifier(random_state=1017)\n",
    "    print('train go')\n",
    "    clf.fit(X_train2,y_train2)\n",
    "    end = time.time()\n",
    "    \n",
    "    y_train_pred[test_index] = clf._predict_proba_lr(X_test2)\n",
    "    tmp_score = accuracy_score(y_test2,clf.predict(X_test2))\n",
    "    pred_gender += clf._predict_proba_lr(X_test)/kf.n_splits\n",
    "    \n",
    "    score_list.append(tmp_score)\n",
    "    print(f'fold {k-1} 得分：{tmp_score}','Cost time:',round(end-start))\n",
    "    gc.collect()\n",
    "print('Mean Accuracy:',np.mean(score_list))"
   ]
  },
  {
   "cell_type": "code",
   "execution_count": 19,
   "metadata": {
    "ExecuteTime": {
     "end_time": "2020-07-18T17:55:11.192665Z",
     "start_time": "2020-07-18T17:55:09.203702Z"
    }
   },
   "outputs": [],
   "source": [
    "pd.DataFrame(y_train_pred).to_pickle('tf-idf-count/pac_count_oof.pkl')\n",
    "pd.DataFrame(pred_gender).to_pickle('tf-idf-count/pac_count_pred.pkl')"
   ]
  },
  {
   "cell_type": "code",
   "execution_count": 20,
   "metadata": {
    "ExecuteTime": {
     "end_time": "2020-07-18T21:03:52.175642Z",
     "start_time": "2020-07-18T17:55:13.873812Z"
    }
   },
   "outputs": [
    {
     "name": "stdout",
     "output_type": "stream",
     "text": [
      "fold_1*********************************************\n",
      "train go\n",
      "fold 1 得分：0.35623333333333335 Cost time: 2146\n",
      "fold_2*********************************************\n",
      "train go\n",
      "fold 2 得分：0.355315 Cost time: 2289\n",
      "fold_3*********************************************\n",
      "train go\n",
      "fold 3 得分：0.35571166666666665 Cost time: 2264\n",
      "fold_4*********************************************\n",
      "train go\n",
      "fold 4 得分：0.3568366666666667 Cost time: 2275\n",
      "fold_5*********************************************\n",
      "train go\n",
      "fold 5 得分：0.356385 Cost time: 2288\n",
      "Mean Accuracy: 0.35609633333333335\n"
     ]
    }
   ],
   "source": [
    "kf = KFold(n_splits=5,shuffle=True,random_state=47)\n",
    "\n",
    "y_train_age = user['age']\n",
    "y_train_gender = user['gender']\n",
    "\n",
    "X_train = count_vector_all[:3000000]\n",
    "X_test = count_vector_all[3000000:]\n",
    "\n",
    "k = 1\n",
    "pred_gender = 0\n",
    "y_train_pred = np.zeros((3000000,10))\n",
    "score_list = []\n",
    "for train_index,test_index in kf.split(X_train,y_train_age):\n",
    "    \n",
    "    start = time.time()\n",
    "    print(f'fold_{k}*********************************************')\n",
    "    k+=1\n",
    "    X_train2 = X_train[train_index,:]\n",
    "    y_train2 = y_train_age.iloc[train_index]\n",
    "    X_test2 = X_train[test_index,:]\n",
    "    y_test2 = y_train_age.iloc[test_index]\n",
    "    \n",
    "    clf = RidgeClassifier(random_state=1017)\n",
    "    print('train go')\n",
    "    clf.fit(X_train2,y_train2)\n",
    "    end = time.time()\n",
    "    \n",
    "    y_train_pred[test_index] = clf._predict_proba_lr(X_test2)\n",
    "    tmp_score = accuracy_score(y_test2,clf.predict(X_test2))\n",
    "    pred_gender += clf._predict_proba_lr(X_test)/kf.n_splits\n",
    "    \n",
    "    score_list.append(tmp_score)\n",
    "    print(f'fold {k-1} 得分：{tmp_score}','Cost time:',round(end-start))\n",
    "    gc.collect()\n",
    "print('Mean Accuracy:',np.mean(score_list))"
   ]
  },
  {
   "cell_type": "code",
   "execution_count": 21,
   "metadata": {
    "ExecuteTime": {
     "end_time": "2020-07-18T21:04:01.810840Z",
     "start_time": "2020-07-18T21:03:54.889759Z"
    }
   },
   "outputs": [],
   "source": [
    "pd.DataFrame(y_train_pred).to_pickle('tf-idf-count/ridge_count_oof.pkl')\n",
    "pd.DataFrame(pred_gender).to_pickle('tf-idf-count/ridge_count_pred.pkl')"
   ]
  },
  {
   "cell_type": "markdown",
   "metadata": {},
   "source": [
    "#### list_ad_id"
   ]
  },
  {
   "cell_type": "code",
   "execution_count": 10,
   "metadata": {
    "ExecuteTime": {
     "end_time": "2020-07-19T04:34:52.820830Z",
     "start_time": "2020-07-19T04:34:36.207587Z"
    }
   },
   "outputs": [],
   "source": [
    "cre_list = df_bag['list_ad_id'].apply(lambda x: str(x).replace('[','').replace(']','').replace(',',' '))"
   ]
  },
  {
   "cell_type": "code",
   "execution_count": 11,
   "metadata": {
    "ExecuteTime": {
     "end_time": "2020-07-19T04:34:55.139352Z",
     "start_time": "2020-07-19T04:34:54.767268Z"
    }
   },
   "outputs": [],
   "source": [
    "count_vec = CountVectorizer(dtype = np.float32,min_df=30)\n",
    "#tfidf_vec = TfidfVectorizer(dtype = np.float32,min_df=30)"
   ]
  },
  {
   "cell_type": "code",
   "execution_count": 12,
   "metadata": {
    "ExecuteTime": {
     "end_time": "2020-07-19T04:37:58.941360Z",
     "start_time": "2020-07-19T04:34:57.099792Z"
    }
   },
   "outputs": [],
   "source": [
    "count_vector_all = count_vec.fit_transform(cre_list)"
   ]
  },
  {
   "cell_type": "code",
   "execution_count": 13,
   "metadata": {
    "ExecuteTime": {
     "end_time": "2020-07-19T04:38:01.060837Z",
     "start_time": "2020-07-19T04:38:01.056835Z"
    }
   },
   "outputs": [
    {
     "data": {
      "text/plain": [
       "(4000000, 415926)"
      ]
     },
     "execution_count": 13,
     "metadata": {},
     "output_type": "execute_result"
    }
   ],
   "source": [
    "count_vector_all.shape"
   ]
  },
  {
   "cell_type": "code",
   "execution_count": 14,
   "metadata": {
    "ExecuteTime": {
     "end_time": "2020-07-19T05:23:27.146556Z",
     "start_time": "2020-07-19T04:38:03.166311Z"
    }
   },
   "outputs": [
    {
     "name": "stdout",
     "output_type": "stream",
     "text": [
      "fold_1*********************************************\n",
      "train go\n",
      "fold 1 得分：0.4085 Cost time: 526\n",
      "fold_2*********************************************\n",
      "train go\n",
      "fold 2 得分：0.4077033333333333 Cost time: 538\n",
      "fold_3*********************************************\n",
      "train go\n",
      "fold 3 得分：0.41066833333333336 Cost time: 527\n",
      "fold_4*********************************************\n",
      "train go\n",
      "fold 4 得分：0.40872166666666665 Cost time: 535\n",
      "fold_5*********************************************\n",
      "train go\n",
      "fold 5 得分：0.410015 Cost time: 534\n",
      "Mean Accuracy: 0.4091216666666666\n"
     ]
    }
   ],
   "source": [
    "kf = KFold(n_splits=5,shuffle=True,random_state=47)\n",
    "\n",
    "y_train_age = user['age']\n",
    "y_train_gender = user['gender']\n",
    "\n",
    "X_train = count_vector_all[:3000000]\n",
    "X_test = count_vector_all[3000000:]\n",
    "\n",
    "k = 1\n",
    "pred_gender = 0\n",
    "y_train_pred = np.zeros((3000000,10))\n",
    "score_list = []\n",
    "for train_index,test_index in kf.split(X_train,y_train_age):\n",
    "    \n",
    "    start = time.time()\n",
    "    print(f'fold_{k}*********************************************')\n",
    "    k+=1\n",
    "    X_train2 = X_train[train_index,:]\n",
    "    y_train2 = y_train_age.iloc[train_index]\n",
    "    X_test2 = X_train[test_index,:]\n",
    "    y_test2 = y_train_age.iloc[test_index]\n",
    "    \n",
    "    clf = LogisticRegression(random_state=47,n_jobs=8)\n",
    "    print('train go')\n",
    "    clf.fit(X_train2,y_train2)\n",
    "    end = time.time()\n",
    "    \n",
    "    y_train_pred[test_index] = clf.predict_proba(X_test2)\n",
    "    tmp_score = accuracy_score(y_test2,clf.predict(X_test2))\n",
    "    pred_gender += clf.predict_proba(X_test)/kf.n_splits\n",
    "    \n",
    "    score_list.append(tmp_score)\n",
    "    print(f'fold {k-1} 得分：{tmp_score}','Cost time:',round(end-start))\n",
    "    gc.collect()\n",
    "print('Mean Accuracy:',np.mean(score_list))"
   ]
  },
  {
   "cell_type": "code",
   "execution_count": 15,
   "metadata": {
    "ExecuteTime": {
     "end_time": "2020-07-19T05:23:34.985433Z",
     "start_time": "2020-07-19T05:23:32.989984Z"
    }
   },
   "outputs": [],
   "source": [
    "pd.DataFrame(y_train_pred).to_pickle('tf-idf-count/logistic_count_oof_ad.pkl')\n",
    "pd.DataFrame(pred_gender).to_pickle('tf-idf-count/logistic_count_pred_ad.pkl')"
   ]
  },
  {
   "cell_type": "code",
   "execution_count": 16,
   "metadata": {
    "ExecuteTime": {
     "end_time": "2020-07-19T05:26:41.150113Z",
     "start_time": "2020-07-19T05:23:40.746326Z"
    }
   },
   "outputs": [
    {
     "name": "stdout",
     "output_type": "stream",
     "text": [
      "fold_1*********************************************\n",
      "train go\n",
      "fold 1 得分：0.37364 Cost time: 24\n",
      "fold_2*********************************************\n",
      "train go\n",
      "fold 2 得分：0.371605 Cost time: 24\n",
      "fold_3*********************************************\n",
      "train go\n",
      "fold 3 得分：0.37153 Cost time: 24\n",
      "fold_4*********************************************\n",
      "train go\n",
      "fold 4 得分：0.37204333333333334 Cost time: 25\n",
      "fold_5*********************************************\n",
      "train go\n",
      "fold 5 得分：0.37237 Cost time: 24\n",
      "Mean Accuracy: 0.37223766666666663\n"
     ]
    }
   ],
   "source": [
    "kf = KFold(n_splits=5,shuffle=True,random_state=47)\n",
    "\n",
    "y_train_age = user['age']\n",
    "y_train_gender = user['gender']\n",
    "\n",
    "X_train = count_vector_all[:3000000]\n",
    "X_test = count_vector_all[3000000:]\n",
    "\n",
    "k = 1\n",
    "pred_gender = 0\n",
    "y_train_pred = np.zeros((3000000,10))\n",
    "score_list = []\n",
    "for train_index,test_index in kf.split(X_train,y_train_age):\n",
    "    \n",
    "    start = time.time()\n",
    "    print(f'fold_{k}*********************************************')\n",
    "    k+=1\n",
    "    X_train2 = X_train[train_index,:]\n",
    "    y_train2 = y_train_age.iloc[train_index]\n",
    "    X_test2 = X_train[test_index,:]\n",
    "    y_test2 = y_train_age.iloc[test_index]\n",
    "    \n",
    "    clf = SGDClassifier(random_state=47,loss='log',n_jobs = 8)\n",
    "    print('train go')\n",
    "    clf.fit(X_train2,y_train2)\n",
    "    end = time.time()\n",
    "    \n",
    "    y_train_pred[test_index] = clf.predict_proba(X_test2)\n",
    "    tmp_score = accuracy_score(y_test2,clf.predict(X_test2))\n",
    "    pred_gender += clf.predict_proba(X_test)/kf.n_splits\n",
    "    \n",
    "    score_list.append(tmp_score)\n",
    "    print(f'fold {k-1} 得分：{tmp_score}','Cost time:',round(end-start))\n",
    "    gc.collect()\n",
    "print('Mean Accuracy:',np.mean(score_list))"
   ]
  },
  {
   "cell_type": "code",
   "execution_count": 17,
   "metadata": {
    "ExecuteTime": {
     "end_time": "2020-07-19T05:26:48.886010Z",
     "start_time": "2020-07-19T05:26:46.854966Z"
    }
   },
   "outputs": [],
   "source": [
    "pd.DataFrame(y_train_pred).to_pickle('tf-idf-count/SGDClassifier_count_oof_ad.pkl')\n",
    "pd.DataFrame(pred_gender).to_pickle('tf-idf-count/SGDClassifier_count_pred_ad.pkl')"
   ]
  },
  {
   "cell_type": "code",
   "execution_count": 18,
   "metadata": {
    "ExecuteTime": {
     "end_time": "2020-07-19T05:28:11.939146Z",
     "start_time": "2020-07-19T05:26:54.597450Z"
    }
   },
   "outputs": [
    {
     "name": "stdout",
     "output_type": "stream",
     "text": [
      "fold_1*********************************************\n",
      "train go\n",
      "fold 1 得分：0.38333 Cost time: 3\n",
      "fold_2*********************************************\n",
      "train go\n",
      "fold 2 得分：0.38328666666666666 Cost time: 3\n",
      "fold_3*********************************************\n",
      "train go\n",
      "fold 3 得分：0.383 Cost time: 3\n",
      "fold_4*********************************************\n",
      "train go\n",
      "fold 4 得分：0.3836733333333333 Cost time: 3\n",
      "fold_5*********************************************\n",
      "train go\n",
      "fold 5 得分：0.383655 Cost time: 3\n",
      "Mean Accuracy: 0.38338900000000004\n"
     ]
    }
   ],
   "source": [
    "kf = KFold(n_splits=5,shuffle=True,random_state=47)\n",
    "\n",
    "y_train_age = user['age']\n",
    "y_train_gender = user['gender']\n",
    "\n",
    "X_train = count_vector_all[:3000000]\n",
    "X_test = count_vector_all[3000000:]\n",
    "\n",
    "k = 1\n",
    "pred_gender = 0\n",
    "y_train_pred = np.zeros((3000000,10))\n",
    "score_list = []\n",
    "for train_index,test_index in kf.split(X_train,y_train_age):\n",
    "    \n",
    "    start = time.time()\n",
    "    print(f'fold_{k}*********************************************')\n",
    "    k+=1\n",
    "    X_train2 = X_train[train_index,:]\n",
    "    y_train2 = y_train_age.iloc[train_index]\n",
    "    X_test2 = X_train[test_index,:]\n",
    "    y_test2 = y_train_age.iloc[test_index]\n",
    "    \n",
    "    clf = MultinomialNB()\n",
    "    print('train go')\n",
    "    clf.fit(X_train2,y_train2)\n",
    "    end = time.time()\n",
    "    \n",
    "    y_train_pred[test_index] = clf.predict_proba(X_test2)\n",
    "    tmp_score = accuracy_score(y_test2,clf.predict(X_test2))\n",
    "    pred_gender += clf.predict_proba(X_test)/kf.n_splits\n",
    "    \n",
    "    score_list.append(tmp_score)\n",
    "    print(f'fold {k-1} 得分：{tmp_score}','Cost time:',round(end-start))\n",
    "    gc.collect()\n",
    "print('Mean Accuracy:',np.mean(score_list))"
   ]
  },
  {
   "cell_type": "code",
   "execution_count": 19,
   "metadata": {
    "ExecuteTime": {
     "end_time": "2020-07-19T05:28:19.698997Z",
     "start_time": "2020-07-19T05:28:17.658402Z"
    }
   },
   "outputs": [],
   "source": [
    "pd.DataFrame(y_train_pred).to_pickle('tf-idf-count/multinNB_count_oof_ad.pkl')\n",
    "pd.DataFrame(pred_gender).to_pickle('tf-idf-count/multinNB_count_pred_ad.pkl')"
   ]
  },
  {
   "cell_type": "code",
   "execution_count": 20,
   "metadata": {
    "ExecuteTime": {
     "end_time": "2020-07-19T05:29:47.785383Z",
     "start_time": "2020-07-19T05:28:25.312101Z"
    }
   },
   "outputs": [
    {
     "name": "stdout",
     "output_type": "stream",
     "text": [
      "fold_1*********************************************\n",
      "train go\n",
      "fold 1 得分：0.3918333333333333 Cost time: 3\n",
      "fold_2*********************************************\n",
      "train go\n",
      "fold 2 得分：0.39192166666666667 Cost time: 3\n",
      "fold_3*********************************************\n",
      "train go\n",
      "fold 3 得分：0.391085 Cost time: 3\n",
      "fold_4*********************************************\n",
      "train go\n",
      "fold 4 得分：0.39091333333333333 Cost time: 3\n",
      "fold_5*********************************************\n",
      "train go\n",
      "fold 5 得分：0.39184833333333335 Cost time: 3\n",
      "Mean Accuracy: 0.39152033333333336\n"
     ]
    }
   ],
   "source": [
    "kf = KFold(n_splits=5,shuffle=True,random_state=47)\n",
    "\n",
    "y_train_age = user['age']\n",
    "y_train_gender = user['gender']\n",
    "\n",
    "X_train = count_vector_all[:3000000]\n",
    "X_test = count_vector_all[3000000:]\n",
    "\n",
    "k = 1\n",
    "pred_gender = 0\n",
    "y_train_pred = np.zeros((3000000,10))\n",
    "score_list = []\n",
    "for train_index,test_index in kf.split(X_train,y_train_age):\n",
    "    \n",
    "    start = time.time()\n",
    "    print(f'fold_{k}*********************************************')\n",
    "    k+=1\n",
    "    X_train2 = X_train[train_index,:]\n",
    "    y_train2 = y_train_age.iloc[train_index]\n",
    "    X_test2 = X_train[test_index,:]\n",
    "    y_test2 = y_train_age.iloc[test_index]\n",
    "    \n",
    "    clf = BernoulliNB()\n",
    "    print('train go')\n",
    "    clf.fit(X_train2,y_train2)\n",
    "    end = time.time()\n",
    "    \n",
    "    y_train_pred[test_index] = clf.predict_proba(X_test2)\n",
    "    tmp_score = accuracy_score(y_test2,clf.predict(X_test2))\n",
    "    pred_gender += clf.predict_proba(X_test)/kf.n_splits\n",
    "    \n",
    "    score_list.append(tmp_score)\n",
    "    print(f'fold {k-1} 得分：{tmp_score}','Cost time:',round(end-start))\n",
    "    gc.collect()\n",
    "print('Mean Accuracy:',np.mean(score_list))"
   ]
  },
  {
   "cell_type": "code",
   "execution_count": 21,
   "metadata": {
    "ExecuteTime": {
     "end_time": "2020-07-19T05:29:55.373966Z",
     "start_time": "2020-07-19T05:29:53.367709Z"
    }
   },
   "outputs": [],
   "source": [
    "pd.DataFrame(y_train_pred).to_pickle('tf-idf-count/BernoulliNB_count_oof_ad.pkl')\n",
    "pd.DataFrame(pred_gender).to_pickle('tf-idf-count/BernoulliNB_count_pred_ad.pkl')"
   ]
  },
  {
   "cell_type": "code",
   "execution_count": 22,
   "metadata": {
    "ExecuteTime": {
     "end_time": "2020-07-19T05:55:57.668659Z",
     "start_time": "2020-07-19T05:30:00.967837Z"
    }
   },
   "outputs": [
    {
     "name": "stdout",
     "output_type": "stream",
     "text": [
      "fold_1*********************************************\n",
      "train go\n"
     ]
    },
    {
     "name": "stderr",
     "output_type": "stream",
     "text": [
      "C:\\ProgramData\\Anaconda3\\envs\\tensorflow\\lib\\site-packages\\sklearn\\linear_model\\_base.py:313: RuntimeWarning: invalid value encountered in true_divide\n",
      "  prob /= prob.sum(axis=1).reshape((prob.shape[0], -1))\n"
     ]
    },
    {
     "name": "stdout",
     "output_type": "stream",
     "text": [
      "fold 1 得分：0.33155833333333334 Cost time: 314\n",
      "fold_2*********************************************\n",
      "train go\n",
      "fold 2 得分：0.33226666666666665 Cost time: 294\n",
      "fold_3*********************************************\n",
      "train go\n",
      "fold 3 得分：0.329205 Cost time: 294\n",
      "fold_4*********************************************\n",
      "train go\n",
      "fold 4 得分：0.3308966666666667 Cost time: 293\n",
      "fold_5*********************************************\n",
      "train go\n",
      "fold 5 得分：0.33182333333333336 Cost time: 299\n",
      "Mean Accuracy: 0.33115\n"
     ]
    }
   ],
   "source": [
    "kf = KFold(n_splits=5,shuffle=True,random_state=47)\n",
    "\n",
    "y_train_age = user['age']\n",
    "y_train_gender = user['gender']\n",
    "\n",
    "X_train = count_vector_all[:3000000]\n",
    "X_test = count_vector_all[3000000:]\n",
    "\n",
    "k = 1\n",
    "pred_gender = 0\n",
    "y_train_pred = np.zeros((3000000,10))\n",
    "score_list = []\n",
    "for train_index,test_index in kf.split(X_train,y_train_age):\n",
    "    \n",
    "    start = time.time()\n",
    "    print(f'fold_{k}*********************************************')\n",
    "    k+=1\n",
    "    X_train2 = X_train[train_index,:]\n",
    "    y_train2 = y_train_age.iloc[train_index]\n",
    "    X_test2 = X_train[test_index,:]\n",
    "    y_test2 = y_train_age.iloc[test_index]\n",
    "    \n",
    "    clf = PassiveAggressiveClassifier(random_state=1017)\n",
    "    print('train go')\n",
    "    clf.fit(X_train2,y_train2)\n",
    "    end = time.time()\n",
    "    \n",
    "    y_train_pred[test_index] = clf._predict_proba_lr(X_test2)\n",
    "    tmp_score = accuracy_score(y_test2,clf.predict(X_test2))\n",
    "    pred_gender += clf._predict_proba_lr(X_test)/kf.n_splits\n",
    "    \n",
    "    score_list.append(tmp_score)\n",
    "    print(f'fold {k-1} 得分：{tmp_score}','Cost time:',round(end-start))\n",
    "    gc.collect()\n",
    "print('Mean Accuracy:',np.mean(score_list))"
   ]
  },
  {
   "cell_type": "code",
   "execution_count": 23,
   "metadata": {
    "ExecuteTime": {
     "end_time": "2020-07-19T05:56:05.478963Z",
     "start_time": "2020-07-19T05:56:03.498009Z"
    }
   },
   "outputs": [],
   "source": [
    "pd.DataFrame(y_train_pred).to_pickle('tf-idf-count/pac_count_oof_ad.pkl')\n",
    "pd.DataFrame(pred_gender).to_pickle('tf-idf-count/pac_count_pred_ad.pkl')"
   ]
  },
  {
   "cell_type": "code",
   "execution_count": null,
   "metadata": {},
   "outputs": [],
   "source": []
  },
  {
   "cell_type": "markdown",
   "metadata": {},
   "source": [
    "#### list_adv_id"
   ]
  },
  {
   "cell_type": "code",
   "execution_count": 24,
   "metadata": {
    "ExecuteTime": {
     "end_time": "2020-07-19T05:56:26.604474Z",
     "start_time": "2020-07-19T05:56:11.206512Z"
    }
   },
   "outputs": [],
   "source": [
    "cre_list = df_bag['list_advertiser_id'].apply(lambda x: str(x).replace('[','').replace(']','').replace(',',' '))"
   ]
  },
  {
   "cell_type": "code",
   "execution_count": 25,
   "metadata": {
    "ExecuteTime": {
     "end_time": "2020-07-19T05:56:32.714515Z",
     "start_time": "2020-07-19T05:56:32.381439Z"
    }
   },
   "outputs": [],
   "source": [
    "count_vec = CountVectorizer(dtype = np.float32,min_df=30)\n",
    "#tfidf_vec = TfidfVectorizer(dtype = np.float32,min_df=30)"
   ]
  },
  {
   "cell_type": "code",
   "execution_count": 26,
   "metadata": {
    "ExecuteTime": {
     "end_time": "2020-07-19T06:03:55.101926Z",
     "start_time": "2020-07-19T05:56:38.426659Z"
    }
   },
   "outputs": [],
   "source": [
    "count_vector_all = count_vec.fit_transform(cre_list)"
   ]
  },
  {
   "cell_type": "code",
   "execution_count": 27,
   "metadata": {
    "ExecuteTime": {
     "end_time": "2020-07-19T06:04:00.725292Z",
     "start_time": "2020-07-19T06:04:00.721269Z"
    }
   },
   "outputs": [
    {
     "data": {
      "text/plain": [
       "(4000000, 30113)"
      ]
     },
     "execution_count": 27,
     "metadata": {},
     "output_type": "execute_result"
    }
   ],
   "source": [
    "count_vector_all.shape"
   ]
  },
  {
   "cell_type": "code",
   "execution_count": 28,
   "metadata": {
    "ExecuteTime": {
     "end_time": "2020-07-19T06:22:08.192907Z",
     "start_time": "2020-07-19T06:04:06.281573Z"
    }
   },
   "outputs": [
    {
     "name": "stdout",
     "output_type": "stream",
     "text": [
      "fold_1*********************************************\n",
      "train go\n",
      "fold 1 得分：0.37199166666666666 Cost time: 201\n",
      "fold_2*********************************************\n",
      "train go\n",
      "fold 2 得分：0.372595 Cost time: 208\n",
      "fold_3*********************************************\n",
      "train go\n",
      "fold 3 得分：0.3701216666666667 Cost time: 203\n",
      "fold_4*********************************************\n",
      "train go\n",
      "fold 4 得分：0.373635 Cost time: 205\n",
      "fold_5*********************************************\n",
      "train go\n",
      "fold 5 得分：0.37234666666666666 Cost time: 209\n",
      "Mean Accuracy: 0.37213799999999997\n"
     ]
    }
   ],
   "source": [
    "kf = KFold(n_splits=5,shuffle=True,random_state=47)\n",
    "\n",
    "y_train_age = user['age']\n",
    "y_train_gender = user['gender']\n",
    "\n",
    "X_train = count_vector_all[:3000000]\n",
    "X_test = count_vector_all[3000000:]\n",
    "\n",
    "k = 1\n",
    "pred_gender = 0\n",
    "y_train_pred = np.zeros((3000000,10))\n",
    "score_list = []\n",
    "for train_index,test_index in kf.split(X_train,y_train_age):\n",
    "    \n",
    "    start = time.time()\n",
    "    print(f'fold_{k}*********************************************')\n",
    "    k+=1\n",
    "    X_train2 = X_train[train_index,:]\n",
    "    y_train2 = y_train_age.iloc[train_index]\n",
    "    X_test2 = X_train[test_index,:]\n",
    "    y_test2 = y_train_age.iloc[test_index]\n",
    "    \n",
    "    clf = LogisticRegression(random_state=47,n_jobs=8)\n",
    "    print('train go')\n",
    "    clf.fit(X_train2,y_train2)\n",
    "    end = time.time()\n",
    "    \n",
    "    y_train_pred[test_index] = clf.predict_proba(X_test2)\n",
    "    tmp_score = accuracy_score(y_test2,clf.predict(X_test2))\n",
    "    pred_gender += clf.predict_proba(X_test)/kf.n_splits\n",
    "    \n",
    "    score_list.append(tmp_score)\n",
    "    print(f'fold {k-1} 得分：{tmp_score}','Cost time:',round(end-start))\n",
    "    gc.collect()\n",
    "print('Mean Accuracy:',np.mean(score_list))"
   ]
  },
  {
   "cell_type": "code",
   "execution_count": 29,
   "metadata": {
    "ExecuteTime": {
     "end_time": "2020-07-19T06:22:15.302319Z",
     "start_time": "2020-07-19T06:22:13.368880Z"
    }
   },
   "outputs": [],
   "source": [
    "pd.DataFrame(y_train_pred).to_pickle('tf-idf-count/logistic_count_oof_adv.pkl')\n",
    "pd.DataFrame(pred_gender).to_pickle('tf-idf-count/logistic_count_pred_adv.pkl')"
   ]
  },
  {
   "cell_type": "code",
   "execution_count": 30,
   "metadata": {
    "ExecuteTime": {
     "end_time": "2020-07-19T06:25:15.639958Z",
     "start_time": "2020-07-19T06:22:20.375997Z"
    }
   },
   "outputs": [
    {
     "name": "stdout",
     "output_type": "stream",
     "text": [
      "fold_1*********************************************\n",
      "train go\n",
      "fold 1 得分：0.3680866666666667 Cost time: 24\n",
      "fold_2*********************************************\n",
      "train go\n",
      "fold 2 得分：0.368085 Cost time: 24\n",
      "fold_3*********************************************\n",
      "train go\n",
      "fold 3 得分：0.36628666666666665 Cost time: 24\n",
      "fold_4*********************************************\n",
      "train go\n",
      "fold 4 得分：0.3687566666666667 Cost time: 26\n",
      "fold_5*********************************************\n",
      "train go\n",
      "fold 5 得分：0.36477166666666666 Cost time: 23\n",
      "Mean Accuracy: 0.3671973333333333\n"
     ]
    }
   ],
   "source": [
    "kf = KFold(n_splits=5,shuffle=True,random_state=47)\n",
    "\n",
    "y_train_age = user['age']\n",
    "y_train_gender = user['gender']\n",
    "\n",
    "X_train = count_vector_all[:3000000]\n",
    "X_test = count_vector_all[3000000:]\n",
    "\n",
    "k = 1\n",
    "pred_gender = 0\n",
    "y_train_pred = np.zeros((3000000,10))\n",
    "score_list = []\n",
    "for train_index,test_index in kf.split(X_train,y_train_age):\n",
    "    \n",
    "    start = time.time()\n",
    "    print(f'fold_{k}*********************************************')\n",
    "    k+=1\n",
    "    X_train2 = X_train[train_index,:]\n",
    "    y_train2 = y_train_age.iloc[train_index]\n",
    "    X_test2 = X_train[test_index,:]\n",
    "    y_test2 = y_train_age.iloc[test_index]\n",
    "    \n",
    "    clf = SGDClassifier(random_state=47,loss='log',n_jobs = 8)\n",
    "    print('train go')\n",
    "    clf.fit(X_train2,y_train2)\n",
    "    end = time.time()\n",
    "    \n",
    "    y_train_pred[test_index] = clf.predict_proba(X_test2)\n",
    "    tmp_score = accuracy_score(y_test2,clf.predict(X_test2))\n",
    "    pred_gender += clf.predict_proba(X_test)/kf.n_splits\n",
    "    \n",
    "    score_list.append(tmp_score)\n",
    "    print(f'fold {k-1} 得分：{tmp_score}','Cost time:',round(end-start))\n",
    "    gc.collect()\n",
    "print('Mean Accuracy:',np.mean(score_list))"
   ]
  },
  {
   "cell_type": "code",
   "execution_count": 31,
   "metadata": {
    "ExecuteTime": {
     "end_time": "2020-07-19T06:25:22.788092Z",
     "start_time": "2020-07-19T06:25:20.771638Z"
    }
   },
   "outputs": [],
   "source": [
    "pd.DataFrame(y_train_pred).to_pickle('tf-idf-count/SGDClassifier_count_oof_adv.pkl')\n",
    "pd.DataFrame(pred_gender).to_pickle('tf-idf-count/SGDClassifier_count_pred_adv.pkl')"
   ]
  },
  {
   "cell_type": "code",
   "execution_count": 32,
   "metadata": {
    "ExecuteTime": {
     "end_time": "2020-07-19T06:26:31.291988Z",
     "start_time": "2020-07-19T06:25:27.858673Z"
    }
   },
   "outputs": [
    {
     "name": "stdout",
     "output_type": "stream",
     "text": [
      "fold_1*********************************************\n",
      "train go\n",
      "fold 1 得分：0.33594833333333335 Cost time: 2\n",
      "fold_2*********************************************\n",
      "train go\n",
      "fold 2 得分：0.3363566666666667 Cost time: 2\n",
      "fold_3*********************************************\n",
      "train go\n",
      "fold 3 得分：0.33575666666666665 Cost time: 2\n",
      "fold_4*********************************************\n",
      "train go\n",
      "fold 4 得分：0.337405 Cost time: 2\n",
      "fold_5*********************************************\n",
      "train go\n",
      "fold 5 得分：0.33641 Cost time: 2\n",
      "Mean Accuracy: 0.33637533333333336\n"
     ]
    }
   ],
   "source": [
    "kf = KFold(n_splits=5,shuffle=True,random_state=47)\n",
    "\n",
    "y_train_age = user['age']\n",
    "y_train_gender = user['gender']\n",
    "\n",
    "X_train = count_vector_all[:3000000]\n",
    "X_test = count_vector_all[3000000:]\n",
    "\n",
    "k = 1\n",
    "pred_gender = 0\n",
    "y_train_pred = np.zeros((3000000,10))\n",
    "score_list = []\n",
    "for train_index,test_index in kf.split(X_train,y_train_age):\n",
    "    \n",
    "    start = time.time()\n",
    "    print(f'fold_{k}*********************************************')\n",
    "    k+=1\n",
    "    X_train2 = X_train[train_index,:]\n",
    "    y_train2 = y_train_age.iloc[train_index]\n",
    "    X_test2 = X_train[test_index,:]\n",
    "    y_test2 = y_train_age.iloc[test_index]\n",
    "    \n",
    "    clf = MultinomialNB()\n",
    "    print('train go')\n",
    "    clf.fit(X_train2,y_train2)\n",
    "    end = time.time()\n",
    "    \n",
    "    y_train_pred[test_index] = clf.predict_proba(X_test2)\n",
    "    tmp_score = accuracy_score(y_test2,clf.predict(X_test2))\n",
    "    pred_gender += clf.predict_proba(X_test)/kf.n_splits\n",
    "    \n",
    "    score_list.append(tmp_score)\n",
    "    print(f'fold {k-1} 得分：{tmp_score}','Cost time:',round(end-start))\n",
    "    gc.collect()\n",
    "print('Mean Accuracy:',np.mean(score_list))"
   ]
  },
  {
   "cell_type": "code",
   "execution_count": 33,
   "metadata": {
    "ExecuteTime": {
     "end_time": "2020-07-19T06:26:38.414624Z",
     "start_time": "2020-07-19T06:26:36.422175Z"
    }
   },
   "outputs": [],
   "source": [
    "pd.DataFrame(y_train_pred).to_pickle('tf-idf-count/multinNB_count_oof_adv.pkl')\n",
    "pd.DataFrame(pred_gender).to_pickle('tf-idf-count/multinNB_count_pred_adv.pkl')"
   ]
  },
  {
   "cell_type": "code",
   "execution_count": 34,
   "metadata": {
    "ExecuteTime": {
     "end_time": "2020-07-19T06:27:50.403549Z",
     "start_time": "2020-07-19T06:26:43.540255Z"
    }
   },
   "outputs": [
    {
     "name": "stdout",
     "output_type": "stream",
     "text": [
      "fold_1*********************************************\n",
      "train go\n",
      "fold 1 得分：0.3551783333333333 Cost time: 2\n",
      "fold_2*********************************************\n",
      "train go\n",
      "fold 2 得分：0.35695333333333334 Cost time: 2\n",
      "fold_3*********************************************\n",
      "train go\n",
      "fold 3 得分：0.35611 Cost time: 2\n",
      "fold_4*********************************************\n",
      "train go\n",
      "fold 4 得分：0.3565833333333333 Cost time: 2\n",
      "fold_5*********************************************\n",
      "train go\n",
      "fold 5 得分：0.35610166666666665 Cost time: 2\n",
      "Mean Accuracy: 0.35618533333333324\n"
     ]
    }
   ],
   "source": [
    "kf = KFold(n_splits=5,shuffle=True,random_state=47)\n",
    "\n",
    "y_train_age = user['age']\n",
    "y_train_gender = user['gender']\n",
    "\n",
    "X_train = count_vector_all[:3000000]\n",
    "X_test = count_vector_all[3000000:]\n",
    "\n",
    "k = 1\n",
    "pred_gender = 0\n",
    "y_train_pred = np.zeros((3000000,10))\n",
    "score_list = []\n",
    "for train_index,test_index in kf.split(X_train,y_train_age):\n",
    "    \n",
    "    start = time.time()\n",
    "    print(f'fold_{k}*********************************************')\n",
    "    k+=1\n",
    "    X_train2 = X_train[train_index,:]\n",
    "    y_train2 = y_train_age.iloc[train_index]\n",
    "    X_test2 = X_train[test_index,:]\n",
    "    y_test2 = y_train_age.iloc[test_index]\n",
    "    \n",
    "    clf = BernoulliNB()\n",
    "    print('train go')\n",
    "    clf.fit(X_train2,y_train2)\n",
    "    end = time.time()\n",
    "    \n",
    "    y_train_pred[test_index] = clf.predict_proba(X_test2)\n",
    "    tmp_score = accuracy_score(y_test2,clf.predict(X_test2))\n",
    "    pred_gender += clf.predict_proba(X_test)/kf.n_splits\n",
    "    \n",
    "    score_list.append(tmp_score)\n",
    "    print(f'fold {k-1} 得分：{tmp_score}','Cost time:',round(end-start))\n",
    "    gc.collect()\n",
    "print('Mean Accuracy:',np.mean(score_list))"
   ]
  },
  {
   "cell_type": "code",
   "execution_count": 35,
   "metadata": {
    "ExecuteTime": {
     "end_time": "2020-07-19T06:27:57.496895Z",
     "start_time": "2020-07-19T06:27:55.523144Z"
    }
   },
   "outputs": [],
   "source": [
    "pd.DataFrame(y_train_pred).to_pickle('tf-idf-count/BernoulliNB_count_oof_adv.pkl')\n",
    "pd.DataFrame(pred_gender).to_pickle('tf-idf-count/BernoulliNB_count_pred_adv.pkl')"
   ]
  },
  {
   "cell_type": "code",
   "execution_count": 36,
   "metadata": {
    "ExecuteTime": {
     "end_time": "2020-07-19T06:35:35.636224Z",
     "start_time": "2020-07-19T06:28:02.636079Z"
    }
   },
   "outputs": [
    {
     "name": "stdout",
     "output_type": "stream",
     "text": [
      "fold_1*********************************************\n",
      "train go\n",
      "fold 1 得分：0.2685383333333333 Cost time: 77\n",
      "fold_2*********************************************\n",
      "train go\n"
     ]
    },
    {
     "name": "stderr",
     "output_type": "stream",
     "text": [
      "C:\\ProgramData\\Anaconda3\\envs\\tensorflow\\lib\\site-packages\\sklearn\\linear_model\\_base.py:313: RuntimeWarning: invalid value encountered in true_divide\n",
      "  prob /= prob.sum(axis=1).reshape((prob.shape[0], -1))\n"
     ]
    },
    {
     "name": "stdout",
     "output_type": "stream",
     "text": [
      "fold 2 得分：0.28585 Cost time: 79\n",
      "fold_3*********************************************\n",
      "train go\n",
      "fold 3 得分：0.28644 Cost time: 75\n",
      "fold_4*********************************************\n",
      "train go\n",
      "fold 4 得分：0.2748566666666667 Cost time: 79\n",
      "fold_5*********************************************\n",
      "train go\n",
      "fold 5 得分：0.2897516666666667 Cost time: 90\n",
      "Mean Accuracy: 0.28108733333333336\n"
     ]
    }
   ],
   "source": [
    "kf = KFold(n_splits=5,shuffle=True,random_state=47)\n",
    "\n",
    "y_train_age = user['age']\n",
    "y_train_gender = user['gender']\n",
    "\n",
    "X_train = count_vector_all[:3000000]\n",
    "X_test = count_vector_all[3000000:]\n",
    "\n",
    "k = 1\n",
    "pred_gender = 0\n",
    "y_train_pred = np.zeros((3000000,10))\n",
    "score_list = []\n",
    "for train_index,test_index in kf.split(X_train,y_train_age):\n",
    "    \n",
    "    start = time.time()\n",
    "    print(f'fold_{k}*********************************************')\n",
    "    k+=1\n",
    "    X_train2 = X_train[train_index,:]\n",
    "    y_train2 = y_train_age.iloc[train_index]\n",
    "    X_test2 = X_train[test_index,:]\n",
    "    y_test2 = y_train_age.iloc[test_index]\n",
    "    \n",
    "    clf = PassiveAggressiveClassifier(random_state=1017)\n",
    "    print('train go')\n",
    "    clf.fit(X_train2,y_train2)\n",
    "    end = time.time()\n",
    "    \n",
    "    y_train_pred[test_index] = clf._predict_proba_lr(X_test2)\n",
    "    tmp_score = accuracy_score(y_test2,clf.predict(X_test2))\n",
    "    pred_gender += clf._predict_proba_lr(X_test)/kf.n_splits\n",
    "    \n",
    "    score_list.append(tmp_score)\n",
    "    print(f'fold {k-1} 得分：{tmp_score}','Cost time:',round(end-start))\n",
    "    gc.collect()\n",
    "print('Mean Accuracy:',np.mean(score_list))"
   ]
  },
  {
   "cell_type": "code",
   "execution_count": 37,
   "metadata": {
    "ExecuteTime": {
     "end_time": "2020-07-19T06:35:42.891201Z",
     "start_time": "2020-07-19T06:35:40.839928Z"
    }
   },
   "outputs": [],
   "source": [
    "pd.DataFrame(y_train_pred).to_pickle('tf-idf-count/pac_count_oof_adv.pkl')\n",
    "pd.DataFrame(pred_gender).to_pickle('tf-idf-count/pac_count_pred_adv.pkl')"
   ]
  },
  {
   "cell_type": "markdown",
   "metadata": {},
   "source": [
    "#### list_prod_id"
   ]
  },
  {
   "cell_type": "code",
   "execution_count": 38,
   "metadata": {
    "ExecuteTime": {
     "end_time": "2020-07-19T06:35:58.633498Z",
     "start_time": "2020-07-19T06:35:48.048150Z"
    }
   },
   "outputs": [],
   "source": [
    "cre_list = df_bag['list_product_id'].apply(lambda x: str(x).replace('[','').replace(']','').replace(',',' '))"
   ]
  },
  {
   "cell_type": "code",
   "execution_count": 39,
   "metadata": {
    "ExecuteTime": {
     "end_time": "2020-07-19T06:36:03.788337Z",
     "start_time": "2020-07-19T06:36:03.781331Z"
    }
   },
   "outputs": [],
   "source": [
    "count_vec = CountVectorizer(dtype = np.float32,min_df=30)\n",
    "#tfidf_vec = TfidfVectorizer(dtype = np.float32,min_df=30)"
   ]
  },
  {
   "cell_type": "code",
   "execution_count": 40,
   "metadata": {
    "ExecuteTime": {
     "end_time": "2020-07-19T06:37:11.968958Z",
     "start_time": "2020-07-19T06:36:08.867304Z"
    }
   },
   "outputs": [],
   "source": [
    "count_vector_all = count_vec.fit_transform(cre_list)"
   ]
  },
  {
   "cell_type": "code",
   "execution_count": 41,
   "metadata": {
    "ExecuteTime": {
     "end_time": "2020-07-19T06:37:16.172995Z",
     "start_time": "2020-07-19T06:37:16.170994Z"
    }
   },
   "outputs": [
    {
     "data": {
      "text/plain": [
       "(4000000, 14203)"
      ]
     },
     "execution_count": 41,
     "metadata": {},
     "output_type": "execute_result"
    }
   ],
   "source": [
    "count_vector_all.shape"
   ]
  },
  {
   "cell_type": "code",
   "execution_count": 42,
   "metadata": {
    "ExecuteTime": {
     "end_time": "2020-07-19T06:51:38.113328Z",
     "start_time": "2020-07-19T06:37:20.408547Z"
    }
   },
   "outputs": [
    {
     "name": "stdout",
     "output_type": "stream",
     "text": [
      "fold_1*********************************************\n",
      "train go\n",
      "fold 1 得分：0.291315 Cost time: 163\n",
      "fold_2*********************************************\n",
      "train go\n",
      "fold 2 得分：0.29275 Cost time: 160\n",
      "fold_3*********************************************\n",
      "train go\n",
      "fold 3 得分：0.29241 Cost time: 160\n",
      "fold_4*********************************************\n",
      "train go\n",
      "fold 4 得分：0.29373 Cost time: 161\n",
      "fold_5*********************************************\n",
      "train go\n",
      "fold 5 得分：0.2908616666666667 Cost time: 161\n",
      "Mean Accuracy: 0.2922133333333334\n"
     ]
    }
   ],
   "source": [
    "kf = KFold(n_splits=5,shuffle=True,random_state=47)\n",
    "\n",
    "y_train_age = user['age']\n",
    "y_train_gender = user['gender']\n",
    "\n",
    "X_train = count_vector_all[:3000000]\n",
    "X_test = count_vector_all[3000000:]\n",
    "\n",
    "k = 1\n",
    "pred_gender = 0\n",
    "y_train_pred = np.zeros((3000000,10))\n",
    "score_list = []\n",
    "for train_index,test_index in kf.split(X_train,y_train_age):\n",
    "    \n",
    "    start = time.time()\n",
    "    print(f'fold_{k}*********************************************')\n",
    "    k+=1\n",
    "    X_train2 = X_train[train_index,:]\n",
    "    y_train2 = y_train_age.iloc[train_index]\n",
    "    X_test2 = X_train[test_index,:]\n",
    "    y_test2 = y_train_age.iloc[test_index]\n",
    "    \n",
    "    clf = LogisticRegression(random_state=47,n_jobs=8)\n",
    "    print('train go')\n",
    "    clf.fit(X_train2,y_train2)\n",
    "    end = time.time()\n",
    "    \n",
    "    y_train_pred[test_index] = clf.predict_proba(X_test2)\n",
    "    tmp_score = accuracy_score(y_test2,clf.predict(X_test2))\n",
    "    pred_gender += clf.predict_proba(X_test)/kf.n_splits\n",
    "    \n",
    "    score_list.append(tmp_score)\n",
    "    print(f'fold {k-1} 得分：{tmp_score}','Cost time:',round(end-start))\n",
    "    gc.collect()\n",
    "print('Mean Accuracy:',np.mean(score_list))"
   ]
  },
  {
   "cell_type": "code",
   "execution_count": 43,
   "metadata": {
    "ExecuteTime": {
     "end_time": "2020-07-19T06:51:42.644370Z",
     "start_time": "2020-07-19T06:51:40.634906Z"
    }
   },
   "outputs": [],
   "source": [
    "pd.DataFrame(y_train_pred).to_pickle('tf-idf-count/logistic_count_oof_prod.pkl')\n",
    "pd.DataFrame(pred_gender).to_pickle('tf-idf-count/logistic_count_pred_prod.pkl')"
   ]
  },
  {
   "cell_type": "code",
   "execution_count": 44,
   "metadata": {
    "ExecuteTime": {
     "end_time": "2020-07-19T06:54:31.394224Z",
     "start_time": "2020-07-19T06:51:45.146010Z"
    }
   },
   "outputs": [
    {
     "name": "stdout",
     "output_type": "stream",
     "text": [
      "fold_1*********************************************\n",
      "train go\n",
      "fold 1 得分：0.29054833333333335 Cost time: 21\n",
      "fold_2*********************************************\n",
      "train go\n",
      "fold 2 得分：0.2923 Cost time: 28\n",
      "fold_3*********************************************\n",
      "train go\n",
      "fold 3 得分：0.2872133333333333 Cost time: 21\n",
      "fold_4*********************************************\n",
      "train go\n",
      "fold 4 得分：0.2908766666666667 Cost time: 24\n",
      "fold_5*********************************************\n",
      "train go\n",
      "fold 5 得分：0.28815666666666667 Cost time: 21\n",
      "Mean Accuracy: 0.289819\n"
     ]
    }
   ],
   "source": [
    "kf = KFold(n_splits=5,shuffle=True,random_state=47)\n",
    "\n",
    "y_train_age = user['age']\n",
    "y_train_gender = user['gender']\n",
    "\n",
    "X_train = count_vector_all[:3000000]\n",
    "X_test = count_vector_all[3000000:]\n",
    "\n",
    "k = 1\n",
    "pred_gender = 0\n",
    "y_train_pred = np.zeros((3000000,10))\n",
    "score_list = []\n",
    "for train_index,test_index in kf.split(X_train,y_train_age):\n",
    "    \n",
    "    start = time.time()\n",
    "    print(f'fold_{k}*********************************************')\n",
    "    k+=1\n",
    "    X_train2 = X_train[train_index,:]\n",
    "    y_train2 = y_train_age.iloc[train_index]\n",
    "    X_test2 = X_train[test_index,:]\n",
    "    y_test2 = y_train_age.iloc[test_index]\n",
    "    \n",
    "    clf = SGDClassifier(random_state=47,loss='log',n_jobs = 8)\n",
    "    print('train go')\n",
    "    clf.fit(X_train2,y_train2)\n",
    "    end = time.time()\n",
    "    \n",
    "    y_train_pred[test_index] = clf.predict_proba(X_test2)\n",
    "    tmp_score = accuracy_score(y_test2,clf.predict(X_test2))\n",
    "    pred_gender += clf.predict_proba(X_test)/kf.n_splits\n",
    "    \n",
    "    score_list.append(tmp_score)\n",
    "    print(f'fold {k-1} 得分：{tmp_score}','Cost time:',round(end-start))\n",
    "    gc.collect()\n",
    "print('Mean Accuracy:',np.mean(score_list))"
   ]
  },
  {
   "cell_type": "code",
   "execution_count": 45,
   "metadata": {
    "ExecuteTime": {
     "end_time": "2020-07-19T06:54:35.997772Z",
     "start_time": "2020-07-19T06:54:33.908298Z"
    }
   },
   "outputs": [],
   "source": [
    "pd.DataFrame(y_train_pred).to_pickle('tf-idf-count/SGDClassifier_count_oof_prod.pkl')\n",
    "pd.DataFrame(pred_gender).to_pickle('tf-idf-count/SGDClassifier_count_pred_prod.pkl')"
   ]
  },
  {
   "cell_type": "code",
   "execution_count": 46,
   "metadata": {
    "ExecuteTime": {
     "end_time": "2020-07-19T06:55:37.711556Z",
     "start_time": "2020-07-19T06:54:38.550851Z"
    }
   },
   "outputs": [
    {
     "name": "stdout",
     "output_type": "stream",
     "text": [
      "fold_1*********************************************\n",
      "train go\n",
      "fold 1 得分：0.260585 Cost time: 1\n",
      "fold_2*********************************************\n",
      "train go\n",
      "fold 2 得分：0.26074833333333336 Cost time: 1\n",
      "fold_3*********************************************\n",
      "train go\n",
      "fold 3 得分：0.259875 Cost time: 1\n",
      "fold_4*********************************************\n",
      "train go\n",
      "fold 4 得分：0.2615766666666667 Cost time: 1\n",
      "fold_5*********************************************\n",
      "train go\n",
      "fold 5 得分：0.260605 Cost time: 1\n",
      "Mean Accuracy: 0.2606780000000001\n"
     ]
    }
   ],
   "source": [
    "kf = KFold(n_splits=5,shuffle=True,random_state=47)\n",
    "\n",
    "y_train_age = user['age']\n",
    "y_train_gender = user['gender']\n",
    "\n",
    "X_train = count_vector_all[:3000000]\n",
    "X_test = count_vector_all[3000000:]\n",
    "\n",
    "k = 1\n",
    "pred_gender = 0\n",
    "y_train_pred = np.zeros((3000000,10))\n",
    "score_list = []\n",
    "for train_index,test_index in kf.split(X_train,y_train_age):\n",
    "    \n",
    "    start = time.time()\n",
    "    print(f'fold_{k}*********************************************')\n",
    "    k+=1\n",
    "    X_train2 = X_train[train_index,:]\n",
    "    y_train2 = y_train_age.iloc[train_index]\n",
    "    X_test2 = X_train[test_index,:]\n",
    "    y_test2 = y_train_age.iloc[test_index]\n",
    "    \n",
    "    clf = MultinomialNB()\n",
    "    print('train go')\n",
    "    clf.fit(X_train2,y_train2)\n",
    "    end = time.time()\n",
    "    \n",
    "    y_train_pred[test_index] = clf.predict_proba(X_test2)\n",
    "    tmp_score = accuracy_score(y_test2,clf.predict(X_test2))\n",
    "    pred_gender += clf.predict_proba(X_test)/kf.n_splits\n",
    "    \n",
    "    score_list.append(tmp_score)\n",
    "    print(f'fold {k-1} 得分：{tmp_score}','Cost time:',round(end-start))\n",
    "    gc.collect()\n",
    "print('Mean Accuracy:',np.mean(score_list))"
   ]
  },
  {
   "cell_type": "code",
   "execution_count": 47,
   "metadata": {
    "ExecuteTime": {
     "end_time": "2020-07-19T06:55:42.187719Z",
     "start_time": "2020-07-19T06:55:40.287291Z"
    }
   },
   "outputs": [],
   "source": [
    "pd.DataFrame(y_train_pred).to_pickle('tf-idf-count/multinNB_count_oof_prod.pkl')\n",
    "pd.DataFrame(pred_gender).to_pickle('tf-idf-count/multinNB_count_pred_prod.pkl')"
   ]
  },
  {
   "cell_type": "code",
   "execution_count": 48,
   "metadata": {
    "ExecuteTime": {
     "end_time": "2020-07-19T06:56:46.025533Z",
     "start_time": "2020-07-19T06:55:44.716845Z"
    }
   },
   "outputs": [
    {
     "name": "stdout",
     "output_type": "stream",
     "text": [
      "fold_1*********************************************\n",
      "train go\n",
      "fold 1 得分：0.2841266666666667 Cost time: 1\n",
      "fold_2*********************************************\n",
      "train go\n",
      "fold 2 得分：0.28441833333333333 Cost time: 1\n",
      "fold_3*********************************************\n",
      "train go\n",
      "fold 3 得分：0.28264333333333336 Cost time: 1\n",
      "fold_4*********************************************\n",
      "train go\n",
      "fold 4 得分：0.28433166666666665 Cost time: 1\n",
      "fold_5*********************************************\n",
      "train go\n",
      "fold 5 得分：0.2832983333333333 Cost time: 1\n",
      "Mean Accuracy: 0.28376366666666664\n"
     ]
    }
   ],
   "source": [
    "kf = KFold(n_splits=5,shuffle=True,random_state=47)\n",
    "\n",
    "y_train_age = user['age']\n",
    "y_train_gender = user['gender']\n",
    "\n",
    "X_train = count_vector_all[:3000000]\n",
    "X_test = count_vector_all[3000000:]\n",
    "\n",
    "k = 1\n",
    "pred_gender = 0\n",
    "y_train_pred = np.zeros((3000000,10))\n",
    "score_list = []\n",
    "for train_index,test_index in kf.split(X_train,y_train_age):\n",
    "    \n",
    "    start = time.time()\n",
    "    print(f'fold_{k}*********************************************')\n",
    "    k+=1\n",
    "    X_train2 = X_train[train_index,:]\n",
    "    y_train2 = y_train_age.iloc[train_index]\n",
    "    X_test2 = X_train[test_index,:]\n",
    "    y_test2 = y_train_age.iloc[test_index]\n",
    "    \n",
    "    clf = BernoulliNB()\n",
    "    print('train go')\n",
    "    clf.fit(X_train2,y_train2)\n",
    "    end = time.time()\n",
    "    \n",
    "    y_train_pred[test_index] = clf.predict_proba(X_test2)\n",
    "    tmp_score = accuracy_score(y_test2,clf.predict(X_test2))\n",
    "    pred_gender += clf.predict_proba(X_test)/kf.n_splits\n",
    "    \n",
    "    score_list.append(tmp_score)\n",
    "    print(f'fold {k-1} 得分：{tmp_score}','Cost time:',round(end-start))\n",
    "    gc.collect()\n",
    "print('Mean Accuracy:',np.mean(score_list))"
   ]
  },
  {
   "cell_type": "code",
   "execution_count": 49,
   "metadata": {
    "ExecuteTime": {
     "end_time": "2020-07-19T06:56:50.596593Z",
     "start_time": "2020-07-19T06:56:48.562135Z"
    }
   },
   "outputs": [],
   "source": [
    "pd.DataFrame(y_train_pred).to_pickle('tf-idf-count/BernoulliNB_count_oof_prod.pkl')\n",
    "pd.DataFrame(pred_gender).to_pickle('tf-idf-count/BernoulliNB_count_pred_prod.pkl')"
   ]
  },
  {
   "cell_type": "code",
   "execution_count": 50,
   "metadata": {
    "ExecuteTime": {
     "end_time": "2020-07-19T07:02:40.929101Z",
     "start_time": "2020-07-19T06:56:53.145184Z"
    }
   },
   "outputs": [
    {
     "name": "stdout",
     "output_type": "stream",
     "text": [
      "fold_1*********************************************\n",
      "train go\n",
      "fold 1 得分：0.21631666666666666 Cost time: 56\n",
      "fold_2*********************************************\n",
      "train go\n",
      "fold 2 得分：0.226775 Cost time: 62\n",
      "fold_3*********************************************\n",
      "train go\n",
      "fold 3 得分：0.20886166666666667 Cost time: 70\n",
      "fold_4*********************************************\n",
      "train go\n"
     ]
    },
    {
     "name": "stderr",
     "output_type": "stream",
     "text": [
      "C:\\ProgramData\\Anaconda3\\envs\\tensorflow\\lib\\site-packages\\sklearn\\linear_model\\_base.py:313: RuntimeWarning: invalid value encountered in true_divide\n",
      "  prob /= prob.sum(axis=1).reshape((prob.shape[0], -1))\n"
     ]
    },
    {
     "name": "stdout",
     "output_type": "stream",
     "text": [
      "fold 4 得分：0.21067 Cost time: 56\n",
      "fold_5*********************************************\n",
      "train go\n",
      "fold 5 得分：0.19653833333333334 Cost time: 52\n",
      "Mean Accuracy: 0.21183233333333334\n"
     ]
    }
   ],
   "source": [
    "kf = KFold(n_splits=5,shuffle=True,random_state=47)\n",
    "\n",
    "y_train_age = user['age']\n",
    "y_train_gender = user['gender']\n",
    "\n",
    "X_train = count_vector_all[:3000000]\n",
    "X_test = count_vector_all[3000000:]\n",
    "\n",
    "k = 1\n",
    "pred_gender = 0\n",
    "y_train_pred = np.zeros((3000000,10))\n",
    "score_list = []\n",
    "for train_index,test_index in kf.split(X_train,y_train_age):\n",
    "    \n",
    "    start = time.time()\n",
    "    print(f'fold_{k}*********************************************')\n",
    "    k+=1\n",
    "    X_train2 = X_train[train_index,:]\n",
    "    y_train2 = y_train_age.iloc[train_index]\n",
    "    X_test2 = X_train[test_index,:]\n",
    "    y_test2 = y_train_age.iloc[test_index]\n",
    "    \n",
    "    clf = PassiveAggressiveClassifier(random_state=1017)\n",
    "    print('train go')\n",
    "    clf.fit(X_train2,y_train2)\n",
    "    end = time.time()\n",
    "    \n",
    "    y_train_pred[test_index] = clf._predict_proba_lr(X_test2)\n",
    "    tmp_score = accuracy_score(y_test2,clf.predict(X_test2))\n",
    "    pred_gender += clf._predict_proba_lr(X_test)/kf.n_splits\n",
    "    \n",
    "    score_list.append(tmp_score)\n",
    "    print(f'fold {k-1} 得分：{tmp_score}','Cost time:',round(end-start))\n",
    "    gc.collect()\n",
    "print('Mean Accuracy:',np.mean(score_list))"
   ]
  },
  {
   "cell_type": "code",
   "execution_count": 51,
   "metadata": {
    "ExecuteTime": {
     "end_time": "2020-07-19T07:02:45.371654Z",
     "start_time": "2020-07-19T07:02:43.460224Z"
    }
   },
   "outputs": [],
   "source": [
    "pd.DataFrame(y_train_pred).to_pickle('tf-idf-count/pac_count_oof_prod.pkl')\n",
    "pd.DataFrame(pred_gender).to_pickle('tf-idf-count/pac_count_pred_prod.pkl')"
   ]
  },
  {
   "cell_type": "markdown",
   "metadata": {},
   "source": [
    "### tfidf"
   ]
  },
  {
   "cell_type": "markdown",
   "metadata": {},
   "source": [
    "#### creative_id"
   ]
  },
  {
   "cell_type": "code",
   "execution_count": 52,
   "metadata": {
    "ExecuteTime": {
     "end_time": "2020-07-19T07:03:04.505518Z",
     "start_time": "2020-07-19T07:02:47.919247Z"
    }
   },
   "outputs": [],
   "source": [
    "cre_list = df_bag['list_creative_id'].apply(lambda x: str(x).replace('[','').replace(']','').replace(',',' '))"
   ]
  },
  {
   "cell_type": "code",
   "execution_count": 53,
   "metadata": {
    "ExecuteTime": {
     "end_time": "2020-07-19T07:03:07.063210Z",
     "start_time": "2020-07-19T07:03:07.057209Z"
    }
   },
   "outputs": [],
   "source": [
    "count_vec = TfidfVectorizer(dtype = np.float32,min_df=30)\n",
    "#tfidf_vec = TfidfVectorizer(dtype = np.float32,min_df=30)"
   ]
  },
  {
   "cell_type": "code",
   "execution_count": 54,
   "metadata": {
    "ExecuteTime": {
     "end_time": "2020-07-19T07:06:31.071802Z",
     "start_time": "2020-07-19T07:03:09.612798Z"
    }
   },
   "outputs": [],
   "source": [
    "count_vector_all = count_vec.fit_transform(cre_list)"
   ]
  },
  {
   "cell_type": "code",
   "execution_count": 55,
   "metadata": {
    "ExecuteTime": {
     "end_time": "2020-07-19T07:06:34.822154Z",
     "start_time": "2020-07-19T07:06:34.819152Z"
    }
   },
   "outputs": [
    {
     "data": {
      "text/plain": [
       "(4000000, 416682)"
      ]
     },
     "execution_count": 55,
     "metadata": {},
     "output_type": "execute_result"
    }
   ],
   "source": [
    "count_vector_all.shape"
   ]
  },
  {
   "cell_type": "code",
   "execution_count": 56,
   "metadata": {
    "ExecuteTime": {
     "end_time": "2020-07-19T07:56:07.206403Z",
     "start_time": "2020-07-19T07:06:38.541046Z"
    }
   },
   "outputs": [
    {
     "name": "stdout",
     "output_type": "stream",
     "text": [
      "fold_1*********************************************\n",
      "train go\n",
      "fold 1 得分：0.3700833333333333 Cost time: 528\n",
      "fold_2*********************************************\n",
      "train go\n",
      "fold 2 得分：0.36757 Cost time: 584\n",
      "fold_3*********************************************\n",
      "train go\n",
      "fold 3 得分：0.3670616666666667 Cost time: 601\n",
      "fold_4*********************************************\n",
      "train go\n",
      "fold 4 得分：0.36748166666666665 Cost time: 584\n",
      "fold_5*********************************************\n",
      "train go\n",
      "fold 5 得分：0.367625 Cost time: 609\n",
      "Mean Accuracy: 0.3679643333333333\n"
     ]
    }
   ],
   "source": [
    "kf = KFold(n_splits=5,shuffle=True,random_state=47)\n",
    "\n",
    "y_train_age = user['age']\n",
    "y_train_gender = user['gender']\n",
    "\n",
    "X_train = count_vector_all[:3000000]\n",
    "X_test = count_vector_all[3000000:]\n",
    "\n",
    "k = 1\n",
    "pred_gender = 0\n",
    "y_train_pred = np.zeros((3000000,10))\n",
    "score_list = []\n",
    "for train_index,test_index in kf.split(X_train,y_train_age):\n",
    "    \n",
    "    start = time.time()\n",
    "    print(f'fold_{k}*********************************************')\n",
    "    k+=1\n",
    "    X_train2 = X_train[train_index,:]\n",
    "    y_train2 = y_train_age.iloc[train_index]\n",
    "    X_test2 = X_train[test_index,:]\n",
    "    y_test2 = y_train_age.iloc[test_index]\n",
    "    \n",
    "    clf = LogisticRegression(random_state=47,n_jobs=8)\n",
    "    print('train go')\n",
    "    clf.fit(X_train2,y_train2)\n",
    "    end = time.time()\n",
    "    \n",
    "    y_train_pred[test_index] = clf.predict_proba(X_test2)\n",
    "    tmp_score = accuracy_score(y_test2,clf.predict(X_test2))\n",
    "    pred_gender += clf.predict_proba(X_test)/kf.n_splits\n",
    "    \n",
    "    score_list.append(tmp_score)\n",
    "    print(f'fold {k-1} 得分：{tmp_score}','Cost time:',round(end-start))\n",
    "    gc.collect()\n",
    "print('Mean Accuracy:',np.mean(score_list))"
   ]
  },
  {
   "cell_type": "code",
   "execution_count": 57,
   "metadata": {
    "ExecuteTime": {
     "end_time": "2020-07-19T07:56:14.930649Z",
     "start_time": "2020-07-19T07:56:12.931199Z"
    }
   },
   "outputs": [],
   "source": [
    "pd.DataFrame(y_train_pred).to_pickle('tf-idf-count/logistic_tfidf_oof.pkl')\n",
    "pd.DataFrame(pred_gender).to_pickle('tf-idf-count/logistic_tfidf_pred.pkl')"
   ]
  },
  {
   "cell_type": "code",
   "execution_count": 58,
   "metadata": {
    "ExecuteTime": {
     "end_time": "2020-07-19T07:58:56.864236Z",
     "start_time": "2020-07-19T07:56:20.563924Z"
    }
   },
   "outputs": [
    {
     "name": "stdout",
     "output_type": "stream",
     "text": [
      "fold_1*********************************************\n",
      "train go\n",
      "fold 1 得分：0.256275 Cost time: 20\n",
      "fold_2*********************************************\n",
      "train go\n",
      "fold 2 得分：0.25498666666666664 Cost time: 19\n",
      "fold_3*********************************************\n",
      "train go\n",
      "fold 3 得分：0.255035 Cost time: 19\n",
      "fold_4*********************************************\n",
      "train go\n",
      "fold 4 得分：0.2552833333333333 Cost time: 19\n",
      "fold_5*********************************************\n",
      "train go\n",
      "fold 5 得分：0.2552316666666667 Cost time: 20\n",
      "Mean Accuracy: 0.25536233333333336\n"
     ]
    }
   ],
   "source": [
    "kf = KFold(n_splits=5,shuffle=True,random_state=47)\n",
    "\n",
    "y_train_age = user['age']\n",
    "y_train_gender = user['gender']\n",
    "\n",
    "X_train = count_vector_all[:3000000]\n",
    "X_test = count_vector_all[3000000:]\n",
    "\n",
    "k = 1\n",
    "pred_gender = 0\n",
    "y_train_pred = np.zeros((3000000,10))\n",
    "score_list = []\n",
    "for train_index,test_index in kf.split(X_train,y_train_age):\n",
    "    \n",
    "    start = time.time()\n",
    "    print(f'fold_{k}*********************************************')\n",
    "    k+=1\n",
    "    X_train2 = X_train[train_index,:]\n",
    "    y_train2 = y_train_age.iloc[train_index]\n",
    "    X_test2 = X_train[test_index,:]\n",
    "    y_test2 = y_train_age.iloc[test_index]\n",
    "    \n",
    "    clf = SGDClassifier(random_state=47,loss='log',n_jobs = 8)\n",
    "    print('train go')\n",
    "    clf.fit(X_train2,y_train2)\n",
    "    end = time.time()\n",
    "    \n",
    "    y_train_pred[test_index] = clf.predict_proba(X_test2)\n",
    "    tmp_score = accuracy_score(y_test2,clf.predict(X_test2))\n",
    "    pred_gender += clf.predict_proba(X_test)/kf.n_splits\n",
    "    \n",
    "    score_list.append(tmp_score)\n",
    "    print(f'fold {k-1} 得分：{tmp_score}','Cost time:',round(end-start))\n",
    "    gc.collect()\n",
    "print('Mean Accuracy:',np.mean(score_list))"
   ]
  },
  {
   "cell_type": "code",
   "execution_count": 59,
   "metadata": {
    "ExecuteTime": {
     "end_time": "2020-07-19T07:59:04.475960Z",
     "start_time": "2020-07-19T07:59:02.525521Z"
    }
   },
   "outputs": [],
   "source": [
    "pd.DataFrame(y_train_pred).to_pickle('tf-idf-count/SGDClassifier_tfidf_oof.pkl')\n",
    "pd.DataFrame(pred_gender).to_pickle('tf-idf-count/SGDClassifier_tfidf_pred.pkl')"
   ]
  },
  {
   "cell_type": "code",
   "execution_count": 60,
   "metadata": {
    "ExecuteTime": {
     "end_time": "2020-07-19T08:00:27.621716Z",
     "start_time": "2020-07-19T07:59:10.138234Z"
    }
   },
   "outputs": [
    {
     "name": "stdout",
     "output_type": "stream",
     "text": [
      "fold_1*********************************************\n",
      "train go\n",
      "fold 1 得分：0.38745666666666667 Cost time: 3\n",
      "fold_2*********************************************\n",
      "train go\n",
      "fold 2 得分：0.3868916666666667 Cost time: 3\n",
      "fold_3*********************************************\n",
      "train go\n",
      "fold 3 得分：0.38634833333333335 Cost time: 3\n",
      "fold_4*********************************************\n",
      "train go\n",
      "fold 4 得分：0.3872333333333333 Cost time: 3\n",
      "fold_5*********************************************\n",
      "train go\n",
      "fold 5 得分：0.38626666666666665 Cost time: 3\n",
      "Mean Accuracy: 0.38683933333333337\n"
     ]
    }
   ],
   "source": [
    "kf = KFold(n_splits=5,shuffle=True,random_state=47)\n",
    "\n",
    "y_train_age = user['age']\n",
    "y_train_gender = user['gender']\n",
    "\n",
    "X_train = count_vector_all[:3000000]\n",
    "X_test = count_vector_all[3000000:]\n",
    "\n",
    "k = 1\n",
    "pred_gender = 0\n",
    "y_train_pred = np.zeros((3000000,10))\n",
    "score_list = []\n",
    "for train_index,test_index in kf.split(X_train,y_train_age):\n",
    "    \n",
    "    start = time.time()\n",
    "    print(f'fold_{k}*********************************************')\n",
    "    k+=1\n",
    "    X_train2 = X_train[train_index,:]\n",
    "    y_train2 = y_train_age.iloc[train_index]\n",
    "    X_test2 = X_train[test_index,:]\n",
    "    y_test2 = y_train_age.iloc[test_index]\n",
    "    \n",
    "    clf = MultinomialNB()\n",
    "    print('train go')\n",
    "    clf.fit(X_train2,y_train2)\n",
    "    end = time.time()\n",
    "    \n",
    "    y_train_pred[test_index] = clf.predict_proba(X_test2)\n",
    "    tmp_score = accuracy_score(y_test2,clf.predict(X_test2))\n",
    "    pred_gender += clf.predict_proba(X_test)/kf.n_splits\n",
    "    \n",
    "    score_list.append(tmp_score)\n",
    "    print(f'fold {k-1} 得分：{tmp_score}','Cost time:',round(end-start))\n",
    "    gc.collect()\n",
    "print('Mean Accuracy:',np.mean(score_list))"
   ]
  },
  {
   "cell_type": "code",
   "execution_count": 61,
   "metadata": {
    "ExecuteTime": {
     "end_time": "2020-07-19T08:00:35.427474Z",
     "start_time": "2020-07-19T08:00:33.308996Z"
    }
   },
   "outputs": [],
   "source": [
    "pd.DataFrame(y_train_pred).to_pickle('tf-idf-count/multinNB_tfidf_oof.pkl')\n",
    "pd.DataFrame(pred_gender).to_pickle('tf-idf-count/multinNB_tfidf_pred.pkl')"
   ]
  },
  {
   "cell_type": "code",
   "execution_count": 62,
   "metadata": {
    "ExecuteTime": {
     "end_time": "2020-07-19T08:02:07.718764Z",
     "start_time": "2020-07-19T08:00:41.078746Z"
    }
   },
   "outputs": [
    {
     "name": "stdout",
     "output_type": "stream",
     "text": [
      "fold_1*********************************************\n",
      "train go\n",
      "fold 1 得分：0.39012166666666664 Cost time: 3\n",
      "fold_2*********************************************\n",
      "train go\n",
      "fold 2 得分：0.39077 Cost time: 4\n",
      "fold_3*********************************************\n",
      "train go\n",
      "fold 3 得分：0.389895 Cost time: 4\n",
      "fold_4*********************************************\n",
      "train go\n",
      "fold 4 得分：0.39023166666666664 Cost time: 4\n",
      "fold_5*********************************************\n",
      "train go\n",
      "fold 5 得分：0.3902233333333333 Cost time: 4\n",
      "Mean Accuracy: 0.3902483333333333\n"
     ]
    }
   ],
   "source": [
    "kf = KFold(n_splits=5,shuffle=True,random_state=47)\n",
    "\n",
    "y_train_age = user['age']\n",
    "y_train_gender = user['gender']\n",
    "\n",
    "X_train = count_vector_all[:3000000]\n",
    "X_test = count_vector_all[3000000:]\n",
    "\n",
    "k = 1\n",
    "pred_gender = 0\n",
    "y_train_pred = np.zeros((3000000,10))\n",
    "score_list = []\n",
    "for train_index,test_index in kf.split(X_train,y_train_age):\n",
    "    \n",
    "    start = time.time()\n",
    "    print(f'fold_{k}*********************************************')\n",
    "    k+=1\n",
    "    X_train2 = X_train[train_index,:]\n",
    "    y_train2 = y_train_age.iloc[train_index]\n",
    "    X_test2 = X_train[test_index,:]\n",
    "    y_test2 = y_train_age.iloc[test_index]\n",
    "    \n",
    "    clf = BernoulliNB()\n",
    "    print('train go')\n",
    "    clf.fit(X_train2,y_train2)\n",
    "    end = time.time()\n",
    "    \n",
    "    y_train_pred[test_index] = clf.predict_proba(X_test2)\n",
    "    tmp_score = accuracy_score(y_test2,clf.predict(X_test2))\n",
    "    pred_gender += clf.predict_proba(X_test)/kf.n_splits\n",
    "    \n",
    "    score_list.append(tmp_score)\n",
    "    print(f'fold {k-1} 得分：{tmp_score}','Cost time:',round(end-start))\n",
    "    gc.collect()\n",
    "print('Mean Accuracy:',np.mean(score_list))"
   ]
  },
  {
   "cell_type": "code",
   "execution_count": 63,
   "metadata": {
    "ExecuteTime": {
     "end_time": "2020-07-19T08:02:15.365484Z",
     "start_time": "2020-07-19T08:02:13.384038Z"
    }
   },
   "outputs": [],
   "source": [
    "pd.DataFrame(y_train_pred).to_pickle('tf-idf-count/BernoulliNB_tfidf_oof.pkl')\n",
    "pd.DataFrame(pred_gender).to_pickle('tf-idf-count/BernoulliNB_tfidf_pred.pkl')"
   ]
  },
  {
   "cell_type": "code",
   "execution_count": 64,
   "metadata": {
    "ExecuteTime": {
     "end_time": "2020-07-19T08:23:48.625125Z",
     "start_time": "2020-07-19T08:02:21.043763Z"
    }
   },
   "outputs": [
    {
     "name": "stdout",
     "output_type": "stream",
     "text": [
      "fold_1*********************************************\n",
      "train go\n",
      "fold 1 得分：0.3486916666666667 Cost time: 242\n",
      "fold_2*********************************************\n",
      "train go\n",
      "fold 2 得分：0.34913333333333335 Cost time: 251\n",
      "fold_3*********************************************\n",
      "train go\n",
      "fold 3 得分：0.35141333333333336 Cost time: 246\n",
      "fold_4*********************************************\n",
      "train go\n",
      "fold 4 得分：0.34980666666666665 Cost time: 245\n",
      "fold_5*********************************************\n",
      "train go\n",
      "fold 5 得分：0.351 Cost time: 240\n",
      "Mean Accuracy: 0.35000899999999996\n"
     ]
    }
   ],
   "source": [
    "kf = KFold(n_splits=5,shuffle=True,random_state=47)\n",
    "\n",
    "y_train_age = user['age']\n",
    "y_train_gender = user['gender']\n",
    "\n",
    "X_train = count_vector_all[:3000000]\n",
    "X_test = count_vector_all[3000000:]\n",
    "\n",
    "k = 1\n",
    "pred_gender = 0\n",
    "y_train_pred = np.zeros((3000000,10))\n",
    "score_list = []\n",
    "for train_index,test_index in kf.split(X_train,y_train_age):\n",
    "    \n",
    "    start = time.time()\n",
    "    print(f'fold_{k}*********************************************')\n",
    "    k+=1\n",
    "    X_train2 = X_train[train_index,:]\n",
    "    y_train2 = y_train_age.iloc[train_index]\n",
    "    X_test2 = X_train[test_index,:]\n",
    "    y_test2 = y_train_age.iloc[test_index]\n",
    "    \n",
    "    clf = PassiveAggressiveClassifier(random_state=1017)\n",
    "    print('train go')\n",
    "    clf.fit(X_train2,y_train2)\n",
    "    end = time.time()\n",
    "    \n",
    "    y_train_pred[test_index] = clf._predict_proba_lr(X_test2)\n",
    "    tmp_score = accuracy_score(y_test2,clf.predict(X_test2))\n",
    "    pred_gender += clf._predict_proba_lr(X_test)/kf.n_splits\n",
    "    \n",
    "    score_list.append(tmp_score)\n",
    "    print(f'fold {k-1} 得分：{tmp_score}','Cost time:',round(end-start))\n",
    "    gc.collect()\n",
    "print('Mean Accuracy:',np.mean(score_list))"
   ]
  },
  {
   "cell_type": "code",
   "execution_count": 65,
   "metadata": {
    "ExecuteTime": {
     "end_time": "2020-07-19T08:23:56.414885Z",
     "start_time": "2020-07-19T08:23:54.414435Z"
    }
   },
   "outputs": [],
   "source": [
    "pd.DataFrame(y_train_pred).to_pickle('tf-idf-count/pac_tfidf_oof.pkl')\n",
    "pd.DataFrame(pred_gender).to_pickle('tf-idf-count/pac_tfidf_pred.pkl')"
   ]
  },
  {
   "cell_type": "markdown",
   "metadata": {},
   "source": [
    "#### list_ad_id"
   ]
  },
  {
   "cell_type": "code",
   "execution_count": 66,
   "metadata": {
    "ExecuteTime": {
     "end_time": "2020-07-19T08:24:18.988482Z",
     "start_time": "2020-07-19T08:24:02.113168Z"
    }
   },
   "outputs": [],
   "source": [
    "cre_list = df_bag['list_ad_id'].apply(lambda x: str(x).replace('[','').replace(']','').replace(',',' '))"
   ]
  },
  {
   "cell_type": "code",
   "execution_count": 67,
   "metadata": {
    "ExecuteTime": {
     "end_time": "2020-07-19T08:24:25.084854Z",
     "start_time": "2020-07-19T08:24:24.692766Z"
    }
   },
   "outputs": [],
   "source": [
    "count_vec = CountVectorizer(dtype = np.float32,min_df=30)\n",
    "#tfidf_vec = TfidfVectorizer(dtype = np.float32,min_df=30)"
   ]
  },
  {
   "cell_type": "code",
   "execution_count": 68,
   "metadata": {
    "ExecuteTime": {
     "end_time": "2020-07-19T08:27:32.895324Z",
     "start_time": "2020-07-19T08:24:30.711629Z"
    }
   },
   "outputs": [],
   "source": [
    "count_vector_all = count_vec.fit_transform(cre_list)"
   ]
  },
  {
   "cell_type": "code",
   "execution_count": 69,
   "metadata": {
    "ExecuteTime": {
     "end_time": "2020-07-19T08:27:38.689628Z",
     "start_time": "2020-07-19T08:27:38.687628Z"
    }
   },
   "outputs": [
    {
     "data": {
      "text/plain": [
       "(4000000, 415926)"
      ]
     },
     "execution_count": 69,
     "metadata": {},
     "output_type": "execute_result"
    }
   ],
   "source": [
    "count_vector_all.shape"
   ]
  },
  {
   "cell_type": "code",
   "execution_count": 70,
   "metadata": {
    "ExecuteTime": {
     "end_time": "2020-07-19T09:14:18.413953Z",
     "start_time": "2020-07-19T08:27:44.423918Z"
    }
   },
   "outputs": [
    {
     "name": "stdout",
     "output_type": "stream",
     "text": [
      "fold_1*********************************************\n",
      "train go\n",
      "fold 1 得分：0.4085 Cost time: 526\n",
      "fold_2*********************************************\n",
      "train go\n",
      "fold 2 得分：0.4077033333333333 Cost time: 555\n",
      "fold_3*********************************************\n",
      "train go\n",
      "fold 3 得分：0.41066833333333336 Cost time: 545\n",
      "fold_4*********************************************\n",
      "train go\n",
      "fold 4 得分：0.40872166666666665 Cost time: 563\n",
      "fold_5*********************************************\n",
      "train go\n",
      "fold 5 得分：0.410015 Cost time: 541\n",
      "Mean Accuracy: 0.4091216666666666\n"
     ]
    }
   ],
   "source": [
    "kf = KFold(n_splits=5,shuffle=True,random_state=47)\n",
    "\n",
    "y_train_age = user['age']\n",
    "y_train_gender = user['gender']\n",
    "\n",
    "X_train = count_vector_all[:3000000]\n",
    "X_test = count_vector_all[3000000:]\n",
    "\n",
    "k = 1\n",
    "pred_gender = 0\n",
    "y_train_pred = np.zeros((3000000,10))\n",
    "score_list = []\n",
    "for train_index,test_index in kf.split(X_train,y_train_age):\n",
    "    \n",
    "    start = time.time()\n",
    "    print(f'fold_{k}*********************************************')\n",
    "    k+=1\n",
    "    X_train2 = X_train[train_index,:]\n",
    "    y_train2 = y_train_age.iloc[train_index]\n",
    "    X_test2 = X_train[test_index,:]\n",
    "    y_test2 = y_train_age.iloc[test_index]\n",
    "    \n",
    "    clf = LogisticRegression(random_state=47,n_jobs=8)\n",
    "    print('train go')\n",
    "    clf.fit(X_train2,y_train2)\n",
    "    end = time.time()\n",
    "    \n",
    "    y_train_pred[test_index] = clf.predict_proba(X_test2)\n",
    "    tmp_score = accuracy_score(y_test2,clf.predict(X_test2))\n",
    "    pred_gender += clf.predict_proba(X_test)/kf.n_splits\n",
    "    \n",
    "    score_list.append(tmp_score)\n",
    "    print(f'fold {k-1} 得分：{tmp_score}','Cost time:',round(end-start))\n",
    "    gc.collect()\n",
    "print('Mean Accuracy:',np.mean(score_list))"
   ]
  },
  {
   "cell_type": "code",
   "execution_count": 71,
   "metadata": {
    "ExecuteTime": {
     "end_time": "2020-07-19T09:14:26.063183Z",
     "start_time": "2020-07-19T09:14:24.141749Z"
    }
   },
   "outputs": [],
   "source": [
    "pd.DataFrame(y_train_pred).to_pickle('tf-idf-count/logistic_tfidf_oof_ad.pkl')\n",
    "pd.DataFrame(pred_gender).to_pickle('tf-idf-count/logistic_tfidf_pred_ad.pkl')"
   ]
  },
  {
   "cell_type": "code",
   "execution_count": 72,
   "metadata": {
    "ExecuteTime": {
     "end_time": "2020-07-19T09:17:28.887531Z",
     "start_time": "2020-07-19T09:14:31.777972Z"
    }
   },
   "outputs": [
    {
     "name": "stdout",
     "output_type": "stream",
     "text": [
      "fold_1*********************************************\n",
      "train go\n",
      "fold 1 得分：0.37364 Cost time: 23\n",
      "fold_2*********************************************\n",
      "train go\n",
      "fold 2 得分：0.371605 Cost time: 24\n",
      "fold_3*********************************************\n",
      "train go\n",
      "fold 3 得分：0.37153 Cost time: 24\n",
      "fold_4*********************************************\n",
      "train go\n",
      "fold 4 得分：0.37204333333333334 Cost time: 23\n",
      "fold_5*********************************************\n",
      "train go\n",
      "fold 5 得分：0.37237 Cost time: 24\n",
      "Mean Accuracy: 0.37223766666666663\n"
     ]
    }
   ],
   "source": [
    "kf = KFold(n_splits=5,shuffle=True,random_state=47)\n",
    "\n",
    "y_train_age = user['age']\n",
    "y_train_gender = user['gender']\n",
    "\n",
    "X_train = count_vector_all[:3000000]\n",
    "X_test = count_vector_all[3000000:]\n",
    "\n",
    "k = 1\n",
    "pred_gender = 0\n",
    "y_train_pred = np.zeros((3000000,10))\n",
    "score_list = []\n",
    "for train_index,test_index in kf.split(X_train,y_train_age):\n",
    "    \n",
    "    start = time.time()\n",
    "    print(f'fold_{k}*********************************************')\n",
    "    k+=1\n",
    "    X_train2 = X_train[train_index,:]\n",
    "    y_train2 = y_train_age.iloc[train_index]\n",
    "    X_test2 = X_train[test_index,:]\n",
    "    y_test2 = y_train_age.iloc[test_index]\n",
    "    \n",
    "    clf = SGDClassifier(random_state=47,loss='log',n_jobs = 8)\n",
    "    print('train go')\n",
    "    clf.fit(X_train2,y_train2)\n",
    "    end = time.time()\n",
    "    \n",
    "    y_train_pred[test_index] = clf.predict_proba(X_test2)\n",
    "    tmp_score = accuracy_score(y_test2,clf.predict(X_test2))\n",
    "    pred_gender += clf.predict_proba(X_test)/kf.n_splits\n",
    "    \n",
    "    score_list.append(tmp_score)\n",
    "    print(f'fold {k-1} 得分：{tmp_score}','Cost time:',round(end-start))\n",
    "    gc.collect()\n",
    "print('Mean Accuracy:',np.mean(score_list))"
   ]
  },
  {
   "cell_type": "code",
   "execution_count": 73,
   "metadata": {
    "ExecuteTime": {
     "end_time": "2020-07-19T09:17:36.535757Z",
     "start_time": "2020-07-19T09:17:34.639330Z"
    }
   },
   "outputs": [],
   "source": [
    "pd.DataFrame(y_train_pred).to_pickle('tf-idf-count/SGDClassifier_tfidf_oof_ad.pkl')\n",
    "pd.DataFrame(pred_gender).to_pickle('tf-idf-count/SGDClassifier_tfidf_pred_ad.pkl')"
   ]
  },
  {
   "cell_type": "code",
   "execution_count": 74,
   "metadata": {
    "ExecuteTime": {
     "end_time": "2020-07-19T09:18:59.308454Z",
     "start_time": "2020-07-19T09:17:42.238545Z"
    }
   },
   "outputs": [
    {
     "name": "stdout",
     "output_type": "stream",
     "text": [
      "fold_1*********************************************\n",
      "train go\n",
      "fold 1 得分：0.38333 Cost time: 3\n",
      "fold_2*********************************************\n",
      "train go\n",
      "fold 2 得分：0.38328666666666666 Cost time: 3\n",
      "fold_3*********************************************\n",
      "train go\n",
      "fold 3 得分：0.383 Cost time: 3\n",
      "fold_4*********************************************\n",
      "train go\n",
      "fold 4 得分：0.3836733333333333 Cost time: 3\n",
      "fold_5*********************************************\n",
      "train go\n",
      "fold 5 得分：0.383655 Cost time: 3\n",
      "Mean Accuracy: 0.38338900000000004\n"
     ]
    }
   ],
   "source": [
    "kf = KFold(n_splits=5,shuffle=True,random_state=47)\n",
    "\n",
    "y_train_age = user['age']\n",
    "y_train_gender = user['gender']\n",
    "\n",
    "X_train = count_vector_all[:3000000]\n",
    "X_test = count_vector_all[3000000:]\n",
    "\n",
    "k = 1\n",
    "pred_gender = 0\n",
    "y_train_pred = np.zeros((3000000,10))\n",
    "score_list = []\n",
    "for train_index,test_index in kf.split(X_train,y_train_age):\n",
    "    \n",
    "    start = time.time()\n",
    "    print(f'fold_{k}*********************************************')\n",
    "    k+=1\n",
    "    X_train2 = X_train[train_index,:]\n",
    "    y_train2 = y_train_age.iloc[train_index]\n",
    "    X_test2 = X_train[test_index,:]\n",
    "    y_test2 = y_train_age.iloc[test_index]\n",
    "    \n",
    "    clf = MultinomialNB()\n",
    "    print('train go')\n",
    "    clf.fit(X_train2,y_train2)\n",
    "    end = time.time()\n",
    "    \n",
    "    y_train_pred[test_index] = clf.predict_proba(X_test2)\n",
    "    tmp_score = accuracy_score(y_test2,clf.predict(X_test2))\n",
    "    pred_gender += clf.predict_proba(X_test)/kf.n_splits\n",
    "    \n",
    "    score_list.append(tmp_score)\n",
    "    print(f'fold {k-1} 得分：{tmp_score}','Cost time:',round(end-start))\n",
    "    gc.collect()\n",
    "print('Mean Accuracy:',np.mean(score_list))"
   ]
  },
  {
   "cell_type": "code",
   "execution_count": 75,
   "metadata": {
    "ExecuteTime": {
     "end_time": "2020-07-19T09:19:06.879665Z",
     "start_time": "2020-07-19T09:19:04.852209Z"
    }
   },
   "outputs": [],
   "source": [
    "pd.DataFrame(y_train_pred).to_pickle('tf-idf-count/multinNB_tfidf_oof_ad.pkl')\n",
    "pd.DataFrame(pred_gender).to_pickle('tf-idf-count/multinNB_tfidf_pred_ad.pkl')"
   ]
  },
  {
   "cell_type": "code",
   "execution_count": 76,
   "metadata": {
    "ExecuteTime": {
     "end_time": "2020-07-19T09:20:34.312435Z",
     "start_time": "2020-07-19T09:19:12.411416Z"
    }
   },
   "outputs": [
    {
     "name": "stdout",
     "output_type": "stream",
     "text": [
      "fold_1*********************************************\n",
      "train go\n",
      "fold 1 得分：0.3918333333333333 Cost time: 3\n",
      "fold_2*********************************************\n",
      "train go\n",
      "fold 2 得分：0.39192166666666667 Cost time: 3\n",
      "fold_3*********************************************\n",
      "train go\n",
      "fold 3 得分：0.391085 Cost time: 3\n",
      "fold_4*********************************************\n",
      "train go\n",
      "fold 4 得分：0.39091333333333333 Cost time: 3\n",
      "fold_5*********************************************\n",
      "train go\n",
      "fold 5 得分：0.39184833333333335 Cost time: 3\n",
      "Mean Accuracy: 0.39152033333333336\n"
     ]
    }
   ],
   "source": [
    "kf = KFold(n_splits=5,shuffle=True,random_state=47)\n",
    "\n",
    "y_train_age = user['age']\n",
    "y_train_gender = user['gender']\n",
    "\n",
    "X_train = count_vector_all[:3000000]\n",
    "X_test = count_vector_all[3000000:]\n",
    "\n",
    "k = 1\n",
    "pred_gender = 0\n",
    "y_train_pred = np.zeros((3000000,10))\n",
    "score_list = []\n",
    "for train_index,test_index in kf.split(X_train,y_train_age):\n",
    "    \n",
    "    start = time.time()\n",
    "    print(f'fold_{k}*********************************************')\n",
    "    k+=1\n",
    "    X_train2 = X_train[train_index,:]\n",
    "    y_train2 = y_train_age.iloc[train_index]\n",
    "    X_test2 = X_train[test_index,:]\n",
    "    y_test2 = y_train_age.iloc[test_index]\n",
    "    \n",
    "    clf = BernoulliNB()\n",
    "    print('train go')\n",
    "    clf.fit(X_train2,y_train2)\n",
    "    end = time.time()\n",
    "    \n",
    "    y_train_pred[test_index] = clf.predict_proba(X_test2)\n",
    "    tmp_score = accuracy_score(y_test2,clf.predict(X_test2))\n",
    "    pred_gender += clf.predict_proba(X_test)/kf.n_splits\n",
    "    \n",
    "    score_list.append(tmp_score)\n",
    "    print(f'fold {k-1} 得分：{tmp_score}','Cost time:',round(end-start))\n",
    "    gc.collect()\n",
    "print('Mean Accuracy:',np.mean(score_list))"
   ]
  },
  {
   "cell_type": "code",
   "execution_count": 77,
   "metadata": {
    "ExecuteTime": {
     "end_time": "2020-07-19T09:20:41.691096Z",
     "start_time": "2020-07-19T09:20:39.809672Z"
    }
   },
   "outputs": [],
   "source": [
    "pd.DataFrame(y_train_pred).to_pickle('tf-idf-count/BernoulliNB_tfidf_oof_ad.pkl')\n",
    "pd.DataFrame(pred_gender).to_pickle('tf-idf-count/BernoulliNB_tfidf_pred_ad.pkl')"
   ]
  },
  {
   "cell_type": "code",
   "execution_count": 78,
   "metadata": {
    "ExecuteTime": {
     "end_time": "2020-07-19T09:46:27.785222Z",
     "start_time": "2020-07-19T09:20:47.230350Z"
    }
   },
   "outputs": [
    {
     "name": "stdout",
     "output_type": "stream",
     "text": [
      "fold_1*********************************************\n",
      "train go\n"
     ]
    },
    {
     "name": "stderr",
     "output_type": "stream",
     "text": [
      "C:\\ProgramData\\Anaconda3\\envs\\tensorflow\\lib\\site-packages\\sklearn\\linear_model\\_base.py:313: RuntimeWarning: invalid value encountered in true_divide\n",
      "  prob /= prob.sum(axis=1).reshape((prob.shape[0], -1))\n"
     ]
    },
    {
     "name": "stdout",
     "output_type": "stream",
     "text": [
      "fold 1 得分：0.33155833333333334 Cost time: 311\n",
      "fold_2*********************************************\n",
      "train go\n",
      "fold 2 得分：0.33226666666666665 Cost time: 292\n",
      "fold_3*********************************************\n",
      "train go\n",
      "fold 3 得分：0.329205 Cost time: 292\n",
      "fold_4*********************************************\n",
      "train go\n",
      "fold 4 得分：0.3308966666666667 Cost time: 289\n",
      "fold_5*********************************************\n",
      "train go\n",
      "fold 5 得分：0.33182333333333336 Cost time: 295\n",
      "Mean Accuracy: 0.33115\n"
     ]
    }
   ],
   "source": [
    "kf = KFold(n_splits=5,shuffle=True,random_state=47)\n",
    "\n",
    "y_train_age = user['age']\n",
    "y_train_gender = user['gender']\n",
    "\n",
    "X_train = count_vector_all[:3000000]\n",
    "X_test = count_vector_all[3000000:]\n",
    "\n",
    "k = 1\n",
    "pred_gender = 0\n",
    "y_train_pred = np.zeros((3000000,10))\n",
    "score_list = []\n",
    "for train_index,test_index in kf.split(X_train,y_train_age):\n",
    "    \n",
    "    start = time.time()\n",
    "    print(f'fold_{k}*********************************************')\n",
    "    k+=1\n",
    "    X_train2 = X_train[train_index,:]\n",
    "    y_train2 = y_train_age.iloc[train_index]\n",
    "    X_test2 = X_train[test_index,:]\n",
    "    y_test2 = y_train_age.iloc[test_index]\n",
    "    \n",
    "    clf = PassiveAggressiveClassifier(random_state=1017)\n",
    "    print('train go')\n",
    "    clf.fit(X_train2,y_train2)\n",
    "    end = time.time()\n",
    "    \n",
    "    y_train_pred[test_index] = clf._predict_proba_lr(X_test2)\n",
    "    tmp_score = accuracy_score(y_test2,clf.predict(X_test2))\n",
    "    pred_gender += clf._predict_proba_lr(X_test)/kf.n_splits\n",
    "    \n",
    "    score_list.append(tmp_score)\n",
    "    print(f'fold {k-1} 得分：{tmp_score}','Cost time:',round(end-start))\n",
    "    gc.collect()\n",
    "print('Mean Accuracy:',np.mean(score_list))"
   ]
  },
  {
   "cell_type": "code",
   "execution_count": 79,
   "metadata": {
    "ExecuteTime": {
     "end_time": "2020-07-19T09:46:35.470952Z",
     "start_time": "2020-07-19T09:46:33.556520Z"
    }
   },
   "outputs": [],
   "source": [
    "pd.DataFrame(y_train_pred).to_pickle('tf-idf-count/pac_tfidf_oof_ad.pkl')\n",
    "pd.DataFrame(pred_gender).to_pickle('tf-idf-count/pac_tfidf_pred_ad.pkl')"
   ]
  },
  {
   "cell_type": "code",
   "execution_count": null,
   "metadata": {},
   "outputs": [],
   "source": []
  },
  {
   "cell_type": "markdown",
   "metadata": {},
   "source": [
    "#### list_adv_id"
   ]
  },
  {
   "cell_type": "code",
   "execution_count": 80,
   "metadata": {
    "ExecuteTime": {
     "end_time": "2020-07-19T09:46:56.671231Z",
     "start_time": "2020-07-19T09:46:41.189239Z"
    }
   },
   "outputs": [],
   "source": [
    "cre_list = df_bag['list_advertiser_id'].apply(lambda x: str(x).replace('[','').replace(']','').replace(',',' '))"
   ]
  },
  {
   "cell_type": "code",
   "execution_count": 81,
   "metadata": {
    "ExecuteTime": {
     "end_time": "2020-07-19T09:47:02.702589Z",
     "start_time": "2020-07-19T09:47:02.373514Z"
    }
   },
   "outputs": [],
   "source": [
    "count_vec = CountVectorizer(dtype = np.float32,min_df=30)\n",
    "#tfidf_vec = TfidfVectorizer(dtype = np.float32,min_df=30)"
   ]
  },
  {
   "cell_type": "code",
   "execution_count": 82,
   "metadata": {
    "ExecuteTime": {
     "end_time": "2020-07-19T09:48:56.376726Z",
     "start_time": "2020-07-19T09:47:08.396870Z"
    }
   },
   "outputs": [],
   "source": [
    "count_vector_all = count_vec.fit_transform(cre_list)"
   ]
  },
  {
   "cell_type": "code",
   "execution_count": 83,
   "metadata": {
    "ExecuteTime": {
     "end_time": "2020-07-19T09:49:01.958983Z",
     "start_time": "2020-07-19T09:49:01.954983Z"
    }
   },
   "outputs": [
    {
     "data": {
      "text/plain": [
       "(4000000, 30113)"
      ]
     },
     "execution_count": 83,
     "metadata": {},
     "output_type": "execute_result"
    }
   ],
   "source": [
    "count_vector_all.shape"
   ]
  },
  {
   "cell_type": "code",
   "execution_count": 84,
   "metadata": {
    "ExecuteTime": {
     "end_time": "2020-07-19T10:08:44.887243Z",
     "start_time": "2020-07-19T09:49:07.447725Z"
    }
   },
   "outputs": [
    {
     "name": "stdout",
     "output_type": "stream",
     "text": [
      "fold_1*********************************************\n",
      "train go\n",
      "fold 1 得分：0.37199166666666666 Cost time: 215\n",
      "fold_2*********************************************\n",
      "train go\n",
      "fold 2 得分：0.372595 Cost time: 224\n",
      "fold_3*********************************************\n",
      "train go\n",
      "fold 3 得分：0.3701216666666667 Cost time: 230\n",
      "fold_4*********************************************\n",
      "train go\n",
      "fold 4 得分：0.373635 Cost time: 223\n",
      "fold_5*********************************************\n",
      "train go\n",
      "fold 5 得分：0.37234666666666666 Cost time: 232\n",
      "Mean Accuracy: 0.37213799999999997\n"
     ]
    }
   ],
   "source": [
    "kf = KFold(n_splits=5,shuffle=True,random_state=47)\n",
    "\n",
    "y_train_age = user['age']\n",
    "y_train_gender = user['gender']\n",
    "\n",
    "X_train = count_vector_all[:3000000]\n",
    "X_test = count_vector_all[3000000:]\n",
    "\n",
    "k = 1\n",
    "pred_gender = 0\n",
    "y_train_pred = np.zeros((3000000,10))\n",
    "score_list = []\n",
    "for train_index,test_index in kf.split(X_train,y_train_age):\n",
    "    \n",
    "    start = time.time()\n",
    "    print(f'fold_{k}*********************************************')\n",
    "    k+=1\n",
    "    X_train2 = X_train[train_index,:]\n",
    "    y_train2 = y_train_age.iloc[train_index]\n",
    "    X_test2 = X_train[test_index,:]\n",
    "    y_test2 = y_train_age.iloc[test_index]\n",
    "    \n",
    "    clf = LogisticRegression(random_state=47,n_jobs=8)\n",
    "    print('train go')\n",
    "    clf.fit(X_train2,y_train2)\n",
    "    end = time.time()\n",
    "    \n",
    "    y_train_pred[test_index] = clf.predict_proba(X_test2)\n",
    "    tmp_score = accuracy_score(y_test2,clf.predict(X_test2))\n",
    "    pred_gender += clf.predict_proba(X_test)/kf.n_splits\n",
    "    \n",
    "    score_list.append(tmp_score)\n",
    "    print(f'fold {k-1} 得分：{tmp_score}','Cost time:',round(end-start))\n",
    "    gc.collect()\n",
    "print('Mean Accuracy:',np.mean(score_list))"
   ]
  },
  {
   "cell_type": "code",
   "execution_count": 85,
   "metadata": {
    "ExecuteTime": {
     "end_time": "2020-07-19T10:08:51.888970Z",
     "start_time": "2020-07-19T10:08:49.930523Z"
    }
   },
   "outputs": [],
   "source": [
    "pd.DataFrame(y_train_pred).to_pickle('tf-idf-count/logistic_tfidf_oof_adv.pkl')\n",
    "pd.DataFrame(pred_gender).to_pickle('tf-idf-count/logistic_tfidf_pred_adv.pkl')"
   ]
  },
  {
   "cell_type": "code",
   "execution_count": 86,
   "metadata": {
    "ExecuteTime": {
     "end_time": "2020-07-19T10:11:50.026830Z",
     "start_time": "2020-07-19T10:08:56.892755Z"
    }
   },
   "outputs": [
    {
     "name": "stdout",
     "output_type": "stream",
     "text": [
      "fold_1*********************************************\n",
      "train go\n",
      "fold 1 得分：0.3680866666666667 Cost time: 24\n",
      "fold_2*********************************************\n",
      "train go\n",
      "fold 2 得分：0.368085 Cost time: 23\n",
      "fold_3*********************************************\n",
      "train go\n",
      "fold 3 得分：0.36628666666666665 Cost time: 24\n",
      "fold_4*********************************************\n",
      "train go\n",
      "fold 4 得分：0.3687566666666667 Cost time: 26\n",
      "fold_5*********************************************\n",
      "train go\n",
      "fold 5 得分：0.36477166666666666 Cost time: 23\n",
      "Mean Accuracy: 0.3671973333333333\n"
     ]
    }
   ],
   "source": [
    "kf = KFold(n_splits=5,shuffle=True,random_state=47)\n",
    "\n",
    "y_train_age = user['age']\n",
    "y_train_gender = user['gender']\n",
    "\n",
    "X_train = count_vector_all[:3000000]\n",
    "X_test = count_vector_all[3000000:]\n",
    "\n",
    "k = 1\n",
    "pred_gender = 0\n",
    "y_train_pred = np.zeros((3000000,10))\n",
    "score_list = []\n",
    "for train_index,test_index in kf.split(X_train,y_train_age):\n",
    "    \n",
    "    start = time.time()\n",
    "    print(f'fold_{k}*********************************************')\n",
    "    k+=1\n",
    "    X_train2 = X_train[train_index,:]\n",
    "    y_train2 = y_train_age.iloc[train_index]\n",
    "    X_test2 = X_train[test_index,:]\n",
    "    y_test2 = y_train_age.iloc[test_index]\n",
    "    \n",
    "    clf = SGDClassifier(random_state=47,loss='log',n_jobs = 8)\n",
    "    print('train go')\n",
    "    clf.fit(X_train2,y_train2)\n",
    "    end = time.time()\n",
    "    \n",
    "    y_train_pred[test_index] = clf.predict_proba(X_test2)\n",
    "    tmp_score = accuracy_score(y_test2,clf.predict(X_test2))\n",
    "    pred_gender += clf.predict_proba(X_test)/kf.n_splits\n",
    "    \n",
    "    score_list.append(tmp_score)\n",
    "    print(f'fold {k-1} 得分：{tmp_score}','Cost time:',round(end-start))\n",
    "    gc.collect()\n",
    "print('Mean Accuracy:',np.mean(score_list))"
   ]
  },
  {
   "cell_type": "code",
   "execution_count": 87,
   "metadata": {
    "ExecuteTime": {
     "end_time": "2020-07-19T10:11:56.895376Z",
     "start_time": "2020-07-19T10:11:55.016954Z"
    }
   },
   "outputs": [],
   "source": [
    "pd.DataFrame(y_train_pred).to_pickle('tf-idf-count/SGDClassifier_tfidf_oof_adv.pkl')\n",
    "pd.DataFrame(pred_gender).to_pickle('tf-idf-count/SGDClassifier_tfidf_pred_adv.pkl')"
   ]
  },
  {
   "cell_type": "code",
   "execution_count": 88,
   "metadata": {
    "ExecuteTime": {
     "end_time": "2020-07-19T10:13:04.717698Z",
     "start_time": "2020-07-19T10:12:01.877497Z"
    }
   },
   "outputs": [
    {
     "name": "stdout",
     "output_type": "stream",
     "text": [
      "fold_1*********************************************\n",
      "train go\n",
      "fold 1 得分：0.33594833333333335 Cost time: 2\n",
      "fold_2*********************************************\n",
      "train go\n",
      "fold 2 得分：0.3363566666666667 Cost time: 2\n",
      "fold_3*********************************************\n",
      "train go\n",
      "fold 3 得分：0.33575666666666665 Cost time: 2\n",
      "fold_4*********************************************\n",
      "train go\n",
      "fold 4 得分：0.337405 Cost time: 2\n",
      "fold_5*********************************************\n",
      "train go\n",
      "fold 5 得分：0.33641 Cost time: 2\n",
      "Mean Accuracy: 0.33637533333333336\n"
     ]
    }
   ],
   "source": [
    "kf = KFold(n_splits=5,shuffle=True,random_state=47)\n",
    "\n",
    "y_train_age = user['age']\n",
    "y_train_gender = user['gender']\n",
    "\n",
    "X_train = count_vector_all[:3000000]\n",
    "X_test = count_vector_all[3000000:]\n",
    "\n",
    "k = 1\n",
    "pred_gender = 0\n",
    "y_train_pred = np.zeros((3000000,10))\n",
    "score_list = []\n",
    "for train_index,test_index in kf.split(X_train,y_train_age):\n",
    "    \n",
    "    start = time.time()\n",
    "    print(f'fold_{k}*********************************************')\n",
    "    k+=1\n",
    "    X_train2 = X_train[train_index,:]\n",
    "    y_train2 = y_train_age.iloc[train_index]\n",
    "    X_test2 = X_train[test_index,:]\n",
    "    y_test2 = y_train_age.iloc[test_index]\n",
    "    \n",
    "    clf = MultinomialNB()\n",
    "    print('train go')\n",
    "    clf.fit(X_train2,y_train2)\n",
    "    end = time.time()\n",
    "    \n",
    "    y_train_pred[test_index] = clf.predict_proba(X_test2)\n",
    "    tmp_score = accuracy_score(y_test2,clf.predict(X_test2))\n",
    "    pred_gender += clf.predict_proba(X_test)/kf.n_splits\n",
    "    \n",
    "    score_list.append(tmp_score)\n",
    "    print(f'fold {k-1} 得分：{tmp_score}','Cost time:',round(end-start))\n",
    "    gc.collect()\n",
    "print('Mean Accuracy:',np.mean(score_list))"
   ]
  },
  {
   "cell_type": "code",
   "execution_count": 89,
   "metadata": {
    "ExecuteTime": {
     "end_time": "2020-07-19T10:13:11.596246Z",
     "start_time": "2020-07-19T10:13:09.689817Z"
    }
   },
   "outputs": [],
   "source": [
    "pd.DataFrame(y_train_pred).to_pickle('tf-idf-count/multinNB_tfidf_oof_adv.pkl')\n",
    "pd.DataFrame(pred_gender).to_pickle('tf-idf-count/multinNB_tfidf_pred_adv.pkl')"
   ]
  },
  {
   "cell_type": "code",
   "execution_count": 90,
   "metadata": {
    "ExecuteTime": {
     "end_time": "2020-07-19T10:14:27.543924Z",
     "start_time": "2020-07-19T10:13:16.599879Z"
    }
   },
   "outputs": [
    {
     "name": "stdout",
     "output_type": "stream",
     "text": [
      "fold_1*********************************************\n",
      "train go\n",
      "fold 1 得分：0.3551783333333333 Cost time: 3\n",
      "fold_2*********************************************\n",
      "train go\n",
      "fold 2 得分：0.35695333333333334 Cost time: 3\n",
      "fold_3*********************************************\n",
      "train go\n",
      "fold 3 得分：0.35611 Cost time: 3\n",
      "fold_4*********************************************\n",
      "train go\n",
      "fold 4 得分：0.3565833333333333 Cost time: 3\n",
      "fold_5*********************************************\n",
      "train go\n",
      "fold 5 得分：0.35610166666666665 Cost time: 3\n",
      "Mean Accuracy: 0.35618533333333324\n"
     ]
    }
   ],
   "source": [
    "kf = KFold(n_splits=5,shuffle=True,random_state=47)\n",
    "\n",
    "y_train_age = user['age']\n",
    "y_train_gender = user['gender']\n",
    "\n",
    "X_train = count_vector_all[:3000000]\n",
    "X_test = count_vector_all[3000000:]\n",
    "\n",
    "k = 1\n",
    "pred_gender = 0\n",
    "y_train_pred = np.zeros((3000000,10))\n",
    "score_list = []\n",
    "for train_index,test_index in kf.split(X_train,y_train_age):\n",
    "    \n",
    "    start = time.time()\n",
    "    print(f'fold_{k}*********************************************')\n",
    "    k+=1\n",
    "    X_train2 = X_train[train_index,:]\n",
    "    y_train2 = y_train_age.iloc[train_index]\n",
    "    X_test2 = X_train[test_index,:]\n",
    "    y_test2 = y_train_age.iloc[test_index]\n",
    "    \n",
    "    clf = BernoulliNB()\n",
    "    print('train go')\n",
    "    clf.fit(X_train2,y_train2)\n",
    "    end = time.time()\n",
    "    \n",
    "    y_train_pred[test_index] = clf.predict_proba(X_test2)\n",
    "    tmp_score = accuracy_score(y_test2,clf.predict(X_test2))\n",
    "    pred_gender += clf.predict_proba(X_test)/kf.n_splits\n",
    "    \n",
    "    score_list.append(tmp_score)\n",
    "    print(f'fold {k-1} 得分：{tmp_score}','Cost time:',round(end-start))\n",
    "    gc.collect()\n",
    "print('Mean Accuracy:',np.mean(score_list))"
   ]
  },
  {
   "cell_type": "code",
   "execution_count": 91,
   "metadata": {
    "ExecuteTime": {
     "end_time": "2020-07-19T10:14:34.657033Z",
     "start_time": "2020-07-19T10:14:32.642579Z"
    }
   },
   "outputs": [],
   "source": [
    "pd.DataFrame(y_train_pred).to_pickle('tf-idf-count/BernoulliNB_tfidf_oof_adv.pkl')\n",
    "pd.DataFrame(pred_gender).to_pickle('tf-idf-count/BernoulliNB_tfidf_pred_adv.pkl')"
   ]
  },
  {
   "cell_type": "code",
   "execution_count": 92,
   "metadata": {
    "ExecuteTime": {
     "end_time": "2020-07-19T10:22:39.967801Z",
     "start_time": "2020-07-19T10:14:39.824711Z"
    }
   },
   "outputs": [
    {
     "name": "stdout",
     "output_type": "stream",
     "text": [
      "fold_1*********************************************\n",
      "train go\n",
      "fold 1 得分：0.2685383333333333 Cost time: 77\n",
      "fold_2*********************************************\n",
      "train go\n"
     ]
    },
    {
     "name": "stderr",
     "output_type": "stream",
     "text": [
      "C:\\ProgramData\\Anaconda3\\envs\\tensorflow\\lib\\site-packages\\sklearn\\linear_model\\_base.py:313: RuntimeWarning: invalid value encountered in true_divide\n",
      "  prob /= prob.sum(axis=1).reshape((prob.shape[0], -1))\n"
     ]
    },
    {
     "name": "stdout",
     "output_type": "stream",
     "text": [
      "fold 2 得分：0.28585 Cost time: 90\n",
      "fold_3*********************************************\n",
      "train go\n",
      "fold 3 得分：0.28644 Cost time: 86\n",
      "fold_4*********************************************\n",
      "train go\n",
      "fold 4 得分：0.2748566666666667 Cost time: 80\n",
      "fold_5*********************************************\n",
      "train go\n",
      "fold 5 得分：0.2897516666666667 Cost time: 94\n",
      "Mean Accuracy: 0.28108733333333336\n"
     ]
    }
   ],
   "source": [
    "kf = KFold(n_splits=5,shuffle=True,random_state=47)\n",
    "\n",
    "y_train_age = user['age']\n",
    "y_train_gender = user['gender']\n",
    "\n",
    "X_train = count_vector_all[:3000000]\n",
    "X_test = count_vector_all[3000000:]\n",
    "\n",
    "k = 1\n",
    "pred_gender = 0\n",
    "y_train_pred = np.zeros((3000000,10))\n",
    "score_list = []\n",
    "for train_index,test_index in kf.split(X_train,y_train_age):\n",
    "    \n",
    "    start = time.time()\n",
    "    print(f'fold_{k}*********************************************')\n",
    "    k+=1\n",
    "    X_train2 = X_train[train_index,:]\n",
    "    y_train2 = y_train_age.iloc[train_index]\n",
    "    X_test2 = X_train[test_index,:]\n",
    "    y_test2 = y_train_age.iloc[test_index]\n",
    "    \n",
    "    clf = PassiveAggressiveClassifier(random_state=1017)\n",
    "    print('train go')\n",
    "    clf.fit(X_train2,y_train2)\n",
    "    end = time.time()\n",
    "    \n",
    "    y_train_pred[test_index] = clf._predict_proba_lr(X_test2)\n",
    "    tmp_score = accuracy_score(y_test2,clf.predict(X_test2))\n",
    "    pred_gender += clf._predict_proba_lr(X_test)/kf.n_splits\n",
    "    \n",
    "    score_list.append(tmp_score)\n",
    "    print(f'fold {k-1} 得分：{tmp_score}','Cost time:',round(end-start))\n",
    "    gc.collect()\n",
    "print('Mean Accuracy:',np.mean(score_list))"
   ]
  },
  {
   "cell_type": "code",
   "execution_count": 93,
   "metadata": {
    "ExecuteTime": {
     "end_time": "2020-07-19T10:22:47.005893Z",
     "start_time": "2020-07-19T10:22:45.092462Z"
    }
   },
   "outputs": [],
   "source": [
    "pd.DataFrame(y_train_pred).to_pickle('tf-idf-count/pac_tfidf_oof_adv.pkl')\n",
    "pd.DataFrame(pred_gender).to_pickle('tf-idf-count/pac_tfidf_pred_adv.pkl')"
   ]
  },
  {
   "cell_type": "markdown",
   "metadata": {},
   "source": [
    "#### list_prod_id"
   ]
  },
  {
   "cell_type": "code",
   "execution_count": 94,
   "metadata": {
    "ExecuteTime": {
     "end_time": "2020-07-19T10:23:02.606415Z",
     "start_time": "2020-07-19T10:22:52.124549Z"
    }
   },
   "outputs": [],
   "source": [
    "cre_list = df_bag['list_product_id'].apply(lambda x: str(x).replace('[','').replace(']','').replace(',',' '))"
   ]
  },
  {
   "cell_type": "code",
   "execution_count": 95,
   "metadata": {
    "ExecuteTime": {
     "end_time": "2020-07-19T10:23:07.697064Z",
     "start_time": "2020-07-19T10:23:07.689062Z"
    }
   },
   "outputs": [],
   "source": [
    "count_vec = CountVectorizer(dtype = np.float32,min_df=30)\n",
    "#tfidf_vec = TfidfVectorizer(dtype = np.float32,min_df=30)"
   ]
  },
  {
   "cell_type": "code",
   "execution_count": 96,
   "metadata": {
    "ExecuteTime": {
     "end_time": "2020-07-19T10:24:15.358335Z",
     "start_time": "2020-07-19T10:23:12.798212Z"
    }
   },
   "outputs": [],
   "source": [
    "count_vector_all = count_vec.fit_transform(cre_list)"
   ]
  },
  {
   "cell_type": "code",
   "execution_count": 97,
   "metadata": {
    "ExecuteTime": {
     "end_time": "2020-07-19T10:24:19.565791Z",
     "start_time": "2020-07-19T10:24:19.561791Z"
    }
   },
   "outputs": [
    {
     "data": {
      "text/plain": [
       "(4000000, 14203)"
      ]
     },
     "execution_count": 97,
     "metadata": {},
     "output_type": "execute_result"
    }
   ],
   "source": [
    "count_vector_all.shape"
   ]
  },
  {
   "cell_type": "code",
   "execution_count": 98,
   "metadata": {
    "ExecuteTime": {
     "end_time": "2020-07-19T10:38:34.135063Z",
     "start_time": "2020-07-19T10:24:23.739732Z"
    }
   },
   "outputs": [
    {
     "name": "stdout",
     "output_type": "stream",
     "text": [
      "fold_1*********************************************\n",
      "train go\n",
      "fold 1 得分：0.291315 Cost time: 162\n",
      "fold_2*********************************************\n",
      "train go\n",
      "fold 2 得分：0.29275 Cost time: 159\n",
      "fold_3*********************************************\n",
      "train go\n",
      "fold 3 得分：0.29241 Cost time: 158\n",
      "fold_4*********************************************\n",
      "train go\n",
      "fold 4 得分：0.29373 Cost time: 160\n",
      "fold_5*********************************************\n",
      "train go\n",
      "fold 5 得分：0.2908616666666667 Cost time: 160\n",
      "Mean Accuracy: 0.2922133333333334\n"
     ]
    }
   ],
   "source": [
    "kf = KFold(n_splits=5,shuffle=True,random_state=47)\n",
    "\n",
    "y_train_age = user['age']\n",
    "y_train_gender = user['gender']\n",
    "\n",
    "X_train = count_vector_all[:3000000]\n",
    "X_test = count_vector_all[3000000:]\n",
    "\n",
    "k = 1\n",
    "pred_gender = 0\n",
    "y_train_pred = np.zeros((3000000,10))\n",
    "score_list = []\n",
    "for train_index,test_index in kf.split(X_train,y_train_age):\n",
    "    \n",
    "    start = time.time()\n",
    "    print(f'fold_{k}*********************************************')\n",
    "    k+=1\n",
    "    X_train2 = X_train[train_index,:]\n",
    "    y_train2 = y_train_age.iloc[train_index]\n",
    "    X_test2 = X_train[test_index,:]\n",
    "    y_test2 = y_train_age.iloc[test_index]\n",
    "    \n",
    "    clf = LogisticRegression(random_state=47,n_jobs=8)\n",
    "    print('train go')\n",
    "    clf.fit(X_train2,y_train2)\n",
    "    end = time.time()\n",
    "    \n",
    "    y_train_pred[test_index] = clf.predict_proba(X_test2)\n",
    "    tmp_score = accuracy_score(y_test2,clf.predict(X_test2))\n",
    "    pred_gender += clf.predict_proba(X_test)/kf.n_splits\n",
    "    \n",
    "    score_list.append(tmp_score)\n",
    "    print(f'fold {k-1} 得分：{tmp_score}','Cost time:',round(end-start))\n",
    "    gc.collect()\n",
    "print('Mean Accuracy:',np.mean(score_list))"
   ]
  },
  {
   "cell_type": "code",
   "execution_count": 99,
   "metadata": {
    "ExecuteTime": {
     "end_time": "2020-07-19T10:38:38.530555Z",
     "start_time": "2020-07-19T10:38:36.612124Z"
    }
   },
   "outputs": [],
   "source": [
    "pd.DataFrame(y_train_pred).to_pickle('tf-idf-count/logistic_tfidf_oof_prod.pkl')\n",
    "pd.DataFrame(pred_gender).to_pickle('tf-idf-count/logistic_tfidf_pred_prod.pkl')"
   ]
  },
  {
   "cell_type": "code",
   "execution_count": 100,
   "metadata": {
    "ExecuteTime": {
     "end_time": "2020-07-19T10:41:26.201716Z",
     "start_time": "2020-07-19T10:38:41.006112Z"
    }
   },
   "outputs": [
    {
     "name": "stdout",
     "output_type": "stream",
     "text": [
      "fold_1*********************************************\n",
      "train go\n",
      "fold 1 得分：0.29054833333333335 Cost time: 21\n",
      "fold_2*********************************************\n",
      "train go\n",
      "fold 2 得分：0.2923 Cost time: 27\n",
      "fold_3*********************************************\n",
      "train go\n",
      "fold 3 得分：0.2872133333333333 Cost time: 22\n",
      "fold_4*********************************************\n",
      "train go\n",
      "fold 4 得分：0.2908766666666667 Cost time: 24\n",
      "fold_5*********************************************\n",
      "train go\n",
      "fold 5 得分：0.28815666666666667 Cost time: 21\n",
      "Mean Accuracy: 0.289819\n"
     ]
    }
   ],
   "source": [
    "kf = KFold(n_splits=5,shuffle=True,random_state=47)\n",
    "\n",
    "y_train_age = user['age']\n",
    "y_train_gender = user['gender']\n",
    "\n",
    "X_train = count_vector_all[:3000000]\n",
    "X_test = count_vector_all[3000000:]\n",
    "\n",
    "k = 1\n",
    "pred_gender = 0\n",
    "y_train_pred = np.zeros((3000000,10))\n",
    "score_list = []\n",
    "for train_index,test_index in kf.split(X_train,y_train_age):\n",
    "    \n",
    "    start = time.time()\n",
    "    print(f'fold_{k}*********************************************')\n",
    "    k+=1\n",
    "    X_train2 = X_train[train_index,:]\n",
    "    y_train2 = y_train_age.iloc[train_index]\n",
    "    X_test2 = X_train[test_index,:]\n",
    "    y_test2 = y_train_age.iloc[test_index]\n",
    "    \n",
    "    clf = SGDClassifier(random_state=47,loss='log',n_jobs = 8)\n",
    "    print('train go')\n",
    "    clf.fit(X_train2,y_train2)\n",
    "    end = time.time()\n",
    "    \n",
    "    y_train_pred[test_index] = clf.predict_proba(X_test2)\n",
    "    tmp_score = accuracy_score(y_test2,clf.predict(X_test2))\n",
    "    pred_gender += clf.predict_proba(X_test)/kf.n_splits\n",
    "    \n",
    "    score_list.append(tmp_score)\n",
    "    print(f'fold {k-1} 得分：{tmp_score}','Cost time:',round(end-start))\n",
    "    gc.collect()\n",
    "print('Mean Accuracy:',np.mean(score_list))"
   ]
  },
  {
   "cell_type": "code",
   "execution_count": 101,
   "metadata": {
    "ExecuteTime": {
     "end_time": "2020-07-19T10:41:30.671224Z",
     "start_time": "2020-07-19T10:41:28.670774Z"
    }
   },
   "outputs": [],
   "source": [
    "pd.DataFrame(y_train_pred).to_pickle('tf-idf-count/SGDClassifier_tfidf_oof_prod.pkl')\n",
    "pd.DataFrame(pred_gender).to_pickle('tf-idf-count/SGDClassifier_tfidf_pred_prod.pkl')"
   ]
  },
  {
   "cell_type": "code",
   "execution_count": 102,
   "metadata": {
    "ExecuteTime": {
     "end_time": "2020-07-19T10:42:32.745168Z",
     "start_time": "2020-07-19T10:41:33.122777Z"
    }
   },
   "outputs": [
    {
     "name": "stdout",
     "output_type": "stream",
     "text": [
      "fold_1*********************************************\n",
      "train go\n",
      "fold 1 得分：0.260585 Cost time: 1\n",
      "fold_2*********************************************\n",
      "train go\n",
      "fold 2 得分：0.26074833333333336 Cost time: 1\n",
      "fold_3*********************************************\n",
      "train go\n",
      "fold 3 得分：0.259875 Cost time: 1\n",
      "fold_4*********************************************\n",
      "train go\n",
      "fold 4 得分：0.2615766666666667 Cost time: 1\n",
      "fold_5*********************************************\n",
      "train go\n",
      "fold 5 得分：0.260605 Cost time: 1\n",
      "Mean Accuracy: 0.2606780000000001\n"
     ]
    }
   ],
   "source": [
    "kf = KFold(n_splits=5,shuffle=True,random_state=47)\n",
    "\n",
    "y_train_age = user['age']\n",
    "y_train_gender = user['gender']\n",
    "\n",
    "X_train = count_vector_all[:3000000]\n",
    "X_test = count_vector_all[3000000:]\n",
    "\n",
    "k = 1\n",
    "pred_gender = 0\n",
    "y_train_pred = np.zeros((3000000,10))\n",
    "score_list = []\n",
    "for train_index,test_index in kf.split(X_train,y_train_age):\n",
    "    \n",
    "    start = time.time()\n",
    "    print(f'fold_{k}*********************************************')\n",
    "    k+=1\n",
    "    X_train2 = X_train[train_index,:]\n",
    "    y_train2 = y_train_age.iloc[train_index]\n",
    "    X_test2 = X_train[test_index,:]\n",
    "    y_test2 = y_train_age.iloc[test_index]\n",
    "    \n",
    "    clf = MultinomialNB()\n",
    "    print('train go')\n",
    "    clf.fit(X_train2,y_train2)\n",
    "    end = time.time()\n",
    "    \n",
    "    y_train_pred[test_index] = clf.predict_proba(X_test2)\n",
    "    tmp_score = accuracy_score(y_test2,clf.predict(X_test2))\n",
    "    pred_gender += clf.predict_proba(X_test)/kf.n_splits\n",
    "    \n",
    "    score_list.append(tmp_score)\n",
    "    print(f'fold {k-1} 得分：{tmp_score}','Cost time:',round(end-start))\n",
    "    gc.collect()\n",
    "print('Mean Accuracy:',np.mean(score_list))"
   ]
  },
  {
   "cell_type": "code",
   "execution_count": 103,
   "metadata": {
    "ExecuteTime": {
     "end_time": "2020-07-19T10:42:37.202371Z",
     "start_time": "2020-07-19T10:42:35.243930Z"
    }
   },
   "outputs": [],
   "source": [
    "pd.DataFrame(y_train_pred).to_pickle('tf-idf-count/multinNB_tfidf_oof_prod.pkl')\n",
    "pd.DataFrame(pred_gender).to_pickle('tf-idf-count/multinNB_tfidf_pred_prod.pkl')"
   ]
  },
  {
   "cell_type": "code",
   "execution_count": 104,
   "metadata": {
    "ExecuteTime": {
     "end_time": "2020-07-19T10:43:41.438913Z",
     "start_time": "2020-07-19T10:42:39.727538Z"
    }
   },
   "outputs": [
    {
     "name": "stdout",
     "output_type": "stream",
     "text": [
      "fold_1*********************************************\n",
      "train go\n",
      "fold 1 得分：0.2841266666666667 Cost time: 1\n",
      "fold_2*********************************************\n",
      "train go\n",
      "fold 2 得分：0.28441833333333333 Cost time: 1\n",
      "fold_3*********************************************\n",
      "train go\n",
      "fold 3 得分：0.28264333333333336 Cost time: 1\n",
      "fold_4*********************************************\n",
      "train go\n",
      "fold 4 得分：0.28433166666666665 Cost time: 1\n",
      "fold_5*********************************************\n",
      "train go\n",
      "fold 5 得分：0.2832983333333333 Cost time: 1\n",
      "Mean Accuracy: 0.28376366666666664\n"
     ]
    }
   ],
   "source": [
    "kf = KFold(n_splits=5,shuffle=True,random_state=47)\n",
    "\n",
    "y_train_age = user['age']\n",
    "y_train_gender = user['gender']\n",
    "\n",
    "X_train = count_vector_all[:3000000]\n",
    "X_test = count_vector_all[3000000:]\n",
    "\n",
    "k = 1\n",
    "pred_gender = 0\n",
    "y_train_pred = np.zeros((3000000,10))\n",
    "score_list = []\n",
    "for train_index,test_index in kf.split(X_train,y_train_age):\n",
    "    \n",
    "    start = time.time()\n",
    "    print(f'fold_{k}*********************************************')\n",
    "    k+=1\n",
    "    X_train2 = X_train[train_index,:]\n",
    "    y_train2 = y_train_age.iloc[train_index]\n",
    "    X_test2 = X_train[test_index,:]\n",
    "    y_test2 = y_train_age.iloc[test_index]\n",
    "    \n",
    "    clf = BernoulliNB()\n",
    "    print('train go')\n",
    "    clf.fit(X_train2,y_train2)\n",
    "    end = time.time()\n",
    "    \n",
    "    y_train_pred[test_index] = clf.predict_proba(X_test2)\n",
    "    tmp_score = accuracy_score(y_test2,clf.predict(X_test2))\n",
    "    pred_gender += clf.predict_proba(X_test)/kf.n_splits\n",
    "    \n",
    "    score_list.append(tmp_score)\n",
    "    print(f'fold {k-1} 得分：{tmp_score}','Cost time:',round(end-start))\n",
    "    gc.collect()\n",
    "print('Mean Accuracy:',np.mean(score_list))"
   ]
  },
  {
   "cell_type": "code",
   "execution_count": 105,
   "metadata": {
    "ExecuteTime": {
     "end_time": "2020-07-19T10:43:45.849906Z",
     "start_time": "2020-07-19T10:43:43.896467Z"
    }
   },
   "outputs": [],
   "source": [
    "pd.DataFrame(y_train_pred).to_pickle('tf-idf-count/BernoulliNB_tfidf_oof_prod.pkl')\n",
    "pd.DataFrame(pred_gender).to_pickle('tf-idf-count/BernoulliNB_tfidf_pred_prod.pkl')"
   ]
  },
  {
   "cell_type": "code",
   "execution_count": 106,
   "metadata": {
    "ExecuteTime": {
     "end_time": "2020-07-19T10:49:42.395041Z",
     "start_time": "2020-07-19T10:43:48.322463Z"
    }
   },
   "outputs": [
    {
     "name": "stdout",
     "output_type": "stream",
     "text": [
      "fold_1*********************************************\n",
      "train go\n",
      "fold 1 得分：0.21631666666666666 Cost time: 56\n",
      "fold_2*********************************************\n",
      "train go\n",
      "fold 2 得分：0.226775 Cost time: 63\n",
      "fold_3*********************************************\n",
      "train go\n",
      "fold 3 得分：0.20886166666666667 Cost time: 72\n",
      "fold_4*********************************************\n",
      "train go\n"
     ]
    },
    {
     "name": "stderr",
     "output_type": "stream",
     "text": [
      "C:\\ProgramData\\Anaconda3\\envs\\tensorflow\\lib\\site-packages\\sklearn\\linear_model\\_base.py:313: RuntimeWarning: invalid value encountered in true_divide\n",
      "  prob /= prob.sum(axis=1).reshape((prob.shape[0], -1))\n"
     ]
    },
    {
     "name": "stdout",
     "output_type": "stream",
     "text": [
      "fold 4 得分：0.21067 Cost time: 57\n",
      "fold_5*********************************************\n",
      "train go\n",
      "fold 5 得分：0.19653833333333334 Cost time: 55\n",
      "Mean Accuracy: 0.21183233333333334\n"
     ]
    }
   ],
   "source": [
    "kf = KFold(n_splits=5,shuffle=True,random_state=47)\n",
    "\n",
    "y_train_age = user['age']\n",
    "y_train_gender = user['gender']\n",
    "\n",
    "X_train = count_vector_all[:3000000]\n",
    "X_test = count_vector_all[3000000:]\n",
    "\n",
    "k = 1\n",
    "pred_gender = 0\n",
    "y_train_pred = np.zeros((3000000,10))\n",
    "score_list = []\n",
    "for train_index,test_index in kf.split(X_train,y_train_age):\n",
    "    \n",
    "    start = time.time()\n",
    "    print(f'fold_{k}*********************************************')\n",
    "    k+=1\n",
    "    X_train2 = X_train[train_index,:]\n",
    "    y_train2 = y_train_age.iloc[train_index]\n",
    "    X_test2 = X_train[test_index,:]\n",
    "    y_test2 = y_train_age.iloc[test_index]\n",
    "    \n",
    "    clf = PassiveAggressiveClassifier(random_state=1017)\n",
    "    print('train go')\n",
    "    clf.fit(X_train2,y_train2)\n",
    "    end = time.time()\n",
    "    \n",
    "    y_train_pred[test_index] = clf._predict_proba_lr(X_test2)\n",
    "    tmp_score = accuracy_score(y_test2,clf.predict(X_test2))\n",
    "    pred_gender += clf._predict_proba_lr(X_test)/kf.n_splits\n",
    "    \n",
    "    score_list.append(tmp_score)\n",
    "    print(f'fold {k-1} 得分：{tmp_score}','Cost time:',round(end-start))\n",
    "    gc.collect()\n",
    "print('Mean Accuracy:',np.mean(score_list))"
   ]
  },
  {
   "cell_type": "code",
   "execution_count": 107,
   "metadata": {
    "ExecuteTime": {
     "end_time": "2020-07-19T10:49:46.868551Z",
     "start_time": "2020-07-19T10:49:44.935116Z"
    }
   },
   "outputs": [],
   "source": [
    "pd.DataFrame(y_train_pred).to_pickle('tf-idf-count/pac_tfidf_oof_prod.pkl')\n",
    "pd.DataFrame(pred_gender).to_pickle('tf-idf-count/pac_tfidf_pred_prod.pkl')"
   ]
  },
  {
   "cell_type": "code",
   "execution_count": null,
   "metadata": {},
   "outputs": [],
   "source": []
  },
  {
   "cell_type": "code",
   "execution_count": null,
   "metadata": {},
   "outputs": [],
   "source": []
  }
 ],
 "metadata": {
  "kernelspec": {
   "display_name": "Python [conda env:tensorflow] *",
   "language": "python",
   "name": "conda-env-tensorflow-py"
  },
  "language_info": {
   "codemirror_mode": {
    "name": "ipython",
    "version": 3
   },
   "file_extension": ".py",
   "mimetype": "text/x-python",
   "name": "python",
   "nbconvert_exporter": "python",
   "pygments_lexer": "ipython3",
   "version": "3.6.10"
  },
  "toc": {
   "base_numbering": 1,
   "nav_menu": {},
   "number_sections": true,
   "sideBar": true,
   "skip_h1_title": false,
   "title_cell": "Table of Contents",
   "title_sidebar": "Contents",
   "toc_cell": false,
   "toc_position": {
    "height": "calc(100% - 180px)",
    "left": "10px",
    "top": "150px",
    "width": "409.6px"
   },
   "toc_section_display": true,
   "toc_window_display": true
  },
  "varInspector": {
   "cols": {
    "lenName": 16,
    "lenType": 16,
    "lenVar": 40
   },
   "kernels_config": {
    "python": {
     "delete_cmd_postfix": "",
     "delete_cmd_prefix": "del ",
     "library": "var_list.py",
     "varRefreshCmd": "print(var_dic_list())"
    },
    "r": {
     "delete_cmd_postfix": ") ",
     "delete_cmd_prefix": "rm(",
     "library": "var_list.r",
     "varRefreshCmd": "cat(var_dic_list()) "
    }
   },
   "types_to_exclude": [
    "module",
    "function",
    "builtin_function_or_method",
    "instance",
    "_Feature"
   ],
   "window_display": false
  }
 },
 "nbformat": 4,
 "nbformat_minor": 4
}
