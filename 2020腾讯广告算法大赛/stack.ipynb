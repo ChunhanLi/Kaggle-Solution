{
 "cells": [
  {
   "cell_type": "code",
   "execution_count": 1,
   "metadata": {
    "ExecuteTime": {
     "end_time": "2020-07-21T01:39:44.908745Z",
     "start_time": "2020-07-21T01:39:02.856386Z"
    }
   },
   "outputs": [
    {
     "name": "stderr",
     "output_type": "stream",
     "text": [
      "Using TensorFlow backend.\n"
     ]
    }
   ],
   "source": [
    "import pandas as pd\n",
    "import numpy as np\n",
    "import numpy as np\n",
    "import pandas as pd\n",
    "import seaborn as sns\n",
    "import matplotlib.pyplot as plt \n",
    "from sklearn import preprocessing\n",
    "from sklearn.preprocessing import LabelEncoder\n",
    "import catboost as cb\n",
    "import lightgbm as lgb\n",
    "from sklearn.ensemble import RandomForestClassifier\n",
    "from sklearn.model_selection import GridSearchCV, ShuffleSplit,StratifiedKFold,TimeSeriesSplit,KFold,GroupKFold,train_test_split,GroupShuffleSplit,StratifiedShuffleSplit\n",
    "from sklearn.metrics import roc_auc_score,mean_squared_error,mean_absolute_error,log_loss,confusion_matrix,accuracy_score\n",
    "import sqlite3\n",
    "import xgboost as xgb\n",
    "import datetime\n",
    "from sklearn.linear_model import LogisticRegression\n",
    "from scipy.stats import pearsonr\n",
    "import gc\n",
    "from sklearn.model_selection import TimeSeriesSplit\n",
    "#from bayes_opt import BayesianOptimization\n",
    "import re\n",
    "from string import punctuation\n",
    "from scipy.spatial import Voronoi\n",
    "from scipy.spatial import ConvexHull\n",
    "from scipy.spatial import Delaunay\n",
    "from tqdm.notebook import tqdm\n",
    "#from numba import jit\n",
    "from collections import Counter\n",
    "import json\n",
    "import joblib\n",
    "import multiprocessing\n",
    "import time\n",
    "import keras\n",
    "from sklearn.preprocessing import StandardScaler,OneHotEncoder\n",
    "from gensim.models import Word2Vec\n",
    "from keras.preprocessing.text import Tokenizer, text_to_word_sequence\n",
    "from keras.preprocessing.sequence import pad_sequences\n",
    "import keras.backend as K\n",
    "from keras import models\n",
    "from keras import layers\n",
    "from keras.models import Sequential\n",
    "from keras.layers import Dense,Dropout,BatchNormalization,Embedding, LSTM, \\\n",
    "                            Bidirectional,GRU,Input,Conv1D,GlobalAveragePooling1D,GlobalMaxPool1D,concatenate"
   ]
  },
  {
   "cell_type": "code",
   "execution_count": null,
   "metadata": {},
   "outputs": [],
   "source": []
  },
  {
   "cell_type": "code",
   "execution_count": 2,
   "metadata": {
    "ExecuteTime": {
     "end_time": "2020-07-21T01:39:46.013100Z",
     "start_time": "2020-07-21T01:39:44.914543Z"
    }
   },
   "outputs": [],
   "source": [
    "sub = pd.read_csv('stack/2020-06-22-final-stack-2.csv')\n",
    "user = pd.read_pickle('stack/user.pkl')"
   ]
  },
  {
   "cell_type": "code",
   "execution_count": 3,
   "metadata": {
    "ExecuteTime": {
     "end_time": "2020-07-21T01:39:49.280417Z",
     "start_time": "2020-07-21T01:39:46.016068Z"
    }
   },
   "outputs": [],
   "source": [
    "v1_age_pred = pd.read_pickle('stack/fusai_v1_age_pred.pkl').values\n",
    "v1_age_oof = pd.read_pickle('stack/fusai_v1_age_oof.pkl').values\n",
    "v1_gender_pred = pd.read_pickle('stack/fusai_v1_gender_pred.pkl').values.reshape(-1,)\n",
    "v1_gender_oof = pd.read_pickle('stack/fusai_v1_gender_oof.pkl').values.reshape(-1,)"
   ]
  },
  {
   "cell_type": "code",
   "execution_count": 4,
   "metadata": {
    "ExecuteTime": {
     "end_time": "2020-07-21T01:39:51.952909Z",
     "start_time": "2020-07-21T01:39:49.289393Z"
    }
   },
   "outputs": [],
   "source": [
    "v2_age_pred = pd.read_pickle('stack/fusai_v2_age_pred.pkl').values\n",
    "v2_age_oof = pd.read_pickle('stack/fusai_v2_age_oof.pkl').values\n",
    "# v1_gender_pred = pd.read_pickle('stack/fusai_v1_gender_pred.pkl').values.reshape(-1,)\n",
    "# v1_gender_oof = pd.read_pickle('stack/fusai_v1_gender_oof.pkl').values.reshape(-1,)"
   ]
  },
  {
   "cell_type": "code",
   "execution_count": 5,
   "metadata": {
    "ExecuteTime": {
     "end_time": "2020-07-21T01:39:54.508329Z",
     "start_time": "2020-07-21T01:39:51.961887Z"
    }
   },
   "outputs": [],
   "source": [
    "v4_age_pred = pd.read_pickle('stack/fusai_v4_age_pred.pkl').values\n",
    "v4_age_oof = pd.read_pickle('stack/fusai_v4_age_oof.pkl').values\n",
    "# v1_gender_pred = pd.read_pickle('stack/fusai_v1_gender_pred.pkl').values.reshape(-1,)\n",
    "# v1_gender_oof = pd.read_pickle('stack/fusai_v1_gender_oof.pkl').values.reshape(-1,)"
   ]
  },
  {
   "cell_type": "code",
   "execution_count": 6,
   "metadata": {
    "ExecuteTime": {
     "end_time": "2020-07-21T01:39:57.233072Z",
     "start_time": "2020-07-21T01:39:54.509327Z"
    }
   },
   "outputs": [],
   "source": [
    "v5_age_pred = pd.read_pickle('stack/fusai_v5_age_pred.pkl').values\n",
    "v5_age_oof = pd.read_pickle('stack/fusai_v5_age_oof.pkl').values"
   ]
  },
  {
   "cell_type": "code",
   "execution_count": 7,
   "metadata": {
    "ExecuteTime": {
     "end_time": "2020-07-21T01:39:59.943673Z",
     "start_time": "2020-07-21T01:39:57.236067Z"
    }
   },
   "outputs": [],
   "source": [
    "v8_age_pred = pd.read_pickle('stack/fusai_v8_age_pred.pkl').values\n",
    "v8_age_oof = pd.read_pickle('stack/fusai_v8_age_oof.pkl').values"
   ]
  },
  {
   "cell_type": "code",
   "execution_count": 8,
   "metadata": {
    "ExecuteTime": {
     "end_time": "2020-07-21T01:40:09.146268Z",
     "start_time": "2020-07-21T01:39:59.945637Z"
    }
   },
   "outputs": [],
   "source": [
    "v3_age_pred = pd.read_csv('stack/age_pred_dmj.csv').iloc[:,:10].values\n",
    "v3_age_oof = pd.read_csv('stack/age_oof_dmj.csv').iloc[:,:10].values"
   ]
  },
  {
   "cell_type": "code",
   "execution_count": 9,
   "metadata": {
    "ExecuteTime": {
     "end_time": "2020-07-21T01:40:13.205637Z",
     "start_time": "2020-07-21T01:40:09.148256Z"
    }
   },
   "outputs": [],
   "source": [
    "v6_age_pred = pd.read_pickle('stack/fusai_v6_age_pred.pkl').values\n",
    "v6_age_oof = pd.read_pickle('stack/fusai_v6_age_oof.pkl').values\n",
    "# v1_gender_pred = pd.read_pickle('stack/fusai_v1_gender_pred.pkl').values.reshape(-1,)\n",
    "# v1_gender_oof = pd.read_pickle('stack/fusai_v1_gender_oof.pkl').values.reshape(-1,)"
   ]
  },
  {
   "cell_type": "code",
   "execution_count": 10,
   "metadata": {
    "ExecuteTime": {
     "end_time": "2020-07-21T01:40:13.564676Z",
     "start_time": "2020-07-21T01:40:13.206635Z"
    }
   },
   "outputs": [],
   "source": [
    "v13_age_pred = pd.read_pickle('stack/lgb_final_pred.pkl').values\n",
    "v13_age_oof = pd.read_pickle('stack/lgb_final_oof.pkl').values\n",
    "# v1_gender_pred = pd.read_pickle('stack/fusai_v1_gender_pred.pkl').values.reshape(-1,)\n",
    "# v1_gender_oof = pd.read_pickle('stack/fusai_v1_gender_oof.pkl').values.reshape(-1,)"
   ]
  },
  {
   "cell_type": "code",
   "execution_count": 11,
   "metadata": {
    "ExecuteTime": {
     "end_time": "2020-07-21T01:40:17.017280Z",
     "start_time": "2020-07-21T01:40:13.566671Z"
    }
   },
   "outputs": [],
   "source": [
    "v11_age_pred = pd.read_pickle('stack/fusai_v11_age_pred.pkl').values\n",
    "v11_age_oof = pd.read_pickle('stack/fusai_v11_age_oof.pkl').values\n",
    "# v1_gender_pred = pd.read_pickle('stack/fusai_v1_gender_pred.pkl').values.reshape(-1,)\n",
    "# v1_gender_oof = pd.read_pickle('stack/fusai_v1_gender_oof.pkl').values.reshape(-1,)"
   ]
  },
  {
   "cell_type": "code",
   "execution_count": 12,
   "metadata": {
    "ExecuteTime": {
     "end_time": "2020-07-21T01:40:25.248299Z",
     "start_time": "2020-07-21T01:40:17.019286Z"
    }
   },
   "outputs": [],
   "source": [
    "v12_age_pred = pd.read_pickle('stack/v12_age_pred.pkl').values\n",
    "v12_age_oof = pd.read_pickle('stack/v12_age_oof.pkl').values\n",
    "# v1_gender_pred = pd.read_pickle('stack/fusai_v1_gender_pred.pkl').values.reshape(-1,)\n",
    "# v1_gender_oof = pd.read_pickle('stack/fusai_v1_gender_oof.pkl').values.reshape(-1,)"
   ]
  },
  {
   "cell_type": "code",
   "execution_count": 17,
   "metadata": {
    "ExecuteTime": {
     "end_time": "2020-07-12T16:19:47.677070Z",
     "start_time": "2020-07-12T16:19:47.203660Z"
    }
   },
   "outputs": [
    {
     "data": {
      "text/plain": [
       "0.5014706666666666"
      ]
     },
     "execution_count": 17,
     "metadata": {},
     "output_type": "execute_result"
    }
   ],
   "source": [
    "accuracy_score(user.age,v5_age_oof.argmax(axis=1)+1)"
   ]
  },
  {
   "cell_type": "code",
   "execution_count": 20,
   "metadata": {
    "ExecuteTime": {
     "end_time": "2020-07-14T06:12:43.321997Z",
     "start_time": "2020-07-14T06:12:43.165416Z"
    }
   },
   "outputs": [
    {
     "data": {
      "text/plain": [
       "0.867954"
      ]
     },
     "execution_count": 20,
     "metadata": {},
     "output_type": "execute_result"
    }
   ],
   "source": [
    "accuracy_score(v1_age_pred.argmax(axis=1)+1,v2_age_pred.argmax(axis=1)+1)"
   ]
  },
  {
   "cell_type": "code",
   "execution_count": 23,
   "metadata": {
    "ExecuteTime": {
     "end_time": "2020-07-14T06:13:25.608971Z",
     "start_time": "2020-07-14T06:13:25.401525Z"
    }
   },
   "outputs": [
    {
     "data": {
      "text/plain": [
       "0.842366"
      ]
     },
     "execution_count": 23,
     "metadata": {},
     "output_type": "execute_result"
    }
   ],
   "source": [
    "accuracy_score(v3_age_pred.argmax(axis=1)+1,v6_age_pred.argmax(axis=1)+1)"
   ]
  },
  {
   "cell_type": "code",
   "execution_count": null,
   "metadata": {},
   "outputs": [],
   "source": [
    "print(accuracy_score(user.age-1,v4_age_oof.argmax(axis=1)))"
   ]
  },
  {
   "cell_type": "code",
   "execution_count": 6,
   "metadata": {
    "ExecuteTime": {
     "end_time": "2020-07-06T01:29:26.963164Z",
     "start_time": "2020-07-06T01:29:26.449986Z"
    }
   },
   "outputs": [
    {
     "name": "stdout",
     "output_type": "stream",
     "text": [
      "0.512579\n"
     ]
    }
   ],
   "source": [
    "####check\n",
    "print(accuracy_score(user.age-1,v4_age_oof.argmax(axis=1)))\n",
    "#print(accuracy_score(user.age-1,v2_age_oof.argmax(axis=1)))"
   ]
  },
  {
   "cell_type": "code",
   "execution_count": 16,
   "metadata": {
    "ExecuteTime": {
     "end_time": "2020-07-06T01:31:14.098540Z",
     "start_time": "2020-07-06T01:31:14.041452Z"
    }
   },
   "outputs": [],
   "source": [
    "sub.predicted_gender = -1\n",
    "sub.predicted_age = v4_age_pred.argmax(axis=1)+1"
   ]
  },
  {
   "cell_type": "code",
   "execution_count": 17,
   "metadata": {
    "ExecuteTime": {
     "end_time": "2020-07-06T01:31:36.316654Z",
     "start_time": "2020-07-06T01:31:34.632651Z"
    }
   },
   "outputs": [],
   "source": [
    "sub.to_csv('v4_age.csv',index=False)"
   ]
  },
  {
   "cell_type": "markdown",
   "metadata": {},
   "source": [
    "### age"
   ]
  },
  {
   "cell_type": "markdown",
   "metadata": {},
   "source": [
    "#### v1+V2"
   ]
  },
  {
   "cell_type": "code",
   "execution_count": 10,
   "metadata": {
    "ExecuteTime": {
     "end_time": "2020-07-04T06:52:29.017312Z",
     "start_time": "2020-07-04T06:52:28.390989Z"
    }
   },
   "outputs": [
    {
     "data": {
      "text/plain": [
       "0.5114823333333334"
      ]
     },
     "execution_count": 10,
     "metadata": {},
     "output_type": "execute_result"
    }
   ],
   "source": [
    "####check\n",
    "print(accuracy_score(user.age-1,v1_age_oof.argmax(axis=1)))\n",
    "print(accuracy_score(user.age-1,v2_age_oof.argmax(axis=1)))"
   ]
  },
  {
   "cell_type": "code",
   "execution_count": 12,
   "metadata": {
    "ExecuteTime": {
     "end_time": "2020-07-04T06:56:09.194522Z",
     "start_time": "2020-07-04T06:56:08.105438Z"
    }
   },
   "outputs": [],
   "source": [
    "df = np.hstack((v1_age_oof,v2_age_oof))\n",
    "X_train = pd.DataFrame(df)\n",
    "X_train = X_train.add_prefix('col_')"
   ]
  },
  {
   "cell_type": "code",
   "execution_count": 13,
   "metadata": {
    "ExecuteTime": {
     "end_time": "2020-07-04T06:56:09.469824Z",
     "start_time": "2020-07-04T06:56:09.198512Z"
    }
   },
   "outputs": [],
   "source": [
    "df = np.hstack((v1_age_pred,v2_age_pred))\n",
    "X_test = pd.DataFrame(df)\n",
    "X_test = X_test.add_prefix('col_')"
   ]
  },
  {
   "cell_type": "code",
   "execution_count": 16,
   "metadata": {
    "ExecuteTime": {
     "end_time": "2020-07-04T07:29:14.846796Z",
     "start_time": "2020-07-04T06:57:55.175540Z"
    }
   },
   "outputs": [
    {
     "name": "stdout",
     "output_type": "stream",
     "text": [
      "(3000000, 20)\n",
      "fold_1*********************************************\n",
      "Training until validation scores don't improve for 100 rounds\n",
      "[50]\ttraining's Accuracy: 0.516329\tvalid_1's Accuracy: 0.516585\n",
      "[100]\ttraining's Accuracy: 0.516565\tvalid_1's Accuracy: 0.517065\n",
      "[150]\ttraining's Accuracy: 0.516673\tvalid_1's Accuracy: 0.516953\n",
      "[200]\ttraining's Accuracy: 0.516709\tvalid_1's Accuracy: 0.516892\n",
      "Early stopping, best iteration is:\n",
      "[103]\ttraining's Accuracy: 0.516587\tvalid_1's Accuracy: 0.517072\n",
      "fold_2*********************************************\n",
      "Training until validation scores don't improve for 100 rounds\n",
      "[50]\ttraining's Accuracy: 0.51632\tvalid_1's Accuracy: 0.516708\n",
      "[100]\ttraining's Accuracy: 0.516598\tvalid_1's Accuracy: 0.516987\n",
      "[150]\ttraining's Accuracy: 0.51668\tvalid_1's Accuracy: 0.516988\n",
      "Early stopping, best iteration is:\n",
      "[73]\ttraining's Accuracy: 0.516536\tvalid_1's Accuracy: 0.51709\n",
      "fold_3*********************************************\n",
      "Training until validation scores don't improve for 100 rounds\n",
      "[50]\ttraining's Accuracy: 0.516513\tvalid_1's Accuracy: 0.515913\n",
      "[100]\ttraining's Accuracy: 0.516839\tvalid_1's Accuracy: 0.515905\n",
      "[150]\ttraining's Accuracy: 0.516861\tvalid_1's Accuracy: 0.515877\n",
      "Early stopping, best iteration is:\n",
      "[56]\ttraining's Accuracy: 0.51662\tvalid_1's Accuracy: 0.516075\n",
      "fold_4*********************************************\n",
      "Training until validation scores don't improve for 100 rounds\n",
      "[50]\ttraining's Accuracy: 0.516779\tvalid_1's Accuracy: 0.515083\n",
      "[100]\ttraining's Accuracy: 0.517053\tvalid_1's Accuracy: 0.515345\n",
      "[150]\ttraining's Accuracy: 0.517065\tvalid_1's Accuracy: 0.515305\n",
      "[200]\ttraining's Accuracy: 0.517045\tvalid_1's Accuracy: 0.515237\n",
      "Early stopping, best iteration is:\n",
      "[101]\ttraining's Accuracy: 0.517058\tvalid_1's Accuracy: 0.515373\n",
      "fold_5*********************************************\n",
      "Training until validation scores don't improve for 100 rounds\n",
      "[50]\ttraining's Accuracy: 0.516359\tvalid_1's Accuracy: 0.51655\n",
      "[100]\ttraining's Accuracy: 0.516667\tvalid_1's Accuracy: 0.51664\n",
      "[150]\ttraining's Accuracy: 0.516734\tvalid_1's Accuracy: 0.516665\n",
      "Early stopping, best iteration is:\n",
      "[65]\ttraining's Accuracy: 0.516591\tvalid_1's Accuracy: 0.516773\n"
     ]
    }
   ],
   "source": [
    "###第一列1 第二列2 13 15 18 22\n",
    "### age\n",
    "print(X_train.shape)\n",
    "kf = StratifiedKFold(n_splits=5,shuffle=True,random_state=1102)\n",
    "y_train_age = user['age']\n",
    "y_train_gender = user['gender']\n",
    "# X_test = pd.concat([w2v_creative_id_mean[900000:],w2v_ad_id_mean[900000:],\\\n",
    "#                  w2v_product_id_mean[900000:],w2v_advertiser_id_mean[900000:],\\\n",
    "#                  w2v_industry_mean[900000:]],axis=1)\n",
    "fea_impor = 0\n",
    "k = 1\n",
    "pred_gender = 0\n",
    "y_train_pred = np.zeros((y_train_age.shape[0],10))\n",
    "score_list = []\n",
    "for train_index,test_index in kf.split(X_train,y_train_age):\n",
    "    print(f'fold_{k}*********************************************')\n",
    "    k+=1\n",
    "    X_train2 = X_train.iloc[train_index,:]\n",
    "    y_train2 = y_train_age.iloc[train_index]\n",
    "    X_test2 = X_train.iloc[test_index,:]\n",
    "    y_test2 = y_train_age.iloc[test_index]\n",
    "    clf = lgb.LGBMClassifier(n_estimators=10000, random_state=47,learning_rate=0.05,importance_type = 'gain',n_jobs = -1,metric='None',num_leaves=15)\n",
    "    def acc_score(y_true,y_pred):\n",
    "        y_pred = y_pred.reshape(-1,10,order = 'F').argmax(axis=1)\n",
    "        return 'Accuracy', accuracy_score(y_true,y_pred), True\n",
    "    clf.fit(X_train2,y_train2,eval_set = [(X_train2,y_train2),(X_test2,y_test2)],early_stopping_rounds=100,verbose=50\\\n",
    "            ,eval_metric=lambda y_true,y_pred:acc_score(y_true,y_pred))\n",
    "    temp = clf.predict_proba(X_test2)\n",
    "    y_train_pred[test_index,:] = temp\n",
    "    score_list.append(accuracy_score(y_test2,temp.argmax(axis=1)+1))\n",
    "    fea_impor += clf.feature_importances_/kf.n_splits\n",
    "    pred_gender += clf.predict_proba(X_test)/kf.n_splits\n",
    "print('mean',np.mean(score_list))"
   ]
  },
  {
   "cell_type": "code",
   "execution_count": 26,
   "metadata": {
    "ExecuteTime": {
     "end_time": "2020-07-04T10:15:15.715206Z",
     "start_time": "2020-07-04T10:15:15.142736Z"
    }
   },
   "outputs": [
    {
     "data": {
      "text/plain": [
       "0.5164766666666667"
      ]
     },
     "execution_count": 26,
     "metadata": {},
     "output_type": "execute_result"
    }
   ],
   "source": [
    "accuracy_score(user.age-1,pd.read_pickle('stack_v1_v2_oof_skf1102.pkl').values.argmax(axis=1))"
   ]
  },
  {
   "cell_type": "code",
   "execution_count": 17,
   "metadata": {
    "ExecuteTime": {
     "end_time": "2020-07-04T07:29:17.955601Z",
     "start_time": "2020-07-04T07:29:14.851748Z"
    }
   },
   "outputs": [],
   "source": [
    "pd.DataFrame(y_train_pred).to_pickle('stack_v1_v2_oof_skf1102.pkl')\n",
    "pd.DataFrame(pred_gender).to_pickle('stack_v1_v2_pred_skf1102.pkl')"
   ]
  },
  {
   "cell_type": "code",
   "execution_count": 18,
   "metadata": {
    "ExecuteTime": {
     "end_time": "2020-07-04T08:01:31.607972Z",
     "start_time": "2020-07-04T07:29:17.960625Z"
    }
   },
   "outputs": [
    {
     "name": "stdout",
     "output_type": "stream",
     "text": [
      "(3000000, 20)\n",
      "fold_1*********************************************\n",
      "Training until validation scores don't improve for 100 rounds\n",
      "[50]\ttraining's Accuracy: 0.516224\tvalid_1's Accuracy: 0.51705\n",
      "[100]\ttraining's Accuracy: 0.516603\tvalid_1's Accuracy: 0.51704\n",
      "[150]\ttraining's Accuracy: 0.516644\tvalid_1's Accuracy: 0.517147\n",
      "Early stopping, best iteration is:\n",
      "[66]\ttraining's Accuracy: 0.516446\tvalid_1's Accuracy: 0.517223\n",
      "fold_2*********************************************\n",
      "Training until validation scores don't improve for 100 rounds\n",
      "[50]\ttraining's Accuracy: 0.516674\tvalid_1's Accuracy: 0.515237\n",
      "[100]\ttraining's Accuracy: 0.516922\tvalid_1's Accuracy: 0.515912\n",
      "[150]\ttraining's Accuracy: 0.517027\tvalid_1's Accuracy: 0.515868\n",
      "[200]\ttraining's Accuracy: 0.51705\tvalid_1's Accuracy: 0.515767\n",
      "Early stopping, best iteration is:\n",
      "[101]\ttraining's Accuracy: 0.516932\tvalid_1's Accuracy: 0.515943\n",
      "fold_3*********************************************\n",
      "Training until validation scores don't improve for 100 rounds\n",
      "[50]\ttraining's Accuracy: 0.51654\tvalid_1's Accuracy: 0.515472\n",
      "[100]\ttraining's Accuracy: 0.51695\tvalid_1's Accuracy: 0.515972\n",
      "[150]\ttraining's Accuracy: 0.516935\tvalid_1's Accuracy: 0.516008\n",
      "[200]\ttraining's Accuracy: 0.516943\tvalid_1's Accuracy: 0.516012\n",
      "Early stopping, best iteration is:\n",
      "[119]\ttraining's Accuracy: 0.516942\tvalid_1's Accuracy: 0.516082\n",
      "fold_4*********************************************\n",
      "Training until validation scores don't improve for 100 rounds\n",
      "[50]\ttraining's Accuracy: 0.516373\tvalid_1's Accuracy: 0.516612\n",
      "[100]\ttraining's Accuracy: 0.51679\tvalid_1's Accuracy: 0.51659\n",
      "[150]\ttraining's Accuracy: 0.516888\tvalid_1's Accuracy: 0.516673\n",
      "Early stopping, best iteration is:\n",
      "[63]\ttraining's Accuracy: 0.516622\tvalid_1's Accuracy: 0.51686\n",
      "fold_5*********************************************\n",
      "Training until validation scores don't improve for 100 rounds\n",
      "[50]\ttraining's Accuracy: 0.516444\tvalid_1's Accuracy: 0.5162\n",
      "[100]\ttraining's Accuracy: 0.516729\tvalid_1's Accuracy: 0.516607\n",
      "[150]\ttraining's Accuracy: 0.516754\tvalid_1's Accuracy: 0.51657\n",
      "[200]\ttraining's Accuracy: 0.516742\tvalid_1's Accuracy: 0.516562\n",
      "Early stopping, best iteration is:\n",
      "[104]\ttraining's Accuracy: 0.516717\tvalid_1's Accuracy: 0.516655\n"
     ]
    }
   ],
   "source": [
    "###第一列1 第二列2 13 15 18 22\n",
    "### age\n",
    "print(X_train.shape)\n",
    "kf = StratifiedKFold(n_splits=5,shuffle=True,random_state=476)\n",
    "y_train_age = user['age']\n",
    "y_train_gender = user['gender']\n",
    "# X_test = pd.concat([w2v_creative_id_mean[900000:],w2v_ad_id_mean[900000:],\\\n",
    "#                  w2v_product_id_mean[900000:],w2v_advertiser_id_mean[900000:],\\\n",
    "#                  w2v_industry_mean[900000:]],axis=1)\n",
    "fea_impor = 0\n",
    "k = 1\n",
    "pred_gender = 0\n",
    "y_train_pred = np.zeros((y_train_age.shape[0],10))\n",
    "score_list = []\n",
    "for train_index,test_index in kf.split(X_train,y_train_age):\n",
    "    print(f'fold_{k}*********************************************')\n",
    "    k+=1\n",
    "    X_train2 = X_train.iloc[train_index,:]\n",
    "    y_train2 = y_train_age.iloc[train_index]\n",
    "    X_test2 = X_train.iloc[test_index,:]\n",
    "    y_test2 = y_train_age.iloc[test_index]\n",
    "    clf = lgb.LGBMClassifier(n_estimators=10000, random_state=47,learning_rate=0.05,importance_type = 'gain',n_jobs = -1,metric='None',num_leaves=15)\n",
    "    def acc_score(y_true,y_pred):\n",
    "        y_pred = y_pred.reshape(-1,10,order = 'F').argmax(axis=1)\n",
    "        return 'Accuracy', accuracy_score(y_true,y_pred), True\n",
    "    clf.fit(X_train2,y_train2,eval_set = [(X_train2,y_train2),(X_test2,y_test2)],early_stopping_rounds=100,verbose=50\\\n",
    "            ,eval_metric=lambda y_true,y_pred:acc_score(y_true,y_pred))\n",
    "    temp = clf.predict_proba(X_test2)\n",
    "    y_train_pred[test_index,:] = temp\n",
    "    score_list.append(accuracy_score(y_test2,temp.argmax(axis=1)+1))\n",
    "    fea_impor += clf.feature_importances_/kf.n_splits\n",
    "    pred_gender += clf.predict_proba(X_test)/kf.n_splits\n"
   ]
  },
  {
   "cell_type": "code",
   "execution_count": 27,
   "metadata": {
    "ExecuteTime": {
     "end_time": "2020-07-04T10:15:25.903752Z",
     "start_time": "2020-07-04T10:15:25.332307Z"
    }
   },
   "outputs": [
    {
     "data": {
      "text/plain": [
       "0.5165526666666667"
      ]
     },
     "execution_count": 27,
     "metadata": {},
     "output_type": "execute_result"
    }
   ],
   "source": [
    "accuracy_score(user.age-1,pd.read_pickle('stack_v1_v2_oof_skf476.pkl').values.argmax(axis=1))"
   ]
  },
  {
   "cell_type": "code",
   "execution_count": 19,
   "metadata": {
    "ExecuteTime": {
     "end_time": "2020-07-04T08:01:35.287702Z",
     "start_time": "2020-07-04T08:01:31.614922Z"
    }
   },
   "outputs": [],
   "source": [
    "pd.DataFrame(y_train_pred).to_pickle('stack_v1_v2_oof_skf476.pkl')\n",
    "pd.DataFrame(pred_gender).to_pickle('stack_v1_v2_pred_skf476.pkl')"
   ]
  },
  {
   "cell_type": "code",
   "execution_count": 20,
   "metadata": {
    "ExecuteTime": {
     "end_time": "2020-07-04T08:39:42.369614Z",
     "start_time": "2020-07-04T08:01:35.290658Z"
    }
   },
   "outputs": [
    {
     "name": "stdout",
     "output_type": "stream",
     "text": [
      "(3000000, 20)\n",
      "fold_1*********************************************\n",
      "Training until validation scores don't improve for 100 rounds\n",
      "[50]\ttraining's Accuracy: 0.51641\tvalid_1's Accuracy: 0.516408\n",
      "[100]\ttraining's Accuracy: 0.516772\tvalid_1's Accuracy: 0.516597\n",
      "[150]\ttraining's Accuracy: 0.51681\tvalid_1's Accuracy: 0.516607\n",
      "Early stopping, best iteration is:\n",
      "[70]\ttraining's Accuracy: 0.516668\tvalid_1's Accuracy: 0.516772\n",
      "fold_2*********************************************\n",
      "Training until validation scores don't improve for 100 rounds\n",
      "[50]\ttraining's Accuracy: 0.51655\tvalid_1's Accuracy: 0.515875\n",
      "[100]\ttraining's Accuracy: 0.516852\tvalid_1's Accuracy: 0.51637\n",
      "[150]\ttraining's Accuracy: 0.516872\tvalid_1's Accuracy: 0.516352\n",
      "[200]\ttraining's Accuracy: 0.516878\tvalid_1's Accuracy: 0.516408\n",
      "[250]\ttraining's Accuracy: 0.516802\tvalid_1's Accuracy: 0.516278\n",
      "Early stopping, best iteration is:\n",
      "[181]\ttraining's Accuracy: 0.516891\tvalid_1's Accuracy: 0.516415\n",
      "fold_3*********************************************\n",
      "Training until validation scores don't improve for 100 rounds\n",
      "[50]\ttraining's Accuracy: 0.516515\tvalid_1's Accuracy: 0.515955\n",
      "[100]\ttraining's Accuracy: 0.516769\tvalid_1's Accuracy: 0.51621\n",
      "[150]\ttraining's Accuracy: 0.516779\tvalid_1's Accuracy: 0.516345\n",
      "[200]\ttraining's Accuracy: 0.516835\tvalid_1's Accuracy: 0.516378\n",
      "[250]\ttraining's Accuracy: 0.516745\tvalid_1's Accuracy: 0.516233\n",
      "[300]\ttraining's Accuracy: 0.51685\tvalid_1's Accuracy: 0.516245\n",
      "Early stopping, best iteration is:\n",
      "[202]\ttraining's Accuracy: 0.516837\tvalid_1's Accuracy: 0.516388\n",
      "fold_4*********************************************\n",
      "Training until validation scores don't improve for 100 rounds\n",
      "[50]\ttraining's Accuracy: 0.516582\tvalid_1's Accuracy: 0.51558\n",
      "[100]\ttraining's Accuracy: 0.51687\tvalid_1's Accuracy: 0.515713\n",
      "[150]\ttraining's Accuracy: 0.516882\tvalid_1's Accuracy: 0.515678\n",
      "[200]\ttraining's Accuracy: 0.516891\tvalid_1's Accuracy: 0.515635\n",
      "Early stopping, best iteration is:\n",
      "[130]\ttraining's Accuracy: 0.516884\tvalid_1's Accuracy: 0.515727\n",
      "fold_5*********************************************\n",
      "Training until validation scores don't improve for 100 rounds\n",
      "[50]\ttraining's Accuracy: 0.516244\tvalid_1's Accuracy: 0.51696\n",
      "[100]\ttraining's Accuracy: 0.516639\tvalid_1's Accuracy: 0.517095\n",
      "[150]\ttraining's Accuracy: 0.516668\tvalid_1's Accuracy: 0.517123\n",
      "Early stopping, best iteration is:\n",
      "[72]\ttraining's Accuracy: 0.516575\tvalid_1's Accuracy: 0.517207\n"
     ]
    }
   ],
   "source": [
    "###第一列1 第二列2 13 15 18 22\n",
    "### age\n",
    "print(X_train.shape)\n",
    "kf = KFold(n_splits=5,shuffle=True,random_state=357)\n",
    "y_train_age = user['age']\n",
    "y_train_gender = user['gender']\n",
    "# X_test = pd.concat([w2v_creative_id_mean[900000:],w2v_ad_id_mean[900000:],\\\n",
    "#                  w2v_product_id_mean[900000:],w2v_advertiser_id_mean[900000:],\\\n",
    "#                  w2v_industry_mean[900000:]],axis=1)\n",
    "fea_impor = 0\n",
    "k = 1\n",
    "pred_gender = 0\n",
    "y_train_pred = np.zeros((y_train_age.shape[0],10))\n",
    "score_list = []\n",
    "for train_index,test_index in kf.split(X_train,y_train_age):\n",
    "    print(f'fold_{k}*********************************************')\n",
    "    k+=1\n",
    "    X_train2 = X_train.iloc[train_index,:]\n",
    "    y_train2 = y_train_age.iloc[train_index]\n",
    "    X_test2 = X_train.iloc[test_index,:]\n",
    "    y_test2 = y_train_age.iloc[test_index]\n",
    "    clf = lgb.LGBMClassifier(n_estimators=10000, random_state=47,learning_rate=0.05,importance_type = 'gain',n_jobs = -1,metric='None',num_leaves=15)\n",
    "    def acc_score(y_true,y_pred):\n",
    "        y_pred = y_pred.reshape(-1,10,order = 'F').argmax(axis=1)\n",
    "        return 'Accuracy', accuracy_score(y_true,y_pred), True\n",
    "    clf.fit(X_train2,y_train2,eval_set = [(X_train2,y_train2),(X_test2,y_test2)],early_stopping_rounds=100,verbose=50\\\n",
    "            ,eval_metric=lambda y_true,y_pred:acc_score(y_true,y_pred))\n",
    "    temp = clf.predict_proba(X_test2)\n",
    "    y_train_pred[test_index,:] = temp\n",
    "    score_list.append(accuracy_score(y_test2,temp.argmax(axis=1)+1))\n",
    "    fea_impor += clf.feature_importances_/kf.n_splits\n",
    "    pred_gender += clf.predict_proba(X_test)/kf.n_splits\n"
   ]
  },
  {
   "cell_type": "code",
   "execution_count": 28,
   "metadata": {
    "ExecuteTime": {
     "end_time": "2020-07-04T10:15:41.605577Z",
     "start_time": "2020-07-04T10:15:41.037096Z"
    }
   },
   "outputs": [
    {
     "data": {
      "text/plain": [
       "0.5165016666666666"
      ]
     },
     "execution_count": 28,
     "metadata": {},
     "output_type": "execute_result"
    }
   ],
   "source": [
    "accuracy_score(user.age-1,pd.read_pickle('stack_v1_v2_oof_kf357.pkl').values.argmax(axis=1))"
   ]
  },
  {
   "cell_type": "code",
   "execution_count": 21,
   "metadata": {
    "ExecuteTime": {
     "end_time": "2020-07-04T08:39:46.180459Z",
     "start_time": "2020-07-04T08:39:42.373602Z"
    }
   },
   "outputs": [],
   "source": [
    "pd.DataFrame(y_train_pred).to_pickle('stack_v1_v2_oof_kf357.pkl')\n",
    "pd.DataFrame(pred_gender).to_pickle('stack_v1_v2_pred_kf357.pkl')"
   ]
  },
  {
   "cell_type": "code",
   "execution_count": 22,
   "metadata": {
    "ExecuteTime": {
     "end_time": "2020-07-04T09:30:08.405783Z",
     "start_time": "2020-07-04T08:39:46.181457Z"
    }
   },
   "outputs": [
    {
     "name": "stdout",
     "output_type": "stream",
     "text": [
      "(3000000, 20)\n",
      "fold_1*********************************************\n",
      "Training until validation scores don't improve for 100 rounds\n",
      "[50]\ttraining's Accuracy: 0.513719\tvalid_1's Accuracy: 0.513063\n",
      "[100]\ttraining's Accuracy: 0.516507\tvalid_1's Accuracy: 0.516117\n",
      "[150]\ttraining's Accuracy: 0.516813\tvalid_1's Accuracy: 0.51598\n",
      "[200]\ttraining's Accuracy: 0.516873\tvalid_1's Accuracy: 0.516062\n",
      "Early stopping, best iteration is:\n",
      "[113]\ttraining's Accuracy: 0.516619\tvalid_1's Accuracy: 0.516258\n",
      "fold_2*********************************************\n",
      "Training until validation scores don't improve for 100 rounds\n",
      "[50]\ttraining's Accuracy: 0.513394\tvalid_1's Accuracy: 0.513952\n",
      "[100]\ttraining's Accuracy: 0.516261\tvalid_1's Accuracy: 0.51695\n",
      "[150]\ttraining's Accuracy: 0.516605\tvalid_1's Accuracy: 0.517262\n",
      "[200]\ttraining's Accuracy: 0.516637\tvalid_1's Accuracy: 0.517243\n",
      "[250]\ttraining's Accuracy: 0.516664\tvalid_1's Accuracy: 0.517188\n",
      "Early stopping, best iteration is:\n",
      "[157]\ttraining's Accuracy: 0.516617\tvalid_1's Accuracy: 0.517337\n",
      "fold_3*********************************************\n",
      "Training until validation scores don't improve for 100 rounds\n",
      "[50]\ttraining's Accuracy: 0.513727\tvalid_1's Accuracy: 0.512555\n",
      "[100]\ttraining's Accuracy: 0.51657\tvalid_1's Accuracy: 0.51536\n",
      "[150]\ttraining's Accuracy: 0.516853\tvalid_1's Accuracy: 0.515633\n",
      "[200]\ttraining's Accuracy: 0.516876\tvalid_1's Accuracy: 0.515737\n",
      "[250]\ttraining's Accuracy: 0.516892\tvalid_1's Accuracy: 0.515632\n",
      "Early stopping, best iteration is:\n",
      "[196]\ttraining's Accuracy: 0.516886\tvalid_1's Accuracy: 0.515765\n",
      "fold_4*********************************************\n",
      "Training until validation scores don't improve for 100 rounds\n",
      "[50]\ttraining's Accuracy: 0.513617\tvalid_1's Accuracy: 0.513078\n",
      "[100]\ttraining's Accuracy: 0.51652\tvalid_1's Accuracy: 0.51565\n",
      "[150]\ttraining's Accuracy: 0.516845\tvalid_1's Accuracy: 0.516042\n",
      "[200]\ttraining's Accuracy: 0.516948\tvalid_1's Accuracy: 0.516197\n",
      "[250]\ttraining's Accuracy: 0.516967\tvalid_1's Accuracy: 0.516172\n",
      "[300]\ttraining's Accuracy: 0.516981\tvalid_1's Accuracy: 0.516277\n",
      "[350]\ttraining's Accuracy: 0.516977\tvalid_1's Accuracy: 0.516307\n",
      "[400]\ttraining's Accuracy: 0.516987\tvalid_1's Accuracy: 0.51628\n",
      "Early stopping, best iteration is:\n",
      "[334]\ttraining's Accuracy: 0.516979\tvalid_1's Accuracy: 0.516328\n",
      "fold_5*********************************************\n",
      "Training until validation scores don't improve for 100 rounds\n",
      "[50]\ttraining's Accuracy: 0.513414\tvalid_1's Accuracy: 0.513137\n",
      "[100]\ttraining's Accuracy: 0.516365\tvalid_1's Accuracy: 0.516362\n",
      "[150]\ttraining's Accuracy: 0.516615\tvalid_1's Accuracy: 0.516643\n",
      "[200]\ttraining's Accuracy: 0.51667\tvalid_1's Accuracy: 0.51682\n",
      "[250]\ttraining's Accuracy: 0.51677\tvalid_1's Accuracy: 0.516837\n",
      "Early stopping, best iteration is:\n",
      "[184]\ttraining's Accuracy: 0.516679\tvalid_1's Accuracy: 0.516863\n"
     ]
    }
   ],
   "source": [
    "###第一列1 第二列2 13 15 18 22\n",
    "### age\n",
    "print(X_train.shape)\n",
    "kf = KFold(n_splits=5,shuffle=True,random_state=43)\n",
    "y_train_age = user['age']\n",
    "y_train_gender = user['gender']\n",
    "# X_test = pd.concat([w2v_creative_id_mean[900000:],w2v_ad_id_mean[900000:],\\\n",
    "#                  w2v_product_id_mean[900000:],w2v_advertiser_id_mean[900000:],\\\n",
    "#                  w2v_industry_mean[900000:]],axis=1)\n",
    "fea_impor = 0\n",
    "k = 1\n",
    "pred_gender = 0\n",
    "y_train_pred = np.zeros((y_train_age.shape[0],10))\n",
    "score_list = []\n",
    "for train_index,test_index in kf.split(X_train,y_train_age):\n",
    "    print(f'fold_{k}*********************************************')\n",
    "    k+=1\n",
    "    X_train2 = X_train.iloc[train_index,:]\n",
    "    y_train2 = y_train_age.iloc[train_index]\n",
    "    X_test2 = X_train.iloc[test_index,:]\n",
    "    y_test2 = y_train_age.iloc[test_index]\n",
    "    clf = lgb.LGBMClassifier(n_estimators=10000, random_state=47,learning_rate=0.025,importance_type = 'gain',n_jobs = -1,metric='None',num_leaves=15,\\\n",
    "                            bagging_freq = 1,subsample=0.8)\n",
    "    def acc_score(y_true,y_pred):\n",
    "        y_pred = y_pred.reshape(-1,10,order = 'F').argmax(axis=1)\n",
    "        return 'Accuracy', accuracy_score(y_true,y_pred), True\n",
    "    clf.fit(X_train2,y_train2,eval_set = [(X_train2,y_train2),(X_test2,y_test2)],early_stopping_rounds=100,verbose=50\\\n",
    "            ,eval_metric=lambda y_true,y_pred:acc_score(y_true,y_pred))\n",
    "    temp = clf.predict_proba(X_test2)\n",
    "    y_train_pred[test_index,:] = temp\n",
    "    score_list.append(accuracy_score(y_test2,temp.argmax(axis=1)+1))\n",
    "    fea_impor += clf.feature_importances_/kf.n_splits\n",
    "    pred_gender += clf.predict_proba(X_test)/kf.n_splits\n"
   ]
  },
  {
   "cell_type": "code",
   "execution_count": 29,
   "metadata": {
    "ExecuteTime": {
     "end_time": "2020-07-04T10:15:51.318323Z",
     "start_time": "2020-07-04T10:15:50.752838Z"
    }
   },
   "outputs": [
    {
     "data": {
      "text/plain": [
       "0.5165103333333333"
      ]
     },
     "execution_count": 29,
     "metadata": {},
     "output_type": "execute_result"
    }
   ],
   "source": [
    "accuracy_score(user.age-1,pd.read_pickle('stack_v1_v2_oof_kf43_sub08.pkl').values.argmax(axis=1))"
   ]
  },
  {
   "cell_type": "code",
   "execution_count": 23,
   "metadata": {
    "ExecuteTime": {
     "end_time": "2020-07-04T09:30:11.857680Z",
     "start_time": "2020-07-04T09:30:08.407778Z"
    }
   },
   "outputs": [],
   "source": [
    "pd.DataFrame(y_train_pred).to_pickle('stack_v1_v2_oof_kf43_sub08.pkl')\n",
    "pd.DataFrame(pred_gender).to_pickle('stack_v1_v2_pred_kf43_sub08.pkl')"
   ]
  },
  {
   "cell_type": "code",
   "execution_count": 24,
   "metadata": {
    "ExecuteTime": {
     "end_time": "2020-07-04T10:14:54.266040Z",
     "start_time": "2020-07-04T09:30:11.859641Z"
    }
   },
   "outputs": [
    {
     "name": "stdout",
     "output_type": "stream",
     "text": [
      "(3000000, 20)\n",
      "fold_1*********************************************\n",
      "Training until validation scores don't improve for 100 rounds\n",
      "[50]\ttraining's Accuracy: 0.513393\tvalid_1's Accuracy: 0.513875\n",
      "[100]\ttraining's Accuracy: 0.516416\tvalid_1's Accuracy: 0.516555\n",
      "[150]\ttraining's Accuracy: 0.516556\tvalid_1's Accuracy: 0.516793\n",
      "[200]\ttraining's Accuracy: 0.516663\tvalid_1's Accuracy: 0.51667\n",
      "[250]\ttraining's Accuracy: 0.516716\tvalid_1's Accuracy: 0.516867\n",
      "[300]\ttraining's Accuracy: 0.516719\tvalid_1's Accuracy: 0.516768\n",
      "Early stopping, best iteration is:\n",
      "[248]\ttraining's Accuracy: 0.516718\tvalid_1's Accuracy: 0.5169\n",
      "fold_2*********************************************\n",
      "Training until validation scores don't improve for 100 rounds\n",
      "[50]\ttraining's Accuracy: 0.513685\tvalid_1's Accuracy: 0.512952\n",
      "[100]\ttraining's Accuracy: 0.516705\tvalid_1's Accuracy: 0.515478\n",
      "[150]\ttraining's Accuracy: 0.516891\tvalid_1's Accuracy: 0.515675\n",
      "[200]\ttraining's Accuracy: 0.516972\tvalid_1's Accuracy: 0.51578\n",
      "[250]\ttraining's Accuracy: 0.517028\tvalid_1's Accuracy: 0.515708\n",
      "[300]\ttraining's Accuracy: 0.517014\tvalid_1's Accuracy: 0.515723\n",
      "Early stopping, best iteration is:\n",
      "[208]\ttraining's Accuracy: 0.517001\tvalid_1's Accuracy: 0.515805\n",
      "fold_3*********************************************\n",
      "Training until validation scores don't improve for 100 rounds\n",
      "[50]\ttraining's Accuracy: 0.513548\tvalid_1's Accuracy: 0.51331\n",
      "[100]\ttraining's Accuracy: 0.516348\tvalid_1's Accuracy: 0.516332\n",
      "[150]\ttraining's Accuracy: 0.516682\tvalid_1's Accuracy: 0.516642\n",
      "[200]\ttraining's Accuracy: 0.516778\tvalid_1's Accuracy: 0.51664\n",
      "[250]\ttraining's Accuracy: 0.516856\tvalid_1's Accuracy: 0.516592\n",
      "Early stopping, best iteration is:\n",
      "[162]\ttraining's Accuracy: 0.516748\tvalid_1's Accuracy: 0.51673\n",
      "fold_4*********************************************\n",
      "Training until validation scores don't improve for 100 rounds\n",
      "[50]\ttraining's Accuracy: 0.513731\tvalid_1's Accuracy: 0.512575\n",
      "[100]\ttraining's Accuracy: 0.516613\tvalid_1's Accuracy: 0.515443\n",
      "[150]\ttraining's Accuracy: 0.516861\tvalid_1's Accuracy: 0.515817\n",
      "[200]\ttraining's Accuracy: 0.516864\tvalid_1's Accuracy: 0.515778\n",
      "[250]\ttraining's Accuracy: 0.516907\tvalid_1's Accuracy: 0.515715\n",
      "Early stopping, best iteration is:\n",
      "[159]\ttraining's Accuracy: 0.516862\tvalid_1's Accuracy: 0.515865\n",
      "fold_5*********************************************\n",
      "Training until validation scores don't improve for 100 rounds\n",
      "[50]\ttraining's Accuracy: 0.513468\tvalid_1's Accuracy: 0.513773\n",
      "[100]\ttraining's Accuracy: 0.516277\tvalid_1's Accuracy: 0.516893\n",
      "[150]\ttraining's Accuracy: 0.516595\tvalid_1's Accuracy: 0.51717\n",
      "[200]\ttraining's Accuracy: 0.516618\tvalid_1's Accuracy: 0.517128\n",
      "[250]\ttraining's Accuracy: 0.51664\tvalid_1's Accuracy: 0.517117\n",
      "Early stopping, best iteration is:\n",
      "[154]\ttraining's Accuracy: 0.516604\tvalid_1's Accuracy: 0.517198\n"
     ]
    }
   ],
   "source": [
    "###第一列1 第二列2 13 15 18 22\n",
    "### age\n",
    "print(X_train.shape)\n",
    "kf = KFold(n_splits=5,shuffle=True,random_state=9)\n",
    "y_train_age = user['age']\n",
    "y_train_gender = user['gender']\n",
    "# X_test = pd.concat([w2v_creative_id_mean[900000:],w2v_ad_id_mean[900000:],\\\n",
    "#                  w2v_product_id_mean[900000:],w2v_advertiser_id_mean[900000:],\\\n",
    "#                  w2v_industry_mean[900000:]],axis=1)\n",
    "fea_impor = 0\n",
    "k = 1\n",
    "pred_gender = 0\n",
    "y_train_pred = np.zeros((y_train_age.shape[0],10))\n",
    "score_list = []\n",
    "for train_index,test_index in kf.split(X_train,y_train_age):\n",
    "    print(f'fold_{k}*********************************************')\n",
    "    k+=1\n",
    "    X_train2 = X_train.iloc[train_index,:]\n",
    "    y_train2 = y_train_age.iloc[train_index]\n",
    "    X_test2 = X_train.iloc[test_index,:]\n",
    "    y_test2 = y_train_age.iloc[test_index]\n",
    "    clf = lgb.LGBMClassifier(n_estimators=10000, random_state=47,learning_rate=0.025,importance_type = 'gain',n_jobs = -1,metric='None',num_leaves=15,\\\n",
    "                            bagging_freq = 1,subsample=0.6,colsample_bytree=0.9)\n",
    "    def acc_score(y_true,y_pred):\n",
    "        y_pred = y_pred.reshape(-1,10,order = 'F').argmax(axis=1)\n",
    "        return 'Accuracy', accuracy_score(y_true,y_pred), True\n",
    "    clf.fit(X_train2,y_train2,eval_set = [(X_train2,y_train2),(X_test2,y_test2)],early_stopping_rounds=100,verbose=50\\\n",
    "            ,eval_metric=lambda y_true,y_pred:acc_score(y_true,y_pred))\n",
    "    temp = clf.predict_proba(X_test2)\n",
    "    y_train_pred[test_index,:] = temp\n",
    "    score_list.append(accuracy_score(y_test2,temp.argmax(axis=1)+1))\n",
    "    fea_impor += clf.feature_importances_/kf.n_splits\n",
    "    pred_gender += clf.predict_proba(X_test)/kf.n_splits\n"
   ]
  },
  {
   "cell_type": "code",
   "execution_count": 30,
   "metadata": {
    "ExecuteTime": {
     "end_time": "2020-07-04T10:16:00.052929Z",
     "start_time": "2020-07-04T10:15:59.477468Z"
    }
   },
   "outputs": [
    {
     "data": {
      "text/plain": [
       "0.5164996666666667"
      ]
     },
     "execution_count": 30,
     "metadata": {},
     "output_type": "execute_result"
    }
   ],
   "source": [
    "accuracy_score(user.age-1,pd.read_pickle('stack_v1_v2_oof_kf9_sub06_col09.pkl').values.argmax(axis=1))"
   ]
  },
  {
   "cell_type": "code",
   "execution_count": 25,
   "metadata": {
    "ExecuteTime": {
     "end_time": "2020-07-04T10:14:58.292789Z",
     "start_time": "2020-07-04T10:14:54.268000Z"
    }
   },
   "outputs": [],
   "source": [
    "pd.DataFrame(y_train_pred).to_pickle('stack_v1_v2_oof_kf9_sub06_col09.pkl')\n",
    "pd.DataFrame(pred_gender).to_pickle('stack_v1_v2_pred_kf9_sub06_col09.pkl')"
   ]
  },
  {
   "cell_type": "code",
   "execution_count": 54,
   "metadata": {
    "ExecuteTime": {
     "end_time": "2020-07-04T10:45:13.555422Z",
     "start_time": "2020-07-04T10:45:13.123541Z"
    }
   },
   "outputs": [],
   "source": [
    "d1 = pd.read_pickle('stack_v1_v2_pred_kf9_sub06_col09.pkl').values\n",
    "d2 = pd.read_pickle('stack_v1_v2_pred_kf43_sub08.pkl').values\n",
    "d3 = pd.read_pickle('stack_v1_v2_pred_kf357.pkl').values\n",
    "d4 = pd.read_pickle('stack_v1_v2_pred_skf476.pkl').values\n",
    "d5 = pd.read_pickle('stack_v1_v2_pred_skf1102.pkl').values"
   ]
  },
  {
   "cell_type": "code",
   "execution_count": 55,
   "metadata": {
    "ExecuteTime": {
     "end_time": "2020-07-04T10:45:13.955790Z",
     "start_time": "2020-07-04T10:45:13.710408Z"
    }
   },
   "outputs": [],
   "source": [
    "d= (d1+d2+d3+d4+d5).argmax(axis=1)+1"
   ]
  },
  {
   "cell_type": "code",
   "execution_count": 48,
   "metadata": {
    "ExecuteTime": {
     "end_time": "2020-07-04T10:34:28.563755Z",
     "start_time": "2020-07-04T10:34:27.214366Z"
    }
   },
   "outputs": [],
   "source": [
    "d1 = pd.read_pickle('stack_v1_v2_oof_kf9_sub06_col09.pkl').values\n",
    "d2 = pd.read_pickle('stack_v1_v2_oof_kf43_sub08.pkl').values\n",
    "d3 = pd.read_pickle('stack_v1_v2_oof_kf357.pkl').values\n",
    "d4 = pd.read_pickle('stack_v1_v2_oof_skf476.pkl').values\n",
    "d5 = pd.read_pickle('stack_v1_v2_oof_skf1102.pkl').values"
   ]
  },
  {
   "cell_type": "code",
   "execution_count": 49,
   "metadata": {
    "ExecuteTime": {
     "end_time": "2020-07-04T10:34:31.597278Z",
     "start_time": "2020-07-04T10:34:30.897120Z"
    }
   },
   "outputs": [],
   "source": [
    "d= (d1+d2+d3+d4+d5).argmax(axis=1)+1"
   ]
  },
  {
   "cell_type": "code",
   "execution_count": 50,
   "metadata": {
    "ExecuteTime": {
     "end_time": "2020-07-04T10:34:37.270684Z",
     "start_time": "2020-07-04T10:34:37.078226Z"
    }
   },
   "outputs": [
    {
     "data": {
      "text/plain": [
       "0.5164686666666667"
      ]
     },
     "execution_count": 50,
     "metadata": {},
     "output_type": "execute_result"
    }
   ],
   "source": [
    "accuracy_score(user.age,d)"
   ]
  },
  {
   "cell_type": "markdown",
   "metadata": {},
   "source": [
    "#### v1+v2+v4"
   ]
  },
  {
   "cell_type": "code",
   "execution_count": 24,
   "metadata": {
    "ExecuteTime": {
     "end_time": "2020-07-06T02:40:04.982777Z",
     "start_time": "2020-07-06T02:40:03.616430Z"
    }
   },
   "outputs": [
    {
     "name": "stdout",
     "output_type": "stream",
     "text": [
      "0.5114823333333334\n",
      "0.5116426666666667\n",
      "0.512579\n"
     ]
    }
   ],
   "source": [
    "####check\n",
    "print(accuracy_score(user.age-1,v1_age_oof.argmax(axis=1)))\n",
    "print(accuracy_score(user.age-1,v2_age_oof.argmax(axis=1)))\n",
    "print(accuracy_score(user.age-1,v4_age_oof.argmax(axis=1)))"
   ]
  },
  {
   "cell_type": "code",
   "execution_count": 25,
   "metadata": {
    "ExecuteTime": {
     "end_time": "2020-07-06T02:40:13.902652Z",
     "start_time": "2020-07-06T02:40:10.936583Z"
    }
   },
   "outputs": [],
   "source": [
    "df = np.hstack((v1_age_oof,v2_age_oof,v4_age_oof))\n",
    "X_train = pd.DataFrame(df)\n",
    "X_train = X_train.add_prefix('col_')"
   ]
  },
  {
   "cell_type": "code",
   "execution_count": 26,
   "metadata": {
    "ExecuteTime": {
     "end_time": "2020-07-06T02:40:14.954841Z",
     "start_time": "2020-07-06T02:40:13.908638Z"
    }
   },
   "outputs": [],
   "source": [
    "df = np.hstack((v1_age_pred,v2_age_pred,v4_age_pred))\n",
    "X_test = pd.DataFrame(df)\n",
    "X_test = X_test.add_prefix('col_')"
   ]
  },
  {
   "cell_type": "code",
   "execution_count": 27,
   "metadata": {
    "ExecuteTime": {
     "end_time": "2020-07-06T03:31:06.823766Z",
     "start_time": "2020-07-06T02:40:14.962820Z"
    }
   },
   "outputs": [
    {
     "name": "stdout",
     "output_type": "stream",
     "text": [
      "(3000000, 30)\n",
      "fold_1*********************************************\n",
      "Training until validation scores don't improve for 100 rounds\n",
      "[50]\ttraining's Accuracy: 0.517719\tvalid_1's Accuracy: 0.517883\n",
      "[100]\ttraining's Accuracy: 0.518102\tvalid_1's Accuracy: 0.518442\n",
      "[150]\ttraining's Accuracy: 0.518079\tvalid_1's Accuracy: 0.518325\n",
      "[200]\ttraining's Accuracy: 0.518114\tvalid_1's Accuracy: 0.51833\n",
      "Early stopping, best iteration is:\n",
      "[106]\ttraining's Accuracy: 0.518115\tvalid_1's Accuracy: 0.518452\n",
      "fold_2*********************************************\n",
      "Training until validation scores don't improve for 100 rounds\n",
      "[50]\ttraining's Accuracy: 0.517655\tvalid_1's Accuracy: 0.51802\n",
      "[100]\ttraining's Accuracy: 0.51812\tvalid_1's Accuracy: 0.518402\n",
      "[150]\ttraining's Accuracy: 0.518144\tvalid_1's Accuracy: 0.518452\n",
      "[200]\ttraining's Accuracy: 0.518127\tvalid_1's Accuracy: 0.51838\n",
      "Early stopping, best iteration is:\n",
      "[138]\ttraining's Accuracy: 0.518142\tvalid_1's Accuracy: 0.518483\n",
      "fold_3*********************************************\n",
      "Training until validation scores don't improve for 100 rounds\n",
      "[50]\ttraining's Accuracy: 0.517915\tvalid_1's Accuracy: 0.51698\n",
      "[100]\ttraining's Accuracy: 0.518345\tvalid_1's Accuracy: 0.517145\n",
      "[150]\ttraining's Accuracy: 0.518421\tvalid_1's Accuracy: 0.517133\n",
      "[200]\ttraining's Accuracy: 0.518444\tvalid_1's Accuracy: 0.51717\n",
      "[250]\ttraining's Accuracy: 0.518399\tvalid_1's Accuracy: 0.517043\n",
      "Early stopping, best iteration is:\n",
      "[197]\ttraining's Accuracy: 0.518442\tvalid_1's Accuracy: 0.517185\n",
      "fold_4*********************************************\n",
      "Training until validation scores don't improve for 100 rounds\n",
      "[50]\ttraining's Accuracy: 0.518104\tvalid_1's Accuracy: 0.516485\n",
      "[100]\ttraining's Accuracy: 0.518486\tvalid_1's Accuracy: 0.51647\n",
      "[150]\ttraining's Accuracy: 0.518537\tvalid_1's Accuracy: 0.51648\n",
      "Early stopping, best iteration is:\n",
      "[67]\ttraining's Accuracy: 0.518328\tvalid_1's Accuracy: 0.516718\n",
      "fold_5*********************************************\n",
      "Training until validation scores don't improve for 100 rounds\n",
      "[50]\ttraining's Accuracy: 0.517649\tvalid_1's Accuracy: 0.517995\n",
      "[100]\ttraining's Accuracy: 0.518\tvalid_1's Accuracy: 0.518275\n",
      "[150]\ttraining's Accuracy: 0.518051\tvalid_1's Accuracy: 0.518345\n",
      "[200]\ttraining's Accuracy: 0.518056\tvalid_1's Accuracy: 0.518353\n",
      "Early stopping, best iteration is:\n",
      "[135]\ttraining's Accuracy: 0.518038\tvalid_1's Accuracy: 0.518375\n",
      "mean 0.5178426666666667\n"
     ]
    }
   ],
   "source": [
    "###第一列1 第二列2 13 15 18 22\n",
    "### age\n",
    "print(X_train.shape)\n",
    "kf = StratifiedKFold(n_splits=5,shuffle=True,random_state=1102)\n",
    "y_train_age = user['age']\n",
    "y_train_gender = user['gender']\n",
    "# X_test = pd.concat([w2v_creative_id_mean[900000:],w2v_ad_id_mean[900000:],\\\n",
    "#                  w2v_product_id_mean[900000:],w2v_advertiser_id_mean[900000:],\\\n",
    "#                  w2v_industry_mean[900000:]],axis=1)\n",
    "fea_impor = 0\n",
    "k = 1\n",
    "pred_gender = 0\n",
    "y_train_pred = np.zeros((y_train_age.shape[0],10))\n",
    "score_list = []\n",
    "for train_index,test_index in kf.split(X_train,y_train_age):\n",
    "    print(f'fold_{k}*********************************************')\n",
    "    k+=1\n",
    "    X_train2 = X_train.iloc[train_index,:]\n",
    "    y_train2 = y_train_age.iloc[train_index]\n",
    "    X_test2 = X_train.iloc[test_index,:]\n",
    "    y_test2 = y_train_age.iloc[test_index]\n",
    "    clf = lgb.LGBMClassifier(n_estimators=10000, random_state=47,learning_rate=0.05,importance_type = 'gain',n_jobs = -1,metric='None',num_leaves=15)\n",
    "    def acc_score(y_true,y_pred):\n",
    "        y_pred = y_pred.reshape(-1,10,order = 'F').argmax(axis=1)\n",
    "        return 'Accuracy', accuracy_score(y_true,y_pred), True\n",
    "    clf.fit(X_train2,y_train2,eval_set = [(X_train2,y_train2),(X_test2,y_test2)],early_stopping_rounds=100,verbose=50\\\n",
    "            ,eval_metric=lambda y_true,y_pred:acc_score(y_true,y_pred))\n",
    "    temp = clf.predict_proba(X_test2)\n",
    "    y_train_pred[test_index,:] = temp\n",
    "    score_list.append(accuracy_score(y_test2,temp.argmax(axis=1)+1))\n",
    "    fea_impor += clf.feature_importances_/kf.n_splits\n",
    "    pred_gender += clf.predict_proba(X_test)/kf.n_splits\n",
    "print('mean',np.mean(score_list))"
   ]
  },
  {
   "cell_type": "code",
   "execution_count": 28,
   "metadata": {
    "ExecuteTime": {
     "end_time": "2020-07-06T02:28:48.000322Z",
     "start_time": "2020-07-06T02:28:44.849010Z"
    }
   },
   "outputs": [],
   "source": [
    "pd.DataFrame(y_train_pred).to_pickle('stack_v1_v2_v4_oof.pkl')\n",
    "pd.DataFrame(pred_gender).to_pickle('stack_v1_v2_v4_pred.pkl')"
   ]
  },
  {
   "cell_type": "code",
   "execution_count": 30,
   "metadata": {
    "ExecuteTime": {
     "end_time": "2020-07-06T02:30:49.267662Z",
     "start_time": "2020-07-06T02:30:48.706508Z"
    }
   },
   "outputs": [],
   "source": [
    "sub = pd.read_csv('stack_v1_v2_age_v1_gender.csv')"
   ]
  },
  {
   "cell_type": "code",
   "execution_count": 29,
   "metadata": {
    "ExecuteTime": {
     "end_time": "2020-07-06T02:30:30.950891Z",
     "start_time": "2020-07-06T02:30:30.901994Z"
    }
   },
   "outputs": [
    {
     "data": {
      "text/plain": [
       "array([3, 7, 2, ..., 2, 3, 4], dtype=int64)"
      ]
     },
     "execution_count": 29,
     "metadata": {},
     "output_type": "execute_result"
    }
   ],
   "source": [
    "pred_gender.argmax(axis=1)+1"
   ]
  },
  {
   "cell_type": "code",
   "execution_count": 32,
   "metadata": {
    "ExecuteTime": {
     "end_time": "2020-07-06T02:32:42.964604Z",
     "start_time": "2020-07-06T02:32:42.905444Z"
    }
   },
   "outputs": [],
   "source": [
    "sub.predicted_age = pred_gender.argmax(axis=1)+1"
   ]
  },
  {
   "cell_type": "code",
   "execution_count": 33,
   "metadata": {
    "ExecuteTime": {
     "end_time": "2020-07-06T02:33:04.355962Z",
     "start_time": "2020-07-06T02:33:02.361295Z"
    }
   },
   "outputs": [],
   "source": [
    "sub.to_csv('stack_v1_v2_v4.csv',index=False)"
   ]
  },
  {
   "cell_type": "markdown",
   "metadata": {},
   "source": [
    "#### v1+v2+v4+dmj_v3"
   ]
  },
  {
   "cell_type": "code",
   "execution_count": 13,
   "metadata": {
    "ExecuteTime": {
     "end_time": "2020-07-21T01:40:28.076737Z",
     "start_time": "2020-07-21T01:40:25.250294Z"
    }
   },
   "outputs": [
    {
     "name": "stdout",
     "output_type": "stream",
     "text": [
      "0.5114823333333334\n",
      "0.5116426666666667\n",
      "0.501984\n",
      "0.512579\n",
      "0.5130306666666666\n",
      "0.5118373333333334\n",
      "0.47546133333333335\n",
      "0.5136813333333333\n"
     ]
    }
   ],
   "source": [
    "####check\n",
    "print(accuracy_score(user.age-1,v1_age_oof.argmax(axis=1)))\n",
    "print(accuracy_score(user.age-1,v2_age_oof.argmax(axis=1)))\n",
    "print(accuracy_score(user.age-1,v3_age_oof.argmax(axis=1)))\n",
    "print(accuracy_score(user.age-1,v4_age_oof.argmax(axis=1)))\n",
    "print(accuracy_score(user.age-1,v6_age_oof.argmax(axis=1)))\n",
    "print(accuracy_score(user.age-1,v11_age_oof.argmax(axis=1)))\n",
    "print(accuracy_score(user.age-1,v13_age_oof.argmax(axis=1)))\n",
    "print(accuracy_score(user.age-1,v12_age_oof.argmax(axis=1)))"
   ]
  },
  {
   "cell_type": "code",
   "execution_count": 14,
   "metadata": {
    "ExecuteTime": {
     "end_time": "2020-07-21T01:40:28.413833Z",
     "start_time": "2020-07-21T01:40:28.079727Z"
    }
   },
   "outputs": [
    {
     "name": "stdout",
     "output_type": "stream",
     "text": [
      "0.47546133333333335\n"
     ]
    }
   ],
   "source": [
    "print(accuracy_score(user.age-1,v13_age_oof.argmax(axis=1)))"
   ]
  },
  {
   "cell_type": "code",
   "execution_count": 15,
   "metadata": {
    "ExecuteTime": {
     "end_time": "2020-07-21T01:40:34.229310Z",
     "start_time": "2020-07-21T01:40:28.416853Z"
    }
   },
   "outputs": [],
   "source": [
    "df = np.hstack((v1_age_oof,v2_age_oof,v3_age_oof,v4_age_oof,v6_age_oof,v11_age_oof,v12_age_oof,v13_age_oof))\n",
    "X_train = pd.DataFrame(df)\n",
    "X_train = X_train.add_prefix('col_')"
   ]
  },
  {
   "cell_type": "code",
   "execution_count": 16,
   "metadata": {
    "ExecuteTime": {
     "end_time": "2020-07-21T01:40:36.385542Z",
     "start_time": "2020-07-21T01:40:34.231270Z"
    }
   },
   "outputs": [],
   "source": [
    "df = np.hstack((v1_age_pred,v2_age_pred,v3_age_pred,v4_age_pred,v6_age_pred,v11_age_pred,v12_age_pred,v13_age_pred))\n",
    "X_test = pd.DataFrame(df)\n",
    "X_test = X_test.add_prefix('col_')"
   ]
  },
  {
   "cell_type": "code",
   "execution_count": 17,
   "metadata": {
    "ExecuteTime": {
     "end_time": "2020-07-21T02:41:06.881958Z",
     "start_time": "2020-07-21T01:40:36.387510Z"
    }
   },
   "outputs": [
    {
     "name": "stdout",
     "output_type": "stream",
     "text": [
      "(3000000, 80)\n",
      "fold_1*********************************************\n",
      "Training until validation scores don't improve for 100 rounds\n",
      "[50]\ttraining's Accuracy: 0.519694\tvalid_1's Accuracy: 0.520412\n",
      "[100]\ttraining's Accuracy: 0.52031\tvalid_1's Accuracy: 0.521037\n",
      "[150]\ttraining's Accuracy: 0.5204\tvalid_1's Accuracy: 0.520993\n",
      "[200]\ttraining's Accuracy: 0.520458\tvalid_1's Accuracy: 0.521007\n",
      "Early stopping, best iteration is:\n",
      "[102]\ttraining's Accuracy: 0.520307\tvalid_1's Accuracy: 0.521067\n",
      "fold_2*********************************************\n",
      "Training until validation scores don't improve for 100 rounds\n",
      "[50]\ttraining's Accuracy: 0.519813\tvalid_1's Accuracy: 0.51984\n",
      "[100]\ttraining's Accuracy: 0.520355\tvalid_1's Accuracy: 0.5202\n",
      "[150]\ttraining's Accuracy: 0.520384\tvalid_1's Accuracy: 0.520205\n",
      "[200]\ttraining's Accuracy: 0.520409\tvalid_1's Accuracy: 0.52016\n",
      "Early stopping, best iteration is:\n",
      "[111]\ttraining's Accuracy: 0.520372\tvalid_1's Accuracy: 0.520293\n",
      "fold_3*********************************************\n",
      "Training until validation scores don't improve for 100 rounds\n",
      "[50]\ttraining's Accuracy: 0.520083\tvalid_1's Accuracy: 0.519012\n",
      "[100]\ttraining's Accuracy: 0.520648\tvalid_1's Accuracy: 0.519758\n",
      "[150]\ttraining's Accuracy: 0.520656\tvalid_1's Accuracy: 0.519642\n",
      "[200]\ttraining's Accuracy: 0.52067\tvalid_1's Accuracy: 0.519692\n",
      "Early stopping, best iteration is:\n",
      "[101]\ttraining's Accuracy: 0.520641\tvalid_1's Accuracy: 0.51977\n",
      "fold_4*********************************************\n",
      "Training until validation scores don't improve for 100 rounds\n",
      "[50]\ttraining's Accuracy: 0.52017\tvalid_1's Accuracy: 0.518553\n",
      "[100]\ttraining's Accuracy: 0.520787\tvalid_1's Accuracy: 0.518845\n",
      "[150]\ttraining's Accuracy: 0.520816\tvalid_1's Accuracy: 0.518955\n",
      "[200]\ttraining's Accuracy: 0.52083\tvalid_1's Accuracy: 0.518953\n",
      "[250]\ttraining's Accuracy: 0.520843\tvalid_1's Accuracy: 0.518892\n",
      "Early stopping, best iteration is:\n",
      "[185]\ttraining's Accuracy: 0.520834\tvalid_1's Accuracy: 0.519007\n",
      "fold_5*********************************************\n",
      "Training until validation scores don't improve for 100 rounds\n",
      "[50]\ttraining's Accuracy: 0.519832\tvalid_1's Accuracy: 0.51964\n",
      "[100]\ttraining's Accuracy: 0.520449\tvalid_1's Accuracy: 0.520448\n",
      "[150]\ttraining's Accuracy: 0.520462\tvalid_1's Accuracy: 0.52036\n",
      "[200]\ttraining's Accuracy: 0.520477\tvalid_1's Accuracy: 0.520375\n",
      "Early stopping, best iteration is:\n",
      "[127]\ttraining's Accuracy: 0.520432\tvalid_1's Accuracy: 0.520478\n",
      "mean 0.5201229999999999\n"
     ]
    }
   ],
   "source": [
    "###第一列1 第二列2 13 15 18 22\n",
    "### age\n",
    "print(X_train.shape)\n",
    "kf = StratifiedKFold(n_splits=5,shuffle=True,random_state=1102)\n",
    "y_train_age = user['age']\n",
    "y_train_gender = user['gender']\n",
    "# X_test = pd.concat([w2v_creative_id_mean[900000:],w2v_ad_id_mean[900000:],\\\n",
    "#                  w2v_product_id_mean[900000:],w2v_advertiser_id_mean[900000:],\\\n",
    "#                  w2v_industry_mean[900000:]],axis=1)\n",
    "fea_impor = 0\n",
    "k = 1\n",
    "pred_gender = 0\n",
    "y_train_pred = np.zeros((y_train_age.shape[0],10))\n",
    "score_list = []\n",
    "for train_index,test_index in kf.split(X_train,y_train_age):\n",
    "    print(f'fold_{k}*********************************************')\n",
    "    k+=1\n",
    "    X_train2 = X_train.iloc[train_index,:]\n",
    "    y_train2 = y_train_age.iloc[train_index]\n",
    "    X_test2 = X_train.iloc[test_index,:]\n",
    "    y_test2 = y_train_age.iloc[test_index]\n",
    "    clf = lgb.LGBMClassifier(n_estimators=10000, random_state=47,learning_rate=0.05,importance_type = 'gain',n_jobs = 8,metric='None',num_leaves=7)\n",
    "    def acc_score(y_true,y_pred):\n",
    "        y_pred = y_pred.reshape(-1,10,order = 'F').argmax(axis=1)\n",
    "        return 'Accuracy', accuracy_score(y_true,y_pred), True\n",
    "    clf.fit(X_train2,y_train2,eval_set = [(X_train2,y_train2),(X_test2,y_test2)],early_stopping_rounds=100,verbose=50\\\n",
    "            ,eval_metric=lambda y_true,y_pred:acc_score(y_true,y_pred))\n",
    "    temp = clf.predict_proba(X_test2)\n",
    "    y_train_pred[test_index,:] = temp\n",
    "    score_list.append(accuracy_score(y_test2,temp.argmax(axis=1)+1))\n",
    "    fea_impor += clf.feature_importances_/kf.n_splits\n",
    "    pred_gender += clf.predict_proba(X_test)/kf.n_splits\n",
    "    #break\n",
    "print('mean',np.mean(score_list))"
   ]
  },
  {
   "cell_type": "code",
   "execution_count": 18,
   "metadata": {
    "ExecuteTime": {
     "end_time": "2020-07-21T02:45:20.285092Z",
     "start_time": "2020-07-21T02:45:19.750020Z"
    }
   },
   "outputs": [],
   "source": [
    "sub = pd.read_csv('stack_age_v1_v2_v3_v4_v6_gender_v1_v2_v4.csv')"
   ]
  },
  {
   "cell_type": "code",
   "execution_count": 19,
   "metadata": {
    "ExecuteTime": {
     "end_time": "2020-07-21T02:45:20.343732Z",
     "start_time": "2020-07-21T02:45:20.288845Z"
    }
   },
   "outputs": [],
   "source": [
    "sub.predicted_age = pred_gender.argmax(axis=1)+1"
   ]
  },
  {
   "cell_type": "code",
   "execution_count": 20,
   "metadata": {
    "ExecuteTime": {
     "end_time": "2020-07-21T02:45:26.538194Z",
     "start_time": "2020-07-21T02:45:22.995315Z"
    }
   },
   "outputs": [],
   "source": [
    "sub.to_csv('final_job1.csv',index=False)"
   ]
  },
  {
   "cell_type": "code",
   "execution_count": 22,
   "metadata": {
    "ExecuteTime": {
     "end_time": "2020-07-22T01:39:46.454494Z",
     "start_time": "2020-07-22T01:39:46.269986Z"
    }
   },
   "outputs": [
    {
     "data": {
      "text/plain": [
       "1.0"
      ]
     },
     "execution_count": 22,
     "metadata": {},
     "output_type": "execute_result"
    }
   ],
   "source": [
    "accuracy_score(sub.predicted_age,pred_gender.argmax(axis=1)+1)"
   ]
  },
  {
   "cell_type": "code",
   "execution_count": 23,
   "metadata": {
    "ExecuteTime": {
     "end_time": "2020-07-22T01:40:15.784012Z",
     "start_time": "2020-07-22T01:40:15.090096Z"
    }
   },
   "outputs": [],
   "source": [
    "pd.DataFrame(pred_gender).to_pickle('lgb_stack.pkl')"
   ]
  },
  {
   "cell_type": "code",
   "execution_count": 28,
   "metadata": {
    "ExecuteTime": {
     "end_time": "2020-07-20T11:49:10.258197Z",
     "start_time": "2020-07-20T10:48:46.467626Z"
    }
   },
   "outputs": [
    {
     "name": "stdout",
     "output_type": "stream",
     "text": [
      "(3000000, 70)\n",
      "fold_1*********************************************\n",
      "Training until validation scores don't improve for 100 rounds\n",
      "[50]\ttraining's Accuracy: 0.519645\tvalid_1's Accuracy: 0.520295\n",
      "[100]\ttraining's Accuracy: 0.5202\tvalid_1's Accuracy: 0.520905\n",
      "[150]\ttraining's Accuracy: 0.52028\tvalid_1's Accuracy: 0.520833\n",
      "[200]\ttraining's Accuracy: 0.52029\tvalid_1's Accuracy: 0.520898\n",
      "Early stopping, best iteration is:\n",
      "[103]\ttraining's Accuracy: 0.520208\tvalid_1's Accuracy: 0.520933\n",
      "fold_2*********************************************\n",
      "Training until validation scores don't improve for 100 rounds\n",
      "[50]\ttraining's Accuracy: 0.519705\tvalid_1's Accuracy: 0.51971\n",
      "[100]\ttraining's Accuracy: 0.520188\tvalid_1's Accuracy: 0.52\n",
      "[150]\ttraining's Accuracy: 0.520229\tvalid_1's Accuracy: 0.519945\n",
      "[200]\ttraining's Accuracy: 0.520215\tvalid_1's Accuracy: 0.519952\n",
      "Early stopping, best iteration is:\n",
      "[110]\ttraining's Accuracy: 0.5202\tvalid_1's Accuracy: 0.520097\n",
      "fold_3*********************************************\n",
      "Training until validation scores don't improve for 100 rounds\n",
      "[50]\ttraining's Accuracy: 0.51993\tvalid_1's Accuracy: 0.518898\n",
      "[100]\ttraining's Accuracy: 0.520432\tvalid_1's Accuracy: 0.519412\n",
      "[150]\ttraining's Accuracy: 0.520442\tvalid_1's Accuracy: 0.519373\n",
      "Early stopping, best iteration is:\n",
      "[92]\ttraining's Accuracy: 0.520405\tvalid_1's Accuracy: 0.51948\n",
      "fold_4*********************************************\n",
      "Training until validation scores don't improve for 100 rounds\n",
      "[50]\ttraining's Accuracy: 0.520006\tvalid_1's Accuracy: 0.51842\n",
      "[100]\ttraining's Accuracy: 0.52055\tvalid_1's Accuracy: 0.518893\n",
      "[150]\ttraining's Accuracy: 0.520642\tvalid_1's Accuracy: 0.51898\n",
      "[200]\ttraining's Accuracy: 0.520608\tvalid_1's Accuracy: 0.518918\n",
      "Early stopping, best iteration is:\n",
      "[149]\ttraining's Accuracy: 0.520638\tvalid_1's Accuracy: 0.518993\n",
      "fold_5*********************************************\n",
      "Training until validation scores don't improve for 100 rounds\n",
      "[50]\ttraining's Accuracy: 0.519766\tvalid_1's Accuracy: 0.519618\n",
      "[100]\ttraining's Accuracy: 0.520281\tvalid_1's Accuracy: 0.520223\n",
      "[150]\ttraining's Accuracy: 0.520258\tvalid_1's Accuracy: 0.520147\n",
      "Early stopping, best iteration is:\n",
      "[96]\ttraining's Accuracy: 0.520235\tvalid_1's Accuracy: 0.520283\n",
      "mean 0.5199573333333334\n"
     ]
    }
   ],
   "source": [
    "###第一列1 第二列2 13 15 18 22\n",
    "### age\n",
    "print(X_train.shape)\n",
    "kf = StratifiedKFold(n_splits=5,shuffle=True,random_state=1102)\n",
    "y_train_age = user['age']\n",
    "y_train_gender = user['gender']\n",
    "# X_test = pd.concat([w2v_creative_id_mean[900000:],w2v_ad_id_mean[900000:],\\\n",
    "#                  w2v_product_id_mean[900000:],w2v_advertiser_id_mean[900000:],\\\n",
    "#                  w2v_industry_mean[900000:]],axis=1)\n",
    "fea_impor = 0\n",
    "k = 1\n",
    "pred_gender = 0\n",
    "y_train_pred = np.zeros((y_train_age.shape[0],10))\n",
    "score_list = []\n",
    "for train_index,test_index in kf.split(X_train,y_train_age):\n",
    "    print(f'fold_{k}*********************************************')\n",
    "    k+=1\n",
    "    X_train2 = X_train.iloc[train_index,:]\n",
    "    y_train2 = y_train_age.iloc[train_index]\n",
    "    X_test2 = X_train.iloc[test_index,:]\n",
    "    y_test2 = y_train_age.iloc[test_index]\n",
    "    clf = lgb.LGBMClassifier(n_estimators=10000, random_state=47,learning_rate=0.05,importance_type = 'gain',n_jobs = 8,metric='None',num_leaves=7)\n",
    "    def acc_score(y_true,y_pred):\n",
    "        y_pred = y_pred.reshape(-1,10,order = 'F').argmax(axis=1)\n",
    "        return 'Accuracy', accuracy_score(y_true,y_pred), True\n",
    "    clf.fit(X_train2,y_train2,eval_set = [(X_train2,y_train2),(X_test2,y_test2)],early_stopping_rounds=100,verbose=50\\\n",
    "            ,eval_metric=lambda y_true,y_pred:acc_score(y_true,y_pred))\n",
    "    temp = clf.predict_proba(X_test2)\n",
    "    y_train_pred[test_index,:] = temp\n",
    "    score_list.append(accuracy_score(y_test2,temp.argmax(axis=1)+1))\n",
    "    fea_impor += clf.feature_importances_/kf.n_splits\n",
    "    pred_gender += clf.predict_proba(X_test)/kf.n_splits\n",
    "    #break\n",
    "print('mean',np.mean(score_list))"
   ]
  },
  {
   "cell_type": "code",
   "execution_count": 29,
   "metadata": {
    "ExecuteTime": {
     "end_time": "2020-07-20T12:05:26.684368Z",
     "start_time": "2020-07-20T12:05:26.129648Z"
    }
   },
   "outputs": [],
   "source": [
    "sub = pd.read_csv('stack_age_v1_v2_v3_v4_v6_gender_v1_v2_v4.csv')"
   ]
  },
  {
   "cell_type": "code",
   "execution_count": 30,
   "metadata": {
    "ExecuteTime": {
     "end_time": "2020-07-20T12:06:50.477701Z",
     "start_time": "2020-07-20T12:06:50.416865Z"
    }
   },
   "outputs": [],
   "source": [
    "sub.predicted_age = pred_gender.argmax(axis=1)+1"
   ]
  },
  {
   "cell_type": "code",
   "execution_count": 31,
   "metadata": {
    "ExecuteTime": {
     "end_time": "2020-07-20T12:07:07.172394Z",
     "start_time": "2020-07-20T12:07:03.216315Z"
    }
   },
   "outputs": [],
   "source": [
    "sub.to_csv('final_job.csv',index=False)"
   ]
  },
  {
   "cell_type": "code",
   "execution_count": 22,
   "metadata": {
    "ExecuteTime": {
     "end_time": "2020-07-20T10:11:48.930236Z",
     "start_time": "2020-07-20T09:04:18.656293Z"
    }
   },
   "outputs": [
    {
     "name": "stdout",
     "output_type": "stream",
     "text": [
      "(3000000, 70)\n",
      "fold_1*********************************************\n",
      "Training until validation scores don't improve for 100 rounds\n",
      "[50]\ttraining's Accuracy: 0.519182\tvalid_1's Accuracy: 0.519395\n",
      "[100]\ttraining's Accuracy: 0.519709\tvalid_1's Accuracy: 0.520147\n",
      "[150]\ttraining's Accuracy: 0.519784\tvalid_1's Accuracy: 0.520315\n",
      "[200]\ttraining's Accuracy: 0.519769\tvalid_1's Accuracy: 0.520385\n",
      "[250]\ttraining's Accuracy: 0.519783\tvalid_1's Accuracy: 0.520378\n",
      "[300]\ttraining's Accuracy: 0.519762\tvalid_1's Accuracy: 0.520395\n",
      "[350]\ttraining's Accuracy: 0.519884\tvalid_1's Accuracy: 0.520362\n",
      "[400]\ttraining's Accuracy: 0.519765\tvalid_1's Accuracy: 0.520187\n",
      "Early stopping, best iteration is:\n",
      "[312]\ttraining's Accuracy: 0.519813\tvalid_1's Accuracy: 0.52045\n",
      "fold_2*********************************************\n",
      "Training until validation scores don't improve for 100 rounds\n",
      "[50]\ttraining's Accuracy: 0.519137\tvalid_1's Accuracy: 0.519147\n",
      "[100]\ttraining's Accuracy: 0.519754\tvalid_1's Accuracy: 0.519532\n",
      "[150]\ttraining's Accuracy: 0.519773\tvalid_1's Accuracy: 0.51976\n",
      "[200]\ttraining's Accuracy: 0.519772\tvalid_1's Accuracy: 0.519618\n",
      "[250]\ttraining's Accuracy: 0.519767\tvalid_1's Accuracy: 0.519568\n",
      "Early stopping, best iteration is:\n",
      "[150]\ttraining's Accuracy: 0.519773\tvalid_1's Accuracy: 0.51976\n",
      "fold_3*********************************************\n",
      "Training until validation scores don't improve for 100 rounds\n",
      "[50]\ttraining's Accuracy: 0.519353\tvalid_1's Accuracy: 0.51834\n",
      "[100]\ttraining's Accuracy: 0.519889\tvalid_1's Accuracy: 0.51886\n",
      "[150]\ttraining's Accuracy: 0.51994\tvalid_1's Accuracy: 0.518863\n",
      "[200]\ttraining's Accuracy: 0.520001\tvalid_1's Accuracy: 0.518837\n",
      "[250]\ttraining's Accuracy: 0.520043\tvalid_1's Accuracy: 0.518832\n",
      "Early stopping, best iteration is:\n",
      "[171]\ttraining's Accuracy: 0.519945\tvalid_1's Accuracy: 0.518927\n",
      "fold_4*********************************************\n",
      "Training until validation scores don't improve for 100 rounds\n",
      "[50]\ttraining's Accuracy: 0.519448\tvalid_1's Accuracy: 0.517965\n",
      "[100]\ttraining's Accuracy: 0.520151\tvalid_1's Accuracy: 0.51855\n",
      "[150]\ttraining's Accuracy: 0.520238\tvalid_1's Accuracy: 0.518508\n",
      "[200]\ttraining's Accuracy: 0.520193\tvalid_1's Accuracy: 0.518437\n",
      "Early stopping, best iteration is:\n",
      "[101]\ttraining's Accuracy: 0.520163\tvalid_1's Accuracy: 0.518602\n",
      "fold_5*********************************************\n",
      "Training until validation scores don't improve for 100 rounds\n",
      "[50]\ttraining's Accuracy: 0.519085\tvalid_1's Accuracy: 0.51914\n",
      "[100]\ttraining's Accuracy: 0.51969\tvalid_1's Accuracy: 0.519563\n"
     ]
    },
    {
     "ename": "KeyboardInterrupt",
     "evalue": "",
     "output_type": "error",
     "traceback": [
      "\u001b[1;31m---------------------------------------------------------------------------\u001b[0m",
      "\u001b[1;31mKeyboardInterrupt\u001b[0m                         Traceback (most recent call last)",
      "\u001b[1;32m<ipython-input-22-db09792a9443>\u001b[0m in \u001b[0;36m<module>\u001b[1;34m\u001b[0m\n\u001b[0;32m     25\u001b[0m         \u001b[1;32mreturn\u001b[0m \u001b[1;34m'Accuracy'\u001b[0m\u001b[1;33m,\u001b[0m \u001b[0maccuracy_score\u001b[0m\u001b[1;33m(\u001b[0m\u001b[0my_true\u001b[0m\u001b[1;33m,\u001b[0m\u001b[0my_pred\u001b[0m\u001b[1;33m)\u001b[0m\u001b[1;33m,\u001b[0m \u001b[1;32mTrue\u001b[0m\u001b[1;33m\u001b[0m\u001b[1;33m\u001b[0m\u001b[0m\n\u001b[0;32m     26\u001b[0m     clf.fit(X_train2,y_train2,eval_set = [(X_train2,y_train2),(X_test2,y_test2)],early_stopping_rounds=100,verbose=50\\\n\u001b[1;32m---> 27\u001b[1;33m             ,eval_metric=lambda y_true,y_pred:acc_score(y_true,y_pred))\n\u001b[0m\u001b[0;32m     28\u001b[0m     \u001b[0mtemp\u001b[0m \u001b[1;33m=\u001b[0m \u001b[0mclf\u001b[0m\u001b[1;33m.\u001b[0m\u001b[0mpredict_proba\u001b[0m\u001b[1;33m(\u001b[0m\u001b[0mX_test2\u001b[0m\u001b[1;33m)\u001b[0m\u001b[1;33m\u001b[0m\u001b[1;33m\u001b[0m\u001b[0m\n\u001b[0;32m     29\u001b[0m     \u001b[0my_train_pred\u001b[0m\u001b[1;33m[\u001b[0m\u001b[0mtest_index\u001b[0m\u001b[1;33m,\u001b[0m\u001b[1;33m:\u001b[0m\u001b[1;33m]\u001b[0m \u001b[1;33m=\u001b[0m \u001b[0mtemp\u001b[0m\u001b[1;33m\u001b[0m\u001b[1;33m\u001b[0m\u001b[0m\n",
      "\u001b[1;32m~\\AppData\\Roaming\\Python\\Python37\\site-packages\\lightgbm\\sklearn.py\u001b[0m in \u001b[0;36mfit\u001b[1;34m(self, X, y, sample_weight, init_score, eval_set, eval_names, eval_sample_weight, eval_class_weight, eval_init_score, eval_metric, early_stopping_rounds, verbose, feature_name, categorical_feature, callbacks)\u001b[0m\n\u001b[0;32m    803\u001b[0m                                         \u001b[0mverbose\u001b[0m\u001b[1;33m=\u001b[0m\u001b[0mverbose\u001b[0m\u001b[1;33m,\u001b[0m \u001b[0mfeature_name\u001b[0m\u001b[1;33m=\u001b[0m\u001b[0mfeature_name\u001b[0m\u001b[1;33m,\u001b[0m\u001b[1;33m\u001b[0m\u001b[1;33m\u001b[0m\u001b[0m\n\u001b[0;32m    804\u001b[0m                                         \u001b[0mcategorical_feature\u001b[0m\u001b[1;33m=\u001b[0m\u001b[0mcategorical_feature\u001b[0m\u001b[1;33m,\u001b[0m\u001b[1;33m\u001b[0m\u001b[1;33m\u001b[0m\u001b[0m\n\u001b[1;32m--> 805\u001b[1;33m                                         callbacks=callbacks)\n\u001b[0m\u001b[0;32m    806\u001b[0m         \u001b[1;32mreturn\u001b[0m \u001b[0mself\u001b[0m\u001b[1;33m\u001b[0m\u001b[1;33m\u001b[0m\u001b[0m\n\u001b[0;32m    807\u001b[0m \u001b[1;33m\u001b[0m\u001b[0m\n",
      "\u001b[1;32m~\\AppData\\Roaming\\Python\\Python37\\site-packages\\lightgbm\\sklearn.py\u001b[0m in \u001b[0;36mfit\u001b[1;34m(self, X, y, sample_weight, init_score, group, eval_set, eval_names, eval_sample_weight, eval_class_weight, eval_init_score, eval_group, eval_metric, early_stopping_rounds, verbose, feature_name, categorical_feature, callbacks)\u001b[0m\n\u001b[0;32m    598\u001b[0m                               \u001b[0mverbose_eval\u001b[0m\u001b[1;33m=\u001b[0m\u001b[0mverbose\u001b[0m\u001b[1;33m,\u001b[0m \u001b[0mfeature_name\u001b[0m\u001b[1;33m=\u001b[0m\u001b[0mfeature_name\u001b[0m\u001b[1;33m,\u001b[0m\u001b[1;33m\u001b[0m\u001b[1;33m\u001b[0m\u001b[0m\n\u001b[0;32m    599\u001b[0m                               \u001b[0mcategorical_feature\u001b[0m\u001b[1;33m=\u001b[0m\u001b[0mcategorical_feature\u001b[0m\u001b[1;33m,\u001b[0m\u001b[1;33m\u001b[0m\u001b[1;33m\u001b[0m\u001b[0m\n\u001b[1;32m--> 600\u001b[1;33m                               callbacks=callbacks)\n\u001b[0m\u001b[0;32m    601\u001b[0m \u001b[1;33m\u001b[0m\u001b[0m\n\u001b[0;32m    602\u001b[0m         \u001b[1;32mif\u001b[0m \u001b[0mevals_result\u001b[0m\u001b[1;33m:\u001b[0m\u001b[1;33m\u001b[0m\u001b[1;33m\u001b[0m\u001b[0m\n",
      "\u001b[1;32m~\\AppData\\Roaming\\Python\\Python37\\site-packages\\lightgbm\\engine.py\u001b[0m in \u001b[0;36mtrain\u001b[1;34m(params, train_set, num_boost_round, valid_sets, valid_names, fobj, feval, init_model, feature_name, categorical_feature, early_stopping_rounds, evals_result, verbose_eval, learning_rates, keep_training_booster, callbacks)\u001b[0m\n\u001b[0;32m    247\u001b[0m                                     evaluation_result_list=None))\n\u001b[0;32m    248\u001b[0m \u001b[1;33m\u001b[0m\u001b[0m\n\u001b[1;32m--> 249\u001b[1;33m         \u001b[0mbooster\u001b[0m\u001b[1;33m.\u001b[0m\u001b[0mupdate\u001b[0m\u001b[1;33m(\u001b[0m\u001b[0mfobj\u001b[0m\u001b[1;33m=\u001b[0m\u001b[0mfobj\u001b[0m\u001b[1;33m)\u001b[0m\u001b[1;33m\u001b[0m\u001b[1;33m\u001b[0m\u001b[0m\n\u001b[0m\u001b[0;32m    250\u001b[0m \u001b[1;33m\u001b[0m\u001b[0m\n\u001b[0;32m    251\u001b[0m         \u001b[0mevaluation_result_list\u001b[0m \u001b[1;33m=\u001b[0m \u001b[1;33m[\u001b[0m\u001b[1;33m]\u001b[0m\u001b[1;33m\u001b[0m\u001b[1;33m\u001b[0m\u001b[0m\n",
      "\u001b[1;32m~\\AppData\\Roaming\\Python\\Python37\\site-packages\\lightgbm\\basic.py\u001b[0m in \u001b[0;36mupdate\u001b[1;34m(self, train_set, fobj)\u001b[0m\n\u001b[0;32m   1974\u001b[0m             _safe_call(_LIB.LGBM_BoosterUpdateOneIter(\n\u001b[0;32m   1975\u001b[0m                 \u001b[0mself\u001b[0m\u001b[1;33m.\u001b[0m\u001b[0mhandle\u001b[0m\u001b[1;33m,\u001b[0m\u001b[1;33m\u001b[0m\u001b[1;33m\u001b[0m\u001b[0m\n\u001b[1;32m-> 1976\u001b[1;33m                 ctypes.byref(is_finished)))\n\u001b[0m\u001b[0;32m   1977\u001b[0m             \u001b[0mself\u001b[0m\u001b[1;33m.\u001b[0m\u001b[0m__is_predicted_cur_iter\u001b[0m \u001b[1;33m=\u001b[0m \u001b[1;33m[\u001b[0m\u001b[1;32mFalse\u001b[0m \u001b[1;32mfor\u001b[0m \u001b[0m_\u001b[0m \u001b[1;32min\u001b[0m \u001b[0mrange_\u001b[0m\u001b[1;33m(\u001b[0m\u001b[0mself\u001b[0m\u001b[1;33m.\u001b[0m\u001b[0m__num_dataset\u001b[0m\u001b[1;33m)\u001b[0m\u001b[1;33m]\u001b[0m\u001b[1;33m\u001b[0m\u001b[1;33m\u001b[0m\u001b[0m\n\u001b[0;32m   1978\u001b[0m             \u001b[1;32mreturn\u001b[0m \u001b[0mis_finished\u001b[0m\u001b[1;33m.\u001b[0m\u001b[0mvalue\u001b[0m \u001b[1;33m==\u001b[0m \u001b[1;36m1\u001b[0m\u001b[1;33m\u001b[0m\u001b[1;33m\u001b[0m\u001b[0m\n",
      "\u001b[1;31mKeyboardInterrupt\u001b[0m: "
     ]
    }
   ],
   "source": [
    "###第一列1 第二列2 13 15 18 22\n",
    "### age\n",
    "print(X_train.shape)\n",
    "kf = StratifiedKFold(n_splits=5,shuffle=True,random_state=1102)\n",
    "y_train_age = user['age']\n",
    "y_train_gender = user['gender']\n",
    "# X_test = pd.concat([w2v_creative_id_mean[900000:],w2v_ad_id_mean[900000:],\\\n",
    "#                  w2v_product_id_mean[900000:],w2v_advertiser_id_mean[900000:],\\\n",
    "#                  w2v_industry_mean[900000:]],axis=1)\n",
    "fea_impor = 0\n",
    "k = 1\n",
    "pred_gender = 0\n",
    "y_train_pred = np.zeros((y_train_age.shape[0],10))\n",
    "score_list = []\n",
    "for train_index,test_index in kf.split(X_train,y_train_age):\n",
    "    print(f'fold_{k}*********************************************')\n",
    "    k+=1\n",
    "    X_train2 = X_train.iloc[train_index,:]\n",
    "    y_train2 = y_train_age.iloc[train_index]\n",
    "    X_test2 = X_train.iloc[test_index,:]\n",
    "    y_test2 = y_train_age.iloc[test_index]\n",
    "    clf = lgb.LGBMClassifier(n_estimators=10000, random_state=47,learning_rate=0.05,importance_type = 'gain',n_jobs = 6,metric='None',num_leaves=7)\n",
    "    def acc_score(y_true,y_pred):\n",
    "        y_pred = y_pred.reshape(-1,10,order = 'F').argmax(axis=1)\n",
    "        return 'Accuracy', accuracy_score(y_true,y_pred), True\n",
    "    clf.fit(X_train2,y_train2,eval_set = [(X_train2,y_train2),(X_test2,y_test2)],early_stopping_rounds=100,verbose=50\\\n",
    "            ,eval_metric=lambda y_true,y_pred:acc_score(y_true,y_pred))\n",
    "    temp = clf.predict_proba(X_test2)\n",
    "    y_train_pred[test_index,:] = temp\n",
    "    score_list.append(accuracy_score(y_test2,temp.argmax(axis=1)+1))\n",
    "    fea_impor += clf.feature_importances_/kf.n_splits\n",
    "    pred_gender += clf.predict_proba(X_test)/kf.n_splits\n",
    "    #break\n",
    "print('mean',np.mean(score_list))"
   ]
  },
  {
   "cell_type": "code",
   "execution_count": 15,
   "metadata": {
    "ExecuteTime": {
     "end_time": "2020-07-19T07:40:32.158881Z",
     "start_time": "2020-07-19T06:42:12.838269Z"
    }
   },
   "outputs": [
    {
     "name": "stdout",
     "output_type": "stream",
     "text": [
      "(3000000, 60)\n",
      "fold_1*********************************************\n",
      "Training until validation scores don't improve for 100 rounds\n",
      "[50]\ttraining's Accuracy: 0.519035\tvalid_1's Accuracy: 0.519363\n",
      "[100]\ttraining's Accuracy: 0.519567\tvalid_1's Accuracy: 0.520082\n",
      "[150]\ttraining's Accuracy: 0.519598\tvalid_1's Accuracy: 0.520263\n",
      "[200]\ttraining's Accuracy: 0.519602\tvalid_1's Accuracy: 0.520313\n",
      "[250]\ttraining's Accuracy: 0.519607\tvalid_1's Accuracy: 0.52028\n",
      "[300]\ttraining's Accuracy: 0.519633\tvalid_1's Accuracy: 0.520172\n",
      "Early stopping, best iteration is:\n",
      "[235]\ttraining's Accuracy: 0.519597\tvalid_1's Accuracy: 0.52034\n",
      "fold_2*********************************************\n",
      "Training until validation scores don't improve for 100 rounds\n",
      "[50]\ttraining's Accuracy: 0.519134\tvalid_1's Accuracy: 0.519093\n",
      "[100]\ttraining's Accuracy: 0.519536\tvalid_1's Accuracy: 0.51939\n",
      "[150]\ttraining's Accuracy: 0.519619\tvalid_1's Accuracy: 0.519545\n",
      "[200]\ttraining's Accuracy: 0.519635\tvalid_1's Accuracy: 0.51958\n",
      "[250]\ttraining's Accuracy: 0.519636\tvalid_1's Accuracy: 0.519545\n",
      "Early stopping, best iteration is:\n",
      "[159]\ttraining's Accuracy: 0.51963\tvalid_1's Accuracy: 0.519595\n",
      "fold_3*********************************************\n",
      "Training until validation scores don't improve for 100 rounds\n",
      "[50]\ttraining's Accuracy: 0.519266\tvalid_1's Accuracy: 0.518345\n",
      "[100]\ttraining's Accuracy: 0.51975\tvalid_1's Accuracy: 0.518858\n",
      "[150]\ttraining's Accuracy: 0.519837\tvalid_1's Accuracy: 0.518932\n",
      "[200]\ttraining's Accuracy: 0.519863\tvalid_1's Accuracy: 0.518873\n",
      "[250]\ttraining's Accuracy: 0.519829\tvalid_1's Accuracy: 0.518805\n",
      "Early stopping, best iteration is:\n",
      "[171]\ttraining's Accuracy: 0.519887\tvalid_1's Accuracy: 0.518975\n",
      "fold_4*********************************************\n",
      "Training until validation scores don't improve for 100 rounds\n",
      "[50]\ttraining's Accuracy: 0.519325\tvalid_1's Accuracy: 0.517863\n",
      "[100]\ttraining's Accuracy: 0.519944\tvalid_1's Accuracy: 0.518335\n",
      "[150]\ttraining's Accuracy: 0.520114\tvalid_1's Accuracy: 0.518298\n",
      "Early stopping, best iteration is:\n",
      "[80]\ttraining's Accuracy: 0.519855\tvalid_1's Accuracy: 0.51838\n",
      "fold_5*********************************************\n",
      "Training until validation scores don't improve for 100 rounds\n",
      "[50]\ttraining's Accuracy: 0.519021\tvalid_1's Accuracy: 0.519178\n",
      "[100]\ttraining's Accuracy: 0.519617\tvalid_1's Accuracy: 0.519633\n",
      "[150]\ttraining's Accuracy: 0.519654\tvalid_1's Accuracy: 0.519688\n",
      "Early stopping, best iteration is:\n",
      "[73]\ttraining's Accuracy: 0.519413\tvalid_1's Accuracy: 0.519747\n",
      "mean 0.5194073333333333\n"
     ]
    }
   ],
   "source": [
    "###第一列1 第二列2 13 15 18 22\n",
    "### age\n",
    "print(X_train.shape)\n",
    "kf = StratifiedKFold(n_splits=5,shuffle=True,random_state=1102)\n",
    "y_train_age = user['age']\n",
    "y_train_gender = user['gender']\n",
    "# X_test = pd.concat([w2v_creative_id_mean[900000:],w2v_ad_id_mean[900000:],\\\n",
    "#                  w2v_product_id_mean[900000:],w2v_advertiser_id_mean[900000:],\\\n",
    "#                  w2v_industry_mean[900000:]],axis=1)\n",
    "fea_impor = 0\n",
    "k = 1\n",
    "pred_gender = 0\n",
    "y_train_pred = np.zeros((y_train_age.shape[0],10))\n",
    "score_list = []\n",
    "for train_index,test_index in kf.split(X_train,y_train_age):\n",
    "    print(f'fold_{k}*********************************************')\n",
    "    k+=1\n",
    "    X_train2 = X_train.iloc[train_index,:]\n",
    "    y_train2 = y_train_age.iloc[train_index]\n",
    "    X_test2 = X_train.iloc[test_index,:]\n",
    "    y_test2 = y_train_age.iloc[test_index]\n",
    "    clf = lgb.LGBMClassifier(n_estimators=10000, random_state=47,learning_rate=0.05,importance_type = 'gain',n_jobs = 6,metric='None',num_leaves=7)\n",
    "    def acc_score(y_true,y_pred):\n",
    "        y_pred = y_pred.reshape(-1,10,order = 'F').argmax(axis=1)\n",
    "        return 'Accuracy', accuracy_score(y_true,y_pred), True\n",
    "    clf.fit(X_train2,y_train2,eval_set = [(X_train2,y_train2),(X_test2,y_test2)],early_stopping_rounds=100,verbose=50\\\n",
    "            ,eval_metric=lambda y_true,y_pred:acc_score(y_true,y_pred))\n",
    "    temp = clf.predict_proba(X_test2)\n",
    "    y_train_pred[test_index,:] = temp\n",
    "    score_list.append(accuracy_score(y_test2,temp.argmax(axis=1)+1))\n",
    "    fea_impor += clf.feature_importances_/kf.n_splits\n",
    "    pred_gender += clf.predict_proba(X_test)/kf.n_splits\n",
    "    #break\n",
    "print('mean',np.mean(score_list))"
   ]
  },
  {
   "cell_type": "code",
   "execution_count": 18,
   "metadata": {
    "ExecuteTime": {
     "end_time": "2020-07-19T08:04:19.489063Z",
     "start_time": "2020-07-19T08:04:16.508995Z"
    }
   },
   "outputs": [],
   "source": [
    "pd.DataFrame(y_train_pred).to_pickle('age_add_11_oof.pkl')"
   ]
  },
  {
   "cell_type": "code",
   "execution_count": 14,
   "metadata": {
    "ExecuteTime": {
     "end_time": "2020-07-18T15:58:42.201123Z",
     "start_time": "2020-07-18T15:44:53.649446Z"
    }
   },
   "outputs": [
    {
     "name": "stdout",
     "output_type": "stream",
     "text": [
      "(3000000, 60)\n",
      "fold_1*********************************************\n",
      "Training until validation scores don't improve for 100 rounds\n",
      "[50]\ttraining's Accuracy: 0.519034\tvalid_1's Accuracy: 0.51937\n",
      "[100]\ttraining's Accuracy: 0.519525\tvalid_1's Accuracy: 0.520083\n",
      "[150]\ttraining's Accuracy: 0.5196\tvalid_1's Accuracy: 0.520257\n",
      "[200]\ttraining's Accuracy: 0.5196\tvalid_1's Accuracy: 0.520307\n",
      "[250]\ttraining's Accuracy: 0.519622\tvalid_1's Accuracy: 0.520288\n",
      "Early stopping, best iteration is:\n",
      "[188]\ttraining's Accuracy: 0.519598\tvalid_1's Accuracy: 0.520358\n",
      "mean 0.5203583333333334\n"
     ]
    }
   ],
   "source": [
    "###第一列1 第二列2 13 15 18 22\n",
    "### age\n",
    "print(X_train.shape)\n",
    "kf = StratifiedKFold(n_splits=5,shuffle=True,random_state=1102)\n",
    "y_train_age = user['age']\n",
    "y_train_gender = user['gender']\n",
    "# X_test = pd.concat([w2v_creative_id_mean[900000:],w2v_ad_id_mean[900000:],\\\n",
    "#                  w2v_product_id_mean[900000:],w2v_advertiser_id_mean[900000:],\\\n",
    "#                  w2v_industry_mean[900000:]],axis=1)\n",
    "fea_impor = 0\n",
    "k = 1\n",
    "pred_gender = 0\n",
    "y_train_pred = np.zeros((y_train_age.shape[0],10))\n",
    "score_list = []\n",
    "for train_index,test_index in kf.split(X_train,y_train_age):\n",
    "    print(f'fold_{k}*********************************************')\n",
    "    k+=1\n",
    "    X_train2 = X_train.iloc[train_index,:]\n",
    "    y_train2 = y_train_age.iloc[train_index]\n",
    "    X_test2 = X_train.iloc[test_index,:]\n",
    "    y_test2 = y_train_age.iloc[test_index]\n",
    "    clf = lgb.LGBMClassifier(n_estimators=10000, random_state=47,learning_rate=0.05,importance_type = 'gain',n_jobs = 6,metric='None',num_leaves=7,\n",
    "                            min_child_samples = 300)\n",
    "    def acc_score(y_true,y_pred):\n",
    "        y_pred = y_pred.reshape(-1,10,order = 'F').argmax(axis=1)\n",
    "        return 'Accuracy', accuracy_score(y_true,y_pred), True\n",
    "    clf.fit(X_train2,y_train2,eval_set = [(X_train2,y_train2),(X_test2,y_test2)],early_stopping_rounds=100,verbose=50\\\n",
    "            ,eval_metric=lambda y_true,y_pred:acc_score(y_true,y_pred))\n",
    "    temp = clf.predict_proba(X_test2)\n",
    "    y_train_pred[test_index,:] = temp\n",
    "    score_list.append(accuracy_score(y_test2,temp.argmax(axis=1)+1))\n",
    "    fea_impor += clf.feature_importances_/kf.n_splits\n",
    "    pred_gender += clf.predict_proba(X_test)/kf.n_splits\n",
    "    break\n",
    "print('mean',np.mean(score_list))"
   ]
  },
  {
   "cell_type": "code",
   "execution_count": 16,
   "metadata": {
    "ExecuteTime": {
     "end_time": "2020-07-18T17:00:08.105885Z",
     "start_time": "2020-07-18T16:44:41.866260Z"
    }
   },
   "outputs": [
    {
     "name": "stdout",
     "output_type": "stream",
     "text": [
      "(3000000, 60)\n",
      "fold_1*********************************************\n",
      "Training until validation scores don't improve for 100 rounds\n",
      "[50]\ttraining's Accuracy: 0.519034\tvalid_1's Accuracy: 0.51937\n",
      "[100]\ttraining's Accuracy: 0.519523\tvalid_1's Accuracy: 0.52009\n",
      "[150]\ttraining's Accuracy: 0.519599\tvalid_1's Accuracy: 0.520235\n",
      "[200]\ttraining's Accuracy: 0.519609\tvalid_1's Accuracy: 0.520295\n",
      "[250]\ttraining's Accuracy: 0.519632\tvalid_1's Accuracy: 0.52029\n",
      "[300]\ttraining's Accuracy: 0.519673\tvalid_1's Accuracy: 0.520282\n",
      "Early stopping, best iteration is:\n",
      "[227]\ttraining's Accuracy: 0.519622\tvalid_1's Accuracy: 0.520335\n",
      "mean 0.520335\n"
     ]
    }
   ],
   "source": [
    "###第一列1 第二列2 13 15 18 22\n",
    "### age\n",
    "print(X_train.shape)\n",
    "kf = StratifiedKFold(n_splits=5,shuffle=True,random_state=1102)\n",
    "y_train_age = user['age']\n",
    "y_train_gender = user['gender']\n",
    "# X_test = pd.concat([w2v_creative_id_mean[900000:],w2v_ad_id_mean[900000:],\\\n",
    "#                  w2v_product_id_mean[900000:],w2v_advertiser_id_mean[900000:],\\\n",
    "#                  w2v_industry_mean[900000:]],axis=1)\n",
    "fea_impor = 0\n",
    "k = 1\n",
    "pred_gender = 0\n",
    "y_train_pred = np.zeros((y_train_age.shape[0],10))\n",
    "score_list = []\n",
    "for train_index,test_index in kf.split(X_train,y_train_age):\n",
    "    print(f'fold_{k}*********************************************')\n",
    "    k+=1\n",
    "    X_train2 = X_train.iloc[train_index,:]\n",
    "    y_train2 = y_train_age.iloc[train_index]\n",
    "    X_test2 = X_train.iloc[test_index,:]\n",
    "    y_test2 = y_train_age.iloc[test_index]\n",
    "    clf = lgb.LGBMClassifier(n_estimators=10000, random_state=47,learning_rate=0.05,importance_type = 'gain',n_jobs = 6,metric='None',num_leaves=7,\n",
    "                            min_child_samples = 1000,bagging_freq=1)\n",
    "    def acc_score(y_true,y_pred):\n",
    "        y_pred = y_pred.reshape(-1,10,order = 'F').argmax(axis=1)\n",
    "        return 'Accuracy', accuracy_score(y_true,y_pred), True\n",
    "    clf.fit(X_train2,y_train2,eval_set = [(X_train2,y_train2),(X_test2,y_test2)],early_stopping_rounds=100,verbose=50\\\n",
    "            ,eval_metric=lambda y_true,y_pred:acc_score(y_true,y_pred))\n",
    "    temp = clf.predict_proba(X_test2)\n",
    "    y_train_pred[test_index,:] = temp\n",
    "    score_list.append(accuracy_score(y_test2,temp.argmax(axis=1)+1))\n",
    "    fea_impor += clf.feature_importances_/kf.n_splits\n",
    "    pred_gender += clf.predict_proba(X_test)/kf.n_splits\n",
    "    break\n",
    "print('mean',np.mean(score_list))"
   ]
  },
  {
   "cell_type": "code",
   "execution_count": 16,
   "metadata": {
    "ExecuteTime": {
     "end_time": "2020-07-18T03:58:54.921522Z",
     "start_time": "2020-07-18T02:58:48.515153Z"
    }
   },
   "outputs": [
    {
     "name": "stdout",
     "output_type": "stream",
     "text": [
      "(3000000, 60)\n",
      "fold_1*********************************************\n",
      "Training until validation scores don't improve for 100 rounds\n",
      "[50]\ttraining's Accuracy: 0.519035\tvalid_1's Accuracy: 0.519363\n",
      "[100]\ttraining's Accuracy: 0.519567\tvalid_1's Accuracy: 0.520082\n",
      "[150]\ttraining's Accuracy: 0.519598\tvalid_1's Accuracy: 0.520263\n",
      "[200]\ttraining's Accuracy: 0.519602\tvalid_1's Accuracy: 0.520313\n",
      "[250]\ttraining's Accuracy: 0.519607\tvalid_1's Accuracy: 0.52028\n",
      "[300]\ttraining's Accuracy: 0.519633\tvalid_1's Accuracy: 0.520172\n",
      "Early stopping, best iteration is:\n",
      "[235]\ttraining's Accuracy: 0.519597\tvalid_1's Accuracy: 0.52034\n",
      "fold_2*********************************************\n",
      "Training until validation scores don't improve for 100 rounds\n",
      "[50]\ttraining's Accuracy: 0.519134\tvalid_1's Accuracy: 0.519093\n",
      "[100]\ttraining's Accuracy: 0.519536\tvalid_1's Accuracy: 0.51939\n",
      "[150]\ttraining's Accuracy: 0.519619\tvalid_1's Accuracy: 0.519545\n",
      "[200]\ttraining's Accuracy: 0.519635\tvalid_1's Accuracy: 0.51958\n",
      "[250]\ttraining's Accuracy: 0.519636\tvalid_1's Accuracy: 0.519545\n",
      "Early stopping, best iteration is:\n",
      "[159]\ttraining's Accuracy: 0.51963\tvalid_1's Accuracy: 0.519595\n",
      "fold_3*********************************************\n",
      "Training until validation scores don't improve for 100 rounds\n",
      "[50]\ttraining's Accuracy: 0.519266\tvalid_1's Accuracy: 0.518345\n",
      "[100]\ttraining's Accuracy: 0.51975\tvalid_1's Accuracy: 0.518858\n",
      "[150]\ttraining's Accuracy: 0.519837\tvalid_1's Accuracy: 0.518932\n",
      "[200]\ttraining's Accuracy: 0.519863\tvalid_1's Accuracy: 0.518873\n",
      "[250]\ttraining's Accuracy: 0.519829\tvalid_1's Accuracy: 0.518805\n",
      "Early stopping, best iteration is:\n",
      "[171]\ttraining's Accuracy: 0.519887\tvalid_1's Accuracy: 0.518975\n",
      "fold_4*********************************************\n",
      "Training until validation scores don't improve for 100 rounds\n",
      "[50]\ttraining's Accuracy: 0.519325\tvalid_1's Accuracy: 0.517863\n",
      "[100]\ttraining's Accuracy: 0.519944\tvalid_1's Accuracy: 0.518335\n",
      "[150]\ttraining's Accuracy: 0.520114\tvalid_1's Accuracy: 0.518298\n",
      "Early stopping, best iteration is:\n",
      "[80]\ttraining's Accuracy: 0.519855\tvalid_1's Accuracy: 0.51838\n",
      "fold_5*********************************************\n",
      "Training until validation scores don't improve for 100 rounds\n",
      "[50]\ttraining's Accuracy: 0.519021\tvalid_1's Accuracy: 0.519178\n",
      "[100]\ttraining's Accuracy: 0.519617\tvalid_1's Accuracy: 0.519633\n",
      "[150]\ttraining's Accuracy: 0.519654\tvalid_1's Accuracy: 0.519688\n",
      "Early stopping, best iteration is:\n",
      "[73]\ttraining's Accuracy: 0.519413\tvalid_1's Accuracy: 0.519747\n",
      "mean 0.5194073333333333\n"
     ]
    }
   ],
   "source": [
    "###第一列1 第二列2 13 15 18 22\n",
    "### age\n",
    "print(X_train.shape)\n",
    "kf = StratifiedKFold(n_splits=5,shuffle=True,random_state=1102)\n",
    "y_train_age = user['age']\n",
    "y_train_gender = user['gender']\n",
    "# X_test = pd.concat([w2v_creative_id_mean[900000:],w2v_ad_id_mean[900000:],\\\n",
    "#                  w2v_product_id_mean[900000:],w2v_advertiser_id_mean[900000:],\\\n",
    "#                  w2v_industry_mean[900000:]],axis=1)\n",
    "fea_impor = 0\n",
    "k = 1\n",
    "pred_gender = 0\n",
    "y_train_pred = np.zeros((y_train_age.shape[0],10))\n",
    "score_list = []\n",
    "for train_index,test_index in kf.split(X_train,y_train_age):\n",
    "    print(f'fold_{k}*********************************************')\n",
    "    k+=1\n",
    "    X_train2 = X_train.iloc[train_index,:]\n",
    "    y_train2 = y_train_age.iloc[train_index]\n",
    "    X_test2 = X_train.iloc[test_index,:]\n",
    "    y_test2 = y_train_age.iloc[test_index]\n",
    "    clf = lgb.LGBMClassifier(n_estimators=10000, random_state=47,learning_rate=0.05,importance_type = 'gain',n_jobs = 6,metric='None',num_leaves=7)\n",
    "    def acc_score(y_true,y_pred):\n",
    "        y_pred = y_pred.reshape(-1,10,order = 'F').argmax(axis=1)\n",
    "        return 'Accuracy', accuracy_score(y_true,y_pred), True\n",
    "    clf.fit(X_train2,y_train2,eval_set = [(X_train2,y_train2),(X_test2,y_test2)],early_stopping_rounds=100,verbose=50\\\n",
    "            ,eval_metric=lambda y_true,y_pred:acc_score(y_true,y_pred))\n",
    "    temp = clf.predict_proba(X_test2)\n",
    "    y_train_pred[test_index,:] = temp\n",
    "    score_list.append(accuracy_score(y_test2,temp.argmax(axis=1)+1))\n",
    "    fea_impor += clf.feature_importances_/kf.n_splits\n",
    "    pred_gender += clf.predict_proba(X_test)/kf.n_splits\n",
    "    break\n",
    "print('mean',np.mean(score_list))"
   ]
  },
  {
   "cell_type": "code",
   "execution_count": 62,
   "metadata": {
    "ExecuteTime": {
     "end_time": "2020-07-14T15:28:34.329234Z",
     "start_time": "2020-07-14T15:28:33.913176Z"
    }
   },
   "outputs": [
    {
     "data": {
      "text/plain": [
       "0.518942"
      ]
     },
     "execution_count": 62,
     "metadata": {},
     "output_type": "execute_result"
    }
   ],
   "source": [
    "accuracy_score(user['age'],y_train_pred.argmax(axis=1)+1)"
   ]
  },
  {
   "cell_type": "code",
   "execution_count": 15,
   "metadata": {
    "ExecuteTime": {
     "end_time": "2020-07-12T07:39:08.517446Z",
     "start_time": "2020-07-12T07:39:07.801327Z"
    }
   },
   "outputs": [],
   "source": [
    "pd.DataFrame(pred_gender).to_pickle('5199_prob.pkl')"
   ]
  },
  {
   "cell_type": "code",
   "execution_count": 16,
   "metadata": {
    "ExecuteTime": {
     "end_time": "2020-07-12T07:40:40.180402Z",
     "start_time": "2020-07-12T07:40:37.784809Z"
    }
   },
   "outputs": [],
   "source": [
    "pd.DataFrame(y_train_pred).to_pickle('5199_prob_oof.pkl')"
   ]
  },
  {
   "cell_type": "code",
   "execution_count": 17,
   "metadata": {
    "ExecuteTime": {
     "end_time": "2020-07-18T03:59:05.281458Z",
     "start_time": "2020-07-18T03:59:04.702407Z"
    }
   },
   "outputs": [],
   "source": [
    "sub = pd.read_csv('stack_age_v1_v2_v3_v4_v6_gender_v1_v2_v4.csv')"
   ]
  },
  {
   "cell_type": "code",
   "execution_count": 18,
   "metadata": {
    "ExecuteTime": {
     "end_time": "2020-07-18T03:59:06.530711Z",
     "start_time": "2020-07-18T03:59:06.400058Z"
    }
   },
   "outputs": [
    {
     "data": {
      "text/plain": [
       "0.978177"
      ]
     },
     "execution_count": 18,
     "metadata": {},
     "output_type": "execute_result"
    }
   ],
   "source": [
    "accuracy_score(pred_gender.argmax(axis=1)+1,sub.predicted_age)"
   ]
  },
  {
   "cell_type": "code",
   "execution_count": 19,
   "metadata": {
    "ExecuteTime": {
     "end_time": "2020-07-18T03:59:08.182262Z",
     "start_time": "2020-07-18T03:59:08.019642Z"
    }
   },
   "outputs": [],
   "source": [
    "sub.predicted_age = pred_gender.argmax(axis=1)+1\n",
    "sub.predicted_gender = -1"
   ]
  },
  {
   "cell_type": "code",
   "execution_count": 20,
   "metadata": {
    "ExecuteTime": {
     "end_time": "2020-07-18T03:59:13.786179Z",
     "start_time": "2020-07-18T03:59:09.201378Z"
    }
   },
   "outputs": [],
   "source": [
    "sub.to_csv('stack_age_v1_v2_v3_v4_v6_v11.csv',index=False)"
   ]
  },
  {
   "cell_type": "code",
   "execution_count": 21,
   "metadata": {
    "ExecuteTime": {
     "end_time": "2020-07-18T09:45:29.237922Z",
     "start_time": "2020-07-18T09:45:29.003575Z"
    }
   },
   "outputs": [],
   "source": [
    "sub = pd.read_csv('stack_age_v1_v2_v3_v4_v6_gender_v1_v2_v4.csv')"
   ]
  },
  {
   "cell_type": "code",
   "execution_count": 22,
   "metadata": {
    "ExecuteTime": {
     "end_time": "2020-07-18T09:46:08.290255Z",
     "start_time": "2020-07-18T09:46:08.087775Z"
    }
   },
   "outputs": [],
   "source": [
    "sub = pd.read_csv('stack_age_v1_v2_v3_v4_v6_gender_v1_v2_v4.csv')"
   ]
  },
  {
   "cell_type": "code",
   "execution_count": 23,
   "metadata": {
    "ExecuteTime": {
     "end_time": "2020-07-18T09:46:09.387952Z",
     "start_time": "2020-07-18T09:46:09.201427Z"
    }
   },
   "outputs": [],
   "source": [
    "sub2 = pd.read_csv('stack_nn_5.csv')"
   ]
  },
  {
   "cell_type": "code",
   "execution_count": 24,
   "metadata": {
    "ExecuteTime": {
     "end_time": "2020-07-18T09:46:21.199589Z",
     "start_time": "2020-07-18T09:46:21.128808Z"
    }
   },
   "outputs": [
    {
     "data": {
      "text/plain": [
       "0.955863"
      ]
     },
     "execution_count": 24,
     "metadata": {},
     "output_type": "execute_result"
    }
   ],
   "source": [
    "accuracy_score(sub.predicted_age,sub2.predicted_age)"
   ]
  },
  {
   "cell_type": "markdown",
   "metadata": {},
   "source": [
    "### gender"
   ]
  },
  {
   "cell_type": "code",
   "execution_count": 69,
   "metadata": {
    "ExecuteTime": {
     "end_time": "2020-07-12T23:39:37.773866Z",
     "start_time": "2020-07-12T23:39:37.729945Z"
    }
   },
   "outputs": [],
   "source": [
    "v1_gender_oof = pd.read_pickle('./stack/fusai_v1_gender_oof.pkl').values.reshape(-1,)\n",
    "v1_gender_pred = pd.read_pickle('./stack/fusai_v1_gender_pred.pkl').values.reshape(-1,)"
   ]
  },
  {
   "cell_type": "code",
   "execution_count": 70,
   "metadata": {
    "ExecuteTime": {
     "end_time": "2020-07-12T23:39:38.008068Z",
     "start_time": "2020-07-12T23:39:37.963181Z"
    }
   },
   "outputs": [],
   "source": [
    "v2_gender_oof = pd.read_pickle('./stack/fusai_v2_gender_oof.pkl').values.reshape(-1,)\n",
    "v2_gender_pred = pd.read_pickle('./stack/fusai_v2_gender_pred.pkl').values.reshape(-1,)"
   ]
  },
  {
   "cell_type": "code",
   "execution_count": 71,
   "metadata": {
    "ExecuteTime": {
     "end_time": "2020-07-12T23:39:40.465867Z",
     "start_time": "2020-07-12T23:39:38.490071Z"
    }
   },
   "outputs": [],
   "source": [
    "v4_gender_oof = pd.read_csv('./stack/gender_oof_0709_dmj.csv')[['0','1']]\n",
    "v4_gender_pred = pd.read_csv('./stack/gender_pred_0709_dmj.csv')[['0','1']]"
   ]
  },
  {
   "cell_type": "code",
   "execution_count": 72,
   "metadata": {
    "ExecuteTime": {
     "end_time": "2020-07-12T23:39:40.520715Z",
     "start_time": "2020-07-12T23:39:40.469817Z"
    }
   },
   "outputs": [],
   "source": [
    "v3_gender_oof = pd.read_pickle('./stack/fusai_v4_gender_oof.pkl').values.reshape(-1,)\n",
    "v3_gender_pred = pd.read_pickle('./stack/fusai_v4_gender_pred.pkl').values.reshape(-1,)"
   ]
  },
  {
   "cell_type": "code",
   "execution_count": 7,
   "metadata": {
    "ExecuteTime": {
     "end_time": "2020-07-08T15:04:10.444359Z",
     "start_time": "2020-07-08T15:04:10.170053Z"
    }
   },
   "outputs": [],
   "source": [
    "sub = pd.read_csv('stack_age_v1_v2_v3_v4_gender_v1_v2.csv')"
   ]
  },
  {
   "cell_type": "code",
   "execution_count": 8,
   "metadata": {
    "ExecuteTime": {
     "end_time": "2020-07-08T15:04:57.934066Z",
     "start_time": "2020-07-08T15:04:56.045923Z"
    }
   },
   "outputs": [
    {
     "name": "stdout",
     "output_type": "stream",
     "text": [
      "0.9493416666666666\n",
      "0.949077\n",
      "0.9495466666666666\n"
     ]
    }
   ],
   "source": [
    "print(accuracy_score(user.gender,v1_gender_oof.round()+1))\n",
    "print(accuracy_score(user.gender,v2_gender_oof.round()+1))\n",
    "print(accuracy_score(user.gender,v4_gender_oof.round()+1))\n"
   ]
  },
  {
   "cell_type": "code",
   "execution_count": 73,
   "metadata": {
    "ExecuteTime": {
     "end_time": "2020-07-12T23:39:45.268309Z",
     "start_time": "2020-07-12T23:39:44.983077Z"
    }
   },
   "outputs": [],
   "source": [
    "#df = np.hstack((v1_gender_oof,v1_gender_oof))\n",
    "X_train = pd.DataFrame()\n",
    "X_train['col_1'] = v1_gender_oof\n",
    "X_train['col_2'] = v2_gender_oof\n",
    "X_train['col_3'] = v3_gender_oof\n",
    "X_train['col_4'] = v4_gender_oof['0']\n",
    "X_train['col_5'] = v4_gender_oof['1']"
   ]
  },
  {
   "cell_type": "code",
   "execution_count": 74,
   "metadata": {
    "ExecuteTime": {
     "end_time": "2020-07-12T23:39:51.964100Z",
     "start_time": "2020-07-12T23:39:51.627010Z"
    }
   },
   "outputs": [],
   "source": [
    "#df = np.hstack((v1_gender_oof,v1_gender_oof))\n",
    "X_test = pd.DataFrame()\n",
    "X_test['col_1'] = v1_gender_pred\n",
    "X_test['col_2'] = v2_gender_pred\n",
    "X_test['col_3'] = v3_gender_pred\n",
    "X_train['col_4'] = v4_gender_pred['0']\n",
    "X_train['col_5'] = v4_gender_pred['1']"
   ]
  },
  {
   "cell_type": "code",
   "execution_count": 76,
   "metadata": {
    "ExecuteTime": {
     "end_time": "2020-07-12T23:54:43.891448Z",
     "start_time": "2020-07-12T23:46:11.323465Z"
    }
   },
   "outputs": [
    {
     "name": "stdout",
     "output_type": "stream",
     "text": [
      "(3000000, 5)\n",
      "fold_1*********************************************\n",
      "Training until validation scores don't improve for 100 rounds\n",
      "[50]\ttraining's Accuracy: 0.942124\tvalid_1's Accuracy: 0.942128\n",
      "[100]\ttraining's Accuracy: 0.949316\tvalid_1's Accuracy: 0.94933\n",
      "[150]\ttraining's Accuracy: 0.950075\tvalid_1's Accuracy: 0.949992\n",
      "[200]\ttraining's Accuracy: 0.950267\tvalid_1's Accuracy: 0.95021\n",
      "[250]\ttraining's Accuracy: 0.950315\tvalid_1's Accuracy: 0.950272\n",
      "[300]\ttraining's Accuracy: 0.950332\tvalid_1's Accuracy: 0.950285\n",
      "[350]\ttraining's Accuracy: 0.95034\tvalid_1's Accuracy: 0.950287\n",
      "[400]\ttraining's Accuracy: 0.95035\tvalid_1's Accuracy: 0.950287\n",
      "[450]\ttraining's Accuracy: 0.95035\tvalid_1's Accuracy: 0.950288\n",
      "Early stopping, best iteration is:\n",
      "[374]\ttraining's Accuracy: 0.950354\tvalid_1's Accuracy: 0.950295\n",
      "0.950295\n"
     ]
    },
    {
     "ename": "ValueError",
     "evalue": "Number of features of the model must match the input. Model n_features_ is 5 and input n_features is 3 ",
     "output_type": "error",
     "traceback": [
      "\u001b[1;31m---------------------------------------------------------------------------\u001b[0m",
      "\u001b[1;31mValueError\u001b[0m                                Traceback (most recent call last)",
      "\u001b[1;32m<ipython-input-76-c7789d680c5c>\u001b[0m in \u001b[0;36m<module>\u001b[1;34m\u001b[0m\n\u001b[0;32m     30\u001b[0m     \u001b[0mprint\u001b[0m\u001b[1;33m(\u001b[0m\u001b[0maccuracy_score\u001b[0m\u001b[1;33m(\u001b[0m\u001b[0my_test2\u001b[0m\u001b[1;33m-\u001b[0m\u001b[1;36m1\u001b[0m\u001b[1;33m,\u001b[0m\u001b[1;36m1\u001b[0m\u001b[1;33m-\u001b[0m\u001b[0mtemp\u001b[0m\u001b[1;33m.\u001b[0m\u001b[0mround\u001b[0m\u001b[1;33m(\u001b[0m\u001b[1;33m)\u001b[0m\u001b[1;33m)\u001b[0m\u001b[1;33m)\u001b[0m\u001b[1;33m\u001b[0m\u001b[1;33m\u001b[0m\u001b[0m\n\u001b[0;32m     31\u001b[0m     \u001b[0mfea_impor\u001b[0m \u001b[1;33m+=\u001b[0m \u001b[0mclf\u001b[0m\u001b[1;33m.\u001b[0m\u001b[0mfeature_importances_\u001b[0m\u001b[1;33m/\u001b[0m\u001b[0mkf\u001b[0m\u001b[1;33m.\u001b[0m\u001b[0mn_splits\u001b[0m\u001b[1;33m\u001b[0m\u001b[1;33m\u001b[0m\u001b[0m\n\u001b[1;32m---> 32\u001b[1;33m     \u001b[0mpred_gender\u001b[0m \u001b[1;33m+=\u001b[0m \u001b[0mclf\u001b[0m\u001b[1;33m.\u001b[0m\u001b[0mpredict_proba\u001b[0m\u001b[1;33m(\u001b[0m\u001b[0mX_test\u001b[0m\u001b[1;33m)\u001b[0m\u001b[1;33m[\u001b[0m\u001b[1;33m:\u001b[0m\u001b[1;33m,\u001b[0m\u001b[1;36m0\u001b[0m\u001b[1;33m]\u001b[0m\u001b[1;33m/\u001b[0m\u001b[0mkf\u001b[0m\u001b[1;33m.\u001b[0m\u001b[0mn_splits\u001b[0m\u001b[1;33m\u001b[0m\u001b[1;33m\u001b[0m\u001b[0m\n\u001b[0m\u001b[0;32m     33\u001b[0m     \u001b[1;32mbreak\u001b[0m\u001b[1;33m\u001b[0m\u001b[1;33m\u001b[0m\u001b[0m\n\u001b[0;32m     34\u001b[0m \u001b[0mprint\u001b[0m\u001b[1;33m(\u001b[0m\u001b[1;34m'mean'\u001b[0m\u001b[1;33m,\u001b[0m\u001b[0mnp\u001b[0m\u001b[1;33m.\u001b[0m\u001b[0mmean\u001b[0m\u001b[1;33m(\u001b[0m\u001b[0mscore_list\u001b[0m\u001b[1;33m)\u001b[0m\u001b[1;33m)\u001b[0m\u001b[1;33m\u001b[0m\u001b[1;33m\u001b[0m\u001b[0m\n",
      "\u001b[1;32m~\\AppData\\Roaming\\Python\\Python37\\site-packages\\lightgbm\\sklearn.py\u001b[0m in \u001b[0;36mpredict_proba\u001b[1;34m(self, X, raw_score, num_iteration, pred_leaf, pred_contrib, **kwargs)\u001b[0m\n\u001b[0;32m    861\u001b[0m         \"\"\"\n\u001b[0;32m    862\u001b[0m         result = super(LGBMClassifier, self).predict(X, raw_score, num_iteration,\n\u001b[1;32m--> 863\u001b[1;33m                                                      pred_leaf, pred_contrib, **kwargs)\n\u001b[0m\u001b[0;32m    864\u001b[0m         \u001b[1;32mif\u001b[0m \u001b[0mself\u001b[0m\u001b[1;33m.\u001b[0m\u001b[0m_n_classes\u001b[0m \u001b[1;33m>\u001b[0m \u001b[1;36m2\u001b[0m \u001b[1;32mor\u001b[0m \u001b[0mraw_score\u001b[0m \u001b[1;32mor\u001b[0m \u001b[0mpred_leaf\u001b[0m \u001b[1;32mor\u001b[0m \u001b[0mpred_contrib\u001b[0m\u001b[1;33m:\u001b[0m\u001b[1;33m\u001b[0m\u001b[1;33m\u001b[0m\u001b[0m\n\u001b[0;32m    865\u001b[0m             \u001b[1;32mreturn\u001b[0m \u001b[0mresult\u001b[0m\u001b[1;33m\u001b[0m\u001b[1;33m\u001b[0m\u001b[0m\n",
      "\u001b[1;32m~\\AppData\\Roaming\\Python\\Python37\\site-packages\\lightgbm\\sklearn.py\u001b[0m in \u001b[0;36mpredict\u001b[1;34m(self, X, raw_score, num_iteration, pred_leaf, pred_contrib, **kwargs)\u001b[0m\n\u001b[0;32m    661\u001b[0m                              \u001b[1;34m\"match the input. Model n_features_ is %s and \"\u001b[0m\u001b[1;33m\u001b[0m\u001b[1;33m\u001b[0m\u001b[0m\n\u001b[0;32m    662\u001b[0m                              \u001b[1;34m\"input n_features is %s \"\u001b[0m\u001b[1;33m\u001b[0m\u001b[1;33m\u001b[0m\u001b[0m\n\u001b[1;32m--> 663\u001b[1;33m                              % (self._n_features, n_features))\n\u001b[0m\u001b[0;32m    664\u001b[0m         return self.booster_.predict(X, raw_score=raw_score, num_iteration=num_iteration,\n\u001b[0;32m    665\u001b[0m                                      pred_leaf=pred_leaf, pred_contrib=pred_contrib, **kwargs)\n",
      "\u001b[1;31mValueError\u001b[0m: Number of features of the model must match the input. Model n_features_ is 5 and input n_features is 3 "
     ]
    }
   ],
   "source": [
    "###第一列1 第二列2 13 15 18 22\n",
    "### age\n",
    "print(X_train.shape)\n",
    "kf = StratifiedKFold(n_splits=5,shuffle=True,random_state=1102)\n",
    "y_train_age = user['age']\n",
    "y_train_gender = user['gender']\n",
    "# X_test = pd.concat([w2v_creative_id_mean[900000:],w2v_ad_id_mean[900000:],\\\n",
    "#                  w2v_product_id_mean[900000:],w2v_advertiser_id_mean[900000:],\\\n",
    "#                  w2v_industry_mean[900000:]],axis=1)\n",
    "fea_impor = 0\n",
    "k = 1\n",
    "pred_gender = 0\n",
    "y_train_pred = np.zeros((y_train_age.shape[0]))\n",
    "score_list = []\n",
    "for train_index,test_index in kf.split(X_train,y_train_gender):\n",
    "    print(f'fold_{k}*********************************************')\n",
    "    k+=1\n",
    "    X_train2 = X_train.iloc[train_index,:]\n",
    "    y_train2 = y_train_gender.iloc[train_index]\n",
    "    X_test2 = X_train.iloc[test_index,:]\n",
    "    y_test2 = y_train_gender.iloc[test_index]\n",
    "    clf = lgb.LGBMClassifier(n_estimators=10000, random_state=47,learning_rate=0.01,importance_type = 'gain',n_jobs = -1,metric='None',num_leaves=15)\n",
    "    def acc_score(y_true,y_pred):\n",
    "        return 'Accuracy', accuracy_score(y_true,y_pred.round()), True\n",
    "    clf.fit(X_train2,y_train2,eval_set = [(X_train2,y_train2),(X_test2,y_test2)],early_stopping_rounds=100,verbose=50\\\n",
    "            ,eval_metric=lambda y_true,y_pred:acc_score(y_true,y_pred))\n",
    "    temp = clf.predict_proba(X_test2)[:,0]\n",
    "    y_train_pred[test_index] = temp\n",
    "    score_list.append(accuracy_score(y_test2-1,1-temp.round()))\n",
    "    print(accuracy_score(y_test2-1,1-temp.round()))\n",
    "    fea_impor += clf.feature_importances_/kf.n_splits\n",
    "    pred_gender += clf.predict_proba(X_test)[:,0]/kf.n_splits\n",
    "    break\n",
    "print('mean',np.mean(score_list))"
   ]
  },
  {
   "cell_type": "code",
   "execution_count": 15,
   "metadata": {
    "ExecuteTime": {
     "end_time": "2020-07-08T16:01:56.650117Z",
     "start_time": "2020-07-08T15:55:40.988284Z"
    }
   },
   "outputs": [
    {
     "name": "stdout",
     "output_type": "stream",
     "text": [
      "(3000000, 3)\n",
      "fold_1*********************************************\n",
      "Training until validation scores don't improve for 100 rounds\n",
      "[50]\ttraining's Accuracy: 0.941979\tvalid_1's Accuracy: 0.941868\n",
      "[100]\ttraining's Accuracy: 0.949251\tvalid_1's Accuracy: 0.949197\n",
      "[150]\ttraining's Accuracy: 0.950083\tvalid_1's Accuracy: 0.949928\n",
      "[200]\ttraining's Accuracy: 0.950283\tvalid_1's Accuracy: 0.950157\n",
      "[250]\ttraining's Accuracy: 0.950333\tvalid_1's Accuracy: 0.950282\n",
      "[300]\ttraining's Accuracy: 0.950343\tvalid_1's Accuracy: 0.950277\n",
      "Early stopping, best iteration is:\n",
      "[235]\ttraining's Accuracy: 0.950316\tvalid_1's Accuracy: 0.950288\n",
      "0.9502883333333333\n",
      "mean 0.9502883333333333\n"
     ]
    }
   ],
   "source": [
    "###第一列1 第二列2 13 15 18 22\n",
    "### age\n",
    "print(X_train.shape)\n",
    "kf = StratifiedKFold(n_splits=5,shuffle=True,random_state=1102)\n",
    "y_train_age = user['age']\n",
    "y_train_gender = user['gender']\n",
    "# X_test = pd.concat([w2v_creative_id_mean[900000:],w2v_ad_id_mean[900000:],\\\n",
    "#                  w2v_product_id_mean[900000:],w2v_advertiser_id_mean[900000:],\\\n",
    "#                  w2v_industry_mean[900000:]],axis=1)\n",
    "fea_impor = 0\n",
    "k = 1\n",
    "pred_gender = 0\n",
    "y_train_pred = np.zeros((y_train_age.shape[0]))\n",
    "score_list = []\n",
    "for train_index,test_index in kf.split(X_train,y_train_gender):\n",
    "    print(f'fold_{k}*********************************************')\n",
    "    k+=1\n",
    "    X_train2 = X_train.iloc[train_index,:]\n",
    "    y_train2 = y_train_gender.iloc[train_index]\n",
    "    X_test2 = X_train.iloc[test_index,:]\n",
    "    y_test2 = y_train_gender.iloc[test_index]\n",
    "    clf = lgb.LGBMClassifier(n_estimators=10000, random_state=47,learning_rate=0.01,importance_type = 'gain',n_jobs = -1,metric='None',num_leaves=31)\n",
    "    def acc_score(y_true,y_pred):\n",
    "        return 'Accuracy', accuracy_score(y_true,y_pred.round()), True\n",
    "    clf.fit(X_train2,y_train2,eval_set = [(X_train2,y_train2),(X_test2,y_test2)],early_stopping_rounds=100,verbose=50\\\n",
    "            ,eval_metric=lambda y_true,y_pred:acc_score(y_true,y_pred))\n",
    "    temp = clf.predict_proba(X_test2)[:,0]\n",
    "    y_train_pred[test_index] = temp\n",
    "    score_list.append(accuracy_score(y_test2-1,1-temp.round()))\n",
    "    print(accuracy_score(y_test2-1,1-temp.round()))\n",
    "    fea_impor += clf.feature_importances_/kf.n_splits\n",
    "    pred_gender += clf.predict_proba(X_test)[:,0]/kf.n_splits\n",
    "    break\n",
    "print('mean',np.mean(score_list))"
   ]
  },
  {
   "cell_type": "code",
   "execution_count": 16,
   "metadata": {
    "ExecuteTime": {
     "end_time": "2020-07-08T16:39:01.175574Z",
     "start_time": "2020-07-08T16:02:45.734898Z"
    }
   },
   "outputs": [
    {
     "name": "stdout",
     "output_type": "stream",
     "text": [
      "(3000000, 3)\n",
      "fold_1*********************************************\n",
      "Training until validation scores don't improve for 100 rounds\n",
      "[50]\ttraining's Accuracy: 0.942124\tvalid_1's Accuracy: 0.942128\n",
      "[100]\ttraining's Accuracy: 0.949316\tvalid_1's Accuracy: 0.94933\n",
      "[150]\ttraining's Accuracy: 0.950075\tvalid_1's Accuracy: 0.949992\n",
      "[200]\ttraining's Accuracy: 0.950267\tvalid_1's Accuracy: 0.95021\n",
      "[250]\ttraining's Accuracy: 0.950315\tvalid_1's Accuracy: 0.950272\n",
      "[300]\ttraining's Accuracy: 0.950332\tvalid_1's Accuracy: 0.950285\n",
      "[350]\ttraining's Accuracy: 0.95034\tvalid_1's Accuracy: 0.950287\n",
      "[400]\ttraining's Accuracy: 0.95035\tvalid_1's Accuracy: 0.950287\n",
      "[450]\ttraining's Accuracy: 0.95035\tvalid_1's Accuracy: 0.950288\n",
      "Early stopping, best iteration is:\n",
      "[374]\ttraining's Accuracy: 0.950354\tvalid_1's Accuracy: 0.950295\n",
      "0.950295\n",
      "fold_2*********************************************\n",
      "Training until validation scores don't improve for 100 rounds\n",
      "[50]\ttraining's Accuracy: 0.942121\tvalid_1's Accuracy: 0.941115\n",
      "[100]\ttraining's Accuracy: 0.949418\tvalid_1's Accuracy: 0.948608\n",
      "[150]\ttraining's Accuracy: 0.950227\tvalid_1's Accuracy: 0.949498\n",
      "[200]\ttraining's Accuracy: 0.950395\tvalid_1's Accuracy: 0.9497\n",
      "[250]\ttraining's Accuracy: 0.950442\tvalid_1's Accuracy: 0.949717\n",
      "[300]\ttraining's Accuracy: 0.950429\tvalid_1's Accuracy: 0.949695\n",
      "Early stopping, best iteration is:\n",
      "[236]\ttraining's Accuracy: 0.950445\tvalid_1's Accuracy: 0.949735\n",
      "0.949735\n",
      "fold_3*********************************************\n",
      "Training until validation scores don't improve for 100 rounds\n",
      "[50]\ttraining's Accuracy: 0.942254\tvalid_1's Accuracy: 0.942318\n",
      "[100]\ttraining's Accuracy: 0.949234\tvalid_1's Accuracy: 0.949265\n",
      "[150]\ttraining's Accuracy: 0.95013\tvalid_1's Accuracy: 0.94994\n",
      "[200]\ttraining's Accuracy: 0.950291\tvalid_1's Accuracy: 0.950163\n",
      "[250]\ttraining's Accuracy: 0.950314\tvalid_1's Accuracy: 0.950197\n",
      "[300]\ttraining's Accuracy: 0.950319\tvalid_1's Accuracy: 0.950208\n",
      "[350]\ttraining's Accuracy: 0.950338\tvalid_1's Accuracy: 0.950188\n",
      "Early stopping, best iteration is:\n",
      "[264]\ttraining's Accuracy: 0.950313\tvalid_1's Accuracy: 0.950217\n",
      "0.9502166666666667\n",
      "fold_4*********************************************\n",
      "Training until validation scores don't improve for 100 rounds\n",
      "[50]\ttraining's Accuracy: 0.941671\tvalid_1's Accuracy: 0.942483\n",
      "[100]\ttraining's Accuracy: 0.949226\tvalid_1's Accuracy: 0.949818\n",
      "[150]\ttraining's Accuracy: 0.950015\tvalid_1's Accuracy: 0.95045\n",
      "[200]\ttraining's Accuracy: 0.950143\tvalid_1's Accuracy: 0.95053\n",
      "[250]\ttraining's Accuracy: 0.950202\tvalid_1's Accuracy: 0.950575\n",
      "[300]\ttraining's Accuracy: 0.950213\tvalid_1's Accuracy: 0.95059\n",
      "Early stopping, best iteration is:\n",
      "[228]\ttraining's Accuracy: 0.950194\tvalid_1's Accuracy: 0.950622\n",
      "0.9506216666666667\n",
      "fold_5*********************************************\n",
      "Training until validation scores don't improve for 100 rounds\n",
      "[50]\ttraining's Accuracy: 0.941875\tvalid_1's Accuracy: 0.941897\n",
      "[100]\ttraining's Accuracy: 0.949163\tvalid_1's Accuracy: 0.949395\n",
      "[150]\ttraining's Accuracy: 0.95\tvalid_1's Accuracy: 0.950217\n",
      "[200]\ttraining's Accuracy: 0.950158\tvalid_1's Accuracy: 0.950475\n",
      "[250]\ttraining's Accuracy: 0.950218\tvalid_1's Accuracy: 0.95055\n",
      "[300]\ttraining's Accuracy: 0.950227\tvalid_1's Accuracy: 0.95057\n",
      "[350]\ttraining's Accuracy: 0.950236\tvalid_1's Accuracy: 0.950587\n",
      "[400]\ttraining's Accuracy: 0.950248\tvalid_1's Accuracy: 0.950598\n",
      "Early stopping, best iteration is:\n",
      "[342]\ttraining's Accuracy: 0.950234\tvalid_1's Accuracy: 0.950605\n",
      "0.950605\n",
      "mean 0.9502946666666668\n"
     ]
    }
   ],
   "source": [
    "###第一列1 第二列2 13 15 18 22\n",
    "### age\n",
    "print(X_train.shape)\n",
    "kf = StratifiedKFold(n_splits=5,shuffle=True,random_state=1102)\n",
    "y_train_age = user['age']\n",
    "y_train_gender = user['gender']\n",
    "# X_test = pd.concat([w2v_creative_id_mean[900000:],w2v_ad_id_mean[900000:],\\\n",
    "#                  w2v_product_id_mean[900000:],w2v_advertiser_id_mean[900000:],\\\n",
    "#                  w2v_industry_mean[900000:]],axis=1)\n",
    "fea_impor = 0\n",
    "k = 1\n",
    "pred_gender = 0\n",
    "y_train_pred = np.zeros((y_train_age.shape[0]))\n",
    "score_list = []\n",
    "for train_index,test_index in kf.split(X_train,y_train_gender):\n",
    "    print(f'fold_{k}*********************************************')\n",
    "    k+=1\n",
    "    X_train2 = X_train.iloc[train_index,:]\n",
    "    y_train2 = y_train_gender.iloc[train_index]\n",
    "    X_test2 = X_train.iloc[test_index,:]\n",
    "    y_test2 = y_train_gender.iloc[test_index]\n",
    "    clf = lgb.LGBMClassifier(n_estimators=10000, random_state=47,learning_rate=0.01,importance_type = 'gain',n_jobs = -1,metric='None',num_leaves=15)\n",
    "    def acc_score(y_true,y_pred):\n",
    "        return 'Accuracy', accuracy_score(y_true,y_pred.round()), True\n",
    "    clf.fit(X_train2,y_train2,eval_set = [(X_train2,y_train2),(X_test2,y_test2)],early_stopping_rounds=100,verbose=50\\\n",
    "            ,eval_metric=lambda y_true,y_pred:acc_score(y_true,y_pred))\n",
    "    temp = clf.predict_proba(X_test2)[:,0]\n",
    "    y_train_pred[test_index] = temp\n",
    "    score_list.append(accuracy_score(y_test2-1,1-temp.round()))\n",
    "    print(accuracy_score(y_test2-1,1-temp.round()))\n",
    "    fea_impor += clf.feature_importances_/kf.n_splits\n",
    "    pred_gender += clf.predict_proba(X_test)[:,0]/kf.n_splits\n",
    "    #break\n",
    "print('mean',np.mean(score_list))"
   ]
  },
  {
   "cell_type": "code",
   "execution_count": 23,
   "metadata": {
    "ExecuteTime": {
     "end_time": "2020-07-08T16:51:58.189127Z",
     "start_time": "2020-07-08T16:51:57.935043Z"
    }
   },
   "outputs": [],
   "source": [
    "sub = pd.read_csv('stack_age_v1_v2_v3_v4_gender_v1_v2.csv')"
   ]
  },
  {
   "cell_type": "code",
   "execution_count": 24,
   "metadata": {
    "ExecuteTime": {
     "end_time": "2020-07-08T16:52:22.493028Z",
     "start_time": "2020-07-08T16:52:22.271189Z"
    }
   },
   "outputs": [
    {
     "data": {
      "text/plain": [
       "0.994001"
      ]
     },
     "execution_count": 24,
     "metadata": {},
     "output_type": "execute_result"
    }
   ],
   "source": [
    "accuracy_score(sub.predicted_gender,v4_gender_pred.round()+1)"
   ]
  },
  {
   "cell_type": "code",
   "execution_count": 25,
   "metadata": {
    "ExecuteTime": {
     "end_time": "2020-07-08T16:52:27.611194Z",
     "start_time": "2020-07-08T16:52:27.536803Z"
    }
   },
   "outputs": [],
   "source": [
    "sub.predicted_gender = v4_gender_pred.round()+1"
   ]
  },
  {
   "cell_type": "code",
   "execution_count": null,
   "metadata": {},
   "outputs": [],
   "source": [
    "sub.to_csv('stack_age_v1_v2_v4_gender_v1_v2_v4.csv',index=False)"
   ]
  },
  {
   "cell_type": "code",
   "execution_count": 19,
   "metadata": {
    "ExecuteTime": {
     "end_time": "2020-07-08T16:40:40.027741Z",
     "start_time": "2020-07-08T16:40:39.753474Z"
    }
   },
   "outputs": [
    {
     "data": {
      "text/plain": [
       "0.998098"
      ]
     },
     "execution_count": 19,
     "metadata": {},
     "output_type": "execute_result"
    }
   ],
   "source": [
    "accuracy_score(sub.predicted_gender,2-pred_gender.round())"
   ]
  },
  {
   "cell_type": "code",
   "execution_count": 20,
   "metadata": {
    "ExecuteTime": {
     "end_time": "2020-07-08T16:41:06.921338Z",
     "start_time": "2020-07-08T16:41:06.826624Z"
    }
   },
   "outputs": [],
   "source": [
    "sub.predicted_gender = 2-pred_gender.round()"
   ]
  },
  {
   "cell_type": "code",
   "execution_count": 21,
   "metadata": {
    "ExecuteTime": {
     "end_time": "2020-07-08T16:41:13.141053Z",
     "start_time": "2020-07-08T16:41:10.588674Z"
    }
   },
   "outputs": [],
   "source": [
    "sub.to_csv('stack_age_v1_v2_v4_gender_v1_v2_v4.csv',index=False)"
   ]
  },
  {
   "cell_type": "code",
   "execution_count": null,
   "metadata": {},
   "outputs": [],
   "source": []
  },
  {
   "cell_type": "code",
   "execution_count": 13,
   "metadata": {
    "ExecuteTime": {
     "end_time": "2020-07-08T15:27:15.173799Z",
     "start_time": "2020-07-08T15:15:22.051548Z"
    }
   },
   "outputs": [
    {
     "name": "stdout",
     "output_type": "stream",
     "text": [
      "(3000000, 3)\n",
      "fold_1*********************************************\n",
      "Training until validation scores don't improve for 100 rounds\n",
      "[50]\ttraining's Accuracy: 0.941459\tvalid_1's Accuracy: 0.941538\n",
      "[100]\ttraining's Accuracy: 0.949219\tvalid_1's Accuracy: 0.949212\n",
      "[150]\ttraining's Accuracy: 0.949956\tvalid_1's Accuracy: 0.949923\n",
      "[200]\ttraining's Accuracy: 0.950139\tvalid_1's Accuracy: 0.950067\n",
      "[250]\ttraining's Accuracy: 0.950239\tvalid_1's Accuracy: 0.950193\n",
      "[300]\ttraining's Accuracy: 0.950257\tvalid_1's Accuracy: 0.950213\n",
      "[350]\ttraining's Accuracy: 0.95029\tvalid_1's Accuracy: 0.950235\n",
      "[400]\ttraining's Accuracy: 0.950311\tvalid_1's Accuracy: 0.95023\n",
      "[450]\ttraining's Accuracy: 0.950322\tvalid_1's Accuracy: 0.950237\n",
      "[500]\ttraining's Accuracy: 0.950308\tvalid_1's Accuracy: 0.95025\n",
      "[550]\ttraining's Accuracy: 0.95031\tvalid_1's Accuracy: 0.950257\n",
      "[600]\ttraining's Accuracy: 0.950316\tvalid_1's Accuracy: 0.95026\n",
      "[650]\ttraining's Accuracy: 0.950315\tvalid_1's Accuracy: 0.950253\n",
      "Early stopping, best iteration is:\n",
      "[557]\ttraining's Accuracy: 0.950311\tvalid_1's Accuracy: 0.950262\n",
      "0.9502616666666667\n",
      "mean 0.9502616666666667\n"
     ]
    }
   ],
   "source": [
    "###第一列1 第二列2 13 15 18 22\n",
    "### age\n",
    "print(X_train.shape)\n",
    "kf = StratifiedKFold(n_splits=5,shuffle=True,random_state=1102)\n",
    "y_train_age = user['age']\n",
    "y_train_gender = user['gender']\n",
    "# X_test = pd.concat([w2v_creative_id_mean[900000:],w2v_ad_id_mean[900000:],\\\n",
    "#                  w2v_product_id_mean[900000:],w2v_advertiser_id_mean[900000:],\\\n",
    "#                  w2v_industry_mean[900000:]],axis=1)\n",
    "fea_impor = 0\n",
    "k = 1\n",
    "pred_gender = 0\n",
    "y_train_pred = np.zeros((y_train_age.shape[0]))\n",
    "score_list = []\n",
    "for train_index,test_index in kf.split(X_train,y_train_gender):\n",
    "    print(f'fold_{k}*********************************************')\n",
    "    k+=1\n",
    "    X_train2 = X_train.iloc[train_index,:]\n",
    "    y_train2 = y_train_gender.iloc[train_index]\n",
    "    X_test2 = X_train.iloc[test_index,:]\n",
    "    y_test2 = y_train_gender.iloc[test_index]\n",
    "    clf = lgb.LGBMClassifier(n_estimators=10000, random_state=47,learning_rate=0.01,importance_type = 'gain',n_jobs = -1,metric='None',num_leaves=7)\n",
    "    def acc_score(y_true,y_pred):\n",
    "        return 'Accuracy', accuracy_score(y_true,y_pred.round()), True\n",
    "    clf.fit(X_train2,y_train2,eval_set = [(X_train2,y_train2),(X_test2,y_test2)],early_stopping_rounds=100,verbose=50\\\n",
    "            ,eval_metric=lambda y_true,y_pred:acc_score(y_true,y_pred))\n",
    "    temp = clf.predict_proba(X_test2)[:,0]\n",
    "    y_train_pred[test_index] = temp\n",
    "    score_list.append(accuracy_score(y_test2-1,1-temp.round()))\n",
    "    print(accuracy_score(y_test2-1,1-temp.round()))\n",
    "    fea_impor += clf.feature_importances_/kf.n_splits\n",
    "    pred_gender += clf.predict_proba(X_test)[:,0]/kf.n_splits\n",
    "    break\n",
    "print('mean',np.mean(score_list))"
   ]
  },
  {
   "cell_type": "code",
   "execution_count": 14,
   "metadata": {
    "ExecuteTime": {
     "end_time": "2020-07-08T15:31:46.427470Z",
     "start_time": "2020-07-08T15:27:15.181779Z"
    }
   },
   "outputs": [
    {
     "name": "stdout",
     "output_type": "stream",
     "text": [
      "(3000000, 3)\n",
      "fold_1*********************************************\n",
      "Training until validation scores don't improve for 100 rounds\n",
      "[50]\ttraining's Accuracy: 0.942151\tvalid_1's Accuracy: 0.942178\n",
      "[100]\ttraining's Accuracy: 0.949812\tvalid_1's Accuracy: 0.949758\n",
      "[150]\ttraining's Accuracy: 0.950272\tvalid_1's Accuracy: 0.950183\n",
      "[200]\ttraining's Accuracy: 0.950286\tvalid_1's Accuracy: 0.95019\n",
      "[250]\ttraining's Accuracy: 0.950257\tvalid_1's Accuracy: 0.950117\n",
      "Early stopping, best iteration is:\n",
      "[152]\ttraining's Accuracy: 0.950267\tvalid_1's Accuracy: 0.950222\n",
      "0.9502216666666666\n",
      "mean 0.9502216666666666\n"
     ]
    }
   ],
   "source": [
    "###第一列1 第二列2 13 15 18 22\n",
    "### age\n",
    "print(X_train.shape)\n",
    "kf = StratifiedKFold(n_splits=5,shuffle=True,random_state=1102)\n",
    "y_train_age = user['age']\n",
    "y_train_gender = user['gender']\n",
    "# X_test = pd.concat([w2v_creative_id_mean[900000:],w2v_ad_id_mean[900000:],\\\n",
    "#                  w2v_product_id_mean[900000:],w2v_advertiser_id_mean[900000:],\\\n",
    "#                  w2v_industry_mean[900000:]],axis=1)\n",
    "fea_impor = 0\n",
    "k = 1\n",
    "pred_gender = 0\n",
    "y_train_pred = np.zeros((y_train_age.shape[0]))\n",
    "score_list = []\n",
    "for train_index,test_index in kf.split(X_train,y_train_gender):\n",
    "    print(f'fold_{k}*********************************************')\n",
    "    k+=1\n",
    "    X_train2 = X_train.iloc[train_index,:]\n",
    "    y_train2 = y_train_gender.iloc[train_index]\n",
    "    X_test2 = X_train.iloc[test_index,:]\n",
    "    y_test2 = y_train_gender.iloc[test_index]\n",
    "    clf = lgb.LGBMClassifier(n_estimators=10000, random_state=47,learning_rate=0.01,importance_type = 'gain',n_jobs = -1,metric='None',num_leaves=3)\n",
    "    def acc_score(y_true,y_pred):\n",
    "        return 'Accuracy', accuracy_score(y_true,y_pred.round()), True\n",
    "    clf.fit(X_train2,y_train2,eval_set = [(X_train2,y_train2),(X_test2,y_test2)],early_stopping_rounds=100,verbose=50\\\n",
    "            ,eval_metric=lambda y_true,y_pred:acc_score(y_true,y_pred))\n",
    "    temp = clf.predict_proba(X_test2)[:,0]\n",
    "    y_train_pred[test_index] = temp\n",
    "    score_list.append(accuracy_score(y_test2-1,1-temp.round()))\n",
    "    print(accuracy_score(y_test2-1,1-temp.round()))\n",
    "    fea_impor += clf.feature_importances_/kf.n_splits\n",
    "    pred_gender += clf.predict_proba(X_test)[:,0]/kf.n_splits\n",
    "    break\n",
    "print('mean',np.mean(score_list))"
   ]
  },
  {
   "cell_type": "code",
   "execution_count": 136,
   "metadata": {
    "ExecuteTime": {
     "end_time": "2020-07-06T08:08:31.490383Z",
     "start_time": "2020-07-06T07:32:44.762095Z"
    }
   },
   "outputs": [
    {
     "name": "stdout",
     "output_type": "stream",
     "text": [
      "(3000000, 2)\n",
      "fold_1*********************************************\n",
      "Training until validation scores don't improve for 100 rounds\n",
      "[50]\ttraining's Accuracy: 0.942134\tvalid_1's Accuracy: 0.942097\n",
      "[100]\ttraining's Accuracy: 0.949013\tvalid_1's Accuracy: 0.948895\n",
      "[150]\ttraining's Accuracy: 0.949834\tvalid_1's Accuracy: 0.949767\n",
      "[200]\ttraining's Accuracy: 0.949936\tvalid_1's Accuracy: 0.949937\n",
      "[250]\ttraining's Accuracy: 0.95002\tvalid_1's Accuracy: 0.94999\n",
      "[300]\ttraining's Accuracy: 0.950029\tvalid_1's Accuracy: 0.950002\n",
      "[350]\ttraining's Accuracy: 0.950041\tvalid_1's Accuracy: 0.950003\n",
      "[400]\ttraining's Accuracy: 0.95004\tvalid_1's Accuracy: 0.950003\n",
      "Early stopping, best iteration is:\n",
      "[305]\ttraining's Accuracy: 0.950036\tvalid_1's Accuracy: 0.950005\n",
      "0.950005\n",
      "fold_2*********************************************\n",
      "Training until validation scores don't improve for 100 rounds\n",
      "[50]\ttraining's Accuracy: 0.942462\tvalid_1's Accuracy: 0.941525\n",
      "[100]\ttraining's Accuracy: 0.948991\tvalid_1's Accuracy: 0.948122\n",
      "[150]\ttraining's Accuracy: 0.94997\tvalid_1's Accuracy: 0.949185\n",
      "[200]\ttraining's Accuracy: 0.950076\tvalid_1's Accuracy: 0.949338\n",
      "[250]\ttraining's Accuracy: 0.950157\tvalid_1's Accuracy: 0.949432\n",
      "[300]\ttraining's Accuracy: 0.950163\tvalid_1's Accuracy: 0.949442\n",
      "[350]\ttraining's Accuracy: 0.950167\tvalid_1's Accuracy: 0.949447\n",
      "[400]\ttraining's Accuracy: 0.950168\tvalid_1's Accuracy: 0.949447\n",
      "Early stopping, best iteration is:\n",
      "[346]\ttraining's Accuracy: 0.950167\tvalid_1's Accuracy: 0.949447\n",
      "0.9494466666666667\n",
      "fold_3*********************************************\n",
      "Training until validation scores don't improve for 100 rounds\n",
      "[50]\ttraining's Accuracy: 0.942567\tvalid_1's Accuracy: 0.94283\n",
      "[100]\ttraining's Accuracy: 0.949043\tvalid_1's Accuracy: 0.94914\n",
      "[150]\ttraining's Accuracy: 0.94985\tvalid_1's Accuracy: 0.949908\n",
      "[200]\ttraining's Accuracy: 0.94995\tvalid_1's Accuracy: 0.950007\n",
      "[250]\ttraining's Accuracy: 0.950043\tvalid_1's Accuracy: 0.949972\n",
      "[300]\ttraining's Accuracy: 0.950051\tvalid_1's Accuracy: 0.949973\n",
      "Early stopping, best iteration is:\n",
      "[204]\ttraining's Accuracy: 0.949951\tvalid_1's Accuracy: 0.950008\n",
      "0.9500083333333333\n",
      "fold_4*********************************************\n",
      "Training until validation scores don't improve for 100 rounds\n",
      "[50]\ttraining's Accuracy: 0.941993\tvalid_1's Accuracy: 0.942693\n",
      "[100]\ttraining's Accuracy: 0.948876\tvalid_1's Accuracy: 0.949533\n",
      "[150]\ttraining's Accuracy: 0.949748\tvalid_1's Accuracy: 0.95021\n",
      "[200]\ttraining's Accuracy: 0.949852\tvalid_1's Accuracy: 0.950213\n",
      "[250]\ttraining's Accuracy: 0.949893\tvalid_1's Accuracy: 0.950298\n",
      "[300]\ttraining's Accuracy: 0.949921\tvalid_1's Accuracy: 0.950302\n",
      "[350]\ttraining's Accuracy: 0.949926\tvalid_1's Accuracy: 0.950302\n",
      "[400]\ttraining's Accuracy: 0.949931\tvalid_1's Accuracy: 0.950292\n",
      "[450]\ttraining's Accuracy: 0.949931\tvalid_1's Accuracy: 0.950293\n",
      "Early stopping, best iteration is:\n",
      "[386]\ttraining's Accuracy: 0.949937\tvalid_1's Accuracy: 0.950338\n",
      "0.9503383333333333\n",
      "fold_5*********************************************\n",
      "Training until validation scores don't improve for 100 rounds\n",
      "[50]\ttraining's Accuracy: 0.942275\tvalid_1's Accuracy: 0.942228\n",
      "[100]\ttraining's Accuracy: 0.948916\tvalid_1's Accuracy: 0.94897\n",
      "[150]\ttraining's Accuracy: 0.949756\tvalid_1's Accuracy: 0.949997\n",
      "[200]\ttraining's Accuracy: 0.949897\tvalid_1's Accuracy: 0.950203\n",
      "[250]\ttraining's Accuracy: 0.949912\tvalid_1's Accuracy: 0.950205\n",
      "[300]\ttraining's Accuracy: 0.94995\tvalid_1's Accuracy: 0.950227\n",
      "[350]\ttraining's Accuracy: 0.949938\tvalid_1's Accuracy: 0.950247\n",
      "[400]\ttraining's Accuracy: 0.949946\tvalid_1's Accuracy: 0.950242\n",
      "Early stopping, best iteration is:\n",
      "[343]\ttraining's Accuracy: 0.949938\tvalid_1's Accuracy: 0.950247\n",
      "0.9502466666666667\n",
      "mean 0.950009\n"
     ]
    }
   ],
   "source": [
    "###第一列1 第二列2 13 15 18 22\n",
    "### age\n",
    "print(X_train.shape)\n",
    "kf = StratifiedKFold(n_splits=5,shuffle=True,random_state=1102)\n",
    "y_train_age = user['age']\n",
    "y_train_gender = user['gender']\n",
    "# X_test = pd.concat([w2v_creative_id_mean[900000:],w2v_ad_id_mean[900000:],\\\n",
    "#                  w2v_product_id_mean[900000:],w2v_advertiser_id_mean[900000:],\\\n",
    "#                  w2v_industry_mean[900000:]],axis=1)\n",
    "fea_impor = 0\n",
    "k = 1\n",
    "pred_gender = 0\n",
    "y_train_pred = np.zeros((y_train_age.shape[0]))\n",
    "score_list = []\n",
    "for train_index,test_index in kf.split(X_train,y_train_gender):\n",
    "    print(f'fold_{k}*********************************************')\n",
    "    k+=1\n",
    "    X_train2 = X_train.iloc[train_index,:]\n",
    "    y_train2 = y_train_gender.iloc[train_index]\n",
    "    X_test2 = X_train.iloc[test_index,:]\n",
    "    y_test2 = y_train_gender.iloc[test_index]\n",
    "    clf = lgb.LGBMClassifier(n_estimators=10000, random_state=47,learning_rate=0.01,importance_type = 'gain',n_jobs = -1,metric='None',num_leaves=15)\n",
    "    def acc_score(y_true,y_pred):\n",
    "        return 'Accuracy', accuracy_score(y_true,y_pred.round()), True\n",
    "    clf.fit(X_train2,y_train2,eval_set = [(X_train2,y_train2),(X_test2,y_test2)],early_stopping_rounds=100,verbose=50\\\n",
    "            ,eval_metric=lambda y_true,y_pred:acc_score(y_true,y_pred))\n",
    "    temp = clf.predict_proba(X_test2)[:,0]\n",
    "    y_train_pred[test_index] = temp\n",
    "    score_list.append(accuracy_score(y_test2-1,1-temp.round()))\n",
    "    print(accuracy_score(y_test2-1,1-temp.round()))\n",
    "    fea_impor += clf.feature_importances_/kf.n_splits\n",
    "    pred_gender += clf.predict_proba(X_test)[:,0]/kf.n_splits\n",
    "print('mean',np.mean(score_list))"
   ]
  },
  {
   "cell_type": "code",
   "execution_count": 129,
   "metadata": {
    "ExecuteTime": {
     "end_time": "2020-07-06T07:31:10.896789Z",
     "start_time": "2020-07-06T07:31:10.641455Z"
    }
   },
   "outputs": [],
   "source": [
    "sub = pd.read_csv('stack_v1_v2_v4.csv')"
   ]
  },
  {
   "cell_type": "code",
   "execution_count": 142,
   "metadata": {
    "ExecuteTime": {
     "end_time": "2020-07-06T08:53:21.299523Z",
     "start_time": "2020-07-06T08:53:21.085098Z"
    }
   },
   "outputs": [
    {
     "data": {
      "text/plain": [
       "0.995426"
      ]
     },
     "execution_count": 142,
     "metadata": {},
     "output_type": "execute_result"
    }
   ],
   "source": [
    "accuracy_score(sub.predicted_gender,2-pred_gender.round())"
   ]
  },
  {
   "cell_type": "code",
   "execution_count": 143,
   "metadata": {
    "ExecuteTime": {
     "end_time": "2020-07-06T08:56:35.106732Z",
     "start_time": "2020-07-06T08:56:35.030873Z"
    }
   },
   "outputs": [],
   "source": [
    "sub.predicted_gender = 2-pred_gender.round()"
   ]
  },
  {
   "cell_type": "code",
   "execution_count": 144,
   "metadata": {
    "ExecuteTime": {
     "end_time": "2020-07-06T08:57:25.979938Z",
     "start_time": "2020-07-06T08:57:23.952318Z"
    }
   },
   "outputs": [],
   "source": [
    "sub.to_csv('stack_age_v1_v2_v4_gender_v1_v2.csv',index=False)"
   ]
  },
  {
   "cell_type": "markdown",
   "metadata": {},
   "source": [
    "### sub"
   ]
  },
  {
   "cell_type": "code",
   "execution_count": 31,
   "metadata": {
    "ExecuteTime": {
     "end_time": "2020-07-04T10:21:28.197238Z",
     "start_time": "2020-07-04T10:21:27.465961Z"
    }
   },
   "outputs": [],
   "source": [
    "sub = pd.read_csv('v1-list-version.csv')"
   ]
  },
  {
   "cell_type": "code",
   "execution_count": 32,
   "metadata": {
    "ExecuteTime": {
     "end_time": "2020-07-04T10:21:57.517045Z",
     "start_time": "2020-07-04T10:21:57.416291Z"
    }
   },
   "outputs": [],
   "source": [
    "age_pred = pd.read_pickle('stack_v1_v2_pred_skf1102.pkl').values"
   ]
  },
  {
   "cell_type": "code",
   "execution_count": 34,
   "metadata": {
    "ExecuteTime": {
     "end_time": "2020-07-04T10:22:06.750348Z",
     "start_time": "2020-07-04T10:22:06.702452Z"
    }
   },
   "outputs": [
    {
     "data": {
      "text/plain": [
       "array([3, 7, 2, ..., 2, 3, 4], dtype=int64)"
      ]
     },
     "execution_count": 34,
     "metadata": {},
     "output_type": "execute_result"
    }
   ],
   "source": [
    "age_pred.argmax(axis=1)+1"
   ]
  },
  {
   "cell_type": "code",
   "execution_count": 37,
   "metadata": {
    "ExecuteTime": {
     "end_time": "2020-07-04T10:22:57.832552Z",
     "start_time": "2020-07-04T10:22:57.780678Z"
    }
   },
   "outputs": [],
   "source": [
    "sub.predicted_age = age_pred.argmax(axis=1)+1"
   ]
  },
  {
   "cell_type": "code",
   "execution_count": 38,
   "metadata": {
    "ExecuteTime": {
     "end_time": "2020-07-04T10:23:18.516236Z",
     "start_time": "2020-07-04T10:23:16.454901Z"
    }
   },
   "outputs": [],
   "source": [
    "sub.to_csv('stack_v1_v2_age_v1_gender.csv',index=False)"
   ]
  },
  {
   "cell_type": "code",
   "execution_count": 45,
   "metadata": {
    "ExecuteTime": {
     "end_time": "2020-07-04T10:32:01.835733Z",
     "start_time": "2020-07-04T10:32:01.769907Z"
    }
   },
   "outputs": [
    {
     "data": {
      "text/plain": [
       "0.994365"
      ]
     },
     "execution_count": 45,
     "metadata": {},
     "output_type": "execute_result"
    }
   ],
   "source": [
    "accuracy_score(sub.predicted_age,d)"
   ]
  },
  {
   "cell_type": "code",
   "execution_count": null,
   "metadata": {},
   "outputs": [],
   "source": [
    "sub.predicted_age = d"
   ]
  },
  {
   "cell_type": "code",
   "execution_count": 46,
   "metadata": {
    "ExecuteTime": {
     "end_time": "2020-07-04T10:33:21.243419Z",
     "start_time": "2020-07-04T10:33:19.280389Z"
    }
   },
   "outputs": [],
   "source": [
    "sub.to_csv('stack_v1_v2_age_5times_v1_gender.csv',index=False)"
   ]
  },
  {
   "cell_type": "code",
   "execution_count": 58,
   "metadata": {
    "ExecuteTime": {
     "end_time": "2020-07-04T10:46:39.729245Z",
     "start_time": "2020-07-04T10:46:39.286086Z"
    }
   },
   "outputs": [],
   "source": [
    "sub1 = pd.read_csv('stack_v1_v2_age_v1_gender.csv')\n",
    "sub2 = pd.read_csv('stack_v1_v2_age_5times_v1_gender_bug.csv')"
   ]
  },
  {
   "cell_type": "code",
   "execution_count": 59,
   "metadata": {
    "ExecuteTime": {
     "end_time": "2020-07-04T10:46:42.572313Z",
     "start_time": "2020-07-04T10:46:42.502502Z"
    }
   },
   "outputs": [
    {
     "data": {
      "text/plain": [
       "0.994365"
      ]
     },
     "execution_count": 59,
     "metadata": {},
     "output_type": "execute_result"
    }
   ],
   "source": [
    "accuracy_score(sub1.predicted_age,sub2.predicted_age)"
   ]
  },
  {
   "cell_type": "code",
   "execution_count": 56,
   "metadata": {
    "ExecuteTime": {
     "end_time": "2020-07-04T10:45:22.549974Z",
     "start_time": "2020-07-04T10:45:22.483153Z"
    }
   },
   "outputs": [
    {
     "data": {
      "text/plain": [
       "0.994365"
      ]
     },
     "execution_count": 56,
     "metadata": {},
     "output_type": "execute_result"
    }
   ],
   "source": [
    "accuracy_score(sub1.predicted_age,d)"
   ]
  },
  {
   "cell_type": "code",
   "execution_count": 57,
   "metadata": {
    "ExecuteTime": {
     "end_time": "2020-07-04T10:46:32.502522Z",
     "start_time": "2020-07-04T10:46:30.516605Z"
    }
   },
   "outputs": [],
   "source": [
    "sub.predicted_age = d\n",
    "sub.to_csv('stack_v1_v2_age_5times_v1_gender_bug.csv',index=False)"
   ]
  },
  {
   "cell_type": "markdown",
   "metadata": {},
   "source": [
    "##### geli"
   ]
  },
  {
   "cell_type": "code",
   "execution_count": 24,
   "metadata": {
    "ExecuteTime": {
     "end_time": "2020-07-12T17:21:52.678567Z",
     "start_time": "2020-07-12T17:21:51.907627Z"
    }
   },
   "outputs": [],
   "source": [
    "oof = pd.read_pickle('5199_prob_oof.pkl').values\n",
    "pred = pd.read_pickle('5199_prob.pkl').values\n",
    "oof_argmax = oof.argmax(axis=1)+1"
   ]
  },
  {
   "cell_type": "code",
   "execution_count": 23,
   "metadata": {
    "ExecuteTime": {
     "end_time": "2020-07-12T17:21:31.006426Z",
     "start_time": "2020-07-12T17:21:30.879765Z"
    }
   },
   "outputs": [],
   "source": [
    "user = pd.read_pickle('stack/user.pkl')"
   ]
  },
  {
   "cell_type": "code",
   "execution_count": 25,
   "metadata": {
    "ExecuteTime": {
     "end_time": "2020-07-12T17:22:04.638594Z",
     "start_time": "2020-07-12T17:22:03.765928Z"
    }
   },
   "outputs": [
    {
     "name": "stdout",
     "output_type": "stream",
     "text": [
      "956273\n"
     ]
    },
    {
     "data": {
      "text/plain": [
       "0.3197381919179983"
      ]
     },
     "execution_count": 25,
     "metadata": {},
     "output_type": "execute_result"
    }
   ],
   "source": [
    "index = oof.max(axis=1)<=0.4\n",
    "print(np.sum(oof.max(axis=1)<=0.4))\n",
    "accuracy_score(user.age[index],oof_argmax[index])"
   ]
  },
  {
   "cell_type": "code",
   "execution_count": 37,
   "metadata": {
    "ExecuteTime": {
     "end_time": "2020-07-12T17:44:46.921417Z",
     "start_time": "2020-07-12T17:44:46.900473Z"
    }
   },
   "outputs": [],
   "source": [
    "class_num=10\n",
    "weights = [1.0]*class_num\n",
    "\n",
    "def search_weight(valid_y, raw_prob, init_weight=[1.0]*class_num, step=0.001):\n",
    "    weight = init_weight.copy()\n",
    "    f_best = accuracy_score(y_true=valid_y, y_pred=raw_prob.argmax(\n",
    "        axis=1))\n",
    "    print(f_best)\n",
    "    flag_score = 0\n",
    "    round_num = 1\n",
    "    while(flag_score != f_best):\n",
    "        print(\"round: \", round_num)\n",
    "        round_num += 1\n",
    "        flag_score = f_best\n",
    "        for c in range(class_num):\n",
    "            for n_w in range(0, 2000,10):\n",
    "                num = n_w * step\n",
    "                new_weight = weight.copy()\n",
    "                new_weight[c] = num\n",
    "\n",
    "                prob_df = raw_prob.copy()\n",
    "                prob_df = prob_df * np.array(new_weight)\n",
    "\n",
    "                f = accuracy_score(y_true=valid_y, y_pred=prob_df.argmax(\n",
    "                    axis=1))\n",
    "                if f > f_best:\n",
    "                    weight = new_weight.copy()\n",
    "                    f_best = f\n",
    "                    print(f)\n",
    "    print(weight)\n",
    "    return weight"
   ]
  },
  {
   "cell_type": "code",
   "execution_count": 48,
   "metadata": {
    "ExecuteTime": {
     "end_time": "2020-07-12T19:33:34.697227Z",
     "start_time": "2020-07-12T18:56:16.031848Z"
    }
   },
   "outputs": [
    {
     "name": "stdout",
     "output_type": "stream",
     "text": [
      "0.3197381919179983\n",
      "round:  1\n",
      "0.3197413290974439\n",
      "0.31976433508004515\n",
      "0.31976642653300885\n",
      "0.31981452995117504\n",
      "0.31981766713062065\n",
      "0.31983753593377623\n",
      "0.3198385816602581\n",
      "0.3198574047369318\n",
      "round:  2\n",
      "0.3198605419163774\n",
      "0.31992433123177166\n",
      "round:  3\n",
      "0.3199264226847354\n",
      "0.31993269704362665\n",
      "round:  4\n",
      "[0.89, 1.0, 0.98, 1.0, 1.0, 1.0, 1.0, 0.99, 0.99, 1.01]\n"
     ]
    }
   ],
   "source": [
    "e = search_weight(user.age[index]-1,oof[index,:],init_weight=[1.0]*class_num, step=0.001)"
   ]
  },
  {
   "cell_type": "code",
   "execution_count": 41,
   "metadata": {
    "ExecuteTime": {
     "end_time": "2020-07-12T18:27:57.029048Z",
     "start_time": "2020-07-12T18:26:03.398768Z"
    }
   },
   "outputs": [
    {
     "name": "stdout",
     "output_type": "stream",
     "text": [
      "0.7969539608963859\n",
      "round:  1\n",
      "0.7970004298377072\n",
      "0.7970236643083679\n",
      "0.7970933677203499\n",
      "0.7971514538970016\n",
      "0.7971746883676623\n",
      "0.7971863056029926\n",
      "0.7972095400736533\n",
      "0.797267626250305\n",
      "0.7972908607209657\n",
      "0.7973024779562959\n",
      "0.7973140951916263\n",
      "0.7973257124269566\n",
      "0.797337329662287\n",
      "round:  2\n",
      "0.7973489468976173\n",
      "round:  3\n",
      "[1.0, 1.04, 1.12, 1.48, 1.08, 1.0, 1.02, 1.03, 1.0, 1.0]\n"
     ]
    }
   ],
   "source": [
    "#print(accuracy_score(user.age[oof_argmax==1]-1,oof[oof_argmax==1,:].argmax(axis=1)))\n",
    "ee = search_weight(user.age[oof_argmax==1]-1,oof[oof_argmax==1,:],init_weight=[1.0]*class_num, step=0.001)"
   ]
  },
  {
   "cell_type": "code",
   "execution_count": 40,
   "metadata": {
    "ExecuteTime": {
     "end_time": "2020-07-12T18:26:03.386799Z",
     "start_time": "2020-07-12T18:17:55.745199Z"
    }
   },
   "outputs": [
    {
     "name": "stdout",
     "output_type": "stream",
     "text": [
      "0.6579662278825896\n",
      "round:  1\n",
      "0.6579701880276894\n",
      "0.6579741481727891\n",
      "0.6579781083178887\n",
      "0.6579800883904386\n",
      "0.6579820684629885\n",
      "0.6579840485355384\n",
      "0.657988008680638\n",
      "0.6579959289708375\n",
      "0.6579979090433874\n",
      "0.6580058293335868\n",
      "0.6580078094061367\n",
      "0.6580097894786865\n",
      "0.658017709768886\n",
      "0.6580196898414358\n",
      "0.6580236499865355\n",
      "0.6580256300590853\n",
      "0.6580276101316352\n",
      "0.658029590204185\n",
      "0.658031570276735\n",
      "0.6580335503492848\n",
      "0.6580355304218346\n",
      "0.6580394905669343\n",
      "0.6580414706394843\n",
      "round:  2\n",
      "[1.03, 1.0, 1.0, 1.12, 1.05, 1.07, 1.06, 1.1500000000000001, 1.19, 1.0]\n"
     ]
    }
   ],
   "source": [
    "\n",
    "ee = search_weight(user.age[oof_argmax==2]-1,oof[oof_argmax==2,:],init_weight=[1.0]*class_num, step=0.001)"
   ]
  },
  {
   "cell_type": "code",
   "execution_count": 39,
   "metadata": {
    "ExecuteTime": {
     "end_time": "2020-07-12T18:17:55.740212Z",
     "start_time": "2020-07-12T17:57:47.586805Z"
    }
   },
   "outputs": [
    {
     "name": "stdout",
     "output_type": "stream",
     "text": [
      "0.5277851368582641\n",
      "round:  1\n",
      "0.5277876128105773\n",
      "0.5277888507867339\n",
      "0.5277925647152036\n",
      "0.5277987545959865\n",
      "0.527799992572143\n",
      "0.5278012305482996\n",
      "0.5278049444767694\n",
      "0.527806182452926\n",
      "0.5278160862621786\n",
      "0.5278198001906483\n",
      "0.5278210381668049\n",
      "0.5278259900714313\n",
      "0.5278272280475877\n",
      "0.5278334179283707\n",
      "0.5278346559045273\n",
      "0.5278358938806839\n",
      "0.5278371318568404\n",
      "0.527838369832997\n",
      "0.5278408457853102\n",
      "0.527847035666093\n",
      "0.5278557014991891\n",
      "0.5278594154276589\n",
      "0.5278643673322851\n",
      "0.5278705572130681\n",
      "0.5278730331653813\n",
      "0.527876747093851\n",
      "0.5278829369746338\n",
      "0.527885412926947\n",
      "round:  2\n",
      "0.5278891268554168\n",
      "round:  3\n",
      "[1.1400000000000001, 1.0, 1.0, 1.0, 1.0, 1.01, 1.03, 1.17, 1.1400000000000001, 1.06]\n"
     ]
    }
   ],
   "source": [
    "ee = search_weight(user.age[oof_argmax==3]-1,oof[oof_argmax==3,:],init_weight=[1.0]*class_num, step=0.001)"
   ]
  },
  {
   "cell_type": "code",
   "execution_count": 38,
   "metadata": {
    "ExecuteTime": {
     "end_time": "2020-07-12T17:57:47.574838Z",
     "start_time": "2020-07-12T17:44:52.418725Z"
    }
   },
   "outputs": [
    {
     "name": "stdout",
     "output_type": "stream",
     "text": [
      "0.48852512464911374\n",
      "round:  1\n",
      "0.48852910069739885\n",
      "0.48853108872154144\n",
      "0.488533076745684\n",
      "0.48853506476982655\n",
      "0.48853705279396914\n",
      "0.48853904081811167\n",
      "0.48854102884225425\n",
      "0.48854301686639684\n",
      "0.48854500489053937\n",
      "0.48854699291468195\n",
      "0.48854898093882454\n",
      "0.48855096896296707\n",
      "0.48856090908367994\n",
      "0.48856488513196505\n",
      "0.48856886118025017\n",
      "0.48857681327682045\n",
      "0.48858277734924815\n",
      "0.4885847653733907\n",
      "0.48858675339753327\n",
      "0.48859271746996097\n",
      "0.4885966935182461\n",
      "0.48859868154238867\n",
      "0.4886026575906738\n",
      "0.48860464561481637\n",
      "round:  2\n",
      "0.4886066336389589\n",
      "0.4886125977113866\n",
      "round:  3\n",
      "[1.61, 1.24, 1.0, 1.0, 1.02, 1.0, 1.0, 1.22, 1.0, 1.0]\n"
     ]
    }
   ],
   "source": [
    "ee = search_weight(user.age[oof_argmax==4]-1,oof[oof_argmax==4,:],init_weight=[1.0]*class_num, step=0.001)"
   ]
  },
  {
   "cell_type": "code",
   "execution_count": 42,
   "metadata": {
    "ExecuteTime": {
     "end_time": "2020-07-12T18:38:05.967441Z",
     "start_time": "2020-07-12T18:27:57.038025Z"
    }
   },
   "outputs": [
    {
     "name": "stdout",
     "output_type": "stream",
     "text": [
      "0.4165679583844154\n",
      "round:  1\n",
      "0.416570550286794\n",
      "0.4165731421891726\n",
      "0.41657832599392974\n",
      "0.41658350979868697\n",
      "0.41661461262723\n",
      "0.4166508992605302\n",
      "0.416658674967666\n",
      "0.4168323324270315\n",
      "0.41683492432941005\n",
      "0.4168401081341672\n",
      "0.4168504757436816\n",
      "0.4168660271579531\n",
      "0.41687639476746746\n",
      "0.41688417047460324\n",
      "0.41688676237698186\n",
      "0.4168893542793604\n",
      "0.4168945380841176\n",
      "0.4168971299864962\n",
      "round:  2\n",
      "0.41689972188887475\n",
      "0.41690231379125336\n",
      "0.416904905693632\n",
      "round:  3\n",
      "[1.11, 1.11, 1.05, 1.01, 1.0, 1.0, 1.05, 1.1, 1.05, 1.02]\n"
     ]
    }
   ],
   "source": [
    "ee = search_weight(user.age[oof_argmax==5]-1,oof[oof_argmax==5,:],init_weight=[1.0]*class_num, step=0.001)"
   ]
  },
  {
   "cell_type": "code",
   "execution_count": 43,
   "metadata": {
    "ExecuteTime": {
     "end_time": "2020-07-12T18:44:16.448196Z",
     "start_time": "2020-07-12T18:38:05.971430Z"
    }
   },
   "outputs": [
    {
     "name": "stdout",
     "output_type": "stream",
     "text": [
      "0.4051723890760519\n",
      "round:  1\n",
      "0.40517812343201204\n",
      "0.40518099060999213\n",
      "0.40518672496595226\n",
      "0.4051953264998925\n",
      "0.4052010608558526\n",
      "0.40522113110171315\n",
      "0.4052584044154541\n",
      "0.40526127159343417\n",
      "0.4052670059493943\n",
      "0.40528134183929465\n",
      "0.40529281055121497\n",
      "0.4053014120851552\n",
      "0.4053042792631353\n",
      "0.4053300838649559\n",
      "0.4053415525768762\n",
      "0.4053444197548563\n",
      "0.40535015411081643\n",
      "0.40536162282273674\n",
      "0.40537022435667697\n",
      "0.4053759587126371\n",
      "round:  2\n",
      "[1.01, 1.1300000000000001, 1.03, 1.03, 1.0, 1.0, 1.0, 1.1300000000000001, 1.0, 1.04]\n"
     ]
    }
   ],
   "source": [
    "ee = search_weight(user.age[oof_argmax==6]-1,oof[oof_argmax==6,:],init_weight=[1.0]*class_num, step=0.001)"
   ]
  },
  {
   "cell_type": "code",
   "execution_count": 44,
   "metadata": {
    "ExecuteTime": {
     "end_time": "2020-07-12T18:50:35.355429Z",
     "start_time": "2020-07-12T18:44:16.454181Z"
    }
   },
   "outputs": [
    {
     "name": "stdout",
     "output_type": "stream",
     "text": [
      "0.47111449290399937\n",
      "round:  1\n",
      "0.4711202573236952\n",
      "0.4711260217433911\n",
      "0.471131786163087\n",
      "0.47113755058278284\n",
      "0.47114907942217454\n",
      "0.47115484384187045\n",
      "0.47117213710095807\n",
      "0.47121248803882915\n",
      "0.47126436781609193\n",
      "0.47127013223578784\n",
      "0.4712758966554837\n",
      "0.47128166107517955\n",
      "0.4712931899145713\n",
      "0.4713335408524424\n",
      "0.47133930527213824\n",
      "0.4713450696918341\n",
      "0.4713681273706176\n",
      "0.4713911850494011\n",
      "0.47139694946909694\n",
      "0.4714084783084887\n",
      "0.4714200071478804\n",
      "round:  2\n",
      "0.471437300406968\n",
      "round:  3\n",
      "0.4714430648266639\n",
      "round:  4\n",
      "[1.0, 1.07, 1.1, 1.09, 1.05, 1.0, 1.0, 1.0, 1.02, 1.04]\n"
     ]
    }
   ],
   "source": [
    "ee = search_weight(user.age[oof_argmax==7]-1,oof[oof_argmax==7,:],init_weight=[1.0]*class_num, step=0.001)"
   ]
  },
  {
   "cell_type": "code",
   "execution_count": 45,
   "metadata": {
    "ExecuteTime": {
     "end_time": "2020-07-12T18:52:42.781835Z",
     "start_time": "2020-07-12T18:50:35.360417Z"
    }
   },
   "outputs": [
    {
     "name": "stdout",
     "output_type": "stream",
     "text": [
      "0.49468037664207537\n",
      "round:  1\n",
      "0.4946931182549087\n",
      "0.49470585986774207\n",
      "0.4947186014805754\n",
      "0.49473134309340877\n",
      "0.4947440847062421\n",
      "0.49475682631907547\n",
      "0.4947695679319088\n",
      "0.49478230954474217\n",
      "0.49479505115757555\n",
      "0.49480779277040887\n",
      "0.49482053438324225\n",
      "0.49484601760890895\n",
      "0.4948587592217423\n",
      "0.49489698406024235\n",
      "0.49496069212440913\n",
      "0.49508810825274263\n",
      "0.4952027827682428\n",
      "0.4952919740580763\n",
      "0.49548309825057657\n",
      "0.4954958398634099\n",
      "round:  2\n",
      "0.49550858147624327\n",
      "0.49553406470190997\n",
      "0.49555954792757667\n",
      "round:  3\n",
      "[1.36, 1.22, 1.22, 1.0, 1.0, 1.01, 1.04, 1.0, 1.01, 1.12]\n"
     ]
    }
   ],
   "source": [
    "ee = search_weight(user.age[oof_argmax==8]-1,oof[oof_argmax==8,:],init_weight=[1.0]*class_num, step=0.001)"
   ]
  },
  {
   "cell_type": "code",
   "execution_count": 46,
   "metadata": {
    "ExecuteTime": {
     "end_time": "2020-07-12T18:54:35.444703Z",
     "start_time": "2020-07-12T18:52:42.787820Z"
    }
   },
   "outputs": [
    {
     "name": "stdout",
     "output_type": "stream",
     "text": [
      "0.5009802331923173\n",
      "round:  1\n",
      "0.500994973541074\n",
      "0.5010097138898306\n",
      "0.5010391945873439\n",
      "0.5010686752848572\n",
      "0.5010834156336139\n",
      "0.5010981559823705\n",
      "0.5011718577261538\n",
      "0.5012455594699371\n",
      "0.5013634822599903\n",
      "0.5014371840037736\n",
      "round:  2\n",
      "0.5014519243525302\n",
      "0.5014666647012869\n",
      "0.5014814050500435\n",
      "round:  3\n",
      "[1.56, 1.3900000000000001, 1.0, 1.03, 1.09, 1.01, 1.01, 1.0, 1.0, 1.07]\n"
     ]
    }
   ],
   "source": [
    "ee = search_weight(user.age[oof_argmax==9]-1,oof[oof_argmax==9,:],init_weight=[1.0]*class_num, step=0.001)"
   ]
  },
  {
   "cell_type": "code",
   "execution_count": 47,
   "metadata": {
    "ExecuteTime": {
     "end_time": "2020-07-12T18:56:16.025864Z",
     "start_time": "2020-07-12T18:54:35.449690Z"
    }
   },
   "outputs": [
    {
     "name": "stdout",
     "output_type": "stream",
     "text": [
      "0.6222862763937501\n",
      "round:  1\n",
      "0.6223091528835816\n",
      "0.6223320293734129\n",
      "0.6223549058632444\n",
      "0.6223777823530757\n",
      "0.6224006588429072\n",
      "0.62244641182257\n",
      "0.6225379177818956\n",
      "0.622560794271727\n",
      "0.6225836707615583\n",
      "0.6226065472513898\n",
      "0.6226294237412211\n",
      "0.6226751767208839\n",
      "round:  2\n",
      "0.6226980532107154\n",
      "round:  3\n",
      "0.6227209297005467\n",
      "round:  4\n",
      "[1.72, 1.41, 1.1400000000000001, 1.12, 1.0, 1.05, 1.0, 1.0, 1.0, 1.0]\n"
     ]
    }
   ],
   "source": [
    "ee = search_weight(user.age[oof_argmax==10]-1,oof[oof_argmax==10,:],init_weight=[1.0]*class_num, step=0.001)"
   ]
  },
  {
   "cell_type": "code",
   "execution_count": null,
   "metadata": {},
   "outputs": [],
   "source": []
  },
  {
   "cell_type": "code",
   "execution_count": null,
   "metadata": {},
   "outputs": [],
   "source": []
  }
 ],
 "metadata": {
  "kernelspec": {
   "display_name": "Python 3",
   "language": "python",
   "name": "python3"
  },
  "language_info": {
   "codemirror_mode": {
    "name": "ipython",
    "version": 3
   },
   "file_extension": ".py",
   "mimetype": "text/x-python",
   "name": "python",
   "nbconvert_exporter": "python",
   "pygments_lexer": "ipython3",
   "version": "3.7.2"
  },
  "toc": {
   "base_numbering": 1,
   "nav_menu": {},
   "number_sections": true,
   "sideBar": true,
   "skip_h1_title": false,
   "title_cell": "Table of Contents",
   "title_sidebar": "Contents",
   "toc_cell": false,
   "toc_position": {
    "height": "calc(100% - 180px)",
    "left": "10px",
    "top": "150px",
    "width": "307.2px"
   },
   "toc_section_display": true,
   "toc_window_display": true
  }
 },
 "nbformat": 4,
 "nbformat_minor": 2
}
