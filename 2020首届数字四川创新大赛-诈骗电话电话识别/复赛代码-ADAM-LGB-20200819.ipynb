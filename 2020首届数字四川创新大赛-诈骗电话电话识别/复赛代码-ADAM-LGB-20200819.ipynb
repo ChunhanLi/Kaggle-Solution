{
 "cells": [
  {
   "cell_type": "code",
   "execution_count": 1,
   "metadata": {
    "ExecuteTime": {
     "end_time": "2020-08-25T03:37:01.443268Z",
     "start_time": "2020-08-25T03:37:00.052747Z"
    }
   },
   "outputs": [],
   "source": [
    "import numpy as np\n",
    "import pandas as pd\n",
    "import seaborn as sns\n",
    "import matplotlib.pyplot as plt \n",
    "from sklearn import preprocessing\n",
    "from sklearn.preprocessing import LabelEncoder\n",
    "import catboost as cb\n",
    "import lightgbm as lgb\n",
    "from sklearn.ensemble import RandomForestClassifier\n",
    "from sklearn.model_selection import GridSearchCV, ShuffleSplit,StratifiedKFold,TimeSeriesSplit,KFold,GroupKFold,train_test_split,GroupShuffleSplit,StratifiedShuffleSplit\n",
    "from sklearn.metrics import roc_auc_score,mean_squared_error,mean_absolute_error,log_loss,confusion_matrix,accuracy_score,f1_score\n",
    "#import sqlite3\n",
    "#import xgboost as xgb\n",
    "import datetime\n",
    "from sklearn.linear_model import LogisticRegression\n",
    "from scipy.stats import pearsonr\n",
    "import gc\n",
    "from sklearn.model_selection import TimeSeriesSplit\n",
    "#from bayes_opt import BayesianOptimization\n",
    "#import tqdm\n",
    "#from tqdm.notebook import tqdm\n",
    "#from gensim.models import Word2Vec"
   ]
  },
  {
   "cell_type": "code",
   "execution_count": 2,
   "metadata": {
    "ExecuteTime": {
     "end_time": "2020-08-25T03:37:01.454998Z",
     "start_time": "2020-08-25T03:37:01.447018Z"
    }
   },
   "outputs": [
    {
     "data": {
      "text/plain": [
       "'1.0.5'"
      ]
     },
     "execution_count": 2,
     "metadata": {},
     "output_type": "execute_result"
    }
   ],
   "source": [
    "pd.__version__"
   ]
  },
  {
   "cell_type": "code",
   "execution_count": 3,
   "metadata": {
    "ExecuteTime": {
     "end_time": "2020-08-25T03:37:01.465968Z",
     "start_time": "2020-08-25T03:37:01.458985Z"
    }
   },
   "outputs": [],
   "source": [
    "# from sklearn.externals import joblib"
   ]
  },
  {
   "cell_type": "code",
   "execution_count": 4,
   "metadata": {
    "ExecuteTime": {
     "end_time": "2020-08-25T03:37:45.140408Z",
     "start_time": "2020-08-25T03:37:01.472948Z"
    }
   },
   "outputs": [
    {
     "name": "stderr",
     "output_type": "stream",
     "text": [
      "E:\\software\\ANACONDA3\\lib\\site-packages\\IPython\\core\\interactiveshell.py:3020: DtypeWarning: Columns (5,6) have mixed types.Specify dtype option on import or set low_memory=False.\n",
      "  interactivity=interactivity, compiler=compiler, result=result)\n"
     ]
    }
   ],
   "source": [
    "####读取数据\n",
    "train_app = pd.read_csv('data/raw_data_chusai/train/train_app.csv')\n",
    "train_sms = pd.read_csv('data/raw_data_chusai/train/train_sms.csv')\n",
    "train_user = pd.read_csv('data/raw_data_chusai/train/train_user.csv')\n",
    "train_voc = pd.read_csv('data/raw_data_chusai/train/train_voc.csv')\n",
    "test_app = pd.read_csv('data/raw_data_fusai/test/test_app.csv')\n",
    "test_sms = pd.read_csv('data/raw_data_fusai/test/test_sms.csv')\n",
    "test_user = pd.read_csv('data/raw_data_fusai/test/test_user.csv')\n",
    "test_voc = pd.read_csv('data/raw_data_fusai/test/test_voc.csv')\n",
    "test_app_chusai = pd.read_csv('data/raw_data_chusai/test/test_app.csv')\n",
    "test_sms_chusai = pd.read_csv('data/raw_data_chusai/test/test_sms.csv')\n",
    "####该文件为加上label的四月份数据 生成方式如下备注\n",
    "#### type为标注的A/B榜\n",
    "# test_chusai_label1 = pd.read_csv('../raw_data_fusai/62fb766a-01dd-4294-8bf3-8d93cd03e034.csv')\n",
    "# test_chusai_label2 = pd.read_csv('../raw_data_fusai/533cc139-1a4c-4cfb-bbac-a0336e0140e4.csv')\n",
    "# test_chusai_label = test_chusai_label1.append(test_chusai_label2,ignore_index=True)\n",
    "# test_user_chusai_label = test_user_chusai.merge(test_chusai_label,how='left',on='phone_no_m')\n",
    "# test_user_chusai_label['type'] = 'B'\n",
    "# test_user_chusai_label.loc[test_user_chusai_label.phone_no_m.isin(test_chusai_label1.phone_no_m),'type'] = 'A'\n",
    "# test_user_chusai_label.to_pickle('../raw_data_chusai/test/test_user_with_label.pkl')\n",
    "test_user_chusai = pd.read_pickle('data/raw_data_chusai/test/test_user_with_label.pkl')\n",
    "test_voc_chusai = pd.read_csv('data/raw_data_chusai/test/test_voc.csv')\n",
    "test_user = test_user.replace('\\\\N',np.nan)\n",
    "test_user.arpu_202005 = test_user.arpu_202005.astype(np.float32)"
   ]
  },
  {
   "cell_type": "code",
   "execution_count": 5,
   "metadata": {
    "ExecuteTime": {
     "end_time": "2020-08-25T03:37:45.183333Z",
     "start_time": "2020-08-25T03:37:45.144175Z"
    }
   },
   "outputs": [],
   "source": [
    "def get_voc_feats(train_voc):\n",
    "    \"\"\"\n",
    "    构建通话记录voc表的特征\n",
    "    \"\"\"\n",
    "    combine_list = []\n",
    "    ### voc表时间转换\n",
    "    train_voc['start_datetime'] = pd.to_datetime(train_voc['start_datetime'])\n",
    "    train_voc['weekday'] = train_voc.start_datetime.dt.weekday\n",
    "    train_voc['hour'] = train_voc.start_datetime.dt.hour\n",
    "    train_voc['minute'] = train_voc.start_datetime.dt.minute\n",
    "    train_voc['second'] = train_voc.start_datetime.dt.second\n",
    "    train_voc['date'] = train_voc.start_datetime.dt.date\n",
    "    ### 给多少人打过电话/打过多少个电话\n",
    "    num_pep_voc_train = train_voc.groupby(['phone_no_m'])['opposite_no_m'].agg(num_call_voc = 'count',num_pep_voc = 'nunique').reset_index()\n",
    "    combine_list.append(num_pep_voc_train)\n",
    "    #### 打电话的人里面次数最大小次/平均\n",
    "    tmp_train = train_voc.groupby(['phone_no_m','opposite_no_m'],as_index=False)['calltype_id'].count()\n",
    "    num_mean_max_min_for_one_pep_train = \\\n",
    "        tmp_train.groupby(['phone_no_m'])['calltype_id'].agg(num_call_for_1pep_mean = 'mean',\n",
    "                                                                            num_call_for_1pep_min = 'min',\n",
    "                                                                            num_call_for_1pep_max = 'max').reset_index()\n",
    "    combine_list.append(num_mean_max_min_for_one_pep_train)\n",
    "    #### 一个手机登录了几个IMEI\n",
    "    num_imei_train = train_voc.groupby(['phone_no_m'],as_index=True)['imei_m'].agg(num_imei_voc = 'nunique').reset_index()\n",
    "    combine_list.append(num_imei_train)\n",
    "    \n",
    "    #### calltype_id count ratio/数量差/比例差\n",
    "    tmp_phone_call_id = train_voc.groupby(['phone_no_m','calltype_id']).size().reset_index()\n",
    "    tmp_phone_call_id.columns = ['phone_no_m','calltype_id','num_call_per_calltype']\n",
    "    ## 每个用户的通话总数\n",
    "    \n",
    "    tmp_phone = train_voc.groupby(['phone_no_m']).size().reset_index()\n",
    "    tmp_phone.columns = ['phone_no_m','number_call']\n",
    "    \n",
    "    tmp_phone_call_id = tmp_phone_call_id.merge(tmp_phone,how='left',on='phone_no_m')\n",
    "    \n",
    "    tmp_phone_call_id['ratio_call_per_calltype'] = tmp_phone_call_id.num_call_per_calltype/tmp_phone_call_id.number_call\n",
    "    tmp_all = pd.pivot(tmp_phone_call_id[['phone_no_m','calltype_id','num_call_per_calltype','ratio_call_per_calltype']],index='phone_no_m',columns='calltype_id').fillna(0)\n",
    "    tmp_list = []\n",
    "    for a,b in tmp_all.columns:\n",
    "        tmp_list.append(str(a)+'_'+str(b))\n",
    "    tmp_all.columns = tmp_list\n",
    "    tmp_all = tmp_all.reset_index()\n",
    "    tmp_all['diff_num_calls_1_2'] = tmp_all['num_call_per_calltype_1'] - tmp_all['num_call_per_calltype_2']\n",
    "    tmp_all['diff_ratio_calls_1_2'] = tmp_all['ratio_call_per_calltype_1'] - tmp_all['ratio_call_per_calltype_2']\n",
    "    combine_list.append(tmp_all)\n",
    "    ####增加电话时长的一些统计信息\n",
    "    call_dur = train_voc.groupby('phone_no_m')['call_dur'].agg(\n",
    "                                                                call_dur_mean = 'mean',\n",
    "                                                                call_dur_quantile25 = lambda x:np.quantile(x,0.25),\n",
    "                                                                call_dur_quantile75 = lambda x:np.quantile(x,0.75),\n",
    "                                                                call_dur_median = 'median',\n",
    "                                                                call_dur_max = 'max',\n",
    "                                                                call_dur_min = 'min',\n",
    "                                                                call_dur_skew = lambda x:x.skew(),\n",
    "                                                                call_dur_kurt = lambda x:x.kurt(),\n",
    "                                                                call_dur_std = 'std'\n",
    "                                                                            ).reset_index()\n",
    "    combine_list.append(call_dur)\n",
    "    #### calltype_id打电话时长均值的差/比例的差\n",
    "\n",
    "    tmp2 = train_voc.groupby(['phone_no_m','calltype_id'],as_index=False)['call_dur'].mean()\n",
    "    tmp3 = pd.pivot(tmp2,index='phone_no_m',columns='calltype_id').fillna(0)\n",
    "    col_list = []\n",
    "    for a,b in tmp3.columns:\n",
    "        col_list.append(str(a)+'_'+str(b))\n",
    "    tmp3.columns=col_list\n",
    "    tmp3['diff_mean_dur_1_2'] = tmp3['call_dur_1'] - tmp3['call_dur_2']\n",
    "    tmp3['ratio_mean_dur_1_2'] = tmp3['call_dur_1'] / tmp3['call_dur_2']\n",
    "    diff_ratio_call_dur =tmp3[['diff_mean_dur_1_2','ratio_mean_dur_1_2']].reset_index()\n",
    "    combine_list.append(diff_ratio_call_dur)\n",
    "    \n",
    "    \n",
    "    #### city is null ratio \n",
    "\n",
    "    train_voc['is_na_city_raio'] = train_voc.city_name.isna()+0\n",
    "    tmp_is_null_ratio = train_voc.groupby(['phone_no_m'])['is_na_city_raio'].mean().reset_index()\n",
    "    combine_list.append(tmp_is_null_ratio)\n",
    "    ### 每天打电话次数的均值/方差/方差均值之比/有打电话的天数\n",
    "\n",
    "    tmp_call_day = train_voc.groupby(['phone_no_m','date'],as_index=False)['opposite_no_m'].count()\n",
    "    tmp_1 = tmp_call_day.groupby(['phone_no_m'])['opposite_no_m'].agg(mean_call_per_day='mean',std_call_per_day='std',max_call_per_day = 'max').reset_index()\n",
    "    #tmp_1['std_mean_ratio_call_per_day'] = tmp_1['std_call_per_day']/tmp_1['mean_call_per_day']\n",
    "    tmp_2 = tmp_call_day.groupby(['phone_no_m'])['date'].agg(voc_nunique_day='nunique').reset_index()\n",
    "    combine_list.append(tmp_1)\n",
    "    combine_list.append(tmp_2)\n",
    "\n",
    "    ### add voc hour_min_max/std/mean 每天打电话时间的最早小时和最晚小时的方差和均值 众数小时的方差和均值\n",
    "\n",
    "    tmp_min = train_voc.groupby(['phone_no_m','date'],as_index=False)['hour'].min()\n",
    "    tmp_min_std = tmp_min.groupby(['phone_no_m'])['hour'].agg(voc_hour_min_std='std').reset_index()\n",
    "\n",
    "    tmp_max = train_voc.groupby(['phone_no_m','date'],as_index=False)['hour'].max()\n",
    "    tmp_max_std = tmp_max.groupby(['phone_no_m'])['hour'].agg(voc_hour_max_std='std').reset_index()\n",
    "\n",
    "    tmp_min = train_voc.groupby(['phone_no_m','date'],as_index=False)['hour'].min()\n",
    "    tmp_min_mean = tmp_min.groupby(['phone_no_m'])['hour'].agg(voc_hour_min_mean='mean').reset_index()\n",
    "\n",
    "    tmp_max = train_voc.groupby(['phone_no_m','date'],as_index=False)['hour'].max()\n",
    "    tmp_max_mean = tmp_max.groupby(['phone_no_m'])['hour'].agg(voc_hour_max_mean='mean').reset_index()\n",
    "    \n",
    "    tmp_mode = train_voc.groupby(['phone_no_m','date'],as_index=False)['hour'].agg(lambda x:x.mode()[0])\n",
    "    tmp_mode_std = tmp_mode.groupby(['phone_no_m'])['hour'].agg(voc_hour_mode_std='std').reset_index()\n",
    "    \n",
    "    tmp_mode = train_voc.groupby(['phone_no_m','date'],as_index=False)['hour'].agg(lambda x:x.mode()[0])\n",
    "    tmp_mode_mean = tmp_mode.groupby(['phone_no_m'])['hour'].agg(voc_hour_mode_mean='mean').reset_index()\n",
    "    \n",
    "    combine_list.append(tmp_min_std)\n",
    "    combine_list.append(tmp_max_std)\n",
    "    combine_list.append(tmp_min_mean)\n",
    "    combine_list.append(tmp_max_mean)\n",
    "    \n",
    "    combine_list.append(tmp_mode_std)\n",
    "    combine_list.append(tmp_mode_mean)\n",
    "    \n",
    "    #### add hour 比例分布\n",
    "    hour_tmp1 = train_voc.groupby(['phone_no_m','hour'],as_index=False)['opposite_no_m'].count()\n",
    "    hour_tmp2 = hour_tmp1.groupby(['phone_no_m'])['opposite_no_m'].transform('sum')\n",
    "    hour_tmp1['opposite_no_m'] = hour_tmp1['opposite_no_m']/hour_tmp2\n",
    "    hour_tmp1.columns = ['phone_no_m','hour','call_ratio']\n",
    "    tmp_a = pd.pivot(hour_tmp1,index='phone_no_m',columns='hour')\n",
    "    assert tmp_a.shape[1]==24\n",
    "    tmp_a = tmp_a.fillna(0)\n",
    "    list1 = []\n",
    "    for name1,name2 in tmp_a:\n",
    "        list1.append(str(name1)+'_hour_'+str(name2))\n",
    "    tmp_a.columns = list1\n",
    "    tmp_a = tmp_a.reset_index()\n",
    "    combine_list.append(tmp_a)\n",
    "    \n",
    "    ### 打电话所在地情况\n",
    "    def transform_list(series):\n",
    "        tmp = series.value_counts()\n",
    "        max_val = tmp.max()\n",
    "        return sorted(list(tmp[tmp==max_val].index))[0]\n",
    "    \n",
    "    tmp = train_voc[['phone_no_m','city_name']]\n",
    "    tmp['city_name'] = tmp['city_name'].astype(str)\n",
    "    tmp_1 = tmp.groupby(['phone_no_m'])['city_name'].agg(lambda x:transform_list(x)).reset_index()\n",
    "    tmp_1.columns = ['phone_no_m','city_name_call_mode']\n",
    "    combine_list.append(tmp_1)\n",
    "    \n",
    "    return combine_list"
   ]
  },
  {
   "cell_type": "code",
   "execution_count": 6,
   "metadata": {
    "ExecuteTime": {
     "end_time": "2020-08-25T03:37:45.199028Z",
     "start_time": "2020-08-25T03:37:45.186064Z"
    }
   },
   "outputs": [],
   "source": [
    "def get_sms_feats(train_sms):\n",
    "    \"\"\"\n",
    "    构建短信记录sms表的特征\n",
    "    \"\"\"\n",
    "    ### 结合各部分特征\n",
    "    combine_list = []\n",
    "    ### 转换时间\n",
    "    train_sms['request_datetime'] = pd.to_datetime(train_sms['request_datetime'])\n",
    "    train_sms['weekday'] = train_sms.request_datetime.dt.weekday\n",
    "    train_sms['hour'] = train_sms.request_datetime.dt.hour\n",
    "    train_sms['minute'] = train_sms.request_datetime.dt.minute\n",
    "    train_sms['second'] = train_sms.request_datetime.dt.second\n",
    "    train_sms['date'] = train_sms.request_datetime.dt.date\n",
    "    #### 短信 calltype count ratio、收发短信数量/比例差\n",
    "    temp = train_sms.groupby(['phone_no_m']).size().reset_index()\n",
    "    temp = temp.rename({0:'count_sms'},axis = 1)\n",
    "    #计算各个用户不同calltype下短信数量\n",
    "    temp_id = train_sms.groupby(['phone_no_m','calltype_id']).size().reset_index()\n",
    "    temp_id = temp_id.rename({0:'count_calltype_sms'},axis = 1)\n",
    "    #合并\n",
    "    temp2 = temp.merge(temp_id,how ='left',on ='phone_no_m')\n",
    "    #计算各个用户下不同calltype短信数量 占 总短信数量比例\n",
    "    temp2['ratio_sms_per_calltype'] = temp2['count_calltype_sms']/temp2['count_sms']\n",
    "    #重组\n",
    "    temp_all = pd.pivot(temp2[['phone_no_m','calltype_id','count_calltype_sms','ratio_sms_per_calltype']], index = 'phone_no_m', columns='calltype_id').fillna(0)\n",
    "    col_name = [col[0] + '_'+ str(col[1]) for col in temp_all.columns]\n",
    "    temp_all.columns = col_name\n",
    "    #计算不同calltype下短信数量差值\n",
    "    temp_all['diff_count_sms_1_2'] = temp_all['count_calltype_sms_1'] - temp_all['count_calltype_sms_2']\n",
    "    #计算不同calltype下短信比例差值\n",
    "    temp_all['diff_ratio_sms_1_2'] = temp_all['ratio_sms_per_calltype_1'] - temp_all['ratio_sms_per_calltype_2']\n",
    "    temp_all = temp_all.reset_index()\n",
    "    combine_list.append(temp_all)\n",
    "    ### 短信 给多少个人短信/多少条/平均\n",
    "    num_pep_sms_train = train_sms.groupby(['phone_no_m'])['opposite_no_m'].agg(num_txt_sms = 'count',num_pep_sms='nunique').reset_index()\n",
    "    combine_list.append(num_pep_sms_train)\n",
    "    #### 短信的人里面次数最大小次/平均\n",
    "    tmp_train = train_sms.groupby(['phone_no_m','opposite_no_m'],as_index=False)['calltype_id'].count()\n",
    "    num_mean_max_min_for_one_pep_sms_train = tmp_train.groupby(['phone_no_m'],as_index=False)['calltype_id'].agg(['mean','min','max']).add_prefix('num_txt_for_1pep_').reset_index()\n",
    "    combine_list.append(num_mean_max_min_for_one_pep_sms_train)\n",
    "\n",
    "    return combine_list"
   ]
  },
  {
   "cell_type": "code",
   "execution_count": 7,
   "metadata": {
    "ExecuteTime": {
     "end_time": "2020-08-25T03:37:45.211034Z",
     "start_time": "2020-08-25T03:37:45.205019Z"
    }
   },
   "outputs": [],
   "source": [
    "def get_app_feats(train_app):\n",
    "    \"\"\"\n",
    "    构建app记录app表的特征\n",
    "    \"\"\"\n",
    "    combine_list = []\n",
    "    #### app 登录过多少个APP/用过的总流量\n",
    "    nunique_app_train = train_app.groupby(['phone_no_m'])['busi_name'].agg(num_app='nunique',num_app_log = 'count').reset_index()\n",
    "    combine_list.append(nunique_app_train)\n",
    "    sum_flow_train = train_app.groupby(['phone_no_m'])['flow'].agg(sum_flow = 'sum').reset_index()\n",
    "    combine_list.append(sum_flow_train)\n",
    "    return combine_list"
   ]
  },
  {
   "cell_type": "code",
   "execution_count": 8,
   "metadata": {
    "ExecuteTime": {
     "end_time": "2020-08-25T03:37:45.224969Z",
     "start_time": "2020-08-25T03:37:45.216981Z"
    }
   },
   "outputs": [],
   "source": [
    "def fe_train_month(train_user,train_voc,train_sms,train_app,month,year):\n",
    "    \"\"\"\n",
    "    对各月数据进行各部分特征进行组合\n",
    "    \"\"\"\n",
    "    if 'type' in train_user.columns:\n",
    "        keep_list = ['phone_no_m','city_name','county_name','idcard_cnt',f'arpu_{str(year)+str(month)}','label','type']\n",
    "    elif 'label' in train_user.columns:\n",
    "        keep_list = ['phone_no_m','city_name','county_name','idcard_cnt',f'arpu_{str(year)+str(month)}','label']\n",
    "    else:\n",
    "        keep_list = ['phone_no_m','city_name','county_name','idcard_cnt',f'arpu_{str(year)+str(month)}']\n",
    "    train_user = train_user[keep_list].copy()\n",
    "    train_user.rename({f'arpu_{str(year)+str(month)}':'last_month_amt'},axis=1,inplace=True)\n",
    "\n",
    "    \n",
    "    combine_list_train = []\n",
    "    \n",
    "    combine_list_train.extend(get_voc_feats(train_voc))\n",
    "    combine_list_train.extend(get_sms_feats(train_sms))\n",
    "    combine_list_train.extend(get_app_feats(train_app))\n",
    "    \n",
    "    for _ in combine_list_train:\n",
    "        train_user = train_user.merge(_,how='left',on='phone_no_m')\n",
    "    train_user['month'] = f'{year}-{month}'\n",
    "    return train_user"
   ]
  },
  {
   "cell_type": "code",
   "execution_count": 9,
   "metadata": {
    "ExecuteTime": {
     "end_time": "2020-08-25T03:37:58.936535Z",
     "start_time": "2020-08-25T03:37:45.226963Z"
    }
   },
   "outputs": [],
   "source": [
    "#### 将app中null app标记为unknown 方便区别未使用app和 未知的app\n",
    "train_app = train_app[~((train_app.busi_name.isna())&(train_app.month_id.isna()))]\n",
    "test_app = test_app[~((test_app.busi_name.isna())&(test_app.month_id.isna()))]\n",
    "test_app_chusai = test_app_chusai[~((test_app_chusai.busi_name.isna())&(test_app_chusai.month_id.isna()))]\n",
    "train_app.loc[(train_app.busi_name.isna())&(~train_app.month_id.isna()),'busi_name'] = 'unknown'\n",
    "test_app.loc[(test_app.busi_name.isna())&(~test_app.month_id.isna()),'busi_name'] = 'unknown'\n",
    "test_app_chusai.loc[(test_app_chusai.busi_name.isna())&(~test_app_chusai.month_id.isna()),'busi_name'] = 'unknown'\n",
    "#### 区分各月数据\n",
    "train_voc_201908 = train_voc[(train_voc.start_datetime>='2019-08-01 00:00:00')&(train_voc.start_datetime<'2019-09-01 00:00:00')].copy()\n",
    "train_voc_201909 = train_voc[(train_voc.start_datetime>='2019-09-01 00:00:00')&(train_voc.start_datetime<'2019-10-01 00:00:00')].copy()\n",
    "train_voc_201910 = train_voc[(train_voc.start_datetime>='2019-10-01 00:00:00')&(train_voc.start_datetime<'2019-11-01 00:00:00')].copy()\n",
    "train_voc_201911 = train_voc[(train_voc.start_datetime>='2019-11-01 00:00:00')&(train_voc.start_datetime<'2019-12-01 00:00:00')].copy()\n",
    "train_voc_201912 = train_voc[(train_voc.start_datetime>='2019-12-01 00:00:00')&(train_voc.start_datetime<'2020-01-01 00:00:00')].copy()\n",
    "train_voc_202001 = train_voc[(train_voc.start_datetime>='2020-01-01 00:00:00')&(train_voc.start_datetime<'2020-02-01 00:00:00')].copy()\n",
    "train_voc_202002 = train_voc[(train_voc.start_datetime>='2020-02-01 00:00:00')&(train_voc.start_datetime<'2020-03-01 00:00:00')].copy()\n",
    "train_voc_202003 = train_voc[(train_voc.start_datetime>='2020-03-01 00:00:00')&(train_voc.start_datetime<'2020-04-01 00:00:00')].copy()\n",
    "train_sms_201908 = train_sms[(train_sms.request_datetime>='2019-08-01 00:00:00')&(train_sms.request_datetime<'2019-09-01 00:00:00')].copy()\n",
    "train_sms_201909 = train_sms[(train_sms.request_datetime>='2019-09-01 00:00:00')&(train_sms.request_datetime<'2019-10-01 00:00:00')].copy()\n",
    "train_sms_201910 = train_sms[(train_sms.request_datetime>='2019-10-01 00:00:00')&(train_sms.request_datetime<'2019-11-01 00:00:00')].copy()\n",
    "train_sms_201911 = train_sms[(train_sms.request_datetime>='2019-11-01 00:00:00')&(train_sms.request_datetime<'2019-12-01 00:00:00')].copy()\n",
    "train_sms_201912 = train_sms[(train_sms.request_datetime>='2019-12-01 00:00:00')&(train_sms.request_datetime<'2020-01-01 00:00:00')].copy()\n",
    "train_sms_202001 = train_sms[(train_sms.request_datetime>='2020-01-01 00:00:00')&(train_sms.request_datetime<'2020-02-01 00:00:00')].copy()\n",
    "train_sms_202002 = train_sms[(train_sms.request_datetime>='2020-02-01 00:00:00')&(train_sms.request_datetime<'2020-03-01 00:00:00')].copy()\n",
    "train_sms_202003 = train_sms[(train_sms.request_datetime>='2020-03-01 00:00:00')&(train_sms.request_datetime<'2020-04-01 00:00:00')].copy()\n",
    "train_app_201908 = train_app[train_app.month_id=='2019-08']\n",
    "train_app_201909 = train_app[train_app.month_id=='2019-09']\n",
    "train_app_201910 = train_app[train_app.month_id=='2019-10']\n",
    "train_app_201911 = train_app[train_app.month_id=='2019-11']\n",
    "train_app_201912 = train_app[train_app.month_id=='2019-12']\n",
    "train_app_202001 = train_app[train_app.month_id=='2020-01']\n",
    "train_app_202002 = train_app[train_app.month_id=='2020-02']\n",
    "train_app_202003 = train_app[train_app.month_id=='2020-03']"
   ]
  },
  {
   "cell_type": "code",
   "execution_count": 10,
   "metadata": {
    "ExecuteTime": {
     "end_time": "2020-08-25T03:45:23.349273Z",
     "start_time": "2020-08-25T03:37:58.938319Z"
    }
   },
   "outputs": [
    {
     "name": "stderr",
     "output_type": "stream",
     "text": [
      "E:\\software\\ANACONDA3\\lib\\site-packages\\ipykernel_launcher.py:138: SettingWithCopyWarning: \n",
      "A value is trying to be set on a copy of a slice from a DataFrame.\n",
      "Try using .loc[row_indexer,col_indexer] = value instead\n",
      "\n",
      "See the caveats in the documentation: https://pandas.pydata.org/pandas-docs/stable/user_guide/indexing.html#returning-a-view-versus-a-copy\n"
     ]
    },
    {
     "name": "stdout",
     "output_type": "stream",
     "text": [
      "Done\n",
      "Done\n",
      "Done\n",
      "Done\n",
      "Done\n",
      "Done\n",
      "Done\n",
      "Done\n",
      "Done\n"
     ]
    }
   ],
   "source": [
    "#### 各月数据特征加工\n",
    "test_fe = fe_train_month(test_user,test_voc,test_sms,test_app,'05','2020')\n",
    "print('Done')\n",
    "test_fe_chusai = fe_train_month(test_user_chusai,test_voc_chusai,test_sms_chusai,test_app_chusai,'04','2020')\n",
    "print('Done')\n",
    "train_fe_201908 = fe_train_month(train_user,train_voc_201908,train_sms_201908,train_app_201908,'08','2019')\n",
    "print('Done')\n",
    "train_fe_201909 = fe_train_month(train_user,train_voc_201909,train_sms_201909,train_app_201909,'09','2019')\n",
    "print('Done')\n",
    "train_fe_201910 = fe_train_month(train_user,train_voc_201910,train_sms_201910,train_app_201909,'10','2019')\n",
    "print('Done')\n",
    "train_fe_201911 = fe_train_month(train_user,train_voc_201911,train_sms_201911,train_app_201911,'11','2019')\n",
    "print('Done')\n",
    "train_fe_201912 = fe_train_month(train_user,train_voc_201912,train_sms_201912,train_app_201912,'12','2019')\n",
    "print('Done')\n",
    "train_fe_202001 = fe_train_month(train_user,train_voc_202001,train_sms_202001,train_app_202001,'01','2020')\n",
    "print('Done')\n",
    "train_fe_202002 = fe_train_month(train_user,train_voc_202002,train_sms_202002,train_app_202002,'02','2020')\n",
    "print('Done')\n",
    "train_fe_202003 = fe_train_month(train_user,train_voc_202003,train_sms_202003,train_app_202003,'03','2020')"
   ]
  },
  {
   "cell_type": "code",
   "execution_count": 11,
   "metadata": {
    "ExecuteTime": {
     "end_time": "2020-08-25T03:45:24.062410Z",
     "start_time": "2020-08-25T03:45:23.351271Z"
    }
   },
   "outputs": [
    {
     "name": "stdout",
     "output_type": "stream",
     "text": [
      "(48848, 85)\n"
     ]
    }
   ],
   "source": [
    "#### 组合2019.8-2019.3月数据\n",
    "train_fe = pd.DataFrame()\n",
    "for _ in [train_fe_201908,train_fe_201909,train_fe_201910,train_fe_201911,train_fe_201912,train_fe_202001,train_fe_202002,train_fe_202003]:\n",
    "    train_fe = train_fe.append(_,ignore_index=True)\n",
    "#### 处理特征county_name和city_name\n",
    "train_fe['county_name'] = train_fe.city_name.astype(str) + '_'+train_fe.county_name.astype(str)\n",
    "test_fe['county_name'] = test_fe.city_name.astype(str) + '_'+test_fe.county_name.astype(str)\n",
    "test_fe_chusai['county_name'] = test_fe_chusai.city_name.astype(str) + '_'+test_fe_chusai.county_name.astype(str)\n",
    "count_columns = ['county_name','city_name','city_name_call_mode']\n",
    "for i in count_columns:\n",
    "    train_fe[i+'_count_full'] = train_fe[i].map(pd.concat([train_fe[i], test_fe_chusai[i],test_fe[i]], ignore_index=True).value_counts(dropna=False))\n",
    "    test_fe[i+'_count_full'] = test_fe[i].map(pd.concat([train_fe[i], test_fe_chusai[i],test_fe[i]], ignore_index=True).value_counts(dropna=False))\n",
    "    test_fe_chusai[i+'_count_full'] = test_fe_chusai[i].map(pd.concat([train_fe[i], test_fe_chusai[i],test_fe[i]], ignore_index=True).value_counts(dropna=False))\n",
    "train_fe_clean = train_fe.copy()\n",
    "print(train_fe_clean.shape)\n",
    "#### label encoding\n",
    "cat_list = ['city_name','county_name','city_name_call_mode']\n",
    "for feature in cat_list:\n",
    "    label_encod = LabelEncoder()\n",
    "    label_encod.fit(list(train_fe_clean[feature].astype(str).values) + list(test_fe[feature].astype(str).values) + list(test_fe_chusai[feature].astype(str).values))\n",
    "    train_fe_clean[feature] = label_encod.transform(list(train_fe_clean[feature].astype(str).values))\n",
    "    test_fe[feature] = label_encod.transform(list(test_fe[feature].astype(str).values))\n",
    "    test_fe_chusai[feature] = label_encod.transform(list(test_fe_chusai[feature].astype(str).values))\n",
    "### 填空值\n",
    "train_fe_clean.fillna(-999,inplace=True)\n",
    "test_fe.fillna(-999,inplace=True)\n",
    "test_fe_chusai.fillna(-999,inplace=True)\n"
   ]
  },
  {
   "cell_type": "code",
   "execution_count": 12,
   "metadata": {
    "ExecuteTime": {
     "end_time": "2020-08-25T03:45:24.093294Z",
     "start_time": "2020-08-25T03:45:24.063368Z"
    }
   },
   "outputs": [],
   "source": [
    "#### 去掉无用字段\n",
    "train_fe_clean = train_fe_clean.drop(['month'],axis=1)\n",
    "test_fe_chusai = test_fe_chusai.drop(['month','type'],axis=1)"
   ]
  },
  {
   "cell_type": "code",
   "execution_count": 13,
   "metadata": {
    "ExecuteTime": {
     "end_time": "2020-08-25T03:45:24.320678Z",
     "start_time": "2020-08-25T03:45:24.096279Z"
    }
   },
   "outputs": [
    {
     "data": {
      "text/plain": [
       "(40866, 84)"
      ]
     },
     "execution_count": 13,
     "metadata": {},
     "output_type": "execute_result"
    }
   ],
   "source": [
    "train_fe_clean = train_fe_clean.drop_duplicates()\n",
    "train_fe_clean.shape"
   ]
  },
  {
   "cell_type": "code",
   "execution_count": 14,
   "metadata": {
    "ExecuteTime": {
     "end_time": "2020-08-25T03:45:24.363565Z",
     "start_time": "2020-08-25T03:45:24.322673Z"
    }
   },
   "outputs": [],
   "source": [
    "#### 去掉无用字段\n",
    "X_train = train_fe_clean.drop(['phone_no_m'],axis=1)\n",
    "y_train =  X_train['label']\n",
    "X_train.drop(['label'],axis=1,inplace=True)\n",
    "X_test = test_fe.drop(['phone_no_m','month'],axis=1)\n",
    "X_test_chusai = test_fe_chusai.drop(['phone_no_m','label'],axis=1)\n",
    "y_test_chusai = test_fe_chusai['label']"
   ]
  },
  {
   "cell_type": "code",
   "execution_count": 15,
   "metadata": {
    "ExecuteTime": {
     "end_time": "2020-08-25T03:45:24.371545Z",
     "start_time": "2020-08-25T03:45:24.365559Z"
    }
   },
   "outputs": [
    {
     "name": "stdout",
     "output_type": "stream",
     "text": [
      "(40866, 82)\n",
      "(40866,)\n",
      "(1450, 82)\n",
      "(2045, 82)\n",
      "(2045,)\n"
     ]
    }
   ],
   "source": [
    "print(X_train.shape)\n",
    "print(y_train.shape)\n",
    "print(X_test.shape)\n",
    "print(X_test_chusai.shape)\n",
    "print(y_test_chusai.shape)"
   ]
  },
  {
   "cell_type": "code",
   "execution_count": 16,
   "metadata": {
    "ExecuteTime": {
     "end_time": "2020-08-25T03:45:24.413850Z",
     "start_time": "2020-08-25T03:45:24.373542Z"
    }
   },
   "outputs": [],
   "source": [
    "#### 合并新四月份数据\n",
    "X_train = X_train.append(X_test_chusai,ignore_index=True)\n",
    "y_train = y_train.append(y_test_chusai,ignore_index=True)"
   ]
  },
  {
   "cell_type": "code",
   "execution_count": 17,
   "metadata": {
    "ExecuteTime": {
     "end_time": "2020-08-25T03:45:24.421411Z",
     "start_time": "2020-08-25T03:45:24.416430Z"
    }
   },
   "outputs": [
    {
     "name": "stdout",
     "output_type": "stream",
     "text": [
      "(42911, 82)\n",
      "(42911,)\n",
      "(1450, 82)\n"
     ]
    }
   ],
   "source": [
    "print(X_train.shape)\n",
    "print(y_train.shape)\n",
    "print(X_test.shape)"
   ]
  },
  {
   "cell_type": "markdown",
   "metadata": {},
   "source": [
    "### 建立模型"
   ]
  },
  {
   "cell_type": "code",
   "execution_count": 18,
   "metadata": {
    "ExecuteTime": {
     "end_time": "2020-08-25T03:45:24.430386Z",
     "start_time": "2020-08-25T03:45:24.423404Z"
    }
   },
   "outputs": [],
   "source": [
    "#### LGB参数\n",
    "bayes_params = \\\n",
    "{'colsample_bytree': 0.9441,\n",
    " 'min_child_samples': int(55.2),\n",
    " 'min_child_weight': 3.932,\n",
    " 'min_split_gain': 0.2096,\n",
    " 'num_leaves': int(17.43),\n",
    " 'reg_alpha': 0.2574,\n",
    " 'reg_lambda': 0.02433,\n",
    " 'subsample':0.998}"
   ]
  },
  {
   "cell_type": "code",
   "execution_count": 21,
   "metadata": {
    "ExecuteTime": {
     "end_time": "2020-08-25T03:32:04.194942Z",
     "start_time": "2020-08-25T03:25:51.005554Z"
    }
   },
   "outputs": [
    {
     "name": "stdout",
     "output_type": "stream",
     "text": [
      "fold_1*********************************************\n",
      "Training until validation scores don't improve for 200 rounds\n",
      "[50]\ttraining's f1_macro: 0.850074\tvalid_1's f1_macro: 0.834737\n",
      "[100]\ttraining's f1_macro: 0.870089\tvalid_1's f1_macro: 0.852438\n",
      "[150]\ttraining's f1_macro: 0.881526\tvalid_1's f1_macro: 0.858005\n",
      "[200]\ttraining's f1_macro: 0.890089\tvalid_1's f1_macro: 0.864355\n",
      "[250]\ttraining's f1_macro: 0.89731\tvalid_1's f1_macro: 0.866919\n",
      "[300]\ttraining's f1_macro: 0.905326\tvalid_1's f1_macro: 0.870237\n",
      "[350]\ttraining's f1_macro: 0.910694\tvalid_1's f1_macro: 0.873284\n",
      "[400]\ttraining's f1_macro: 0.916488\tvalid_1's f1_macro: 0.874398\n",
      "[450]\ttraining's f1_macro: 0.921468\tvalid_1's f1_macro: 0.875112\n",
      "[500]\ttraining's f1_macro: 0.926907\tvalid_1's f1_macro: 0.875565\n",
      "[550]\ttraining's f1_macro: 0.931363\tvalid_1's f1_macro: 0.876977\n",
      "[600]\ttraining's f1_macro: 0.936664\tvalid_1's f1_macro: 0.878742\n",
      "[650]\ttraining's f1_macro: 0.940559\tvalid_1's f1_macro: 0.87864\n",
      "[700]\ttraining's f1_macro: 0.944353\tvalid_1's f1_macro: 0.879949\n",
      "[750]\ttraining's f1_macro: 0.948319\tvalid_1's f1_macro: 0.880703\n",
      "[800]\ttraining's f1_macro: 0.951945\tvalid_1's f1_macro: 0.88241\n",
      "[850]\ttraining's f1_macro: 0.954862\tvalid_1's f1_macro: 0.882818\n",
      "[900]\ttraining's f1_macro: 0.959169\tvalid_1's f1_macro: 0.883866\n",
      "[950]\ttraining's f1_macro: 0.962833\tvalid_1's f1_macro: 0.885015\n",
      "[1000]\ttraining's f1_macro: 0.966165\tvalid_1's f1_macro: 0.886501\n",
      "[1050]\ttraining's f1_macro: 0.968435\tvalid_1's f1_macro: 0.88705\n",
      "[1100]\ttraining's f1_macro: 0.970459\tvalid_1's f1_macro: 0.886898\n",
      "[1150]\ttraining's f1_macro: 0.972799\tvalid_1's f1_macro: 0.887355\n",
      "[1200]\ttraining's f1_macro: 0.974286\tvalid_1's f1_macro: 0.887157\n",
      "[1250]\ttraining's f1_macro: 0.975646\tvalid_1's f1_macro: 0.887553\n",
      "[1300]\ttraining's f1_macro: 0.977046\tvalid_1's f1_macro: 0.888255\n",
      "[1350]\ttraining's f1_macro: 0.977046\tvalid_1's f1_macro: 0.888255\n",
      "[1400]\ttraining's f1_macro: 0.977046\tvalid_1's f1_macro: 0.888255\n",
      "[1450]\ttraining's f1_macro: 0.977046\tvalid_1's f1_macro: 0.888255\n",
      "Early stopping, best iteration is:\n",
      "[1296]\ttraining's f1_macro: 0.97713\tvalid_1's f1_macro: 0.888606\n",
      "fold_2*********************************************\n",
      "Training until validation scores don't improve for 200 rounds\n",
      "[50]\ttraining's f1_macro: 0.846792\tvalid_1's f1_macro: 0.845335\n",
      "[100]\ttraining's f1_macro: 0.866322\tvalid_1's f1_macro: 0.863295\n",
      "[150]\ttraining's f1_macro: 0.877636\tvalid_1's f1_macro: 0.869349\n",
      "[200]\ttraining's f1_macro: 0.886668\tvalid_1's f1_macro: 0.873477\n",
      "[250]\ttraining's f1_macro: 0.895516\tvalid_1's f1_macro: 0.877074\n",
      "[300]\ttraining's f1_macro: 0.903747\tvalid_1's f1_macro: 0.880044\n",
      "[350]\ttraining's f1_macro: 0.910535\tvalid_1's f1_macro: 0.881599\n",
      "[400]\ttraining's f1_macro: 0.916329\tvalid_1's f1_macro: 0.884403\n",
      "[450]\ttraining's f1_macro: 0.921817\tvalid_1's f1_macro: 0.885317\n",
      "[500]\ttraining's f1_macro: 0.927581\tvalid_1's f1_macro: 0.88755\n",
      "[550]\ttraining's f1_macro: 0.932841\tvalid_1's f1_macro: 0.888206\n",
      "[600]\ttraining's f1_macro: 0.936941\tvalid_1's f1_macro: 0.89049\n",
      "[650]\ttraining's f1_macro: 0.941289\tvalid_1's f1_macro: 0.890885\n",
      "[700]\ttraining's f1_macro: 0.946133\tvalid_1's f1_macro: 0.891585\n",
      "[750]\ttraining's f1_macro: 0.950519\tvalid_1's f1_macro: 0.890929\n",
      "[800]\ttraining's f1_macro: 0.9547\tvalid_1's f1_macro: 0.89222\n",
      "[850]\ttraining's f1_macro: 0.958087\tvalid_1's f1_macro: 0.893093\n",
      "[900]\ttraining's f1_macro: 0.960929\tvalid_1's f1_macro: 0.892657\n",
      "[950]\ttraining's f1_macro: 0.964185\tvalid_1's f1_macro: 0.89403\n",
      "[1000]\ttraining's f1_macro: 0.966821\tvalid_1's f1_macro: 0.894098\n",
      "[1050]\ttraining's f1_macro: 0.969163\tvalid_1's f1_macro: 0.894013\n",
      "[1100]\ttraining's f1_macro: 0.971117\tvalid_1's f1_macro: 0.895622\n",
      "[1150]\ttraining's f1_macro: 0.973078\tvalid_1's f1_macro: 0.895622\n",
      "[1200]\ttraining's f1_macro: 0.974985\tvalid_1's f1_macro: 0.896711\n",
      "[1250]\ttraining's f1_macro: 0.976304\tvalid_1's f1_macro: 0.896989\n",
      "[1300]\ttraining's f1_macro: 0.976937\tvalid_1's f1_macro: 0.897338\n",
      "[1350]\ttraining's f1_macro: 0.976937\tvalid_1's f1_macro: 0.897338\n",
      "[1400]\ttraining's f1_macro: 0.976937\tvalid_1's f1_macro: 0.897338\n",
      "Early stopping, best iteration is:\n",
      "[1239]\ttraining's f1_macro: 0.976132\tvalid_1's f1_macro: 0.897379\n",
      "fold_3*********************************************\n",
      "Training until validation scores don't improve for 200 rounds\n",
      "[50]\ttraining's f1_macro: 0.850351\tvalid_1's f1_macro: 0.839554\n",
      "[100]\ttraining's f1_macro: 0.869445\tvalid_1's f1_macro: 0.855292\n",
      "[150]\ttraining's f1_macro: 0.880079\tvalid_1's f1_macro: 0.864221\n",
      "[200]\ttraining's f1_macro: 0.888613\tvalid_1's f1_macro: 0.869032\n",
      "[250]\ttraining's f1_macro: 0.895234\tvalid_1's f1_macro: 0.872825\n",
      "[300]\ttraining's f1_macro: 0.903194\tvalid_1's f1_macro: 0.876352\n",
      "[350]\ttraining's f1_macro: 0.909921\tvalid_1's f1_macro: 0.877678\n",
      "[400]\ttraining's f1_macro: 0.915778\tvalid_1's f1_macro: 0.878541\n",
      "[450]\ttraining's f1_macro: 0.921601\tvalid_1's f1_macro: 0.881525\n",
      "[500]\ttraining's f1_macro: 0.92662\tvalid_1's f1_macro: 0.883392\n",
      "[550]\ttraining's f1_macro: 0.931305\tvalid_1's f1_macro: 0.884607\n",
      "[600]\ttraining's f1_macro: 0.936778\tvalid_1's f1_macro: 0.885574\n",
      "[650]\ttraining's f1_macro: 0.941471\tvalid_1's f1_macro: 0.886824\n",
      "[700]\ttraining's f1_macro: 0.945892\tvalid_1's f1_macro: 0.888039\n",
      "[750]\ttraining's f1_macro: 0.94925\tvalid_1's f1_macro: 0.888039\n",
      "[800]\ttraining's f1_macro: 0.951734\tvalid_1's f1_macro: 0.889483\n",
      "[850]\ttraining's f1_macro: 0.95543\tvalid_1's f1_macro: 0.889374\n",
      "[900]\ttraining's f1_macro: 0.959073\tvalid_1's f1_macro: 0.891317\n",
      "[950]\ttraining's f1_macro: 0.961549\tvalid_1's f1_macro: 0.890831\n",
      "[1000]\ttraining's f1_macro: 0.963813\tvalid_1's f1_macro: 0.891581\n",
      "[1050]\ttraining's f1_macro: 0.966564\tvalid_1's f1_macro: 0.891646\n",
      "[1100]\ttraining's f1_macro: 0.96926\tvalid_1's f1_macro: 0.892396\n",
      "[1150]\ttraining's f1_macro: 0.970421\tvalid_1's f1_macro: 0.891779\n",
      "[1200]\ttraining's f1_macro: 0.972129\tvalid_1's f1_macro: 0.89277\n",
      "[1250]\ttraining's f1_macro: 0.973871\tvalid_1's f1_macro: 0.892418\n",
      "[1300]\ttraining's f1_macro: 0.974555\tvalid_1's f1_macro: 0.892264\n",
      "[1350]\ttraining's f1_macro: 0.974555\tvalid_1's f1_macro: 0.892264\n",
      "Early stopping, best iteration is:\n",
      "[1194]\ttraining's f1_macro: 0.971957\tvalid_1's f1_macro: 0.893321\n",
      "fold_4*********************************************\n",
      "Training until validation scores don't improve for 200 rounds\n",
      "[50]\ttraining's f1_macro: 0.848096\tvalid_1's f1_macro: 0.850706\n",
      "[100]\ttraining's f1_macro: 0.867038\tvalid_1's f1_macro: 0.861079\n",
      "[150]\ttraining's f1_macro: 0.879852\tvalid_1's f1_macro: 0.870035\n",
      "[200]\ttraining's f1_macro: 0.889449\tvalid_1's f1_macro: 0.873773\n",
      "[250]\ttraining's f1_macro: 0.897297\tvalid_1's f1_macro: 0.876361\n",
      "[300]\ttraining's f1_macro: 0.905211\tvalid_1's f1_macro: 0.879045\n",
      "[350]\ttraining's f1_macro: 0.909965\tvalid_1's f1_macro: 0.880915\n",
      "[400]\ttraining's f1_macro: 0.915634\tvalid_1's f1_macro: 0.881617\n",
      "[450]\ttraining's f1_macro: 0.920482\tvalid_1's f1_macro: 0.881617\n",
      "[500]\ttraining's f1_macro: 0.925711\tvalid_1's f1_macro: 0.882726\n",
      "[550]\ttraining's f1_macro: 0.931364\tvalid_1's f1_macro: 0.884244\n",
      "[600]\ttraining's f1_macro: 0.936374\tvalid_1's f1_macro: 0.884081\n",
      "[650]\ttraining's f1_macro: 0.941101\tvalid_1's f1_macro: 0.885551\n",
      "[700]\ttraining's f1_macro: 0.945785\tvalid_1's f1_macro: 0.88735\n",
      "[750]\ttraining's f1_macro: 0.949352\tvalid_1's f1_macro: 0.887595\n",
      "[800]\ttraining's f1_macro: 0.953368\tvalid_1's f1_macro: 0.88784\n",
      "[850]\ttraining's f1_macro: 0.956879\tvalid_1's f1_macro: 0.888851\n",
      "[900]\ttraining's f1_macro: 0.959733\tvalid_1's f1_macro: 0.888851\n",
      "[950]\ttraining's f1_macro: 0.962611\tvalid_1's f1_macro: 0.888851\n",
      "[1000]\ttraining's f1_macro: 0.96437\tvalid_1's f1_macro: 0.889664\n",
      "[1050]\ttraining's f1_macro: 0.966624\tvalid_1's f1_macro: 0.88876\n",
      "[1100]\ttraining's f1_macro: 0.969288\tvalid_1's f1_macro: 0.890504\n",
      "[1150]\ttraining's f1_macro: 0.971348\tvalid_1's f1_macro: 0.891163\n",
      "[1200]\ttraining's f1_macro: 0.973467\tvalid_1's f1_macro: 0.891253\n",
      "[1250]\ttraining's f1_macro: 0.975505\tvalid_1's f1_macro: 0.892045\n",
      "[1300]\ttraining's f1_macro: 0.976646\tvalid_1's f1_macro: 0.892858\n",
      "[1350]\ttraining's f1_macro: 0.977365\tvalid_1's f1_macro: 0.892902\n",
      "[1400]\ttraining's f1_macro: 0.977365\tvalid_1's f1_macro: 0.892902\n",
      "Early stopping, best iteration is:\n",
      "[1228]\ttraining's f1_macro: 0.9744\tvalid_1's f1_macro: 0.893056\n",
      "fold_5*********************************************\n"
     ]
    },
    {
     "name": "stdout",
     "output_type": "stream",
     "text": [
      "Training until validation scores don't improve for 200 rounds\n",
      "[50]\ttraining's f1_macro: 0.850034\tvalid_1's f1_macro: 0.839538\n",
      "[100]\ttraining's f1_macro: 0.87031\tvalid_1's f1_macro: 0.852756\n",
      "[150]\ttraining's f1_macro: 0.881484\tvalid_1's f1_macro: 0.859371\n",
      "[200]\ttraining's f1_macro: 0.889736\tvalid_1's f1_macro: 0.860656\n",
      "[250]\ttraining's f1_macro: 0.897722\tvalid_1's f1_macro: 0.863064\n",
      "[300]\ttraining's f1_macro: 0.904712\tvalid_1's f1_macro: 0.865944\n",
      "[350]\ttraining's f1_macro: 0.910321\tvalid_1's f1_macro: 0.868579\n",
      "[400]\ttraining's f1_macro: 0.9165\tvalid_1's f1_macro: 0.869775\n",
      "[450]\ttraining's f1_macro: 0.922501\tvalid_1's f1_macro: 0.87024\n",
      "[500]\ttraining's f1_macro: 0.92677\tvalid_1's f1_macro: 0.871428\n",
      "[550]\ttraining's f1_macro: 0.931582\tvalid_1's f1_macro: 0.87229\n",
      "[600]\ttraining's f1_macro: 0.936101\tvalid_1's f1_macro: 0.873259\n",
      "[650]\ttraining's f1_macro: 0.940554\tvalid_1's f1_macro: 0.873621\n",
      "[700]\ttraining's f1_macro: 0.944532\tvalid_1's f1_macro: 0.874477\n",
      "[750]\ttraining's f1_macro: 0.948185\tvalid_1's f1_macro: 0.874221\n",
      "[800]\ttraining's f1_macro: 0.952187\tvalid_1's f1_macro: 0.874639\n",
      "[850]\ttraining's f1_macro: 0.955255\tvalid_1's f1_macro: 0.876464\n",
      "[900]\ttraining's f1_macro: 0.957852\tvalid_1's f1_macro: 0.876818\n",
      "[950]\ttraining's f1_macro: 0.961485\tvalid_1's f1_macro: 0.877021\n",
      "[1000]\ttraining's f1_macro: 0.964709\tvalid_1's f1_macro: 0.876564\n",
      "[1050]\ttraining's f1_macro: 0.967135\tvalid_1's f1_macro: 0.878236\n",
      "[1100]\ttraining's f1_macro: 0.969552\tvalid_1's f1_macro: 0.878942\n",
      "[1150]\ttraining's f1_macro: 0.971482\tvalid_1's f1_macro: 0.87869\n",
      "[1200]\ttraining's f1_macro: 0.973398\tvalid_1's f1_macro: 0.878994\n",
      "[1250]\ttraining's f1_macro: 0.97516\tvalid_1's f1_macro: 0.880005\n",
      "[1300]\ttraining's f1_macro: 0.976985\tvalid_1's f1_macro: 0.879602\n",
      "[1350]\ttraining's f1_macro: 0.977737\tvalid_1's f1_macro: 0.880158\n",
      "[1400]\ttraining's f1_macro: 0.977737\tvalid_1's f1_macro: 0.880158\n",
      "[1450]\ttraining's f1_macro: 0.977737\tvalid_1's f1_macro: 0.880158\n",
      "Early stopping, best iteration is:\n",
      "[1261]\ttraining's f1_macro: 0.975539\tvalid_1's f1_macro: 0.881067\n",
      "Mean f1_macro: 0.89068573760003\n",
      "oof 0.8907102057037835\n"
     ]
    }
   ],
   "source": [
    "#### 五折 LGB\n",
    "kf = StratifiedKFold(n_splits=5,shuffle=True,random_state=47)\n",
    "fea_impor = 0\n",
    "k = 1\n",
    "oof = np.zeros(y_train.shape)\n",
    "pred = 0\n",
    "score_list = []\n",
    "for train_index,test_index in kf.split(X_train,y_train):\n",
    "    print(f'fold_{k}*********************************************')\n",
    "    k+=1\n",
    "    X_train2 = X_train.iloc[train_index,:]\n",
    "    y_train2 = y_train.iloc[train_index]\n",
    "    X_test2 = X_train.iloc[test_index,:]\n",
    "    y_test2 = y_train.iloc[test_index]\n",
    "    clf = lgb.LGBMClassifier(n_estimators=10000, random_state=47,learning_rate=0.06,\\\n",
    "                             importance_type = 'gain',n_jobs = -1,metric='None',**bayes_params)\n",
    "    def f1_score_custom(y_true,y_pred):\n",
    "        #print(y_pred,y_true.shape)\n",
    "        y_pred = y_pred.round()\n",
    "        return 'f1_macro', f1_score(y_true,y_pred,average='macro'), True\n",
    "    clf.fit(X_train2,y_train2,eval_set = [(X_train2,y_train2),(X_test2,y_test2)],\n",
    "            early_stopping_rounds=200,verbose=50,eval_metric=lambda y_true,y_pred:f1_score_custom(y_true,y_pred))\n",
    "    #joblib.dump(clf, f'lightgbm_adam_fold{k-1}.pkl')\n",
    "    temp = clf.predict_proba(X_test2)[:,1]\n",
    "    oof[test_index] = temp\n",
    "    score_list.append(f1_score(y_test2,temp.round(),average='macro'))\n",
    "    fea_impor += clf.feature_importances_/kf.n_splits\n",
    "    pred += clf.predict_proba(X_test)/kf.n_splits\n",
    "    #break\n",
    "print('Mean f1_macro:',np.mean(score_list))\n",
    "print('oof',f1_score(y_train,oof.round(),average='macro'))"
   ]
  },
  {
   "cell_type": "code",
   "execution_count": 20,
   "metadata": {
    "ExecuteTime": {
     "end_time": "2020-08-25T03:51:28.590661Z",
     "start_time": "2020-08-25T03:51:28.562735Z"
    }
   },
   "outputs": [
    {
     "data": {
      "text/html": [
       "<div>\n",
       "<style scoped>\n",
       "    .dataframe tbody tr th:only-of-type {\n",
       "        vertical-align: middle;\n",
       "    }\n",
       "\n",
       "    .dataframe tbody tr th {\n",
       "        vertical-align: top;\n",
       "    }\n",
       "\n",
       "    .dataframe thead th {\n",
       "        text-align: right;\n",
       "    }\n",
       "</style>\n",
       "<table border=\"1\" class=\"dataframe\">\n",
       "  <thead>\n",
       "    <tr style=\"text-align: right;\">\n",
       "      <th></th>\n",
       "      <th>feature_impo</th>\n",
       "    </tr>\n",
       "  </thead>\n",
       "  <tbody>\n",
       "    <tr>\n",
       "      <th>num_call_for_1pep_mean</th>\n",
       "      <td>49753.344201</td>\n",
       "    </tr>\n",
       "    <tr>\n",
       "      <th>city_name_call_mode</th>\n",
       "      <td>21054.535024</td>\n",
       "    </tr>\n",
       "    <tr>\n",
       "      <th>last_month_amt</th>\n",
       "      <td>15929.556118</td>\n",
       "    </tr>\n",
       "    <tr>\n",
       "      <th>county_name_count_full</th>\n",
       "      <td>14766.792780</td>\n",
       "    </tr>\n",
       "    <tr>\n",
       "      <th>mean_call_per_day</th>\n",
       "      <td>14422.190871</td>\n",
       "    </tr>\n",
       "    <tr>\n",
       "      <th>idcard_cnt</th>\n",
       "      <td>10423.773916</td>\n",
       "    </tr>\n",
       "    <tr>\n",
       "      <th>num_pep_sms</th>\n",
       "      <td>8927.068001</td>\n",
       "    </tr>\n",
       "    <tr>\n",
       "      <th>voc_nunique_day</th>\n",
       "      <td>8642.261488</td>\n",
       "    </tr>\n",
       "    <tr>\n",
       "      <th>county_name</th>\n",
       "      <td>8194.500442</td>\n",
       "    </tr>\n",
       "    <tr>\n",
       "      <th>ratio_sms_per_calltype_2</th>\n",
       "      <td>8035.049976</td>\n",
       "    </tr>\n",
       "    <tr>\n",
       "      <th>num_txt_for_1pep_mean</th>\n",
       "      <td>6873.101990</td>\n",
       "    </tr>\n",
       "    <tr>\n",
       "      <th>std_call_per_day</th>\n",
       "      <td>5967.289823</td>\n",
       "    </tr>\n",
       "    <tr>\n",
       "      <th>count_calltype_sms_1</th>\n",
       "      <td>4527.155467</td>\n",
       "    </tr>\n",
       "    <tr>\n",
       "      <th>voc_hour_min_std</th>\n",
       "      <td>4261.899546</td>\n",
       "    </tr>\n",
       "    <tr>\n",
       "      <th>sum_flow</th>\n",
       "      <td>3838.964364</td>\n",
       "    </tr>\n",
       "    <tr>\n",
       "      <th>is_na_city_raio</th>\n",
       "      <td>3389.883698</td>\n",
       "    </tr>\n",
       "    <tr>\n",
       "      <th>count_calltype_sms_2</th>\n",
       "      <td>3314.921993</td>\n",
       "    </tr>\n",
       "    <tr>\n",
       "      <th>num_app</th>\n",
       "      <td>3142.123849</td>\n",
       "    </tr>\n",
       "    <tr>\n",
       "      <th>city_name_count_full</th>\n",
       "      <td>3130.980947</td>\n",
       "    </tr>\n",
       "    <tr>\n",
       "      <th>call_ratio_hour_23</th>\n",
       "      <td>2835.943778</td>\n",
       "    </tr>\n",
       "    <tr>\n",
       "      <th>num_imei_voc</th>\n",
       "      <td>2812.934671</td>\n",
       "    </tr>\n",
       "    <tr>\n",
       "      <th>diff_count_sms_1_2</th>\n",
       "      <td>2776.824403</td>\n",
       "    </tr>\n",
       "    <tr>\n",
       "      <th>num_txt_for_1pep_max</th>\n",
       "      <td>2776.106979</td>\n",
       "    </tr>\n",
       "    <tr>\n",
       "      <th>ratio_call_per_calltype_2</th>\n",
       "      <td>2560.115984</td>\n",
       "    </tr>\n",
       "    <tr>\n",
       "      <th>call_ratio_hour_8</th>\n",
       "      <td>2063.745387</td>\n",
       "    </tr>\n",
       "    <tr>\n",
       "      <th>call_dur_min</th>\n",
       "      <td>1989.541916</td>\n",
       "    </tr>\n",
       "    <tr>\n",
       "      <th>call_ratio_hour_0</th>\n",
       "      <td>1901.159808</td>\n",
       "    </tr>\n",
       "    <tr>\n",
       "      <th>num_pep_voc</th>\n",
       "      <td>1812.530803</td>\n",
       "    </tr>\n",
       "    <tr>\n",
       "      <th>city_name</th>\n",
       "      <td>1752.262371</td>\n",
       "    </tr>\n",
       "    <tr>\n",
       "      <th>num_app_log</th>\n",
       "      <td>1733.516379</td>\n",
       "    </tr>\n",
       "    <tr>\n",
       "      <th>city_name_call_mode_count_full</th>\n",
       "      <td>1701.380051</td>\n",
       "    </tr>\n",
       "    <tr>\n",
       "      <th>call_ratio_hour_9</th>\n",
       "      <td>1670.841317</td>\n",
       "    </tr>\n",
       "    <tr>\n",
       "      <th>call_dur_quantile25</th>\n",
       "      <td>1438.838179</td>\n",
       "    </tr>\n",
       "    <tr>\n",
       "      <th>call_ratio_hour_7</th>\n",
       "      <td>1425.881048</td>\n",
       "    </tr>\n",
       "    <tr>\n",
       "      <th>diff_num_calls_1_2</th>\n",
       "      <td>1328.864485</td>\n",
       "    </tr>\n",
       "    <tr>\n",
       "      <th>call_dur_quantile75</th>\n",
       "      <td>1231.404795</td>\n",
       "    </tr>\n",
       "    <tr>\n",
       "      <th>ratio_sms_per_calltype_1</th>\n",
       "      <td>1223.647450</td>\n",
       "    </tr>\n",
       "    <tr>\n",
       "      <th>num_txt_sms</th>\n",
       "      <td>1189.218435</td>\n",
       "    </tr>\n",
       "    <tr>\n",
       "      <th>num_call_for_1pep_max</th>\n",
       "      <td>1184.517400</td>\n",
       "    </tr>\n",
       "    <tr>\n",
       "      <th>call_ratio_hour_18</th>\n",
       "      <td>1096.802587</td>\n",
       "    </tr>\n",
       "    <tr>\n",
       "      <th>num_call_per_calltype_2</th>\n",
       "      <td>1092.586148</td>\n",
       "    </tr>\n",
       "    <tr>\n",
       "      <th>call_ratio_hour_17</th>\n",
       "      <td>1044.221653</td>\n",
       "    </tr>\n",
       "    <tr>\n",
       "      <th>call_ratio_hour_10</th>\n",
       "      <td>1017.697242</td>\n",
       "    </tr>\n",
       "    <tr>\n",
       "      <th>call_ratio_hour_15</th>\n",
       "      <td>1012.529524</td>\n",
       "    </tr>\n",
       "    <tr>\n",
       "      <th>call_dur_median</th>\n",
       "      <td>967.174859</td>\n",
       "    </tr>\n",
       "    <tr>\n",
       "      <th>ratio_call_per_calltype_1</th>\n",
       "      <td>959.012075</td>\n",
       "    </tr>\n",
       "    <tr>\n",
       "      <th>call_dur_mean</th>\n",
       "      <td>938.695679</td>\n",
       "    </tr>\n",
       "    <tr>\n",
       "      <th>call_ratio_hour_11</th>\n",
       "      <td>937.348121</td>\n",
       "    </tr>\n",
       "    <tr>\n",
       "      <th>voc_hour_mode_std</th>\n",
       "      <td>933.494599</td>\n",
       "    </tr>\n",
       "    <tr>\n",
       "      <th>call_ratio_hour_13</th>\n",
       "      <td>929.032691</td>\n",
       "    </tr>\n",
       "  </tbody>\n",
       "</table>\n",
       "</div>"
      ],
      "text/plain": [
       "                                feature_impo\n",
       "num_call_for_1pep_mean          49753.344201\n",
       "city_name_call_mode             21054.535024\n",
       "last_month_amt                  15929.556118\n",
       "county_name_count_full          14766.792780\n",
       "mean_call_per_day               14422.190871\n",
       "idcard_cnt                      10423.773916\n",
       "num_pep_sms                      8927.068001\n",
       "voc_nunique_day                  8642.261488\n",
       "county_name                      8194.500442\n",
       "ratio_sms_per_calltype_2         8035.049976\n",
       "num_txt_for_1pep_mean            6873.101990\n",
       "std_call_per_day                 5967.289823\n",
       "count_calltype_sms_1             4527.155467\n",
       "voc_hour_min_std                 4261.899546\n",
       "sum_flow                         3838.964364\n",
       "is_na_city_raio                  3389.883698\n",
       "count_calltype_sms_2             3314.921993\n",
       "num_app                          3142.123849\n",
       "city_name_count_full             3130.980947\n",
       "call_ratio_hour_23               2835.943778\n",
       "num_imei_voc                     2812.934671\n",
       "diff_count_sms_1_2               2776.824403\n",
       "num_txt_for_1pep_max             2776.106979\n",
       "ratio_call_per_calltype_2        2560.115984\n",
       "call_ratio_hour_8                2063.745387\n",
       "call_dur_min                     1989.541916\n",
       "call_ratio_hour_0                1901.159808\n",
       "num_pep_voc                      1812.530803\n",
       "city_name                        1752.262371\n",
       "num_app_log                      1733.516379\n",
       "city_name_call_mode_count_full   1701.380051\n",
       "call_ratio_hour_9                1670.841317\n",
       "call_dur_quantile25              1438.838179\n",
       "call_ratio_hour_7                1425.881048\n",
       "diff_num_calls_1_2               1328.864485\n",
       "call_dur_quantile75              1231.404795\n",
       "ratio_sms_per_calltype_1         1223.647450\n",
       "num_txt_sms                      1189.218435\n",
       "num_call_for_1pep_max            1184.517400\n",
       "call_ratio_hour_18               1096.802587\n",
       "num_call_per_calltype_2          1092.586148\n",
       "call_ratio_hour_17               1044.221653\n",
       "call_ratio_hour_10               1017.697242\n",
       "call_ratio_hour_15               1012.529524\n",
       "call_dur_median                   967.174859\n",
       "ratio_call_per_calltype_1         959.012075\n",
       "call_dur_mean                     938.695679\n",
       "call_ratio_hour_11                937.348121\n",
       "voc_hour_mode_std                 933.494599\n",
       "call_ratio_hour_13                929.032691"
      ]
     },
     "execution_count": 20,
     "metadata": {},
     "output_type": "execute_result"
    }
   ],
   "source": [
    "### 特征重要性\n",
    "fea = pd.DataFrame(fea_impor,columns=['feature_impo'],index=X_train.columns).sort_values('feature_impo',ascending=False)\n",
    "fea.head(50)"
   ]
  },
  {
   "cell_type": "code",
   "execution_count": 21,
   "metadata": {
    "ExecuteTime": {
     "end_time": "2020-08-25T03:51:28.625568Z",
     "start_time": "2020-08-25T03:51:28.603627Z"
    }
   },
   "outputs": [],
   "source": [
    "#### 金额为空值(-999)直接标记为黑样本\n",
    "#### 预测概率大于0.7标记为黑样本\n",
    "sub = pd.read_csv('data/raw_data_fusai/test/submit_example.csv')\n",
    "sub.label = list(pd.Series(pred[:,1]).map(lambda x:1 if x>=0.7 else 0).astype(np.int64))\n",
    "sub.loc[X_test.last_month_amt==-999,'label'] = 1"
   ]
  },
  {
   "cell_type": "code",
   "execution_count": 22,
   "metadata": {
    "ExecuteTime": {
     "end_time": "2020-08-25T03:51:28.638534Z",
     "start_time": "2020-08-25T03:51:28.628559Z"
    }
   },
   "outputs": [
    {
     "data": {
      "text/plain": [
       "0    1052\n",
       "1     398\n",
       "Name: label, dtype: int64"
      ]
     },
     "execution_count": 22,
     "metadata": {},
     "output_type": "execute_result"
    }
   ],
   "source": [
    "sub.label.value_counts()"
   ]
  },
  {
   "cell_type": "code",
   "execution_count": 23,
   "metadata": {
    "ExecuteTime": {
     "end_time": "2020-08-25T03:51:28.659478Z",
     "start_time": "2020-08-25T03:51:28.640528Z"
    }
   },
   "outputs": [],
   "source": [
    "sub.to_csv('2020-08-19-v1_398.csv',index=False)"
   ]
  },
  {
   "cell_type": "code",
   "execution_count": null,
   "metadata": {},
   "outputs": [],
   "source": []
  }
 ],
 "metadata": {
  "kernelspec": {
   "display_name": "Python 3",
   "language": "python",
   "name": "python3"
  },
  "language_info": {
   "codemirror_mode": {
    "name": "ipython",
    "version": 3
   },
   "file_extension": ".py",
   "mimetype": "text/x-python",
   "name": "python",
   "nbconvert_exporter": "python",
   "pygments_lexer": "ipython3",
   "version": "3.7.2"
  },
  "toc": {
   "base_numbering": 1,
   "nav_menu": {},
   "number_sections": true,
   "sideBar": true,
   "skip_h1_title": false,
   "title_cell": "Table of Contents",
   "title_sidebar": "Contents",
   "toc_cell": false,
   "toc_position": {},
   "toc_section_display": true,
   "toc_window_display": false
  }
 },
 "nbformat": 4,
 "nbformat_minor": 2
}
