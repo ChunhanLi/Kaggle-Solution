{
 "cells": [
  {
   "cell_type": "code",
   "execution_count": 1,
   "metadata": {
    "ExecuteTime": {
     "end_time": "2020-04-28T02:36:39.528039Z",
     "start_time": "2020-04-28T02:36:29.421282Z"
    }
   },
   "outputs": [],
   "source": [
    "import numpy as np\n",
    "import pandas as pd\n",
    "import seaborn as sns\n",
    "import matplotlib.pyplot as plt \n",
    "from sklearn import preprocessing\n",
    "from sklearn.preprocessing import LabelEncoder\n",
    "import catboost as cb\n",
    "import lightgbm as lgb\n",
    "from sklearn.ensemble import RandomForestClassifier\n",
    "from sklearn.model_selection import GridSearchCV, ShuffleSplit,StratifiedKFold,TimeSeriesSplit,KFold,GroupKFold,train_test_split,GroupShuffleSplit,StratifiedShuffleSplit\n",
    "from sklearn.metrics import roc_auc_score,mean_squared_error,mean_absolute_error,log_loss,confusion_matrix\n",
    "import sqlite3\n",
    "import xgboost as xgb\n",
    "import datetime\n",
    "from sklearn.linear_model import LogisticRegression\n",
    "from scipy.stats import pearsonr\n",
    "import gc\n",
    "from sklearn.model_selection import TimeSeriesSplit\n",
    "#from bayes_opt import BayesianOptimization\n",
    "import re\n",
    "from string import punctuation\n",
    "from scipy.spatial import Voronoi\n",
    "from scipy.spatial import ConvexHull\n",
    "from scipy.spatial import Delaunay\n",
    "from tqdm.notebook import tqdm\n",
    "from numba import jit\n",
    "from collections import Counter\n",
    "import json\n",
    "import joblib\n",
    "import multiprocessing\n",
    "import time\n",
    "from scipy.sparse import csr_matrix\n",
    "import gc"
   ]
  },
  {
   "cell_type": "code",
   "execution_count": 2,
   "metadata": {
    "ExecuteTime": {
     "end_time": "2020-04-28T02:36:39.618455Z",
     "start_time": "2020-04-28T02:36:39.531973Z"
    }
   },
   "outputs": [],
   "source": [
    "def reduce_mem_usage(df, verbose=True):\n",
    "    numerics = ['int32', 'int64', 'float64']\n",
    "    start_mem = df.memory_usage().sum() / 1024**2    \n",
    "    for col in df.columns:\n",
    "        col_type = df[col].dtypes\n",
    "        if col_type in numerics:\n",
    "            c_min = df[col].min()\n",
    "            c_max = df[col].max()\n",
    "            if str(col_type)[:3] == 'int':\n",
    "                if c_min > np.iinfo(np.int16).min and c_max < np.iinfo(np.int16).max:\n",
    "                    df[col] = df[col].astype(np.int16)\n",
    "                elif c_min > np.iinfo(np.int32).min and c_max < np.iinfo(np.int32).max:\n",
    "                    df[col] = df[col].astype(np.int32)\n",
    "                elif c_min > np.iinfo(np.int64).min and c_max < np.iinfo(np.int64).max:\n",
    "                    df[col] = df[col].astype(np.int64)  \n",
    "            else:\n",
    "                if c_min > np.finfo(np.float32).min and c_max < np.finfo(np.float32).max:\n",
    "                    df[col] = df[col].astype(np.float32)\n",
    "                else:\n",
    "                    df[col] = df[col].astype(np.float64)    \n",
    "    end_mem = df.memory_usage().sum() / 1024**2\n",
    "    if verbose: print('Mem. usage decreased to {:5.2f} Mb ({:.1f}% reduction)'.format(end_mem, 100 * (start_mem - end_mem) / start_mem))\n",
    "    return df"
   ]
  },
  {
   "cell_type": "code",
   "execution_count": 3,
   "metadata": {
    "ExecuteTime": {
     "end_time": "2020-04-28T02:36:55.433571Z",
     "start_time": "2020-04-28T02:36:39.621550Z"
    }
   },
   "outputs": [],
   "source": [
    "sample_submission = pd.read_csv('../data/sample_submission.csv')\n",
    "sell_prices = pd.read_csv('../data/sell_prices.csv')\n",
    "sales_train = pd.read_csv('../data/sales_train_validation.csv')\n",
    "calendar = pd.read_csv('../data/calendar.csv')"
   ]
  },
  {
   "cell_type": "code",
   "execution_count": 4,
   "metadata": {
    "ExecuteTime": {
     "end_time": "2020-04-28T02:37:14.465270Z",
     "start_time": "2020-04-28T02:36:55.437996Z"
    }
   },
   "outputs": [],
   "source": [
    "sales_train_long_format = pd.melt(sales_train,id_vars=['id','item_id','dept_id','cat_id','store_id','state_id'],var_name = 'day_num',value_name='sale')"
   ]
  },
  {
   "cell_type": "code",
   "execution_count": 5,
   "metadata": {
    "ExecuteTime": {
     "end_time": "2020-04-28T02:38:41.603157Z",
     "start_time": "2020-04-28T02:37:14.469029Z"
    }
   },
   "outputs": [],
   "source": [
    "def transform_day_to_num(str1):\n",
    "    return int(str1[2:])\n",
    "sales_train_long_format['day_num'] = sales_train_long_format['day_num'].map(transform_day_to_num)\n",
    "calendar['date'] = pd.to_datetime(calendar['date'])\n",
    "calendar['day_num'] = calendar['d'].map(transform_day_to_num)\n",
    "map_day_date = calendar[['date','day_num']].set_index('day_num')['date']\n",
    "sales_train_long_format['date'] = sales_train_long_format['day_num'].map(map_day_date)\n",
    "list1 = ['wm_yr_wk','event_name_1', 'event_type_1', 'event_name_2', 'event_type_2','snap_CA', 'snap_TX', 'snap_WI','day_num']\n",
    "sales_train_long_format = sales_train_long_format.merge(calendar[list1],on='day_num',how='left')"
   ]
  },
  {
   "cell_type": "code",
   "execution_count": 6,
   "metadata": {
    "ExecuteTime": {
     "end_time": "2020-04-28T02:39:32.750182Z",
     "start_time": "2020-04-28T02:38:41.606741Z"
    }
   },
   "outputs": [],
   "source": [
    "sales_train_long_format = sales_train_long_format.merge(sell_prices,how='left',on = ['store_id','item_id','wm_yr_wk'])\n",
    "#sales_train_long_format = reduce_mem_usage(sales_train_long_format)"
   ]
  },
  {
   "cell_type": "code",
   "execution_count": 29,
   "metadata": {
    "ExecuteTime": {
     "end_time": "2020-04-28T02:51:12.531962Z",
     "start_time": "2020-04-28T02:51:05.853771Z"
    }
   },
   "outputs": [
    {
     "data": {
      "text/plain": [
       "27"
      ]
     },
     "execution_count": 29,
     "metadata": {},
     "output_type": "execute_result"
    }
   ],
   "source": [
    "del sales_train_long_format\n",
    "gc.collect()"
   ]
  },
  {
   "cell_type": "markdown",
   "metadata": {},
   "source": [
    "### metric\n",
    "#### fast metric"
   ]
  },
  {
   "cell_type": "code",
   "execution_count": 15,
   "metadata": {
    "ExecuteTime": {
     "end_time": "2020-04-28T02:42:13.973401Z",
     "start_time": "2020-04-28T02:42:04.231046Z"
    }
   },
   "outputs": [],
   "source": [
    "data_for_weight = sales_train_long_format[sales_train_long_format.day_num.between(1886,1913)].copy()\n",
    "data_for_weight['sale_used'] = data_for_weight['sale'] * data_for_weight['sell_price']\n",
    "sales = pd.read_csv('../data/sales_train_validation.csv')"
   ]
  },
  {
   "cell_type": "code",
   "execution_count": 16,
   "metadata": {
    "ExecuteTime": {
     "end_time": "2020-04-28T02:42:43.643415Z",
     "start_time": "2020-04-28T02:42:13.976629Z"
    }
   },
   "outputs": [
    {
     "data": {
      "text/plain": [
       "(42840, 30490)"
      ]
     },
     "execution_count": 16,
     "metadata": {},
     "output_type": "execute_result"
    }
   ],
   "source": [
    "dummies_list = [sales.state_id, sales.store_id, \n",
    "                sales.cat_id, sales.dept_id, \n",
    "                sales.state_id + sales.cat_id, sales.state_id + sales.dept_id,\n",
    "                sales.store_id + sales.cat_id, sales.store_id + sales.dept_id, \n",
    "                sales.item_id, sales.state_id + sales.item_id, sales.id]\n",
    "\n",
    "\n",
    "## First element Level_0 aggregation 'all_sales':\n",
    "dummies_df_list =[pd.DataFrame(np.ones(sales.shape[0]).astype(np.int8), \n",
    "                               index=sales.index, columns=['all']).T]\n",
    "\n",
    "# List of dummy dataframes:\n",
    "for i, cats in enumerate(dummies_list):\n",
    "    dummies_df_list +=[pd.get_dummies(cats, drop_first=False).astype(np.int8).T]\n",
    "    \n",
    "# Concat dummy dataframes in one go:\n",
    "## Level is constructed for free.\n",
    "roll_mat_df = pd.concat(dummies_df_list, keys=list(range(12)), \n",
    "                        names=['level','id']).astype(np.int8, copy=False)\n",
    "\n",
    "# Save values as sparse matrix & save index for future reference:\n",
    "roll_index = roll_mat_df.index\n",
    "roll_mat_csr = csr_matrix(roll_mat_df.values)\n",
    "roll_mat_csr.shape"
   ]
  },
  {
   "cell_type": "code",
   "execution_count": 17,
   "metadata": {
    "ExecuteTime": {
     "end_time": "2020-04-28T02:42:43.656002Z",
     "start_time": "2020-04-28T02:42:43.647026Z"
    }
   },
   "outputs": [],
   "source": [
    "# Fucntion to calculate S weights:\n",
    "def get_s(drop_days=0):\n",
    "    \n",
    "    \"\"\"\n",
    "    drop_days: int, equals 0 by default, so S is calculated on all data.\n",
    "               If equals 28, last 28 days want be used in calculating S.\n",
    "    \"\"\"\n",
    "    \n",
    "    # Rollup sales:\n",
    "    d_name = ['d_' + str(i+1) for i in range(1913-drop_days)]\n",
    "    sales_train_val = roll_mat_csr * sales[d_name].values\n",
    "\n",
    "    # Find sales start index:\n",
    "    start_no = np.argmax(sales_train_val>0, axis=1)\n",
    "    \n",
    "    # Replace days less than min day number with np.nan:\n",
    "    # Next code line is super slow:\n",
    "    flag = np.dot(np.diag(1/(start_no+1)) , np.tile(np.arange(1,1914-drop_days),(roll_mat_csr.shape[0],1)))<1\n",
    "    sales_train_val = np.where(flag, np.nan, sales_train_val)\n",
    "\n",
    "    # Denominator of RMSSE / RMSSE\n",
    "    weight1 = np.nansum(np.diff(sales_train_val,axis=1)**2,axis=1)/(1913-start_no - 1)\n",
    "    \n",
    "    return weight1"
   ]
  },
  {
   "cell_type": "code",
   "execution_count": 18,
   "metadata": {
    "ExecuteTime": {
     "end_time": "2020-04-28T02:43:33.124990Z",
     "start_time": "2020-04-28T02:42:43.658390Z"
    }
   },
   "outputs": [
    {
     "data": {
      "text/plain": [
       "(42840,)"
      ]
     },
     "execution_count": 18,
     "metadata": {},
     "output_type": "execute_result"
    }
   ],
   "source": [
    "S = get_s(drop_days=0)\n",
    "S.shape"
   ]
  },
  {
   "cell_type": "code",
   "execution_count": 19,
   "metadata": {
    "ExecuteTime": {
     "end_time": "2020-04-28T02:43:33.133795Z",
     "start_time": "2020-04-28T02:43:33.128469Z"
    }
   },
   "outputs": [],
   "source": [
    "def get_w(sale_usd):\n",
    "    \"\"\"\n",
    "    \"\"\"\n",
    "    # Calculate the total sales in USD for each item id:\n",
    "    total_sales_usd = sale_usd.groupby(['id'],sort=False)['sale_used'].apply(np.sum).values\n",
    "    \n",
    "    # Roll up total sales by ids to higher levels:\n",
    "    weight2 = roll_mat_csr * total_sales_usd\n",
    "    \n",
    "    return weight2/np.sum(weight2)"
   ]
  },
  {
   "cell_type": "code",
   "execution_count": 20,
   "metadata": {
    "ExecuteTime": {
     "end_time": "2020-04-28T02:43:43.278227Z",
     "start_time": "2020-04-28T02:43:33.137065Z"
    }
   },
   "outputs": [
    {
     "data": {
      "text/plain": [
       "(42840,)"
      ]
     },
     "execution_count": 20,
     "metadata": {},
     "output_type": "execute_result"
    }
   ],
   "source": [
    "W = get_w(data_for_weight[['id','sale_used']])\n",
    "W.shape"
   ]
  },
  {
   "cell_type": "code",
   "execution_count": 21,
   "metadata": {
    "ExecuteTime": {
     "end_time": "2020-04-28T02:43:43.286557Z",
     "start_time": "2020-04-28T02:43:43.282848Z"
    }
   },
   "outputs": [],
   "source": [
    "SW = W/np.sqrt(S)"
   ]
  },
  {
   "cell_type": "code",
   "execution_count": 22,
   "metadata": {
    "ExecuteTime": {
     "end_time": "2020-04-28T02:43:43.301416Z",
     "start_time": "2020-04-28T02:43:43.289163Z"
    }
   },
   "outputs": [],
   "source": [
    "# Function to do quick rollups:\n",
    "def rollup(v):\n",
    "    '''\n",
    "    v - np.array of size (30490 rows, n day columns)\n",
    "    v_rolledup - array of size (n, 42840)\n",
    "    '''\n",
    "    return (v.T*roll_mat_csr.T).T\n",
    "\n",
    "\n",
    "# Function to calculate WRMSSE:\n",
    "def wrmsse(preds, y_true, score_only=False, s = S, w = W, sw=SW):\n",
    "    '''\n",
    "    preds - Predictions: pd.DataFrame of size (30490 rows, N day columns)\n",
    "    y_true - True values: pd.DataFrame of size (30490 rows, N day columns)\n",
    "    sequence_length - np.array of size (42840,)\n",
    "    sales_weight - sales weights based on last 28 days: np.array (42840,)\n",
    "    '''\n",
    "    \n",
    "    if score_only:\n",
    "        return np.sum(\n",
    "                np.sqrt(\n",
    "                    np.mean(\n",
    "                        np.square(rollup(preds.values-y_true.values))\n",
    "                            ,axis=1)) * sw)\n",
    "    else: \n",
    "        score_matrix = (np.square(rollup(preds.values-y_true.values)) * np.square(w)[:, None]) / s[:, None]\n",
    "        score = np.sum(np.sqrt(np.mean(score_matrix,axis=1)))\n",
    "        return score, score_matrix"
   ]
  },
  {
   "cell_type": "code",
   "execution_count": 23,
   "metadata": {
    "ExecuteTime": {
     "end_time": "2020-04-28T02:43:43.311873Z",
     "start_time": "2020-04-28T02:43:43.303918Z"
    }
   },
   "outputs": [],
   "source": [
    "class WRMSSE_Evalator_super_version():\n",
    "    def __init__(self,sw,roll_mat_csr):\n",
    "        self.sw = sw\n",
    "        self.roll_mat_csr = roll_mat_csr\n",
    "    def rollup(self,v):\n",
    "        '''\n",
    "        v - np.array of size (30490 rows, n day columns) start with h.... not food\n",
    "        v_rolledup - array of size (n, 42840)\n",
    "        '''\n",
    "        return (v.T*roll_mat_csr.T).T\n",
    "    def feval(self,y_true,y_pred):\n",
    "        \"\"\"\n",
    "        y_true,y_pred: np.ndarray\n",
    "        \"\"\"\n",
    "        return 'WRMSSE',np.sum(\n",
    "                np.sqrt(\n",
    "                    np.mean(\n",
    "                        np.square(self.rollup(y_pred.reshape(30490,-1,order = 'F')-y_true.reshape(30490,-1,order = 'F')))\n",
    "                            ,axis=1)) * self.sw),False"
   ]
  },
  {
   "cell_type": "code",
   "execution_count": 24,
   "metadata": {
    "ExecuteTime": {
     "end_time": "2020-04-28T02:43:43.317900Z",
     "start_time": "2020-04-28T02:43:43.314621Z"
    }
   },
   "outputs": [],
   "source": [
    "evaluator_super = WRMSSE_Evalator_super_version(sw = SW,roll_mat_csr=roll_mat_csr)"
   ]
  },
  {
   "cell_type": "markdown",
   "metadata": {},
   "source": [
    "#### my metric"
   ]
  },
  {
   "cell_type": "markdown",
   "metadata": {},
   "source": [
    "### add features"
   ]
  },
  {
   "cell_type": "code",
   "execution_count": 25,
   "metadata": {
    "ExecuteTime": {
     "end_time": "2020-04-28T02:49:54.983152Z",
     "start_time": "2020-04-28T02:43:43.320569Z"
    }
   },
   "outputs": [],
   "source": [
    "train1 = pd.read_pickle('data_part1.pkl')\n",
    "train4 = pd.read_pickle('data_part4.pkl')\n",
    "#train5 = pd.read_pickle('data_part5.pkl')"
   ]
  },
  {
   "cell_type": "code",
   "execution_count": 26,
   "metadata": {
    "ExecuteTime": {
     "end_time": "2020-04-28T02:49:54.992845Z",
     "start_time": "2020-04-28T02:49:54.988030Z"
    }
   },
   "outputs": [
    {
     "name": "stdout",
     "output_type": "stream",
     "text": [
      "(60034810, 96)\n",
      "(60034810, 98)\n"
     ]
    }
   ],
   "source": [
    "print(train1.shape)\n",
    "print(train4.shape)\n",
    "#print(train5.shape)"
   ]
  },
  {
   "cell_type": "code",
   "execution_count": 27,
   "metadata": {
    "ExecuteTime": {
     "end_time": "2020-04-28T02:49:55.018848Z",
     "start_time": "2020-04-28T02:49:54.995186Z"
    }
   },
   "outputs": [],
   "source": [
    "cond4 = (train4.columns.str.endswith('_max'))|(train4.columns.str.endswith('_min'))|(train4.columns.str.endswith('_mean'))|(train4.columns.str.endswith('_std'))|(train4.columns.str.endswith('_median'))\n"
   ]
  },
  {
   "cell_type": "code",
   "execution_count": 37,
   "metadata": {
    "ExecuteTime": {
     "end_time": "2020-04-28T02:22:16.103864Z",
     "start_time": "2020-04-28T02:22:16.096481Z"
    }
   },
   "outputs": [],
   "source": [
    "cond5 = (train5.columns.str.endswith('_max'))|(train5.columns.str.endswith('_min'))|(train5.columns.str.endswith('_mean'))|(train5.columns.str.endswith('_std'))|(train5.columns.str.endswith('_median'))"
   ]
  },
  {
   "cell_type": "code",
   "execution_count": 28,
   "metadata": {
    "ExecuteTime": {
     "end_time": "2020-04-28T02:51:05.850163Z",
     "start_time": "2020-04-28T02:49:55.021251Z"
    }
   },
   "outputs": [
    {
     "name": "stdout",
     "output_type": "stream",
     "text": [
      "state_id_rolling_7_sale_mean\n",
      "state_id_rolling_7_sale_std\n",
      "state_id_rolling_7_sale_median\n",
      "state_id_rolling_7_sale_max\n",
      "state_id_rolling_7_sale_min\n",
      "state_id_rolling_14_sale_mean\n",
      "state_id_rolling_14_sale_std\n",
      "state_id_rolling_14_sale_median\n",
      "state_id_rolling_14_sale_max\n",
      "state_id_rolling_14_sale_min\n",
      "state_id_rolling_28_sale_mean\n",
      "state_id_rolling_28_sale_std\n",
      "state_id_rolling_28_sale_median\n",
      "state_id_rolling_28_sale_max\n",
      "state_id_rolling_28_sale_min\n",
      "store_id_rolling_7_sale_mean\n",
      "store_id_rolling_7_sale_std\n",
      "store_id_rolling_7_sale_median\n",
      "store_id_rolling_7_sale_max\n",
      "store_id_rolling_7_sale_min\n",
      "store_id_rolling_14_sale_mean\n",
      "store_id_rolling_14_sale_std\n",
      "store_id_rolling_14_sale_median\n",
      "store_id_rolling_14_sale_max\n",
      "store_id_rolling_14_sale_min\n",
      "store_id_rolling_28_sale_mean\n",
      "store_id_rolling_28_sale_std\n",
      "store_id_rolling_28_sale_median\n",
      "store_id_rolling_28_sale_max\n",
      "store_id_rolling_28_sale_min\n",
      "cat_id_rolling_7_sale_mean\n",
      "cat_id_rolling_7_sale_std\n",
      "cat_id_rolling_7_sale_median\n",
      "cat_id_rolling_7_sale_max\n",
      "cat_id_rolling_7_sale_min\n",
      "cat_id_rolling_14_sale_mean\n",
      "cat_id_rolling_14_sale_std\n",
      "cat_id_rolling_14_sale_median\n",
      "cat_id_rolling_14_sale_max\n",
      "cat_id_rolling_14_sale_min\n",
      "cat_id_rolling_28_sale_mean\n",
      "cat_id_rolling_28_sale_std\n",
      "cat_id_rolling_28_sale_median\n",
      "cat_id_rolling_28_sale_max\n",
      "cat_id_rolling_28_sale_min\n",
      "dept_id_rolling_7_sale_mean\n",
      "dept_id_rolling_7_sale_std\n",
      "dept_id_rolling_7_sale_median\n",
      "dept_id_rolling_7_sale_max\n",
      "dept_id_rolling_7_sale_min\n",
      "dept_id_rolling_14_sale_mean\n",
      "dept_id_rolling_14_sale_std\n",
      "dept_id_rolling_14_sale_median\n",
      "dept_id_rolling_14_sale_max\n",
      "dept_id_rolling_14_sale_min\n",
      "dept_id_rolling_28_sale_mean\n",
      "dept_id_rolling_28_sale_std\n",
      "dept_id_rolling_28_sale_median\n",
      "dept_id_rolling_28_sale_max\n",
      "dept_id_rolling_28_sale_min\n",
      "item_id_rolling_7_sale_mean\n",
      "item_id_rolling_7_sale_std\n",
      "item_id_rolling_7_sale_median\n",
      "item_id_rolling_7_sale_max\n",
      "item_id_rolling_7_sale_min\n",
      "item_id_rolling_14_sale_mean\n",
      "item_id_rolling_14_sale_std\n",
      "item_id_rolling_14_sale_median\n",
      "item_id_rolling_14_sale_max\n",
      "item_id_rolling_14_sale_min\n",
      "item_id_rolling_28_sale_mean\n",
      "item_id_rolling_28_sale_std\n",
      "item_id_rolling_28_sale_median\n",
      "item_id_rolling_28_sale_max\n",
      "item_id_rolling_28_sale_min\n"
     ]
    },
    {
     "data": {
      "text/plain": [
       "156"
      ]
     },
     "execution_count": 28,
     "metadata": {},
     "output_type": "execute_result"
    }
   ],
   "source": [
    "for _ in train4.columns[cond4]:\n",
    "    print(_)\n",
    "    train1[_] = train4[_]\n",
    "del train4\n",
    "gc.collect()"
   ]
  },
  {
   "cell_type": "code",
   "execution_count": null,
   "metadata": {
    "ExecuteTime": {
     "end_time": "2020-04-28T02:41:22.155405Z",
     "start_time": "2020-04-28T02:36:51.987Z"
    }
   },
   "outputs": [],
   "source": [
    "# for _ in train5.columns[cond5]:\n",
    "#     print(_)\n",
    "#     train1[_] = train5[_]\n",
    "#     train5.drop([_],axis=1)\n",
    "# del train5\n",
    "# gc.collect()"
   ]
  },
  {
   "cell_type": "code",
   "execution_count": 30,
   "metadata": {
    "ExecuteTime": {
     "end_time": "2020-04-28T02:54:33.046850Z",
     "start_time": "2020-04-28T02:51:12.534833Z"
    }
   },
   "outputs": [],
   "source": [
    "for _ in ['CA','TX','WI']:\n",
    "    train1.loc[train1.state_id==_,'snap'] = list(train1.loc[train1.state_id==_,f'snap_{_}'])"
   ]
  },
  {
   "cell_type": "code",
   "execution_count": 31,
   "metadata": {
    "ExecuteTime": {
     "end_time": "2020-04-28T02:54:33.055598Z",
     "start_time": "2020-04-28T02:54:33.050533Z"
    }
   },
   "outputs": [],
   "source": [
    "drop_col = ['day_num','date','wm_yr_wk','snap_CA','snap_TX','snap_WI','sale']\n",
    "cat_col = ['item_id','dept_id','cat_id','store_id','state_id','event_name_1', 'event_type_1', 'event_name_2', 'event_type_2','id']"
   ]
  },
  {
   "cell_type": "code",
   "execution_count": 32,
   "metadata": {
    "ExecuteTime": {
     "end_time": "2020-04-28T02:59:58.622484Z",
     "start_time": "2020-04-28T02:54:33.058232Z"
    }
   },
   "outputs": [
    {
     "name": "stdout",
     "output_type": "stream",
     "text": [
      "item_id\n",
      "dept_id\n",
      "cat_id\n",
      "store_id\n",
      "state_id\n",
      "event_name_1\n",
      "event_type_1\n",
      "event_name_2\n",
      "event_type_2\n",
      "id\n"
     ]
    }
   ],
   "source": [
    "for cat in cat_col:\n",
    "    lbl = preprocessing.LabelEncoder()\n",
    "    train1[cat] = lbl.fit_transform(train1[cat].astype(str))\n",
    "    print(cat)"
   ]
  },
  {
   "cell_type": "code",
   "execution_count": 33,
   "metadata": {
    "ExecuteTime": {
     "end_time": "2020-04-28T03:01:25.842489Z",
     "start_time": "2020-04-28T02:59:58.625604Z"
    }
   },
   "outputs": [],
   "source": [
    "train1.fillna(-999,inplace=True)"
   ]
  },
  {
   "cell_type": "code",
   "execution_count": 34,
   "metadata": {
    "ExecuteTime": {
     "end_time": "2020-04-28T03:01:25.851055Z",
     "start_time": "2020-04-28T03:01:25.845907Z"
    }
   },
   "outputs": [],
   "source": [
    "def func_custom_1_2(scalar):\n",
    "    if scalar ==0:\n",
    "        return 0\n",
    "    elif scalar <= 10**(-8):\n",
    "        return 10**4\n",
    "    else:\n",
    "        return scalar **(-1/2)"
   ]
  },
  {
   "cell_type": "code",
   "execution_count": 35,
   "metadata": {
    "ExecuteTime": {
     "end_time": "2020-04-28T03:01:25.919824Z",
     "start_time": "2020-04-28T03:01:25.853475Z"
    }
   },
   "outputs": [],
   "source": [
    "func1 = np.vectorize(func_custom_1_2)"
   ]
  },
  {
   "cell_type": "code",
   "execution_count": 36,
   "metadata": {
    "ExecuteTime": {
     "end_time": "2020-04-28T03:01:25.952268Z",
     "start_time": "2020-04-28T03:01:25.922943Z"
    }
   },
   "outputs": [],
   "source": [
    "def custom_obj(y_true, y_pred):\n",
    "    residual = (y_true - y_pred).astype(np.float128)\n",
    "    residual = residual.reshape((-1,30490)) \n",
    "    d = residual.shape[0]    \n",
    "    residual_42840 = residual * roll_mat_csr.T\n",
    "    mean_square_42840 = np.square(residual_42840).sum(axis = 0)\n",
    "    temp_1 = func1(mean_square_42840)\n",
    "    part1 = ((1/np.sqrt(S)) * temp_1)/np.sqrt(d)\n",
    "    part_all = np.multiply(part1,residual_42840) \n",
    "    grad = -(part_all * roll_mat_csr).reshape((-1))\n",
    "    hess_part1 = np.multiply(-(1/np.sqrt(S))/np.sqrt(d)*temp_1**3,np.square(residual_42840))\n",
    "    hess_part2 = (1/np.sqrt(S))/np.sqrt(d)*temp_1\n",
    "    hess = ((hess_part1 + hess_part2)*roll_mat_csr).reshape((-1))\n",
    "    return grad,hess"
   ]
  },
  {
   "cell_type": "code",
   "execution_count": 37,
   "metadata": {
    "ExecuteTime": {
     "end_time": "2020-04-28T03:01:25.967744Z",
     "start_time": "2020-04-28T03:01:25.957277Z"
    }
   },
   "outputs": [],
   "source": [
    "def rmse(y_true, y_pred):\n",
    "    return 'RMSE', np.sqrt(np.mean(np.power((y_pred) - (y_true), 2))), False"
   ]
  },
  {
   "cell_type": "markdown",
   "metadata": {},
   "source": [
    "#### fold1"
   ]
  },
  {
   "cell_type": "code",
   "execution_count": 39,
   "metadata": {
    "ExecuteTime": {
     "end_time": "2020-04-28T03:02:10.123534Z",
     "start_time": "2020-04-28T03:01:35.812553Z"
    }
   },
   "outputs": [],
   "source": [
    "X_train = train1[(train1.day_num<=1885)&(train1.day_num>=1885-1-364)&(train1.date!='2015-12-25')].drop(drop_col,axis=1).copy()\n",
    "y_train = train1.loc[(train1.day_num<=1885)&(train1.day_num>=1885-1-364)&(train1.date!='2015-12-25'),'sale']\n",
    "X_valid = train1[(train1.day_num<=1913)&(train1.day_num>=1886)].drop(drop_col,axis=1).copy()\n",
    "y_valid = train1.loc[(train1.day_num<=1913)&(train1.day_num>=1886),'sale']\n",
    "y_train[y_train==-999] = 0\n",
    "y_valid[y_valid==-999] = 0"
   ]
  },
  {
   "cell_type": "code",
   "execution_count": 40,
   "metadata": {
    "ExecuteTime": {
     "end_time": "2020-04-28T03:02:10.133204Z",
     "start_time": "2020-04-28T03:02:10.127408Z"
    }
   },
   "outputs": [],
   "source": [
    "lgb_re2 = lgb.LGBMRegressor(n_estimators=1000, random_state=51,subsample=0.8,\n",
    "                         colsample_bytree=0.8,learning_rate=0.05 ,importance_type = 'gain',\n",
    "                 max_depth = -1, num_leaves = 2**8-1,metric='None',bagging_freq=1,n_jobs=-1,\n",
    "                         first_metric_only = True,objective=custom_obj,min_data_in_leaf =  2**8-1)"
   ]
  },
  {
   "cell_type": "code",
   "execution_count": 41,
   "metadata": {
    "ExecuteTime": {
     "end_time": "2020-04-28T03:39:46.655476Z",
     "start_time": "2020-04-28T03:02:10.136024Z"
    },
    "scrolled": true
   },
   "outputs": [
    {
     "name": "stdout",
     "output_type": "stream",
     "text": [
      "Training until validation scores don't improve for 50 rounds\n",
      "[10]\tvalid_0's WRMSSE: 2.39383\tvalid_0's RMSE: 2.45954\n",
      "[20]\tvalid_0's WRMSSE: 1.1484\tvalid_0's RMSE: 2.03346\n",
      "[30]\tvalid_0's WRMSSE: 0.705997\tvalid_0's RMSE: 1.93085\n",
      "[40]\tvalid_0's WRMSSE: 0.581926\tvalid_0's RMSE: 1.90718\n",
      "[50]\tvalid_0's WRMSSE: 0.553732\tvalid_0's RMSE: 1.9013\n",
      "[60]\tvalid_0's WRMSSE: 0.545427\tvalid_0's RMSE: 1.89835\n",
      "[70]\tvalid_0's WRMSSE: 0.541784\tvalid_0's RMSE: 1.89753\n",
      "[80]\tvalid_0's WRMSSE: 0.54126\tvalid_0's RMSE: 1.89712\n",
      "[90]\tvalid_0's WRMSSE: 0.538332\tvalid_0's RMSE: 1.89603\n",
      "[100]\tvalid_0's WRMSSE: 0.539212\tvalid_0's RMSE: 1.89519\n",
      "[110]\tvalid_0's WRMSSE: 0.537804\tvalid_0's RMSE: 1.89441\n"
     ]
    },
    {
     "ename": "KeyboardInterrupt",
     "evalue": "",
     "output_type": "error",
     "traceback": [
      "\u001b[0;31m---------------------------------------------------------------------------\u001b[0m",
      "\u001b[0;31mKeyboardInterrupt\u001b[0m                         Traceback (most recent call last)",
      "\u001b[0;32m<ipython-input-41-3dd96afad38e>\u001b[0m in \u001b[0;36m<module>\u001b[0;34m\u001b[0m\n\u001b[1;32m      1\u001b[0m lgb_re2.fit(X_train,y_train,eval_set = [(X_valid,y_valid)],verbose=10,\n\u001b[1;32m      2\u001b[0m            \u001b[0meval_metric\u001b[0m \u001b[0;34m=\u001b[0m\u001b[0;32mlambda\u001b[0m \u001b[0my_true\u001b[0m\u001b[0;34m,\u001b[0m \u001b[0my_pred\u001b[0m\u001b[0;34m:\u001b[0m \u001b[0;34m[\u001b[0m\u001b[0mevaluator_super\u001b[0m\u001b[0;34m.\u001b[0m\u001b[0mfeval\u001b[0m\u001b[0;34m(\u001b[0m\u001b[0my_true\u001b[0m\u001b[0;34m,\u001b[0m \u001b[0my_pred\u001b[0m\u001b[0;34m)\u001b[0m\u001b[0;34m,\u001b[0m \u001b[0mrmse\u001b[0m\u001b[0;34m(\u001b[0m\u001b[0my_true\u001b[0m\u001b[0;34m,\u001b[0m \u001b[0my_pred\u001b[0m\u001b[0;34m)\u001b[0m\u001b[0;34m]\u001b[0m\u001b[0;34m,\u001b[0m\u001b[0;34m\u001b[0m\u001b[0;34m\u001b[0m\u001b[0m\n\u001b[0;32m----> 3\u001b[0;31m            early_stopping_rounds=50)#,categorical_feature=cat_col)\n\u001b[0m",
      "\u001b[0;32m/opt/conda/lib/python3.7/site-packages/lightgbm/sklearn.py\u001b[0m in \u001b[0;36mfit\u001b[0;34m(self, X, y, sample_weight, init_score, eval_set, eval_names, eval_sample_weight, eval_init_score, eval_metric, early_stopping_rounds, verbose, feature_name, categorical_feature, callbacks)\u001b[0m\n\u001b[1;32m    741\u001b[0m                                        \u001b[0mverbose\u001b[0m\u001b[0;34m=\u001b[0m\u001b[0mverbose\u001b[0m\u001b[0;34m,\u001b[0m \u001b[0mfeature_name\u001b[0m\u001b[0;34m=\u001b[0m\u001b[0mfeature_name\u001b[0m\u001b[0;34m,\u001b[0m\u001b[0;34m\u001b[0m\u001b[0;34m\u001b[0m\u001b[0m\n\u001b[1;32m    742\u001b[0m                                        \u001b[0mcategorical_feature\u001b[0m\u001b[0;34m=\u001b[0m\u001b[0mcategorical_feature\u001b[0m\u001b[0;34m,\u001b[0m\u001b[0;34m\u001b[0m\u001b[0;34m\u001b[0m\u001b[0m\n\u001b[0;32m--> 743\u001b[0;31m                                        callbacks=callbacks)\n\u001b[0m\u001b[1;32m    744\u001b[0m         \u001b[0;32mreturn\u001b[0m \u001b[0mself\u001b[0m\u001b[0;34m\u001b[0m\u001b[0;34m\u001b[0m\u001b[0m\n\u001b[1;32m    745\u001b[0m \u001b[0;34m\u001b[0m\u001b[0m\n",
      "\u001b[0;32m/opt/conda/lib/python3.7/site-packages/lightgbm/sklearn.py\u001b[0m in \u001b[0;36mfit\u001b[0;34m(self, X, y, sample_weight, init_score, group, eval_set, eval_names, eval_sample_weight, eval_class_weight, eval_init_score, eval_group, eval_metric, early_stopping_rounds, verbose, feature_name, categorical_feature, callbacks)\u001b[0m\n\u001b[1;32m    598\u001b[0m                               \u001b[0mverbose_eval\u001b[0m\u001b[0;34m=\u001b[0m\u001b[0mverbose\u001b[0m\u001b[0;34m,\u001b[0m \u001b[0mfeature_name\u001b[0m\u001b[0;34m=\u001b[0m\u001b[0mfeature_name\u001b[0m\u001b[0;34m,\u001b[0m\u001b[0;34m\u001b[0m\u001b[0;34m\u001b[0m\u001b[0m\n\u001b[1;32m    599\u001b[0m                               \u001b[0mcategorical_feature\u001b[0m\u001b[0;34m=\u001b[0m\u001b[0mcategorical_feature\u001b[0m\u001b[0;34m,\u001b[0m\u001b[0;34m\u001b[0m\u001b[0;34m\u001b[0m\u001b[0m\n\u001b[0;32m--> 600\u001b[0;31m                               callbacks=callbacks)\n\u001b[0m\u001b[1;32m    601\u001b[0m \u001b[0;34m\u001b[0m\u001b[0m\n\u001b[1;32m    602\u001b[0m         \u001b[0;32mif\u001b[0m \u001b[0mevals_result\u001b[0m\u001b[0;34m:\u001b[0m\u001b[0;34m\u001b[0m\u001b[0;34m\u001b[0m\u001b[0m\n",
      "\u001b[0;32m/opt/conda/lib/python3.7/site-packages/lightgbm/engine.py\u001b[0m in \u001b[0;36mtrain\u001b[0;34m(params, train_set, num_boost_round, valid_sets, valid_names, fobj, feval, init_model, feature_name, categorical_feature, early_stopping_rounds, evals_result, verbose_eval, learning_rates, keep_training_booster, callbacks)\u001b[0m\n\u001b[1;32m    247\u001b[0m                                     evaluation_result_list=None))\n\u001b[1;32m    248\u001b[0m \u001b[0;34m\u001b[0m\u001b[0m\n\u001b[0;32m--> 249\u001b[0;31m         \u001b[0mbooster\u001b[0m\u001b[0;34m.\u001b[0m\u001b[0mupdate\u001b[0m\u001b[0;34m(\u001b[0m\u001b[0mfobj\u001b[0m\u001b[0;34m=\u001b[0m\u001b[0mfobj\u001b[0m\u001b[0;34m)\u001b[0m\u001b[0;34m\u001b[0m\u001b[0;34m\u001b[0m\u001b[0m\n\u001b[0m\u001b[1;32m    250\u001b[0m \u001b[0;34m\u001b[0m\u001b[0m\n\u001b[1;32m    251\u001b[0m         \u001b[0mevaluation_result_list\u001b[0m \u001b[0;34m=\u001b[0m \u001b[0;34m[\u001b[0m\u001b[0;34m]\u001b[0m\u001b[0;34m\u001b[0m\u001b[0;34m\u001b[0m\u001b[0m\n",
      "\u001b[0;32m/opt/conda/lib/python3.7/site-packages/lightgbm/basic.py\u001b[0m in \u001b[0;36mupdate\u001b[0;34m(self, train_set, fobj)\u001b[0m\n\u001b[1;32m   1981\u001b[0m                 \u001b[0mself\u001b[0m\u001b[0;34m.\u001b[0m\u001b[0mreset_parameter\u001b[0m\u001b[0;34m(\u001b[0m\u001b[0;34m{\u001b[0m\u001b[0;34m\"objective\"\u001b[0m\u001b[0;34m:\u001b[0m \u001b[0;34m\"none\"\u001b[0m\u001b[0;34m}\u001b[0m\u001b[0;34m)\u001b[0m\u001b[0;34m.\u001b[0m\u001b[0m__set_objective_to_none\u001b[0m \u001b[0;34m=\u001b[0m \u001b[0;32mTrue\u001b[0m\u001b[0;34m\u001b[0m\u001b[0;34m\u001b[0m\u001b[0m\n\u001b[1;32m   1982\u001b[0m             \u001b[0mgrad\u001b[0m\u001b[0;34m,\u001b[0m \u001b[0mhess\u001b[0m \u001b[0;34m=\u001b[0m \u001b[0mfobj\u001b[0m\u001b[0;34m(\u001b[0m\u001b[0mself\u001b[0m\u001b[0;34m.\u001b[0m\u001b[0m__inner_predict\u001b[0m\u001b[0;34m(\u001b[0m\u001b[0;36m0\u001b[0m\u001b[0;34m)\u001b[0m\u001b[0;34m,\u001b[0m \u001b[0mself\u001b[0m\u001b[0;34m.\u001b[0m\u001b[0mtrain_set\u001b[0m\u001b[0;34m)\u001b[0m\u001b[0;34m\u001b[0m\u001b[0;34m\u001b[0m\u001b[0m\n\u001b[0;32m-> 1983\u001b[0;31m             \u001b[0;32mreturn\u001b[0m \u001b[0mself\u001b[0m\u001b[0;34m.\u001b[0m\u001b[0m__boost\u001b[0m\u001b[0;34m(\u001b[0m\u001b[0mgrad\u001b[0m\u001b[0;34m,\u001b[0m \u001b[0mhess\u001b[0m\u001b[0;34m)\u001b[0m\u001b[0;34m\u001b[0m\u001b[0;34m\u001b[0m\u001b[0m\n\u001b[0m\u001b[1;32m   1984\u001b[0m \u001b[0;34m\u001b[0m\u001b[0m\n\u001b[1;32m   1985\u001b[0m     \u001b[0;32mdef\u001b[0m \u001b[0m__boost\u001b[0m\u001b[0;34m(\u001b[0m\u001b[0mself\u001b[0m\u001b[0;34m,\u001b[0m \u001b[0mgrad\u001b[0m\u001b[0;34m,\u001b[0m \u001b[0mhess\u001b[0m\u001b[0;34m)\u001b[0m\u001b[0;34m:\u001b[0m\u001b[0;34m\u001b[0m\u001b[0;34m\u001b[0m\u001b[0m\n",
      "\u001b[0;32m/opt/conda/lib/python3.7/site-packages/lightgbm/basic.py\u001b[0m in \u001b[0;36m__boost\u001b[0;34m(self, grad, hess)\u001b[0m\n\u001b[1;32m   2016\u001b[0m             \u001b[0mgrad\u001b[0m\u001b[0;34m.\u001b[0m\u001b[0mctypes\u001b[0m\u001b[0;34m.\u001b[0m\u001b[0mdata_as\u001b[0m\u001b[0;34m(\u001b[0m\u001b[0mctypes\u001b[0m\u001b[0;34m.\u001b[0m\u001b[0mPOINTER\u001b[0m\u001b[0;34m(\u001b[0m\u001b[0mctypes\u001b[0m\u001b[0;34m.\u001b[0m\u001b[0mc_float\u001b[0m\u001b[0;34m)\u001b[0m\u001b[0;34m)\u001b[0m\u001b[0;34m,\u001b[0m\u001b[0;34m\u001b[0m\u001b[0;34m\u001b[0m\u001b[0m\n\u001b[1;32m   2017\u001b[0m             \u001b[0mhess\u001b[0m\u001b[0;34m.\u001b[0m\u001b[0mctypes\u001b[0m\u001b[0;34m.\u001b[0m\u001b[0mdata_as\u001b[0m\u001b[0;34m(\u001b[0m\u001b[0mctypes\u001b[0m\u001b[0;34m.\u001b[0m\u001b[0mPOINTER\u001b[0m\u001b[0;34m(\u001b[0m\u001b[0mctypes\u001b[0m\u001b[0;34m.\u001b[0m\u001b[0mc_float\u001b[0m\u001b[0;34m)\u001b[0m\u001b[0;34m)\u001b[0m\u001b[0;34m,\u001b[0m\u001b[0;34m\u001b[0m\u001b[0;34m\u001b[0m\u001b[0m\n\u001b[0;32m-> 2018\u001b[0;31m             ctypes.byref(is_finished)))\n\u001b[0m\u001b[1;32m   2019\u001b[0m         \u001b[0mself\u001b[0m\u001b[0;34m.\u001b[0m\u001b[0m__is_predicted_cur_iter\u001b[0m \u001b[0;34m=\u001b[0m \u001b[0;34m[\u001b[0m\u001b[0;32mFalse\u001b[0m \u001b[0;32mfor\u001b[0m \u001b[0m_\u001b[0m \u001b[0;32min\u001b[0m \u001b[0mrange_\u001b[0m\u001b[0;34m(\u001b[0m\u001b[0mself\u001b[0m\u001b[0;34m.\u001b[0m\u001b[0m__num_dataset\u001b[0m\u001b[0;34m)\u001b[0m\u001b[0;34m]\u001b[0m\u001b[0;34m\u001b[0m\u001b[0;34m\u001b[0m\u001b[0m\n\u001b[1;32m   2020\u001b[0m         \u001b[0;32mreturn\u001b[0m \u001b[0mis_finished\u001b[0m\u001b[0;34m.\u001b[0m\u001b[0mvalue\u001b[0m \u001b[0;34m==\u001b[0m \u001b[0;36m1\u001b[0m\u001b[0;34m\u001b[0m\u001b[0;34m\u001b[0m\u001b[0m\n",
      "\u001b[0;31mKeyboardInterrupt\u001b[0m: "
     ]
    }
   ],
   "source": [
    "lgb_re2.fit(X_train,y_train,eval_set = [(X_valid,y_valid)],verbose=10,\n",
    "           eval_metric =lambda y_true, y_pred: [evaluator_super.feval(y_true, y_pred), rmse(y_true, y_pred)],\n",
    "           early_stopping_rounds=50)#,categorical_feature=cat_col)"
   ]
  },
  {
   "cell_type": "code",
   "execution_count": 40,
   "metadata": {
    "ExecuteTime": {
     "end_time": "2020-04-27T07:18:34.048051Z",
     "start_time": "2020-04-27T07:18:34.032903Z"
    },
    "scrolled": true
   },
   "outputs": [
    {
     "data": {
      "text/html": [
       "<div>\n",
       "<style scoped>\n",
       "    .dataframe tbody tr th:only-of-type {\n",
       "        vertical-align: middle;\n",
       "    }\n",
       "\n",
       "    .dataframe tbody tr th {\n",
       "        vertical-align: top;\n",
       "    }\n",
       "\n",
       "    .dataframe thead th {\n",
       "        text-align: right;\n",
       "    }\n",
       "</style>\n",
       "<table border=\"1\" class=\"dataframe\">\n",
       "  <thead>\n",
       "    <tr style=\"text-align: right;\">\n",
       "      <th></th>\n",
       "      <th>0</th>\n",
       "    </tr>\n",
       "  </thead>\n",
       "  <tbody>\n",
       "    <tr>\n",
       "      <th>rolling_id_non_zero_mean_7</th>\n",
       "      <td>261.665622</td>\n",
       "    </tr>\n",
       "    <tr>\n",
       "      <th>rolling_id_non_zero_std_7</th>\n",
       "      <td>75.702637</td>\n",
       "    </tr>\n",
       "    <tr>\n",
       "      <th>rolling_id_non_zero_quantile25_7</th>\n",
       "      <td>102.048913</td>\n",
       "    </tr>\n",
       "    <tr>\n",
       "      <th>rolling_id_non_zero_quantile75_7</th>\n",
       "      <td>144.286515</td>\n",
       "    </tr>\n",
       "    <tr>\n",
       "      <th>rolling_id_non_zero_max_7</th>\n",
       "      <td>36.686820</td>\n",
       "    </tr>\n",
       "    <tr>\n",
       "      <th>rolling_id_non_zero_min_7</th>\n",
       "      <td>25.019205</td>\n",
       "    </tr>\n",
       "    <tr>\n",
       "      <th>rolling_sale_zero_trans_7</th>\n",
       "      <td>71.542361</td>\n",
       "    </tr>\n",
       "    <tr>\n",
       "      <th>rolling_sale_zero_trans_14</th>\n",
       "      <td>700.089435</td>\n",
       "    </tr>\n",
       "    <tr>\n",
       "      <th>rolling_sale_zero_trans_28</th>\n",
       "      <td>389.540604</td>\n",
       "    </tr>\n",
       "    <tr>\n",
       "      <th>rolling_sale_zero_trans_56</th>\n",
       "      <td>961.806516</td>\n",
       "    </tr>\n",
       "    <tr>\n",
       "      <th>rolling_sale_ratio_zero_7</th>\n",
       "      <td>343.521630</td>\n",
       "    </tr>\n",
       "    <tr>\n",
       "      <th>rolling_sale_ratio_zero_14</th>\n",
       "      <td>65.927008</td>\n",
       "    </tr>\n",
       "    <tr>\n",
       "      <th>rolling_sale_ratio_zero_28</th>\n",
       "      <td>2113.103439</td>\n",
       "    </tr>\n",
       "    <tr>\n",
       "      <th>rolling_sale_ratio_zero_56</th>\n",
       "      <td>2426.918972</td>\n",
       "    </tr>\n",
       "  </tbody>\n",
       "</table>\n",
       "</div>"
      ],
      "text/plain": [
       "                                            0\n",
       "rolling_id_non_zero_mean_7         261.665622\n",
       "rolling_id_non_zero_std_7           75.702637\n",
       "rolling_id_non_zero_quantile25_7   102.048913\n",
       "rolling_id_non_zero_quantile75_7   144.286515\n",
       "rolling_id_non_zero_max_7           36.686820\n",
       "rolling_id_non_zero_min_7           25.019205\n",
       "rolling_sale_zero_trans_7           71.542361\n",
       "rolling_sale_zero_trans_14         700.089435\n",
       "rolling_sale_zero_trans_28         389.540604\n",
       "rolling_sale_zero_trans_56         961.806516\n",
       "rolling_sale_ratio_zero_7          343.521630\n",
       "rolling_sale_ratio_zero_14          65.927008\n",
       "rolling_sale_ratio_zero_28        2113.103439\n",
       "rolling_sale_ratio_zero_56        2426.918972"
      ]
     },
     "execution_count": 40,
     "metadata": {},
     "output_type": "execute_result"
    }
   ],
   "source": [
    "pd.DataFrame(lgb_re2.feature_importances_,index=X_train.columns).sort_values(0,ascending=False).loc[['rolling_id_non_zero_mean_7', 'rolling_id_non_zero_std_7',\n",
    "       'rolling_id_non_zero_quantile25_7', 'rolling_id_non_zero_quantile75_7',\n",
    "       'rolling_id_non_zero_max_7', 'rolling_id_non_zero_min_7',\n",
    "       'rolling_sale_zero_trans_7', 'rolling_sale_zero_trans_14',\n",
    "       'rolling_sale_zero_trans_28', 'rolling_sale_zero_trans_56',\n",
    "       'rolling_sale_ratio_zero_7', 'rolling_sale_ratio_zero_14',\n",
    "       'rolling_sale_ratio_zero_28', 'rolling_sale_ratio_zero_56']]"
   ]
  },
  {
   "cell_type": "code",
   "execution_count": 41,
   "metadata": {
    "ExecuteTime": {
     "end_time": "2020-04-27T07:18:56.324549Z",
     "start_time": "2020-04-27T07:18:56.306171Z"
    }
   },
   "outputs": [
    {
     "data": {
      "text/html": [
       "<div>\n",
       "<style scoped>\n",
       "    .dataframe tbody tr th:only-of-type {\n",
       "        vertical-align: middle;\n",
       "    }\n",
       "\n",
       "    .dataframe tbody tr th {\n",
       "        vertical-align: top;\n",
       "    }\n",
       "\n",
       "    .dataframe thead th {\n",
       "        text-align: right;\n",
       "    }\n",
       "</style>\n",
       "<table border=\"1\" class=\"dataframe\">\n",
       "  <thead>\n",
       "    <tr style=\"text-align: right;\">\n",
       "      <th></th>\n",
       "      <th>0</th>\n",
       "    </tr>\n",
       "  </thead>\n",
       "  <tbody>\n",
       "    <tr>\n",
       "      <th>rolling_sale_28_mean</th>\n",
       "      <td>120904.455225</td>\n",
       "    </tr>\n",
       "    <tr>\n",
       "      <th>rolling_sale_14_mean</th>\n",
       "      <td>31834.401007</td>\n",
       "    </tr>\n",
       "    <tr>\n",
       "      <th>rolling_sale_7_mean</th>\n",
       "      <td>17581.530088</td>\n",
       "    </tr>\n",
       "    <tr>\n",
       "      <th>rolling_sale_dayofweek_52_mean</th>\n",
       "      <td>4338.107614</td>\n",
       "    </tr>\n",
       "    <tr>\n",
       "      <th>dayofweek</th>\n",
       "      <td>2722.952652</td>\n",
       "    </tr>\n",
       "    <tr>\n",
       "      <th>rolling_sale_ratio_zero_56</th>\n",
       "      <td>2426.918972</td>\n",
       "    </tr>\n",
       "    <tr>\n",
       "      <th>rolling_sale_dayofweek_52_quantile75</th>\n",
       "      <td>2415.357305</td>\n",
       "    </tr>\n",
       "    <tr>\n",
       "      <th>lag_sale_1</th>\n",
       "      <td>2251.747651</td>\n",
       "    </tr>\n",
       "    <tr>\n",
       "      <th>rolling_sale_364_mean</th>\n",
       "      <td>2201.572040</td>\n",
       "    </tr>\n",
       "    <tr>\n",
       "      <th>rolling_sale_ratio_zero_28</th>\n",
       "      <td>2113.103439</td>\n",
       "    </tr>\n",
       "    <tr>\n",
       "      <th>rolling_sale_28_quantile75</th>\n",
       "      <td>1878.734326</td>\n",
       "    </tr>\n",
       "    <tr>\n",
       "      <th>rolling_sale_3_mean</th>\n",
       "      <td>1682.134741</td>\n",
       "    </tr>\n",
       "    <tr>\n",
       "      <th>rolling_sale_364_std</th>\n",
       "      <td>1432.492389</td>\n",
       "    </tr>\n",
       "    <tr>\n",
       "      <th>rolling_sale_dayofweek_24_quantile75</th>\n",
       "      <td>1425.583276</td>\n",
       "    </tr>\n",
       "    <tr>\n",
       "      <th>rolling_sale_zero_trans_56</th>\n",
       "      <td>961.806516</td>\n",
       "    </tr>\n",
       "    <tr>\n",
       "      <th>rolling_sale_91_mean</th>\n",
       "      <td>939.564395</td>\n",
       "    </tr>\n",
       "    <tr>\n",
       "      <th>rolling_sale_182_mean</th>\n",
       "      <td>838.255899</td>\n",
       "    </tr>\n",
       "    <tr>\n",
       "      <th>rolling_sale_7_median</th>\n",
       "      <td>732.955109</td>\n",
       "    </tr>\n",
       "    <tr>\n",
       "      <th>snap</th>\n",
       "      <td>720.599995</td>\n",
       "    </tr>\n",
       "    <tr>\n",
       "      <th>rolling_sale_zero_trans_14</th>\n",
       "      <td>700.089435</td>\n",
       "    </tr>\n",
       "    <tr>\n",
       "      <th>rolling_sale_dayofweek_24_mean</th>\n",
       "      <td>653.404564</td>\n",
       "    </tr>\n",
       "    <tr>\n",
       "      <th>rolling_sale_14_quantile75</th>\n",
       "      <td>631.509316</td>\n",
       "    </tr>\n",
       "    <tr>\n",
       "      <th>month</th>\n",
       "      <td>544.316808</td>\n",
       "    </tr>\n",
       "    <tr>\n",
       "      <th>rolling_sale_dayofweek_52_std</th>\n",
       "      <td>525.042001</td>\n",
       "    </tr>\n",
       "    <tr>\n",
       "      <th>rolling_sale_dayofweek_12_mean</th>\n",
       "      <td>502.758239</td>\n",
       "    </tr>\n",
       "    <tr>\n",
       "      <th>rolling_sale_7_std</th>\n",
       "      <td>491.187244</td>\n",
       "    </tr>\n",
       "    <tr>\n",
       "      <th>id</th>\n",
       "      <td>481.245135</td>\n",
       "    </tr>\n",
       "    <tr>\n",
       "      <th>rolling_sale_dayofweek_8_quantile75</th>\n",
       "      <td>476.260413</td>\n",
       "    </tr>\n",
       "    <tr>\n",
       "      <th>store_id</th>\n",
       "      <td>469.049243</td>\n",
       "    </tr>\n",
       "    <tr>\n",
       "      <th>item_id</th>\n",
       "      <td>431.295326</td>\n",
       "    </tr>\n",
       "    <tr>\n",
       "      <th>...</th>\n",
       "      <td>...</td>\n",
       "    </tr>\n",
       "    <tr>\n",
       "      <th>lag_sale_4</th>\n",
       "      <td>56.283359</td>\n",
       "    </tr>\n",
       "    <tr>\n",
       "      <th>year</th>\n",
       "      <td>55.512108</td>\n",
       "    </tr>\n",
       "    <tr>\n",
       "      <th>rolling_sale_dayofweek_12_cv</th>\n",
       "      <td>54.179976</td>\n",
       "    </tr>\n",
       "    <tr>\n",
       "      <th>rolling_sale_dayofweek_12_std</th>\n",
       "      <td>53.569474</td>\n",
       "    </tr>\n",
       "    <tr>\n",
       "      <th>rolling_sale_dayofweek_4_cv</th>\n",
       "      <td>51.165045</td>\n",
       "    </tr>\n",
       "    <tr>\n",
       "      <th>rolling_sale_182_quantile75</th>\n",
       "      <td>50.546561</td>\n",
       "    </tr>\n",
       "    <tr>\n",
       "      <th>state_id</th>\n",
       "      <td>50.332891</td>\n",
       "    </tr>\n",
       "    <tr>\n",
       "      <th>rolling_sale_dayofweek_8_cv</th>\n",
       "      <td>48.081737</td>\n",
       "    </tr>\n",
       "    <tr>\n",
       "      <th>lag_sale_5</th>\n",
       "      <td>45.914904</td>\n",
       "    </tr>\n",
       "    <tr>\n",
       "      <th>rolling_sale_14_quantile25</th>\n",
       "      <td>45.058623</td>\n",
       "    </tr>\n",
       "    <tr>\n",
       "      <th>rolling_sale_28_median</th>\n",
       "      <td>44.608981</td>\n",
       "    </tr>\n",
       "    <tr>\n",
       "      <th>rolling_sale_364_median</th>\n",
       "      <td>43.823010</td>\n",
       "    </tr>\n",
       "    <tr>\n",
       "      <th>rolling_sale_dayofweek_8_median</th>\n",
       "      <td>43.018917</td>\n",
       "    </tr>\n",
       "    <tr>\n",
       "      <th>rolling_sale_28_quantile25</th>\n",
       "      <td>42.111829</td>\n",
       "    </tr>\n",
       "    <tr>\n",
       "      <th>rolling_sale_182_median</th>\n",
       "      <td>40.418584</td>\n",
       "    </tr>\n",
       "    <tr>\n",
       "      <th>rolling_id_non_zero_max_7</th>\n",
       "      <td>36.686820</td>\n",
       "    </tr>\n",
       "    <tr>\n",
       "      <th>rolling_sale_dayofweek_8_quantile25</th>\n",
       "      <td>32.959740</td>\n",
       "    </tr>\n",
       "    <tr>\n",
       "      <th>rolling_sale_dayofweek_12_quantile25</th>\n",
       "      <td>32.426066</td>\n",
       "    </tr>\n",
       "    <tr>\n",
       "      <th>rolling_sale_91_median</th>\n",
       "      <td>32.164964</td>\n",
       "    </tr>\n",
       "    <tr>\n",
       "      <th>rolling_sale_dayofweek_24_median</th>\n",
       "      <td>31.386232</td>\n",
       "    </tr>\n",
       "    <tr>\n",
       "      <th>rolling_sale_182_quantile25</th>\n",
       "      <td>31.028683</td>\n",
       "    </tr>\n",
       "    <tr>\n",
       "      <th>quarter</th>\n",
       "      <td>26.509228</td>\n",
       "    </tr>\n",
       "    <tr>\n",
       "      <th>rolling_id_non_zero_min_7</th>\n",
       "      <td>25.019205</td>\n",
       "    </tr>\n",
       "    <tr>\n",
       "      <th>rolling_sale_dayofweek_52_quantile25</th>\n",
       "      <td>22.676713</td>\n",
       "    </tr>\n",
       "    <tr>\n",
       "      <th>rolling_sale_91_quantile25</th>\n",
       "      <td>22.204539</td>\n",
       "    </tr>\n",
       "    <tr>\n",
       "      <th>rolling_sale_364_quantile25</th>\n",
       "      <td>21.044309</td>\n",
       "    </tr>\n",
       "    <tr>\n",
       "      <th>cat_id</th>\n",
       "      <td>17.936406</td>\n",
       "    </tr>\n",
       "    <tr>\n",
       "      <th>rolling_sale_dayofweek_24_quantile25</th>\n",
       "      <td>16.815308</td>\n",
       "    </tr>\n",
       "    <tr>\n",
       "      <th>event_type_2</th>\n",
       "      <td>0.000000</td>\n",
       "    </tr>\n",
       "    <tr>\n",
       "      <th>event_name_2</th>\n",
       "      <td>0.000000</td>\n",
       "    </tr>\n",
       "  </tbody>\n",
       "</table>\n",
       "<p>104 rows × 1 columns</p>\n",
       "</div>"
      ],
      "text/plain": [
       "                                                  0\n",
       "rolling_sale_28_mean                  120904.455225\n",
       "rolling_sale_14_mean                   31834.401007\n",
       "rolling_sale_7_mean                    17581.530088\n",
       "rolling_sale_dayofweek_52_mean          4338.107614\n",
       "dayofweek                               2722.952652\n",
       "rolling_sale_ratio_zero_56              2426.918972\n",
       "rolling_sale_dayofweek_52_quantile75    2415.357305\n",
       "lag_sale_1                              2251.747651\n",
       "rolling_sale_364_mean                   2201.572040\n",
       "rolling_sale_ratio_zero_28              2113.103439\n",
       "rolling_sale_28_quantile75              1878.734326\n",
       "rolling_sale_3_mean                     1682.134741\n",
       "rolling_sale_364_std                    1432.492389\n",
       "rolling_sale_dayofweek_24_quantile75    1425.583276\n",
       "rolling_sale_zero_trans_56               961.806516\n",
       "rolling_sale_91_mean                     939.564395\n",
       "rolling_sale_182_mean                    838.255899\n",
       "rolling_sale_7_median                    732.955109\n",
       "snap                                     720.599995\n",
       "rolling_sale_zero_trans_14               700.089435\n",
       "rolling_sale_dayofweek_24_mean           653.404564\n",
       "rolling_sale_14_quantile75               631.509316\n",
       "month                                    544.316808\n",
       "rolling_sale_dayofweek_52_std            525.042001\n",
       "rolling_sale_dayofweek_12_mean           502.758239\n",
       "rolling_sale_7_std                       491.187244\n",
       "id                                       481.245135\n",
       "rolling_sale_dayofweek_8_quantile75      476.260413\n",
       "store_id                                 469.049243\n",
       "item_id                                  431.295326\n",
       "...                                             ...\n",
       "lag_sale_4                                56.283359\n",
       "year                                      55.512108\n",
       "rolling_sale_dayofweek_12_cv              54.179976\n",
       "rolling_sale_dayofweek_12_std             53.569474\n",
       "rolling_sale_dayofweek_4_cv               51.165045\n",
       "rolling_sale_182_quantile75               50.546561\n",
       "state_id                                  50.332891\n",
       "rolling_sale_dayofweek_8_cv               48.081737\n",
       "lag_sale_5                                45.914904\n",
       "rolling_sale_14_quantile25                45.058623\n",
       "rolling_sale_28_median                    44.608981\n",
       "rolling_sale_364_median                   43.823010\n",
       "rolling_sale_dayofweek_8_median           43.018917\n",
       "rolling_sale_28_quantile25                42.111829\n",
       "rolling_sale_182_median                   40.418584\n",
       "rolling_id_non_zero_max_7                 36.686820\n",
       "rolling_sale_dayofweek_8_quantile25       32.959740\n",
       "rolling_sale_dayofweek_12_quantile25      32.426066\n",
       "rolling_sale_91_median                    32.164964\n",
       "rolling_sale_dayofweek_24_median          31.386232\n",
       "rolling_sale_182_quantile25               31.028683\n",
       "quarter                                   26.509228\n",
       "rolling_id_non_zero_min_7                 25.019205\n",
       "rolling_sale_dayofweek_52_quantile25      22.676713\n",
       "rolling_sale_91_quantile25                22.204539\n",
       "rolling_sale_364_quantile25               21.044309\n",
       "cat_id                                    17.936406\n",
       "rolling_sale_dayofweek_24_quantile25      16.815308\n",
       "event_type_2                               0.000000\n",
       "event_name_2                               0.000000\n",
       "\n",
       "[104 rows x 1 columns]"
      ]
     },
     "execution_count": 41,
     "metadata": {},
     "output_type": "execute_result"
    }
   ],
   "source": [
    "pd.DataFrame(lgb_re2.feature_importances_,index=X_train.columns).sort_values(0,ascending=False)"
   ]
  },
  {
   "cell_type": "markdown",
   "metadata": {},
   "source": [
    "#### fold2"
   ]
  },
  {
   "cell_type": "code",
   "execution_count": null,
   "metadata": {},
   "outputs": [],
   "source": [
    "X_train = train1[(train1.day_num<=1885- 27)&(train1.day_num>=1885-1-364- 27)&(train1.date!='2015-12-25')&(train1.date!='2014-12-25')].drop(drop_col,axis=1).copy()\n",
    "y_train = train1.loc[(train1.day_num<=1885- 27)&(train1.day_num>=1885-1-364- 27)&(train1.date!='2015-12-25')&(train1.date!='2014-12-25'),'sale']\n",
    "X_valid = train1[(train1.day_num<=1913 - 27)&(train1.day_num>=1886- 27)].drop(drop_col,axis=1).copy()\n",
    "y_valid = train1.loc[(train1.day_num<=1913- 27)&(train1.day_num>=1886- 27),'sale']\n",
    "y_train[y_train==-999] = 0\n",
    "y_valid[y_valid==-999] = 0"
   ]
  },
  {
   "cell_type": "markdown",
   "metadata": {},
   "source": [
    "#### fold3"
   ]
  },
  {
   "cell_type": "code",
   "execution_count": 42,
   "metadata": {
    "ExecuteTime": {
     "end_time": "2020-04-27T07:20:22.143529Z",
     "start_time": "2020-04-27T07:19:57.749882Z"
    }
   },
   "outputs": [],
   "source": [
    "X_train = train1[(train1.day_num<=1913 - 365)&(train1.day_num>=1913 - 365 - 364)&(train1.date!='2015-12-25')&(train1.date!='2014-12-25')].drop(drop_col,axis=1).copy()\n",
    "y_train = train1.loc[(train1.day_num<=1913 - 365)&(train1.day_num>=1913 - 365 - 364)&(train1.date!='2015-12-25')&(train1.date!='2014-12-25'),'sale']\n",
    "X_valid = train1[(train1.day_num<=1969 - 365)&(train1.day_num>=1914 - 365)].drop(drop_col,axis=1).copy()\n",
    "y_valid = train1.loc[(train1.day_num<=1969 - 365)&(train1.day_num>=1914 - 365),'sale']\n",
    "y_train[y_train==-999] = 0\n",
    "y_valid[y_valid==-999] = 0"
   ]
  },
  {
   "cell_type": "code",
   "execution_count": 43,
   "metadata": {
    "ExecuteTime": {
     "end_time": "2020-04-27T07:20:22.157907Z",
     "start_time": "2020-04-27T07:20:22.147878Z"
    }
   },
   "outputs": [],
   "source": [
    "lgb_re2 = lgb.LGBMRegressor(n_estimators=1000, random_state=51,subsample=0.8,\n",
    "                         colsample_bytree=0.8,learning_rate=0.05 ,importance_type = 'gain',\n",
    "                 max_depth = -1, num_leaves = 2**8-1,metric='None',bagging_freq=1,n_jobs=12,\n",
    "                         first_metric_only = True,objective=custom_obj,min_data_in_leaf =  2**8-1)"
   ]
  },
  {
   "cell_type": "code",
   "execution_count": null,
   "metadata": {
    "ExecuteTime": {
     "start_time": "2020-04-27T07:20:05.709Z"
    }
   },
   "outputs": [
    {
     "name": "stdout",
     "output_type": "stream",
     "text": [
      "Training until validation scores don't improve for 50 rounds\n",
      "[10]\tvalid_0's WRMSSE: 2.19171\tvalid_0's RMSE: 2.55022\n",
      "[20]\tvalid_0's WRMSSE: 1.1347\tvalid_0's RMSE: 2.17706\n",
      "[30]\tvalid_0's WRMSSE: 0.741193\tvalid_0's RMSE: 2.07299\n",
      "[40]\tvalid_0's WRMSSE: 0.617495\tvalid_0's RMSE: 2.04253\n",
      "[50]\tvalid_0's WRMSSE: 0.575052\tvalid_0's RMSE: 2.0306\n",
      "[60]\tvalid_0's WRMSSE: 0.557291\tvalid_0's RMSE: 2.02407\n",
      "[70]\tvalid_0's WRMSSE: 0.545979\tvalid_0's RMSE: 2.01969\n",
      "[80]\tvalid_0's WRMSSE: 0.539343\tvalid_0's RMSE: 2.0158\n",
      "[90]\tvalid_0's WRMSSE: 0.535779\tvalid_0's RMSE: 2.01304\n",
      "[100]\tvalid_0's WRMSSE: 0.532817\tvalid_0's RMSE: 2.01098\n",
      "[110]\tvalid_0's WRMSSE: 0.530269\tvalid_0's RMSE: 2.00906\n",
      "[120]\tvalid_0's WRMSSE: 0.527545\tvalid_0's RMSE: 2.00724\n",
      "[130]\tvalid_0's WRMSSE: 0.525801\tvalid_0's RMSE: 2.00582\n",
      "[140]\tvalid_0's WRMSSE: 0.524013\tvalid_0's RMSE: 2.00479\n",
      "[150]\tvalid_0's WRMSSE: 0.523379\tvalid_0's RMSE: 2.00406\n",
      "[160]\tvalid_0's WRMSSE: 0.52224\tvalid_0's RMSE: 2.00369\n",
      "[170]\tvalid_0's WRMSSE: 0.521381\tvalid_0's RMSE: 2.00315\n",
      "[180]\tvalid_0's WRMSSE: 0.520645\tvalid_0's RMSE: 2.00228\n",
      "[190]\tvalid_0's WRMSSE: 0.519487\tvalid_0's RMSE: 2.00161\n",
      "[200]\tvalid_0's WRMSSE: 0.519474\tvalid_0's RMSE: 2.00137\n",
      "[210]\tvalid_0's WRMSSE: 0.517346\tvalid_0's RMSE: 2.00089\n",
      "[220]\tvalid_0's WRMSSE: 0.517393\tvalid_0's RMSE: 2.00057\n",
      "[230]\tvalid_0's WRMSSE: 0.516913\tvalid_0's RMSE: 1.99987\n",
      "[240]\tvalid_0's WRMSSE: 0.516703\tvalid_0's RMSE: 1.99947\n",
      "[250]\tvalid_0's WRMSSE: 0.516031\tvalid_0's RMSE: 1.99909\n",
      "[260]\tvalid_0's WRMSSE: 0.51573\tvalid_0's RMSE: 1.99875\n",
      "[270]\tvalid_0's WRMSSE: 0.51555\tvalid_0's RMSE: 1.99801\n",
      "[280]\tvalid_0's WRMSSE: 0.515514\tvalid_0's RMSE: 1.99745\n",
      "[290]\tvalid_0's WRMSSE: 0.515106\tvalid_0's RMSE: 1.99713\n"
     ]
    }
   ],
   "source": [
    "lgb_re2.fit(X_train,y_train,eval_set = [(X_valid,y_valid)],verbose=10,\n",
    "           eval_metric =lambda y_true, y_pred: [evaluator_super.feval(y_true, y_pred), rmse(y_true, y_pred)],\n",
    "           early_stopping_rounds=50)#,categorical_feature=cat_col)"
   ]
  },
  {
   "cell_type": "code",
   "execution_count": null,
   "metadata": {},
   "outputs": [],
   "source": []
  },
  {
   "cell_type": "markdown",
   "metadata": {},
   "source": [
    "### part5"
   ]
  },
  {
   "cell_type": "code",
   "execution_count": 1,
   "metadata": {
    "ExecuteTime": {
     "end_time": "2020-04-28T03:40:22.600824Z",
     "start_time": "2020-04-28T03:40:15.188831Z"
    }
   },
   "outputs": [],
   "source": [
    "import numpy as np\n",
    "import pandas as pd\n",
    "import seaborn as sns\n",
    "import matplotlib.pyplot as plt \n",
    "from sklearn import preprocessing\n",
    "from sklearn.preprocessing import LabelEncoder\n",
    "import catboost as cb\n",
    "import lightgbm as lgb\n",
    "from sklearn.ensemble import RandomForestClassifier\n",
    "from sklearn.model_selection import GridSearchCV, ShuffleSplit,StratifiedKFold,TimeSeriesSplit,KFold,GroupKFold,train_test_split,GroupShuffleSplit,StratifiedShuffleSplit\n",
    "from sklearn.metrics import roc_auc_score,mean_squared_error,mean_absolute_error,log_loss,confusion_matrix\n",
    "import sqlite3\n",
    "import xgboost as xgb\n",
    "import datetime\n",
    "from sklearn.linear_model import LogisticRegression\n",
    "from scipy.stats import pearsonr\n",
    "import gc\n",
    "from sklearn.model_selection import TimeSeriesSplit\n",
    "#from bayes_opt import BayesianOptimization\n",
    "import re\n",
    "from string import punctuation\n",
    "from scipy.spatial import Voronoi\n",
    "from scipy.spatial import ConvexHull\n",
    "from scipy.spatial import Delaunay\n",
    "from tqdm.notebook import tqdm\n",
    "from numba import jit\n",
    "from collections import Counter\n",
    "import json\n",
    "import joblib\n",
    "import multiprocessing\n",
    "import time\n",
    "from scipy.sparse import csr_matrix\n",
    "import gc"
   ]
  },
  {
   "cell_type": "code",
   "execution_count": 2,
   "metadata": {
    "ExecuteTime": {
     "end_time": "2020-04-28T03:40:22.701212Z",
     "start_time": "2020-04-28T03:40:22.604756Z"
    }
   },
   "outputs": [],
   "source": [
    "def reduce_mem_usage(df, verbose=True):\n",
    "    numerics = ['int32', 'int64', 'float64']\n",
    "    start_mem = df.memory_usage().sum() / 1024**2    \n",
    "    for col in df.columns:\n",
    "        col_type = df[col].dtypes\n",
    "        if col_type in numerics:\n",
    "            c_min = df[col].min()\n",
    "            c_max = df[col].max()\n",
    "            if str(col_type)[:3] == 'int':\n",
    "                if c_min > np.iinfo(np.int16).min and c_max < np.iinfo(np.int16).max:\n",
    "                    df[col] = df[col].astype(np.int16)\n",
    "                elif c_min > np.iinfo(np.int32).min and c_max < np.iinfo(np.int32).max:\n",
    "                    df[col] = df[col].astype(np.int32)\n",
    "                elif c_min > np.iinfo(np.int64).min and c_max < np.iinfo(np.int64).max:\n",
    "                    df[col] = df[col].astype(np.int64)  \n",
    "            else:\n",
    "                if c_min > np.finfo(np.float32).min and c_max < np.finfo(np.float32).max:\n",
    "                    df[col] = df[col].astype(np.float32)\n",
    "                else:\n",
    "                    df[col] = df[col].astype(np.float64)    \n",
    "    end_mem = df.memory_usage().sum() / 1024**2\n",
    "    if verbose: print('Mem. usage decreased to {:5.2f} Mb ({:.1f}% reduction)'.format(end_mem, 100 * (start_mem - end_mem) / start_mem))\n",
    "    return df"
   ]
  },
  {
   "cell_type": "code",
   "execution_count": 3,
   "metadata": {
    "ExecuteTime": {
     "end_time": "2020-04-28T03:40:39.384087Z",
     "start_time": "2020-04-28T03:40:22.704611Z"
    }
   },
   "outputs": [],
   "source": [
    "sample_submission = pd.read_csv('../data/sample_submission.csv')\n",
    "sell_prices = pd.read_csv('../data/sell_prices.csv')\n",
    "sales_train = pd.read_csv('../data/sales_train_validation.csv')\n",
    "calendar = pd.read_csv('../data/calendar.csv')"
   ]
  },
  {
   "cell_type": "code",
   "execution_count": 4,
   "metadata": {
    "ExecuteTime": {
     "end_time": "2020-04-28T03:40:59.882901Z",
     "start_time": "2020-04-28T03:40:39.390370Z"
    }
   },
   "outputs": [],
   "source": [
    "sales_train_long_format = pd.melt(sales_train,id_vars=['id','item_id','dept_id','cat_id','store_id','state_id'],var_name = 'day_num',value_name='sale')"
   ]
  },
  {
   "cell_type": "code",
   "execution_count": 5,
   "metadata": {
    "ExecuteTime": {
     "end_time": "2020-04-28T03:42:34.060077Z",
     "start_time": "2020-04-28T03:40:59.886684Z"
    }
   },
   "outputs": [],
   "source": [
    "def transform_day_to_num(str1):\n",
    "    return int(str1[2:])\n",
    "sales_train_long_format['day_num'] = sales_train_long_format['day_num'].map(transform_day_to_num)\n",
    "calendar['date'] = pd.to_datetime(calendar['date'])\n",
    "calendar['day_num'] = calendar['d'].map(transform_day_to_num)\n",
    "map_day_date = calendar[['date','day_num']].set_index('day_num')['date']\n",
    "sales_train_long_format['date'] = sales_train_long_format['day_num'].map(map_day_date)\n",
    "list1 = ['wm_yr_wk','event_name_1', 'event_type_1', 'event_name_2', 'event_type_2','snap_CA', 'snap_TX', 'snap_WI','day_num']\n",
    "sales_train_long_format = sales_train_long_format.merge(calendar[list1],on='day_num',how='left')"
   ]
  },
  {
   "cell_type": "code",
   "execution_count": 6,
   "metadata": {
    "ExecuteTime": {
     "end_time": "2020-04-28T03:43:30.992780Z",
     "start_time": "2020-04-28T03:42:34.064150Z"
    }
   },
   "outputs": [],
   "source": [
    "sales_train_long_format = sales_train_long_format.merge(sell_prices,how='left',on = ['store_id','item_id','wm_yr_wk'])\n",
    "#sales_train_long_format = reduce_mem_usage(sales_train_long_format)"
   ]
  },
  {
   "cell_type": "code",
   "execution_count": 7,
   "metadata": {
    "ExecuteTime": {
     "end_time": "2020-04-28T03:43:31.004019Z",
     "start_time": "2020-04-28T03:43:30.999044Z"
    }
   },
   "outputs": [],
   "source": [
    "# del sales_train_long_format\n",
    "# gc.collect()"
   ]
  },
  {
   "cell_type": "markdown",
   "metadata": {},
   "source": [
    "### metric\n",
    "#### fast metric"
   ]
  },
  {
   "cell_type": "code",
   "execution_count": 8,
   "metadata": {
    "ExecuteTime": {
     "end_time": "2020-04-28T03:44:09.527033Z",
     "start_time": "2020-04-28T03:43:31.009464Z"
    }
   },
   "outputs": [],
   "source": [
    "data_for_weight = sales_train_long_format[sales_train_long_format.day_num.between(1886,1913)].copy()\n",
    "data_for_weight['sale_used'] = data_for_weight['sale'] * data_for_weight['sell_price']\n",
    "sales = pd.read_csv('../data/sales_train_validation.csv')"
   ]
  },
  {
   "cell_type": "code",
   "execution_count": 9,
   "metadata": {
    "ExecuteTime": {
     "end_time": "2020-04-28T03:44:33.900884Z",
     "start_time": "2020-04-28T03:44:09.531453Z"
    }
   },
   "outputs": [
    {
     "data": {
      "text/plain": [
       "(42840, 30490)"
      ]
     },
     "execution_count": 9,
     "metadata": {},
     "output_type": "execute_result"
    }
   ],
   "source": [
    "dummies_list = [sales.state_id, sales.store_id, \n",
    "                sales.cat_id, sales.dept_id, \n",
    "                sales.state_id + sales.cat_id, sales.state_id + sales.dept_id,\n",
    "                sales.store_id + sales.cat_id, sales.store_id + sales.dept_id, \n",
    "                sales.item_id, sales.state_id + sales.item_id, sales.id]\n",
    "\n",
    "\n",
    "## First element Level_0 aggregation 'all_sales':\n",
    "dummies_df_list =[pd.DataFrame(np.ones(sales.shape[0]).astype(np.int8), \n",
    "                               index=sales.index, columns=['all']).T]\n",
    "\n",
    "# List of dummy dataframes:\n",
    "for i, cats in enumerate(dummies_list):\n",
    "    dummies_df_list +=[pd.get_dummies(cats, drop_first=False).astype(np.int8).T]\n",
    "    \n",
    "# Concat dummy dataframes in one go:\n",
    "## Level is constructed for free.\n",
    "roll_mat_df = pd.concat(dummies_df_list, keys=list(range(12)), \n",
    "                        names=['level','id']).astype(np.int8, copy=False)\n",
    "\n",
    "# Save values as sparse matrix & save index for future reference:\n",
    "roll_index = roll_mat_df.index\n",
    "roll_mat_csr = csr_matrix(roll_mat_df.values)\n",
    "roll_mat_csr.shape"
   ]
  },
  {
   "cell_type": "code",
   "execution_count": 10,
   "metadata": {
    "ExecuteTime": {
     "end_time": "2020-04-28T03:44:33.916654Z",
     "start_time": "2020-04-28T03:44:33.904926Z"
    }
   },
   "outputs": [],
   "source": [
    "# Fucntion to calculate S weights:\n",
    "def get_s(drop_days=0):\n",
    "    \n",
    "    \"\"\"\n",
    "    drop_days: int, equals 0 by default, so S is calculated on all data.\n",
    "               If equals 28, last 28 days want be used in calculating S.\n",
    "    \"\"\"\n",
    "    \n",
    "    # Rollup sales:\n",
    "    d_name = ['d_' + str(i+1) for i in range(1913-drop_days)]\n",
    "    sales_train_val = roll_mat_csr * sales[d_name].values\n",
    "\n",
    "    # Find sales start index:\n",
    "    start_no = np.argmax(sales_train_val>0, axis=1)\n",
    "    \n",
    "    # Replace days less than min day number with np.nan:\n",
    "    # Next code line is super slow:\n",
    "    flag = np.dot(np.diag(1/(start_no+1)) , np.tile(np.arange(1,1914-drop_days),(roll_mat_csr.shape[0],1)))<1\n",
    "    sales_train_val = np.where(flag, np.nan, sales_train_val)\n",
    "\n",
    "    # Denominator of RMSSE / RMSSE\n",
    "    weight1 = np.nansum(np.diff(sales_train_val,axis=1)**2,axis=1)/(1913-start_no - 1)\n",
    "    \n",
    "    return weight1"
   ]
  },
  {
   "cell_type": "code",
   "execution_count": 11,
   "metadata": {
    "ExecuteTime": {
     "end_time": "2020-04-28T03:45:23.753598Z",
     "start_time": "2020-04-28T03:44:33.918979Z"
    }
   },
   "outputs": [
    {
     "data": {
      "text/plain": [
       "(42840,)"
      ]
     },
     "execution_count": 11,
     "metadata": {},
     "output_type": "execute_result"
    }
   ],
   "source": [
    "S = get_s(drop_days=0)\n",
    "S.shape"
   ]
  },
  {
   "cell_type": "code",
   "execution_count": 12,
   "metadata": {
    "ExecuteTime": {
     "end_time": "2020-04-28T03:45:23.762166Z",
     "start_time": "2020-04-28T03:45:23.757047Z"
    }
   },
   "outputs": [],
   "source": [
    "def get_w(sale_usd):\n",
    "    \"\"\"\n",
    "    \"\"\"\n",
    "    # Calculate the total sales in USD for each item id:\n",
    "    total_sales_usd = sale_usd.groupby(['id'],sort=False)['sale_used'].apply(np.sum).values\n",
    "    \n",
    "    # Roll up total sales by ids to higher levels:\n",
    "    weight2 = roll_mat_csr * total_sales_usd\n",
    "    \n",
    "    return weight2/np.sum(weight2)"
   ]
  },
  {
   "cell_type": "code",
   "execution_count": 13,
   "metadata": {
    "ExecuteTime": {
     "end_time": "2020-04-28T03:45:34.261476Z",
     "start_time": "2020-04-28T03:45:23.764529Z"
    }
   },
   "outputs": [
    {
     "data": {
      "text/plain": [
       "(42840,)"
      ]
     },
     "execution_count": 13,
     "metadata": {},
     "output_type": "execute_result"
    }
   ],
   "source": [
    "W = get_w(data_for_weight[['id','sale_used']])\n",
    "W.shape"
   ]
  },
  {
   "cell_type": "code",
   "execution_count": 14,
   "metadata": {
    "ExecuteTime": {
     "end_time": "2020-04-28T03:45:34.268179Z",
     "start_time": "2020-04-28T03:45:34.264532Z"
    }
   },
   "outputs": [],
   "source": [
    "SW = W/np.sqrt(S)"
   ]
  },
  {
   "cell_type": "code",
   "execution_count": 15,
   "metadata": {
    "ExecuteTime": {
     "end_time": "2020-04-28T03:45:34.279853Z",
     "start_time": "2020-04-28T03:45:34.270641Z"
    }
   },
   "outputs": [],
   "source": [
    "# Function to do quick rollups:\n",
    "def rollup(v):\n",
    "    '''\n",
    "    v - np.array of size (30490 rows, n day columns)\n",
    "    v_rolledup - array of size (n, 42840)\n",
    "    '''\n",
    "    return (v.T*roll_mat_csr.T).T\n",
    "\n",
    "\n",
    "# Function to calculate WRMSSE:\n",
    "def wrmsse(preds, y_true, score_only=False, s = S, w = W, sw=SW):\n",
    "    '''\n",
    "    preds - Predictions: pd.DataFrame of size (30490 rows, N day columns)\n",
    "    y_true - True values: pd.DataFrame of size (30490 rows, N day columns)\n",
    "    sequence_length - np.array of size (42840,)\n",
    "    sales_weight - sales weights based on last 28 days: np.array (42840,)\n",
    "    '''\n",
    "    \n",
    "    if score_only:\n",
    "        return np.sum(\n",
    "                np.sqrt(\n",
    "                    np.mean(\n",
    "                        np.square(rollup(preds.values-y_true.values))\n",
    "                            ,axis=1)) * sw)\n",
    "    else: \n",
    "        score_matrix = (np.square(rollup(preds.values-y_true.values)) * np.square(w)[:, None]) / s[:, None]\n",
    "        score = np.sum(np.sqrt(np.mean(score_matrix,axis=1)))\n",
    "        return score, score_matrix"
   ]
  },
  {
   "cell_type": "code",
   "execution_count": 16,
   "metadata": {
    "ExecuteTime": {
     "end_time": "2020-04-28T03:45:34.291814Z",
     "start_time": "2020-04-28T03:45:34.282482Z"
    }
   },
   "outputs": [],
   "source": [
    "class WRMSSE_Evalator_super_version():\n",
    "    def __init__(self,sw,roll_mat_csr):\n",
    "        self.sw = sw\n",
    "        self.roll_mat_csr = roll_mat_csr\n",
    "    def rollup(self,v):\n",
    "        '''\n",
    "        v - np.array of size (30490 rows, n day columns) start with h.... not food\n",
    "        v_rolledup - array of size (n, 42840)\n",
    "        '''\n",
    "        return (v.T*roll_mat_csr.T).T\n",
    "    def feval(self,y_true,y_pred):\n",
    "        \"\"\"\n",
    "        y_true,y_pred: np.ndarray\n",
    "        \"\"\"\n",
    "        return 'WRMSSE',np.sum(\n",
    "                np.sqrt(\n",
    "                    np.mean(\n",
    "                        np.square(self.rollup(y_pred.reshape(30490,-1,order = 'F')-y_true.reshape(30490,-1,order = 'F')))\n",
    "                            ,axis=1)) * self.sw),False"
   ]
  },
  {
   "cell_type": "code",
   "execution_count": 17,
   "metadata": {
    "ExecuteTime": {
     "end_time": "2020-04-28T03:45:34.297428Z",
     "start_time": "2020-04-28T03:45:34.294216Z"
    }
   },
   "outputs": [],
   "source": [
    "evaluator_super = WRMSSE_Evalator_super_version(sw = SW,roll_mat_csr=roll_mat_csr)"
   ]
  },
  {
   "cell_type": "markdown",
   "metadata": {},
   "source": [
    "#### my metric"
   ]
  },
  {
   "cell_type": "markdown",
   "metadata": {},
   "source": [
    "### add features"
   ]
  },
  {
   "cell_type": "code",
   "execution_count": 18,
   "metadata": {
    "ExecuteTime": {
     "end_time": "2020-04-28T03:50:47.794954Z",
     "start_time": "2020-04-28T03:45:34.299803Z"
    }
   },
   "outputs": [],
   "source": [
    "train1 = pd.read_pickle('data_part1.pkl')\n",
    "#train4 = pd.read_pickle('data_part4.pkl')\n",
    "train5 = pd.read_pickle('data_part5.pkl')"
   ]
  },
  {
   "cell_type": "code",
   "execution_count": 34,
   "metadata": {
    "ExecuteTime": {
     "end_time": "2020-04-28T05:37:33.107551Z",
     "start_time": "2020-04-28T05:34:27.726192Z"
    }
   },
   "outputs": [],
   "source": [
    "train5 = pd.read_pickle('data_part5.pkl')"
   ]
  },
  {
   "cell_type": "code",
   "execution_count": 35,
   "metadata": {
    "ExecuteTime": {
     "end_time": "2020-04-28T05:39:48.083355Z",
     "start_time": "2020-04-28T05:38:19.148465Z"
    }
   },
   "outputs": [
    {
     "data": {
      "text/html": [
       "<div>\n",
       "<style scoped>\n",
       "    .dataframe tbody tr th:only-of-type {\n",
       "        vertical-align: middle;\n",
       "    }\n",
       "\n",
       "    .dataframe tbody tr th {\n",
       "        vertical-align: top;\n",
       "    }\n",
       "\n",
       "    .dataframe thead th {\n",
       "        text-align: right;\n",
       "    }\n",
       "</style>\n",
       "<table border=\"1\" class=\"dataframe\">\n",
       "  <thead>\n",
       "    <tr style=\"text-align: right;\">\n",
       "      <th></th>\n",
       "      <th>id</th>\n",
       "      <th>day_num</th>\n",
       "    </tr>\n",
       "  </thead>\n",
       "  <tbody>\n",
       "    <tr>\n",
       "      <th>0</th>\n",
       "      <td>HOBBIES_1_001_CA_1_validation</td>\n",
       "      <td>1</td>\n",
       "    </tr>\n",
       "    <tr>\n",
       "      <th>1</th>\n",
       "      <td>HOBBIES_1_002_CA_1_validation</td>\n",
       "      <td>1</td>\n",
       "    </tr>\n",
       "    <tr>\n",
       "      <th>2</th>\n",
       "      <td>HOBBIES_1_003_CA_1_validation</td>\n",
       "      <td>1</td>\n",
       "    </tr>\n",
       "    <tr>\n",
       "      <th>3</th>\n",
       "      <td>HOBBIES_1_004_CA_1_validation</td>\n",
       "      <td>1</td>\n",
       "    </tr>\n",
       "    <tr>\n",
       "      <th>4</th>\n",
       "      <td>HOBBIES_1_005_CA_1_validation</td>\n",
       "      <td>1</td>\n",
       "    </tr>\n",
       "  </tbody>\n",
       "</table>\n",
       "</div>"
      ],
      "text/plain": [
       "                              id  day_num\n",
       "0  HOBBIES_1_001_CA_1_validation        1\n",
       "1  HOBBIES_1_002_CA_1_validation        1\n",
       "2  HOBBIES_1_003_CA_1_validation        1\n",
       "3  HOBBIES_1_004_CA_1_validation        1\n",
       "4  HOBBIES_1_005_CA_1_validation        1"
      ]
     },
     "execution_count": 35,
     "metadata": {},
     "output_type": "execute_result"
    }
   ],
   "source": [
    "train5[['id','day_num']].head()"
   ]
  },
  {
   "cell_type": "code",
   "execution_count": 36,
   "metadata": {
    "ExecuteTime": {
     "end_time": "2020-04-28T05:39:48.612652Z",
     "start_time": "2020-04-28T05:39:48.087531Z"
    }
   },
   "outputs": [
    {
     "data": {
      "text/html": [
       "<div>\n",
       "<style scoped>\n",
       "    .dataframe tbody tr th:only-of-type {\n",
       "        vertical-align: middle;\n",
       "    }\n",
       "\n",
       "    .dataframe tbody tr th {\n",
       "        vertical-align: top;\n",
       "    }\n",
       "\n",
       "    .dataframe thead th {\n",
       "        text-align: right;\n",
       "    }\n",
       "</style>\n",
       "<table border=\"1\" class=\"dataframe\">\n",
       "  <thead>\n",
       "    <tr style=\"text-align: right;\">\n",
       "      <th></th>\n",
       "      <th>id</th>\n",
       "      <th>day_num</th>\n",
       "    </tr>\n",
       "  </thead>\n",
       "  <tbody>\n",
       "    <tr>\n",
       "      <th>0</th>\n",
       "      <td>14370</td>\n",
       "      <td>1</td>\n",
       "    </tr>\n",
       "    <tr>\n",
       "      <th>1</th>\n",
       "      <td>14380</td>\n",
       "      <td>1</td>\n",
       "    </tr>\n",
       "    <tr>\n",
       "      <th>2</th>\n",
       "      <td>14390</td>\n",
       "      <td>1</td>\n",
       "    </tr>\n",
       "    <tr>\n",
       "      <th>3</th>\n",
       "      <td>14400</td>\n",
       "      <td>1</td>\n",
       "    </tr>\n",
       "    <tr>\n",
       "      <th>4</th>\n",
       "      <td>14410</td>\n",
       "      <td>1</td>\n",
       "    </tr>\n",
       "  </tbody>\n",
       "</table>\n",
       "</div>"
      ],
      "text/plain": [
       "      id  day_num\n",
       "0  14370        1\n",
       "1  14380        1\n",
       "2  14390        1\n",
       "3  14400        1\n",
       "4  14410        1"
      ]
     },
     "execution_count": 36,
     "metadata": {},
     "output_type": "execute_result"
    }
   ],
   "source": [
    "train1[['id','day_num']].head()"
   ]
  },
  {
   "cell_type": "code",
   "execution_count": 19,
   "metadata": {
    "ExecuteTime": {
     "end_time": "2020-04-28T03:50:47.806319Z",
     "start_time": "2020-04-28T03:50:47.799920Z"
    }
   },
   "outputs": [
    {
     "name": "stdout",
     "output_type": "stream",
     "text": [
      "(60034810, 96)\n",
      "(60034810, 68)\n"
     ]
    }
   ],
   "source": [
    "print(train1.shape)\n",
    "print(train5.shape)\n",
    "#print(train5.shape)"
   ]
  },
  {
   "cell_type": "code",
   "execution_count": 27,
   "metadata": {
    "ExecuteTime": {
     "end_time": "2020-04-28T02:49:55.018848Z",
     "start_time": "2020-04-28T02:49:54.995186Z"
    }
   },
   "outputs": [],
   "source": [
    "cond4 = (train4.columns.str.endswith('_max'))|(train4.columns.str.endswith('_min'))|(train4.columns.str.endswith('_mean'))|(train4.columns.str.endswith('_std'))|(train4.columns.str.endswith('_median'))\n"
   ]
  },
  {
   "cell_type": "code",
   "execution_count": 20,
   "metadata": {
    "ExecuteTime": {
     "end_time": "2020-04-28T03:50:47.856697Z",
     "start_time": "2020-04-28T03:50:47.809150Z"
    }
   },
   "outputs": [],
   "source": [
    "cond5 = (train5.columns.str.endswith('_max'))|(train5.columns.str.endswith('_min'))|(train5.columns.str.endswith('_mean'))|(train5.columns.str.endswith('_std'))|(train5.columns.str.endswith('_median'))"
   ]
  },
  {
   "cell_type": "code",
   "execution_count": 21,
   "metadata": {
    "ExecuteTime": {
     "end_time": "2020-04-28T03:51:57.042197Z",
     "start_time": "2020-04-28T03:50:47.860015Z"
    }
   },
   "outputs": [
    {
     "name": "stdout",
     "output_type": "stream",
     "text": [
      "state_id_cat_id_rolling_7_sale_mean\n",
      "state_id_cat_id_rolling_7_sale_std\n",
      "state_id_cat_id_rolling_7_sale_median\n",
      "state_id_cat_id_rolling_14_sale_mean\n",
      "state_id_cat_id_rolling_14_sale_std\n",
      "state_id_cat_id_rolling_14_sale_median\n",
      "state_id_cat_id_rolling_28_sale_mean\n",
      "state_id_cat_id_rolling_28_sale_std\n",
      "state_id_cat_id_rolling_28_sale_median\n",
      "state_id_dept_id_rolling_7_sale_mean\n",
      "state_id_dept_id_rolling_7_sale_std\n",
      "state_id_dept_id_rolling_7_sale_median\n",
      "state_id_dept_id_rolling_14_sale_mean\n",
      "state_id_dept_id_rolling_14_sale_std\n",
      "state_id_dept_id_rolling_14_sale_median\n",
      "state_id_dept_id_rolling_28_sale_mean\n",
      "state_id_dept_id_rolling_28_sale_std\n",
      "state_id_dept_id_rolling_28_sale_median\n",
      "state_id_item_id_rolling_7_sale_mean\n",
      "state_id_item_id_rolling_7_sale_std\n",
      "state_id_item_id_rolling_7_sale_median\n",
      "state_id_item_id_rolling_14_sale_mean\n",
      "state_id_item_id_rolling_14_sale_std\n",
      "state_id_item_id_rolling_14_sale_median\n",
      "state_id_item_id_rolling_28_sale_mean\n",
      "state_id_item_id_rolling_28_sale_std\n",
      "state_id_item_id_rolling_28_sale_median\n",
      "store_id_cat_id_rolling_7_sale_mean\n",
      "store_id_cat_id_rolling_7_sale_std\n",
      "store_id_cat_id_rolling_7_sale_median\n",
      "store_id_cat_id_rolling_14_sale_mean\n",
      "store_id_cat_id_rolling_14_sale_std\n",
      "store_id_cat_id_rolling_14_sale_median\n",
      "store_id_cat_id_rolling_28_sale_mean\n",
      "store_id_cat_id_rolling_28_sale_std\n",
      "store_id_cat_id_rolling_28_sale_median\n",
      "store_id_dept_id_rolling_7_sale_mean\n",
      "store_id_dept_id_rolling_7_sale_std\n",
      "store_id_dept_id_rolling_7_sale_median\n",
      "store_id_dept_id_rolling_14_sale_mean\n",
      "store_id_dept_id_rolling_14_sale_std\n",
      "store_id_dept_id_rolling_14_sale_median\n",
      "store_id_dept_id_rolling_28_sale_mean\n",
      "store_id_dept_id_rolling_28_sale_std\n",
      "store_id_dept_id_rolling_28_sale_median\n"
     ]
    },
    {
     "data": {
      "text/plain": [
       "191"
      ]
     },
     "execution_count": 21,
     "metadata": {},
     "output_type": "execute_result"
    }
   ],
   "source": [
    "for _ in train5.columns[cond5]:\n",
    "    print(_)\n",
    "    train1[_] = train5[_].copy()\n",
    "del train5\n",
    "gc.collect()"
   ]
  },
  {
   "cell_type": "code",
   "execution_count": null,
   "metadata": {
    "ExecuteTime": {
     "end_time": "2020-04-28T02:41:22.155405Z",
     "start_time": "2020-04-28T02:36:51.987Z"
    }
   },
   "outputs": [],
   "source": [
    "# for _ in train5.columns[cond5]:\n",
    "#     print(_)\n",
    "#     train1[_] = train5[_]\n",
    "#     train5.drop([_],axis=1)\n",
    "# del train5\n",
    "# gc.collect()"
   ]
  },
  {
   "cell_type": "code",
   "execution_count": 22,
   "metadata": {
    "ExecuteTime": {
     "end_time": "2020-04-28T03:55:01.907880Z",
     "start_time": "2020-04-28T03:51:57.044800Z"
    }
   },
   "outputs": [],
   "source": [
    "for _ in ['CA','TX','WI']:\n",
    "    train1.loc[train1.state_id==_,'snap'] = list(train1.loc[train1.state_id==_,f'snap_{_}'])"
   ]
  },
  {
   "cell_type": "code",
   "execution_count": 23,
   "metadata": {
    "ExecuteTime": {
     "end_time": "2020-04-28T03:55:01.919163Z",
     "start_time": "2020-04-28T03:55:01.914226Z"
    }
   },
   "outputs": [],
   "source": [
    "drop_col = ['day_num','date','wm_yr_wk','snap_CA','snap_TX','snap_WI','sale']\n",
    "cat_col = ['item_id','dept_id','cat_id','store_id','state_id','event_name_1', 'event_type_1', 'event_name_2', 'event_type_2','id']"
   ]
  },
  {
   "cell_type": "code",
   "execution_count": 24,
   "metadata": {
    "ExecuteTime": {
     "end_time": "2020-04-28T04:00:26.132383Z",
     "start_time": "2020-04-28T03:55:01.922065Z"
    }
   },
   "outputs": [
    {
     "name": "stdout",
     "output_type": "stream",
     "text": [
      "item_id\n",
      "dept_id\n",
      "cat_id\n",
      "store_id\n",
      "state_id\n",
      "event_name_1\n",
      "event_type_1\n",
      "event_name_2\n",
      "event_type_2\n",
      "id\n"
     ]
    }
   ],
   "source": [
    "for cat in cat_col:\n",
    "    lbl = preprocessing.LabelEncoder()\n",
    "    train1[cat] = lbl.fit_transform(train1[cat].astype(str))\n",
    "    print(cat)"
   ]
  },
  {
   "cell_type": "code",
   "execution_count": 25,
   "metadata": {
    "ExecuteTime": {
     "end_time": "2020-04-28T04:01:34.672777Z",
     "start_time": "2020-04-28T04:00:26.135834Z"
    }
   },
   "outputs": [],
   "source": [
    "train1.fillna(-999,inplace=True)"
   ]
  },
  {
   "cell_type": "code",
   "execution_count": 26,
   "metadata": {
    "ExecuteTime": {
     "end_time": "2020-04-28T04:01:34.682302Z",
     "start_time": "2020-04-28T04:01:34.676671Z"
    }
   },
   "outputs": [],
   "source": [
    "def func_custom_1_2(scalar):\n",
    "    if scalar ==0:\n",
    "        return 0\n",
    "    elif scalar <= 10**(-8):\n",
    "        return 10**4\n",
    "    else:\n",
    "        return scalar **(-1/2)"
   ]
  },
  {
   "cell_type": "code",
   "execution_count": 27,
   "metadata": {
    "ExecuteTime": {
     "end_time": "2020-04-28T04:01:34.699244Z",
     "start_time": "2020-04-28T04:01:34.684865Z"
    }
   },
   "outputs": [],
   "source": [
    "func1 = np.vectorize(func_custom_1_2)"
   ]
  },
  {
   "cell_type": "code",
   "execution_count": 28,
   "metadata": {
    "ExecuteTime": {
     "end_time": "2020-04-28T04:01:34.744097Z",
     "start_time": "2020-04-28T04:01:34.702140Z"
    }
   },
   "outputs": [],
   "source": [
    "def custom_obj(y_true, y_pred):\n",
    "    residual = (y_true - y_pred).astype(np.float128)\n",
    "    residual = residual.reshape((-1,30490)) \n",
    "    d = residual.shape[0]    \n",
    "    residual_42840 = residual * roll_mat_csr.T\n",
    "    mean_square_42840 = np.square(residual_42840).sum(axis = 0)\n",
    "    temp_1 = func1(mean_square_42840)\n",
    "    part1 = ((1/np.sqrt(S)) * temp_1)/np.sqrt(d)\n",
    "    part_all = np.multiply(part1,residual_42840) \n",
    "    grad = -(part_all * roll_mat_csr).reshape((-1))\n",
    "    hess_part1 = np.multiply(-(1/np.sqrt(S))/np.sqrt(d)*temp_1**3,np.square(residual_42840))\n",
    "    hess_part2 = (1/np.sqrt(S))/np.sqrt(d)*temp_1\n",
    "    hess = ((hess_part1 + hess_part2)*roll_mat_csr).reshape((-1))\n",
    "    return grad,hess"
   ]
  },
  {
   "cell_type": "code",
   "execution_count": 29,
   "metadata": {
    "ExecuteTime": {
     "end_time": "2020-04-28T04:01:34.751787Z",
     "start_time": "2020-04-28T04:01:34.747059Z"
    }
   },
   "outputs": [],
   "source": [
    "def rmse(y_true, y_pred):\n",
    "    return 'RMSE', np.sqrt(np.mean(np.power((y_pred) - (y_true), 2))), False"
   ]
  },
  {
   "cell_type": "markdown",
   "metadata": {},
   "source": [
    "#### fold1"
   ]
  },
  {
   "cell_type": "code",
   "execution_count": 30,
   "metadata": {
    "ExecuteTime": {
     "end_time": "2020-04-28T04:02:07.522401Z",
     "start_time": "2020-04-28T04:01:34.754521Z"
    }
   },
   "outputs": [],
   "source": [
    "X_train = train1[(train1.day_num<=1885)&(train1.day_num>=1885-1-364)&(train1.date!='2015-12-25')].drop(drop_col,axis=1).copy()\n",
    "y_train = train1.loc[(train1.day_num<=1885)&(train1.day_num>=1885-1-364)&(train1.date!='2015-12-25'),'sale']\n",
    "X_valid = train1[(train1.day_num<=1913)&(train1.day_num>=1886)].drop(drop_col,axis=1).copy()\n",
    "y_valid = train1.loc[(train1.day_num<=1913)&(train1.day_num>=1886),'sale']\n",
    "y_train[y_train==-999] = 0\n",
    "y_valid[y_valid==-999] = 0"
   ]
  },
  {
   "cell_type": "code",
   "execution_count": 31,
   "metadata": {
    "ExecuteTime": {
     "end_time": "2020-04-28T04:02:07.531760Z",
     "start_time": "2020-04-28T04:02:07.525761Z"
    }
   },
   "outputs": [],
   "source": [
    "lgb_re2 = lgb.LGBMRegressor(n_estimators=1000, random_state=51,subsample=0.8,\n",
    "                         colsample_bytree=0.8,learning_rate=0.05 ,importance_type = 'gain',\n",
    "                 max_depth = -1, num_leaves = 2**8-1,metric='None',bagging_freq=1,n_jobs=-1,\n",
    "                         first_metric_only = True,objective=custom_obj,min_data_in_leaf =  2**8-1)"
   ]
  },
  {
   "cell_type": "code",
   "execution_count": 32,
   "metadata": {
    "ExecuteTime": {
     "end_time": "2020-04-28T05:04:02.450905Z",
     "start_time": "2020-04-28T04:02:07.534786Z"
    }
   },
   "outputs": [
    {
     "name": "stdout",
     "output_type": "stream",
     "text": [
      "Training until validation scores don't improve for 50 rounds\n",
      "[10]\tvalid_0's WRMSSE: 2.3815\tvalid_0's RMSE: 2.45523\n",
      "[20]\tvalid_0's WRMSSE: 1.14096\tvalid_0's RMSE: 2.03145\n",
      "[30]\tvalid_0's WRMSSE: 0.696838\tvalid_0's RMSE: 1.92929\n",
      "[40]\tvalid_0's WRMSSE: 0.566141\tvalid_0's RMSE: 1.90465\n",
      "[50]\tvalid_0's WRMSSE: 0.532615\tvalid_0's RMSE: 1.89747\n",
      "[60]\tvalid_0's WRMSSE: 0.520829\tvalid_0's RMSE: 1.89366\n",
      "[70]\tvalid_0's WRMSSE: 0.512417\tvalid_0's RMSE: 1.89137\n",
      "[80]\tvalid_0's WRMSSE: 0.510078\tvalid_0's RMSE: 1.89051\n",
      "[90]\tvalid_0's WRMSSE: 0.508062\tvalid_0's RMSE: 1.88899\n",
      "[100]\tvalid_0's WRMSSE: 0.507391\tvalid_0's RMSE: 1.8878\n",
      "[110]\tvalid_0's WRMSSE: 0.506783\tvalid_0's RMSE: 1.88696\n",
      "[120]\tvalid_0's WRMSSE: 0.506058\tvalid_0's RMSE: 1.88561\n",
      "[130]\tvalid_0's WRMSSE: 0.504761\tvalid_0's RMSE: 1.88441\n",
      "[140]\tvalid_0's WRMSSE: 0.503712\tvalid_0's RMSE: 1.88341\n",
      "[150]\tvalid_0's WRMSSE: 0.502045\tvalid_0's RMSE: 1.88221\n",
      "[160]\tvalid_0's WRMSSE: 0.501938\tvalid_0's RMSE: 1.88145\n",
      "[170]\tvalid_0's WRMSSE: 0.50272\tvalid_0's RMSE: 1.8814\n",
      "[180]\tvalid_0's WRMSSE: 0.503712\tvalid_0's RMSE: 1.88067\n",
      "[190]\tvalid_0's WRMSSE: 0.502272\tvalid_0's RMSE: 1.88031\n",
      "[200]\tvalid_0's WRMSSE: 0.502599\tvalid_0's RMSE: 1.87993\n",
      "Early stopping, best iteration is:\n",
      "[156]\tvalid_0's WRMSSE: 0.501815\tvalid_0's RMSE: 1.88148\n",
      "Evaluated only: WRMSSE\n"
     ]
    },
    {
     "data": {
      "text/plain": [
       "LGBMRegressor(bagging_freq=1, boosting_type='gbdt', class_weight=None,\n",
       "       colsample_bytree=0.8, first_metric_only=True,\n",
       "       importance_type='gain', learning_rate=0.05, max_depth=-1,\n",
       "       metric='None', min_child_samples=20, min_child_weight=0.001,\n",
       "       min_data_in_leaf=255, min_split_gain=0.0, n_estimators=1000,\n",
       "       n_jobs=-1, num_leaves=255,\n",
       "       objective=<function custom_obj at 0x7fc933132ea0>, random_state=51,\n",
       "       reg_alpha=0.0, reg_lambda=0.0, silent=True, subsample=0.8,\n",
       "       subsample_for_bin=200000, subsample_freq=0)"
      ]
     },
     "execution_count": 32,
     "metadata": {},
     "output_type": "execute_result"
    }
   ],
   "source": [
    "lgb_re2.fit(X_train,y_train,eval_set = [(X_valid,y_valid)],verbose=10,\n",
    "           eval_metric =lambda y_true, y_pred: [evaluator_super.feval(y_true, y_pred), rmse(y_true, y_pred)],\n",
    "           early_stopping_rounds=50)#,categorical_feature=cat_col)"
   ]
  },
  {
   "cell_type": "code",
   "execution_count": 33,
   "metadata": {
    "ExecuteTime": {
     "end_time": "2020-04-28T05:32:07.610358Z",
     "start_time": "2020-04-28T05:32:07.521261Z"
    }
   },
   "outputs": [
    {
     "data": {
      "text/html": [
       "<div>\n",
       "<style scoped>\n",
       "    .dataframe tbody tr th:only-of-type {\n",
       "        vertical-align: middle;\n",
       "    }\n",
       "\n",
       "    .dataframe tbody tr th {\n",
       "        vertical-align: top;\n",
       "    }\n",
       "\n",
       "    .dataframe thead th {\n",
       "        text-align: right;\n",
       "    }\n",
       "</style>\n",
       "<table border=\"1\" class=\"dataframe\">\n",
       "  <thead>\n",
       "    <tr style=\"text-align: right;\">\n",
       "      <th></th>\n",
       "      <th>0</th>\n",
       "    </tr>\n",
       "  </thead>\n",
       "  <tbody>\n",
       "    <tr>\n",
       "      <th>rolling_sale_28_mean</th>\n",
       "      <td>92077.813811</td>\n",
       "    </tr>\n",
       "    <tr>\n",
       "      <th>rolling_sale_14_mean</th>\n",
       "      <td>55404.009067</td>\n",
       "    </tr>\n",
       "    <tr>\n",
       "      <th>rolling_sale_7_mean</th>\n",
       "      <td>16143.368563</td>\n",
       "    </tr>\n",
       "    <tr>\n",
       "      <th>rolling_sale_dayofweek_52_mean</th>\n",
       "      <td>5737.871371</td>\n",
       "    </tr>\n",
       "    <tr>\n",
       "      <th>rolling_sale_28_std</th>\n",
       "      <td>5680.055175</td>\n",
       "    </tr>\n",
       "    <tr>\n",
       "      <th>rolling_sale_91_mean</th>\n",
       "      <td>3781.508862</td>\n",
       "    </tr>\n",
       "    <tr>\n",
       "      <th>rolling_sale_364_mean</th>\n",
       "      <td>2815.231363</td>\n",
       "    </tr>\n",
       "    <tr>\n",
       "      <th>state_id_item_id_rolling_7_sale_mean</th>\n",
       "      <td>2523.861683</td>\n",
       "    </tr>\n",
       "    <tr>\n",
       "      <th>dayofweek</th>\n",
       "      <td>2521.206346</td>\n",
       "    </tr>\n",
       "    <tr>\n",
       "      <th>rolling_sale_dayofweek_52_quantile75</th>\n",
       "      <td>2389.773350</td>\n",
       "    </tr>\n",
       "    <tr>\n",
       "      <th>lag_sale_1</th>\n",
       "      <td>2143.432309</td>\n",
       "    </tr>\n",
       "    <tr>\n",
       "      <th>rolling_sale_3_mean</th>\n",
       "      <td>1587.622443</td>\n",
       "    </tr>\n",
       "    <tr>\n",
       "      <th>state_id_item_id_rolling_14_sale_mean</th>\n",
       "      <td>1386.512452</td>\n",
       "    </tr>\n",
       "    <tr>\n",
       "      <th>rolling_sale_28_quantile75</th>\n",
       "      <td>1251.609327</td>\n",
       "    </tr>\n",
       "    <tr>\n",
       "      <th>rolling_sale_dayofweek_24_quantile75</th>\n",
       "      <td>1171.349362</td>\n",
       "    </tr>\n",
       "    <tr>\n",
       "      <th>rolling_sale_364_std</th>\n",
       "      <td>844.644235</td>\n",
       "    </tr>\n",
       "    <tr>\n",
       "      <th>rolling_sale_14_quantile75</th>\n",
       "      <td>688.471850</td>\n",
       "    </tr>\n",
       "    <tr>\n",
       "      <th>snap</th>\n",
       "      <td>687.188611</td>\n",
       "    </tr>\n",
       "    <tr>\n",
       "      <th>rolling_sale_dayofweek_24_mean</th>\n",
       "      <td>640.578009</td>\n",
       "    </tr>\n",
       "    <tr>\n",
       "      <th>rolling_sale_14_std</th>\n",
       "      <td>599.551896</td>\n",
       "    </tr>\n",
       "    <tr>\n",
       "      <th>rolling_sale_182_mean</th>\n",
       "      <td>577.264094</td>\n",
       "    </tr>\n",
       "    <tr>\n",
       "      <th>rolling_sale_dayofweek_12_mean</th>\n",
       "      <td>570.052943</td>\n",
       "    </tr>\n",
       "    <tr>\n",
       "      <th>state_id_item_id_rolling_28_sale_mean</th>\n",
       "      <td>553.407278</td>\n",
       "    </tr>\n",
       "    <tr>\n",
       "      <th>rolling_sale_dayofweek_52_std</th>\n",
       "      <td>539.547533</td>\n",
       "    </tr>\n",
       "    <tr>\n",
       "      <th>rolling_sale_7_std</th>\n",
       "      <td>486.418088</td>\n",
       "    </tr>\n",
       "    <tr>\n",
       "      <th>rolling_sale_91_std</th>\n",
       "      <td>476.587952</td>\n",
       "    </tr>\n",
       "    <tr>\n",
       "      <th>state_id_item_id_rolling_7_sale_median</th>\n",
       "      <td>460.631244</td>\n",
       "    </tr>\n",
       "    <tr>\n",
       "      <th>rolling_sale_dayofweek_8_quantile75</th>\n",
       "      <td>442.238647</td>\n",
       "    </tr>\n",
       "    <tr>\n",
       "      <th>rolling_sale_7_quantile25</th>\n",
       "      <td>375.305325</td>\n",
       "    </tr>\n",
       "    <tr>\n",
       "      <th>rolling_sale_dayofweek_8_mean</th>\n",
       "      <td>365.608986</td>\n",
       "    </tr>\n",
       "    <tr>\n",
       "      <th>...</th>\n",
       "      <td>...</td>\n",
       "    </tr>\n",
       "    <tr>\n",
       "      <th>rolling_sale_dayofweek_52_quantile25</th>\n",
       "      <td>28.047643</td>\n",
       "    </tr>\n",
       "    <tr>\n",
       "      <th>store_id_dept_id_rolling_28_sale_median</th>\n",
       "      <td>27.987120</td>\n",
       "    </tr>\n",
       "    <tr>\n",
       "      <th>rolling_sale_364_median</th>\n",
       "      <td>26.839717</td>\n",
       "    </tr>\n",
       "    <tr>\n",
       "      <th>store_id_dept_id_rolling_14_sale_mean</th>\n",
       "      <td>26.729984</td>\n",
       "    </tr>\n",
       "    <tr>\n",
       "      <th>dept_id</th>\n",
       "      <td>26.452636</td>\n",
       "    </tr>\n",
       "    <tr>\n",
       "      <th>lag_sale_4</th>\n",
       "      <td>24.413466</td>\n",
       "    </tr>\n",
       "    <tr>\n",
       "      <th>year</th>\n",
       "      <td>23.578808</td>\n",
       "    </tr>\n",
       "    <tr>\n",
       "      <th>store_id_dept_id_rolling_14_sale_median</th>\n",
       "      <td>23.027054</td>\n",
       "    </tr>\n",
       "    <tr>\n",
       "      <th>rolling_sale_14_quantile25</th>\n",
       "      <td>22.054890</td>\n",
       "    </tr>\n",
       "    <tr>\n",
       "      <th>rolling_sale_dayofweek_8_std</th>\n",
       "      <td>22.026216</td>\n",
       "    </tr>\n",
       "    <tr>\n",
       "      <th>rolling_sale_dayofweek_12_std</th>\n",
       "      <td>21.847571</td>\n",
       "    </tr>\n",
       "    <tr>\n",
       "      <th>store_id_dept_id_rolling_14_sale_std</th>\n",
       "      <td>21.163947</td>\n",
       "    </tr>\n",
       "    <tr>\n",
       "      <th>state_id</th>\n",
       "      <td>21.114815</td>\n",
       "    </tr>\n",
       "    <tr>\n",
       "      <th>rolling_sale_dayofweek_24_cv</th>\n",
       "      <td>19.468379</td>\n",
       "    </tr>\n",
       "    <tr>\n",
       "      <th>rolling_sale_dayofweek_4_std</th>\n",
       "      <td>19.191509</td>\n",
       "    </tr>\n",
       "    <tr>\n",
       "      <th>rolling_sale_364_quantile25</th>\n",
       "      <td>16.666420</td>\n",
       "    </tr>\n",
       "    <tr>\n",
       "      <th>rolling_sale_dayofweek_24_median</th>\n",
       "      <td>16.168175</td>\n",
       "    </tr>\n",
       "    <tr>\n",
       "      <th>rolling_sale_dayofweek_8_cv</th>\n",
       "      <td>14.660571</td>\n",
       "    </tr>\n",
       "    <tr>\n",
       "      <th>rolling_sale_dayofweek_12_cv</th>\n",
       "      <td>14.497462</td>\n",
       "    </tr>\n",
       "    <tr>\n",
       "      <th>rolling_sale_91_quantile25</th>\n",
       "      <td>13.927187</td>\n",
       "    </tr>\n",
       "    <tr>\n",
       "      <th>lag_sale_5</th>\n",
       "      <td>13.366992</td>\n",
       "    </tr>\n",
       "    <tr>\n",
       "      <th>rolling_sale_182_quantile25</th>\n",
       "      <td>12.500526</td>\n",
       "    </tr>\n",
       "    <tr>\n",
       "      <th>rolling_sale_dayofweek_8_quantile25</th>\n",
       "      <td>11.507429</td>\n",
       "    </tr>\n",
       "    <tr>\n",
       "      <th>rolling_sale_dayofweek_12_quantile25</th>\n",
       "      <td>11.075484</td>\n",
       "    </tr>\n",
       "    <tr>\n",
       "      <th>rolling_sale_dayofweek_4_cv</th>\n",
       "      <td>10.129269</td>\n",
       "    </tr>\n",
       "    <tr>\n",
       "      <th>quarter</th>\n",
       "      <td>9.948742</td>\n",
       "    </tr>\n",
       "    <tr>\n",
       "      <th>rolling_sale_dayofweek_24_quantile25</th>\n",
       "      <td>5.838824</td>\n",
       "    </tr>\n",
       "    <tr>\n",
       "      <th>cat_id</th>\n",
       "      <td>2.066433</td>\n",
       "    </tr>\n",
       "    <tr>\n",
       "      <th>event_name_2</th>\n",
       "      <td>0.000000</td>\n",
       "    </tr>\n",
       "    <tr>\n",
       "      <th>event_type_2</th>\n",
       "      <td>0.000000</td>\n",
       "    </tr>\n",
       "  </tbody>\n",
       "</table>\n",
       "<p>135 rows × 1 columns</p>\n",
       "</div>"
      ],
      "text/plain": [
       "                                                    0\n",
       "rolling_sale_28_mean                     92077.813811\n",
       "rolling_sale_14_mean                     55404.009067\n",
       "rolling_sale_7_mean                      16143.368563\n",
       "rolling_sale_dayofweek_52_mean            5737.871371\n",
       "rolling_sale_28_std                       5680.055175\n",
       "rolling_sale_91_mean                      3781.508862\n",
       "rolling_sale_364_mean                     2815.231363\n",
       "state_id_item_id_rolling_7_sale_mean      2523.861683\n",
       "dayofweek                                 2521.206346\n",
       "rolling_sale_dayofweek_52_quantile75      2389.773350\n",
       "lag_sale_1                                2143.432309\n",
       "rolling_sale_3_mean                       1587.622443\n",
       "state_id_item_id_rolling_14_sale_mean     1386.512452\n",
       "rolling_sale_28_quantile75                1251.609327\n",
       "rolling_sale_dayofweek_24_quantile75      1171.349362\n",
       "rolling_sale_364_std                       844.644235\n",
       "rolling_sale_14_quantile75                 688.471850\n",
       "snap                                       687.188611\n",
       "rolling_sale_dayofweek_24_mean             640.578009\n",
       "rolling_sale_14_std                        599.551896\n",
       "rolling_sale_182_mean                      577.264094\n",
       "rolling_sale_dayofweek_12_mean             570.052943\n",
       "state_id_item_id_rolling_28_sale_mean      553.407278\n",
       "rolling_sale_dayofweek_52_std              539.547533\n",
       "rolling_sale_7_std                         486.418088\n",
       "rolling_sale_91_std                        476.587952\n",
       "state_id_item_id_rolling_7_sale_median     460.631244\n",
       "rolling_sale_dayofweek_8_quantile75        442.238647\n",
       "rolling_sale_7_quantile25                  375.305325\n",
       "rolling_sale_dayofweek_8_mean              365.608986\n",
       "...                                               ...\n",
       "rolling_sale_dayofweek_52_quantile25        28.047643\n",
       "store_id_dept_id_rolling_28_sale_median     27.987120\n",
       "rolling_sale_364_median                     26.839717\n",
       "store_id_dept_id_rolling_14_sale_mean       26.729984\n",
       "dept_id                                     26.452636\n",
       "lag_sale_4                                  24.413466\n",
       "year                                        23.578808\n",
       "store_id_dept_id_rolling_14_sale_median     23.027054\n",
       "rolling_sale_14_quantile25                  22.054890\n",
       "rolling_sale_dayofweek_8_std                22.026216\n",
       "rolling_sale_dayofweek_12_std               21.847571\n",
       "store_id_dept_id_rolling_14_sale_std        21.163947\n",
       "state_id                                    21.114815\n",
       "rolling_sale_dayofweek_24_cv                19.468379\n",
       "rolling_sale_dayofweek_4_std                19.191509\n",
       "rolling_sale_364_quantile25                 16.666420\n",
       "rolling_sale_dayofweek_24_median            16.168175\n",
       "rolling_sale_dayofweek_8_cv                 14.660571\n",
       "rolling_sale_dayofweek_12_cv                14.497462\n",
       "rolling_sale_91_quantile25                  13.927187\n",
       "lag_sale_5                                  13.366992\n",
       "rolling_sale_182_quantile25                 12.500526\n",
       "rolling_sale_dayofweek_8_quantile25         11.507429\n",
       "rolling_sale_dayofweek_12_quantile25        11.075484\n",
       "rolling_sale_dayofweek_4_cv                 10.129269\n",
       "quarter                                      9.948742\n",
       "rolling_sale_dayofweek_24_quantile25         5.838824\n",
       "cat_id                                       2.066433\n",
       "event_name_2                                 0.000000\n",
       "event_type_2                                 0.000000\n",
       "\n",
       "[135 rows x 1 columns]"
      ]
     },
     "execution_count": 33,
     "metadata": {},
     "output_type": "execute_result"
    }
   ],
   "source": [
    "pd.DataFrame(lgb_re2.feature_importances_,index=X_train.columns).sort_values(0,ascending=False)"
   ]
  }
 ],
 "metadata": {
  "kernelspec": {
   "display_name": "Python 3",
   "language": "python",
   "name": "python3"
  },
  "language_info": {
   "codemirror_mode": {
    "name": "ipython",
    "version": 3
   },
   "file_extension": ".py",
   "mimetype": "text/x-python",
   "name": "python",
   "nbconvert_exporter": "python",
   "pygments_lexer": "ipython3",
   "version": "3.7.3"
  },
  "toc": {
   "base_numbering": 1,
   "nav_menu": {},
   "number_sections": true,
   "sideBar": true,
   "skip_h1_title": false,
   "title_cell": "Table of Contents",
   "title_sidebar": "Contents",
   "toc_cell": false,
   "toc_position": {
    "height": "calc(100% - 180px)",
    "left": "10px",
    "top": "150px",
    "width": "341.333px"
   },
   "toc_section_display": true,
   "toc_window_display": true
  }
 },
 "nbformat": 4,
 "nbformat_minor": 2
}
