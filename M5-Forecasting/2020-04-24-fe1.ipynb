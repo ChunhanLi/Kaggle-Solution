{
 "cells": [
  {
   "cell_type": "code",
   "execution_count": 1,
   "metadata": {
    "ExecuteTime": {
     "end_time": "2020-04-26T06:11:08.293304Z",
     "start_time": "2020-04-26T06:11:06.400280Z"
    }
   },
   "outputs": [],
   "source": [
    "import numpy as np\n",
    "import pandas as pd\n",
    "import seaborn as sns\n",
    "import matplotlib.pyplot as plt \n",
    "from sklearn import preprocessing\n",
    "from sklearn.preprocessing import LabelEncoder\n",
    "import catboost as cb\n",
    "import lightgbm as lgb\n",
    "from sklearn.ensemble import RandomForestClassifier\n",
    "from sklearn.model_selection import GridSearchCV, ShuffleSplit,StratifiedKFold,TimeSeriesSplit,KFold,GroupKFold,train_test_split,GroupShuffleSplit,StratifiedShuffleSplit\n",
    "from sklearn.metrics import roc_auc_score,mean_squared_error,mean_absolute_error,log_loss,confusion_matrix\n",
    "import sqlite3\n",
    "import xgboost as xgb\n",
    "import datetime\n",
    "from sklearn.linear_model import LogisticRegression\n",
    "from scipy.stats import pearsonr\n",
    "import gc\n",
    "from sklearn.model_selection import TimeSeriesSplit\n",
    "#from bayes_opt import BayesianOptimization\n",
    "import re\n",
    "from string import punctuation\n",
    "from scipy.spatial import Voronoi\n",
    "from scipy.spatial import ConvexHull\n",
    "from scipy.spatial import Delaunay\n",
    "from tqdm.notebook import tqdm\n",
    "from numba import jit\n",
    "from collections import Counter\n",
    "import json\n",
    "import joblib\n",
    "import multiprocessing\n",
    "import time"
   ]
  },
  {
   "cell_type": "code",
   "execution_count": 3,
   "metadata": {
    "ExecuteTime": {
     "end_time": "2020-04-26T06:11:19.088034Z",
     "start_time": "2020-04-26T06:11:19.083540Z"
    }
   },
   "outputs": [],
   "source": [
    "c = pd.DataFrame()"
   ]
  },
  {
   "cell_type": "code",
   "execution_count": null,
   "metadata": {},
   "outputs": [],
   "source": [
    "c.drop_duplicates()"
   ]
  },
  {
   "cell_type": "code",
   "execution_count": 2,
   "metadata": {
    "ExecuteTime": {
     "end_time": "2020-04-24T04:21:00.265881Z",
     "start_time": "2020-04-24T04:21:00.151187Z"
    }
   },
   "outputs": [],
   "source": [
    "def reduce_mem_usage(df, verbose=True):\n",
    "    numerics = ['int32', 'int64', 'float64']\n",
    "    start_mem = df.memory_usage().sum() / 1024**2    \n",
    "    for col in df.columns:\n",
    "        col_type = df[col].dtypes\n",
    "        if col_type in numerics:\n",
    "            c_min = df[col].min()\n",
    "            c_max = df[col].max()\n",
    "            if str(col_type)[:3] == 'int':\n",
    "                if c_min > np.iinfo(np.int16).min and c_max < np.iinfo(np.int16).max:\n",
    "                    df[col] = df[col].astype(np.int16)\n",
    "                elif c_min > np.iinfo(np.int32).min and c_max < np.iinfo(np.int32).max:\n",
    "                    df[col] = df[col].astype(np.int32)\n",
    "                elif c_min > np.iinfo(np.int64).min and c_max < np.iinfo(np.int64).max:\n",
    "                    df[col] = df[col].astype(np.int64)  \n",
    "            else:\n",
    "                if c_min > np.finfo(np.float32).min and c_max < np.finfo(np.float32).max:\n",
    "                    df[col] = df[col].astype(np.float32)\n",
    "                else:\n",
    "                    df[col] = df[col].astype(np.float64)    \n",
    "    end_mem = df.memory_usage().sum() / 1024**2\n",
    "    if verbose: print('Mem. usage decreased to {:5.2f} Mb ({:.1f}% reduction)'.format(end_mem, 100 * (start_mem - end_mem) / start_mem))\n",
    "    return df"
   ]
  },
  {
   "cell_type": "code",
   "execution_count": 3,
   "metadata": {
    "ExecuteTime": {
     "end_time": "2020-04-24T04:21:17.496621Z",
     "start_time": "2020-04-24T04:21:00.269065Z"
    }
   },
   "outputs": [],
   "source": [
    "sample_submission = pd.read_csv('../data/sample_submission.csv')\n",
    "sell_prices = pd.read_csv('../data/sell_prices.csv')\n",
    "sales_train = pd.read_csv('../data/sales_train_validation.csv')\n",
    "calendar = pd.read_csv('../data/calendar.csv')"
   ]
  },
  {
   "cell_type": "code",
   "execution_count": 4,
   "metadata": {
    "ExecuteTime": {
     "end_time": "2020-04-24T04:21:17.570818Z",
     "start_time": "2020-04-24T04:21:17.502487Z"
    }
   },
   "outputs": [],
   "source": [
    "####扩展sales_train df方便后续\n",
    "#sales_train = pd.read_csv('../data/sales_train_validation.csv')\n",
    "for _ in [f'd_{i}' for i in range(1914,1970)]:\n",
    "    sales_train[_] = np.nan"
   ]
  },
  {
   "cell_type": "code",
   "execution_count": 5,
   "metadata": {
    "ExecuteTime": {
     "end_time": "2020-04-24T04:21:36.645310Z",
     "start_time": "2020-04-24T04:21:17.573527Z"
    }
   },
   "outputs": [],
   "source": [
    "sales_train_long_format = pd.melt(sales_train,id_vars=['id','item_id','dept_id','cat_id','store_id','state_id'],var_name = 'day_num',value_name='sale')"
   ]
  },
  {
   "cell_type": "code",
   "execution_count": 6,
   "metadata": {
    "ExecuteTime": {
     "end_time": "2020-04-24T04:22:59.480276Z",
     "start_time": "2020-04-24T04:21:36.649429Z"
    }
   },
   "outputs": [],
   "source": [
    "def transform_day_to_num(str1):\n",
    "    return int(str1[2:])\n",
    "sales_train_long_format['day_num'] = sales_train_long_format['day_num'].map(transform_day_to_num)\n",
    "calendar['date'] = pd.to_datetime(calendar['date'])\n",
    "calendar['day_num'] = calendar['d'].map(transform_day_to_num)\n",
    "map_day_date = calendar[['date','day_num']].set_index('day_num')['date']\n",
    "sales_train_long_format['date'] = sales_train_long_format['day_num'].map(map_day_date)\n",
    "list1 = ['wm_yr_wk','event_name_1', 'event_type_1', 'event_name_2', 'event_type_2','snap_CA', 'snap_TX', 'snap_WI','day_num']\n",
    "sales_train_long_format = sales_train_long_format.merge(calendar[list1],on='day_num',how='left')"
   ]
  },
  {
   "cell_type": "code",
   "execution_count": 7,
   "metadata": {
    "ExecuteTime": {
     "end_time": "2020-04-24T04:24:20.332528Z",
     "start_time": "2020-04-24T04:22:59.484149Z"
    }
   },
   "outputs": [
    {
     "name": "stdout",
     "output_type": "stream",
     "text": [
      "Mem. usage decreased to 6526.92 Mb (25.0% reduction)\n"
     ]
    }
   ],
   "source": [
    "sales_train_long_format = sales_train_long_format.merge(sell_prices,how='left',on = ['store_id','item_id','wm_yr_wk'])\n",
    "###把没卖的变成nan\n",
    "sales_train_long_format.loc[pd.isna(sales_train_long_format.sell_price),'sale'] = np.nan\n",
    "sales_train_long_format = reduce_mem_usage(sales_train_long_format)"
   ]
  },
  {
   "cell_type": "code",
   "execution_count": 8,
   "metadata": {
    "ExecuteTime": {
     "end_time": "2020-04-24T04:24:27.716445Z",
     "start_time": "2020-04-24T04:24:20.336232Z"
    }
   },
   "outputs": [],
   "source": [
    "truncated_data = sales_train_long_format.copy()"
   ]
  },
  {
   "cell_type": "markdown",
   "metadata": {},
   "source": [
    "### part1"
   ]
  },
  {
   "cell_type": "code",
   "execution_count": 9,
   "metadata": {
    "ExecuteTime": {
     "end_time": "2020-04-24T04:24:27.761834Z",
     "start_time": "2020-04-24T04:24:27.720559Z"
    }
   },
   "outputs": [],
   "source": [
    "#### lag系列\n",
    "def lag_sale_1(x):\n",
    "    return x.shift(1)\n",
    "def lag_sale_2(x):\n",
    "    return x.shift(2)\n",
    "def lag_sale_3(x):\n",
    "    return x.shift(3)\n",
    "def lag_sale_4(x):\n",
    "    return x.shift(4)\n",
    "def lag_sale_5(x):\n",
    "    return x.shift(5)\n",
    "def lag_sale_6(x):\n",
    "    return x.shift(6)\n",
    "def lag_sale_7(x):\n",
    "    return x.shift(7)\n",
    "#### \n",
    "def rolling_sale_3(x):\n",
    "    return x.shift(1).rolling(3,3).agg(['mean'])\n",
    "def rolling_sale_7(x):\n",
    "    return x.shift(1).rolling(7,int(7/2)).agg(['mean','std','median'])\n",
    "def rolling_sale_14(x):\n",
    "    return x.shift(1).rolling(14,int(28/2)).agg(['mean','std','median'])\n",
    "def rolling_sale_28(x):\n",
    "    return x.shift(1).rolling(28,int(28/2)).agg(['mean','std','median'])\n",
    "def rolling_sale_91(x):\n",
    "    return x.shift(1).rolling(91,int(91/2)).agg(['mean','std','median'])\n",
    "def rolling_sale_182(x):\n",
    "    return x.shift(1).rolling(182,50).agg(['mean','std','median'])\n",
    "def rolling_sale_364(x):\n",
    "    return x.shift(1).rolling(364,50).agg(['mean','std','median'])\n",
    "\n",
    "\n",
    "def rolling_sale_7_quantile25(x):\n",
    "    return x.shift(1).rolling(7,int(7/2)).quantile(0.25)\n",
    "def rolling_sale_14_quantile25(x):\n",
    "    return x.shift(1).rolling(14,int(14/2)).quantile(0.25)\n",
    "def rolling_sale_28_quantile25(x):\n",
    "    return x.shift(1).rolling(28,int(28/2)).quantile(0.25)\n",
    "def rolling_sale_91_quantile25(x):\n",
    "    return x.shift(1).rolling(91,int(91/2)).quantile(0.25)\n",
    "def rolling_sale_182_quantile25(x):\n",
    "    return x.shift(1).rolling(182,50).quantile(0.25)\n",
    "def rolling_sale_364_quantile25(x):\n",
    "    return x.shift(1).rolling(364,50).quantile(0.25)\n",
    "\n",
    "def rolling_sale_7_quantile75(x):\n",
    "    return x.shift(1).rolling(7,int(7/2)).quantile(0.75)\n",
    "def rolling_sale_14_quantile75(x):\n",
    "    return x.shift(1).rolling(14,int(14/2)).quantile(0.75)\n",
    "def rolling_sale_28_quantile75(x):\n",
    "    return x.shift(1).rolling(28,int(28/2)).quantile(0.75)\n",
    "def rolling_sale_91_quantile75(x):\n",
    "    return x.shift(1).rolling(91,int(91/2)).quantile(0.75)\n",
    "def rolling_sale_182_quantile75(x):\n",
    "    return x.shift(1).rolling(182,50).quantile(0.75)\n",
    "def rolling_sale_364_quantile75(x):\n",
    "    return x.shift(1).rolling(364,50).quantile(0.75)\n",
    "####\n",
    "def rolling_sale_dayofweek_2(x):\n",
    "    return x.shift(1).rolling(2,1).agg(['mean'])\n",
    "def rolling_sale_dayofweek_4(x):\n",
    "    return x.shift(1).rolling(4,1).agg(['mean','std'])\n",
    "def rolling_sale_dayofweek_8(x):\n",
    "    return x.shift(1).rolling(8,2).agg(['mean','std','median'])\n",
    "def rolling_sale_dayofweek_12(x):\n",
    "    return x.shift(1).rolling(12,4).agg(['mean','std','median'])\n",
    "def rolling_sale_dayofweek_24(x):\n",
    "    return x.shift(1).rolling(24,8).agg(['mean','std','median'])\n",
    "def rolling_sale_dayofweek_52(x):\n",
    "    return x.shift(1).rolling(52,8).agg(['mean','std','median'])\n",
    "\n",
    "def rolling_sale_dayofweek_8_quantile25(x):\n",
    "    return x.shift(1).rolling(8,2).quantile(0.25)\n",
    "def rolling_sale_dayofweek_12_quantile25(x):\n",
    "    return x.shift(1).rolling(12,4).quantile(0.25)\n",
    "def rolling_sale_dayofweek_24_quantile25(x):\n",
    "    return x.shift(1).rolling(24,8).quantile(0.25)\n",
    "def rolling_sale_dayofweek_52_quantile25(x):\n",
    "    return x.shift(1).rolling(52,16).quantile(0.25)\n",
    "\n",
    "def rolling_sale_dayofweek_8_quantile75(x):\n",
    "    return x.shift(1).rolling(8,2).quantile(0.75)\n",
    "def rolling_sale_dayofweek_12_quantile75(x):\n",
    "    return x.shift(1).rolling(12,4).quantile(0.75)\n",
    "def rolling_sale_dayofweek_24_quantile75(x):\n",
    "    return x.shift(1).rolling(24,8).quantile(0.75)\n",
    "def rolling_sale_dayofweek_52_quantile75(x):\n",
    "    return x.shift(1).rolling(52,16).quantile(0.75)"
   ]
  },
  {
   "cell_type": "code",
   "execution_count": 10,
   "metadata": {
    "ExecuteTime": {
     "end_time": "2020-04-24T04:24:27.798849Z",
     "start_time": "2020-04-24T04:24:27.765102Z"
    }
   },
   "outputs": [],
   "source": [
    "def parall_group_by_id_sale(df,func,n_cores,name_feature):\n",
    "    with multiprocessing.Pool(n_cores) as p:\n",
    "        ret_list = list(tqdm(p.imap(func, [group for name, group in df.groupby(['id'])['sale']]), total=30490))\n",
    "        temp = pd.concat(ret_list,axis=0).sort_index()\n",
    "        print(f'Features {name_feature} over!!')\n",
    "    return temp\n",
    "\n",
    "def parall_group_by_id_dayofweek_sale(df,func,n_cores,name_feature):\n",
    "    with multiprocessing.Pool(n_cores) as p:\n",
    "        ret_list = list(tqdm(p.imap(func, [group for name, group in df.groupby(['id','dayofweek'])['sale']]), total=30490*7))\n",
    "        temp = pd.concat(ret_list,axis=0).sort_index()\n",
    "        print(f'Features {name_feature} over!!')\n",
    "    return temp"
   ]
  },
  {
   "cell_type": "code",
   "execution_count": 11,
   "metadata": {
    "ExecuteTime": {
     "end_time": "2020-04-24T04:24:27.841812Z",
     "start_time": "2020-04-24T04:24:27.801989Z"
    }
   },
   "outputs": [],
   "source": [
    "def feature_engineer(df,num_core,date1):\n",
    "    \"\"\"\n",
    "    df format:sales_train_long_format\n",
    "    \"\"\"\n",
    "    df = df.copy()\n",
    "    df['year'] = df['date'].dt.year\n",
    "    df['month'] = df['date'].dt.month\n",
    "    #df['week'] = df['date'].dt.week\n",
    "    #df['day'] = df['date'].dt.day\n",
    "    df['dayofweek'] = df['date'].dt.dayofweek\n",
    "    df['quarter'] = df['date'].dt.quarter\n",
    "    #df['is_quarter_start'] = df['date'].dt.is_quarter_start.astype(int)\n",
    "    #df['is_quarter_end'] = df['date'].dt.is_quarter_end.astype(int)\n",
    "    #df['is_month_end'] = df['date'].dt.is_month_end.astype(int)\n",
    "    #df['is_month_end'] = df['date'].dt.is_month_end.astype(int)\n",
    "    ### shift by day\n",
    "    df['lag_sale_1'] = parall_group_by_id_sale(df,lag_sale_1,num_core,'lag_sale_1')\n",
    "    df['lag_sale_2'] = parall_group_by_id_sale(df,lag_sale_2,num_core,'lag_sale_2')\n",
    "    df['lag_sale_3'] = parall_group_by_id_sale(df,lag_sale_3,num_core,'lag_sale_3')\n",
    "    df['lag_sale_4'] = parall_group_by_id_sale(df,lag_sale_4,num_core,'lag_sale_4')\n",
    "    df['lag_sale_5'] = parall_group_by_id_sale(df,lag_sale_5,num_core,'lag_sale_5')\n",
    "    df['lag_sale_6'] = parall_group_by_id_sale(df,lag_sale_6,num_core,'lag_sale_6')\n",
    "    df['lag_sale_7'] = parall_group_by_id_sale(df,lag_sale_7,num_core,'lag_sale_7')\n",
    "    ### rolling\n",
    "    df['rolling_sale_3_mean'] = parall_group_by_id_sale(df,rolling_sale_3,num_core,'rolling_sale_3')\n",
    "    df[['rolling_sale_7_mean','rolling_sale_7_std','rolling_sale_7_median']] \\\n",
    "                    = parall_group_by_id_sale(df,rolling_sale_7,num_core,'rolling_sale_7')\n",
    "    df[['rolling_sale_14_mean','rolling_sale_14_std','rolling_sale_14_median']] \\\n",
    "                    = parall_group_by_id_sale(df,rolling_sale_14,num_core,'rolling_sale_14')\n",
    "    df[['rolling_sale_28_mean','rolling_sale_28_std','rolling_sale_28_median']] \\\n",
    "                    = parall_group_by_id_sale(df,rolling_sale_28,num_core,'rolling_sale_28')\n",
    "    df[['rolling_sale_91_mean','rolling_sale_91_std','rolling_sale_91_median']] \\\n",
    "                    = parall_group_by_id_sale(df,rolling_sale_91,num_core,'rolling_sale_91')\n",
    "    df[['rolling_sale_182_mean','rolling_sale_182_std','rolling_sale_182_median']] \\\n",
    "                    = parall_group_by_id_sale(df,rolling_sale_182,num_core,'rolling_sale_182')\n",
    "    df[['rolling_sale_364_mean','rolling_sale_364_std','rolling_sale_364_median']] \\\n",
    "                    = parall_group_by_id_sale(df,rolling_sale_364,num_core,'rolling_sale_364')\n",
    "    for num in [7,14,28,91,182,364]:\n",
    "        df[f'rolling_sale_{str(num)}_cv'] = df[f'rolling_sale_{str(num)}_std']/df[f'rolling_sale_{str(num)}_mean'] \n",
    "    ### quantile 25\n",
    "    df['rolling_sale_7_quantile25'] = parall_group_by_id_sale(df,rolling_sale_7_quantile25,num_core,'rolling_sale_7_quantile25')\n",
    "    df['rolling_sale_14_quantile25'] = parall_group_by_id_sale(df,rolling_sale_14_quantile25,num_core,'rolling_sale_14_quantile25')\n",
    "    df['rolling_sale_28_quantile25'] = parall_group_by_id_sale(df,rolling_sale_28_quantile25,num_core,'rolling_sale28_quantile25')\n",
    "    df['rolling_sale_91_quantile25'] = parall_group_by_id_sale(df,rolling_sale_91_quantile25,num_core,'rolling_sale_91_quantile25')\n",
    "    df['rolling_sale_182_quantile25'] = parall_group_by_id_sale(df,rolling_sale_182_quantile25,num_core,'rolling_sale_182_quantile25')\n",
    "    df['rolling_sale_364_quantile25'] = parall_group_by_id_sale(df,rolling_sale_364_quantile25,num_core,'rolling_sale_364_quantile25')\n",
    "    ### quantile 75\n",
    "    df['rolling_sale_7_quantile75'] = parall_group_by_id_sale(df,rolling_sale_7_quantile75,num_core,'rolling_sale_7_quantile75')\n",
    "    df['rolling_sale_14_quantile75'] = parall_group_by_id_sale(df,rolling_sale_14_quantile75,num_core,'rolling_sale_14_quantile75')\n",
    "    df['rolling_sale_28_quantile75'] = parall_group_by_id_sale(df,rolling_sale_28_quantile75,num_core,'rolling_sale28_quantile75')\n",
    "    df['rolling_sale_91_quantile75'] = parall_group_by_id_sale(df,rolling_sale_91_quantile75,num_core,'rolling_sale_91_quantile75')\n",
    "    df['rolling_sale_182_quantile75'] = parall_group_by_id_sale(df,rolling_sale_182_quantile75,num_core,'rolling_sale_182_quantile75')\n",
    "    df['rolling_sale_364_quantile75'] = parall_group_by_id_sale(df,rolling_sale_364_quantile75,num_core,'rolling_sale_364_quantile75')\n",
    "    df = reduce_mem_usage(df,False)\n",
    "    ### dayofweek mean std sum\n",
    "    df['rolling_sale_dayofweek_2_mean'] = \\\n",
    "                parall_group_by_id_dayofweek_sale(df,rolling_sale_dayofweek_2,num_core,'rolling_sale_dayofweek_2')\n",
    "    df[['rolling_sale_dayofweek_4_mean','rolling_sale_dayofweek_4_std']] = \\\n",
    "                parall_group_by_id_dayofweek_sale(df,rolling_sale_dayofweek_4,num_core,'rolling_sale_dayofweek_4')\n",
    "    df[['rolling_sale_dayofweek_8_mean','rolling_sale_dayofweek_8_std','rolling_sale_dayofweek_8_median']] = \\\n",
    "                parall_group_by_id_dayofweek_sale(df,rolling_sale_dayofweek_8,num_core,'rolling_sale_dayofweek_8')\n",
    "    df[['rolling_sale_dayofweek_12_mean','rolling_sale_dayofweek_12_std','rolling_sale_dayofweek_12_median']] = \\\n",
    "                parall_group_by_id_dayofweek_sale(df,rolling_sale_dayofweek_12,num_core,'rolling_sale_dayofweek_12')\n",
    "    df[['rolling_sale_dayofweek_24_mean','rolling_sale_dayofweek_24_std','rolling_sale_dayofweek_24_median']] = \\\n",
    "                parall_group_by_id_dayofweek_sale(df,rolling_sale_dayofweek_24,num_core,'rolling_sale_dayofweek_24')\n",
    "    df[['rolling_sale_dayofweek_52_mean','rolling_sale_dayofweek_52_std','rolling_sale_dayofweek_52_median']] = \\\n",
    "                parall_group_by_id_dayofweek_sale(df,rolling_sale_dayofweek_52,num_core,'rolling_sale_dayofweek_52')\n",
    "    for num in [4,8,12,24,52]:\n",
    "        df[f'rolling_sale_dayofweek_{str(num)}_cv'] = df[f'rolling_sale_dayofweek_{str(num)}_std']/df[f'rolling_sale_dayofweek_{str(num)}_mean']\n",
    "        \n",
    "    df = reduce_mem_usage(df,False)\n",
    "    df['rolling_sale_dayofweek_8_quantile25'] = \\\n",
    "                parall_group_by_id_sale(df,rolling_sale_dayofweek_8_quantile25,num_core,'rolling_sale_dayofweek_8_quantile25')\n",
    "    df['rolling_sale_dayofweek_12_quantile25'] = \\\n",
    "                parall_group_by_id_sale(df,rolling_sale_dayofweek_12_quantile25,num_core,'rolling_sale_dayofweek_12_quantile25')\n",
    "    df['rolling_sale_dayofweek_24_quantile25'] = \\\n",
    "                parall_group_by_id_sale(df,rolling_sale_dayofweek_24_quantile25,num_core,'rolling_sale_dayofweek_24_quantile25')\n",
    "    df['rolling_sale_dayofweek_52_quantile25'] = \\\n",
    "                parall_group_by_id_sale(df,rolling_sale_dayofweek_52_quantile25,num_core,'rolling_sale_dayofweek_52_quantile25')\n",
    "    \n",
    "    df['rolling_sale_dayofweek_8_quantile75'] = \\\n",
    "                parall_group_by_id_sale(df,rolling_sale_dayofweek_8_quantile75,num_core,'rolling_sale_dayofweek_8_quantile75')\n",
    "    df['rolling_sale_dayofweek_12_quantile75'] = \\\n",
    "                parall_group_by_id_sale(df,rolling_sale_dayofweek_12_quantile75,num_core,'rolling_sale_dayofweek_12_quantile75')\n",
    "    df['rolling_sale_dayofweek_24_quantile75'] = \\\n",
    "                parall_group_by_id_sale(df,rolling_sale_dayofweek_24_quantile75,num_core,'rolling_sale_dayofweek_24_quantile75')\n",
    "    df['rolling_sale_dayofweek_52_quantile75'] = \\\n",
    "                parall_group_by_id_sale(df,rolling_sale_dayofweek_52_quantile75,num_core,'rolling_sale_dayofweek_52_quantile75')\n",
    "    \n",
    "    df = reduce_mem_usage(df,False)\n",
    "    ### price\n",
    "    ### shift 1\n",
    "    for j in [1]:\n",
    "        df[f'lag_price{j}'] = df.groupby(['id'])['sell_price'].transform(lambda x:x.shift(j*7))\n",
    "        df[f'ratio_now_lag{j}price'] = df['sell_price']/df[f'lag_price{j}']\n",
    "        print(j)\n",
    "\n",
    "\n",
    "    return df"
   ]
  },
  {
   "cell_type": "code",
   "execution_count": 12,
   "metadata": {
    "ExecuteTime": {
     "end_time": "2020-04-24T05:49:49.953565Z",
     "start_time": "2020-04-24T04:24:27.844430Z"
    }
   },
   "outputs": [
    {
     "name": "stdout",
     "output_type": "stream",
     "text": [
      "1\n"
     ]
    },
    {
     "data": {
      "application/vnd.jupyter.widget-view+json": {
       "model_id": "9af901d81b2c4295bd3dd0557fd37f71",
       "version_major": 2,
       "version_minor": 0
      },
      "text/plain": [
       "HBox(children=(FloatProgress(value=0.0, max=30490.0), HTML(value='')))"
      ]
     },
     "metadata": {},
     "output_type": "display_data"
    },
    {
     "name": "stdout",
     "output_type": "stream",
     "text": [
      "\n",
      "Features lag_sale_1 over!!\n"
     ]
    },
    {
     "data": {
      "application/vnd.jupyter.widget-view+json": {
       "model_id": "967a7a9b7577465788dd966c4f3dcbe2",
       "version_major": 2,
       "version_minor": 0
      },
      "text/plain": [
       "HBox(children=(FloatProgress(value=0.0, max=30490.0), HTML(value='')))"
      ]
     },
     "metadata": {},
     "output_type": "display_data"
    },
    {
     "name": "stdout",
     "output_type": "stream",
     "text": [
      "\n",
      "Features lag_sale_2 over!!\n"
     ]
    },
    {
     "data": {
      "application/vnd.jupyter.widget-view+json": {
       "model_id": "b4f06a1334024b8984380a707d6cec85",
       "version_major": 2,
       "version_minor": 0
      },
      "text/plain": [
       "HBox(children=(FloatProgress(value=0.0, max=30490.0), HTML(value='')))"
      ]
     },
     "metadata": {},
     "output_type": "display_data"
    },
    {
     "name": "stdout",
     "output_type": "stream",
     "text": [
      "\n",
      "Features lag_sale_3 over!!\n"
     ]
    },
    {
     "data": {
      "application/vnd.jupyter.widget-view+json": {
       "model_id": "c81a32b2810243d596626fcd23a830e3",
       "version_major": 2,
       "version_minor": 0
      },
      "text/plain": [
       "HBox(children=(FloatProgress(value=0.0, max=30490.0), HTML(value='')))"
      ]
     },
     "metadata": {},
     "output_type": "display_data"
    },
    {
     "name": "stdout",
     "output_type": "stream",
     "text": [
      "\n",
      "Features lag_sale_4 over!!\n"
     ]
    },
    {
     "data": {
      "application/vnd.jupyter.widget-view+json": {
       "model_id": "468a95286078488dabdb58999e66711d",
       "version_major": 2,
       "version_minor": 0
      },
      "text/plain": [
       "HBox(children=(FloatProgress(value=0.0, max=30490.0), HTML(value='')))"
      ]
     },
     "metadata": {},
     "output_type": "display_data"
    },
    {
     "name": "stdout",
     "output_type": "stream",
     "text": [
      "\n",
      "Features lag_sale_5 over!!\n"
     ]
    },
    {
     "data": {
      "application/vnd.jupyter.widget-view+json": {
       "model_id": "7d9cf36a7a3440f6a2412016686df2c1",
       "version_major": 2,
       "version_minor": 0
      },
      "text/plain": [
       "HBox(children=(FloatProgress(value=0.0, max=30490.0), HTML(value='')))"
      ]
     },
     "metadata": {},
     "output_type": "display_data"
    },
    {
     "name": "stdout",
     "output_type": "stream",
     "text": [
      "\n",
      "Features lag_sale_6 over!!\n"
     ]
    },
    {
     "data": {
      "application/vnd.jupyter.widget-view+json": {
       "model_id": "51e5496a1b634ff084d67014311a97d9",
       "version_major": 2,
       "version_minor": 0
      },
      "text/plain": [
       "HBox(children=(FloatProgress(value=0.0, max=30490.0), HTML(value='')))"
      ]
     },
     "metadata": {},
     "output_type": "display_data"
    },
    {
     "name": "stdout",
     "output_type": "stream",
     "text": [
      "\n",
      "Features lag_sale_7 over!!\n"
     ]
    },
    {
     "data": {
      "application/vnd.jupyter.widget-view+json": {
       "model_id": "1ee78514faf94620948e6012fc340863",
       "version_major": 2,
       "version_minor": 0
      },
      "text/plain": [
       "HBox(children=(FloatProgress(value=0.0, max=30490.0), HTML(value='')))"
      ]
     },
     "metadata": {},
     "output_type": "display_data"
    },
    {
     "name": "stdout",
     "output_type": "stream",
     "text": [
      "\n",
      "Features rolling_sale_3 over!!\n"
     ]
    },
    {
     "data": {
      "application/vnd.jupyter.widget-view+json": {
       "model_id": "62798db027564c2a81fe2a03dc236167",
       "version_major": 2,
       "version_minor": 0
      },
      "text/plain": [
       "HBox(children=(FloatProgress(value=0.0, max=30490.0), HTML(value='')))"
      ]
     },
     "metadata": {},
     "output_type": "display_data"
    },
    {
     "name": "stdout",
     "output_type": "stream",
     "text": [
      "\n",
      "Features rolling_sale_7 over!!\n"
     ]
    },
    {
     "data": {
      "application/vnd.jupyter.widget-view+json": {
       "model_id": "58445ba293d6451593b6b4e996430963",
       "version_major": 2,
       "version_minor": 0
      },
      "text/plain": [
       "HBox(children=(FloatProgress(value=0.0, max=30490.0), HTML(value='')))"
      ]
     },
     "metadata": {},
     "output_type": "display_data"
    },
    {
     "name": "stdout",
     "output_type": "stream",
     "text": [
      "\n",
      "Features rolling_sale_14 over!!\n"
     ]
    },
    {
     "data": {
      "application/vnd.jupyter.widget-view+json": {
       "model_id": "a00ad6d6e49348b39b537d5fcaafbe38",
       "version_major": 2,
       "version_minor": 0
      },
      "text/plain": [
       "HBox(children=(FloatProgress(value=0.0, max=30490.0), HTML(value='')))"
      ]
     },
     "metadata": {},
     "output_type": "display_data"
    },
    {
     "name": "stdout",
     "output_type": "stream",
     "text": [
      "\n",
      "Features rolling_sale_28 over!!\n"
     ]
    },
    {
     "data": {
      "application/vnd.jupyter.widget-view+json": {
       "model_id": "99914b8272584c2cb8086258b0a03820",
       "version_major": 2,
       "version_minor": 0
      },
      "text/plain": [
       "HBox(children=(FloatProgress(value=0.0, max=30490.0), HTML(value='')))"
      ]
     },
     "metadata": {},
     "output_type": "display_data"
    },
    {
     "name": "stdout",
     "output_type": "stream",
     "text": [
      "\n",
      "Features rolling_sale_91 over!!\n"
     ]
    },
    {
     "data": {
      "application/vnd.jupyter.widget-view+json": {
       "model_id": "f22559690ed345e086092b6ddcda2a4f",
       "version_major": 2,
       "version_minor": 0
      },
      "text/plain": [
       "HBox(children=(FloatProgress(value=0.0, max=30490.0), HTML(value='')))"
      ]
     },
     "metadata": {},
     "output_type": "display_data"
    },
    {
     "name": "stdout",
     "output_type": "stream",
     "text": [
      "\n",
      "Features rolling_sale_182 over!!\n"
     ]
    },
    {
     "data": {
      "application/vnd.jupyter.widget-view+json": {
       "model_id": "38cffb349c654811bb3b5bf208ed3180",
       "version_major": 2,
       "version_minor": 0
      },
      "text/plain": [
       "HBox(children=(FloatProgress(value=0.0, max=30490.0), HTML(value='')))"
      ]
     },
     "metadata": {},
     "output_type": "display_data"
    },
    {
     "name": "stdout",
     "output_type": "stream",
     "text": [
      "\n",
      "Features rolling_sale_364 over!!\n"
     ]
    },
    {
     "data": {
      "application/vnd.jupyter.widget-view+json": {
       "model_id": "74c8237b5df949658aa9a6a77a96c905",
       "version_major": 2,
       "version_minor": 0
      },
      "text/plain": [
       "HBox(children=(FloatProgress(value=0.0, max=30490.0), HTML(value='')))"
      ]
     },
     "metadata": {},
     "output_type": "display_data"
    },
    {
     "name": "stdout",
     "output_type": "stream",
     "text": [
      "\n",
      "Features rolling_sale_7_quantile25 over!!\n"
     ]
    },
    {
     "data": {
      "application/vnd.jupyter.widget-view+json": {
       "model_id": "7abf976e70c347e5837258d4720ed846",
       "version_major": 2,
       "version_minor": 0
      },
      "text/plain": [
       "HBox(children=(FloatProgress(value=0.0, max=30490.0), HTML(value='')))"
      ]
     },
     "metadata": {},
     "output_type": "display_data"
    },
    {
     "name": "stdout",
     "output_type": "stream",
     "text": [
      "\n",
      "Features rolling_sale_14_quantile25 over!!\n"
     ]
    },
    {
     "data": {
      "application/vnd.jupyter.widget-view+json": {
       "model_id": "025e5f7cb6554ead9e3d049431400d10",
       "version_major": 2,
       "version_minor": 0
      },
      "text/plain": [
       "HBox(children=(FloatProgress(value=0.0, max=30490.0), HTML(value='')))"
      ]
     },
     "metadata": {},
     "output_type": "display_data"
    },
    {
     "name": "stdout",
     "output_type": "stream",
     "text": [
      "\n",
      "Features rolling_sale28_quantile25 over!!\n"
     ]
    },
    {
     "data": {
      "application/vnd.jupyter.widget-view+json": {
       "model_id": "134945ae9ace4685a0de383bee2d3d5d",
       "version_major": 2,
       "version_minor": 0
      },
      "text/plain": [
       "HBox(children=(FloatProgress(value=0.0, max=30490.0), HTML(value='')))"
      ]
     },
     "metadata": {},
     "output_type": "display_data"
    },
    {
     "name": "stdout",
     "output_type": "stream",
     "text": [
      "\n",
      "Features rolling_sale_91_quantile25 over!!\n"
     ]
    },
    {
     "data": {
      "application/vnd.jupyter.widget-view+json": {
       "model_id": "4b4ecfc202d847ba9b90f685cdd5fabd",
       "version_major": 2,
       "version_minor": 0
      },
      "text/plain": [
       "HBox(children=(FloatProgress(value=0.0, max=30490.0), HTML(value='')))"
      ]
     },
     "metadata": {},
     "output_type": "display_data"
    },
    {
     "name": "stdout",
     "output_type": "stream",
     "text": [
      "\n",
      "Features rolling_sale_182_quantile25 over!!\n"
     ]
    },
    {
     "data": {
      "application/vnd.jupyter.widget-view+json": {
       "model_id": "916fa316c068448d9bb71dd58b071ca5",
       "version_major": 2,
       "version_minor": 0
      },
      "text/plain": [
       "HBox(children=(FloatProgress(value=0.0, max=30490.0), HTML(value='')))"
      ]
     },
     "metadata": {},
     "output_type": "display_data"
    },
    {
     "name": "stdout",
     "output_type": "stream",
     "text": [
      "\n",
      "Features rolling_sale_364_quantile25 over!!\n"
     ]
    },
    {
     "data": {
      "application/vnd.jupyter.widget-view+json": {
       "model_id": "dcbdd7d25d4b4503a883e83b990825a3",
       "version_major": 2,
       "version_minor": 0
      },
      "text/plain": [
       "HBox(children=(FloatProgress(value=0.0, max=30490.0), HTML(value='')))"
      ]
     },
     "metadata": {},
     "output_type": "display_data"
    },
    {
     "name": "stdout",
     "output_type": "stream",
     "text": [
      "\n",
      "Features rolling_sale_7_quantile75 over!!\n"
     ]
    },
    {
     "data": {
      "application/vnd.jupyter.widget-view+json": {
       "model_id": "f658f7fefbae47a3a178a4432e099c34",
       "version_major": 2,
       "version_minor": 0
      },
      "text/plain": [
       "HBox(children=(FloatProgress(value=0.0, max=30490.0), HTML(value='')))"
      ]
     },
     "metadata": {},
     "output_type": "display_data"
    },
    {
     "name": "stdout",
     "output_type": "stream",
     "text": [
      "\n",
      "Features rolling_sale_14_quantile75 over!!\n"
     ]
    },
    {
     "data": {
      "application/vnd.jupyter.widget-view+json": {
       "model_id": "572ba5ad6b8241ec8e164047a3bc0024",
       "version_major": 2,
       "version_minor": 0
      },
      "text/plain": [
       "HBox(children=(FloatProgress(value=0.0, max=30490.0), HTML(value='')))"
      ]
     },
     "metadata": {},
     "output_type": "display_data"
    },
    {
     "name": "stdout",
     "output_type": "stream",
     "text": [
      "\n",
      "Features rolling_sale28_quantile75 over!!\n"
     ]
    },
    {
     "data": {
      "application/vnd.jupyter.widget-view+json": {
       "model_id": "d758aeec854d49208e51b118bfe441db",
       "version_major": 2,
       "version_minor": 0
      },
      "text/plain": [
       "HBox(children=(FloatProgress(value=0.0, max=30490.0), HTML(value='')))"
      ]
     },
     "metadata": {},
     "output_type": "display_data"
    },
    {
     "name": "stdout",
     "output_type": "stream",
     "text": [
      "\n",
      "Features rolling_sale_91_quantile75 over!!\n"
     ]
    },
    {
     "data": {
      "application/vnd.jupyter.widget-view+json": {
       "model_id": "b1757b8b370b4f0c91bd1efec5c3c918",
       "version_major": 2,
       "version_minor": 0
      },
      "text/plain": [
       "HBox(children=(FloatProgress(value=0.0, max=30490.0), HTML(value='')))"
      ]
     },
     "metadata": {},
     "output_type": "display_data"
    },
    {
     "name": "stdout",
     "output_type": "stream",
     "text": [
      "\n",
      "Features rolling_sale_182_quantile75 over!!\n"
     ]
    },
    {
     "data": {
      "application/vnd.jupyter.widget-view+json": {
       "model_id": "1931b8c8fbcc43a596f0065b0f36a6ac",
       "version_major": 2,
       "version_minor": 0
      },
      "text/plain": [
       "HBox(children=(FloatProgress(value=0.0, max=30490.0), HTML(value='')))"
      ]
     },
     "metadata": {},
     "output_type": "display_data"
    },
    {
     "name": "stdout",
     "output_type": "stream",
     "text": [
      "\n",
      "Features rolling_sale_364_quantile75 over!!\n"
     ]
    },
    {
     "data": {
      "application/vnd.jupyter.widget-view+json": {
       "model_id": "3c387d07d60c4a8b8897245a33fc865c",
       "version_major": 2,
       "version_minor": 0
      },
      "text/plain": [
       "HBox(children=(FloatProgress(value=0.0, max=213430.0), HTML(value='')))"
      ]
     },
     "metadata": {},
     "output_type": "display_data"
    },
    {
     "name": "stdout",
     "output_type": "stream",
     "text": [
      "\n",
      "Features rolling_sale_dayofweek_2 over!!\n"
     ]
    },
    {
     "data": {
      "application/vnd.jupyter.widget-view+json": {
       "model_id": "b0f2669be7e34f768d15c35d73cb0fe6",
       "version_major": 2,
       "version_minor": 0
      },
      "text/plain": [
       "HBox(children=(FloatProgress(value=0.0, max=213430.0), HTML(value='')))"
      ]
     },
     "metadata": {},
     "output_type": "display_data"
    },
    {
     "name": "stdout",
     "output_type": "stream",
     "text": [
      "\n",
      "Features rolling_sale_dayofweek_4 over!!\n"
     ]
    },
    {
     "data": {
      "application/vnd.jupyter.widget-view+json": {
       "model_id": "93771f264e914051bc762695dfb54a40",
       "version_major": 2,
       "version_minor": 0
      },
      "text/plain": [
       "HBox(children=(FloatProgress(value=0.0, max=213430.0), HTML(value='')))"
      ]
     },
     "metadata": {},
     "output_type": "display_data"
    },
    {
     "name": "stdout",
     "output_type": "stream",
     "text": [
      "\n",
      "Features rolling_sale_dayofweek_8 over!!\n"
     ]
    },
    {
     "data": {
      "application/vnd.jupyter.widget-view+json": {
       "model_id": "0ea315f0d63d443699ed05287b8e9365",
       "version_major": 2,
       "version_minor": 0
      },
      "text/plain": [
       "HBox(children=(FloatProgress(value=0.0, max=213430.0), HTML(value='')))"
      ]
     },
     "metadata": {},
     "output_type": "display_data"
    },
    {
     "name": "stdout",
     "output_type": "stream",
     "text": [
      "\n",
      "Features rolling_sale_dayofweek_12 over!!\n"
     ]
    },
    {
     "data": {
      "application/vnd.jupyter.widget-view+json": {
       "model_id": "fcf3679169a84e5bbafae18a734c86f5",
       "version_major": 2,
       "version_minor": 0
      },
      "text/plain": [
       "HBox(children=(FloatProgress(value=0.0, max=213430.0), HTML(value='')))"
      ]
     },
     "metadata": {},
     "output_type": "display_data"
    },
    {
     "name": "stdout",
     "output_type": "stream",
     "text": [
      "\n",
      "Features rolling_sale_dayofweek_24 over!!\n"
     ]
    },
    {
     "data": {
      "application/vnd.jupyter.widget-view+json": {
       "model_id": "848d9f1ac08940668856f85e965d53fb",
       "version_major": 2,
       "version_minor": 0
      },
      "text/plain": [
       "HBox(children=(FloatProgress(value=0.0, max=213430.0), HTML(value='')))"
      ]
     },
     "metadata": {},
     "output_type": "display_data"
    },
    {
     "name": "stdout",
     "output_type": "stream",
     "text": [
      "\n",
      "Features rolling_sale_dayofweek_52 over!!\n"
     ]
    },
    {
     "data": {
      "application/vnd.jupyter.widget-view+json": {
       "model_id": "429eee607f8a45d3ba60721e4f8e5693",
       "version_major": 2,
       "version_minor": 0
      },
      "text/plain": [
       "HBox(children=(FloatProgress(value=0.0, max=30490.0), HTML(value='')))"
      ]
     },
     "metadata": {},
     "output_type": "display_data"
    },
    {
     "name": "stdout",
     "output_type": "stream",
     "text": [
      "\n",
      "Features rolling_sale_dayofweek_8_quantile25 over!!\n"
     ]
    },
    {
     "data": {
      "application/vnd.jupyter.widget-view+json": {
       "model_id": "d35661d66efa424c9a105dfe928b523e",
       "version_major": 2,
       "version_minor": 0
      },
      "text/plain": [
       "HBox(children=(FloatProgress(value=0.0, max=30490.0), HTML(value='')))"
      ]
     },
     "metadata": {},
     "output_type": "display_data"
    },
    {
     "name": "stdout",
     "output_type": "stream",
     "text": [
      "\n",
      "Features rolling_sale_dayofweek_12_quantile25 over!!\n"
     ]
    },
    {
     "data": {
      "application/vnd.jupyter.widget-view+json": {
       "model_id": "05b5b6ff919045dcacbdb92207877378",
       "version_major": 2,
       "version_minor": 0
      },
      "text/plain": [
       "HBox(children=(FloatProgress(value=0.0, max=30490.0), HTML(value='')))"
      ]
     },
     "metadata": {},
     "output_type": "display_data"
    },
    {
     "name": "stdout",
     "output_type": "stream",
     "text": [
      "\n",
      "Features rolling_sale_dayofweek_24_quantile25 over!!\n"
     ]
    },
    {
     "data": {
      "application/vnd.jupyter.widget-view+json": {
       "model_id": "e0a3e6c1f7da43a2a9b459f08b523048",
       "version_major": 2,
       "version_minor": 0
      },
      "text/plain": [
       "HBox(children=(FloatProgress(value=0.0, max=30490.0), HTML(value='')))"
      ]
     },
     "metadata": {},
     "output_type": "display_data"
    },
    {
     "name": "stdout",
     "output_type": "stream",
     "text": [
      "\n",
      "Features rolling_sale_dayofweek_52_quantile25 over!!\n"
     ]
    },
    {
     "data": {
      "application/vnd.jupyter.widget-view+json": {
       "model_id": "cbc615014f444d9081a9d3fe30f1a5fc",
       "version_major": 2,
       "version_minor": 0
      },
      "text/plain": [
       "HBox(children=(FloatProgress(value=0.0, max=30490.0), HTML(value='')))"
      ]
     },
     "metadata": {},
     "output_type": "display_data"
    },
    {
     "name": "stdout",
     "output_type": "stream",
     "text": [
      "\n",
      "Features rolling_sale_dayofweek_8_quantile75 over!!\n"
     ]
    },
    {
     "data": {
      "application/vnd.jupyter.widget-view+json": {
       "model_id": "9c92f1a725a04c6e81013195482096dd",
       "version_major": 2,
       "version_minor": 0
      },
      "text/plain": [
       "HBox(children=(FloatProgress(value=0.0, max=30490.0), HTML(value='')))"
      ]
     },
     "metadata": {},
     "output_type": "display_data"
    },
    {
     "name": "stdout",
     "output_type": "stream",
     "text": [
      "\n",
      "Features rolling_sale_dayofweek_12_quantile75 over!!\n"
     ]
    },
    {
     "data": {
      "application/vnd.jupyter.widget-view+json": {
       "model_id": "da18eb2a553245829dc248d79f2d2562",
       "version_major": 2,
       "version_minor": 0
      },
      "text/plain": [
       "HBox(children=(FloatProgress(value=0.0, max=30490.0), HTML(value='')))"
      ]
     },
     "metadata": {},
     "output_type": "display_data"
    },
    {
     "name": "stdout",
     "output_type": "stream",
     "text": [
      "\n",
      "Features rolling_sale_dayofweek_24_quantile75 over!!\n"
     ]
    },
    {
     "data": {
      "application/vnd.jupyter.widget-view+json": {
       "model_id": "69619f5df6b147398f58b8d5bc8fbc00",
       "version_major": 2,
       "version_minor": 0
      },
      "text/plain": [
       "HBox(children=(FloatProgress(value=0.0, max=30490.0), HTML(value='')))"
      ]
     },
     "metadata": {},
     "output_type": "display_data"
    },
    {
     "name": "stdout",
     "output_type": "stream",
     "text": [
      "\n",
      "Features rolling_sale_dayofweek_52_quantile75 over!!\n",
      "1\n"
     ]
    }
   ],
   "source": [
    "print(1)\n",
    "train1 = feature_engineer(truncated_data,12,None)"
   ]
  },
  {
   "cell_type": "code",
   "execution_count": 22,
   "metadata": {
    "ExecuteTime": {
     "end_time": "2020-04-24T04:19:37.175374Z",
     "start_time": "2020-04-24T04:19:25.844298Z"
    }
   },
   "outputs": [
    {
     "data": {
      "text/plain": [
       "129"
      ]
     },
     "execution_count": 22,
     "metadata": {},
     "output_type": "execute_result"
    }
   ],
   "source": [
    "gc.collect()"
   ]
  },
  {
   "cell_type": "code",
   "execution_count": 13,
   "metadata": {
    "ExecuteTime": {
     "end_time": "2020-04-24T05:50:11.033566Z",
     "start_time": "2020-04-24T05:50:11.027968Z"
    }
   },
   "outputs": [],
   "source": [
    "error_fea = ['rolling_sale_dayofweek_8_quantile25','rolling_sale_dayofweek_12_quantile25','rolling_sale_dayofweek_24_quantile25',\n",
    "            'rolling_sale_dayofweek_52_quantile25','rolling_sale_dayofweek_8_quantile75','rolling_sale_dayofweek_12_quantile75',\n",
    "            'rolling_sale_dayofweek_24_quantile75','rolling_sale_dayofweek_52_quantile75']"
   ]
  },
  {
   "cell_type": "code",
   "execution_count": 14,
   "metadata": {
    "ExecuteTime": {
     "end_time": "2020-04-24T05:50:12.003518Z",
     "start_time": "2020-04-24T05:50:11.995519Z"
    }
   },
   "outputs": [
    {
     "data": {
      "text/plain": [
       "8"
      ]
     },
     "execution_count": 14,
     "metadata": {},
     "output_type": "execute_result"
    }
   ],
   "source": [
    "len(error_fea)"
   ]
  },
  {
   "cell_type": "code",
   "execution_count": 15,
   "metadata": {
    "ExecuteTime": {
     "end_time": "2020-04-24T05:51:29.678684Z",
     "start_time": "2020-04-24T05:50:29.269800Z"
    }
   },
   "outputs": [],
   "source": [
    "train1.drop(error_fea,axis=1,inplace=True)"
   ]
  },
  {
   "cell_type": "code",
   "execution_count": 18,
   "metadata": {
    "ExecuteTime": {
     "end_time": "2020-04-24T05:52:28.908482Z",
     "start_time": "2020-04-24T05:52:28.896993Z"
    }
   },
   "outputs": [],
   "source": [
    "def feature_engineer(df,num_core,date1):\n",
    "    \"\"\"\n",
    "    df format:sales_train_long_format\n",
    "    \"\"\"\n",
    "    \n",
    "    df = df.copy()\n",
    "    df['dayofweek'] = df['date'].dt.dayofweek\n",
    "    df['rolling_sale_dayofweek_8_quantile25'] = \\\n",
    "                parall_group_by_id_dayofweek_sale(df,rolling_sale_dayofweek_8_quantile25,num_core,'rolling_sale_dayofweek_8_quantile25')\n",
    "    df['rolling_sale_dayofweek_12_quantile25'] = \\\n",
    "                parall_group_by_id_dayofweek_sale(df,rolling_sale_dayofweek_12_quantile25,num_core,'rolling_sale_dayofweek_12_quantile25')\n",
    "    df['rolling_sale_dayofweek_24_quantile25'] = \\\n",
    "                parall_group_by_id_dayofweek_sale(df,rolling_sale_dayofweek_24_quantile25,num_core,'rolling_sale_dayofweek_24_quantile25')\n",
    "    df['rolling_sale_dayofweek_52_quantile25'] = \\\n",
    "                parall_group_by_id_dayofweek_sale(df,rolling_sale_dayofweek_52_quantile25,num_core,'rolling_sale_dayofweek_52_quantile25')\n",
    "    \n",
    "    df['rolling_sale_dayofweek_8_quantile75'] = \\\n",
    "                parall_group_by_id_dayofweek_sale(df,rolling_sale_dayofweek_8_quantile75,num_core,'rolling_sale_dayofweek_8_quantile75')\n",
    "    df['rolling_sale_dayofweek_12_quantile75'] = \\\n",
    "                parall_group_by_id_dayofweek_sale(df,rolling_sale_dayofweek_12_quantile75,num_core,'rolling_sale_dayofweek_12_quantile75')\n",
    "    df['rolling_sale_dayofweek_24_quantile75'] = \\\n",
    "                parall_group_by_id_dayofweek_sale(df,rolling_sale_dayofweek_24_quantile75,num_core,'rolling_sale_dayofweek_24_quantile75')\n",
    "    df['rolling_sale_dayofweek_52_quantile75'] = \\\n",
    "                parall_group_by_id_dayofweek_sale(df,rolling_sale_dayofweek_52_quantile75,num_core,'rolling_sale_dayofweek_52_quantile75')\n",
    "    \n",
    "    df = reduce_mem_usage(df,False)\n",
    "\n",
    "\n",
    "\n",
    "    return df"
   ]
  },
  {
   "cell_type": "code",
   "execution_count": 19,
   "metadata": {
    "ExecuteTime": {
     "end_time": "2020-04-24T06:23:56.003651Z",
     "start_time": "2020-04-24T05:52:29.694379Z"
    }
   },
   "outputs": [
    {
     "name": "stdout",
     "output_type": "stream",
     "text": [
      "1\n"
     ]
    },
    {
     "data": {
      "application/vnd.jupyter.widget-view+json": {
       "model_id": "11bdecce3c0b4e1889d0750492f4a020",
       "version_major": 2,
       "version_minor": 0
      },
      "text/plain": [
       "HBox(children=(FloatProgress(value=0.0, max=213430.0), HTML(value='')))"
      ]
     },
     "metadata": {},
     "output_type": "display_data"
    },
    {
     "name": "stdout",
     "output_type": "stream",
     "text": [
      "\n",
      "Features rolling_sale_dayofweek_8_quantile25 over!!\n"
     ]
    },
    {
     "data": {
      "application/vnd.jupyter.widget-view+json": {
       "model_id": "bb8d5218150d4c91aaaf1a3ca3e66b79",
       "version_major": 2,
       "version_minor": 0
      },
      "text/plain": [
       "HBox(children=(FloatProgress(value=0.0, max=213430.0), HTML(value='')))"
      ]
     },
     "metadata": {},
     "output_type": "display_data"
    },
    {
     "name": "stdout",
     "output_type": "stream",
     "text": [
      "\n",
      "Features rolling_sale_dayofweek_12_quantile25 over!!\n"
     ]
    },
    {
     "data": {
      "application/vnd.jupyter.widget-view+json": {
       "model_id": "d891b82c004b46d39852f03add88769c",
       "version_major": 2,
       "version_minor": 0
      },
      "text/plain": [
       "HBox(children=(FloatProgress(value=0.0, max=213430.0), HTML(value='')))"
      ]
     },
     "metadata": {},
     "output_type": "display_data"
    },
    {
     "name": "stdout",
     "output_type": "stream",
     "text": [
      "\n",
      "Features rolling_sale_dayofweek_24_quantile25 over!!\n"
     ]
    },
    {
     "data": {
      "application/vnd.jupyter.widget-view+json": {
       "model_id": "3e2b5bc51efd48e3bd98a8ee4eed8049",
       "version_major": 2,
       "version_minor": 0
      },
      "text/plain": [
       "HBox(children=(FloatProgress(value=0.0, max=213430.0), HTML(value='')))"
      ]
     },
     "metadata": {},
     "output_type": "display_data"
    },
    {
     "name": "stdout",
     "output_type": "stream",
     "text": [
      "\n",
      "Features rolling_sale_dayofweek_52_quantile25 over!!\n"
     ]
    },
    {
     "data": {
      "application/vnd.jupyter.widget-view+json": {
       "model_id": "f37a317dbfdc4e02b2900920d8958f08",
       "version_major": 2,
       "version_minor": 0
      },
      "text/plain": [
       "HBox(children=(FloatProgress(value=0.0, max=213430.0), HTML(value='')))"
      ]
     },
     "metadata": {},
     "output_type": "display_data"
    },
    {
     "name": "stdout",
     "output_type": "stream",
     "text": [
      "\n",
      "Features rolling_sale_dayofweek_8_quantile75 over!!\n"
     ]
    },
    {
     "data": {
      "application/vnd.jupyter.widget-view+json": {
       "model_id": "20a87a46a8d54cacb19f5cdd7dae3f67",
       "version_major": 2,
       "version_minor": 0
      },
      "text/plain": [
       "HBox(children=(FloatProgress(value=0.0, max=213430.0), HTML(value='')))"
      ]
     },
     "metadata": {},
     "output_type": "display_data"
    },
    {
     "name": "stdout",
     "output_type": "stream",
     "text": [
      "\n",
      "Features rolling_sale_dayofweek_12_quantile75 over!!\n"
     ]
    },
    {
     "data": {
      "application/vnd.jupyter.widget-view+json": {
       "model_id": "dfb87bd00f364f5aa68b27d31778fa2f",
       "version_major": 2,
       "version_minor": 0
      },
      "text/plain": [
       "HBox(children=(FloatProgress(value=0.0, max=213430.0), HTML(value='')))"
      ]
     },
     "metadata": {},
     "output_type": "display_data"
    },
    {
     "name": "stdout",
     "output_type": "stream",
     "text": [
      "\n",
      "Features rolling_sale_dayofweek_24_quantile75 over!!\n"
     ]
    },
    {
     "data": {
      "application/vnd.jupyter.widget-view+json": {
       "model_id": "60ee770d48914f6e94b380f1abf71d7b",
       "version_major": 2,
       "version_minor": 0
      },
      "text/plain": [
       "HBox(children=(FloatProgress(value=0.0, max=213430.0), HTML(value='')))"
      ]
     },
     "metadata": {},
     "output_type": "display_data"
    },
    {
     "name": "stdout",
     "output_type": "stream",
     "text": [
      "\n",
      "Features rolling_sale_dayofweek_52_quantile75 over!!\n"
     ]
    }
   ],
   "source": [
    "print(1)\n",
    "train2 = feature_engineer(truncated_data,12,None)"
   ]
  },
  {
   "cell_type": "code",
   "execution_count": 20,
   "metadata": {
    "ExecuteTime": {
     "end_time": "2020-04-24T06:24:51.673298Z",
     "start_time": "2020-04-24T06:24:42.236560Z"
    }
   },
   "outputs": [
    {
     "data": {
      "text/html": [
       "<div>\n",
       "<style scoped>\n",
       "    .dataframe tbody tr th:only-of-type {\n",
       "        vertical-align: middle;\n",
       "    }\n",
       "\n",
       "    .dataframe tbody tr th {\n",
       "        vertical-align: top;\n",
       "    }\n",
       "\n",
       "    .dataframe thead th {\n",
       "        text-align: right;\n",
       "    }\n",
       "</style>\n",
       "<table border=\"1\" class=\"dataframe\">\n",
       "  <thead>\n",
       "    <tr style=\"text-align: right;\">\n",
       "      <th></th>\n",
       "      <th>rolling_sale_dayofweek_8_quantile25</th>\n",
       "      <th>rolling_sale_dayofweek_12_quantile25</th>\n",
       "      <th>rolling_sale_dayofweek_24_quantile25</th>\n",
       "      <th>rolling_sale_dayofweek_52_quantile25</th>\n",
       "      <th>rolling_sale_dayofweek_8_quantile75</th>\n",
       "      <th>rolling_sale_dayofweek_12_quantile75</th>\n",
       "      <th>rolling_sale_dayofweek_24_quantile75</th>\n",
       "      <th>rolling_sale_dayofweek_52_quantile75</th>\n",
       "      <th>id</th>\n",
       "      <th>day_num</th>\n",
       "    </tr>\n",
       "  </thead>\n",
       "  <tbody>\n",
       "    <tr>\n",
       "      <th>0</th>\n",
       "      <td>NaN</td>\n",
       "      <td>NaN</td>\n",
       "      <td>NaN</td>\n",
       "      <td>NaN</td>\n",
       "      <td>NaN</td>\n",
       "      <td>NaN</td>\n",
       "      <td>NaN</td>\n",
       "      <td>NaN</td>\n",
       "      <td>HOBBIES_1_001_CA_1_validation</td>\n",
       "      <td>1</td>\n",
       "    </tr>\n",
       "    <tr>\n",
       "      <th>1</th>\n",
       "      <td>NaN</td>\n",
       "      <td>NaN</td>\n",
       "      <td>NaN</td>\n",
       "      <td>NaN</td>\n",
       "      <td>NaN</td>\n",
       "      <td>NaN</td>\n",
       "      <td>NaN</td>\n",
       "      <td>NaN</td>\n",
       "      <td>HOBBIES_1_002_CA_1_validation</td>\n",
       "      <td>1</td>\n",
       "    </tr>\n",
       "    <tr>\n",
       "      <th>2</th>\n",
       "      <td>NaN</td>\n",
       "      <td>NaN</td>\n",
       "      <td>NaN</td>\n",
       "      <td>NaN</td>\n",
       "      <td>NaN</td>\n",
       "      <td>NaN</td>\n",
       "      <td>NaN</td>\n",
       "      <td>NaN</td>\n",
       "      <td>HOBBIES_1_003_CA_1_validation</td>\n",
       "      <td>1</td>\n",
       "    </tr>\n",
       "    <tr>\n",
       "      <th>3</th>\n",
       "      <td>NaN</td>\n",
       "      <td>NaN</td>\n",
       "      <td>NaN</td>\n",
       "      <td>NaN</td>\n",
       "      <td>NaN</td>\n",
       "      <td>NaN</td>\n",
       "      <td>NaN</td>\n",
       "      <td>NaN</td>\n",
       "      <td>HOBBIES_1_004_CA_1_validation</td>\n",
       "      <td>1</td>\n",
       "    </tr>\n",
       "    <tr>\n",
       "      <th>4</th>\n",
       "      <td>NaN</td>\n",
       "      <td>NaN</td>\n",
       "      <td>NaN</td>\n",
       "      <td>NaN</td>\n",
       "      <td>NaN</td>\n",
       "      <td>NaN</td>\n",
       "      <td>NaN</td>\n",
       "      <td>NaN</td>\n",
       "      <td>HOBBIES_1_005_CA_1_validation</td>\n",
       "      <td>1</td>\n",
       "    </tr>\n",
       "  </tbody>\n",
       "</table>\n",
       "</div>"
      ],
      "text/plain": [
       "   rolling_sale_dayofweek_8_quantile25  rolling_sale_dayofweek_12_quantile25  \\\n",
       "0                                  NaN                                   NaN   \n",
       "1                                  NaN                                   NaN   \n",
       "2                                  NaN                                   NaN   \n",
       "3                                  NaN                                   NaN   \n",
       "4                                  NaN                                   NaN   \n",
       "\n",
       "   rolling_sale_dayofweek_24_quantile25  rolling_sale_dayofweek_52_quantile25  \\\n",
       "0                                   NaN                                   NaN   \n",
       "1                                   NaN                                   NaN   \n",
       "2                                   NaN                                   NaN   \n",
       "3                                   NaN                                   NaN   \n",
       "4                                   NaN                                   NaN   \n",
       "\n",
       "   rolling_sale_dayofweek_8_quantile75  rolling_sale_dayofweek_12_quantile75  \\\n",
       "0                                  NaN                                   NaN   \n",
       "1                                  NaN                                   NaN   \n",
       "2                                  NaN                                   NaN   \n",
       "3                                  NaN                                   NaN   \n",
       "4                                  NaN                                   NaN   \n",
       "\n",
       "   rolling_sale_dayofweek_24_quantile75  rolling_sale_dayofweek_52_quantile75  \\\n",
       "0                                   NaN                                   NaN   \n",
       "1                                   NaN                                   NaN   \n",
       "2                                   NaN                                   NaN   \n",
       "3                                   NaN                                   NaN   \n",
       "4                                   NaN                                   NaN   \n",
       "\n",
       "                              id  day_num  \n",
       "0  HOBBIES_1_001_CA_1_validation        1  \n",
       "1  HOBBIES_1_002_CA_1_validation        1  \n",
       "2  HOBBIES_1_003_CA_1_validation        1  \n",
       "3  HOBBIES_1_004_CA_1_validation        1  \n",
       "4  HOBBIES_1_005_CA_1_validation        1  "
      ]
     },
     "execution_count": 20,
     "metadata": {},
     "output_type": "execute_result"
    }
   ],
   "source": [
    "train2[error_fea + ['id','day_num']].head()"
   ]
  },
  {
   "cell_type": "code",
   "execution_count": null,
   "metadata": {},
   "outputs": [],
   "source": [
    "pd.join()"
   ]
  },
  {
   "cell_type": "code",
   "execution_count": 22,
   "metadata": {
    "ExecuteTime": {
     "end_time": "2020-04-24T06:27:21.069002Z",
     "start_time": "2020-04-24T06:27:21.064952Z"
    }
   },
   "outputs": [],
   "source": [
    "del sales_train_long_format"
   ]
  },
  {
   "cell_type": "code",
   "execution_count": 23,
   "metadata": {
    "ExecuteTime": {
     "end_time": "2020-04-24T06:27:33.856397Z",
     "start_time": "2020-04-24T06:27:24.237736Z"
    }
   },
   "outputs": [
    {
     "data": {
      "text/plain": [
       "3098"
      ]
     },
     "execution_count": 23,
     "metadata": {},
     "output_type": "execute_result"
    }
   ],
   "source": [
    "gc.collect()"
   ]
  },
  {
   "cell_type": "code",
   "execution_count": 24,
   "metadata": {
    "ExecuteTime": {
     "end_time": "2020-04-24T06:28:10.454325Z",
     "start_time": "2020-04-24T06:28:10.451079Z"
    }
   },
   "outputs": [],
   "source": [
    "del truncated_data"
   ]
  },
  {
   "cell_type": "code",
   "execution_count": 25,
   "metadata": {
    "ExecuteTime": {
     "end_time": "2020-04-24T06:28:16.342161Z",
     "start_time": "2020-04-24T06:28:13.208166Z"
    }
   },
   "outputs": [
    {
     "data": {
      "text/plain": [
       "2564"
      ]
     },
     "execution_count": 25,
     "metadata": {},
     "output_type": "execute_result"
    }
   ],
   "source": [
    "gc.collect()"
   ]
  },
  {
   "cell_type": "code",
   "execution_count": 27,
   "metadata": {
    "ExecuteTime": {
     "end_time": "2020-04-24T06:30:01.656269Z",
     "start_time": "2020-04-24T06:30:01.651038Z"
    }
   },
   "outputs": [
    {
     "data": {
      "text/plain": [
       "(60034810, 88)"
      ]
     },
     "execution_count": 27,
     "metadata": {},
     "output_type": "execute_result"
    }
   ],
   "source": [
    "train1.shape"
   ]
  },
  {
   "cell_type": "code",
   "execution_count": 28,
   "metadata": {
    "ExecuteTime": {
     "end_time": "2020-04-24T06:30:05.031843Z",
     "start_time": "2020-04-24T06:30:05.026785Z"
    }
   },
   "outputs": [
    {
     "data": {
      "text/plain": [
       "(60034810, 27)"
      ]
     },
     "execution_count": 28,
     "metadata": {},
     "output_type": "execute_result"
    }
   ],
   "source": [
    "train2.shape"
   ]
  },
  {
   "cell_type": "code",
   "execution_count": 33,
   "metadata": {
    "ExecuteTime": {
     "end_time": "2020-04-24T06:32:31.687711Z",
     "start_time": "2020-04-24T06:32:25.096187Z"
    }
   },
   "outputs": [
    {
     "data": {
      "text/plain": [
       "60034810"
      ]
     },
     "execution_count": 33,
     "metadata": {},
     "output_type": "execute_result"
    }
   ],
   "source": [
    "np.sum(train1.id == train2.id)"
   ]
  },
  {
   "cell_type": "code",
   "execution_count": 34,
   "metadata": {
    "ExecuteTime": {
     "end_time": "2020-04-24T06:32:35.669170Z",
     "start_time": "2020-04-24T06:32:34.438653Z"
    }
   },
   "outputs": [
    {
     "data": {
      "text/plain": [
       "60034810"
      ]
     },
     "execution_count": 34,
     "metadata": {},
     "output_type": "execute_result"
    }
   ],
   "source": [
    "np.sum(train1.day_num == train2.day_num)"
   ]
  },
  {
   "cell_type": "code",
   "execution_count": 36,
   "metadata": {
    "ExecuteTime": {
     "end_time": "2020-04-24T06:33:13.899475Z",
     "start_time": "2020-04-24T06:33:11.464209Z"
    }
   },
   "outputs": [
    {
     "name": "stdout",
     "output_type": "stream",
     "text": [
      "rolling_sale_dayofweek_8_quantile25\n",
      "rolling_sale_dayofweek_12_quantile25\n",
      "rolling_sale_dayofweek_24_quantile25\n",
      "rolling_sale_dayofweek_52_quantile25\n",
      "rolling_sale_dayofweek_8_quantile75\n",
      "rolling_sale_dayofweek_12_quantile75\n",
      "rolling_sale_dayofweek_24_quantile75\n",
      "rolling_sale_dayofweek_52_quantile75\n"
     ]
    }
   ],
   "source": [
    "for i in error_fea:\n",
    "    print(i)\n",
    "    train1[i] = train2[i].copy()"
   ]
  },
  {
   "cell_type": "code",
   "execution_count": null,
   "metadata": {
    "ExecuteTime": {
     "start_time": "2020-04-24T06:33:43.580Z"
    }
   },
   "outputs": [],
   "source": [
    "train1.to_pickle('data_part1.pkl')"
   ]
  },
  {
   "cell_type": "code",
   "execution_count": null,
   "metadata": {
    "ExecuteTime": {
     "start_time": "2020-04-24T06:42:35.881Z"
    }
   },
   "outputs": [],
   "source": [
    "train2 = pd.read_pickle('data_part1.pkl')"
   ]
  }
 ],
 "metadata": {
  "kernelspec": {
   "display_name": "Python 3",
   "language": "python",
   "name": "python3"
  },
  "language_info": {
   "codemirror_mode": {
    "name": "ipython",
    "version": 3
   },
   "file_extension": ".py",
   "mimetype": "text/x-python",
   "name": "python",
   "nbconvert_exporter": "python",
   "pygments_lexer": "ipython3",
   "version": "3.7.3"
  },
  "toc": {
   "base_numbering": 1,
   "nav_menu": {},
   "number_sections": true,
   "sideBar": true,
   "skip_h1_title": false,
   "title_cell": "Table of Contents",
   "title_sidebar": "Contents",
   "toc_cell": false,
   "toc_position": {},
   "toc_section_display": true,
   "toc_window_display": false
  }
 },
 "nbformat": 4,
 "nbformat_minor": 2
}
