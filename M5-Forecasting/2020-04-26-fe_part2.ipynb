{
 "cells": [
  {
   "cell_type": "code",
   "execution_count": 1,
   "metadata": {
    "ExecuteTime": {
     "end_time": "2020-04-27T06:57:24.711408Z",
     "start_time": "2020-04-27T06:57:23.020983Z"
    }
   },
   "outputs": [],
   "source": [
    "import numpy as np\n",
    "import pandas as pd\n",
    "import seaborn as sns\n",
    "import matplotlib.pyplot as plt \n",
    "from sklearn import preprocessing\n",
    "from sklearn.preprocessing import LabelEncoder\n",
    "import catboost as cb\n",
    "import lightgbm as lgb\n",
    "from sklearn.ensemble import RandomForestClassifier\n",
    "from sklearn.model_selection import GridSearchCV, ShuffleSplit,StratifiedKFold,TimeSeriesSplit,KFold,GroupKFold,train_test_split,GroupShuffleSplit,StratifiedShuffleSplit\n",
    "from sklearn.metrics import roc_auc_score,mean_squared_error,mean_absolute_error,log_loss,confusion_matrix\n",
    "import sqlite3\n",
    "import xgboost as xgb\n",
    "import datetime\n",
    "from sklearn.linear_model import LogisticRegression\n",
    "from scipy.stats import pearsonr\n",
    "import gc\n",
    "from sklearn.model_selection import TimeSeriesSplit\n",
    "#from bayes_opt import BayesianOptimization\n",
    "import re\n",
    "from string import punctuation\n",
    "from scipy.spatial import Voronoi\n",
    "from scipy.spatial import ConvexHull\n",
    "from scipy.spatial import Delaunay\n",
    "from tqdm.notebook import tqdm\n",
    "from numba import jit\n",
    "from collections import Counter\n",
    "import json\n",
    "import joblib\n",
    "import multiprocessing\n",
    "import time"
   ]
  },
  {
   "cell_type": "code",
   "execution_count": 2,
   "metadata": {
    "ExecuteTime": {
     "end_time": "2020-04-27T06:57:24.806985Z",
     "start_time": "2020-04-27T06:57:24.715088Z"
    }
   },
   "outputs": [],
   "source": [
    "def reduce_mem_usage(df, verbose=True):\n",
    "    numerics = ['int32', 'int64', 'float64']\n",
    "    start_mem = df.memory_usage().sum() / 1024**2    \n",
    "    for col in df.columns:\n",
    "        col_type = df[col].dtypes\n",
    "        if col_type in numerics:\n",
    "            c_min = df[col].min()\n",
    "            c_max = df[col].max()\n",
    "            if str(col_type)[:3] == 'int':\n",
    "                if c_min > np.iinfo(np.int16).min and c_max < np.iinfo(np.int16).max:\n",
    "                    df[col] = df[col].astype(np.int16)\n",
    "                elif c_min > np.iinfo(np.int32).min and c_max < np.iinfo(np.int32).max:\n",
    "                    df[col] = df[col].astype(np.int32)\n",
    "                elif c_min > np.iinfo(np.int64).min and c_max < np.iinfo(np.int64).max:\n",
    "                    df[col] = df[col].astype(np.int64)  \n",
    "            else:\n",
    "                if c_min > np.finfo(np.float32).min and c_max < np.finfo(np.float32).max:\n",
    "                    df[col] = df[col].astype(np.float32)\n",
    "                else:\n",
    "                    df[col] = df[col].astype(np.float64)    \n",
    "    end_mem = df.memory_usage().sum() / 1024**2\n",
    "    if verbose: print('Mem. usage decreased to {:5.2f} Mb ({:.1f}% reduction)'.format(end_mem, 100 * (start_mem - end_mem) / start_mem))\n",
    "    return df"
   ]
  },
  {
   "cell_type": "code",
   "execution_count": 3,
   "metadata": {
    "ExecuteTime": {
     "end_time": "2020-04-27T06:57:41.650076Z",
     "start_time": "2020-04-27T06:57:24.810181Z"
    }
   },
   "outputs": [],
   "source": [
    "sample_submission = pd.read_csv('../data/sample_submission.csv')\n",
    "sell_prices = pd.read_csv('../data/sell_prices.csv')\n",
    "sales_train = pd.read_csv('../data/sales_train_validation.csv')\n",
    "calendar = pd.read_csv('../data/calendar.csv')"
   ]
  },
  {
   "cell_type": "code",
   "execution_count": 4,
   "metadata": {
    "ExecuteTime": {
     "end_time": "2020-04-27T06:57:41.718012Z",
     "start_time": "2020-04-27T06:57:41.655740Z"
    }
   },
   "outputs": [],
   "source": [
    "####扩展sales_train df方便后续\n",
    "#sales_train = pd.read_csv('../data/sales_train_validation.csv')\n",
    "for _ in [f'd_{i}' for i in range(1914,1970)]:\n",
    "    sales_train[_] = np.nan"
   ]
  },
  {
   "cell_type": "code",
   "execution_count": 5,
   "metadata": {
    "ExecuteTime": {
     "end_time": "2020-04-27T06:58:02.515031Z",
     "start_time": "2020-04-27T06:57:41.721479Z"
    }
   },
   "outputs": [],
   "source": [
    "sales_train_long_format = pd.melt(sales_train,id_vars=['id','item_id','dept_id','cat_id','store_id','state_id'],var_name = 'day_num',value_name='sale')"
   ]
  },
  {
   "cell_type": "code",
   "execution_count": 6,
   "metadata": {
    "ExecuteTime": {
     "end_time": "2020-04-27T06:59:33.522476Z",
     "start_time": "2020-04-27T06:58:02.518566Z"
    }
   },
   "outputs": [],
   "source": [
    "def transform_day_to_num(str1):\n",
    "    return int(str1[2:])\n",
    "sales_train_long_format['day_num'] = sales_train_long_format['day_num'].map(transform_day_to_num)\n",
    "calendar['date'] = pd.to_datetime(calendar['date'])\n",
    "calendar['day_num'] = calendar['d'].map(transform_day_to_num)\n",
    "map_day_date = calendar[['date','day_num']].set_index('day_num')['date']\n",
    "sales_train_long_format['date'] = sales_train_long_format['day_num'].map(map_day_date)\n",
    "list1 = ['wm_yr_wk','event_name_1', 'event_type_1', 'event_name_2', 'event_type_2','snap_CA', 'snap_TX', 'snap_WI','day_num']\n",
    "sales_train_long_format = sales_train_long_format.merge(calendar[list1],on='day_num',how='left')"
   ]
  },
  {
   "cell_type": "code",
   "execution_count": 7,
   "metadata": {
    "ExecuteTime": {
     "end_time": "2020-04-27T07:01:05.673435Z",
     "start_time": "2020-04-27T06:59:33.526187Z"
    }
   },
   "outputs": [
    {
     "name": "stdout",
     "output_type": "stream",
     "text": [
      "Mem. usage decreased to 6526.92 Mb (25.0% reduction)\n"
     ]
    }
   ],
   "source": [
    "sales_train_long_format = sales_train_long_format.merge(sell_prices,how='left',on = ['store_id','item_id','wm_yr_wk'])\n",
    "###把没卖的变成nan\n",
    "sales_train_long_format.loc[pd.isna(sales_train_long_format.sell_price),'sale'] = np.nan\n",
    "sales_train_long_format = reduce_mem_usage(sales_train_long_format)"
   ]
  },
  {
   "cell_type": "markdown",
   "metadata": {},
   "source": [
    "### part2\n",
    "- non_zeros features\n",
    "- cnt_zeros \n",
    "- nonz-zeros\n",
    "- non-zeros -jiange 有了"
   ]
  },
  {
   "cell_type": "code",
   "execution_count": 8,
   "metadata": {
    "ExecuteTime": {
     "end_time": "2020-04-27T07:01:05.686855Z",
     "start_time": "2020-04-27T07:01:05.676750Z"
    }
   },
   "outputs": [],
   "source": [
    "def parall_group_by_id_sale(df,func,n_cores,name_feature):\n",
    "    with multiprocessing.Pool(n_cores) as p:\n",
    "        ret_list = list(tqdm(p.imap(func, [group for name, group in df.groupby(['id'])['sale']]), total=30490))\n",
    "        temp = pd.concat(ret_list,axis=0).sort_index()\n",
    "        print(f'Features {name_feature} over!!')\n",
    "    return temp\n",
    "def parall_group_by_id_dayofweek_sale(df,func,n_cores,name_feature):\n",
    "    with multiprocessing.Pool(n_cores) as p:\n",
    "        ret_list = list(tqdm(p.imap(func, [group for name, group in df.groupby(['id','dayofweek'])['sale']]), total=30490*7))\n",
    "        temp = pd.concat(ret_list,axis=0).sort_index()\n",
    "        print(f'Features {name_feature} over!!')\n",
    "    return temp"
   ]
  },
  {
   "cell_type": "code",
   "execution_count": 9,
   "metadata": {
    "ExecuteTime": {
     "end_time": "2020-04-27T07:01:05.767746Z",
     "start_time": "2020-04-27T07:01:05.689263Z"
    }
   },
   "outputs": [],
   "source": [
    "def non_zero_features_mean(array,lag_days):\n",
    "    if len(array) ==0:\n",
    "        return np.nan\n",
    "    array = array[(array!=0)&(~pd.isna(array))]\n",
    "    if len(array) <=3:\n",
    "        return np.nan\n",
    "    return np.mean(array[-lag_days:])\n",
    "\n",
    "def non_zero_features_std(array,lag_days):\n",
    "    if len(array) ==0:\n",
    "        return np.nan\n",
    "    array = array[(array!=0)&(~pd.isna(array))]\n",
    "    if len(array) <=3:\n",
    "        return np.nan\n",
    "    return np.std(array[-lag_days:])\n",
    "\n",
    "def non_zero_features_quantile25(array,lag_days):\n",
    "    if len(array) ==0:\n",
    "        return np.nan\n",
    "    array = array[(array!=0)&(~pd.isna(array))]\n",
    "    if len(array) <=3:\n",
    "        return np.nan\n",
    "    return np.quantile(array[-lag_days:],0.25)\n",
    "\n",
    "def non_zero_features_quantile75(array,lag_days):\n",
    "    if len(array) ==0:\n",
    "        return np.nan\n",
    "    array = array[(array!=0)&(~pd.isna(array))]\n",
    "    if len(array) <=3:\n",
    "        return np.nan\n",
    "    return np.quantile(array[-lag_days:],0.75)\n",
    "\n",
    "def non_zero_features_min(array,lag_days):\n",
    "    if len(array) ==0:\n",
    "        return np.nan\n",
    "    array = array[(array!=0)&(~pd.isna(array))]\n",
    "    if len(array) <=3:\n",
    "        return np.nan\n",
    "    return np.min(array[-lag_days:])\n",
    "\n",
    "def non_zero_features_max(array,lag_days):\n",
    "    if len(array) ==0:\n",
    "        return np.nan\n",
    "    array = array[(array!=0)&(~pd.isna(array))]\n",
    "    if len(array) <=3:\n",
    "        return np.nan\n",
    "    return np.max(array[-lag_days:])\n"
   ]
  },
  {
   "cell_type": "code",
   "execution_count": 10,
   "metadata": {
    "ExecuteTime": {
     "end_time": "2020-04-27T07:01:05.804895Z",
     "start_time": "2020-04-27T07:01:05.771980Z"
    }
   },
   "outputs": [],
   "source": [
    "def rolling_id_non_zero_mean_7(x):\n",
    "    return x.shift(1).rolling(112,10).apply(lambda x:non_zero_features_mean(x,7),raw=True)\n",
    "def rolling_id_non_zero_std_7(x):\n",
    "    return x.shift(1).rolling(112,10).apply(lambda x:non_zero_features_std(x,7),raw=True)\n",
    "def rolling_id_non_zero_quantile25_7(x):\n",
    "    return x.shift(1).rolling(112,10).apply(lambda x:non_zero_features_quantile25(x,7),raw=True)\n",
    "def rolling_id_non_zero_quantile75_7(x):\n",
    "    return x.shift(1).rolling(112,10).apply(lambda x:non_zero_features_quantile75(x,7),raw=True)\n",
    "def rolling_id_non_zero_max_7(x):\n",
    "    return x.shift(1).rolling(112,10).apply(lambda x:non_zero_features_max(x,7),raw=True)\n",
    "def rolling_id_non_zero_min_7(x):\n",
    "    return x.shift(1).rolling(112,10).apply(lambda x:non_zero_features_min(x,7),raw=True)\n",
    "\n",
    "def rolling_id_non_zero_mean_14(x):\n",
    "    return x.shift(1).rolling(112,10).apply(lambda x:non_zero_features_mean(x,14),raw=True)\n",
    "def rolling_id_non_zero_std_14(x):\n",
    "    return x.shift(1).rolling(112,10).apply(lambda x:non_zero_features_std(x,14),raw=True)\n",
    "def rolling_id_non_zero_quantile25_14(x):\n",
    "    return x.shift(1).rolling(112,10).apply(lambda x:non_zero_features_quantile25(x,14),raw=True)\n",
    "def rolling_id_non_zero_quantile75_14(x):\n",
    "    return x.shift(1).rolling(112,10).apply(lambda x:non_zero_features_quantile75(x,14),raw=True)\n",
    "def rolling_id_non_zero_max_14(x):\n",
    "    return x.shift(1).rolling(112,10).apply(lambda x:non_zero_features_max(x,14),raw=True)\n",
    "def rolling_id_non_zero_min_14(x):\n",
    "    return x.shift(1).rolling(112,10).apply(lambda x:non_zero_features_min(x,14),raw=True)\n",
    "\n",
    "def rolling_id_non_zero_mean_28(x):\n",
    "    return x.shift(1).rolling(112,10).apply(lambda x:non_zero_features_mean(x,28),raw=True)\n",
    "def rolling_id_non_zero_std_28(x):\n",
    "    return x.shift(1).rolling(112,10).apply(lambda x:non_zero_features_std(x,28),raw=True)\n",
    "def rolling_id_non_zero_quantile25_28(x):\n",
    "    return x.shift(1).rolling(112,10).apply(lambda x:non_zero_features_quantile25(x,28),raw=True)\n",
    "def rolling_id_non_zero_quantile75_28(x):\n",
    "    return x.shift(1).rolling(112,10).apply(lambda x:non_zero_features_quantile75(x,28),raw=True)\n",
    "def rolling_id_non_zero_max_28(x):\n",
    "    return x.shift(1).rolling(112,10).apply(lambda x:non_zero_features_max(x,28),raw=True)\n",
    "def rolling_id_non_zero_min_28(x):\n",
    "    return x.shift(1).rolling(112,10).apply(lambda x:non_zero_features_min(x,28),raw=True)"
   ]
  },
  {
   "cell_type": "code",
   "execution_count": 11,
   "metadata": {
    "ExecuteTime": {
     "end_time": "2020-04-27T07:01:05.833294Z",
     "start_time": "2020-04-27T07:01:05.807496Z"
    }
   },
   "outputs": [],
   "source": [
    "def rolling_id_non_zero_dayofweek_mean_6(x):\n",
    "    return x.shift(1).rolling(56,10).apply(lambda x:non_zero_features_mean(x,6),raw=True)\n",
    "def rolling_id_non_zero_dayofweek_std_6(x):\n",
    "    return x.shift(1).rolling(56,10).apply(lambda x:non_zero_features_std(x,6),raw=True)\n",
    "def rolling_id_non_zero_dayofweek_quantile25_6(x):\n",
    "    return x.shift(1).rolling(56,10).apply(lambda x:non_zero_features_quantile25(x,6),raw=True)\n",
    "def rolling_id_non_zero_dayofweek_quantile75_6(x):\n",
    "    return x.shift(1).rolling(56,10).apply(lambda x:non_zero_features_quantile75(x,6),raw=True)\n",
    "def rolling_id_non_zero_dayofweek_max_6(x):\n",
    "    return x.shift(1).rolling(56,10).apply(lambda x:non_zero_features_max(x,6),raw=True)\n",
    "def rolling_id_non_zero_dayofweek_min_6(x):\n",
    "    return x.shift(1).rolling(56,10).apply(lambda x:non_zero_features_min(x,6),raw=True)\n",
    "\n",
    "def rolling_id_non_zero_dayofweek_mean_12(x):\n",
    "    return x.shift(1).rolling(56,10).apply(lambda x:non_zero_features_mean(x,12),raw=True)\n",
    "def rolling_id_non_zero_dayofweek_std_12(x):\n",
    "    return x.shift(1).rolling(56,10).apply(lambda x:non_zero_features_std(x,12),raw=True)\n",
    "def rolling_id_non_zero_dayofweek_quantile25_12(x):\n",
    "    return x.shift(1).rolling(56,10).apply(lambda x:non_zero_features_quantile25(x,12),raw=True)\n",
    "def rolling_id_non_zero_dayofweek_quantile75_12(x):\n",
    "    return x.shift(1).rolling(56,10).apply(lambda x:non_zero_features_quantile75(x,12),raw=True)\n",
    "def rolling_id_non_zero_dayofweek_max_12(x):\n",
    "    return x.shift(1).rolling(56,10).apply(lambda x:non_zero_features_max(x,12),raw=True)\n",
    "def rolling_id_non_zero_dayofweek_min_12(x):\n",
    "    return x.shift(1).rolling(56,10).apply(lambda x:non_zero_features_min(x,12),raw=True)\n",
    "\n",
    "def rolling_id_non_zero_dayofweek_mean_18(x):\n",
    "    return x.shift(1).rolling(56,10).apply(lambda x:non_zero_features_mean(x,18),raw=True)\n",
    "def rolling_id_non_zero_dayofweek_std_18(x):\n",
    "    return x.shift(1).rolling(56,10).apply(lambda x:non_zero_features_std(x,18),raw=True)\n",
    "def rolling_id_non_zero_dayofweek_quantile25_18(x):\n",
    "    return x.shift(1).rolling(56,10).apply(lambda x:non_zero_features_quantile25(x,18),raw=True)\n",
    "def rolling_id_non_zero_dayofweek_quantile75_18(x):\n",
    "    return x.shift(1).rolling(56,10).apply(lambda x:non_zero_features_quantile75(x,18),raw=True)\n",
    "def rolling_id_non_zero_dayofweek_max_18(x):\n",
    "    return x.shift(1).rolling(56,10).apply(lambda x:non_zero_features_max(x,18),raw=True)\n",
    "def rolling_id_non_zero_dayofweek_min_18(x):\n",
    "    return x.shift(1).rolling(56,10).apply(lambda x:non_zero_features_min(x,18),raw=True)"
   ]
  },
  {
   "cell_type": "code",
   "execution_count": null,
   "metadata": {},
   "outputs": [],
   "source": []
  },
  {
   "cell_type": "code",
   "execution_count": 12,
   "metadata": {
    "ExecuteTime": {
     "end_time": "2020-04-27T07:01:05.846556Z",
     "start_time": "2020-04-27T07:01:05.835767Z"
    }
   },
   "outputs": [],
   "source": [
    "def zero_transform_ratio(array):\n",
    "    array = array[list(~pd.isna(array))]\n",
    "    if len(array) ==0:\n",
    "        return np.nan\n",
    "    te1 = (array[:-1]==0) * ((array[1:]>0))\n",
    "    te2 = (array[:-1]>0) * ((array[1:]==0))\n",
    "    te = te1+te2\n",
    "    return np.mean(te.astype(bool))\n",
    "def rolling_sale_zero_trans_7(x):\n",
    "    return x.shift(1).rolling(7,3).apply(lambda x:zero_transform_ratio(x),raw=True)\n",
    "def rolling_sale_zero_trans_14(x):\n",
    "    return x.shift(1).rolling(14,6).apply(lambda x:zero_transform_ratio(x),raw=True)\n",
    "def rolling_sale_zero_trans_28(x):\n",
    "    return x.shift(1).rolling(28,10).apply(lambda x:zero_transform_ratio(x),raw=True)\n",
    "def rolling_sale_zero_trans_56(x):\n",
    "    return x.shift(1).rolling(56,10).apply(lambda x:zero_transform_ratio(x),raw=True)\n"
   ]
  },
  {
   "cell_type": "code",
   "execution_count": 13,
   "metadata": {
    "ExecuteTime": {
     "end_time": "2020-04-27T07:01:05.857931Z",
     "start_time": "2020-04-27T07:01:05.848930Z"
    }
   },
   "outputs": [],
   "source": [
    "def cnt_zero_ratio(array):\n",
    "    array = array[list(~pd.isna(array))]\n",
    "    if len(array) ==0:\n",
    "        return np.nan\n",
    "    return np.mean(array==0)\n",
    "def rolling_sale_ratio_zero_7(x):\n",
    "    return x.shift(1).rolling(7,3).apply(lambda x:cnt_zero_ratio(x),raw=True)\n",
    "def rolling_sale_ratio_zero_14(x):\n",
    "    return x.shift(1).rolling(14,6).apply(lambda x:cnt_zero_ratio(x),raw=True)\n",
    "def rolling_sale_ratio_zero_28(x):\n",
    "    return x.shift(1).rolling(28,10).apply(lambda x:cnt_zero_ratio(x),raw=True)\n",
    "def rolling_sale_ratio_zero_56(x):\n",
    "    return x.shift(1).rolling(56,21).apply(lambda x:cnt_zero_ratio(x),raw=True)\n"
   ]
  },
  {
   "cell_type": "code",
   "execution_count": 14,
   "metadata": {
    "ExecuteTime": {
     "end_time": "2020-04-27T07:01:05.883501Z",
     "start_time": "2020-04-27T07:01:05.860195Z"
    }
   },
   "outputs": [],
   "source": [
    "def feature_engineer(df,num_core,date1):\n",
    "    \"\"\"\n",
    "    df format:sales_train_long_format\n",
    "    \"\"\"\n",
    "    df = df.copy()\n",
    "    df['year'] = df['date'].dt.year\n",
    "    df['month'] = df['date'].dt.month\n",
    "    df['dayofweek'] = df['date'].dt.dayofweek\n",
    "#     df['rolling_id_non_zero_mean_7'] = parall_group_by_id_sale(df,rolling_id_non_zero_mean_7,num_core,'rolling_id_non_zero_mean_7')\n",
    "#     df['rolling_id_non_zero_std_7'] = parall_group_by_id_sale(df,rolling_id_non_zero_std_7,num_core,'rolling_id_non_zero_std_7')\n",
    "#     df['rolling_id_non_zero_quantile25_7'] = parall_group_by_id_sale(df,rolling_id_non_zero_quantile25_7,num_core,'rolling_id_non_zero_quantile25_7')\n",
    "#     df['rolling_id_non_zero_quantile75_7'] = parall_group_by_id_sale(df,rolling_id_non_zero_quantile75_7,num_core,'rolling_id_non_zero_quantile75_7')\n",
    "#     df['rolling_id_non_zero_max_7'] = parall_group_by_id_sale(df,rolling_id_non_zero_max_7,num_core,'rolling_id_non_zero_max_7')\n",
    "#     df['rolling_id_non_zero_min_7'] = parall_group_by_id_sale(df,rolling_id_non_zero_min_7,num_core,'rolling_id_non_zero_min_7')\n",
    "    \n",
    "    df['rolling_id_non_zero_mean_14'] = parall_group_by_id_sale(df,rolling_id_non_zero_mean_14,num_core,'rolling_id_non_zero_mean_14')\n",
    "    df['rolling_id_non_zero_std_14'] = parall_group_by_id_sale(df,rolling_id_non_zero_std_14,num_core,'rolling_id_non_zero_std_14')\n",
    "    df['rolling_id_non_zero_quantile25_14'] = parall_group_by_id_sale(df,rolling_id_non_zero_quantile25_14,num_core,'rolling_id_non_zero_quantile25_14')\n",
    "    df['rolling_id_non_zero_quantile75_14'] = parall_group_by_id_sale(df,rolling_id_non_zero_quantile75_14,num_core,'rolling_id_non_zero_quantile75_14')\n",
    "    df['rolling_id_non_zero_max_14'] = parall_group_by_id_sale(df,rolling_id_non_zero_max_14,num_core,'rolling_id_non_zero_max_14')\n",
    "    df['rolling_id_non_zero_min_14'] = parall_group_by_id_sale(df,rolling_id_non_zero_min_14,num_core,'rolling_id_non_zero_min_14')\n",
    "    df = reduce_mem_usage(df,False)\n",
    "    df['rolling_id_non_zero_mean_28'] = parall_group_by_id_sale(df,rolling_id_non_zero_mean_28,num_core,'rolling_id_non_zero_mean_28')\n",
    "    df['rolling_id_non_zero_std_28'] = parall_group_by_id_sale(df,rolling_id_non_zero_std_28,num_core,'rolling_id_non_zero_std_28')\n",
    "    df['rolling_id_non_zero_quantile25_28'] = parall_group_by_id_sale(df,rolling_id_non_zero_quantile25_28,num_core,'rolling_id_non_zero_quantile25_28')\n",
    "    df['rolling_id_non_zero_quantile75_28'] = parall_group_by_id_sale(df,rolling_id_non_zero_quantile75_28,num_core,'rolling_id_non_zero_quantile75_28')\n",
    "    df['rolling_id_non_zero_max_28'] = parall_group_by_id_sale(df,rolling_id_non_zero_max_28,num_core,'rolling_id_non_zero_max_28')\n",
    "    df['rolling_id_non_zero_min_28'] = parall_group_by_id_sale(df,rolling_id_non_zero_min_28,num_core,'rolling_id_non_zero_min_28')\n",
    "    \n",
    "    df['rolling_id_non_zero_dayofweek_mean_6'] = parall_group_by_id_dayofweek_sale(df,rolling_id_non_zero_dayofweek_mean_6,num_core,'rolling_id_non_zero_dayofweek_mean_6')\n",
    "    df['rolling_id_non_zero_dayofweek_std_6'] = parall_group_by_id_dayofweek_sale(df,rolling_id_non_zero_dayofweek_std_6,num_core,'rolling_id_non_zero_dayofweek_std_6')\n",
    "    df['rolling_id_non_zero_dayofweek_quantile25_6'] = parall_group_by_id_dayofweek_sale(df,rolling_id_non_zero_dayofweek_quantile25_6,num_core,'rolling_id_non_zero_dayofweek_quantile25_6')\n",
    "    df['rolling_id_non_zero_dayofweek_quantile75_6'] = parall_group_by_id_dayofweek_sale(df,rolling_id_non_zero_dayofweek_quantile75_6,num_core,'rolling_id_non_zero_dayofweek_quantile75_6')\n",
    "    df['rolling_id_non_zero_dayofweek_max_6'] = parall_group_by_id_dayofweek_sale(df,rolling_id_non_zero_dayofweek_max_6,num_core,'rolling_id_non_zero_dayofweek_max_6')\n",
    "    df['rolling_id_non_zero_dayofweek_min_6'] = parall_group_by_id_dayofweek_sale(df,rolling_id_non_zero_dayofweek_min_6,num_core,'rolling_id_non_zero_dayofweek_min_6')\n",
    "    df = reduce_mem_usage(df,False)\n",
    "    df['rolling_id_non_zero_dayofweek_mean_12'] = parall_group_by_id_dayofweek_sale(df,rolling_id_non_zero_dayofweek_mean_12,num_core,'rolling_id_non_zero_dayofweek_mean_12')\n",
    "    df['rolling_id_non_zero_dayofweek_std_12'] = parall_group_by_id_dayofweek_sale(df,rolling_id_non_zero_dayofweek_std_12,num_core,'rolling_id_non_zero_dayofweek_std_12')\n",
    "    df['rolling_id_non_zero_dayofweek_quantile25_12'] = parall_group_by_id_dayofweek_sale(df,rolling_id_non_zero_dayofweek_quantile25_12,num_core,'rolling_id_non_zero_dayofweek_quantile25_12')\n",
    "    df['rolling_id_non_zero_dayofweek_quantile75_12'] = parall_group_by_id_dayofweek_sale(df,rolling_id_non_zero_dayofweek_quantile75_12,num_core,'rolling_id_non_zero_dayofweek_quantile75_12')\n",
    "    df['rolling_id_non_zero_dayofweek_max_12'] = parall_group_by_id_dayofweek_sale(df,rolling_id_non_zero_dayofweek_max_12,num_core,'rolling_id_non_zero_dayofweek_max_12')\n",
    "    df['rolling_id_non_zero_dayofweek_min_12'] = parall_group_by_id_dayofweek_sale(df,rolling_id_non_zero_dayofweek_min_12,num_core,'rolling_id_non_zero_dayofweek_min_12')\n",
    "    \n",
    "#     df['rolling_id_non_zero_dayofweek_mean_18'] = parall_group_by_id_dayofweek_sale(df,rolling_id_non_zero_dayofweek_mean_18,num_core,'rolling_id_non_zero_dayofweek_mean_18')\n",
    "#     df['rolling_id_non_zero_dayofweek_std_18'] = parall_group_by_id_dayofweek_sale(df,rolling_id_non_zero_dayofweek_std_18,num_core,'rolling_id_non_zero_dayofweek_std_18')\n",
    "#     df['rolling_id_non_zero_dayofweek_quantile25_18'] = parall_group_by_id_dayofweek_sale(df,rolling_id_non_zero_dayofweek_quantile25_18,num_core,'rolling_id_non_zero_dayofweek_quantile25_18')\n",
    "#     df['rolling_id_non_zero_dayofweek_quantile75_18'] = parall_group_by_id_dayofweek_sale(df,rolling_id_non_zero_dayofweek_quantile75_18,num_core,'rolling_id_non_zero_dayofweek_quantile75_18')\n",
    "#     df['rolling_id_non_zero_dayofweek_max_18'] = parall_group_by_id_dayofweek_sale(df,rolling_id_non_zero_dayofweek_max_18,num_core,'rolling_id_non_zero_dayofweek_max_18')\n",
    "#     df['rolling_id_non_zero_dayofweek_min_18'] = parall_group_by_id_dayofweek_sale(df,rolling_id_non_zero_dayofweek_min_18,num_core,'rolling_id_non_zero_dayofweek_min_18')\n",
    "       \n",
    "#     df['rolling_sale_zero_trans_7'] = parall_group_by_id_sale(df,rolling_sale_zero_trans_7,num_core,'rolling_sale_zero_trans_7')\n",
    "#     df['rolling_sale_zero_trans_14'] = parall_group_by_id_sale(df,rolling_sale_zero_trans_14,num_core,'rolling_sale_zero_trans_14')\n",
    "#     df['rolling_sale_zero_trans_28'] = parall_group_by_id_sale(df,rolling_sale_zero_trans_28,num_core,'rolling_sale_zero_trans_28')\n",
    "#     df['rolling_sale_zero_trans_56'] = parall_group_by_id_sale(df,rolling_sale_zero_trans_56,num_core,'rolling_sale_zero_trans_56')\n",
    "#     df['rolling_sale_ratio_zero_7'] = parall_group_by_id_sale(df,rolling_sale_ratio_zero_7,num_core,'rolling_sale_ratio_zero_7')\n",
    "#     df['rolling_sale_ratio_zero_14'] = parall_group_by_id_sale(df,rolling_sale_ratio_zero_14,num_core,'rolling_sale_ratio_zero_14')\n",
    "#     df['rolling_sale_ratio_zero_28'] = parall_group_by_id_sale(df,rolling_sale_ratio_zero_28,num_core,'rolling_sale_ratio_zero_28')\n",
    "#     df['rolling_sale_ratio_zero_56'] = parall_group_by_id_sale(df,rolling_sale_ratio_zero_56,num_core,'rolling_sale_ratio_zero_56')\n",
    "    df = reduce_mem_usage(df,False)\n",
    "    return df"
   ]
  },
  {
   "cell_type": "code",
   "execution_count": 15,
   "metadata": {
    "ExecuteTime": {
     "end_time": "2020-04-27T08:17:57.219446Z",
     "start_time": "2020-04-27T07:01:05.886154Z"
    }
   },
   "outputs": [
    {
     "name": "stdout",
     "output_type": "stream",
     "text": [
      "1\n"
     ]
    },
    {
     "data": {
      "application/vnd.jupyter.widget-view+json": {
       "model_id": "c8dae66fb61a4a18b556102a988b3995",
       "version_major": 2,
       "version_minor": 0
      },
      "text/plain": [
       "HBox(children=(FloatProgress(value=0.0, max=30490.0), HTML(value='')))"
      ]
     },
     "metadata": {},
     "output_type": "display_data"
    },
    {
     "name": "stdout",
     "output_type": "stream",
     "text": [
      "\n",
      "Features rolling_id_non_zero_mean_14 over!!\n"
     ]
    },
    {
     "data": {
      "application/vnd.jupyter.widget-view+json": {
       "model_id": "c755da7bfe924c39bc1e39f1c8afd4a5",
       "version_major": 2,
       "version_minor": 0
      },
      "text/plain": [
       "HBox(children=(FloatProgress(value=0.0, max=30490.0), HTML(value='')))"
      ]
     },
     "metadata": {},
     "output_type": "display_data"
    },
    {
     "name": "stdout",
     "output_type": "stream",
     "text": [
      "\n",
      "Features rolling_id_non_zero_std_14 over!!\n"
     ]
    },
    {
     "data": {
      "application/vnd.jupyter.widget-view+json": {
       "model_id": "20da842575d74123b92516b25a69b69f",
       "version_major": 2,
       "version_minor": 0
      },
      "text/plain": [
       "HBox(children=(FloatProgress(value=0.0, max=30490.0), HTML(value='')))"
      ]
     },
     "metadata": {},
     "output_type": "display_data"
    },
    {
     "name": "stdout",
     "output_type": "stream",
     "text": [
      "\n",
      "Features rolling_id_non_zero_quantile25_14 over!!\n"
     ]
    },
    {
     "data": {
      "application/vnd.jupyter.widget-view+json": {
       "model_id": "c0539a93fd814732ae2f17c9a3af47b1",
       "version_major": 2,
       "version_minor": 0
      },
      "text/plain": [
       "HBox(children=(FloatProgress(value=0.0, max=30490.0), HTML(value='')))"
      ]
     },
     "metadata": {},
     "output_type": "display_data"
    },
    {
     "name": "stdout",
     "output_type": "stream",
     "text": [
      "\n",
      "Features rolling_id_non_zero_quantile75_14 over!!\n"
     ]
    },
    {
     "data": {
      "application/vnd.jupyter.widget-view+json": {
       "model_id": "ab7894c686d84d138429f246c572cce7",
       "version_major": 2,
       "version_minor": 0
      },
      "text/plain": [
       "HBox(children=(FloatProgress(value=0.0, max=30490.0), HTML(value='')))"
      ]
     },
     "metadata": {},
     "output_type": "display_data"
    },
    {
     "name": "stdout",
     "output_type": "stream",
     "text": [
      "\n",
      "Features rolling_id_non_zero_max_14 over!!\n"
     ]
    },
    {
     "data": {
      "application/vnd.jupyter.widget-view+json": {
       "model_id": "5dafc3d856104a08b08240606cb007f0",
       "version_major": 2,
       "version_minor": 0
      },
      "text/plain": [
       "HBox(children=(FloatProgress(value=0.0, max=30490.0), HTML(value='')))"
      ]
     },
     "metadata": {},
     "output_type": "display_data"
    },
    {
     "name": "stdout",
     "output_type": "stream",
     "text": [
      "\n",
      "Features rolling_id_non_zero_min_14 over!!\n"
     ]
    },
    {
     "data": {
      "application/vnd.jupyter.widget-view+json": {
       "model_id": "6d123c862d054294a14c3099b1f20562",
       "version_major": 2,
       "version_minor": 0
      },
      "text/plain": [
       "HBox(children=(FloatProgress(value=0.0, max=30490.0), HTML(value='')))"
      ]
     },
     "metadata": {},
     "output_type": "display_data"
    },
    {
     "name": "stdout",
     "output_type": "stream",
     "text": [
      "\n",
      "Features rolling_id_non_zero_mean_28 over!!\n"
     ]
    },
    {
     "data": {
      "application/vnd.jupyter.widget-view+json": {
       "model_id": "170c2e64f0c346d29286d0af33919a6e",
       "version_major": 2,
       "version_minor": 0
      },
      "text/plain": [
       "HBox(children=(FloatProgress(value=0.0, max=30490.0), HTML(value='')))"
      ]
     },
     "metadata": {},
     "output_type": "display_data"
    },
    {
     "name": "stderr",
     "output_type": "stream",
     "text": [
      "Process ForkPoolWorker-64:\n",
      "Process ForkPoolWorker-61:\n",
      "Process ForkPoolWorker-62:\n",
      "Process ForkPoolWorker-58:\n",
      "Process ForkPoolWorker-59:\n",
      "Process ForkPoolWorker-60:\n",
      "Process ForkPoolWorker-57:\n",
      "Process ForkPoolWorker-63:\n",
      "Traceback (most recent call last):\n",
      "  File \"/opt/conda/lib/python3.7/multiprocessing/process.py\", line 297, in _bootstrap\n",
      "    self.run()\n",
      "  File \"/opt/conda/lib/python3.7/multiprocessing/process.py\", line 99, in run\n",
      "    self._target(*self._args, **self._kwargs)\n",
      "  File \"/opt/conda/lib/python3.7/multiprocessing/pool.py\", line 121, in worker\n",
      "    result = (True, func(*args, **kwds))\n",
      "  File \"<ipython-input-10-3a77ddf5cb63>\", line 30, in rolling_id_non_zero_std_28\n",
      "    return x.shift(1).rolling(112,10).apply(lambda x:non_zero_features_std(x,28),raw=True)\n",
      "  File \"/opt/conda/lib/python3.7/site-packages/pandas/core/window.py\", line 1703, in apply\n",
      "    func, raw=raw, args=args, kwargs=kwargs)\n",
      "  File \"/opt/conda/lib/python3.7/site-packages/pandas/core/window.py\", line 1012, in apply\n",
      "    center=False, raw=raw)\n",
      "Traceback (most recent call last):\n",
      "Traceback (most recent call last):\n",
      "Traceback (most recent call last):\n",
      "  File \"/opt/conda/lib/python3.7/site-packages/pandas/core/window.py\", line 880, in _apply\n",
      "    result = calc(values)\n",
      "  File \"/opt/conda/lib/python3.7/multiprocessing/process.py\", line 297, in _bootstrap\n",
      "    self.run()\n",
      "  File \"/opt/conda/lib/python3.7/multiprocessing/process.py\", line 297, in _bootstrap\n",
      "    self.run()\n",
      "Traceback (most recent call last):\n",
      "  File \"/opt/conda/lib/python3.7/multiprocessing/process.py\", line 99, in run\n",
      "    self._target(*self._args, **self._kwargs)\n",
      "  File \"/opt/conda/lib/python3.7/site-packages/pandas/core/window.py\", line 874, in calc\n",
      "    closed=self.closed)\n",
      "Traceback (most recent call last):\n",
      "  File \"/opt/conda/lib/python3.7/multiprocessing/pool.py\", line 121, in worker\n",
      "    result = (True, func(*args, **kwds))\n",
      "  File \"/opt/conda/lib/python3.7/multiprocessing/process.py\", line 297, in _bootstrap\n",
      "    self.run()\n",
      "  File \"/opt/conda/lib/python3.7/multiprocessing/process.py\", line 99, in run\n",
      "    self._target(*self._args, **self._kwargs)\n",
      "  File \"/opt/conda/lib/python3.7/multiprocessing/process.py\", line 297, in _bootstrap\n",
      "    self.run()\n",
      "Traceback (most recent call last):\n",
      "  File \"<ipython-input-10-3a77ddf5cb63>\", line 30, in rolling_id_non_zero_std_28\n",
      "    return x.shift(1).rolling(112,10).apply(lambda x:non_zero_features_std(x,28),raw=True)\n",
      "  File \"/opt/conda/lib/python3.7/site-packages/pandas/core/window.py\", line 1009, in f\n",
      "    closed, offset, func, raw, args, kwargs)\n",
      "Traceback (most recent call last):\n",
      "  File \"/opt/conda/lib/python3.7/multiprocessing/process.py\", line 297, in _bootstrap\n",
      "    self.run()\n",
      "  File \"/opt/conda/lib/python3.7/multiprocessing/process.py\", line 297, in _bootstrap\n",
      "    self.run()\n",
      "  File \"pandas/_libs/window.pyx\", line 1650, in pandas._libs.window.roll_generic\n",
      "  File \"/opt/conda/lib/python3.7/multiprocessing/process.py\", line 99, in run\n",
      "    self._target(*self._args, **self._kwargs)\n",
      "  File \"<ipython-input-10-3a77ddf5cb63>\", line 30, in <lambda>\n",
      "    return x.shift(1).rolling(112,10).apply(lambda x:non_zero_features_std(x,28),raw=True)\n",
      "  File \"/opt/conda/lib/python3.7/multiprocessing/pool.py\", line 121, in worker\n",
      "    result = (True, func(*args, **kwds))\n",
      "  File \"<ipython-input-9-ad84adc2329d>\", line 12, in non_zero_features_std\n",
      "    array = array[(array!=0)&(~pd.isna(array))]\n",
      "  File \"<ipython-input-10-3a77ddf5cb63>\", line 30, in rolling_id_non_zero_std_28\n",
      "    return x.shift(1).rolling(112,10).apply(lambda x:non_zero_features_std(x,28),raw=True)\n",
      "  File \"/opt/conda/lib/python3.7/site-packages/pandas/core/dtypes/missing.py\", line 99, in isna\n",
      "    return _isna(obj)\n",
      "  File \"/opt/conda/lib/python3.7/multiprocessing/process.py\", line 297, in _bootstrap\n",
      "    self.run()\n",
      "  File \"/opt/conda/lib/python3.7/site-packages/pandas/core/dtypes/missing.py\", line 114, in _isna_new\n",
      "    return _isna_ndarraylike(obj)\n",
      "  File \"/opt/conda/lib/python3.7/site-packages/pandas/core/window.py\", line 1703, in apply\n",
      "    func, raw=raw, args=args, kwargs=kwargs)\n",
      "  File \"/opt/conda/lib/python3.7/site-packages/pandas/core/window.py\", line 1012, in apply\n",
      "    center=False, raw=raw)\n"
     ]
    },
    {
     "name": "stdout",
     "output_type": "stream",
     "text": [
      "\n"
     ]
    },
    {
     "name": "stderr",
     "output_type": "stream",
     "text": [
      "  File \"/opt/conda/lib/python3.7/site-packages/pandas/core/window.py\", line 880, in _apply\n",
      "    result = calc(values)\n",
      "  File \"/opt/conda/lib/python3.7/multiprocessing/process.py\", line 99, in run\n",
      "    self._target(*self._args, **self._kwargs)\n",
      "  File \"/opt/conda/lib/python3.7/multiprocessing/process.py\", line 99, in run\n",
      "    self._target(*self._args, **self._kwargs)\n",
      "  File \"/opt/conda/lib/python3.7/multiprocessing/pool.py\", line 121, in worker\n",
      "    result = (True, func(*args, **kwds))\n",
      "  File \"/opt/conda/lib/python3.7/site-packages/pandas/core/window.py\", line 874, in calc\n",
      "    closed=self.closed)\n",
      "  File \"/opt/conda/lib/python3.7/multiprocessing/process.py\", line 99, in run\n",
      "    self._target(*self._args, **self._kwargs)\n",
      "  File \"<ipython-input-10-3a77ddf5cb63>\", line 30, in rolling_id_non_zero_std_28\n",
      "    return x.shift(1).rolling(112,10).apply(lambda x:non_zero_features_std(x,28),raw=True)\n",
      "  File \"/opt/conda/lib/python3.7/multiprocessing/pool.py\", line 121, in worker\n",
      "    result = (True, func(*args, **kwds))\n",
      "  File \"/opt/conda/lib/python3.7/multiprocessing/pool.py\", line 121, in worker\n",
      "    result = (True, func(*args, **kwds))\n",
      "  File \"<ipython-input-10-3a77ddf5cb63>\", line 30, in rolling_id_non_zero_std_28\n",
      "    return x.shift(1).rolling(112,10).apply(lambda x:non_zero_features_std(x,28),raw=True)\n",
      "  File \"<ipython-input-10-3a77ddf5cb63>\", line 30, in rolling_id_non_zero_std_28\n",
      "    return x.shift(1).rolling(112,10).apply(lambda x:non_zero_features_std(x,28),raw=True)\n",
      "  File \"/opt/conda/lib/python3.7/site-packages/pandas/core/window.py\", line 1703, in apply\n",
      "    func, raw=raw, args=args, kwargs=kwargs)\n",
      "  File \"/opt/conda/lib/python3.7/site-packages/pandas/core/window.py\", line 1012, in apply\n",
      "    center=False, raw=raw)\n",
      "  File \"/opt/conda/lib/python3.7/site-packages/pandas/core/window.py\", line 1703, in apply\n",
      "    func, raw=raw, args=args, kwargs=kwargs)\n",
      "  File \"/opt/conda/lib/python3.7/site-packages/pandas/core/window.py\", line 880, in _apply\n",
      "    result = calc(values)\n",
      "  File \"/opt/conda/lib/python3.7/multiprocessing/process.py\", line 99, in run\n",
      "    self._target(*self._args, **self._kwargs)\n",
      "  File \"/opt/conda/lib/python3.7/site-packages/pandas/core/window.py\", line 1703, in apply\n",
      "    func, raw=raw, args=args, kwargs=kwargs)\n",
      "  File \"/opt/conda/lib/python3.7/site-packages/pandas/core/window.py\", line 874, in calc\n",
      "    closed=self.closed)\n",
      "  File \"/opt/conda/lib/python3.7/multiprocessing/pool.py\", line 121, in worker\n",
      "    result = (True, func(*args, **kwds))\n",
      "  File \"/opt/conda/lib/python3.7/site-packages/pandas/core/window.py\", line 1012, in apply\n",
      "    center=False, raw=raw)\n",
      "  File \"/opt/conda/lib/python3.7/multiprocessing/pool.py\", line 121, in worker\n",
      "    result = (True, func(*args, **kwds))\n",
      "  File \"<ipython-input-10-3a77ddf5cb63>\", line 30, in rolling_id_non_zero_std_28\n",
      "    return x.shift(1).rolling(112,10).apply(lambda x:non_zero_features_std(x,28),raw=True)\n",
      "  File \"/opt/conda/lib/python3.7/site-packages/pandas/core/window.py\", line 1012, in apply\n",
      "    center=False, raw=raw)\n",
      "  File \"/opt/conda/lib/python3.7/site-packages/pandas/core/window.py\", line 1703, in apply\n",
      "    func, raw=raw, args=args, kwargs=kwargs)\n",
      "  File \"/opt/conda/lib/python3.7/site-packages/pandas/core/window.py\", line 880, in _apply\n",
      "    result = calc(values)\n",
      "  File \"<ipython-input-10-3a77ddf5cb63>\", line 30, in rolling_id_non_zero_std_28\n",
      "    return x.shift(1).rolling(112,10).apply(lambda x:non_zero_features_std(x,28),raw=True)\n",
      "  File \"/opt/conda/lib/python3.7/site-packages/pandas/core/window.py\", line 1009, in f\n",
      "    closed, offset, func, raw, args, kwargs)\n",
      "  File \"/opt/conda/lib/python3.7/site-packages/pandas/core/window.py\", line 1703, in apply\n",
      "    func, raw=raw, args=args, kwargs=kwargs)\n",
      "  File \"/opt/conda/lib/python3.7/site-packages/pandas/core/dtypes/missing.py\", line 184, in _isna_ndarraylike\n",
      "    is_extension = is_extension_array_dtype(obj)\n",
      "  File \"/opt/conda/lib/python3.7/site-packages/pandas/core/window.py\", line 1012, in apply\n",
      "    center=False, raw=raw)\n",
      "  File \"pandas/_libs/window.pyx\", line 1638, in pandas._libs.window.roll_generic\n",
      "  File \"/opt/conda/lib/python3.7/site-packages/pandas/core/window.py\", line 880, in _apply\n",
      "    result = calc(values)\n",
      "  File \"/opt/conda/lib/python3.7/site-packages/pandas/core/window.py\", line 1012, in apply\n",
      "    center=False, raw=raw)\n",
      "  File \"/opt/conda/lib/python3.7/site-packages/pandas/core/window.py\", line 880, in _apply\n",
      "    result = calc(values)\n",
      "  File \"/opt/conda/lib/python3.7/site-packages/pandas/core/window.py\", line 1703, in apply\n",
      "    func, raw=raw, args=args, kwargs=kwargs)\n",
      "  File \"/opt/conda/lib/python3.7/site-packages/pandas/core/window.py\", line 1009, in f\n",
      "    closed, offset, func, raw, args, kwargs)\n",
      "  File \"/opt/conda/lib/python3.7/site-packages/pandas/core/dtypes/common.py\", line 1747, in is_extension_array_dtype\n",
      "    dtype = getattr(arr_or_dtype, 'dtype', arr_or_dtype)\n",
      "  File \"/opt/conda/lib/python3.7/site-packages/pandas/core/window.py\", line 874, in calc\n",
      "    closed=self.closed)\n",
      "  File \"<ipython-input-10-3a77ddf5cb63>\", line 30, in <lambda>\n",
      "    return x.shift(1).rolling(112,10).apply(lambda x:non_zero_features_std(x,28),raw=True)\n",
      "  File \"/opt/conda/lib/python3.7/site-packages/pandas/core/window.py\", line 874, in calc\n",
      "    closed=self.closed)\n",
      "  File \"/opt/conda/lib/python3.7/site-packages/pandas/core/window.py\", line 874, in calc\n",
      "    closed=self.closed)\n",
      "  File \"/opt/conda/lib/python3.7/site-packages/pandas/core/window.py\", line 880, in _apply\n",
      "    result = calc(values)\n",
      "  File \"/opt/conda/lib/python3.7/site-packages/pandas/core/window.py\", line 1012, in apply\n",
      "    center=False, raw=raw)\n",
      "KeyboardInterrupt\n",
      "  File \"/opt/conda/lib/python3.7/site-packages/pandas/core/window.py\", line 1009, in f\n",
      "    closed, offset, func, raw, args, kwargs)\n",
      "  File \"/opt/conda/lib/python3.7/site-packages/pandas/core/window.py\", line 874, in calc\n",
      "    closed=self.closed)\n",
      "  File \"<ipython-input-9-ad84adc2329d>\", line 15, in non_zero_features_std\n",
      "    return np.std(array[-lag_days:])\n",
      "  File \"/opt/conda/lib/python3.7/site-packages/pandas/core/window.py\", line 1009, in f\n",
      "    closed, offset, func, raw, args, kwargs)\n",
      "  File \"pandas/_libs/window.pyx\", line 1650, in pandas._libs.window.roll_generic\n",
      "  File \"/opt/conda/lib/python3.7/site-packages/pandas/core/window.py\", line 880, in _apply\n",
      "    result = calc(values)\n",
      "  File \"/opt/conda/lib/python3.7/site-packages/pandas/core/window.py\", line 1009, in f\n",
      "    closed, offset, func, raw, args, kwargs)\n",
      "  File \"pandas/_libs/window.pyx\", line 1650, in pandas._libs.window.roll_generic\n",
      "  File \"/opt/conda/lib/python3.7/site-packages/pandas/core/window.py\", line 874, in calc\n",
      "    closed=self.closed)\n",
      "  File \"pandas/_libs/window.pyx\", line 1650, in pandas._libs.window.roll_generic\n",
      "  File \"pandas/_libs/window.pyx\", line 1650, in pandas._libs.window.roll_generic\n",
      "  File \"/opt/conda/lib/python3.7/site-packages/pandas/core/window.py\", line 1009, in f\n",
      "    closed, offset, func, raw, args, kwargs)\n",
      "  File \"<ipython-input-10-3a77ddf5cb63>\", line 30, in <lambda>\n",
      "    return x.shift(1).rolling(112,10).apply(lambda x:non_zero_features_std(x,28),raw=True)\n",
      "  File \"<ipython-input-10-3a77ddf5cb63>\", line 30, in <lambda>\n",
      "    return x.shift(1).rolling(112,10).apply(lambda x:non_zero_features_std(x,28),raw=True)\n",
      "  File \"/opt/conda/lib/python3.7/site-packages/pandas/core/window.py\", line 1009, in f\n",
      "    closed, offset, func, raw, args, kwargs)\n",
      "  File \"<ipython-input-10-3a77ddf5cb63>\", line 30, in <lambda>\n",
      "    return x.shift(1).rolling(112,10).apply(lambda x:non_zero_features_std(x,28),raw=True)\n",
      "  File \"pandas/_libs/window.pyx\", line 1650, in pandas._libs.window.roll_generic\n",
      "  File \"pandas/_libs/window.pyx\", line 1650, in pandas._libs.window.roll_generic\n",
      "  File \"<ipython-input-10-3a77ddf5cb63>\", line 30, in <lambda>\n",
      "    return x.shift(1).rolling(112,10).apply(lambda x:non_zero_features_std(x,28),raw=True)\n",
      "  File \"<ipython-input-10-3a77ddf5cb63>\", line 30, in <lambda>\n",
      "    return x.shift(1).rolling(112,10).apply(lambda x:non_zero_features_std(x,28),raw=True)\n",
      "  File \"<ipython-input-9-ad84adc2329d>\", line 15, in non_zero_features_std\n",
      "    return np.std(array[-lag_days:])\n",
      "  File \"<ipython-input-9-ad84adc2329d>\", line 15, in non_zero_features_std\n",
      "    return np.std(array[-lag_days:])\n",
      "  File \"/opt/conda/lib/python3.7/site-packages/numpy/core/fromnumeric.py\", line 3242, in std\n",
      "    **kwargs)\n"
     ]
    },
    {
     "name": "stderr",
     "output_type": "stream",
     "text": [
      "  File \"/opt/conda/lib/python3.7/site-packages/numpy/core/fromnumeric.py\", line 3242, in std\n",
      "    **kwargs)\n",
      "  File \"<ipython-input-10-3a77ddf5cb63>\", line 30, in <lambda>\n",
      "    return x.shift(1).rolling(112,10).apply(lambda x:non_zero_features_std(x,28),raw=True)\n",
      "  File \"<ipython-input-9-ad84adc2329d>\", line 15, in non_zero_features_std\n",
      "    return np.std(array[-lag_days:])\n",
      "  File \"/opt/conda/lib/python3.7/site-packages/numpy/core/fromnumeric.py\", line 3242, in std\n",
      "    **kwargs)\n",
      "  File \"<ipython-input-9-ad84adc2329d>\", line 15, in non_zero_features_std\n",
      "    return np.std(array[-lag_days:])\n",
      "  File \"/opt/conda/lib/python3.7/site-packages/numpy/core/_methods.py\", line 140, in _std\n",
      "    keepdims=keepdims)\n",
      "  File \"/opt/conda/lib/python3.7/site-packages/numpy/core/fromnumeric.py\", line 3242, in std\n",
      "    **kwargs)\n",
      "  File \"<ipython-input-9-ad84adc2329d>\", line 15, in non_zero_features_std\n",
      "    return np.std(array[-lag_days:])\n",
      "  File \"/opt/conda/lib/python3.7/site-packages/numpy/core/_methods.py\", line 122, in _var\n",
      "    ret = umr_sum(x, axis, dtype, out, keepdims)\n",
      "  File \"/opt/conda/lib/python3.7/site-packages/numpy/core/_methods.py\", line 140, in _std\n",
      "    keepdims=keepdims)\n",
      "  File \"/opt/conda/lib/python3.7/site-packages/numpy/core/_methods.py\", line 109, in _var\n",
      "    arrmean = um.true_divide(\n",
      "  File \"<ipython-input-9-ad84adc2329d>\", line 15, in non_zero_features_std\n",
      "    return np.std(array[-lag_days:])\n",
      "  File \"/opt/conda/lib/python3.7/site-packages/numpy/core/fromnumeric.py\", line 3242, in std\n",
      "    **kwargs)\n",
      "KeyboardInterrupt\n",
      "  File \"/opt/conda/lib/python3.7/site-packages/numpy/core/_methods.py\", line 145, in _std\n",
      "    ret = ret.dtype.type(um.sqrt(ret))\n",
      "KeyboardInterrupt\n",
      "  File \"/opt/conda/lib/python3.7/site-packages/numpy/core/_methods.py\", line 140, in _std\n",
      "    keepdims=keepdims)\n",
      "  File \"/opt/conda/lib/python3.7/site-packages/numpy/core/_methods.py\", line 140, in _std\n",
      "    keepdims=keepdims)\n",
      "  File \"/opt/conda/lib/python3.7/site-packages/numpy/core/_methods.py\", line 94, in _var\n",
      "    rcount = _count_reduce_items(arr, axis)\n",
      "  File \"/opt/conda/lib/python3.7/site-packages/numpy/core/fromnumeric.py\", line 3242, in std\n",
      "    **kwargs)\n",
      "  File \"/opt/conda/lib/python3.7/site-packages/numpy/core/_methods.py\", line 50, in _count_reduce_items\n",
      "    axis = tuple(range(arr.ndim))\n",
      "  File \"/opt/conda/lib/python3.7/site-packages/numpy/core/_methods.py\", line 121, in _var\n",
      "    x = um.multiply(x, x, out=x)\n",
      "  File \"/opt/conda/lib/python3.7/site-packages/numpy/core/_methods.py\", line 140, in _std\n",
      "    keepdims=keepdims)\n",
      "  File \"/opt/conda/lib/python3.7/site-packages/numpy/core/_methods.py\", line 110, in _var\n",
      "    arrmean, rcount, out=arrmean, casting='unsafe', subok=False)\n",
      "  File \"/opt/conda/lib/python3.7/site-packages/numpy/core/fromnumeric.py\", line 3242, in std\n",
      "    **kwargs)\n",
      "KeyboardInterrupt\n",
      "  File \"/opt/conda/lib/python3.7/site-packages/numpy/core/_methods.py\", line 140, in _std\n",
      "    keepdims=keepdims)\n",
      "KeyboardInterrupt\n",
      "KeyboardInterrupt\n",
      "KeyboardInterrupt\n",
      "  File \"/opt/conda/lib/python3.7/site-packages/numpy/core/_methods.py\", line 118, in _var\n",
      "    if issubclass(arr.dtype.type, nt.complexfloating):\n",
      "KeyboardInterrupt\n"
     ]
    },
    {
     "ename": "KeyboardInterrupt",
     "evalue": "",
     "output_type": "error",
     "traceback": [
      "\u001b[0;31m---------------------------------------------------------------------------\u001b[0m",
      "\u001b[0;31mIndexError\u001b[0m                                Traceback (most recent call last)",
      "\u001b[0;32m/opt/conda/lib/python3.7/multiprocessing/pool.py\u001b[0m in \u001b[0;36mnext\u001b[0;34m(self, timeout)\u001b[0m\n\u001b[1;32m    732\u001b[0m             \u001b[0;32mtry\u001b[0m\u001b[0;34m:\u001b[0m\u001b[0;34m\u001b[0m\u001b[0;34m\u001b[0m\u001b[0m\n\u001b[0;32m--> 733\u001b[0;31m                 \u001b[0mitem\u001b[0m \u001b[0;34m=\u001b[0m \u001b[0mself\u001b[0m\u001b[0;34m.\u001b[0m\u001b[0m_items\u001b[0m\u001b[0;34m.\u001b[0m\u001b[0mpopleft\u001b[0m\u001b[0;34m(\u001b[0m\u001b[0;34m)\u001b[0m\u001b[0;34m\u001b[0m\u001b[0;34m\u001b[0m\u001b[0m\n\u001b[0m\u001b[1;32m    734\u001b[0m             \u001b[0;32mexcept\u001b[0m \u001b[0mIndexError\u001b[0m\u001b[0;34m:\u001b[0m\u001b[0;34m\u001b[0m\u001b[0;34m\u001b[0m\u001b[0m\n",
      "\u001b[0;31mIndexError\u001b[0m: pop from an empty deque",
      "\nDuring handling of the above exception, another exception occurred:\n",
      "\u001b[0;31mKeyboardInterrupt\u001b[0m                         Traceback (most recent call last)",
      "\u001b[0;32m<ipython-input-15-1074baa0d8f8>\u001b[0m in \u001b[0;36m<module>\u001b[0;34m\u001b[0m\n\u001b[1;32m      1\u001b[0m \u001b[0mprint\u001b[0m\u001b[0;34m(\u001b[0m\u001b[0;36m1\u001b[0m\u001b[0;34m)\u001b[0m\u001b[0;34m\u001b[0m\u001b[0;34m\u001b[0m\u001b[0m\n\u001b[0;32m----> 2\u001b[0;31m \u001b[0mtrain1\u001b[0m \u001b[0;34m=\u001b[0m \u001b[0mfeature_engineer\u001b[0m\u001b[0;34m(\u001b[0m\u001b[0msales_train_long_format\u001b[0m\u001b[0;34m,\u001b[0m\u001b[0;36m8\u001b[0m\u001b[0;34m,\u001b[0m\u001b[0;32mNone\u001b[0m\u001b[0;34m)\u001b[0m\u001b[0;34m\u001b[0m\u001b[0;34m\u001b[0m\u001b[0m\n\u001b[0m",
      "\u001b[0;32m<ipython-input-14-e5f66b1d63d4>\u001b[0m in \u001b[0;36mfeature_engineer\u001b[0;34m(df, num_core, date1)\u001b[0m\n\u001b[1;32m     22\u001b[0m     \u001b[0mdf\u001b[0m \u001b[0;34m=\u001b[0m \u001b[0mreduce_mem_usage\u001b[0m\u001b[0;34m(\u001b[0m\u001b[0mdf\u001b[0m\u001b[0;34m,\u001b[0m\u001b[0;32mFalse\u001b[0m\u001b[0;34m)\u001b[0m\u001b[0;34m\u001b[0m\u001b[0;34m\u001b[0m\u001b[0m\n\u001b[1;32m     23\u001b[0m     \u001b[0mdf\u001b[0m\u001b[0;34m[\u001b[0m\u001b[0;34m'rolling_id_non_zero_mean_28'\u001b[0m\u001b[0;34m]\u001b[0m \u001b[0;34m=\u001b[0m \u001b[0mparall_group_by_id_sale\u001b[0m\u001b[0;34m(\u001b[0m\u001b[0mdf\u001b[0m\u001b[0;34m,\u001b[0m\u001b[0mrolling_id_non_zero_mean_28\u001b[0m\u001b[0;34m,\u001b[0m\u001b[0mnum_core\u001b[0m\u001b[0;34m,\u001b[0m\u001b[0;34m'rolling_id_non_zero_mean_28'\u001b[0m\u001b[0;34m)\u001b[0m\u001b[0;34m\u001b[0m\u001b[0;34m\u001b[0m\u001b[0m\n\u001b[0;32m---> 24\u001b[0;31m     \u001b[0mdf\u001b[0m\u001b[0;34m[\u001b[0m\u001b[0;34m'rolling_id_non_zero_std_28'\u001b[0m\u001b[0;34m]\u001b[0m \u001b[0;34m=\u001b[0m \u001b[0mparall_group_by_id_sale\u001b[0m\u001b[0;34m(\u001b[0m\u001b[0mdf\u001b[0m\u001b[0;34m,\u001b[0m\u001b[0mrolling_id_non_zero_std_28\u001b[0m\u001b[0;34m,\u001b[0m\u001b[0mnum_core\u001b[0m\u001b[0;34m,\u001b[0m\u001b[0;34m'rolling_id_non_zero_std_28'\u001b[0m\u001b[0;34m)\u001b[0m\u001b[0;34m\u001b[0m\u001b[0;34m\u001b[0m\u001b[0m\n\u001b[0m\u001b[1;32m     25\u001b[0m     \u001b[0mdf\u001b[0m\u001b[0;34m[\u001b[0m\u001b[0;34m'rolling_id_non_zero_quantile25_28'\u001b[0m\u001b[0;34m]\u001b[0m \u001b[0;34m=\u001b[0m \u001b[0mparall_group_by_id_sale\u001b[0m\u001b[0;34m(\u001b[0m\u001b[0mdf\u001b[0m\u001b[0;34m,\u001b[0m\u001b[0mrolling_id_non_zero_quantile25_28\u001b[0m\u001b[0;34m,\u001b[0m\u001b[0mnum_core\u001b[0m\u001b[0;34m,\u001b[0m\u001b[0;34m'rolling_id_non_zero_quantile25_28'\u001b[0m\u001b[0;34m)\u001b[0m\u001b[0;34m\u001b[0m\u001b[0;34m\u001b[0m\u001b[0m\n\u001b[1;32m     26\u001b[0m     \u001b[0mdf\u001b[0m\u001b[0;34m[\u001b[0m\u001b[0;34m'rolling_id_non_zero_quantile75_28'\u001b[0m\u001b[0;34m]\u001b[0m \u001b[0;34m=\u001b[0m \u001b[0mparall_group_by_id_sale\u001b[0m\u001b[0;34m(\u001b[0m\u001b[0mdf\u001b[0m\u001b[0;34m,\u001b[0m\u001b[0mrolling_id_non_zero_quantile75_28\u001b[0m\u001b[0;34m,\u001b[0m\u001b[0mnum_core\u001b[0m\u001b[0;34m,\u001b[0m\u001b[0;34m'rolling_id_non_zero_quantile75_28'\u001b[0m\u001b[0;34m)\u001b[0m\u001b[0;34m\u001b[0m\u001b[0;34m\u001b[0m\u001b[0m\n",
      "\u001b[0;32m<ipython-input-8-32684e17b60b>\u001b[0m in \u001b[0;36mparall_group_by_id_sale\u001b[0;34m(df, func, n_cores, name_feature)\u001b[0m\n\u001b[1;32m      1\u001b[0m \u001b[0;32mdef\u001b[0m \u001b[0mparall_group_by_id_sale\u001b[0m\u001b[0;34m(\u001b[0m\u001b[0mdf\u001b[0m\u001b[0;34m,\u001b[0m\u001b[0mfunc\u001b[0m\u001b[0;34m,\u001b[0m\u001b[0mn_cores\u001b[0m\u001b[0;34m,\u001b[0m\u001b[0mname_feature\u001b[0m\u001b[0;34m)\u001b[0m\u001b[0;34m:\u001b[0m\u001b[0;34m\u001b[0m\u001b[0;34m\u001b[0m\u001b[0m\n\u001b[1;32m      2\u001b[0m     \u001b[0;32mwith\u001b[0m \u001b[0mmultiprocessing\u001b[0m\u001b[0;34m.\u001b[0m\u001b[0mPool\u001b[0m\u001b[0;34m(\u001b[0m\u001b[0mn_cores\u001b[0m\u001b[0;34m)\u001b[0m \u001b[0;32mas\u001b[0m \u001b[0mp\u001b[0m\u001b[0;34m:\u001b[0m\u001b[0;34m\u001b[0m\u001b[0;34m\u001b[0m\u001b[0m\n\u001b[0;32m----> 3\u001b[0;31m         \u001b[0mret_list\u001b[0m \u001b[0;34m=\u001b[0m \u001b[0mlist\u001b[0m\u001b[0;34m(\u001b[0m\u001b[0mtqdm\u001b[0m\u001b[0;34m(\u001b[0m\u001b[0mp\u001b[0m\u001b[0;34m.\u001b[0m\u001b[0mimap\u001b[0m\u001b[0;34m(\u001b[0m\u001b[0mfunc\u001b[0m\u001b[0;34m,\u001b[0m \u001b[0;34m[\u001b[0m\u001b[0mgroup\u001b[0m \u001b[0;32mfor\u001b[0m \u001b[0mname\u001b[0m\u001b[0;34m,\u001b[0m \u001b[0mgroup\u001b[0m \u001b[0;32min\u001b[0m \u001b[0mdf\u001b[0m\u001b[0;34m.\u001b[0m\u001b[0mgroupby\u001b[0m\u001b[0;34m(\u001b[0m\u001b[0;34m[\u001b[0m\u001b[0;34m'id'\u001b[0m\u001b[0;34m]\u001b[0m\u001b[0;34m)\u001b[0m\u001b[0;34m[\u001b[0m\u001b[0;34m'sale'\u001b[0m\u001b[0;34m]\u001b[0m\u001b[0;34m]\u001b[0m\u001b[0;34m)\u001b[0m\u001b[0;34m,\u001b[0m \u001b[0mtotal\u001b[0m\u001b[0;34m=\u001b[0m\u001b[0;36m30490\u001b[0m\u001b[0;34m)\u001b[0m\u001b[0;34m)\u001b[0m\u001b[0;34m\u001b[0m\u001b[0;34m\u001b[0m\u001b[0m\n\u001b[0m\u001b[1;32m      4\u001b[0m         \u001b[0mtemp\u001b[0m \u001b[0;34m=\u001b[0m \u001b[0mpd\u001b[0m\u001b[0;34m.\u001b[0m\u001b[0mconcat\u001b[0m\u001b[0;34m(\u001b[0m\u001b[0mret_list\u001b[0m\u001b[0;34m,\u001b[0m\u001b[0maxis\u001b[0m\u001b[0;34m=\u001b[0m\u001b[0;36m0\u001b[0m\u001b[0;34m)\u001b[0m\u001b[0;34m.\u001b[0m\u001b[0msort_index\u001b[0m\u001b[0;34m(\u001b[0m\u001b[0;34m)\u001b[0m\u001b[0;34m\u001b[0m\u001b[0;34m\u001b[0m\u001b[0m\n\u001b[1;32m      5\u001b[0m         \u001b[0mprint\u001b[0m\u001b[0;34m(\u001b[0m\u001b[0;34mf'Features {name_feature} over!!'\u001b[0m\u001b[0;34m)\u001b[0m\u001b[0;34m\u001b[0m\u001b[0;34m\u001b[0m\u001b[0m\n",
      "\u001b[0;32m/opt/conda/lib/python3.7/site-packages/tqdm/notebook.py\u001b[0m in \u001b[0;36m__iter__\u001b[0;34m(self, *args, **kwargs)\u001b[0m\n\u001b[1;32m    216\u001b[0m     \u001b[0;32mdef\u001b[0m \u001b[0m__iter__\u001b[0m\u001b[0;34m(\u001b[0m\u001b[0mself\u001b[0m\u001b[0;34m,\u001b[0m \u001b[0;34m*\u001b[0m\u001b[0margs\u001b[0m\u001b[0;34m,\u001b[0m \u001b[0;34m**\u001b[0m\u001b[0mkwargs\u001b[0m\u001b[0;34m)\u001b[0m\u001b[0;34m:\u001b[0m\u001b[0;34m\u001b[0m\u001b[0;34m\u001b[0m\u001b[0m\n\u001b[1;32m    217\u001b[0m         \u001b[0;32mtry\u001b[0m\u001b[0;34m:\u001b[0m\u001b[0;34m\u001b[0m\u001b[0;34m\u001b[0m\u001b[0m\n\u001b[0;32m--> 218\u001b[0;31m             \u001b[0;32mfor\u001b[0m \u001b[0mobj\u001b[0m \u001b[0;32min\u001b[0m \u001b[0msuper\u001b[0m\u001b[0;34m(\u001b[0m\u001b[0mtqdm_notebook\u001b[0m\u001b[0;34m,\u001b[0m \u001b[0mself\u001b[0m\u001b[0;34m)\u001b[0m\u001b[0;34m.\u001b[0m\u001b[0m__iter__\u001b[0m\u001b[0;34m(\u001b[0m\u001b[0;34m*\u001b[0m\u001b[0margs\u001b[0m\u001b[0;34m,\u001b[0m \u001b[0;34m**\u001b[0m\u001b[0mkwargs\u001b[0m\u001b[0;34m)\u001b[0m\u001b[0;34m:\u001b[0m\u001b[0;34m\u001b[0m\u001b[0;34m\u001b[0m\u001b[0m\n\u001b[0m\u001b[1;32m    219\u001b[0m                 \u001b[0;31m# return super(tqdm...) will not catch exception\u001b[0m\u001b[0;34m\u001b[0m\u001b[0;34m\u001b[0m\u001b[0;34m\u001b[0m\u001b[0m\n\u001b[1;32m    220\u001b[0m                 \u001b[0;32myield\u001b[0m \u001b[0mobj\u001b[0m\u001b[0;34m\u001b[0m\u001b[0;34m\u001b[0m\u001b[0m\n",
      "\u001b[0;32m/opt/conda/lib/python3.7/site-packages/tqdm/std.py\u001b[0m in \u001b[0;36m__iter__\u001b[0;34m(self)\u001b[0m\n\u001b[1;32m   1125\u001b[0m \u001b[0;34m\u001b[0m\u001b[0m\n\u001b[1;32m   1126\u001b[0m         \u001b[0;32mtry\u001b[0m\u001b[0;34m:\u001b[0m\u001b[0;34m\u001b[0m\u001b[0;34m\u001b[0m\u001b[0m\n\u001b[0;32m-> 1127\u001b[0;31m             \u001b[0;32mfor\u001b[0m \u001b[0mobj\u001b[0m \u001b[0;32min\u001b[0m \u001b[0miterable\u001b[0m\u001b[0;34m:\u001b[0m\u001b[0;34m\u001b[0m\u001b[0;34m\u001b[0m\u001b[0m\n\u001b[0m\u001b[1;32m   1128\u001b[0m                 \u001b[0;32myield\u001b[0m \u001b[0mobj\u001b[0m\u001b[0;34m\u001b[0m\u001b[0;34m\u001b[0m\u001b[0m\n\u001b[1;32m   1129\u001b[0m                 \u001b[0;31m# Update and possibly print the progressbar.\u001b[0m\u001b[0;34m\u001b[0m\u001b[0;34m\u001b[0m\u001b[0;34m\u001b[0m\u001b[0m\n",
      "\u001b[0;32m/opt/conda/lib/python3.7/multiprocessing/pool.py\u001b[0m in \u001b[0;36mnext\u001b[0;34m(self, timeout)\u001b[0m\n\u001b[1;32m    735\u001b[0m                 \u001b[0;32mif\u001b[0m \u001b[0mself\u001b[0m\u001b[0;34m.\u001b[0m\u001b[0m_index\u001b[0m \u001b[0;34m==\u001b[0m \u001b[0mself\u001b[0m\u001b[0;34m.\u001b[0m\u001b[0m_length\u001b[0m\u001b[0;34m:\u001b[0m\u001b[0;34m\u001b[0m\u001b[0;34m\u001b[0m\u001b[0m\n\u001b[1;32m    736\u001b[0m                     \u001b[0;32mraise\u001b[0m \u001b[0mStopIteration\u001b[0m \u001b[0;32mfrom\u001b[0m \u001b[0;32mNone\u001b[0m\u001b[0;34m\u001b[0m\u001b[0;34m\u001b[0m\u001b[0m\n\u001b[0;32m--> 737\u001b[0;31m                 \u001b[0mself\u001b[0m\u001b[0;34m.\u001b[0m\u001b[0m_cond\u001b[0m\u001b[0;34m.\u001b[0m\u001b[0mwait\u001b[0m\u001b[0;34m(\u001b[0m\u001b[0mtimeout\u001b[0m\u001b[0;34m)\u001b[0m\u001b[0;34m\u001b[0m\u001b[0;34m\u001b[0m\u001b[0m\n\u001b[0m\u001b[1;32m    738\u001b[0m                 \u001b[0;32mtry\u001b[0m\u001b[0;34m:\u001b[0m\u001b[0;34m\u001b[0m\u001b[0;34m\u001b[0m\u001b[0m\n\u001b[1;32m    739\u001b[0m                     \u001b[0mitem\u001b[0m \u001b[0;34m=\u001b[0m \u001b[0mself\u001b[0m\u001b[0;34m.\u001b[0m\u001b[0m_items\u001b[0m\u001b[0;34m.\u001b[0m\u001b[0mpopleft\u001b[0m\u001b[0;34m(\u001b[0m\u001b[0;34m)\u001b[0m\u001b[0;34m\u001b[0m\u001b[0;34m\u001b[0m\u001b[0m\n",
      "\u001b[0;32m/opt/conda/lib/python3.7/threading.py\u001b[0m in \u001b[0;36mwait\u001b[0;34m(self, timeout)\u001b[0m\n\u001b[1;32m    294\u001b[0m         \u001b[0;32mtry\u001b[0m\u001b[0;34m:\u001b[0m    \u001b[0;31m# restore state no matter what (e.g., KeyboardInterrupt)\u001b[0m\u001b[0;34m\u001b[0m\u001b[0;34m\u001b[0m\u001b[0m\n\u001b[1;32m    295\u001b[0m             \u001b[0;32mif\u001b[0m \u001b[0mtimeout\u001b[0m \u001b[0;32mis\u001b[0m \u001b[0;32mNone\u001b[0m\u001b[0;34m:\u001b[0m\u001b[0;34m\u001b[0m\u001b[0;34m\u001b[0m\u001b[0m\n\u001b[0;32m--> 296\u001b[0;31m                 \u001b[0mwaiter\u001b[0m\u001b[0;34m.\u001b[0m\u001b[0macquire\u001b[0m\u001b[0;34m(\u001b[0m\u001b[0;34m)\u001b[0m\u001b[0;34m\u001b[0m\u001b[0;34m\u001b[0m\u001b[0m\n\u001b[0m\u001b[1;32m    297\u001b[0m                 \u001b[0mgotit\u001b[0m \u001b[0;34m=\u001b[0m \u001b[0;32mTrue\u001b[0m\u001b[0;34m\u001b[0m\u001b[0;34m\u001b[0m\u001b[0m\n\u001b[1;32m    298\u001b[0m             \u001b[0;32melse\u001b[0m\u001b[0;34m:\u001b[0m\u001b[0;34m\u001b[0m\u001b[0;34m\u001b[0m\u001b[0m\n",
      "\u001b[0;31mKeyboardInterrupt\u001b[0m: "
     ]
    }
   ],
   "source": [
    "print(1)\n",
    "train1 = feature_engineer(sales_train_long_format,8,None)"
   ]
  },
  {
   "cell_type": "code",
   "execution_count": null,
   "metadata": {
    "ExecuteTime": {
     "end_time": "2020-04-27T08:17:57.223114Z",
     "start_time": "2020-04-27T06:57:42.432Z"
    }
   },
   "outputs": [],
   "source": [
    "train1.to_pickle('data_part3.pkl')"
   ]
  },
  {
   "cell_type": "code",
   "execution_count": null,
   "metadata": {},
   "outputs": [],
   "source": []
  }
 ],
 "metadata": {
  "kernelspec": {
   "display_name": "Python 3",
   "language": "python",
   "name": "python3"
  },
  "language_info": {
   "codemirror_mode": {
    "name": "ipython",
    "version": 3
   },
   "file_extension": ".py",
   "mimetype": "text/x-python",
   "name": "python",
   "nbconvert_exporter": "python",
   "pygments_lexer": "ipython3",
   "version": "3.7.3"
  },
  "toc": {
   "base_numbering": 1,
   "nav_menu": {},
   "number_sections": true,
   "sideBar": true,
   "skip_h1_title": false,
   "title_cell": "Table of Contents",
   "title_sidebar": "Contents",
   "toc_cell": false,
   "toc_position": {},
   "toc_section_display": true,
   "toc_window_display": false
  }
 },
 "nbformat": 4,
 "nbformat_minor": 2
}
