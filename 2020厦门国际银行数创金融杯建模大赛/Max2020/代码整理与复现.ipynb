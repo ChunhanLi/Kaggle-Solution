{
 "cells": [
  {
   "cell_type": "markdown",
   "metadata": {},
   "source": [
    "# 导入所需包"
   ]
  },
  {
   "cell_type": "code",
   "execution_count": 1,
   "metadata": {
    "ExecuteTime": {
     "end_time": "2020-12-26T14:22:32.409830Z",
     "start_time": "2020-12-26T14:22:30.379554Z"
    }
   },
   "outputs": [],
   "source": [
    "import lightgbm as lgb\n",
    "import pandas as pd\n",
    "import numpy as np\n",
    "import gc\n",
    "import datetime\n",
    "from sklearn.preprocessing import LabelEncoder\n",
    "from sklearn.metrics import cohen_kappa_score\n",
    "from sklearn.model_selection import StratifiedKFold,KFold\n",
    "import numpy as np\n",
    "import random"
   ]
  },
  {
   "cell_type": "code",
   "execution_count": 2,
   "metadata": {
    "ExecuteTime": {
     "end_time": "2020-12-26T14:22:32.413808Z",
     "start_time": "2020-12-26T14:22:32.410817Z"
    }
   },
   "outputs": [],
   "source": [
    "np.random.seed(0)\n",
    "random.seed(0)"
   ]
  },
  {
   "cell_type": "markdown",
   "metadata": {},
   "source": [
    "# 读取数据"
   ]
  },
  {
   "cell_type": "markdown",
   "metadata": {},
   "source": [
    "由于数据或按季或按月分别存储在不同的文件中，按照个人习惯，笔者会将其归并并且，再对常用指标项进行统计。"
   ]
  },
  {
   "cell_type": "markdown",
   "metadata": {},
   "source": [
    "## 标签"
   ]
  },
  {
   "cell_type": "code",
   "execution_count": 3,
   "metadata": {
    "ExecuteTime": {
     "end_time": "2020-12-26T14:22:32.495579Z",
     "start_time": "2020-12-26T14:22:32.414805Z"
    }
   },
   "outputs": [],
   "source": [
    "y_Q3 = pd.read_csv('./raw/y_Q3_3.csv')\n",
    "y_Q4 = pd.read_csv('./raw/y_Q4_3.csv')"
   ]
  },
  {
   "cell_type": "code",
   "execution_count": 4,
   "metadata": {
    "ExecuteTime": {
     "end_time": "2020-12-26T14:22:32.511564Z",
     "start_time": "2020-12-26T14:22:32.497530Z"
    }
   },
   "outputs": [],
   "source": [
    "y_Q3['Q'] = 3\n",
    "y_Q4['Q'] = 4\n",
    "y = pd.concat([y_Q3,y_Q4],axis=0,ignore_index=True)"
   ]
  },
  {
   "cell_type": "code",
   "execution_count": 5,
   "metadata": {
    "ExecuteTime": {
     "end_time": "2020-12-26T14:22:32.529451Z",
     "start_time": "2020-12-26T14:22:32.513475Z"
    }
   },
   "outputs": [
    {
     "data": {
      "text/html": [
       "<div>\n",
       "<style scoped>\n",
       "    .dataframe tbody tr th:only-of-type {\n",
       "        vertical-align: middle;\n",
       "    }\n",
       "\n",
       "    .dataframe tbody tr th {\n",
       "        vertical-align: top;\n",
       "    }\n",
       "\n",
       "    .dataframe thead th {\n",
       "        text-align: right;\n",
       "    }\n",
       "</style>\n",
       "<table border=\"1\" class=\"dataframe\">\n",
       "  <thead>\n",
       "    <tr style=\"text-align: right;\">\n",
       "      <th></th>\n",
       "      <th>cust_no</th>\n",
       "      <th>label</th>\n",
       "      <th>Q</th>\n",
       "    </tr>\n",
       "  </thead>\n",
       "  <tbody>\n",
       "    <tr>\n",
       "      <th>0</th>\n",
       "      <td>0xb2d640a6</td>\n",
       "      <td>0</td>\n",
       "      <td>3</td>\n",
       "    </tr>\n",
       "    <tr>\n",
       "      <th>1</th>\n",
       "      <td>0xb2d4dd44</td>\n",
       "      <td>-1</td>\n",
       "      <td>3</td>\n",
       "    </tr>\n",
       "    <tr>\n",
       "      <th>2</th>\n",
       "      <td>0xb2d69fef</td>\n",
       "      <td>1</td>\n",
       "      <td>3</td>\n",
       "    </tr>\n",
       "    <tr>\n",
       "      <th>3</th>\n",
       "      <td>0xb2d42c89</td>\n",
       "      <td>0</td>\n",
       "      <td>3</td>\n",
       "    </tr>\n",
       "    <tr>\n",
       "      <th>4</th>\n",
       "      <td>0xb2d90b58</td>\n",
       "      <td>-1</td>\n",
       "      <td>3</td>\n",
       "    </tr>\n",
       "  </tbody>\n",
       "</table>\n",
       "</div>"
      ],
      "text/plain": [
       "      cust_no  label  Q\n",
       "0  0xb2d640a6      0  3\n",
       "1  0xb2d4dd44     -1  3\n",
       "2  0xb2d69fef      1  3\n",
       "3  0xb2d42c89      0  3\n",
       "4  0xb2d90b58     -1  3"
      ]
     },
     "execution_count": 5,
     "metadata": {},
     "output_type": "execute_result"
    }
   ],
   "source": [
    "y.head(5)"
   ]
  },
  {
   "cell_type": "code",
   "execution_count": 6,
   "metadata": {
    "ExecuteTime": {
     "end_time": "2020-12-26T14:22:32.733738Z",
     "start_time": "2020-12-26T14:22:32.724768Z"
    }
   },
   "outputs": [
    {
     "data": {
      "text/plain": [
       "4    76170\n",
       "3    69126\n",
       "Name: Q, dtype: int64"
      ]
     },
     "execution_count": 6,
     "metadata": {},
     "output_type": "execute_result"
    }
   ],
   "source": [
    "y.Q.value_counts()"
   ]
  },
  {
   "cell_type": "code",
   "execution_count": 7,
   "metadata": {
    "ExecuteTime": {
     "end_time": "2020-12-26T14:22:33.012804Z",
     "start_time": "2020-12-26T14:22:33.008820Z"
    }
   },
   "outputs": [
    {
     "data": {
      "text/plain": [
       "145296"
      ]
     },
     "execution_count": 7,
     "metadata": {},
     "output_type": "execute_result"
    }
   ],
   "source": [
    "len(y)"
   ]
  },
  {
   "cell_type": "code",
   "execution_count": 8,
   "metadata": {
    "ExecuteTime": {
     "end_time": "2020-12-26T14:22:33.306823Z",
     "start_time": "2020-12-26T14:22:33.250067Z"
    },
    "scrolled": true
   },
   "outputs": [
    {
     "data": {
      "text/plain": [
       " 1    0.638820\n",
       " 0    0.208106\n",
       "-1    0.153074\n",
       "Name: label, dtype: float64"
      ]
     },
     "execution_count": 8,
     "metadata": {},
     "output_type": "execute_result"
    }
   ],
   "source": [
    "y.label.value_counts(normalize=True)"
   ]
  },
  {
   "cell_type": "code",
   "execution_count": 9,
   "metadata": {
    "ExecuteTime": {
     "end_time": "2020-12-26T14:22:33.504169Z",
     "start_time": "2020-12-26T14:22:33.496189Z"
    }
   },
   "outputs": [
    {
     "data": {
      "text/plain": [
       " 1    0.628157\n",
       " 0    0.217718\n",
       "-1    0.154124\n",
       "Name: label, dtype: float64"
      ]
     },
     "execution_count": 9,
     "metadata": {},
     "output_type": "execute_result"
    }
   ],
   "source": [
    "y_Q3.label.value_counts(normalize=True)"
   ]
  },
  {
   "cell_type": "code",
   "execution_count": 10,
   "metadata": {
    "ExecuteTime": {
     "end_time": "2020-12-26T14:22:33.764344Z",
     "start_time": "2020-12-26T14:22:33.757315Z"
    }
   },
   "outputs": [
    {
     "data": {
      "text/plain": [
       " 1    0.648497\n",
       " 0    0.199383\n",
       "-1    0.152120\n",
       "Name: label, dtype: float64"
      ]
     },
     "execution_count": 10,
     "metadata": {},
     "output_type": "execute_result"
    }
   ],
   "source": [
    "y_Q4.label.value_counts(normalize=True)"
   ]
  },
  {
   "cell_type": "markdown",
   "metadata": {},
   "source": [
    "    有对应用户的第3季度和第4季度两个季度标签数据。\n",
    "    第3季度有69126个样本，第4季度有7610个样本。总计14.5w样本。\n",
    "    label为1代表行内资产相对上个季度上升，label为0代表相对上个季度行内资产稳定，label为-1代表下降。\n",
    "    第4季度和第3季度相比，资产上升的用户比例增多，稳定和下降的用户减少。"
   ]
  },
  {
   "cell_type": "markdown",
   "metadata": {},
   "source": [
    "## 待预测的样本id"
   ]
  },
  {
   "cell_type": "code",
   "execution_count": 11,
   "metadata": {
    "ExecuteTime": {
     "end_time": "2020-12-26T14:22:34.711416Z",
     "start_time": "2020-12-26T14:22:34.603485Z"
    }
   },
   "outputs": [],
   "source": [
    "cust_avli_Q3 = pd.read_csv('./raw/cust_avli_Q3.csv')\n",
    "cust_avli_Q4 = pd.read_csv('./raw/cust_avli_Q4.csv')\n",
    "cust_avli_Q1 = pd.read_csv('./raw/cust_avli_Q1.csv')"
   ]
  },
  {
   "cell_type": "code",
   "execution_count": 12,
   "metadata": {
    "ExecuteTime": {
     "end_time": "2020-12-26T14:22:34.979489Z",
     "start_time": "2020-12-26T14:22:34.973518Z"
    }
   },
   "outputs": [],
   "source": [
    "cust_avli_Q3['Q'] = 3\n",
    "cust_avli_Q4['Q'] = 4\n",
    "cust_avli_Q1['Q'] = 1"
   ]
  },
  {
   "cell_type": "code",
   "execution_count": 13,
   "metadata": {
    "ExecuteTime": {
     "end_time": "2020-12-26T14:22:35.265111Z",
     "start_time": "2020-12-26T14:22:35.258147Z"
    }
   },
   "outputs": [
    {
     "name": "stdout",
     "output_type": "stream",
     "text": [
      "(69126, 2)\n",
      "(76170, 2)\n",
      "(76722, 2)\n"
     ]
    }
   ],
   "source": [
    "print(cust_avli_Q3.shape)\n",
    "print(cust_avli_Q4.shape)\n",
    "print(cust_avli_Q1.shape)"
   ]
  },
  {
   "cell_type": "code",
   "execution_count": 14,
   "metadata": {
    "ExecuteTime": {
     "end_time": "2020-12-26T14:22:35.530223Z",
     "start_time": "2020-12-26T14:22:35.523246Z"
    }
   },
   "outputs": [],
   "source": [
    "cust_avli = pd.concat([cust_avli_Q3,cust_avli_Q4,cust_avli_Q1],axis=0,ignore_index=True)"
   ]
  },
  {
   "cell_type": "code",
   "execution_count": 15,
   "metadata": {
    "ExecuteTime": {
     "end_time": "2020-12-26T14:22:35.782674Z",
     "start_time": "2020-12-26T14:22:35.774187Z"
    }
   },
   "outputs": [
    {
     "data": {
      "text/plain": [
       "1    0.345567\n",
       "4    0.343080\n",
       "3    0.311353\n",
       "Name: Q, dtype: float64"
      ]
     },
     "execution_count": 15,
     "metadata": {},
     "output_type": "execute_result"
    }
   ],
   "source": [
    "cust_avli.Q.value_counts(normalize=True)"
   ]
  },
  {
   "cell_type": "markdown",
   "metadata": {},
   "source": [
    "    1季度为需要模型预测的季度，同时作为模型效果的线上评分集。\n",
    "    从数据量上来看1季度和4季度的数据量接近，3季度和4季度数量有所差别。"
   ]
  },
  {
   "cell_type": "code",
   "execution_count": 16,
   "metadata": {
    "ExecuteTime": {
     "end_time": "2020-12-26T14:22:36.374552Z",
     "start_time": "2020-12-26T14:22:36.316731Z"
    }
   },
   "outputs": [
    {
     "name": "stdout",
     "output_type": "stream",
     "text": [
      "69126\n",
      "62397\n"
     ]
    }
   ],
   "source": [
    "print(cust_avli[cust_avli.Q == 3].cust_no.nunique())\n",
    "print(cust_avli.cust_no[cust_avli.Q == 3][cust_avli.cust_no[cust_avli.Q == 3].isin(cust_avli.cust_no[cust_avli.Q == 4])].nunique())"
   ]
  },
  {
   "cell_type": "code",
   "execution_count": 17,
   "metadata": {
    "ExecuteTime": {
     "end_time": "2020-12-26T14:22:36.625504Z",
     "start_time": "2020-12-26T14:22:36.572839Z"
    }
   },
   "outputs": [
    {
     "name": "stdout",
     "output_type": "stream",
     "text": [
      "76170\n",
      "69441\n"
     ]
    }
   ],
   "source": [
    "print(cust_avli[cust_avli.Q == 4].cust_no.nunique())\n",
    "print(cust_avli.cust_no[cust_avli.Q == 4][cust_avli.cust_no[cust_avli.Q == 4].isin(cust_avli.cust_no[cust_avli.Q == 1])].nunique())"
   ]
  },
  {
   "cell_type": "code",
   "execution_count": 18,
   "metadata": {
    "ExecuteTime": {
     "end_time": "2020-12-26T14:22:36.827827Z",
     "start_time": "2020-12-26T14:22:36.822848Z"
    }
   },
   "outputs": [
    {
     "data": {
      "text/plain": [
       "0.9026560194427568"
      ]
     },
     "execution_count": 18,
     "metadata": {},
     "output_type": "execute_result"
    }
   ],
   "source": [
    "62397/69126"
   ]
  },
  {
   "cell_type": "code",
   "execution_count": 19,
   "metadata": {
    "ExecuteTime": {
     "end_time": "2020-12-26T14:22:37.083744Z",
     "start_time": "2020-12-26T14:22:37.078712Z"
    }
   },
   "outputs": [
    {
     "data": {
      "text/plain": [
       "0.9116581331232769"
      ]
     },
     "execution_count": 19,
     "metadata": {},
     "output_type": "execute_result"
    }
   ],
   "source": [
    "69441/76170"
   ]
  },
  {
   "cell_type": "markdown",
   "metadata": {
    "ExecuteTime": {
     "end_time": "2020-12-13T07:07:21.901204Z",
     "start_time": "2020-12-13T07:07:21.895277Z"
    }
   },
   "source": [
    "    我们并不知道主办方提取数据的具体逻辑。但是可以客观的看一下3个季度用户的重合情况。\n",
    "    发现3季度流入4季度的用户占3月份90%，4季度流入1季度的91%左右。数据情况稳定。"
   ]
  },
  {
   "cell_type": "markdown",
   "metadata": {
    "ExecuteTime": {
     "end_time": "2020-12-13T09:11:38.562268Z",
     "start_time": "2020-12-13T09:11:38.556250Z"
    }
   },
   "source": [
    "对于4季度的用户而言，可以按照上个季度该用户的标签是什么来进行分类，分别为1,0,-1,无。"
   ]
  },
  {
   "cell_type": "code",
   "execution_count": 20,
   "metadata": {
    "ExecuteTime": {
     "end_time": "2020-12-26T14:22:37.911275Z",
     "start_time": "2020-12-26T14:22:37.902307Z"
    }
   },
   "outputs": [
    {
     "data": {
      "text/html": [
       "<div>\n",
       "<style scoped>\n",
       "    .dataframe tbody tr th:only-of-type {\n",
       "        vertical-align: middle;\n",
       "    }\n",
       "\n",
       "    .dataframe tbody tr th {\n",
       "        vertical-align: top;\n",
       "    }\n",
       "\n",
       "    .dataframe thead th {\n",
       "        text-align: right;\n",
       "    }\n",
       "</style>\n",
       "<table border=\"1\" class=\"dataframe\">\n",
       "  <thead>\n",
       "    <tr style=\"text-align: right;\">\n",
       "      <th></th>\n",
       "      <th>cust_no</th>\n",
       "      <th>label</th>\n",
       "      <th>Q</th>\n",
       "    </tr>\n",
       "  </thead>\n",
       "  <tbody>\n",
       "    <tr>\n",
       "      <th>0</th>\n",
       "      <td>0xb2d640a6</td>\n",
       "      <td>0</td>\n",
       "      <td>3</td>\n",
       "    </tr>\n",
       "    <tr>\n",
       "      <th>1</th>\n",
       "      <td>0xb2d4dd44</td>\n",
       "      <td>-1</td>\n",
       "      <td>3</td>\n",
       "    </tr>\n",
       "    <tr>\n",
       "      <th>2</th>\n",
       "      <td>0xb2d69fef</td>\n",
       "      <td>1</td>\n",
       "      <td>3</td>\n",
       "    </tr>\n",
       "    <tr>\n",
       "      <th>3</th>\n",
       "      <td>0xb2d42c89</td>\n",
       "      <td>0</td>\n",
       "      <td>3</td>\n",
       "    </tr>\n",
       "    <tr>\n",
       "      <th>4</th>\n",
       "      <td>0xb2d90b58</td>\n",
       "      <td>-1</td>\n",
       "      <td>3</td>\n",
       "    </tr>\n",
       "    <tr>\n",
       "      <th>...</th>\n",
       "      <td>...</td>\n",
       "      <td>...</td>\n",
       "      <td>...</td>\n",
       "    </tr>\n",
       "    <tr>\n",
       "      <th>145291</th>\n",
       "      <td>0xb2d174f1</td>\n",
       "      <td>1</td>\n",
       "      <td>4</td>\n",
       "    </tr>\n",
       "    <tr>\n",
       "      <th>145292</th>\n",
       "      <td>0x3b9af14f</td>\n",
       "      <td>0</td>\n",
       "      <td>4</td>\n",
       "    </tr>\n",
       "    <tr>\n",
       "      <th>145293</th>\n",
       "      <td>0xb2d1bb5d</td>\n",
       "      <td>0</td>\n",
       "      <td>4</td>\n",
       "    </tr>\n",
       "    <tr>\n",
       "      <th>145294</th>\n",
       "      <td>0xb2d9ed26</td>\n",
       "      <td>1</td>\n",
       "      <td>4</td>\n",
       "    </tr>\n",
       "    <tr>\n",
       "      <th>145295</th>\n",
       "      <td>0xb2d3049f</td>\n",
       "      <td>1</td>\n",
       "      <td>4</td>\n",
       "    </tr>\n",
       "  </tbody>\n",
       "</table>\n",
       "<p>145296 rows × 3 columns</p>\n",
       "</div>"
      ],
      "text/plain": [
       "           cust_no  label  Q\n",
       "0       0xb2d640a6      0  3\n",
       "1       0xb2d4dd44     -1  3\n",
       "2       0xb2d69fef      1  3\n",
       "3       0xb2d42c89      0  3\n",
       "4       0xb2d90b58     -1  3\n",
       "...            ...    ... ..\n",
       "145291  0xb2d174f1      1  4\n",
       "145292  0x3b9af14f      0  4\n",
       "145293  0xb2d1bb5d      0  4\n",
       "145294  0xb2d9ed26      1  4\n",
       "145295  0xb2d3049f      1  4\n",
       "\n",
       "[145296 rows x 3 columns]"
      ]
     },
     "execution_count": 20,
     "metadata": {},
     "output_type": "execute_result"
    }
   ],
   "source": [
    "y"
   ]
  },
  {
   "cell_type": "code",
   "execution_count": 21,
   "metadata": {
    "ExecuteTime": {
     "end_time": "2020-12-26T14:22:38.274464Z",
     "start_time": "2020-12-26T14:22:38.156405Z"
    }
   },
   "outputs": [],
   "source": [
    "y_ = y.copy()\n",
    "y_.columns = ['cust_no','last_label','Q']\n",
    "y_.Q = y_.Q.map({3:4,4:1,1:2})\n",
    "y_ = y.merge(y_,on=['cust_no','Q'],how='left')"
   ]
  },
  {
   "cell_type": "code",
   "execution_count": 22,
   "metadata": {
    "ExecuteTime": {
     "end_time": "2020-12-26T14:22:38.492990Z",
     "start_time": "2020-12-26T14:22:38.423158Z"
    }
   },
   "outputs": [],
   "source": [
    "cross_df = pd.crosstab(y_.last_label[y_.Q==4].fillna('NA'),y_[y_.Q==4].label, dropna=False)"
   ]
  },
  {
   "cell_type": "code",
   "execution_count": 23,
   "metadata": {
    "ExecuteTime": {
     "end_time": "2020-12-26T14:22:38.683400Z",
     "start_time": "2020-12-26T14:22:38.676423Z"
    }
   },
   "outputs": [
    {
     "data": {
      "text/html": [
       "<div>\n",
       "<style scoped>\n",
       "    .dataframe tbody tr th:only-of-type {\n",
       "        vertical-align: middle;\n",
       "    }\n",
       "\n",
       "    .dataframe tbody tr th {\n",
       "        vertical-align: top;\n",
       "    }\n",
       "\n",
       "    .dataframe thead th {\n",
       "        text-align: right;\n",
       "    }\n",
       "</style>\n",
       "<table border=\"1\" class=\"dataframe\">\n",
       "  <thead>\n",
       "    <tr style=\"text-align: right;\">\n",
       "      <th>label</th>\n",
       "      <th>-1</th>\n",
       "      <th>0</th>\n",
       "      <th>1</th>\n",
       "    </tr>\n",
       "    <tr>\n",
       "      <th>last_label</th>\n",
       "      <th></th>\n",
       "      <th></th>\n",
       "      <th></th>\n",
       "    </tr>\n",
       "  </thead>\n",
       "  <tbody>\n",
       "    <tr>\n",
       "      <th>-1.0</th>\n",
       "      <td>2862</td>\n",
       "      <td>885</td>\n",
       "      <td>1514</td>\n",
       "    </tr>\n",
       "    <tr>\n",
       "      <th>0.0</th>\n",
       "      <td>2179</td>\n",
       "      <td>5145</td>\n",
       "      <td>6967</td>\n",
       "    </tr>\n",
       "    <tr>\n",
       "      <th>1.0</th>\n",
       "      <td>3126</td>\n",
       "      <td>7636</td>\n",
       "      <td>32083</td>\n",
       "    </tr>\n",
       "    <tr>\n",
       "      <th>NA</th>\n",
       "      <td>3420</td>\n",
       "      <td>1521</td>\n",
       "      <td>8832</td>\n",
       "    </tr>\n",
       "  </tbody>\n",
       "</table>\n",
       "</div>"
      ],
      "text/plain": [
       "label         -1     0      1\n",
       "last_label                   \n",
       "-1.0        2862   885   1514\n",
       "0.0         2179  5145   6967\n",
       "1.0         3126  7636  32083\n",
       "NA          3420  1521   8832"
      ]
     },
     "execution_count": 23,
     "metadata": {},
     "output_type": "execute_result"
    }
   ],
   "source": [
    "cross_df"
   ]
  },
  {
   "cell_type": "code",
   "execution_count": 24,
   "metadata": {
    "ExecuteTime": {
     "end_time": "2020-12-26T14:22:38.949512Z",
     "start_time": "2020-12-26T14:22:38.940541Z"
    }
   },
   "outputs": [
    {
     "data": {
      "text/html": [
       "<div>\n",
       "<style scoped>\n",
       "    .dataframe tbody tr th:only-of-type {\n",
       "        vertical-align: middle;\n",
       "    }\n",
       "\n",
       "    .dataframe tbody tr th {\n",
       "        vertical-align: top;\n",
       "    }\n",
       "\n",
       "    .dataframe thead th {\n",
       "        text-align: right;\n",
       "    }\n",
       "</style>\n",
       "<table border=\"1\" class=\"dataframe\">\n",
       "  <thead>\n",
       "    <tr style=\"text-align: right;\">\n",
       "      <th>label</th>\n",
       "      <th>-1</th>\n",
       "      <th>0</th>\n",
       "      <th>1</th>\n",
       "    </tr>\n",
       "    <tr>\n",
       "      <th>last_label</th>\n",
       "      <th></th>\n",
       "      <th></th>\n",
       "      <th></th>\n",
       "    </tr>\n",
       "  </thead>\n",
       "  <tbody>\n",
       "    <tr>\n",
       "      <th>-1.0</th>\n",
       "      <td>0.544003</td>\n",
       "      <td>0.168219</td>\n",
       "      <td>0.287778</td>\n",
       "    </tr>\n",
       "    <tr>\n",
       "      <th>0.0</th>\n",
       "      <td>0.152474</td>\n",
       "      <td>0.360017</td>\n",
       "      <td>0.487510</td>\n",
       "    </tr>\n",
       "    <tr>\n",
       "      <th>1.0</th>\n",
       "      <td>0.072961</td>\n",
       "      <td>0.178224</td>\n",
       "      <td>0.748815</td>\n",
       "    </tr>\n",
       "    <tr>\n",
       "      <th>NA</th>\n",
       "      <td>0.248312</td>\n",
       "      <td>0.110433</td>\n",
       "      <td>0.641255</td>\n",
       "    </tr>\n",
       "  </tbody>\n",
       "</table>\n",
       "</div>"
      ],
      "text/plain": [
       "label             -1         0         1\n",
       "last_label                              \n",
       "-1.0        0.544003  0.168219  0.287778\n",
       "0.0         0.152474  0.360017  0.487510\n",
       "1.0         0.072961  0.178224  0.748815\n",
       "NA          0.248312  0.110433  0.641255"
      ]
     },
     "execution_count": 24,
     "metadata": {},
     "output_type": "execute_result"
    }
   ],
   "source": [
    "(cross_df.T/cross_df.sum(axis=1)).T"
   ]
  },
  {
   "cell_type": "markdown",
   "metadata": {
    "ExecuteTime": {
     "end_time": "2020-12-13T08:08:40.658522Z",
     "start_time": "2020-12-13T08:08:40.653539Z"
    }
   },
   "source": [
    "    由上表可见，\n",
    "    本季度的标签会与上个季度的标签趋向于表现一致。\n",
    "    所以将上个季度的用户表现作为特征输入应该会比较不错。"
   ]
  },
  {
   "cell_type": "markdown",
   "metadata": {},
   "source": [
    "## cust_info"
   ]
  },
  {
   "cell_type": "code",
   "execution_count": 25,
   "metadata": {
    "ExecuteTime": {
     "end_time": "2020-12-26T14:22:42.533915Z",
     "start_time": "2020-12-26T14:22:39.731086Z"
    }
   },
   "outputs": [],
   "source": [
    "cust_info_Q3 = pd.read_csv('./raw/cust_info_q3.csv')\n",
    "cust_info_Q4 = pd.read_csv('./raw/cust_info_q4.csv')\n",
    "cust_info_Q1 = pd.read_csv('./raw/cust_info_q1.csv')"
   ]
  },
  {
   "cell_type": "code",
   "execution_count": 26,
   "metadata": {
    "ExecuteTime": {
     "end_time": "2020-12-26T14:22:42.538887Z",
     "start_time": "2020-12-26T14:22:42.535862Z"
    }
   },
   "outputs": [
    {
     "name": "stdout",
     "output_type": "stream",
     "text": [
      "(493441, 21)\n",
      "(543823, 21)\n",
      "(659624, 21)\n"
     ]
    }
   ],
   "source": [
    "print(cust_info_Q3.shape)\n",
    "print(cust_info_Q4.shape)\n",
    "print(cust_info_Q1.shape)"
   ]
  },
  {
   "cell_type": "code",
   "execution_count": 27,
   "metadata": {
    "ExecuteTime": {
     "end_time": "2020-12-26T14:22:43.114011Z",
     "start_time": "2020-12-26T14:22:42.540867Z"
    }
   },
   "outputs": [],
   "source": [
    "cust_info_Q3['Q'] = 3\n",
    "cust_info_Q4['Q'] = 4\n",
    "cust_info_Q1['Q'] = 1\n",
    "cust_info = pd.concat([cust_info_Q3,cust_info_Q4,cust_info_Q1],axis=0,ignore_index=True)"
   ]
  },
  {
   "cell_type": "code",
   "execution_count": 28,
   "metadata": {
    "ExecuteTime": {
     "end_time": "2020-12-26T14:22:43.133927Z",
     "start_time": "2020-12-26T14:22:43.115990Z"
    }
   },
   "outputs": [
    {
     "data": {
      "text/plain": [
       "1    659624\n",
       "4    543823\n",
       "3    493441\n",
       "Name: Q, dtype: int64"
      ]
     },
     "execution_count": 28,
     "metadata": {},
     "output_type": "execute_result"
    }
   ],
   "source": [
    "cust_info.Q.value_counts()"
   ]
  },
  {
   "cell_type": "code",
   "execution_count": 29,
   "metadata": {
    "ExecuteTime": {
     "end_time": "2020-12-26T14:22:43.156803Z",
     "start_time": "2020-12-26T14:22:43.135873Z"
    }
   },
   "outputs": [
    {
     "data": {
      "text/html": [
       "<div>\n",
       "<style scoped>\n",
       "    .dataframe tbody tr th:only-of-type {\n",
       "        vertical-align: middle;\n",
       "    }\n",
       "\n",
       "    .dataframe tbody tr th {\n",
       "        vertical-align: top;\n",
       "    }\n",
       "\n",
       "    .dataframe thead th {\n",
       "        text-align: right;\n",
       "    }\n",
       "</style>\n",
       "<table border=\"1\" class=\"dataframe\">\n",
       "  <thead>\n",
       "    <tr style=\"text-align: right;\">\n",
       "      <th></th>\n",
       "      <th>cust_no</th>\n",
       "      <th>I1</th>\n",
       "      <th>I2</th>\n",
       "      <th>I3</th>\n",
       "      <th>I4</th>\n",
       "      <th>I5</th>\n",
       "      <th>I6</th>\n",
       "      <th>I7</th>\n",
       "      <th>I8</th>\n",
       "      <th>I9</th>\n",
       "      <th>...</th>\n",
       "      <th>I12</th>\n",
       "      <th>I13</th>\n",
       "      <th>I14</th>\n",
       "      <th>I15</th>\n",
       "      <th>I16</th>\n",
       "      <th>I17</th>\n",
       "      <th>I18</th>\n",
       "      <th>I19</th>\n",
       "      <th>I20</th>\n",
       "      <th>Q</th>\n",
       "    </tr>\n",
       "  </thead>\n",
       "  <tbody>\n",
       "    <tr>\n",
       "      <th>0</th>\n",
       "      <td>0x3b9b38ae</td>\n",
       "      <td>女性</td>\n",
       "      <td>26</td>\n",
       "      <td>普通客户</td>\n",
       "      <td>0.0</td>\n",
       "      <td>NaN</td>\n",
       "      <td>0</td>\n",
       "      <td>0</td>\n",
       "      <td>摩羯座</td>\n",
       "      <td>NaN</td>\n",
       "      <td>...</td>\n",
       "      <td>个人</td>\n",
       "      <td>NaN</td>\n",
       "      <td>NaN</td>\n",
       "      <td>0</td>\n",
       "      <td>0.0</td>\n",
       "      <td>0</td>\n",
       "      <td>0</td>\n",
       "      <td>0</td>\n",
       "      <td>0</td>\n",
       "      <td>3</td>\n",
       "    </tr>\n",
       "    <tr>\n",
       "      <th>1</th>\n",
       "      <td>0xb2d483a9</td>\n",
       "      <td>NaN</td>\n",
       "      <td>42</td>\n",
       "      <td>普通客户</td>\n",
       "      <td>0.0</td>\n",
       "      <td>NaN</td>\n",
       "      <td>0</td>\n",
       "      <td>0</td>\n",
       "      <td>天蝎座</td>\n",
       "      <td>NaN</td>\n",
       "      <td>...</td>\n",
       "      <td>个人</td>\n",
       "      <td>NaN</td>\n",
       "      <td>NaN</td>\n",
       "      <td>0</td>\n",
       "      <td>0.0</td>\n",
       "      <td>0</td>\n",
       "      <td>0</td>\n",
       "      <td>0</td>\n",
       "      <td>0</td>\n",
       "      <td>3</td>\n",
       "    </tr>\n",
       "    <tr>\n",
       "      <th>2</th>\n",
       "      <td>0xb2d5ee67</td>\n",
       "      <td>男性</td>\n",
       "      <td>45</td>\n",
       "      <td>普通客户</td>\n",
       "      <td>0.0</td>\n",
       "      <td>不便分类的其他从业人员</td>\n",
       "      <td>0</td>\n",
       "      <td>0</td>\n",
       "      <td>天秤座</td>\n",
       "      <td>NaN</td>\n",
       "      <td>...</td>\n",
       "      <td>个人</td>\n",
       "      <td>NaN</td>\n",
       "      <td>NaN</td>\n",
       "      <td>0</td>\n",
       "      <td>0.0</td>\n",
       "      <td>1</td>\n",
       "      <td>1</td>\n",
       "      <td>1</td>\n",
       "      <td>0</td>\n",
       "      <td>3</td>\n",
       "    </tr>\n",
       "    <tr>\n",
       "      <th>3</th>\n",
       "      <td>0xb2d7382b</td>\n",
       "      <td>男性</td>\n",
       "      <td>38</td>\n",
       "      <td>普通客户</td>\n",
       "      <td>0.0</td>\n",
       "      <td>商业工作人员</td>\n",
       "      <td>0</td>\n",
       "      <td>0</td>\n",
       "      <td>金牛座</td>\n",
       "      <td>NaN</td>\n",
       "      <td>...</td>\n",
       "      <td>个人</td>\n",
       "      <td>NaN</td>\n",
       "      <td>NaN</td>\n",
       "      <td>0</td>\n",
       "      <td>0.0</td>\n",
       "      <td>0</td>\n",
       "      <td>0</td>\n",
       "      <td>0</td>\n",
       "      <td>0</td>\n",
       "      <td>3</td>\n",
       "    </tr>\n",
       "    <tr>\n",
       "      <th>4</th>\n",
       "      <td>0xb2d75925</td>\n",
       "      <td>男性</td>\n",
       "      <td>32</td>\n",
       "      <td>普通客户</td>\n",
       "      <td>0.0</td>\n",
       "      <td>不便分类的其他从业人员</td>\n",
       "      <td>0</td>\n",
       "      <td>0</td>\n",
       "      <td>天蝎座</td>\n",
       "      <td>NaN</td>\n",
       "      <td>...</td>\n",
       "      <td>个人</td>\n",
       "      <td>未说明的婚姻状况</td>\n",
       "      <td>未知</td>\n",
       "      <td>0</td>\n",
       "      <td>0.0</td>\n",
       "      <td>0</td>\n",
       "      <td>0</td>\n",
       "      <td>0</td>\n",
       "      <td>0</td>\n",
       "      <td>3</td>\n",
       "    </tr>\n",
       "  </tbody>\n",
       "</table>\n",
       "<p>5 rows × 22 columns</p>\n",
       "</div>"
      ],
      "text/plain": [
       "      cust_no   I1  I2    I3   I4           I5  I6  I7   I8  I9  ... I12  \\\n",
       "0  0x3b9b38ae   女性  26  普通客户  0.0          NaN   0   0  摩羯座 NaN  ...  个人   \n",
       "1  0xb2d483a9  NaN  42  普通客户  0.0          NaN   0   0  天蝎座 NaN  ...  个人   \n",
       "2  0xb2d5ee67   男性  45  普通客户  0.0  不便分类的其他从业人员   0   0  天秤座 NaN  ...  个人   \n",
       "3  0xb2d7382b   男性  38  普通客户  0.0       商业工作人员   0   0  金牛座 NaN  ...  个人   \n",
       "4  0xb2d75925   男性  32  普通客户  0.0  不便分类的其他从业人员   0   0  天蝎座 NaN  ...  个人   \n",
       "\n",
       "        I13  I14 I15  I16  I17  I18  I19  I20  Q  \n",
       "0       NaN  NaN   0  0.0    0    0    0    0  3  \n",
       "1       NaN  NaN   0  0.0    0    0    0    0  3  \n",
       "2       NaN  NaN   0  0.0    1    1    1    0  3  \n",
       "3       NaN  NaN   0  0.0    0    0    0    0  3  \n",
       "4  未说明的婚姻状况   未知   0  0.0    0    0    0    0  3  \n",
       "\n",
       "[5 rows x 22 columns]"
      ]
     },
     "execution_count": 29,
     "metadata": {},
     "output_type": "execute_result"
    }
   ],
   "source": [
    "cust_info.head()"
   ]
  },
  {
   "cell_type": "code",
   "execution_count": 30,
   "metadata": {
    "ExecuteTime": {
     "end_time": "2020-12-26T14:22:43.259506Z",
     "start_time": "2020-12-26T14:22:43.158838Z"
    }
   },
   "outputs": [
    {
     "data": {
      "text/plain": [
       "60"
      ]
     },
     "execution_count": 30,
     "metadata": {},
     "output_type": "execute_result"
    }
   ],
   "source": [
    "del cust_info_Q1,cust_info_Q3,cust_info_Q4\n",
    "gc.collect()"
   ]
  },
  {
   "cell_type": "code",
   "execution_count": 31,
   "metadata": {
    "ExecuteTime": {
     "end_time": "2020-12-26T14:22:43.264447Z",
     "start_time": "2020-12-26T14:22:43.261461Z"
    }
   },
   "outputs": [],
   "source": [
    "#这里对I3-客户等级。I16-VIP客户标志，季度差分，即将上一个季度和本季度的情况拼接起来作为新的特征"
   ]
  },
  {
   "cell_type": "code",
   "execution_count": 32,
   "metadata": {
    "ExecuteTime": {
     "end_time": "2020-12-26T14:22:48.662530Z",
     "start_time": "2020-12-26T14:22:43.266437Z"
    }
   },
   "outputs": [],
   "source": [
    "df1 = cust_info[['cust_no','I16','I3','Q']]\n",
    "df2 = df1.copy()\n",
    "df2.Q = df2.Q.map({1:2,3:4,4:1})\n",
    "df1 = df1.merge(df2,on=['cust_no','Q'],how='left')\n",
    "\n",
    "df1['I3_diff'] = df1.I3_y +'_'+ df1.I3_x\n",
    "df1['I16_diff'] = df1.I16_y - df1.I16_x\n",
    "\n",
    "df1 = df1[['cust_no','Q','I3_diff','I16_diff']]\n",
    "cust_info = cust_info.merge(df1,on=['cust_no','Q'],how='left')"
   ]
  },
  {
   "cell_type": "code",
   "execution_count": 33,
   "metadata": {
    "ExecuteTime": {
     "end_time": "2020-12-26T14:22:48.667514Z",
     "start_time": "2020-12-26T14:22:48.664523Z"
    }
   },
   "outputs": [],
   "source": [
    "#对于离散的特征变量统一做LabelEncoder处理。"
   ]
  },
  {
   "cell_type": "code",
   "execution_count": 34,
   "metadata": {
    "ExecuteTime": {
     "end_time": "2020-12-26T14:22:53.922975Z",
     "start_time": "2020-12-26T14:22:48.669510Z"
    }
   },
   "outputs": [
    {
     "name": "stdout",
     "output_type": "stream",
     "text": [
      "I1\n",
      "I3\n",
      "I4\n",
      "I5\n",
      "I8\n",
      "I10\n",
      "I12\n",
      "I13\n",
      "I14\n",
      "I3_diff\n"
     ]
    }
   ],
   "source": [
    "le = LabelEncoder()\n",
    "cats_col = ['I1','I3','I4','I5','I8','I10','I12','I13','I14','I3_diff']\n",
    "for col in cats_col:\n",
    "    print(col)\n",
    "    cust_info.loc[~cust_info[col].isna(),col] = le.fit_transform(cust_info.loc[~cust_info[col].isna(),col])\n",
    "    cust_info[col] = cust_info[col].astype('float')"
   ]
  },
  {
   "cell_type": "code",
   "execution_count": 35,
   "metadata": {
    "ExecuteTime": {
     "end_time": "2020-12-26T14:22:55.285626Z",
     "start_time": "2020-12-26T14:22:53.923984Z"
    }
   },
   "outputs": [],
   "source": [
    "cust_info = cust_avli.merge(cust_info,on=['cust_no','Q'],how='left')"
   ]
  },
  {
   "cell_type": "code",
   "execution_count": 36,
   "metadata": {
    "ExecuteTime": {
     "end_time": "2020-12-26T14:22:55.294590Z",
     "start_time": "2020-12-26T14:22:55.287568Z"
    }
   },
   "outputs": [
    {
     "data": {
      "text/plain": [
       "1    76722\n",
       "4    76170\n",
       "3    69126\n",
       "Name: Q, dtype: int64"
      ]
     },
     "execution_count": 36,
     "metadata": {},
     "output_type": "execute_result"
    }
   ],
   "source": [
    "cust_info.Q.value_counts()"
   ]
  },
  {
   "cell_type": "markdown",
   "metadata": {},
   "source": [
    "## aum"
   ]
  },
  {
   "cell_type": "code",
   "execution_count": 37,
   "metadata": {
    "ExecuteTime": {
     "end_time": "2020-12-26T14:22:55.301520Z",
     "start_time": "2020-12-26T14:22:55.296538Z"
    }
   },
   "outputs": [],
   "source": [
    "#aum系列的数据是按月份给出的。在这里做了两件事\n",
    "#使用X1-X8排除X7相加得到一个新值X9，X8为贷款相当于负向资产，其余加和作为正向资产。\n",
    "#同时按照季度+用户作为样本主键，把每3个月的aum进行展平。\n",
    "#3个月，每个月9个特征，展平得到27个特征，命名从X0到X26"
   ]
  },
  {
   "cell_type": "code",
   "execution_count": 38,
   "metadata": {
    "ExecuteTime": {
     "end_time": "2020-12-26T14:23:04.232812Z",
     "start_time": "2020-12-26T14:22:55.302519Z"
    }
   },
   "outputs": [],
   "source": [
    "aum_m7 = pd.read_csv('./raw/aum_m7.csv')\n",
    "aum_m8 = pd.read_csv('./raw/aum_m8.csv')\n",
    "aum_m9 = pd.read_csv('./raw/aum_m9.csv')\n",
    "aum_m10 = pd.read_csv('./raw/aum_m10.csv')\n",
    "aum_m11 = pd.read_csv('./raw/aum_m11.csv')\n",
    "aum_m12 = pd.read_csv('./raw/aum_m12.csv')\n",
    "aum_m1 = pd.read_csv('./raw/aum_m1.csv')\n",
    "aum_m2 = pd.read_csv('./raw/aum_m2.csv')\n",
    "aum_m3 = pd.read_csv('./raw/aum_m3.csv')\n",
    "\n",
    "for aum in [aum_m7,aum_m8,aum_m9,aum_m10,aum_m11,aum_m12,aum_m1,aum_m2,aum_m3]:\n",
    "    aum['X9'] = aum['X1']+aum['X2']+aum['X3']+aum['X4']+aum['X5']+aum['X6']+aum['X8']\n",
    "\n",
    "cols = ['X' + str(i) for i in range(27)]\n",
    "\n",
    "aum_m7 = aum_m7.set_index('cust_no')\n",
    "aum_m8 = aum_m8.set_index('cust_no')\n",
    "aum_m9 = aum_m9.set_index('cust_no')\n",
    "aum_Q3 = pd.concat([aum_m7,aum_m8,aum_m9],axis=1)\n",
    "aum_Q3.columns = cols\n",
    "\n",
    "aum_m10 =aum_m10.set_index('cust_no')\n",
    "aum_m11 =aum_m11.set_index('cust_no')\n",
    "aum_m12 =aum_m12.set_index('cust_no')\n",
    "aum_Q4 = pd.concat([aum_m10,aum_m11,aum_m12],axis=1)\n",
    "aum_Q4.columns = cols\n",
    "\n",
    "aum_m1 = aum_m1.set_index('cust_no')\n",
    "aum_m2 = aum_m2.set_index('cust_no')\n",
    "aum_m3 = aum_m3.set_index('cust_no')\n",
    "aum_Q1 = pd.concat([aum_m1,aum_m2,aum_m3],axis=1)\n",
    "aum_Q1.columns = cols\n",
    "\n",
    "aum_Q3 = aum_Q3.reset_index().rename(columns={'index':'cust_no'})\n",
    "aum_Q4 = aum_Q4.reset_index().rename(columns={'index':'cust_no'})\n",
    "aum_Q1 = aum_Q1.reset_index().rename(columns={'index':'cust_no'})\n",
    "\n",
    "aum_Q3 = aum_Q3[aum_Q3.cust_no.isin(cust_avli_Q3.cust_no)].reset_index(drop=True)\n",
    "aum_Q4 = aum_Q4[aum_Q4.cust_no.isin(cust_avli_Q4.cust_no)].reset_index(drop=True)\n",
    "aum_Q1 = aum_Q1[aum_Q1.cust_no.isin(cust_avli_Q1.cust_no)].reset_index(drop=True)\n",
    "aum_Q3['Q'] = 3\n",
    "aum_Q4['Q'] = 4\n",
    "aum_Q1['Q'] = 1\n",
    "\n",
    "aum = pd.concat([aum_Q3,aum_Q4,aum_Q1],axis=0,ignore_index=True)"
   ]
  },
  {
   "cell_type": "code",
   "execution_count": 39,
   "metadata": {
    "ExecuteTime": {
     "end_time": "2020-12-26T14:23:04.386349Z",
     "start_time": "2020-12-26T14:23:04.234807Z"
    }
   },
   "outputs": [
    {
     "data": {
      "text/html": [
       "<div>\n",
       "<style scoped>\n",
       "    .dataframe tbody tr th:only-of-type {\n",
       "        vertical-align: middle;\n",
       "    }\n",
       "\n",
       "    .dataframe tbody tr th {\n",
       "        vertical-align: top;\n",
       "    }\n",
       "\n",
       "    .dataframe thead th {\n",
       "        text-align: right;\n",
       "    }\n",
       "</style>\n",
       "<table border=\"1\" class=\"dataframe\">\n",
       "  <thead>\n",
       "    <tr style=\"text-align: right;\">\n",
       "      <th></th>\n",
       "      <th>cust_no</th>\n",
       "      <th>X0</th>\n",
       "      <th>X1</th>\n",
       "      <th>X2</th>\n",
       "      <th>X3</th>\n",
       "      <th>X4</th>\n",
       "      <th>X5</th>\n",
       "      <th>X6</th>\n",
       "      <th>X7</th>\n",
       "      <th>X8</th>\n",
       "      <th>...</th>\n",
       "      <th>X18</th>\n",
       "      <th>X19</th>\n",
       "      <th>X20</th>\n",
       "      <th>X21</th>\n",
       "      <th>X22</th>\n",
       "      <th>X23</th>\n",
       "      <th>X24</th>\n",
       "      <th>X25</th>\n",
       "      <th>X26</th>\n",
       "      <th>Q</th>\n",
       "    </tr>\n",
       "  </thead>\n",
       "  <tbody>\n",
       "    <tr>\n",
       "      <th>0</th>\n",
       "      <td>0xb2d30bf6</td>\n",
       "      <td>0.0</td>\n",
       "      <td>0.0</td>\n",
       "      <td>15774.75</td>\n",
       "      <td>0.0</td>\n",
       "      <td>0.00</td>\n",
       "      <td>0.0</td>\n",
       "      <td>0.00</td>\n",
       "      <td>0.0</td>\n",
       "      <td>15774.75</td>\n",
       "      <td>...</td>\n",
       "      <td>0</td>\n",
       "      <td>0.0</td>\n",
       "      <td>23140.95</td>\n",
       "      <td>0</td>\n",
       "      <td>0.0</td>\n",
       "      <td>0.0</td>\n",
       "      <td>0.00</td>\n",
       "      <td>0</td>\n",
       "      <td>23140.95</td>\n",
       "      <td>3</td>\n",
       "    </tr>\n",
       "    <tr>\n",
       "      <th>1</th>\n",
       "      <td>0xb2d0c143</td>\n",
       "      <td>110000.0</td>\n",
       "      <td>0.0</td>\n",
       "      <td>20000.30</td>\n",
       "      <td>0.0</td>\n",
       "      <td>0.00</td>\n",
       "      <td>0.0</td>\n",
       "      <td>0.00</td>\n",
       "      <td>0.0</td>\n",
       "      <td>130000.30</td>\n",
       "      <td>...</td>\n",
       "      <td>170000</td>\n",
       "      <td>0.0</td>\n",
       "      <td>94.56</td>\n",
       "      <td>0</td>\n",
       "      <td>0.0</td>\n",
       "      <td>0.0</td>\n",
       "      <td>0.00</td>\n",
       "      <td>0</td>\n",
       "      <td>170094.56</td>\n",
       "      <td>3</td>\n",
       "    </tr>\n",
       "    <tr>\n",
       "      <th>2</th>\n",
       "      <td>0xb2d6004d</td>\n",
       "      <td>70000.0</td>\n",
       "      <td>0.0</td>\n",
       "      <td>13.93</td>\n",
       "      <td>0.0</td>\n",
       "      <td>0.00</td>\n",
       "      <td>0.0</td>\n",
       "      <td>0.00</td>\n",
       "      <td>0.0</td>\n",
       "      <td>70013.93</td>\n",
       "      <td>...</td>\n",
       "      <td>70000</td>\n",
       "      <td>0.0</td>\n",
       "      <td>13.94</td>\n",
       "      <td>0</td>\n",
       "      <td>0.0</td>\n",
       "      <td>0.0</td>\n",
       "      <td>0.00</td>\n",
       "      <td>0</td>\n",
       "      <td>70013.94</td>\n",
       "      <td>3</td>\n",
       "    </tr>\n",
       "    <tr>\n",
       "      <th>3</th>\n",
       "      <td>0xb2d5a839</td>\n",
       "      <td>153000.0</td>\n",
       "      <td>0.0</td>\n",
       "      <td>0.00</td>\n",
       "      <td>0.0</td>\n",
       "      <td>0.00</td>\n",
       "      <td>0.0</td>\n",
       "      <td>0.00</td>\n",
       "      <td>0.0</td>\n",
       "      <td>153000.00</td>\n",
       "      <td>...</td>\n",
       "      <td>81000</td>\n",
       "      <td>0.0</td>\n",
       "      <td>42812.32</td>\n",
       "      <td>0</td>\n",
       "      <td>0.0</td>\n",
       "      <td>0.0</td>\n",
       "      <td>0.00</td>\n",
       "      <td>0</td>\n",
       "      <td>123812.32</td>\n",
       "      <td>3</td>\n",
       "    </tr>\n",
       "    <tr>\n",
       "      <th>4</th>\n",
       "      <td>0xb2d63b24</td>\n",
       "      <td>167000.0</td>\n",
       "      <td>0.0</td>\n",
       "      <td>8.99</td>\n",
       "      <td>0.0</td>\n",
       "      <td>0.00</td>\n",
       "      <td>0.0</td>\n",
       "      <td>0.00</td>\n",
       "      <td>0.0</td>\n",
       "      <td>167008.99</td>\n",
       "      <td>...</td>\n",
       "      <td>107000</td>\n",
       "      <td>0.0</td>\n",
       "      <td>61754.33</td>\n",
       "      <td>0</td>\n",
       "      <td>0.0</td>\n",
       "      <td>0.0</td>\n",
       "      <td>0.00</td>\n",
       "      <td>0</td>\n",
       "      <td>168754.33</td>\n",
       "      <td>3</td>\n",
       "    </tr>\n",
       "    <tr>\n",
       "      <th>...</th>\n",
       "      <td>...</td>\n",
       "      <td>...</td>\n",
       "      <td>...</td>\n",
       "      <td>...</td>\n",
       "      <td>...</td>\n",
       "      <td>...</td>\n",
       "      <td>...</td>\n",
       "      <td>...</td>\n",
       "      <td>...</td>\n",
       "      <td>...</td>\n",
       "      <td>...</td>\n",
       "      <td>...</td>\n",
       "      <td>...</td>\n",
       "      <td>...</td>\n",
       "      <td>...</td>\n",
       "      <td>...</td>\n",
       "      <td>...</td>\n",
       "      <td>...</td>\n",
       "      <td>...</td>\n",
       "      <td>...</td>\n",
       "      <td>...</td>\n",
       "    </tr>\n",
       "    <tr>\n",
       "      <th>222013</th>\n",
       "      <td>0x3b9b0fa7</td>\n",
       "      <td>220000.0</td>\n",
       "      <td>0.0</td>\n",
       "      <td>162124.07</td>\n",
       "      <td>0.0</td>\n",
       "      <td>0.00</td>\n",
       "      <td>0.0</td>\n",
       "      <td>0.00</td>\n",
       "      <td>0.0</td>\n",
       "      <td>382124.07</td>\n",
       "      <td>...</td>\n",
       "      <td>230000</td>\n",
       "      <td>0.0</td>\n",
       "      <td>280958.16</td>\n",
       "      <td>0</td>\n",
       "      <td>0.0</td>\n",
       "      <td>0.0</td>\n",
       "      <td>0.00</td>\n",
       "      <td>0</td>\n",
       "      <td>510958.16</td>\n",
       "      <td>1</td>\n",
       "    </tr>\n",
       "    <tr>\n",
       "      <th>222014</th>\n",
       "      <td>0xb2d45985</td>\n",
       "      <td>0.0</td>\n",
       "      <td>0.0</td>\n",
       "      <td>1375.82</td>\n",
       "      <td>300000.0</td>\n",
       "      <td>22.28</td>\n",
       "      <td>0.0</td>\n",
       "      <td>0.00</td>\n",
       "      <td>0.0</td>\n",
       "      <td>301398.10</td>\n",
       "      <td>...</td>\n",
       "      <td>0</td>\n",
       "      <td>0.0</td>\n",
       "      <td>1410.47</td>\n",
       "      <td>0</td>\n",
       "      <td>22.3</td>\n",
       "      <td>0.0</td>\n",
       "      <td>0.00</td>\n",
       "      <td>0</td>\n",
       "      <td>1432.77</td>\n",
       "      <td>1</td>\n",
       "    </tr>\n",
       "    <tr>\n",
       "      <th>222015</th>\n",
       "      <td>0xb2d8c6e3</td>\n",
       "      <td>0.0</td>\n",
       "      <td>0.0</td>\n",
       "      <td>77.87</td>\n",
       "      <td>0.0</td>\n",
       "      <td>0.00</td>\n",
       "      <td>0.0</td>\n",
       "      <td>813032.85</td>\n",
       "      <td>0.0</td>\n",
       "      <td>77.87</td>\n",
       "      <td>...</td>\n",
       "      <td>0</td>\n",
       "      <td>0.0</td>\n",
       "      <td>117.90</td>\n",
       "      <td>0</td>\n",
       "      <td>0.0</td>\n",
       "      <td>0.0</td>\n",
       "      <td>809494.84</td>\n",
       "      <td>0</td>\n",
       "      <td>117.90</td>\n",
       "      <td>1</td>\n",
       "    </tr>\n",
       "    <tr>\n",
       "      <th>222016</th>\n",
       "      <td>0xb2da09ed</td>\n",
       "      <td>0.0</td>\n",
       "      <td>0.0</td>\n",
       "      <td>0.00</td>\n",
       "      <td>0.0</td>\n",
       "      <td>0.00</td>\n",
       "      <td>0.0</td>\n",
       "      <td>0.00</td>\n",
       "      <td>500000.0</td>\n",
       "      <td>500000.00</td>\n",
       "      <td>...</td>\n",
       "      <td>0</td>\n",
       "      <td>0.0</td>\n",
       "      <td>0.08</td>\n",
       "      <td>0</td>\n",
       "      <td>0.0</td>\n",
       "      <td>0.0</td>\n",
       "      <td>0.00</td>\n",
       "      <td>500000</td>\n",
       "      <td>500000.08</td>\n",
       "      <td>1</td>\n",
       "    </tr>\n",
       "    <tr>\n",
       "      <th>222017</th>\n",
       "      <td>0xb2d57e26</td>\n",
       "      <td>577000.0</td>\n",
       "      <td>0.0</td>\n",
       "      <td>752.11</td>\n",
       "      <td>0.0</td>\n",
       "      <td>0.00</td>\n",
       "      <td>0.0</td>\n",
       "      <td>0.00</td>\n",
       "      <td>0.0</td>\n",
       "      <td>577752.11</td>\n",
       "      <td>...</td>\n",
       "      <td>604000</td>\n",
       "      <td>0.0</td>\n",
       "      <td>740.94</td>\n",
       "      <td>0</td>\n",
       "      <td>0.0</td>\n",
       "      <td>0.0</td>\n",
       "      <td>0.00</td>\n",
       "      <td>0</td>\n",
       "      <td>604740.94</td>\n",
       "      <td>1</td>\n",
       "    </tr>\n",
       "  </tbody>\n",
       "</table>\n",
       "<p>222018 rows × 29 columns</p>\n",
       "</div>"
      ],
      "text/plain": [
       "           cust_no        X0   X1         X2        X3     X4   X5         X6  \\\n",
       "0       0xb2d30bf6       0.0  0.0   15774.75       0.0   0.00  0.0       0.00   \n",
       "1       0xb2d0c143  110000.0  0.0   20000.30       0.0   0.00  0.0       0.00   \n",
       "2       0xb2d6004d   70000.0  0.0      13.93       0.0   0.00  0.0       0.00   \n",
       "3       0xb2d5a839  153000.0  0.0       0.00       0.0   0.00  0.0       0.00   \n",
       "4       0xb2d63b24  167000.0  0.0       8.99       0.0   0.00  0.0       0.00   \n",
       "...            ...       ...  ...        ...       ...    ...  ...        ...   \n",
       "222013  0x3b9b0fa7  220000.0  0.0  162124.07       0.0   0.00  0.0       0.00   \n",
       "222014  0xb2d45985       0.0  0.0    1375.82  300000.0  22.28  0.0       0.00   \n",
       "222015  0xb2d8c6e3       0.0  0.0      77.87       0.0   0.00  0.0  813032.85   \n",
       "222016  0xb2da09ed       0.0  0.0       0.00       0.0   0.00  0.0       0.00   \n",
       "222017  0xb2d57e26  577000.0  0.0     752.11       0.0   0.00  0.0       0.00   \n",
       "\n",
       "              X7         X8  ...     X18  X19        X20  X21   X22  X23  \\\n",
       "0            0.0   15774.75  ...       0  0.0   23140.95    0   0.0  0.0   \n",
       "1            0.0  130000.30  ...  170000  0.0      94.56    0   0.0  0.0   \n",
       "2            0.0   70013.93  ...   70000  0.0      13.94    0   0.0  0.0   \n",
       "3            0.0  153000.00  ...   81000  0.0   42812.32    0   0.0  0.0   \n",
       "4            0.0  167008.99  ...  107000  0.0   61754.33    0   0.0  0.0   \n",
       "...          ...        ...  ...     ...  ...        ...  ...   ...  ...   \n",
       "222013       0.0  382124.07  ...  230000  0.0  280958.16    0   0.0  0.0   \n",
       "222014       0.0  301398.10  ...       0  0.0    1410.47    0  22.3  0.0   \n",
       "222015       0.0      77.87  ...       0  0.0     117.90    0   0.0  0.0   \n",
       "222016  500000.0  500000.00  ...       0  0.0       0.08    0   0.0  0.0   \n",
       "222017       0.0  577752.11  ...  604000  0.0     740.94    0   0.0  0.0   \n",
       "\n",
       "              X24     X25        X26  Q  \n",
       "0            0.00       0   23140.95  3  \n",
       "1            0.00       0  170094.56  3  \n",
       "2            0.00       0   70013.94  3  \n",
       "3            0.00       0  123812.32  3  \n",
       "4            0.00       0  168754.33  3  \n",
       "...           ...     ...        ... ..  \n",
       "222013       0.00       0  510958.16  1  \n",
       "222014       0.00       0    1432.77  1  \n",
       "222015  809494.84       0     117.90  1  \n",
       "222016       0.00  500000  500000.08  1  \n",
       "222017       0.00       0  604740.94  1  \n",
       "\n",
       "[222018 rows x 29 columns]"
      ]
     },
     "execution_count": 39,
     "metadata": {},
     "output_type": "execute_result"
    }
   ],
   "source": [
    "aum"
   ]
  },
  {
   "cell_type": "code",
   "execution_count": 40,
   "metadata": {
    "ExecuteTime": {
     "end_time": "2020-12-26T14:23:04.394283Z",
     "start_time": "2020-12-26T14:23:04.387334Z"
    }
   },
   "outputs": [
    {
     "data": {
      "text/plain": [
       "1    76722\n",
       "4    76170\n",
       "3    69126\n",
       "Name: Q, dtype: int64"
      ]
     },
     "execution_count": 40,
     "metadata": {},
     "output_type": "execute_result"
    }
   ],
   "source": [
    "aum.Q.value_counts()"
   ]
  },
  {
   "cell_type": "markdown",
   "metadata": {},
   "source": [
    "## aum_diff"
   ]
  },
  {
   "cell_type": "code",
   "execution_count": 41,
   "metadata": {
    "ExecuteTime": {
     "end_time": "2020-12-26T14:23:04.402246Z",
     "start_time": "2020-12-26T14:23:04.396279Z"
    }
   },
   "outputs": [],
   "source": [
    "#这里进行aum各项字段的一阶差分和二阶差分\n",
    "#每个季度的第一个月和第二个月，第二个月和第三个月，进行一阶差分\n",
    "#一阶差分的结果上再进行差分得到二阶差分"
   ]
  },
  {
   "cell_type": "code",
   "execution_count": 42,
   "metadata": {
    "ExecuteTime": {
     "end_time": "2020-12-26T14:23:04.484981Z",
     "start_time": "2020-12-26T14:23:04.403243Z"
    }
   },
   "outputs": [
    {
     "name": "stdout",
     "output_type": "stream",
     "text": [
      "0\n",
      "1\n",
      "2\n",
      "3\n",
      "4\n",
      "5\n",
      "6\n",
      "7\n",
      "8\n",
      "0\n",
      "1\n",
      "2\n",
      "3\n",
      "4\n",
      "5\n",
      "6\n",
      "7\n",
      "8\n",
      "0\n",
      "1\n",
      "2\n",
      "3\n",
      "4\n",
      "5\n",
      "6\n",
      "7\n",
      "8\n"
     ]
    }
   ],
   "source": [
    "#倒数第一个月比倒数第二个多多少\n",
    "aum_diff = pd.DataFrame()\n",
    "aum_diff['cust_no'] = aum['cust_no']\n",
    "aum_diff['Q'] = aum['Q']\n",
    "for i in range(9):\n",
    "    print(i)\n",
    "    aum_diff['diff_l1_X'+str(i+1)] = aum['X'+str(i+18)] - aum['X'+str(i+9)]\n",
    "    \n",
    "for i in range(9):\n",
    "    print(i)\n",
    "    aum_diff['diff_l2_X'+str(i+1)] = aum['X'+str(i+9)] - aum['X'+str(i)]\n",
    "    \n",
    "for i in range(9):\n",
    "    print(i)\n",
    "    aum_diff['diff_l3_X'+str(i+1)] = aum_diff['diff_l1_X'+str(i+1)] - aum_diff['diff_l2_X'+str(i+1)]"
   ]
  },
  {
   "cell_type": "code",
   "execution_count": 43,
   "metadata": {
    "ExecuteTime": {
     "end_time": "2020-12-26T14:23:04.492944Z",
     "start_time": "2020-12-26T14:23:04.485966Z"
    }
   },
   "outputs": [
    {
     "data": {
      "text/plain": [
       "1    76722\n",
       "4    76170\n",
       "3    69126\n",
       "Name: Q, dtype: int64"
      ]
     },
     "execution_count": 43,
     "metadata": {},
     "output_type": "execute_result"
    }
   ],
   "source": [
    "aum_diff.Q.value_counts()"
   ]
  },
  {
   "cell_type": "code",
   "execution_count": 44,
   "metadata": {
    "ExecuteTime": {
     "end_time": "2020-12-26T14:23:04.669393Z",
     "start_time": "2020-12-26T14:23:04.493952Z"
    }
   },
   "outputs": [
    {
     "data": {
      "text/html": [
       "<div>\n",
       "<style scoped>\n",
       "    .dataframe tbody tr th:only-of-type {\n",
       "        vertical-align: middle;\n",
       "    }\n",
       "\n",
       "    .dataframe tbody tr th {\n",
       "        vertical-align: top;\n",
       "    }\n",
       "\n",
       "    .dataframe thead th {\n",
       "        text-align: right;\n",
       "    }\n",
       "</style>\n",
       "<table border=\"1\" class=\"dataframe\">\n",
       "  <thead>\n",
       "    <tr style=\"text-align: right;\">\n",
       "      <th></th>\n",
       "      <th>cust_no</th>\n",
       "      <th>Q</th>\n",
       "      <th>diff_l1_X1</th>\n",
       "      <th>diff_l1_X2</th>\n",
       "      <th>diff_l1_X3</th>\n",
       "      <th>diff_l1_X4</th>\n",
       "      <th>diff_l1_X5</th>\n",
       "      <th>diff_l1_X6</th>\n",
       "      <th>diff_l1_X7</th>\n",
       "      <th>diff_l1_X8</th>\n",
       "      <th>...</th>\n",
       "      <th>diff_l2_X9</th>\n",
       "      <th>diff_l3_X1</th>\n",
       "      <th>diff_l3_X2</th>\n",
       "      <th>diff_l3_X3</th>\n",
       "      <th>diff_l3_X4</th>\n",
       "      <th>diff_l3_X5</th>\n",
       "      <th>diff_l3_X6</th>\n",
       "      <th>diff_l3_X7</th>\n",
       "      <th>diff_l3_X8</th>\n",
       "      <th>diff_l3_X9</th>\n",
       "    </tr>\n",
       "  </thead>\n",
       "  <tbody>\n",
       "    <tr>\n",
       "      <th>0</th>\n",
       "      <td>0xb2d30bf6</td>\n",
       "      <td>3</td>\n",
       "      <td>0.0</td>\n",
       "      <td>0.0</td>\n",
       "      <td>3691.20</td>\n",
       "      <td>0.0</td>\n",
       "      <td>0.0</td>\n",
       "      <td>0.0</td>\n",
       "      <td>0.00</td>\n",
       "      <td>0.0</td>\n",
       "      <td>...</td>\n",
       "      <td>3675.00</td>\n",
       "      <td>0.0</td>\n",
       "      <td>0.0</td>\n",
       "      <td>16.20</td>\n",
       "      <td>0.0</td>\n",
       "      <td>0.00</td>\n",
       "      <td>0.0</td>\n",
       "      <td>0.00</td>\n",
       "      <td>0.0</td>\n",
       "      <td>16.20</td>\n",
       "    </tr>\n",
       "    <tr>\n",
       "      <th>1</th>\n",
       "      <td>0xb2d0c143</td>\n",
       "      <td>3</td>\n",
       "      <td>40000.0</td>\n",
       "      <td>0.0</td>\n",
       "      <td>94.26</td>\n",
       "      <td>0.0</td>\n",
       "      <td>0.0</td>\n",
       "      <td>0.0</td>\n",
       "      <td>0.00</td>\n",
       "      <td>0.0</td>\n",
       "      <td>...</td>\n",
       "      <td>0.00</td>\n",
       "      <td>20000.0</td>\n",
       "      <td>0.0</td>\n",
       "      <td>20094.26</td>\n",
       "      <td>0.0</td>\n",
       "      <td>0.00</td>\n",
       "      <td>0.0</td>\n",
       "      <td>0.00</td>\n",
       "      <td>0.0</td>\n",
       "      <td>40094.26</td>\n",
       "    </tr>\n",
       "    <tr>\n",
       "      <th>2</th>\n",
       "      <td>0xb2d6004d</td>\n",
       "      <td>3</td>\n",
       "      <td>0.0</td>\n",
       "      <td>0.0</td>\n",
       "      <td>0.01</td>\n",
       "      <td>0.0</td>\n",
       "      <td>0.0</td>\n",
       "      <td>0.0</td>\n",
       "      <td>0.00</td>\n",
       "      <td>0.0</td>\n",
       "      <td>...</td>\n",
       "      <td>0.00</td>\n",
       "      <td>0.0</td>\n",
       "      <td>0.0</td>\n",
       "      <td>0.01</td>\n",
       "      <td>0.0</td>\n",
       "      <td>0.00</td>\n",
       "      <td>0.0</td>\n",
       "      <td>0.00</td>\n",
       "      <td>0.0</td>\n",
       "      <td>0.01</td>\n",
       "    </tr>\n",
       "    <tr>\n",
       "      <th>3</th>\n",
       "      <td>0xb2d5a839</td>\n",
       "      <td>3</td>\n",
       "      <td>-72000.0</td>\n",
       "      <td>0.0</td>\n",
       "      <td>42812.32</td>\n",
       "      <td>0.0</td>\n",
       "      <td>0.0</td>\n",
       "      <td>0.0</td>\n",
       "      <td>0.00</td>\n",
       "      <td>0.0</td>\n",
       "      <td>...</td>\n",
       "      <td>0.00</td>\n",
       "      <td>-72000.0</td>\n",
       "      <td>0.0</td>\n",
       "      <td>42812.32</td>\n",
       "      <td>0.0</td>\n",
       "      <td>0.00</td>\n",
       "      <td>0.0</td>\n",
       "      <td>0.00</td>\n",
       "      <td>0.0</td>\n",
       "      <td>-29187.68</td>\n",
       "    </tr>\n",
       "    <tr>\n",
       "      <th>4</th>\n",
       "      <td>0xb2d63b24</td>\n",
       "      <td>3</td>\n",
       "      <td>-60000.0</td>\n",
       "      <td>0.0</td>\n",
       "      <td>61745.34</td>\n",
       "      <td>0.0</td>\n",
       "      <td>0.0</td>\n",
       "      <td>0.0</td>\n",
       "      <td>0.00</td>\n",
       "      <td>0.0</td>\n",
       "      <td>...</td>\n",
       "      <td>0.00</td>\n",
       "      <td>-60000.0</td>\n",
       "      <td>0.0</td>\n",
       "      <td>61745.34</td>\n",
       "      <td>0.0</td>\n",
       "      <td>0.00</td>\n",
       "      <td>0.0</td>\n",
       "      <td>0.00</td>\n",
       "      <td>0.0</td>\n",
       "      <td>1745.34</td>\n",
       "    </tr>\n",
       "    <tr>\n",
       "      <th>...</th>\n",
       "      <td>...</td>\n",
       "      <td>...</td>\n",
       "      <td>...</td>\n",
       "      <td>...</td>\n",
       "      <td>...</td>\n",
       "      <td>...</td>\n",
       "      <td>...</td>\n",
       "      <td>...</td>\n",
       "      <td>...</td>\n",
       "      <td>...</td>\n",
       "      <td>...</td>\n",
       "      <td>...</td>\n",
       "      <td>...</td>\n",
       "      <td>...</td>\n",
       "      <td>...</td>\n",
       "      <td>...</td>\n",
       "      <td>...</td>\n",
       "      <td>...</td>\n",
       "      <td>...</td>\n",
       "      <td>...</td>\n",
       "      <td>...</td>\n",
       "    </tr>\n",
       "    <tr>\n",
       "      <th>222013</th>\n",
       "      <td>0x3b9b0fa7</td>\n",
       "      <td>1</td>\n",
       "      <td>0.0</td>\n",
       "      <td>0.0</td>\n",
       "      <td>242007.64</td>\n",
       "      <td>0.0</td>\n",
       "      <td>0.0</td>\n",
       "      <td>0.0</td>\n",
       "      <td>0.00</td>\n",
       "      <td>0.0</td>\n",
       "      <td>...</td>\n",
       "      <td>-113173.55</td>\n",
       "      <td>-10000.0</td>\n",
       "      <td>0.0</td>\n",
       "      <td>365181.19</td>\n",
       "      <td>0.0</td>\n",
       "      <td>0.00</td>\n",
       "      <td>0.0</td>\n",
       "      <td>0.00</td>\n",
       "      <td>0.0</td>\n",
       "      <td>355181.19</td>\n",
       "    </tr>\n",
       "    <tr>\n",
       "      <th>222014</th>\n",
       "      <td>0xb2d45985</td>\n",
       "      <td>1</td>\n",
       "      <td>0.0</td>\n",
       "      <td>0.0</td>\n",
       "      <td>-71072.88</td>\n",
       "      <td>0.0</td>\n",
       "      <td>0.0</td>\n",
       "      <td>0.0</td>\n",
       "      <td>0.00</td>\n",
       "      <td>0.0</td>\n",
       "      <td>...</td>\n",
       "      <td>-228892.45</td>\n",
       "      <td>0.0</td>\n",
       "      <td>0.0</td>\n",
       "      <td>-142180.41</td>\n",
       "      <td>300000.0</td>\n",
       "      <td>-0.02</td>\n",
       "      <td>0.0</td>\n",
       "      <td>0.00</td>\n",
       "      <td>0.0</td>\n",
       "      <td>157819.57</td>\n",
       "    </tr>\n",
       "    <tr>\n",
       "      <th>222015</th>\n",
       "      <td>0xb2d8c6e3</td>\n",
       "      <td>1</td>\n",
       "      <td>0.0</td>\n",
       "      <td>0.0</td>\n",
       "      <td>20.71</td>\n",
       "      <td>0.0</td>\n",
       "      <td>0.0</td>\n",
       "      <td>0.0</td>\n",
       "      <td>-1773.58</td>\n",
       "      <td>0.0</td>\n",
       "      <td>...</td>\n",
       "      <td>19.32</td>\n",
       "      <td>0.0</td>\n",
       "      <td>0.0</td>\n",
       "      <td>1.39</td>\n",
       "      <td>0.0</td>\n",
       "      <td>0.00</td>\n",
       "      <td>0.0</td>\n",
       "      <td>-9.15</td>\n",
       "      <td>0.0</td>\n",
       "      <td>1.39</td>\n",
       "    </tr>\n",
       "    <tr>\n",
       "      <th>222016</th>\n",
       "      <td>0xb2da09ed</td>\n",
       "      <td>1</td>\n",
       "      <td>0.0</td>\n",
       "      <td>0.0</td>\n",
       "      <td>0.08</td>\n",
       "      <td>0.0</td>\n",
       "      <td>0.0</td>\n",
       "      <td>0.0</td>\n",
       "      <td>0.00</td>\n",
       "      <td>0.0</td>\n",
       "      <td>...</td>\n",
       "      <td>0.00</td>\n",
       "      <td>0.0</td>\n",
       "      <td>0.0</td>\n",
       "      <td>0.08</td>\n",
       "      <td>0.0</td>\n",
       "      <td>0.00</td>\n",
       "      <td>0.0</td>\n",
       "      <td>0.00</td>\n",
       "      <td>0.0</td>\n",
       "      <td>0.08</td>\n",
       "    </tr>\n",
       "    <tr>\n",
       "      <th>222017</th>\n",
       "      <td>0xb2d57e26</td>\n",
       "      <td>1</td>\n",
       "      <td>0.0</td>\n",
       "      <td>0.0</td>\n",
       "      <td>30.20</td>\n",
       "      <td>0.0</td>\n",
       "      <td>0.0</td>\n",
       "      <td>0.0</td>\n",
       "      <td>0.00</td>\n",
       "      <td>0.0</td>\n",
       "      <td>...</td>\n",
       "      <td>26958.63</td>\n",
       "      <td>-27000.0</td>\n",
       "      <td>0.0</td>\n",
       "      <td>71.57</td>\n",
       "      <td>0.0</td>\n",
       "      <td>0.00</td>\n",
       "      <td>0.0</td>\n",
       "      <td>0.00</td>\n",
       "      <td>0.0</td>\n",
       "      <td>-26928.43</td>\n",
       "    </tr>\n",
       "  </tbody>\n",
       "</table>\n",
       "<p>222018 rows × 29 columns</p>\n",
       "</div>"
      ],
      "text/plain": [
       "           cust_no  Q  diff_l1_X1  diff_l1_X2  diff_l1_X3  diff_l1_X4  \\\n",
       "0       0xb2d30bf6  3         0.0         0.0     3691.20         0.0   \n",
       "1       0xb2d0c143  3     40000.0         0.0       94.26         0.0   \n",
       "2       0xb2d6004d  3         0.0         0.0        0.01         0.0   \n",
       "3       0xb2d5a839  3    -72000.0         0.0    42812.32         0.0   \n",
       "4       0xb2d63b24  3    -60000.0         0.0    61745.34         0.0   \n",
       "...            ... ..         ...         ...         ...         ...   \n",
       "222013  0x3b9b0fa7  1         0.0         0.0   242007.64         0.0   \n",
       "222014  0xb2d45985  1         0.0         0.0   -71072.88         0.0   \n",
       "222015  0xb2d8c6e3  1         0.0         0.0       20.71         0.0   \n",
       "222016  0xb2da09ed  1         0.0         0.0        0.08         0.0   \n",
       "222017  0xb2d57e26  1         0.0         0.0       30.20         0.0   \n",
       "\n",
       "        diff_l1_X5  diff_l1_X6  diff_l1_X7  diff_l1_X8  ...  diff_l2_X9  \\\n",
       "0              0.0         0.0        0.00         0.0  ...     3675.00   \n",
       "1              0.0         0.0        0.00         0.0  ...        0.00   \n",
       "2              0.0         0.0        0.00         0.0  ...        0.00   \n",
       "3              0.0         0.0        0.00         0.0  ...        0.00   \n",
       "4              0.0         0.0        0.00         0.0  ...        0.00   \n",
       "...            ...         ...         ...         ...  ...         ...   \n",
       "222013         0.0         0.0        0.00         0.0  ...  -113173.55   \n",
       "222014         0.0         0.0        0.00         0.0  ...  -228892.45   \n",
       "222015         0.0         0.0    -1773.58         0.0  ...       19.32   \n",
       "222016         0.0         0.0        0.00         0.0  ...        0.00   \n",
       "222017         0.0         0.0        0.00         0.0  ...    26958.63   \n",
       "\n",
       "        diff_l3_X1  diff_l3_X2  diff_l3_X3  diff_l3_X4  diff_l3_X5  \\\n",
       "0              0.0         0.0       16.20         0.0        0.00   \n",
       "1          20000.0         0.0    20094.26         0.0        0.00   \n",
       "2              0.0         0.0        0.01         0.0        0.00   \n",
       "3         -72000.0         0.0    42812.32         0.0        0.00   \n",
       "4         -60000.0         0.0    61745.34         0.0        0.00   \n",
       "...            ...         ...         ...         ...         ...   \n",
       "222013    -10000.0         0.0   365181.19         0.0        0.00   \n",
       "222014         0.0         0.0  -142180.41    300000.0       -0.02   \n",
       "222015         0.0         0.0        1.39         0.0        0.00   \n",
       "222016         0.0         0.0        0.08         0.0        0.00   \n",
       "222017    -27000.0         0.0       71.57         0.0        0.00   \n",
       "\n",
       "        diff_l3_X6  diff_l3_X7  diff_l3_X8  diff_l3_X9  \n",
       "0              0.0        0.00         0.0       16.20  \n",
       "1              0.0        0.00         0.0    40094.26  \n",
       "2              0.0        0.00         0.0        0.01  \n",
       "3              0.0        0.00         0.0   -29187.68  \n",
       "4              0.0        0.00         0.0     1745.34  \n",
       "...            ...         ...         ...         ...  \n",
       "222013         0.0        0.00         0.0   355181.19  \n",
       "222014         0.0        0.00         0.0   157819.57  \n",
       "222015         0.0       -9.15         0.0        1.39  \n",
       "222016         0.0        0.00         0.0        0.08  \n",
       "222017         0.0        0.00         0.0   -26928.43  \n",
       "\n",
       "[222018 rows x 29 columns]"
      ]
     },
     "execution_count": 44,
     "metadata": {},
     "output_type": "execute_result"
    }
   ],
   "source": [
    "aum_diff"
   ]
  },
  {
   "cell_type": "markdown",
   "metadata": {},
   "source": [
    "## aum_stat"
   ]
  },
  {
   "cell_type": "code",
   "execution_count": 45,
   "metadata": {
    "ExecuteTime": {
     "end_time": "2020-12-26T14:23:04.674337Z",
     "start_time": "2020-12-26T14:23:04.671346Z"
    }
   },
   "outputs": [],
   "source": [
    "#这里的思路是对每一个用户该季度内的三个月某一指标的变化情况进行统计。\n",
    "#分别统计的最大，最小，平均值和标准差\n",
    "#9*4共36个指标"
   ]
  },
  {
   "cell_type": "code",
   "execution_count": 46,
   "metadata": {
    "ExecuteTime": {
     "end_time": "2020-12-26T14:23:11.468247Z",
     "start_time": "2020-12-26T14:23:04.675334Z"
    }
   },
   "outputs": [],
   "source": [
    "aum_m7 = pd.read_csv('./raw/aum_m7.csv')\n",
    "aum_m8 = pd.read_csv('./raw/aum_m8.csv')\n",
    "aum_m9 = pd.read_csv('./raw/aum_m9.csv')\n",
    "aum_m10 = pd.read_csv('./raw/aum_m10.csv')\n",
    "aum_m11 = pd.read_csv('./raw/aum_m11.csv')\n",
    "aum_m12 = pd.read_csv('./raw/aum_m12.csv')\n",
    "aum_m1 = pd.read_csv('./raw/aum_m1.csv')\n",
    "aum_m2 = pd.read_csv('./raw/aum_m2.csv')\n",
    "aum_m3 = pd.read_csv('./raw/aum_m3.csv')\n",
    "\n",
    "for aum1 in [aum_m7,aum_m8,aum_m9,aum_m10,aum_m11,aum_m12,aum_m1,aum_m2,aum_m3]:\n",
    "    aum1['X9'] = aum1['X1']+aum1['X2']+aum1['X3']+aum1['X4']+aum1['X5']+aum1['X6']+aum1['X8']\n",
    "\n",
    "aum_Q3_stat = pd.concat([aum_m7,aum_m8,aum_m9],axis=0)\n",
    "aum_Q3_stat = aum_Q3_stat[aum_Q3_stat.cust_no.isin(cust_avli_Q3.cust_no)].reset_index(drop=True)\n",
    "aum_Q3_stat = aum_Q3_stat.groupby('cust_no').agg(['max','min','mean','std'])\n",
    "aum_Q3_stat.columns = [f[0] +'_'+ f[1] for f in aum_Q3_stat.columns]\n",
    "aum_Q3_stat = aum_Q3_stat.reset_index()\n",
    "aum_Q3_stat['Q'] = 3\n",
    "\n",
    "aum_Q4_stat = pd.concat([aum_m10,aum_m11,aum_m12],axis=0)\n",
    "aum_Q4_stat = aum_Q4_stat[aum_Q4_stat.cust_no.isin(cust_avli_Q4.cust_no)].reset_index(drop=True)\n",
    "aum_Q4_stat = aum_Q4_stat.groupby('cust_no').agg(['max','min','mean','std'])\n",
    "aum_Q4_stat.columns = [f[0] +'_'+ f[1] for f in aum_Q4_stat.columns]\n",
    "aum_Q4_stat = aum_Q4_stat.reset_index()\n",
    "aum_Q4_stat['Q'] = 4\n",
    "\n",
    "aum_Q1_stat = pd.concat([aum_m1,aum_m2,aum_m3],axis=0)\n",
    "aum_Q1_stat = aum_Q1_stat[aum_Q1_stat.cust_no.isin(cust_avli_Q1.cust_no)].reset_index(drop=True)\n",
    "aum_Q1_stat = aum_Q1_stat.groupby('cust_no').agg(['max','min','mean','std'])\n",
    "aum_Q1_stat.columns = [f[0] +'_'+ f[1] for f in aum_Q1_stat.columns]\n",
    "aum_Q1_stat = aum_Q1_stat.reset_index()\n",
    "aum_Q1_stat['Q'] = 1\n",
    "\n",
    "aum_stat =  pd.concat([aum_Q3_stat,aum_Q4_stat,aum_Q1_stat],axis = 0)"
   ]
  },
  {
   "cell_type": "code",
   "execution_count": 47,
   "metadata": {
    "ExecuteTime": {
     "end_time": "2020-12-26T14:23:11.478659Z",
     "start_time": "2020-12-26T14:23:11.470247Z"
    }
   },
   "outputs": [
    {
     "data": {
      "text/plain": [
       "1    76722\n",
       "4    76170\n",
       "3    69126\n",
       "Name: Q, dtype: int64"
      ]
     },
     "execution_count": 47,
     "metadata": {},
     "output_type": "execute_result"
    }
   ],
   "source": [
    "aum_stat.Q.value_counts()"
   ]
  },
  {
   "cell_type": "code",
   "execution_count": 48,
   "metadata": {
    "ExecuteTime": {
     "end_time": "2020-12-26T14:23:11.685967Z",
     "start_time": "2020-12-26T14:23:11.480653Z"
    }
   },
   "outputs": [
    {
     "data": {
      "text/html": [
       "<div>\n",
       "<style scoped>\n",
       "    .dataframe tbody tr th:only-of-type {\n",
       "        vertical-align: middle;\n",
       "    }\n",
       "\n",
       "    .dataframe tbody tr th {\n",
       "        vertical-align: top;\n",
       "    }\n",
       "\n",
       "    .dataframe thead th {\n",
       "        text-align: right;\n",
       "    }\n",
       "</style>\n",
       "<table border=\"1\" class=\"dataframe\">\n",
       "  <thead>\n",
       "    <tr style=\"text-align: right;\">\n",
       "      <th></th>\n",
       "      <th>cust_no</th>\n",
       "      <th>X1_max</th>\n",
       "      <th>X1_min</th>\n",
       "      <th>X1_mean</th>\n",
       "      <th>X1_std</th>\n",
       "      <th>X2_max</th>\n",
       "      <th>X2_min</th>\n",
       "      <th>X2_mean</th>\n",
       "      <th>X2_std</th>\n",
       "      <th>X3_max</th>\n",
       "      <th>...</th>\n",
       "      <th>X7_std</th>\n",
       "      <th>X8_max</th>\n",
       "      <th>X8_min</th>\n",
       "      <th>X8_mean</th>\n",
       "      <th>X8_std</th>\n",
       "      <th>X9_max</th>\n",
       "      <th>X9_min</th>\n",
       "      <th>X9_mean</th>\n",
       "      <th>X9_std</th>\n",
       "      <th>Q</th>\n",
       "    </tr>\n",
       "  </thead>\n",
       "  <tbody>\n",
       "    <tr>\n",
       "      <th>0</th>\n",
       "      <td>0x3b9acb2b</td>\n",
       "      <td>0.0</td>\n",
       "      <td>0.0</td>\n",
       "      <td>0.0</td>\n",
       "      <td>0.0</td>\n",
       "      <td>0.00</td>\n",
       "      <td>0.00</td>\n",
       "      <td>0.00</td>\n",
       "      <td>0.0</td>\n",
       "      <td>4443.80</td>\n",
       "      <td>...</td>\n",
       "      <td>9076.038451</td>\n",
       "      <td>0</td>\n",
       "      <td>0</td>\n",
       "      <td>0.0</td>\n",
       "      <td>0.0</td>\n",
       "      <td>4443.80</td>\n",
       "      <td>2412.41</td>\n",
       "      <td>3496.176667</td>\n",
       "      <td>1022.515324</td>\n",
       "      <td>3</td>\n",
       "    </tr>\n",
       "    <tr>\n",
       "      <th>1</th>\n",
       "      <td>0x3b9acc6c</td>\n",
       "      <td>0.0</td>\n",
       "      <td>0.0</td>\n",
       "      <td>0.0</td>\n",
       "      <td>0.0</td>\n",
       "      <td>0.00</td>\n",
       "      <td>0.00</td>\n",
       "      <td>0.00</td>\n",
       "      <td>0.0</td>\n",
       "      <td>1229.22</td>\n",
       "      <td>...</td>\n",
       "      <td>0.000000</td>\n",
       "      <td>0</td>\n",
       "      <td>0</td>\n",
       "      <td>0.0</td>\n",
       "      <td>0.0</td>\n",
       "      <td>1229.22</td>\n",
       "      <td>1228.03</td>\n",
       "      <td>1228.426667</td>\n",
       "      <td>0.687047</td>\n",
       "      <td>3</td>\n",
       "    </tr>\n",
       "    <tr>\n",
       "      <th>2</th>\n",
       "      <td>0x3b9acc87</td>\n",
       "      <td>100000.0</td>\n",
       "      <td>100000.0</td>\n",
       "      <td>100000.0</td>\n",
       "      <td>0.0</td>\n",
       "      <td>0.00</td>\n",
       "      <td>0.00</td>\n",
       "      <td>0.00</td>\n",
       "      <td>0.0</td>\n",
       "      <td>48.60</td>\n",
       "      <td>...</td>\n",
       "      <td>0.000000</td>\n",
       "      <td>0</td>\n",
       "      <td>0</td>\n",
       "      <td>0.0</td>\n",
       "      <td>0.0</td>\n",
       "      <td>100048.60</td>\n",
       "      <td>100047.30</td>\n",
       "      <td>100048.136667</td>\n",
       "      <td>0.725971</td>\n",
       "      <td>3</td>\n",
       "    </tr>\n",
       "    <tr>\n",
       "      <th>3</th>\n",
       "      <td>0x3b9acca4</td>\n",
       "      <td>0.0</td>\n",
       "      <td>0.0</td>\n",
       "      <td>0.0</td>\n",
       "      <td>0.0</td>\n",
       "      <td>20787.61</td>\n",
       "      <td>20787.61</td>\n",
       "      <td>20787.61</td>\n",
       "      <td>0.0</td>\n",
       "      <td>12523.42</td>\n",
       "      <td>...</td>\n",
       "      <td>0.000000</td>\n",
       "      <td>0</td>\n",
       "      <td>0</td>\n",
       "      <td>0.0</td>\n",
       "      <td>0.0</td>\n",
       "      <td>33311.03</td>\n",
       "      <td>33272.60</td>\n",
       "      <td>33295.143333</td>\n",
       "      <td>20.061147</td>\n",
       "      <td>3</td>\n",
       "    </tr>\n",
       "    <tr>\n",
       "      <th>4</th>\n",
       "      <td>0x3b9accb7</td>\n",
       "      <td>0.0</td>\n",
       "      <td>0.0</td>\n",
       "      <td>0.0</td>\n",
       "      <td>0.0</td>\n",
       "      <td>0.00</td>\n",
       "      <td>0.00</td>\n",
       "      <td>0.00</td>\n",
       "      <td>0.0</td>\n",
       "      <td>4155.11</td>\n",
       "      <td>...</td>\n",
       "      <td>0.000000</td>\n",
       "      <td>0</td>\n",
       "      <td>0</td>\n",
       "      <td>0.0</td>\n",
       "      <td>0.0</td>\n",
       "      <td>4155.11</td>\n",
       "      <td>4151.08</td>\n",
       "      <td>4152.423333</td>\n",
       "      <td>2.326722</td>\n",
       "      <td>3</td>\n",
       "    </tr>\n",
       "    <tr>\n",
       "      <th>...</th>\n",
       "      <td>...</td>\n",
       "      <td>...</td>\n",
       "      <td>...</td>\n",
       "      <td>...</td>\n",
       "      <td>...</td>\n",
       "      <td>...</td>\n",
       "      <td>...</td>\n",
       "      <td>...</td>\n",
       "      <td>...</td>\n",
       "      <td>...</td>\n",
       "      <td>...</td>\n",
       "      <td>...</td>\n",
       "      <td>...</td>\n",
       "      <td>...</td>\n",
       "      <td>...</td>\n",
       "      <td>...</td>\n",
       "      <td>...</td>\n",
       "      <td>...</td>\n",
       "      <td>...</td>\n",
       "      <td>...</td>\n",
       "      <td>...</td>\n",
       "    </tr>\n",
       "    <tr>\n",
       "      <th>76717</th>\n",
       "      <td>0xb2daa389</td>\n",
       "      <td>280000.0</td>\n",
       "      <td>280000.0</td>\n",
       "      <td>280000.0</td>\n",
       "      <td>0.0</td>\n",
       "      <td>0.00</td>\n",
       "      <td>0.00</td>\n",
       "      <td>0.00</td>\n",
       "      <td>0.0</td>\n",
       "      <td>23.64</td>\n",
       "      <td>...</td>\n",
       "      <td>0.000000</td>\n",
       "      <td>0</td>\n",
       "      <td>0</td>\n",
       "      <td>0.0</td>\n",
       "      <td>0.0</td>\n",
       "      <td>280023.64</td>\n",
       "      <td>280000.00</td>\n",
       "      <td>280007.880000</td>\n",
       "      <td>13.648560</td>\n",
       "      <td>1</td>\n",
       "    </tr>\n",
       "    <tr>\n",
       "      <th>76718</th>\n",
       "      <td>0xb2daa38e</td>\n",
       "      <td>110000.0</td>\n",
       "      <td>30000.0</td>\n",
       "      <td>70000.0</td>\n",
       "      <td>40000.0</td>\n",
       "      <td>0.00</td>\n",
       "      <td>0.00</td>\n",
       "      <td>0.00</td>\n",
       "      <td>0.0</td>\n",
       "      <td>5.49</td>\n",
       "      <td>...</td>\n",
       "      <td>0.000000</td>\n",
       "      <td>0</td>\n",
       "      <td>0</td>\n",
       "      <td>0.0</td>\n",
       "      <td>0.0</td>\n",
       "      <td>110005.49</td>\n",
       "      <td>30000.00</td>\n",
       "      <td>70001.830000</td>\n",
       "      <td>40002.745031</td>\n",
       "      <td>1</td>\n",
       "    </tr>\n",
       "    <tr>\n",
       "      <th>76719</th>\n",
       "      <td>0xb2daa38f</td>\n",
       "      <td>0.0</td>\n",
       "      <td>0.0</td>\n",
       "      <td>0.0</td>\n",
       "      <td>0.0</td>\n",
       "      <td>0.00</td>\n",
       "      <td>0.00</td>\n",
       "      <td>0.00</td>\n",
       "      <td>0.0</td>\n",
       "      <td>1421.04</td>\n",
       "      <td>...</td>\n",
       "      <td>0.000000</td>\n",
       "      <td>200000</td>\n",
       "      <td>200000</td>\n",
       "      <td>200000.0</td>\n",
       "      <td>0.0</td>\n",
       "      <td>201421.04</td>\n",
       "      <td>200000.00</td>\n",
       "      <td>200710.486667</td>\n",
       "      <td>710.520002</td>\n",
       "      <td>1</td>\n",
       "    </tr>\n",
       "    <tr>\n",
       "      <th>76720</th>\n",
       "      <td>0xb2daa390</td>\n",
       "      <td>50000.0</td>\n",
       "      <td>50000.0</td>\n",
       "      <td>50000.0</td>\n",
       "      <td>0.0</td>\n",
       "      <td>0.00</td>\n",
       "      <td>0.00</td>\n",
       "      <td>0.00</td>\n",
       "      <td>0.0</td>\n",
       "      <td>4.01</td>\n",
       "      <td>...</td>\n",
       "      <td>0.000000</td>\n",
       "      <td>0</td>\n",
       "      <td>0</td>\n",
       "      <td>0.0</td>\n",
       "      <td>0.0</td>\n",
       "      <td>50004.01</td>\n",
       "      <td>50000.00</td>\n",
       "      <td>50001.336667</td>\n",
       "      <td>2.315175</td>\n",
       "      <td>1</td>\n",
       "    </tr>\n",
       "    <tr>\n",
       "      <th>76721</th>\n",
       "      <td>0xb2daa393</td>\n",
       "      <td>0.0</td>\n",
       "      <td>0.0</td>\n",
       "      <td>0.0</td>\n",
       "      <td>0.0</td>\n",
       "      <td>0.00</td>\n",
       "      <td>0.00</td>\n",
       "      <td>0.00</td>\n",
       "      <td>0.0</td>\n",
       "      <td>168417.42</td>\n",
       "      <td>...</td>\n",
       "      <td>0.000000</td>\n",
       "      <td>400000</td>\n",
       "      <td>0</td>\n",
       "      <td>200000.0</td>\n",
       "      <td>200000.0</td>\n",
       "      <td>401433.50</td>\n",
       "      <td>45181.36</td>\n",
       "      <td>271677.426667</td>\n",
       "      <td>196844.777798</td>\n",
       "      <td>1</td>\n",
       "    </tr>\n",
       "  </tbody>\n",
       "</table>\n",
       "<p>222018 rows × 38 columns</p>\n",
       "</div>"
      ],
      "text/plain": [
       "          cust_no    X1_max    X1_min   X1_mean   X1_std    X2_max    X2_min  \\\n",
       "0      0x3b9acb2b       0.0       0.0       0.0      0.0      0.00      0.00   \n",
       "1      0x3b9acc6c       0.0       0.0       0.0      0.0      0.00      0.00   \n",
       "2      0x3b9acc87  100000.0  100000.0  100000.0      0.0      0.00      0.00   \n",
       "3      0x3b9acca4       0.0       0.0       0.0      0.0  20787.61  20787.61   \n",
       "4      0x3b9accb7       0.0       0.0       0.0      0.0      0.00      0.00   \n",
       "...           ...       ...       ...       ...      ...       ...       ...   \n",
       "76717  0xb2daa389  280000.0  280000.0  280000.0      0.0      0.00      0.00   \n",
       "76718  0xb2daa38e  110000.0   30000.0   70000.0  40000.0      0.00      0.00   \n",
       "76719  0xb2daa38f       0.0       0.0       0.0      0.0      0.00      0.00   \n",
       "76720  0xb2daa390   50000.0   50000.0   50000.0      0.0      0.00      0.00   \n",
       "76721  0xb2daa393       0.0       0.0       0.0      0.0      0.00      0.00   \n",
       "\n",
       "        X2_mean  X2_std     X3_max  ...       X7_std  X8_max  X8_min  \\\n",
       "0          0.00     0.0    4443.80  ...  9076.038451       0       0   \n",
       "1          0.00     0.0    1229.22  ...     0.000000       0       0   \n",
       "2          0.00     0.0      48.60  ...     0.000000       0       0   \n",
       "3      20787.61     0.0   12523.42  ...     0.000000       0       0   \n",
       "4          0.00     0.0    4155.11  ...     0.000000       0       0   \n",
       "...         ...     ...        ...  ...          ...     ...     ...   \n",
       "76717      0.00     0.0      23.64  ...     0.000000       0       0   \n",
       "76718      0.00     0.0       5.49  ...     0.000000       0       0   \n",
       "76719      0.00     0.0    1421.04  ...     0.000000  200000  200000   \n",
       "76720      0.00     0.0       4.01  ...     0.000000       0       0   \n",
       "76721      0.00     0.0  168417.42  ...     0.000000  400000       0   \n",
       "\n",
       "        X8_mean    X8_std     X9_max     X9_min        X9_mean         X9_std  \\\n",
       "0           0.0       0.0    4443.80    2412.41    3496.176667    1022.515324   \n",
       "1           0.0       0.0    1229.22    1228.03    1228.426667       0.687047   \n",
       "2           0.0       0.0  100048.60  100047.30  100048.136667       0.725971   \n",
       "3           0.0       0.0   33311.03   33272.60   33295.143333      20.061147   \n",
       "4           0.0       0.0    4155.11    4151.08    4152.423333       2.326722   \n",
       "...         ...       ...        ...        ...            ...            ...   \n",
       "76717       0.0       0.0  280023.64  280000.00  280007.880000      13.648560   \n",
       "76718       0.0       0.0  110005.49   30000.00   70001.830000   40002.745031   \n",
       "76719  200000.0       0.0  201421.04  200000.00  200710.486667     710.520002   \n",
       "76720       0.0       0.0   50004.01   50000.00   50001.336667       2.315175   \n",
       "76721  200000.0  200000.0  401433.50   45181.36  271677.426667  196844.777798   \n",
       "\n",
       "       Q  \n",
       "0      3  \n",
       "1      3  \n",
       "2      3  \n",
       "3      3  \n",
       "4      3  \n",
       "...   ..  \n",
       "76717  1  \n",
       "76718  1  \n",
       "76719  1  \n",
       "76720  1  \n",
       "76721  1  \n",
       "\n",
       "[222018 rows x 38 columns]"
      ]
     },
     "execution_count": 48,
     "metadata": {},
     "output_type": "execute_result"
    }
   ],
   "source": [
    "aum_stat"
   ]
  },
  {
   "cell_type": "markdown",
   "metadata": {},
   "source": [
    "## behavior"
   ]
  },
  {
   "cell_type": "code",
   "execution_count": 49,
   "metadata": {
    "ExecuteTime": {
     "end_time": "2020-12-26T14:23:11.690949Z",
     "start_time": "2020-12-26T14:23:11.687995Z"
    }
   },
   "outputs": [],
   "source": [
    "#B1-B5的性质和X1-X9的性质类似\n",
    "#所以也做了同样的操作"
   ]
  },
  {
   "cell_type": "code",
   "execution_count": 50,
   "metadata": {
    "ExecuteTime": {
     "end_time": "2020-12-26T14:23:20.437286Z",
     "start_time": "2020-12-26T14:23:11.692943Z"
    }
   },
   "outputs": [],
   "source": [
    "behavior_m7 = pd.read_csv('./raw/behavior_m7.csv')\n",
    "behavior_m8 = pd.read_csv('./raw/behavior_m8.csv')\n",
    "behavior_m9 = pd.read_csv('./raw/behavior_m9.csv')\n",
    "behavior_m10 = pd.read_csv('./raw/behavior_m10.csv')\n",
    "behavior_m11 = pd.read_csv('./raw/behavior_m11.csv')\n",
    "behavior_m12 = pd.read_csv('./raw/behavior_m12.csv')\n",
    "behavior_m1 = pd.read_csv('./raw/behavior_m1.csv')\n",
    "behavior_m2 = pd.read_csv('./raw/behavior_m2.csv')\n",
    "behavior_m3 = pd.read_csv('./raw/behavior_m3.csv')\n",
    "\n",
    "behavior_m7 = behavior_m7.set_index('cust_no')\n",
    "behavior_m8 = behavior_m8.set_index('cust_no')\n",
    "behavior_m9 = behavior_m9.set_index('cust_no')\n",
    "behavior_Q3 = pd.concat([behavior_m7,behavior_m8,behavior_m9],axis=1)\n",
    "\n",
    "behavior_m10 = behavior_m10.set_index('cust_no')\n",
    "behavior_m11 = behavior_m11.set_index('cust_no')\n",
    "behavior_m12 = behavior_m12.set_index('cust_no')\n",
    "behavior_Q4 = pd.concat([behavior_m10,behavior_m11,behavior_m12],axis=1)\n",
    "\n",
    "behavior_m1 = behavior_m1.set_index('cust_no')\n",
    "behavior_m2 = behavior_m2.set_index('cust_no')\n",
    "behavior_m3 = behavior_m3.set_index('cust_no')\n",
    "behavior_Q1 = pd.concat([behavior_m1,behavior_m2,behavior_m3],axis=1)\n",
    "\n",
    "cols = ['B' + str(i) for i in range(17)]\n",
    "behavior_Q3.columns = cols\n",
    "behavior_Q4.columns = cols\n",
    "behavior_Q1.columns = cols\n",
    "\n",
    "behavior_Q3 = behavior_Q3.reset_index().rename(columns={'index':'cust_no'}).reset_index(drop=True)\n",
    "behavior_Q4 = behavior_Q4.reset_index().rename(columns={'index':'cust_no'}).reset_index(drop=True)\n",
    "behavior_Q1 = behavior_Q1.reset_index().rename(columns={'index':'cust_no'}).reset_index(drop=True)\n",
    "\n",
    "behavior_Q3 = behavior_Q3[behavior_Q3.cust_no.isin(cust_avli_Q3.cust_no)]\n",
    "behavior_Q4 = behavior_Q4[behavior_Q4.cust_no.isin(cust_avli_Q4.cust_no)]\n",
    "behavior_Q1 = behavior_Q1[behavior_Q1.cust_no.isin(cust_avli_Q1.cust_no)]\n",
    "behavior_Q3['Q'] = 3\n",
    "behavior_Q4['Q'] = 4\n",
    "behavior_Q1['Q'] = 1"
   ]
  },
  {
   "cell_type": "code",
   "execution_count": 51,
   "metadata": {
    "ExecuteTime": {
     "end_time": "2020-12-26T14:23:20.457213Z",
     "start_time": "2020-12-26T14:23:20.441276Z"
    }
   },
   "outputs": [
    {
     "name": "stdout",
     "output_type": "stream",
     "text": [
      "0    183.0\n",
      "1    183.0\n",
      "dtype: float64\n"
     ]
    }
   ],
   "source": [
    "#这里构建函数计算两个时间相差的天数,左输入为datetime64[ns]，右输入为datetime64[ns]Series\n",
    "def datetimetoint(time,a):\n",
    "    return (time - a.astype('datetime64[ns]')).astype('timedelta64[D]')\n",
    "\n",
    "#示例：\n",
    "\n",
    "Q3_time = datetime.datetime.strptime('2019-09-30', '%Y-%m-%d')\n",
    "Q4_time = datetime.datetime.strptime('2019-12-31', '%Y-%m-%d')\n",
    "Q1_time = datetime.datetime.strptime('2020-03-31', '%Y-%m-%d')\n",
    "\n",
    "time_ss = pd.Series([Q3_time,Q3_time])\n",
    "print(datetimetoint(Q1_time,time_ss))"
   ]
  },
  {
   "cell_type": "code",
   "execution_count": 52,
   "metadata": {
    "ExecuteTime": {
     "end_time": "2020-12-26T14:23:20.473158Z",
     "start_time": "2020-12-26T14:23:20.460230Z"
    }
   },
   "outputs": [],
   "source": [
    "#B15是官方数据字典中的B6，由于其为时间格式，为了保证特征的一致性，使用其和季度末做差。\n",
    "#计算最后一次转账距离季度末的时间\n",
    "#但是后来时间特征线上效果不理想，所以从最终的入模型中剔除了，"
   ]
  },
  {
   "cell_type": "code",
   "execution_count": 53,
   "metadata": {
    "ExecuteTime": {
     "end_time": "2020-12-26T14:23:20.648634Z",
     "start_time": "2020-12-26T14:23:20.476149Z"
    }
   },
   "outputs": [
    {
     "name": "stdout",
     "output_type": "stream",
     "text": [
      "B15\n",
      "B15\n",
      "B15\n"
     ]
    }
   ],
   "source": [
    "for col in ['B15']:\n",
    "    print(col)\n",
    "    behavior_Q3[col] = datetimetoint(Q3_time,behavior_Q3[col])\n",
    "for col in ['B15']:\n",
    "    print(col)\n",
    "    behavior_Q4[col] = datetimetoint(Q4_time,behavior_Q4[col])\n",
    "for col in ['B15']:\n",
    "    print(col)\n",
    "    behavior_Q1[col] = datetimetoint(Q1_time,behavior_Q1[col])"
   ]
  },
  {
   "cell_type": "code",
   "execution_count": 54,
   "metadata": {
    "ExecuteTime": {
     "end_time": "2020-12-26T14:23:20.752226Z",
     "start_time": "2020-12-26T14:23:20.650566Z"
    }
   },
   "outputs": [],
   "source": [
    "behavior = pd.concat([behavior_Q3,behavior_Q4,behavior_Q1],axis=0,ignore_index=True)"
   ]
  },
  {
   "cell_type": "code",
   "execution_count": 55,
   "metadata": {
    "ExecuteTime": {
     "end_time": "2020-12-26T14:23:20.798073Z",
     "start_time": "2020-12-26T14:23:20.754219Z"
    }
   },
   "outputs": [
    {
     "data": {
      "text/html": [
       "<div>\n",
       "<style scoped>\n",
       "    .dataframe tbody tr th:only-of-type {\n",
       "        vertical-align: middle;\n",
       "    }\n",
       "\n",
       "    .dataframe tbody tr th {\n",
       "        vertical-align: top;\n",
       "    }\n",
       "\n",
       "    .dataframe thead th {\n",
       "        text-align: right;\n",
       "    }\n",
       "</style>\n",
       "<table border=\"1\" class=\"dataframe\">\n",
       "  <thead>\n",
       "    <tr style=\"text-align: right;\">\n",
       "      <th></th>\n",
       "      <th>cust_no</th>\n",
       "      <th>B0</th>\n",
       "      <th>B1</th>\n",
       "      <th>B2</th>\n",
       "      <th>B3</th>\n",
       "      <th>B4</th>\n",
       "      <th>B5</th>\n",
       "      <th>B6</th>\n",
       "      <th>B7</th>\n",
       "      <th>B8</th>\n",
       "      <th>B9</th>\n",
       "      <th>B10</th>\n",
       "      <th>B11</th>\n",
       "      <th>B12</th>\n",
       "      <th>B13</th>\n",
       "      <th>B14</th>\n",
       "      <th>B15</th>\n",
       "      <th>B16</th>\n",
       "      <th>Q</th>\n",
       "    </tr>\n",
       "  </thead>\n",
       "  <tbody>\n",
       "    <tr>\n",
       "      <th>0</th>\n",
       "      <td>0xb2d3c3d9</td>\n",
       "      <td>4.0</td>\n",
       "      <td>0.0</td>\n",
       "      <td>0.00</td>\n",
       "      <td>0.0</td>\n",
       "      <td>0.0</td>\n",
       "      <td>2.0</td>\n",
       "      <td>0.0</td>\n",
       "      <td>0.00</td>\n",
       "      <td>0.0</td>\n",
       "      <td>0.00</td>\n",
       "      <td>1</td>\n",
       "      <td>1</td>\n",
       "      <td>14000.00</td>\n",
       "      <td>0</td>\n",
       "      <td>0.0</td>\n",
       "      <td>18.0</td>\n",
       "      <td>1</td>\n",
       "      <td>3</td>\n",
       "    </tr>\n",
       "    <tr>\n",
       "      <th>1</th>\n",
       "      <td>0xb2d5383e</td>\n",
       "      <td>91.0</td>\n",
       "      <td>102.0</td>\n",
       "      <td>1222684.22</td>\n",
       "      <td>68.0</td>\n",
       "      <td>1642000.0</td>\n",
       "      <td>60.0</td>\n",
       "      <td>50.0</td>\n",
       "      <td>625988.12</td>\n",
       "      <td>39.0</td>\n",
       "      <td>917127.35</td>\n",
       "      <td>93</td>\n",
       "      <td>75</td>\n",
       "      <td>1048911.88</td>\n",
       "      <td>82</td>\n",
       "      <td>1339700.0</td>\n",
       "      <td>-1.0</td>\n",
       "      <td>454</td>\n",
       "      <td>3</td>\n",
       "    </tr>\n",
       "    <tr>\n",
       "      <th>2</th>\n",
       "      <td>0xb2d0f92a</td>\n",
       "      <td>0.0</td>\n",
       "      <td>0.0</td>\n",
       "      <td>0.00</td>\n",
       "      <td>0.0</td>\n",
       "      <td>0.0</td>\n",
       "      <td>0.0</td>\n",
       "      <td>0.0</td>\n",
       "      <td>0.00</td>\n",
       "      <td>0.0</td>\n",
       "      <td>0.00</td>\n",
       "      <td>0</td>\n",
       "      <td>0</td>\n",
       "      <td>0.00</td>\n",
       "      <td>0</td>\n",
       "      <td>0.0</td>\n",
       "      <td>NaN</td>\n",
       "      <td>0</td>\n",
       "      <td>3</td>\n",
       "    </tr>\n",
       "    <tr>\n",
       "      <th>3</th>\n",
       "      <td>0xb2d44797</td>\n",
       "      <td>0.0</td>\n",
       "      <td>1.0</td>\n",
       "      <td>39050.00</td>\n",
       "      <td>0.0</td>\n",
       "      <td>0.0</td>\n",
       "      <td>0.0</td>\n",
       "      <td>1.0</td>\n",
       "      <td>39050.00</td>\n",
       "      <td>0.0</td>\n",
       "      <td>0.00</td>\n",
       "      <td>0</td>\n",
       "      <td>1</td>\n",
       "      <td>39050.00</td>\n",
       "      <td>0</td>\n",
       "      <td>0.0</td>\n",
       "      <td>1.0</td>\n",
       "      <td>3</td>\n",
       "      <td>3</td>\n",
       "    </tr>\n",
       "    <tr>\n",
       "      <th>4</th>\n",
       "      <td>0xb2d173db</td>\n",
       "      <td>0.0</td>\n",
       "      <td>1.0</td>\n",
       "      <td>123777.81</td>\n",
       "      <td>0.0</td>\n",
       "      <td>0.0</td>\n",
       "      <td>1.0</td>\n",
       "      <td>2.0</td>\n",
       "      <td>124000.00</td>\n",
       "      <td>2.0</td>\n",
       "      <td>124000.00</td>\n",
       "      <td>0</td>\n",
       "      <td>0</td>\n",
       "      <td>0.00</td>\n",
       "      <td>0</td>\n",
       "      <td>0.0</td>\n",
       "      <td>51.0</td>\n",
       "      <td>5</td>\n",
       "      <td>3</td>\n",
       "    </tr>\n",
       "    <tr>\n",
       "      <th>...</th>\n",
       "      <td>...</td>\n",
       "      <td>...</td>\n",
       "      <td>...</td>\n",
       "      <td>...</td>\n",
       "      <td>...</td>\n",
       "      <td>...</td>\n",
       "      <td>...</td>\n",
       "      <td>...</td>\n",
       "      <td>...</td>\n",
       "      <td>...</td>\n",
       "      <td>...</td>\n",
       "      <td>...</td>\n",
       "      <td>...</td>\n",
       "      <td>...</td>\n",
       "      <td>...</td>\n",
       "      <td>...</td>\n",
       "      <td>...</td>\n",
       "      <td>...</td>\n",
       "      <td>...</td>\n",
       "    </tr>\n",
       "    <tr>\n",
       "      <th>222013</th>\n",
       "      <td>0xb2d74332</td>\n",
       "      <td>0.0</td>\n",
       "      <td>0.0</td>\n",
       "      <td>0.00</td>\n",
       "      <td>0.0</td>\n",
       "      <td>0.0</td>\n",
       "      <td>0.0</td>\n",
       "      <td>0.0</td>\n",
       "      <td>0.00</td>\n",
       "      <td>0.0</td>\n",
       "      <td>0.00</td>\n",
       "      <td>0</td>\n",
       "      <td>0</td>\n",
       "      <td>0.00</td>\n",
       "      <td>0</td>\n",
       "      <td>0.0</td>\n",
       "      <td>3.0</td>\n",
       "      <td>5</td>\n",
       "      <td>1</td>\n",
       "    </tr>\n",
       "    <tr>\n",
       "      <th>222014</th>\n",
       "      <td>0xb2da85b0</td>\n",
       "      <td>0.0</td>\n",
       "      <td>0.0</td>\n",
       "      <td>0.00</td>\n",
       "      <td>0.0</td>\n",
       "      <td>0.0</td>\n",
       "      <td>0.0</td>\n",
       "      <td>0.0</td>\n",
       "      <td>0.00</td>\n",
       "      <td>0.0</td>\n",
       "      <td>0.00</td>\n",
       "      <td>0</td>\n",
       "      <td>0</td>\n",
       "      <td>0.00</td>\n",
       "      <td>0</td>\n",
       "      <td>0.0</td>\n",
       "      <td>14.0</td>\n",
       "      <td>4</td>\n",
       "      <td>1</td>\n",
       "    </tr>\n",
       "    <tr>\n",
       "      <th>222015</th>\n",
       "      <td>0xb2da9669</td>\n",
       "      <td>0.0</td>\n",
       "      <td>1.0</td>\n",
       "      <td>200000.00</td>\n",
       "      <td>0.0</td>\n",
       "      <td>0.0</td>\n",
       "      <td>0.0</td>\n",
       "      <td>0.0</td>\n",
       "      <td>0.00</td>\n",
       "      <td>0.0</td>\n",
       "      <td>0.00</td>\n",
       "      <td>0</td>\n",
       "      <td>0</td>\n",
       "      <td>0.00</td>\n",
       "      <td>0</td>\n",
       "      <td>0.0</td>\n",
       "      <td>73.0</td>\n",
       "      <td>3</td>\n",
       "      <td>1</td>\n",
       "    </tr>\n",
       "    <tr>\n",
       "      <th>222016</th>\n",
       "      <td>0xb2da7c53</td>\n",
       "      <td>1.0</td>\n",
       "      <td>6.0</td>\n",
       "      <td>800000.00</td>\n",
       "      <td>1.0</td>\n",
       "      <td>400000.0</td>\n",
       "      <td>0.0</td>\n",
       "      <td>0.0</td>\n",
       "      <td>0.00</td>\n",
       "      <td>0.0</td>\n",
       "      <td>0.00</td>\n",
       "      <td>0</td>\n",
       "      <td>0</td>\n",
       "      <td>0.00</td>\n",
       "      <td>0</td>\n",
       "      <td>0.0</td>\n",
       "      <td>77.0</td>\n",
       "      <td>7</td>\n",
       "      <td>1</td>\n",
       "    </tr>\n",
       "    <tr>\n",
       "      <th>222017</th>\n",
       "      <td>0xb2daa389</td>\n",
       "      <td>5.0</td>\n",
       "      <td>3.0</td>\n",
       "      <td>582000.00</td>\n",
       "      <td>1.0</td>\n",
       "      <td>280000.0</td>\n",
       "      <td>2.0</td>\n",
       "      <td>0.0</td>\n",
       "      <td>0.00</td>\n",
       "      <td>0.0</td>\n",
       "      <td>0.00</td>\n",
       "      <td>1</td>\n",
       "      <td>0</td>\n",
       "      <td>0.00</td>\n",
       "      <td>0</td>\n",
       "      <td>0.0</td>\n",
       "      <td>59.0</td>\n",
       "      <td>4</td>\n",
       "      <td>1</td>\n",
       "    </tr>\n",
       "  </tbody>\n",
       "</table>\n",
       "<p>222018 rows × 19 columns</p>\n",
       "</div>"
      ],
      "text/plain": [
       "           cust_no    B0     B1          B2    B3         B4    B5    B6  \\\n",
       "0       0xb2d3c3d9   4.0    0.0        0.00   0.0        0.0   2.0   0.0   \n",
       "1       0xb2d5383e  91.0  102.0  1222684.22  68.0  1642000.0  60.0  50.0   \n",
       "2       0xb2d0f92a   0.0    0.0        0.00   0.0        0.0   0.0   0.0   \n",
       "3       0xb2d44797   0.0    1.0    39050.00   0.0        0.0   0.0   1.0   \n",
       "4       0xb2d173db   0.0    1.0   123777.81   0.0        0.0   1.0   2.0   \n",
       "...            ...   ...    ...         ...   ...        ...   ...   ...   \n",
       "222013  0xb2d74332   0.0    0.0        0.00   0.0        0.0   0.0   0.0   \n",
       "222014  0xb2da85b0   0.0    0.0        0.00   0.0        0.0   0.0   0.0   \n",
       "222015  0xb2da9669   0.0    1.0   200000.00   0.0        0.0   0.0   0.0   \n",
       "222016  0xb2da7c53   1.0    6.0   800000.00   1.0   400000.0   0.0   0.0   \n",
       "222017  0xb2daa389   5.0    3.0   582000.00   1.0   280000.0   2.0   0.0   \n",
       "\n",
       "               B7    B8         B9  B10  B11         B12  B13        B14  \\\n",
       "0            0.00   0.0       0.00    1    1    14000.00    0        0.0   \n",
       "1       625988.12  39.0  917127.35   93   75  1048911.88   82  1339700.0   \n",
       "2            0.00   0.0       0.00    0    0        0.00    0        0.0   \n",
       "3        39050.00   0.0       0.00    0    1    39050.00    0        0.0   \n",
       "4       124000.00   2.0  124000.00    0    0        0.00    0        0.0   \n",
       "...           ...   ...        ...  ...  ...         ...  ...        ...   \n",
       "222013       0.00   0.0       0.00    0    0        0.00    0        0.0   \n",
       "222014       0.00   0.0       0.00    0    0        0.00    0        0.0   \n",
       "222015       0.00   0.0       0.00    0    0        0.00    0        0.0   \n",
       "222016       0.00   0.0       0.00    0    0        0.00    0        0.0   \n",
       "222017       0.00   0.0       0.00    1    0        0.00    0        0.0   \n",
       "\n",
       "         B15  B16  Q  \n",
       "0       18.0    1  3  \n",
       "1       -1.0  454  3  \n",
       "2        NaN    0  3  \n",
       "3        1.0    3  3  \n",
       "4       51.0    5  3  \n",
       "...      ...  ... ..  \n",
       "222013   3.0    5  1  \n",
       "222014  14.0    4  1  \n",
       "222015  73.0    3  1  \n",
       "222016  77.0    7  1  \n",
       "222017  59.0    4  1  \n",
       "\n",
       "[222018 rows x 19 columns]"
      ]
     },
     "execution_count": 55,
     "metadata": {},
     "output_type": "execute_result"
    }
   ],
   "source": [
    "behavior"
   ]
  },
  {
   "cell_type": "code",
   "execution_count": 56,
   "metadata": {
    "ExecuteTime": {
     "end_time": "2020-12-26T14:23:20.819003Z",
     "start_time": "2020-12-26T14:23:20.803057Z"
    }
   },
   "outputs": [
    {
     "data": {
      "text/plain": [
       "1    76722\n",
       "4    76170\n",
       "3    69126\n",
       "Name: Q, dtype: int64"
      ]
     },
     "execution_count": 56,
     "metadata": {},
     "output_type": "execute_result"
    }
   ],
   "source": [
    "behavior.Q.value_counts()"
   ]
  },
  {
   "cell_type": "code",
   "execution_count": 57,
   "metadata": {
    "ExecuteTime": {
     "end_time": "2020-12-26T14:23:21.023331Z",
     "start_time": "2020-12-26T14:23:20.824983Z"
    }
   },
   "outputs": [
    {
     "data": {
      "text/plain": [
       "40"
      ]
     },
     "execution_count": 57,
     "metadata": {},
     "output_type": "execute_result"
    }
   ],
   "source": [
    "del behavior_m7,behavior_m8,behavior_m9,behavior_m10,behavior_m11,behavior_m12,behavior_m1,behavior_m2,behavior_m3,behavior_Q3,behavior_Q4,behavior_Q1\n",
    "gc.collect()"
   ]
  },
  {
   "cell_type": "markdown",
   "metadata": {},
   "source": [
    "## behavior_diff"
   ]
  },
  {
   "cell_type": "code",
   "execution_count": 58,
   "metadata": {
    "ExecuteTime": {
     "end_time": "2020-12-26T14:23:21.076142Z",
     "start_time": "2020-12-26T14:23:21.024317Z"
    }
   },
   "outputs": [
    {
     "name": "stdout",
     "output_type": "stream",
     "text": [
      "0\n",
      "1\n",
      "2\n",
      "3\n",
      "4\n",
      "0\n",
      "1\n",
      "2\n",
      "3\n",
      "4\n",
      "0\n",
      "1\n",
      "2\n",
      "3\n",
      "4\n"
     ]
    }
   ],
   "source": [
    "#倒数第一个月比倒数第二个多多少\n",
    "behavior_diff = pd.DataFrame()\n",
    "behavior_diff['cust_no'] = behavior['cust_no']\n",
    "behavior_diff['Q'] = behavior['Q']\n",
    "for i in range(5):\n",
    "    print(i)\n",
    "    behavior_diff['diff_l1_B'+str(i+1)] = behavior['B'+str(i+10)] - behavior['B'+str(i+5)]\n",
    "    \n",
    "for i in range(5):\n",
    "    print(i)\n",
    "    behavior_diff['diff_l2_B'+str(i+1)] = behavior['B'+str(i+5)] - behavior['B'+str(i)]\n",
    "    \n",
    "for i in range(5):\n",
    "    print(i)\n",
    "    behavior_diff['diff_l3_B'+str(i+1)] = behavior_diff['diff_l1_B'+str(i+1)] - behavior_diff['diff_l2_B'+str(i+1)]"
   ]
  },
  {
   "cell_type": "markdown",
   "metadata": {},
   "source": [
    "## behavior_stat"
   ]
  },
  {
   "cell_type": "code",
   "execution_count": 59,
   "metadata": {
    "ExecuteTime": {
     "end_time": "2020-12-26T14:23:23.956732Z",
     "start_time": "2020-12-26T14:23:21.079133Z"
    }
   },
   "outputs": [],
   "source": [
    "behavior_m7 = pd.read_csv('./raw/behavior_m7.csv')\n",
    "behavior_m8 = pd.read_csv('./raw/behavior_m8.csv')\n",
    "behavior_m9 = pd.read_csv('./raw/behavior_m9.csv')\n",
    "behavior_m10 = pd.read_csv('./raw/behavior_m10.csv')\n",
    "behavior_m11 = pd.read_csv('./raw/behavior_m11.csv')\n",
    "behavior_m12 = pd.read_csv('./raw/behavior_m12.csv')\n",
    "behavior_m1 = pd.read_csv('./raw/behavior_m1.csv')\n",
    "behavior_m2 = pd.read_csv('./raw/behavior_m2.csv')\n",
    "behavior_m3 = pd.read_csv('./raw/behavior_m3.csv')"
   ]
  },
  {
   "cell_type": "code",
   "execution_count": 60,
   "metadata": {
    "ExecuteTime": {
     "end_time": "2020-12-26T14:23:24.044445Z",
     "start_time": "2020-12-26T14:23:23.958720Z"
    }
   },
   "outputs": [],
   "source": [
    "behavior_m9 = behavior_m9.drop(['B6','B7'],axis=1)\n",
    "behavior_m12 = behavior_m12.drop(['B6','B7'],axis=1)\n",
    "behavior_m3 = behavior_m3.drop(['B6','B7'],axis=1)"
   ]
  },
  {
   "cell_type": "code",
   "execution_count": 61,
   "metadata": {
    "ExecuteTime": {
     "end_time": "2020-12-26T14:23:26.460527Z",
     "start_time": "2020-12-26T14:23:24.045424Z"
    }
   },
   "outputs": [],
   "source": [
    "behavior_Q3_stat = pd.concat([behavior_m7,behavior_m8,behavior_m9],axis=0)\n",
    "behavior_Q3_stat = behavior_Q3_stat[behavior_Q3_stat.cust_no.isin(cust_avli_Q3.cust_no)].reset_index(drop=True)\n",
    "behavior_Q3_stat = behavior_Q3_stat.groupby('cust_no').agg(['max','min','mean','std'])\n",
    "behavior_Q3_stat.columns = [f[0] +'_'+ f[1] for f in behavior_Q3_stat.columns]\n",
    "behavior_Q3_stat = behavior_Q3_stat.reset_index()\n",
    "behavior_Q3_stat['Q'] = 3\n",
    "\n",
    "behavior_Q4_stat = pd.concat([behavior_m10,behavior_m11,behavior_m12],axis=0)\n",
    "behavior_Q4_stat = behavior_Q4_stat[behavior_Q4_stat.cust_no.isin(cust_avli_Q4.cust_no)].reset_index(drop=True)\n",
    "behavior_Q4_stat = behavior_Q4_stat.groupby('cust_no').agg(['max','min','mean','std'])\n",
    "behavior_Q4_stat.columns = [f[0] +'_'+ f[1] for f in behavior_Q4_stat.columns]\n",
    "behavior_Q4_stat = behavior_Q4_stat.reset_index()\n",
    "behavior_Q4_stat['Q'] = 4\n",
    "\n",
    "behavior_Q1_stat = pd.concat([behavior_m1,behavior_m2,behavior_m3],axis=0)\n",
    "behavior_Q1_stat = behavior_Q1_stat[behavior_Q1_stat.cust_no.isin(cust_avli_Q1.cust_no)].reset_index(drop=True)\n",
    "behavior_Q1_stat = behavior_Q1_stat.groupby('cust_no').agg(['max','min','mean','std'])\n",
    "behavior_Q1_stat.columns = [f[0] +'_'+ f[1] for f in behavior_Q1_stat.columns]\n",
    "behavior_Q1_stat = behavior_Q1_stat.reset_index()\n",
    "behavior_Q1_stat['Q'] = 1\n",
    "\n",
    "behavior_stat =  pd.concat([behavior_Q3_stat,behavior_Q4_stat,behavior_Q1_stat],axis = 0,ignore_index=True)"
   ]
  },
  {
   "cell_type": "code",
   "execution_count": 62,
   "metadata": {
    "ExecuteTime": {
     "end_time": "2020-12-26T14:23:26.473681Z",
     "start_time": "2020-12-26T14:23:26.463461Z"
    }
   },
   "outputs": [
    {
     "data": {
      "text/plain": [
       "1    76722\n",
       "4    76170\n",
       "3    69126\n",
       "Name: Q, dtype: int64"
      ]
     },
     "execution_count": 62,
     "metadata": {},
     "output_type": "execute_result"
    }
   ],
   "source": [
    "behavior_stat.Q.value_counts()"
   ]
  },
  {
   "cell_type": "markdown",
   "metadata": {},
   "source": [
    "## cunkuan"
   ]
  },
  {
   "cell_type": "code",
   "execution_count": 63,
   "metadata": {
    "ExecuteTime": {
     "end_time": "2020-12-26T14:23:26.495715Z",
     "start_time": "2020-12-26T14:23:26.475670Z"
    }
   },
   "outputs": [],
   "source": [
    "#存款部分也是类似的操作，展平，查分，季度内统计量"
   ]
  },
  {
   "cell_type": "code",
   "execution_count": 64,
   "metadata": {
    "ExecuteTime": {
     "end_time": "2020-12-26T14:23:29.370360Z",
     "start_time": "2020-12-26T14:23:26.497708Z"
    }
   },
   "outputs": [],
   "source": [
    "cunkuan_m7 = pd.read_csv('./raw/cunkuan_m7.csv')\n",
    "cunkuan_m8 = pd.read_csv('./raw/cunkuan_m8.csv')\n",
    "cunkuan_m9 = pd.read_csv('./raw/cunkuan_m9.csv')\n",
    "cunkuan_m10 = pd.read_csv('./raw/cunkuan_m10.csv')\n",
    "cunkuan_m11 = pd.read_csv('./raw/cunkuan_m11.csv')\n",
    "cunkuan_m12 = pd.read_csv('./raw/cunkuan_m12.csv')\n",
    "cunkuan_m1 = pd.read_csv('./raw/cunkuan_m1.csv')\n",
    "cunkuan_m2 = pd.read_csv('./raw/cunkuan_m2.csv')\n",
    "cunkuan_m3 = pd.read_csv('./raw/cunkuan_m3.csv')\n",
    "\n",
    "cunkuan_m7 = cunkuan_m7.set_index('cust_no')\n",
    "cunkuan_m8 = cunkuan_m8.set_index('cust_no')\n",
    "cunkuan_m9 = cunkuan_m9.set_index('cust_no')\n",
    "cunkuan_Q3 = pd.concat([cunkuan_m7,cunkuan_m8,cunkuan_m9],axis=1)\n",
    "\n",
    "cunkuan_m10 = cunkuan_m10.set_index('cust_no')\n",
    "cunkuan_m11 = cunkuan_m11.set_index('cust_no')\n",
    "cunkuan_m12 = cunkuan_m12.set_index('cust_no')\n",
    "cunkuan_Q4 = pd.concat([cunkuan_m10,cunkuan_m11,cunkuan_m12],axis=1)\n",
    "\n",
    "cunkuan_m1 = cunkuan_m1.set_index('cust_no')\n",
    "cunkuan_m2 = cunkuan_m2.set_index('cust_no')\n",
    "cunkuan_m3 = cunkuan_m3.set_index('cust_no')\n",
    "cunkuan_Q1 = pd.concat([cunkuan_m1,cunkuan_m2,cunkuan_m3],axis=1)\n",
    "\n",
    "cols = ['C' + str(i) for i in range(6)]\n",
    "\n",
    "cunkuan_Q3.columns = cols\n",
    "cunkuan_Q4.columns = cols\n",
    "cunkuan_Q1.columns = cols\n",
    "\n",
    "cunkuan_Q3 = cunkuan_Q3.reset_index().rename(columns={'index':'cust_no'}).reset_index(drop=True)\n",
    "cunkuan_Q4 = cunkuan_Q4.reset_index().rename(columns={'index':'cust_no'}).reset_index(drop=True)\n",
    "cunkuan_Q1 = cunkuan_Q1.reset_index().rename(columns={'index':'cust_no'}).reset_index(drop=True)\n",
    "\n",
    "cunkuan_Q3 = cunkuan_Q3[cunkuan_Q3.cust_no.isin(cust_avli_Q3.cust_no)]\n",
    "cunkuan_Q4 = cunkuan_Q4[cunkuan_Q4.cust_no.isin(cust_avli_Q4.cust_no)]\n",
    "cunkuan_Q1 = cunkuan_Q1[cunkuan_Q1.cust_no.isin(cust_avli_Q1.cust_no)]\n",
    "cunkuan_Q3['Q'] = 3\n",
    "cunkuan_Q4['Q'] = 4\n",
    "cunkuan_Q1['Q'] = 1\n",
    "\n",
    "cunkuan = pd.concat([cunkuan_Q3,cunkuan_Q4,cunkuan_Q1],axis=0,ignore_index=True)"
   ]
  },
  {
   "cell_type": "code",
   "execution_count": 65,
   "metadata": {
    "ExecuteTime": {
     "end_time": "2020-12-26T14:23:29.380284Z",
     "start_time": "2020-12-26T14:23:29.371313Z"
    }
   },
   "outputs": [
    {
     "data": {
      "text/plain": [
       "1    76719\n",
       "4    76167\n",
       "3    69122\n",
       "Name: Q, dtype: int64"
      ]
     },
     "execution_count": 65,
     "metadata": {},
     "output_type": "execute_result"
    }
   ],
   "source": [
    "cunkuan.Q.value_counts()"
   ]
  },
  {
   "cell_type": "code",
   "execution_count": 66,
   "metadata": {
    "ExecuteTime": {
     "end_time": "2020-12-26T14:23:29.396272Z",
     "start_time": "2020-12-26T14:23:29.382278Z"
    }
   },
   "outputs": [
    {
     "data": {
      "text/html": [
       "<div>\n",
       "<style scoped>\n",
       "    .dataframe tbody tr th:only-of-type {\n",
       "        vertical-align: middle;\n",
       "    }\n",
       "\n",
       "    .dataframe tbody tr th {\n",
       "        vertical-align: top;\n",
       "    }\n",
       "\n",
       "    .dataframe thead th {\n",
       "        text-align: right;\n",
       "    }\n",
       "</style>\n",
       "<table border=\"1\" class=\"dataframe\">\n",
       "  <thead>\n",
       "    <tr style=\"text-align: right;\">\n",
       "      <th></th>\n",
       "      <th>cust_no</th>\n",
       "      <th>Q</th>\n",
       "    </tr>\n",
       "  </thead>\n",
       "  <tbody>\n",
       "    <tr>\n",
       "      <th>0</th>\n",
       "      <td>0xb2d640a6</td>\n",
       "      <td>3</td>\n",
       "    </tr>\n",
       "    <tr>\n",
       "      <th>1</th>\n",
       "      <td>0xb2d4dd44</td>\n",
       "      <td>3</td>\n",
       "    </tr>\n",
       "    <tr>\n",
       "      <th>2</th>\n",
       "      <td>0xb2d69fef</td>\n",
       "      <td>3</td>\n",
       "    </tr>\n",
       "    <tr>\n",
       "      <th>3</th>\n",
       "      <td>0xb2d42c89</td>\n",
       "      <td>3</td>\n",
       "    </tr>\n",
       "    <tr>\n",
       "      <th>4</th>\n",
       "      <td>0xb2d90b58</td>\n",
       "      <td>3</td>\n",
       "    </tr>\n",
       "    <tr>\n",
       "      <th>...</th>\n",
       "      <td>...</td>\n",
       "      <td>...</td>\n",
       "    </tr>\n",
       "    <tr>\n",
       "      <th>69121</th>\n",
       "      <td>0x3b9ad3dd</td>\n",
       "      <td>3</td>\n",
       "    </tr>\n",
       "    <tr>\n",
       "      <th>69122</th>\n",
       "      <td>0xb2d6b240</td>\n",
       "      <td>3</td>\n",
       "    </tr>\n",
       "    <tr>\n",
       "      <th>69123</th>\n",
       "      <td>0xb2d5d981</td>\n",
       "      <td>3</td>\n",
       "    </tr>\n",
       "    <tr>\n",
       "      <th>69124</th>\n",
       "      <td>0x3b9b26ef</td>\n",
       "      <td>3</td>\n",
       "    </tr>\n",
       "    <tr>\n",
       "      <th>69125</th>\n",
       "      <td>0xb2d3d52b</td>\n",
       "      <td>3</td>\n",
       "    </tr>\n",
       "  </tbody>\n",
       "</table>\n",
       "<p>69126 rows × 2 columns</p>\n",
       "</div>"
      ],
      "text/plain": [
       "          cust_no  Q\n",
       "0      0xb2d640a6  3\n",
       "1      0xb2d4dd44  3\n",
       "2      0xb2d69fef  3\n",
       "3      0xb2d42c89  3\n",
       "4      0xb2d90b58  3\n",
       "...           ... ..\n",
       "69121  0x3b9ad3dd  3\n",
       "69122  0xb2d6b240  3\n",
       "69123  0xb2d5d981  3\n",
       "69124  0x3b9b26ef  3\n",
       "69125  0xb2d3d52b  3\n",
       "\n",
       "[69126 rows x 2 columns]"
      ]
     },
     "execution_count": 66,
     "metadata": {},
     "output_type": "execute_result"
    }
   ],
   "source": [
    "cust_avli_Q3"
   ]
  },
  {
   "cell_type": "code",
   "execution_count": 67,
   "metadata": {
    "ExecuteTime": {
     "end_time": "2020-12-26T14:23:29.406206Z",
     "start_time": "2020-12-26T14:23:29.398224Z"
    }
   },
   "outputs": [],
   "source": [
    "#发现用户的排序方式中可能存在信息，前面的客户稠密一点，后面的客户不稠密。"
   ]
  },
  {
   "cell_type": "code",
   "execution_count": 68,
   "metadata": {
    "ExecuteTime": {
     "end_time": "2020-12-26T14:23:29.484942Z",
     "start_time": "2020-12-26T14:23:29.408190Z"
    }
   },
   "outputs": [
    {
     "data": {
      "text/plain": [
       "80"
      ]
     },
     "execution_count": 68,
     "metadata": {},
     "output_type": "execute_result"
    }
   ],
   "source": [
    "del cunkuan_m7,cunkuan_m8,cunkuan_m9,cunkuan_m10,cunkuan_m11,cunkuan_m12,cunkuan_m1,cunkuan_m2,cunkuan_m3,cunkuan_Q3,cunkuan_Q4,cunkuan_Q1\n",
    "gc.collect()"
   ]
  },
  {
   "cell_type": "markdown",
   "metadata": {},
   "source": [
    "## cukuan_diff"
   ]
  },
  {
   "cell_type": "code",
   "execution_count": 69,
   "metadata": {
    "ExecuteTime": {
     "end_time": "2020-12-26T14:23:29.521831Z",
     "start_time": "2020-12-26T14:23:29.485930Z"
    }
   },
   "outputs": [
    {
     "name": "stdout",
     "output_type": "stream",
     "text": [
      "0\n",
      "1\n",
      "0\n",
      "1\n",
      "0\n",
      "1\n"
     ]
    }
   ],
   "source": [
    "#倒数第一个月比倒数第二个多多少\n",
    "cunkuan_diff = pd.DataFrame()\n",
    "cunkuan_diff['cust_no'] = cunkuan['cust_no']\n",
    "cunkuan_diff['Q'] = cunkuan['Q']\n",
    "for i in range(2):\n",
    "    print(i)\n",
    "    cunkuan_diff['diff_l1_C'+str(i+1)] = cunkuan['C'+str(i+4)] - cunkuan['C'+str(i+2)]\n",
    "    \n",
    "for i in range(2):\n",
    "    print(i)\n",
    "    cunkuan_diff['diff_l2_C'+str(i+1)] = cunkuan['C'+str(i+2)] - cunkuan['C'+str(i)]\n",
    "    \n",
    "for i in range(2):\n",
    "    print(i)\n",
    "    cunkuan_diff['diff_l3_C'+str(i+1)] = cunkuan_diff['diff_l1_C'+str(i+1)] - cunkuan_diff['diff_l2_C'+str(i+1)]"
   ]
  },
  {
   "cell_type": "markdown",
   "metadata": {},
   "source": [
    "## cukuan_stat"
   ]
  },
  {
   "cell_type": "code",
   "execution_count": 70,
   "metadata": {
    "ExecuteTime": {
     "end_time": "2020-12-26T14:23:30.656856Z",
     "start_time": "2020-12-26T14:23:29.522806Z"
    }
   },
   "outputs": [],
   "source": [
    "cunkuan_m7 = pd.read_csv('./raw/cunkuan_m7.csv')\n",
    "cunkuan_m8 = pd.read_csv('./raw/cunkuan_m8.csv')\n",
    "cunkuan_m9 = pd.read_csv('./raw/cunkuan_m9.csv')\n",
    "cunkuan_m10 = pd.read_csv('./raw/cunkuan_m10.csv')\n",
    "cunkuan_m11 = pd.read_csv('./raw/cunkuan_m11.csv')\n",
    "cunkuan_m12 = pd.read_csv('./raw/cunkuan_m12.csv')\n",
    "cunkuan_m1 = pd.read_csv('./raw/cunkuan_m1.csv')\n",
    "cunkuan_m2 = pd.read_csv('./raw/cunkuan_m2.csv')\n",
    "cunkuan_m3 = pd.read_csv('./raw/cunkuan_m3.csv')"
   ]
  },
  {
   "cell_type": "code",
   "execution_count": 71,
   "metadata": {
    "ExecuteTime": {
     "end_time": "2020-12-26T14:23:31.669565Z",
     "start_time": "2020-12-26T14:23:30.658850Z"
    }
   },
   "outputs": [],
   "source": [
    "cunkuan_Q3_stat = pd.concat([cunkuan_m7,cunkuan_m8,cunkuan_m9],axis=0)\n",
    "cunkuan_Q3_stat = cunkuan_Q3_stat[cunkuan_Q3_stat.cust_no.isin(cust_avli_Q3.cust_no)].reset_index(drop=True)\n",
    "cunkuan_Q3_stat = cunkuan_Q3_stat.groupby('cust_no').agg(['max','min','mean','std'])\n",
    "cunkuan_Q3_stat.columns = [f[0] +'_'+ f[1] for f in cunkuan_Q3_stat.columns]\n",
    "cunkuan_Q3_stat = cunkuan_Q3_stat.reset_index()\n",
    "cunkuan_Q3_stat['Q'] = 3\n",
    "\n",
    "cunkuan_Q4_stat = pd.concat([cunkuan_m10,cunkuan_m11,cunkuan_m12],axis=0)\n",
    "cunkuan_Q4_stat = cunkuan_Q4_stat[cunkuan_Q4_stat.cust_no.isin(cust_avli_Q4.cust_no)].reset_index(drop=True)\n",
    "cunkuan_Q4_stat = cunkuan_Q4_stat.groupby('cust_no').agg(['max','min','mean','std'])\n",
    "cunkuan_Q4_stat.columns = [f[0] +'_'+ f[1] for f in cunkuan_Q4_stat.columns]\n",
    "cunkuan_Q4_stat = cunkuan_Q4_stat.reset_index()\n",
    "cunkuan_Q4_stat['Q'] = 4\n",
    "\n",
    "cunkuan_Q1_stat = pd.concat([cunkuan_m1,cunkuan_m2,cunkuan_m3],axis=0)\n",
    "cunkuan_Q1_stat = cunkuan_Q1_stat[cunkuan_Q1_stat.cust_no.isin(cust_avli_Q1.cust_no)].reset_index(drop=True)\n",
    "cunkuan_Q1_stat = cunkuan_Q1_stat.groupby('cust_no').agg(['max','min','mean','std'])\n",
    "cunkuan_Q1_stat.columns = [f[0] +'_'+ f[1] for f in cunkuan_Q1_stat.columns]\n",
    "cunkuan_Q1_stat = cunkuan_Q1_stat.reset_index()\n",
    "cunkuan_Q1_stat['Q'] = 1\n",
    "\n",
    "cunkuan_stat =  pd.concat([cunkuan_Q3_stat,cunkuan_Q4_stat,cunkuan_Q1_stat],axis = 0,ignore_index=True)"
   ]
  },
  {
   "cell_type": "code",
   "execution_count": 72,
   "metadata": {
    "ExecuteTime": {
     "end_time": "2020-12-26T14:23:31.697008Z",
     "start_time": "2020-12-26T14:23:31.671516Z"
    }
   },
   "outputs": [
    {
     "data": {
      "text/html": [
       "<div>\n",
       "<style scoped>\n",
       "    .dataframe tbody tr th:only-of-type {\n",
       "        vertical-align: middle;\n",
       "    }\n",
       "\n",
       "    .dataframe tbody tr th {\n",
       "        vertical-align: top;\n",
       "    }\n",
       "\n",
       "    .dataframe thead th {\n",
       "        text-align: right;\n",
       "    }\n",
       "</style>\n",
       "<table border=\"1\" class=\"dataframe\">\n",
       "  <thead>\n",
       "    <tr style=\"text-align: right;\">\n",
       "      <th></th>\n",
       "      <th>cust_no</th>\n",
       "      <th>C1_max</th>\n",
       "      <th>C1_min</th>\n",
       "      <th>C1_mean</th>\n",
       "      <th>C1_std</th>\n",
       "      <th>C2_max</th>\n",
       "      <th>C2_min</th>\n",
       "      <th>C2_mean</th>\n",
       "      <th>C2_std</th>\n",
       "      <th>Q</th>\n",
       "    </tr>\n",
       "  </thead>\n",
       "  <tbody>\n",
       "    <tr>\n",
       "      <th>0</th>\n",
       "      <td>0x3b9acb2b</td>\n",
       "      <td>4757.48</td>\n",
       "      <td>2620.49</td>\n",
       "      <td>3778.600000</td>\n",
       "      <td>1079.710197</td>\n",
       "      <td>3</td>\n",
       "      <td>3</td>\n",
       "      <td>3.000000</td>\n",
       "      <td>0.000000</td>\n",
       "      <td>3</td>\n",
       "    </tr>\n",
       "    <tr>\n",
       "      <th>1</th>\n",
       "      <td>0x3b9acc6c</td>\n",
       "      <td>1229.22</td>\n",
       "      <td>1228.03</td>\n",
       "      <td>1228.426667</td>\n",
       "      <td>0.687047</td>\n",
       "      <td>2</td>\n",
       "      <td>2</td>\n",
       "      <td>2.000000</td>\n",
       "      <td>0.000000</td>\n",
       "      <td>3</td>\n",
       "    </tr>\n",
       "    <tr>\n",
       "      <th>2</th>\n",
       "      <td>0x3b9acc87</td>\n",
       "      <td>100009.58</td>\n",
       "      <td>100009.58</td>\n",
       "      <td>100009.580000</td>\n",
       "      <td>0.000000</td>\n",
       "      <td>3</td>\n",
       "      <td>3</td>\n",
       "      <td>3.000000</td>\n",
       "      <td>0.000000</td>\n",
       "      <td>3</td>\n",
       "    </tr>\n",
       "    <tr>\n",
       "      <th>3</th>\n",
       "      <td>0x3b9acca4</td>\n",
       "      <td>32440.72</td>\n",
       "      <td>32429.52</td>\n",
       "      <td>32433.253333</td>\n",
       "      <td>6.466323</td>\n",
       "      <td>4</td>\n",
       "      <td>4</td>\n",
       "      <td>4.000000</td>\n",
       "      <td>0.000000</td>\n",
       "      <td>3</td>\n",
       "    </tr>\n",
       "    <tr>\n",
       "      <th>4</th>\n",
       "      <td>0x3b9accb7</td>\n",
       "      <td>4155.11</td>\n",
       "      <td>4151.08</td>\n",
       "      <td>4152.423333</td>\n",
       "      <td>2.326722</td>\n",
       "      <td>1</td>\n",
       "      <td>1</td>\n",
       "      <td>1.000000</td>\n",
       "      <td>0.000000</td>\n",
       "      <td>3</td>\n",
       "    </tr>\n",
       "    <tr>\n",
       "      <th>...</th>\n",
       "      <td>...</td>\n",
       "      <td>...</td>\n",
       "      <td>...</td>\n",
       "      <td>...</td>\n",
       "      <td>...</td>\n",
       "      <td>...</td>\n",
       "      <td>...</td>\n",
       "      <td>...</td>\n",
       "      <td>...</td>\n",
       "      <td>...</td>\n",
       "    </tr>\n",
       "    <tr>\n",
       "      <th>222003</th>\n",
       "      <td>0xb2daa389</td>\n",
       "      <td>280023.64</td>\n",
       "      <td>280000.00</td>\n",
       "      <td>280007.880000</td>\n",
       "      <td>13.648560</td>\n",
       "      <td>2</td>\n",
       "      <td>2</td>\n",
       "      <td>2.000000</td>\n",
       "      <td>0.000000</td>\n",
       "      <td>1</td>\n",
       "    </tr>\n",
       "    <tr>\n",
       "      <th>222004</th>\n",
       "      <td>0xb2daa38e</td>\n",
       "      <td>110005.49</td>\n",
       "      <td>30000.00</td>\n",
       "      <td>70001.830000</td>\n",
       "      <td>40002.745031</td>\n",
       "      <td>8</td>\n",
       "      <td>3</td>\n",
       "      <td>5.666667</td>\n",
       "      <td>2.516611</td>\n",
       "      <td>1</td>\n",
       "    </tr>\n",
       "    <tr>\n",
       "      <th>222005</th>\n",
       "      <td>0xb2daa38f</td>\n",
       "      <td>201421.04</td>\n",
       "      <td>200000.00</td>\n",
       "      <td>200710.486667</td>\n",
       "      <td>710.520002</td>\n",
       "      <td>2</td>\n",
       "      <td>2</td>\n",
       "      <td>2.000000</td>\n",
       "      <td>0.000000</td>\n",
       "      <td>1</td>\n",
       "    </tr>\n",
       "    <tr>\n",
       "      <th>222006</th>\n",
       "      <td>0xb2daa390</td>\n",
       "      <td>50004.01</td>\n",
       "      <td>50000.00</td>\n",
       "      <td>50001.336667</td>\n",
       "      <td>2.315175</td>\n",
       "      <td>2</td>\n",
       "      <td>2</td>\n",
       "      <td>2.000000</td>\n",
       "      <td>0.000000</td>\n",
       "      <td>1</td>\n",
       "    </tr>\n",
       "    <tr>\n",
       "      <th>222007</th>\n",
       "      <td>0xb2daa393</td>\n",
       "      <td>401433.50</td>\n",
       "      <td>45181.36</td>\n",
       "      <td>271677.426667</td>\n",
       "      <td>196844.777798</td>\n",
       "      <td>3</td>\n",
       "      <td>1</td>\n",
       "      <td>2.000000</td>\n",
       "      <td>1.000000</td>\n",
       "      <td>1</td>\n",
       "    </tr>\n",
       "  </tbody>\n",
       "</table>\n",
       "<p>222008 rows × 10 columns</p>\n",
       "</div>"
      ],
      "text/plain": [
       "           cust_no     C1_max     C1_min        C1_mean         C1_std  \\\n",
       "0       0x3b9acb2b    4757.48    2620.49    3778.600000    1079.710197   \n",
       "1       0x3b9acc6c    1229.22    1228.03    1228.426667       0.687047   \n",
       "2       0x3b9acc87  100009.58  100009.58  100009.580000       0.000000   \n",
       "3       0x3b9acca4   32440.72   32429.52   32433.253333       6.466323   \n",
       "4       0x3b9accb7    4155.11    4151.08    4152.423333       2.326722   \n",
       "...            ...        ...        ...            ...            ...   \n",
       "222003  0xb2daa389  280023.64  280000.00  280007.880000      13.648560   \n",
       "222004  0xb2daa38e  110005.49   30000.00   70001.830000   40002.745031   \n",
       "222005  0xb2daa38f  201421.04  200000.00  200710.486667     710.520002   \n",
       "222006  0xb2daa390   50004.01   50000.00   50001.336667       2.315175   \n",
       "222007  0xb2daa393  401433.50   45181.36  271677.426667  196844.777798   \n",
       "\n",
       "        C2_max  C2_min   C2_mean    C2_std  Q  \n",
       "0            3       3  3.000000  0.000000  3  \n",
       "1            2       2  2.000000  0.000000  3  \n",
       "2            3       3  3.000000  0.000000  3  \n",
       "3            4       4  4.000000  0.000000  3  \n",
       "4            1       1  1.000000  0.000000  3  \n",
       "...        ...     ...       ...       ... ..  \n",
       "222003       2       2  2.000000  0.000000  1  \n",
       "222004       8       3  5.666667  2.516611  1  \n",
       "222005       2       2  2.000000  0.000000  1  \n",
       "222006       2       2  2.000000  0.000000  1  \n",
       "222007       3       1  2.000000  1.000000  1  \n",
       "\n",
       "[222008 rows x 10 columns]"
      ]
     },
     "execution_count": 72,
     "metadata": {},
     "output_type": "execute_result"
    }
   ],
   "source": [
    "cunkuan_stat"
   ]
  },
  {
   "cell_type": "code",
   "execution_count": 73,
   "metadata": {
    "ExecuteTime": {
     "end_time": "2020-12-26T14:23:31.759809Z",
     "start_time": "2020-12-26T14:23:31.698009Z"
    }
   },
   "outputs": [
    {
     "data": {
      "text/plain": [
       "40"
      ]
     },
     "execution_count": 73,
     "metadata": {},
     "output_type": "execute_result"
    }
   ],
   "source": [
    "del cunkuan_m7,cunkuan_m8,cunkuan_m9,cunkuan_m10,cunkuan_m11,cunkuan_m12,cunkuan_m1,cunkuan_m2,cunkuan_m3\n",
    "gc.collect()"
   ]
  },
  {
   "cell_type": "markdown",
   "metadata": {},
   "source": [
    "## big_event"
   ]
  },
  {
   "cell_type": "code",
   "execution_count": 74,
   "metadata": {
    "ExecuteTime": {
     "end_time": "2020-12-26T14:23:31.766786Z",
     "start_time": "2020-12-26T14:23:31.761792Z"
    }
   },
   "outputs": [],
   "source": [
    "#big_even中有一些时间信息和E15E18两个金额信息"
   ]
  },
  {
   "cell_type": "code",
   "execution_count": 75,
   "metadata": {
    "ExecuteTime": {
     "end_time": "2020-12-26T14:23:31.775747Z",
     "start_time": "2020-12-26T14:23:31.767771Z"
    }
   },
   "outputs": [],
   "source": [
    "#由于线上表现不好，所有的时间信息都没有加入其中"
   ]
  },
  {
   "cell_type": "code",
   "execution_count": 76,
   "metadata": {
    "ExecuteTime": {
     "end_time": "2020-12-26T14:23:35.327692Z",
     "start_time": "2020-12-26T14:23:31.776741Z"
    }
   },
   "outputs": [
    {
     "name": "stderr",
     "output_type": "stream",
     "text": [
      "D:\\ProgramData\\Anaconda3\\lib\\site-packages\\IPython\\core\\interactiveshell.py:3058: DtypeWarning: Columns (9) have mixed types.Specify dtype option on import or set low_memory=False.\n",
      "  interactivity=interactivity, compiler=compiler, result=result)\n"
     ]
    }
   ],
   "source": [
    "big_event_Q1 = pd.read_csv('./raw/big_event_Q1.csv')\n",
    "big_event_Q3 = pd.read_csv('./raw/big_event_Q3.csv')\n",
    "big_event_Q4 = pd.read_csv('./raw/big_event_Q4.csv')\n",
    "\n",
    "big_event_Q3 = big_event_Q3[big_event_Q3.cust_no.isin(cust_avli_Q3.cust_no)].reset_index(drop=True)\n",
    "big_event_Q4 = big_event_Q4[big_event_Q4.cust_no.isin(cust_avli_Q4.cust_no)].reset_index(drop=True)\n",
    "big_event_Q1 = big_event_Q1[big_event_Q1.cust_no.isin(cust_avli_Q1.cust_no)].reset_index(drop=True)\n",
    "\n",
    "Q3_time = datetime.datetime.strptime('2019-09-30', '%Y-%m-%d')\n",
    "Q4_time = datetime.datetime.strptime('2019-12-31', '%Y-%m-%d')\n",
    "Q1_time = datetime.datetime.strptime('2020-03-31', '%Y-%m-%d')"
   ]
  },
  {
   "cell_type": "code",
   "execution_count": 77,
   "metadata": {
    "ExecuteTime": {
     "end_time": "2020-12-26T14:23:35.372276Z",
     "start_time": "2020-12-26T14:23:35.330683Z"
    }
   },
   "outputs": [
    {
     "data": {
      "text/html": [
       "<div>\n",
       "<style scoped>\n",
       "    .dataframe tbody tr th:only-of-type {\n",
       "        vertical-align: middle;\n",
       "    }\n",
       "\n",
       "    .dataframe tbody tr th {\n",
       "        vertical-align: top;\n",
       "    }\n",
       "\n",
       "    .dataframe thead th {\n",
       "        text-align: right;\n",
       "    }\n",
       "</style>\n",
       "<table border=\"1\" class=\"dataframe\">\n",
       "  <thead>\n",
       "    <tr style=\"text-align: right;\">\n",
       "      <th></th>\n",
       "      <th>cust_no</th>\n",
       "      <th>E1</th>\n",
       "      <th>E2</th>\n",
       "      <th>E3</th>\n",
       "      <th>E4</th>\n",
       "      <th>E5</th>\n",
       "      <th>E6</th>\n",
       "      <th>E7</th>\n",
       "      <th>E8</th>\n",
       "      <th>E9</th>\n",
       "      <th>E10</th>\n",
       "      <th>E11</th>\n",
       "      <th>E12</th>\n",
       "      <th>E13</th>\n",
       "      <th>E14</th>\n",
       "      <th>E15</th>\n",
       "      <th>E16</th>\n",
       "      <th>E17</th>\n",
       "      <th>E18</th>\n",
       "    </tr>\n",
       "  </thead>\n",
       "  <tbody>\n",
       "    <tr>\n",
       "      <th>0</th>\n",
       "      <td>0xb2d191e3</td>\n",
       "      <td>2016-03-19</td>\n",
       "      <td>2016-03-19</td>\n",
       "      <td>2016-03-19</td>\n",
       "      <td>2016-03-20</td>\n",
       "      <td>2016-03-20</td>\n",
       "      <td>2018-11-22</td>\n",
       "      <td>NaN</td>\n",
       "      <td>NaN</td>\n",
       "      <td>NaN</td>\n",
       "      <td>2016-04-27</td>\n",
       "      <td>NaN</td>\n",
       "      <td>NaN</td>\n",
       "      <td>NaN</td>\n",
       "      <td>2016-08-18</td>\n",
       "      <td>50000.0</td>\n",
       "      <td>2017-11-07</td>\n",
       "      <td>420000.0</td>\n",
       "      <td>2017-12-20</td>\n",
       "    </tr>\n",
       "    <tr>\n",
       "      <th>1</th>\n",
       "      <td>0xb2d5d46a</td>\n",
       "      <td>2018-11-01</td>\n",
       "      <td>2018-11-01</td>\n",
       "      <td>2018-11-01</td>\n",
       "      <td>2018-11-02</td>\n",
       "      <td>2019-12-27</td>\n",
       "      <td>2020-01-03</td>\n",
       "      <td>NaN</td>\n",
       "      <td>NaN</td>\n",
       "      <td>NaN</td>\n",
       "      <td>2020-03-20</td>\n",
       "      <td>NaN</td>\n",
       "      <td>NaN</td>\n",
       "      <td>2020-01-06</td>\n",
       "      <td>NaN</td>\n",
       "      <td>900180.0</td>\n",
       "      <td>2020-01-06</td>\n",
       "      <td>900000.0</td>\n",
       "      <td>2019-12-30</td>\n",
       "    </tr>\n",
       "    <tr>\n",
       "      <th>2</th>\n",
       "      <td>0xb2d98fa3</td>\n",
       "      <td>2019-10-11</td>\n",
       "      <td>2019-10-11</td>\n",
       "      <td>2019-10-11</td>\n",
       "      <td>2019-11-08</td>\n",
       "      <td>2019-10-11</td>\n",
       "      <td>2019-11-08</td>\n",
       "      <td>NaN</td>\n",
       "      <td>NaN</td>\n",
       "      <td>NaN</td>\n",
       "      <td>2020-03-30</td>\n",
       "      <td>NaN</td>\n",
       "      <td>NaN</td>\n",
       "      <td>NaN</td>\n",
       "      <td>NaN</td>\n",
       "      <td>0.0</td>\n",
       "      <td>NaN</td>\n",
       "      <td>0.0</td>\n",
       "      <td>NaN</td>\n",
       "    </tr>\n",
       "    <tr>\n",
       "      <th>3</th>\n",
       "      <td>0xb2d38adc</td>\n",
       "      <td>2017-11-10</td>\n",
       "      <td>2017-11-10</td>\n",
       "      <td>2017-11-10</td>\n",
       "      <td>NaN</td>\n",
       "      <td>2017-11-12</td>\n",
       "      <td>2018-09-24</td>\n",
       "      <td>NaN</td>\n",
       "      <td>2017-11-23</td>\n",
       "      <td>NaN</td>\n",
       "      <td>2020-03-20</td>\n",
       "      <td>NaN</td>\n",
       "      <td>NaN</td>\n",
       "      <td>NaN</td>\n",
       "      <td>NaN</td>\n",
       "      <td>500000.0</td>\n",
       "      <td>2017-11-24</td>\n",
       "      <td>500000.0</td>\n",
       "      <td>NaN</td>\n",
       "    </tr>\n",
       "    <tr>\n",
       "      <th>4</th>\n",
       "      <td>0xb2d32c86</td>\n",
       "      <td>2017-08-24</td>\n",
       "      <td>2017-08-24</td>\n",
       "      <td>2017-08-24</td>\n",
       "      <td>2018-04-25</td>\n",
       "      <td>2018-01-13</td>\n",
       "      <td>2019-03-12</td>\n",
       "      <td>NaN</td>\n",
       "      <td>NaN</td>\n",
       "      <td>NaN</td>\n",
       "      <td>2017-11-19</td>\n",
       "      <td>NaN</td>\n",
       "      <td>NaN</td>\n",
       "      <td>2019-03-13</td>\n",
       "      <td>NaN</td>\n",
       "      <td>30000.0</td>\n",
       "      <td>2019-03-13</td>\n",
       "      <td>30000.0</td>\n",
       "      <td>2019-03-13</td>\n",
       "    </tr>\n",
       "    <tr>\n",
       "      <th>...</th>\n",
       "      <td>...</td>\n",
       "      <td>...</td>\n",
       "      <td>...</td>\n",
       "      <td>...</td>\n",
       "      <td>...</td>\n",
       "      <td>...</td>\n",
       "      <td>...</td>\n",
       "      <td>...</td>\n",
       "      <td>...</td>\n",
       "      <td>...</td>\n",
       "      <td>...</td>\n",
       "      <td>...</td>\n",
       "      <td>...</td>\n",
       "      <td>...</td>\n",
       "      <td>...</td>\n",
       "      <td>...</td>\n",
       "      <td>...</td>\n",
       "      <td>...</td>\n",
       "      <td>...</td>\n",
       "    </tr>\n",
       "    <tr>\n",
       "      <th>76717</th>\n",
       "      <td>0xb2d61b6c</td>\n",
       "      <td>2018-12-17</td>\n",
       "      <td>2018-12-17</td>\n",
       "      <td>2018-12-17</td>\n",
       "      <td>NaN</td>\n",
       "      <td>2019-02-16</td>\n",
       "      <td>2019-11-18</td>\n",
       "      <td>NaN</td>\n",
       "      <td>NaN</td>\n",
       "      <td>NaN</td>\n",
       "      <td>2020-03-30</td>\n",
       "      <td>NaN</td>\n",
       "      <td>2019-06-19</td>\n",
       "      <td>NaN</td>\n",
       "      <td>2019-08-09</td>\n",
       "      <td>0.0</td>\n",
       "      <td>NaN</td>\n",
       "      <td>0.0</td>\n",
       "      <td>NaN</td>\n",
       "    </tr>\n",
       "    <tr>\n",
       "      <th>76718</th>\n",
       "      <td>0xb2da04b2</td>\n",
       "      <td>2019-11-28</td>\n",
       "      <td>2019-11-28</td>\n",
       "      <td>2019-11-28</td>\n",
       "      <td>NaN</td>\n",
       "      <td>NaN</td>\n",
       "      <td>2020-02-24</td>\n",
       "      <td>NaN</td>\n",
       "      <td>NaN</td>\n",
       "      <td>NaN</td>\n",
       "      <td>2020-03-30</td>\n",
       "      <td>NaN</td>\n",
       "      <td>2019-12-16</td>\n",
       "      <td>NaN</td>\n",
       "      <td>NaN</td>\n",
       "      <td>0.0</td>\n",
       "      <td>NaN</td>\n",
       "      <td>0.0</td>\n",
       "      <td>NaN</td>\n",
       "    </tr>\n",
       "    <tr>\n",
       "      <th>76719</th>\n",
       "      <td>0xb2d40589</td>\n",
       "      <td>2018-02-01</td>\n",
       "      <td>2018-02-01</td>\n",
       "      <td>2018-02-01</td>\n",
       "      <td>2018-02-01</td>\n",
       "      <td>NaN</td>\n",
       "      <td>2018-08-01</td>\n",
       "      <td>NaN</td>\n",
       "      <td>NaN</td>\n",
       "      <td>NaN</td>\n",
       "      <td>2018-05-14</td>\n",
       "      <td>NaN</td>\n",
       "      <td>NaN</td>\n",
       "      <td>NaN</td>\n",
       "      <td>NaN</td>\n",
       "      <td>0.0</td>\n",
       "      <td>NaN</td>\n",
       "      <td>0.0</td>\n",
       "      <td>NaN</td>\n",
       "    </tr>\n",
       "    <tr>\n",
       "      <th>76720</th>\n",
       "      <td>0xb2d6812c</td>\n",
       "      <td>2019-02-22</td>\n",
       "      <td>2019-02-22</td>\n",
       "      <td>2019-02-22</td>\n",
       "      <td>NaN</td>\n",
       "      <td>2019-03-19</td>\n",
       "      <td>2019-09-25</td>\n",
       "      <td>NaN</td>\n",
       "      <td>NaN</td>\n",
       "      <td>NaN</td>\n",
       "      <td>2019-10-24</td>\n",
       "      <td>NaN</td>\n",
       "      <td>NaN</td>\n",
       "      <td>NaN</td>\n",
       "      <td>NaN</td>\n",
       "      <td>0.0</td>\n",
       "      <td>NaN</td>\n",
       "      <td>0.0</td>\n",
       "      <td>NaN</td>\n",
       "    </tr>\n",
       "    <tr>\n",
       "      <th>76721</th>\n",
       "      <td>0xb2d99c7f</td>\n",
       "      <td>2019-10-16</td>\n",
       "      <td>2019-10-16</td>\n",
       "      <td>2019-10-16</td>\n",
       "      <td>2019-10-16</td>\n",
       "      <td>2019-10-17</td>\n",
       "      <td>2019-10-16</td>\n",
       "      <td>NaN</td>\n",
       "      <td>NaN</td>\n",
       "      <td>NaN</td>\n",
       "      <td>2019-12-20</td>\n",
       "      <td>NaN</td>\n",
       "      <td>NaN</td>\n",
       "      <td>NaN</td>\n",
       "      <td>NaN</td>\n",
       "      <td>0.0</td>\n",
       "      <td>NaN</td>\n",
       "      <td>0.0</td>\n",
       "      <td>NaN</td>\n",
       "    </tr>\n",
       "  </tbody>\n",
       "</table>\n",
       "<p>76722 rows × 19 columns</p>\n",
       "</div>"
      ],
      "text/plain": [
       "          cust_no          E1          E2          E3          E4          E5  \\\n",
       "0      0xb2d191e3  2016-03-19  2016-03-19  2016-03-19  2016-03-20  2016-03-20   \n",
       "1      0xb2d5d46a  2018-11-01  2018-11-01  2018-11-01  2018-11-02  2019-12-27   \n",
       "2      0xb2d98fa3  2019-10-11  2019-10-11  2019-10-11  2019-11-08  2019-10-11   \n",
       "3      0xb2d38adc  2017-11-10  2017-11-10  2017-11-10         NaN  2017-11-12   \n",
       "4      0xb2d32c86  2017-08-24  2017-08-24  2017-08-24  2018-04-25  2018-01-13   \n",
       "...           ...         ...         ...         ...         ...         ...   \n",
       "76717  0xb2d61b6c  2018-12-17  2018-12-17  2018-12-17         NaN  2019-02-16   \n",
       "76718  0xb2da04b2  2019-11-28  2019-11-28  2019-11-28         NaN         NaN   \n",
       "76719  0xb2d40589  2018-02-01  2018-02-01  2018-02-01  2018-02-01         NaN   \n",
       "76720  0xb2d6812c  2019-02-22  2019-02-22  2019-02-22         NaN  2019-03-19   \n",
       "76721  0xb2d99c7f  2019-10-16  2019-10-16  2019-10-16  2019-10-16  2019-10-17   \n",
       "\n",
       "               E6   E7          E8   E9         E10  E11         E12  \\\n",
       "0      2018-11-22  NaN         NaN  NaN  2016-04-27  NaN         NaN   \n",
       "1      2020-01-03  NaN         NaN  NaN  2020-03-20  NaN         NaN   \n",
       "2      2019-11-08  NaN         NaN  NaN  2020-03-30  NaN         NaN   \n",
       "3      2018-09-24  NaN  2017-11-23  NaN  2020-03-20  NaN         NaN   \n",
       "4      2019-03-12  NaN         NaN  NaN  2017-11-19  NaN         NaN   \n",
       "...           ...  ...         ...  ...         ...  ...         ...   \n",
       "76717  2019-11-18  NaN         NaN  NaN  2020-03-30  NaN  2019-06-19   \n",
       "76718  2020-02-24  NaN         NaN  NaN  2020-03-30  NaN  2019-12-16   \n",
       "76719  2018-08-01  NaN         NaN  NaN  2018-05-14  NaN         NaN   \n",
       "76720  2019-09-25  NaN         NaN  NaN  2019-10-24  NaN         NaN   \n",
       "76721  2019-10-16  NaN         NaN  NaN  2019-12-20  NaN         NaN   \n",
       "\n",
       "              E13         E14       E15         E16       E17         E18  \n",
       "0             NaN  2016-08-18   50000.0  2017-11-07  420000.0  2017-12-20  \n",
       "1      2020-01-06         NaN  900180.0  2020-01-06  900000.0  2019-12-30  \n",
       "2             NaN         NaN       0.0         NaN       0.0         NaN  \n",
       "3             NaN         NaN  500000.0  2017-11-24  500000.0         NaN  \n",
       "4      2019-03-13         NaN   30000.0  2019-03-13   30000.0  2019-03-13  \n",
       "...           ...         ...       ...         ...       ...         ...  \n",
       "76717         NaN  2019-08-09       0.0         NaN       0.0         NaN  \n",
       "76718         NaN         NaN       0.0         NaN       0.0         NaN  \n",
       "76719         NaN         NaN       0.0         NaN       0.0         NaN  \n",
       "76720         NaN         NaN       0.0         NaN       0.0         NaN  \n",
       "76721         NaN         NaN       0.0         NaN       0.0         NaN  \n",
       "\n",
       "[76722 rows x 19 columns]"
      ]
     },
     "execution_count": 77,
     "metadata": {},
     "output_type": "execute_result"
    }
   ],
   "source": [
    "big_event_Q1"
   ]
  },
  {
   "cell_type": "code",
   "execution_count": 78,
   "metadata": {
    "ExecuteTime": {
     "end_time": "2020-12-26T14:23:35.441045Z",
     "start_time": "2020-12-26T14:23:35.373273Z"
    }
   },
   "outputs": [
    {
     "name": "stdout",
     "output_type": "stream",
     "text": [
      "<class 'pandas.core.frame.DataFrame'>\n",
      "RangeIndex: 76722 entries, 0 to 76721\n",
      "Data columns (total 19 columns):\n",
      " #   Column   Non-Null Count  Dtype  \n",
      "---  ------   --------------  -----  \n",
      " 0   cust_no  76722 non-null  object \n",
      " 1   E1       76722 non-null  object \n",
      " 2   E2       73833 non-null  object \n",
      " 3   E3       73833 non-null  object \n",
      " 4   E4       32035 non-null  object \n",
      " 5   E5       48601 non-null  object \n",
      " 6   E6       74923 non-null  object \n",
      " 7   E7       2433 non-null   object \n",
      " 8   E8       9453 non-null   object \n",
      " 9   E9       103 non-null    object \n",
      " 10  E10      76133 non-null  object \n",
      " 11  E11      0 non-null      float64\n",
      " 12  E12      14232 non-null  object \n",
      " 13  E13      9021 non-null   object \n",
      " 14  E14      31281 non-null  object \n",
      " 15  E15      76722 non-null  float64\n",
      " 16  E16      41846 non-null  object \n",
      " 17  E17      76722 non-null  float64\n",
      " 18  E18      44468 non-null  object \n",
      "dtypes: float64(3), object(16)\n",
      "memory usage: 11.1+ MB\n"
     ]
    }
   ],
   "source": [
    "big_event_Q1.info(1)"
   ]
  },
  {
   "cell_type": "code",
   "execution_count": 79,
   "metadata": {
    "ExecuteTime": {
     "end_time": "2020-12-26T14:23:35.447026Z",
     "start_time": "2020-12-26T14:23:35.442041Z"
    }
   },
   "outputs": [],
   "source": [
    "def datetimetoint(time,a):\n",
    "    return (time - a.astype('datetime64[ns]')).astype('timedelta64[D]')"
   ]
  },
  {
   "cell_type": "code",
   "execution_count": 80,
   "metadata": {
    "ExecuteTime": {
     "end_time": "2020-12-26T14:23:36.645405Z",
     "start_time": "2020-12-26T14:23:35.449021Z"
    }
   },
   "outputs": [
    {
     "name": "stdout",
     "output_type": "stream",
     "text": [
      "E1\n",
      "E2\n",
      "E3\n",
      "E4\n",
      "E5\n",
      "E6\n",
      "E7\n",
      "E8\n",
      "E9\n",
      "E10\n",
      "E12\n",
      "E13\n",
      "E14\n",
      "E16\n",
      "E18\n",
      "E1\n",
      "E2\n",
      "E3\n",
      "E4\n",
      "E5\n",
      "E6\n",
      "E7\n",
      "E8\n",
      "E9\n",
      "E10\n",
      "E12\n",
      "E13\n",
      "E14\n",
      "E16\n",
      "E18\n",
      "E1\n",
      "E2\n",
      "E3\n",
      "E4\n",
      "E5\n",
      "E6\n",
      "E7\n",
      "E8\n",
      "E9\n",
      "E10\n",
      "E12\n",
      "E13\n",
      "E14\n",
      "E16\n",
      "E18\n"
     ]
    }
   ],
   "source": [
    "for col in ['E1', 'E2', 'E3', 'E4', 'E5', 'E6', 'E7', 'E8', 'E9', 'E10', 'E12', 'E13', 'E14', 'E16', 'E18']:\n",
    "    print(col)\n",
    "    big_event_Q3[col] = datetimetoint(Q3_time,big_event_Q3[col]) > 90\n",
    "for col in ['E1', 'E2', 'E3', 'E4', 'E5', 'E6', 'E7', 'E8', 'E9', 'E10', 'E12', 'E13', 'E14', 'E16', 'E18']:\n",
    "    print(col)\n",
    "    big_event_Q4[col] = datetimetoint(Q4_time,big_event_Q4[col]) > 90\n",
    "for col in ['E1', 'E2', 'E3', 'E4', 'E5', 'E6', 'E7', 'E8', 'E9', 'E10', 'E12', 'E13', 'E14', 'E16', 'E18']:\n",
    "    print(col)\n",
    "    big_event_Q1[col] = datetimetoint(Q1_time,big_event_Q1[col]) > 90"
   ]
  },
  {
   "cell_type": "code",
   "execution_count": 81,
   "metadata": {
    "ExecuteTime": {
     "end_time": "2020-12-26T14:23:36.676500Z",
     "start_time": "2020-12-26T14:23:36.647354Z"
    }
   },
   "outputs": [],
   "source": [
    "big_event_Q1['Q'] = 1\n",
    "big_event_Q3['Q'] = 3\n",
    "big_event_Q4['Q'] = 4\n",
    "big_event = pd.concat([big_event_Q3,big_event_Q4,big_event_Q1],axis=0,ignore_index=True)"
   ]
  },
  {
   "cell_type": "code",
   "execution_count": 82,
   "metadata": {
    "ExecuteTime": {
     "end_time": "2020-12-26T14:23:36.707432Z",
     "start_time": "2020-12-26T14:23:36.677496Z"
    }
   },
   "outputs": [
    {
     "data": {
      "text/html": [
       "<div>\n",
       "<style scoped>\n",
       "    .dataframe tbody tr th:only-of-type {\n",
       "        vertical-align: middle;\n",
       "    }\n",
       "\n",
       "    .dataframe tbody tr th {\n",
       "        vertical-align: top;\n",
       "    }\n",
       "\n",
       "    .dataframe thead th {\n",
       "        text-align: right;\n",
       "    }\n",
       "</style>\n",
       "<table border=\"1\" class=\"dataframe\">\n",
       "  <thead>\n",
       "    <tr style=\"text-align: right;\">\n",
       "      <th></th>\n",
       "      <th>cust_no</th>\n",
       "      <th>E1</th>\n",
       "      <th>E2</th>\n",
       "      <th>E3</th>\n",
       "      <th>E4</th>\n",
       "      <th>E5</th>\n",
       "      <th>E6</th>\n",
       "      <th>E7</th>\n",
       "      <th>E8</th>\n",
       "      <th>E9</th>\n",
       "      <th>E10</th>\n",
       "      <th>E11</th>\n",
       "      <th>E12</th>\n",
       "      <th>E13</th>\n",
       "      <th>E14</th>\n",
       "      <th>E15</th>\n",
       "      <th>E16</th>\n",
       "      <th>E17</th>\n",
       "      <th>E18</th>\n",
       "      <th>Q</th>\n",
       "    </tr>\n",
       "  </thead>\n",
       "  <tbody>\n",
       "    <tr>\n",
       "      <th>0</th>\n",
       "      <td>0xb2d191e3</td>\n",
       "      <td>True</td>\n",
       "      <td>True</td>\n",
       "      <td>True</td>\n",
       "      <td>True</td>\n",
       "      <td>True</td>\n",
       "      <td>True</td>\n",
       "      <td>False</td>\n",
       "      <td>False</td>\n",
       "      <td>False</td>\n",
       "      <td>True</td>\n",
       "      <td>NaN</td>\n",
       "      <td>False</td>\n",
       "      <td>False</td>\n",
       "      <td>True</td>\n",
       "      <td>50000.0</td>\n",
       "      <td>True</td>\n",
       "      <td>420000.0</td>\n",
       "      <td>True</td>\n",
       "      <td>1</td>\n",
       "    </tr>\n",
       "    <tr>\n",
       "      <th>1</th>\n",
       "      <td>0xb2d5d46a</td>\n",
       "      <td>True</td>\n",
       "      <td>True</td>\n",
       "      <td>True</td>\n",
       "      <td>True</td>\n",
       "      <td>True</td>\n",
       "      <td>False</td>\n",
       "      <td>False</td>\n",
       "      <td>False</td>\n",
       "      <td>False</td>\n",
       "      <td>False</td>\n",
       "      <td>NaN</td>\n",
       "      <td>False</td>\n",
       "      <td>False</td>\n",
       "      <td>False</td>\n",
       "      <td>900180.0</td>\n",
       "      <td>False</td>\n",
       "      <td>900000.0</td>\n",
       "      <td>True</td>\n",
       "      <td>1</td>\n",
       "    </tr>\n",
       "    <tr>\n",
       "      <th>2</th>\n",
       "      <td>0xb2d98fa3</td>\n",
       "      <td>True</td>\n",
       "      <td>True</td>\n",
       "      <td>True</td>\n",
       "      <td>True</td>\n",
       "      <td>True</td>\n",
       "      <td>True</td>\n",
       "      <td>False</td>\n",
       "      <td>False</td>\n",
       "      <td>False</td>\n",
       "      <td>False</td>\n",
       "      <td>NaN</td>\n",
       "      <td>False</td>\n",
       "      <td>False</td>\n",
       "      <td>False</td>\n",
       "      <td>0.0</td>\n",
       "      <td>False</td>\n",
       "      <td>0.0</td>\n",
       "      <td>False</td>\n",
       "      <td>1</td>\n",
       "    </tr>\n",
       "    <tr>\n",
       "      <th>3</th>\n",
       "      <td>0xb2d38adc</td>\n",
       "      <td>True</td>\n",
       "      <td>True</td>\n",
       "      <td>True</td>\n",
       "      <td>False</td>\n",
       "      <td>True</td>\n",
       "      <td>True</td>\n",
       "      <td>False</td>\n",
       "      <td>True</td>\n",
       "      <td>False</td>\n",
       "      <td>False</td>\n",
       "      <td>NaN</td>\n",
       "      <td>False</td>\n",
       "      <td>False</td>\n",
       "      <td>False</td>\n",
       "      <td>500000.0</td>\n",
       "      <td>True</td>\n",
       "      <td>500000.0</td>\n",
       "      <td>False</td>\n",
       "      <td>1</td>\n",
       "    </tr>\n",
       "    <tr>\n",
       "      <th>4</th>\n",
       "      <td>0xb2d32c86</td>\n",
       "      <td>True</td>\n",
       "      <td>True</td>\n",
       "      <td>True</td>\n",
       "      <td>True</td>\n",
       "      <td>True</td>\n",
       "      <td>True</td>\n",
       "      <td>False</td>\n",
       "      <td>False</td>\n",
       "      <td>False</td>\n",
       "      <td>True</td>\n",
       "      <td>NaN</td>\n",
       "      <td>False</td>\n",
       "      <td>True</td>\n",
       "      <td>False</td>\n",
       "      <td>30000.0</td>\n",
       "      <td>True</td>\n",
       "      <td>30000.0</td>\n",
       "      <td>True</td>\n",
       "      <td>1</td>\n",
       "    </tr>\n",
       "    <tr>\n",
       "      <th>...</th>\n",
       "      <td>...</td>\n",
       "      <td>...</td>\n",
       "      <td>...</td>\n",
       "      <td>...</td>\n",
       "      <td>...</td>\n",
       "      <td>...</td>\n",
       "      <td>...</td>\n",
       "      <td>...</td>\n",
       "      <td>...</td>\n",
       "      <td>...</td>\n",
       "      <td>...</td>\n",
       "      <td>...</td>\n",
       "      <td>...</td>\n",
       "      <td>...</td>\n",
       "      <td>...</td>\n",
       "      <td>...</td>\n",
       "      <td>...</td>\n",
       "      <td>...</td>\n",
       "      <td>...</td>\n",
       "      <td>...</td>\n",
       "    </tr>\n",
       "    <tr>\n",
       "      <th>76717</th>\n",
       "      <td>0xb2d61b6c</td>\n",
       "      <td>True</td>\n",
       "      <td>True</td>\n",
       "      <td>True</td>\n",
       "      <td>False</td>\n",
       "      <td>True</td>\n",
       "      <td>True</td>\n",
       "      <td>False</td>\n",
       "      <td>False</td>\n",
       "      <td>False</td>\n",
       "      <td>False</td>\n",
       "      <td>NaN</td>\n",
       "      <td>True</td>\n",
       "      <td>False</td>\n",
       "      <td>True</td>\n",
       "      <td>0.0</td>\n",
       "      <td>False</td>\n",
       "      <td>0.0</td>\n",
       "      <td>False</td>\n",
       "      <td>1</td>\n",
       "    </tr>\n",
       "    <tr>\n",
       "      <th>76718</th>\n",
       "      <td>0xb2da04b2</td>\n",
       "      <td>True</td>\n",
       "      <td>True</td>\n",
       "      <td>True</td>\n",
       "      <td>False</td>\n",
       "      <td>False</td>\n",
       "      <td>False</td>\n",
       "      <td>False</td>\n",
       "      <td>False</td>\n",
       "      <td>False</td>\n",
       "      <td>False</td>\n",
       "      <td>NaN</td>\n",
       "      <td>True</td>\n",
       "      <td>False</td>\n",
       "      <td>False</td>\n",
       "      <td>0.0</td>\n",
       "      <td>False</td>\n",
       "      <td>0.0</td>\n",
       "      <td>False</td>\n",
       "      <td>1</td>\n",
       "    </tr>\n",
       "    <tr>\n",
       "      <th>76719</th>\n",
       "      <td>0xb2d40589</td>\n",
       "      <td>True</td>\n",
       "      <td>True</td>\n",
       "      <td>True</td>\n",
       "      <td>True</td>\n",
       "      <td>False</td>\n",
       "      <td>True</td>\n",
       "      <td>False</td>\n",
       "      <td>False</td>\n",
       "      <td>False</td>\n",
       "      <td>True</td>\n",
       "      <td>NaN</td>\n",
       "      <td>False</td>\n",
       "      <td>False</td>\n",
       "      <td>False</td>\n",
       "      <td>0.0</td>\n",
       "      <td>False</td>\n",
       "      <td>0.0</td>\n",
       "      <td>False</td>\n",
       "      <td>1</td>\n",
       "    </tr>\n",
       "    <tr>\n",
       "      <th>76720</th>\n",
       "      <td>0xb2d6812c</td>\n",
       "      <td>True</td>\n",
       "      <td>True</td>\n",
       "      <td>True</td>\n",
       "      <td>False</td>\n",
       "      <td>True</td>\n",
       "      <td>True</td>\n",
       "      <td>False</td>\n",
       "      <td>False</td>\n",
       "      <td>False</td>\n",
       "      <td>True</td>\n",
       "      <td>NaN</td>\n",
       "      <td>False</td>\n",
       "      <td>False</td>\n",
       "      <td>False</td>\n",
       "      <td>0.0</td>\n",
       "      <td>False</td>\n",
       "      <td>0.0</td>\n",
       "      <td>False</td>\n",
       "      <td>1</td>\n",
       "    </tr>\n",
       "    <tr>\n",
       "      <th>76721</th>\n",
       "      <td>0xb2d99c7f</td>\n",
       "      <td>True</td>\n",
       "      <td>True</td>\n",
       "      <td>True</td>\n",
       "      <td>True</td>\n",
       "      <td>True</td>\n",
       "      <td>True</td>\n",
       "      <td>False</td>\n",
       "      <td>False</td>\n",
       "      <td>False</td>\n",
       "      <td>True</td>\n",
       "      <td>NaN</td>\n",
       "      <td>False</td>\n",
       "      <td>False</td>\n",
       "      <td>False</td>\n",
       "      <td>0.0</td>\n",
       "      <td>False</td>\n",
       "      <td>0.0</td>\n",
       "      <td>False</td>\n",
       "      <td>1</td>\n",
       "    </tr>\n",
       "  </tbody>\n",
       "</table>\n",
       "<p>76722 rows × 20 columns</p>\n",
       "</div>"
      ],
      "text/plain": [
       "          cust_no    E1    E2    E3     E4     E5     E6     E7     E8     E9  \\\n",
       "0      0xb2d191e3  True  True  True   True   True   True  False  False  False   \n",
       "1      0xb2d5d46a  True  True  True   True   True  False  False  False  False   \n",
       "2      0xb2d98fa3  True  True  True   True   True   True  False  False  False   \n",
       "3      0xb2d38adc  True  True  True  False   True   True  False   True  False   \n",
       "4      0xb2d32c86  True  True  True   True   True   True  False  False  False   \n",
       "...           ...   ...   ...   ...    ...    ...    ...    ...    ...    ...   \n",
       "76717  0xb2d61b6c  True  True  True  False   True   True  False  False  False   \n",
       "76718  0xb2da04b2  True  True  True  False  False  False  False  False  False   \n",
       "76719  0xb2d40589  True  True  True   True  False   True  False  False  False   \n",
       "76720  0xb2d6812c  True  True  True  False   True   True  False  False  False   \n",
       "76721  0xb2d99c7f  True  True  True   True   True   True  False  False  False   \n",
       "\n",
       "         E10  E11    E12    E13    E14       E15    E16       E17    E18  Q  \n",
       "0       True  NaN  False  False   True   50000.0   True  420000.0   True  1  \n",
       "1      False  NaN  False  False  False  900180.0  False  900000.0   True  1  \n",
       "2      False  NaN  False  False  False       0.0  False       0.0  False  1  \n",
       "3      False  NaN  False  False  False  500000.0   True  500000.0  False  1  \n",
       "4       True  NaN  False   True  False   30000.0   True   30000.0   True  1  \n",
       "...      ...  ...    ...    ...    ...       ...    ...       ...    ... ..  \n",
       "76717  False  NaN   True  False   True       0.0  False       0.0  False  1  \n",
       "76718  False  NaN   True  False  False       0.0  False       0.0  False  1  \n",
       "76719   True  NaN  False  False  False       0.0  False       0.0  False  1  \n",
       "76720   True  NaN  False  False  False       0.0  False       0.0  False  1  \n",
       "76721   True  NaN  False  False  False       0.0  False       0.0  False  1  \n",
       "\n",
       "[76722 rows x 20 columns]"
      ]
     },
     "execution_count": 82,
     "metadata": {},
     "output_type": "execute_result"
    }
   ],
   "source": [
    "big_event_Q1"
   ]
  },
  {
   "cell_type": "markdown",
   "metadata": {},
   "source": [
    "# 看一下"
   ]
  },
  {
   "cell_type": "code",
   "execution_count": 83,
   "metadata": {
    "ExecuteTime": {
     "end_time": "2020-12-26T14:23:36.717416Z",
     "start_time": "2020-12-26T14:23:36.708392Z"
    }
   },
   "outputs": [
    {
     "data": {
      "text/plain": [
       "4    76170\n",
       "3    69126\n",
       "Name: Q, dtype: int64"
      ]
     },
     "execution_count": 83,
     "metadata": {},
     "output_type": "execute_result"
    }
   ],
   "source": [
    "y.Q.value_counts()"
   ]
  },
  {
   "cell_type": "code",
   "execution_count": 84,
   "metadata": {
    "ExecuteTime": {
     "end_time": "2020-12-26T14:23:36.732313Z",
     "start_time": "2020-12-26T14:23:36.718412Z"
    }
   },
   "outputs": [
    {
     "data": {
      "text/plain": [
       "1    76722\n",
       "4    76170\n",
       "3    69126\n",
       "Name: Q, dtype: int64"
      ]
     },
     "execution_count": 84,
     "metadata": {},
     "output_type": "execute_result"
    }
   ],
   "source": [
    "cust_info.Q.value_counts()"
   ]
  },
  {
   "cell_type": "code",
   "execution_count": 85,
   "metadata": {
    "ExecuteTime": {
     "end_time": "2020-12-26T14:23:36.740295Z",
     "start_time": "2020-12-26T14:23:36.734306Z"
    }
   },
   "outputs": [
    {
     "data": {
      "text/plain": [
       "1    76722\n",
       "4    76170\n",
       "3    69126\n",
       "Name: Q, dtype: int64"
      ]
     },
     "execution_count": 85,
     "metadata": {},
     "output_type": "execute_result"
    }
   ],
   "source": [
    "aum.Q.value_counts()"
   ]
  },
  {
   "cell_type": "code",
   "execution_count": 86,
   "metadata": {
    "ExecuteTime": {
     "end_time": "2020-12-26T14:23:36.751253Z",
     "start_time": "2020-12-26T14:23:36.741282Z"
    }
   },
   "outputs": [
    {
     "data": {
      "text/plain": [
       "1    76722\n",
       "4    76170\n",
       "3    69126\n",
       "Name: Q, dtype: int64"
      ]
     },
     "execution_count": 86,
     "metadata": {},
     "output_type": "execute_result"
    }
   ],
   "source": [
    "behavior.Q.value_counts()"
   ]
  },
  {
   "cell_type": "code",
   "execution_count": 87,
   "metadata": {
    "ExecuteTime": {
     "end_time": "2020-12-26T14:23:36.766211Z",
     "start_time": "2020-12-26T14:23:36.752245Z"
    }
   },
   "outputs": [
    {
     "data": {
      "text/plain": [
       "1    76719\n",
       "4    76167\n",
       "3    69122\n",
       "Name: Q, dtype: int64"
      ]
     },
     "execution_count": 87,
     "metadata": {},
     "output_type": "execute_result"
    }
   ],
   "source": [
    "cunkuan.Q.value_counts()"
   ]
  },
  {
   "cell_type": "code",
   "execution_count": 88,
   "metadata": {
    "ExecuteTime": {
     "end_time": "2020-12-26T14:23:36.775204Z",
     "start_time": "2020-12-26T14:23:36.768193Z"
    }
   },
   "outputs": [
    {
     "data": {
      "text/plain": [
       "1    76722\n",
       "4    76170\n",
       "3    69126\n",
       "Name: Q, dtype: int64"
      ]
     },
     "execution_count": 88,
     "metadata": {},
     "output_type": "execute_result"
    }
   ],
   "source": [
    "big_event.Q.value_counts()"
   ]
  },
  {
   "cell_type": "code",
   "execution_count": 89,
   "metadata": {
    "ExecuteTime": {
     "end_time": "2020-12-26T14:23:36.809093Z",
     "start_time": "2020-12-26T14:23:36.776165Z"
    }
   },
   "outputs": [
    {
     "data": {
      "text/html": [
       "<div>\n",
       "<style scoped>\n",
       "    .dataframe tbody tr th:only-of-type {\n",
       "        vertical-align: middle;\n",
       "    }\n",
       "\n",
       "    .dataframe tbody tr th {\n",
       "        vertical-align: top;\n",
       "    }\n",
       "\n",
       "    .dataframe thead th {\n",
       "        text-align: right;\n",
       "    }\n",
       "</style>\n",
       "<table border=\"1\" class=\"dataframe\">\n",
       "  <thead>\n",
       "    <tr style=\"text-align: right;\">\n",
       "      <th></th>\n",
       "      <th>cust_no</th>\n",
       "      <th>E1</th>\n",
       "      <th>E2</th>\n",
       "      <th>E3</th>\n",
       "      <th>E4</th>\n",
       "      <th>E5</th>\n",
       "      <th>E6</th>\n",
       "      <th>E7</th>\n",
       "      <th>E8</th>\n",
       "      <th>E9</th>\n",
       "      <th>E10</th>\n",
       "      <th>E11</th>\n",
       "      <th>E12</th>\n",
       "      <th>E13</th>\n",
       "      <th>E14</th>\n",
       "      <th>E15</th>\n",
       "      <th>E16</th>\n",
       "      <th>E17</th>\n",
       "      <th>E18</th>\n",
       "      <th>Q</th>\n",
       "    </tr>\n",
       "  </thead>\n",
       "  <tbody>\n",
       "    <tr>\n",
       "      <th>0</th>\n",
       "      <td>0x3b9b0e20</td>\n",
       "      <td>True</td>\n",
       "      <td>True</td>\n",
       "      <td>True</td>\n",
       "      <td>False</td>\n",
       "      <td>True</td>\n",
       "      <td>True</td>\n",
       "      <td>False</td>\n",
       "      <td>False</td>\n",
       "      <td>False</td>\n",
       "      <td>True</td>\n",
       "      <td>NaN</td>\n",
       "      <td>True</td>\n",
       "      <td>False</td>\n",
       "      <td>True</td>\n",
       "      <td>590000.0</td>\n",
       "      <td>True</td>\n",
       "      <td>600000.0</td>\n",
       "      <td>True</td>\n",
       "      <td>3</td>\n",
       "    </tr>\n",
       "    <tr>\n",
       "      <th>1</th>\n",
       "      <td>0x3b9b29be</td>\n",
       "      <td>True</td>\n",
       "      <td>True</td>\n",
       "      <td>True</td>\n",
       "      <td>True</td>\n",
       "      <td>True</td>\n",
       "      <td>True</td>\n",
       "      <td>False</td>\n",
       "      <td>False</td>\n",
       "      <td>False</td>\n",
       "      <td>True</td>\n",
       "      <td>NaN</td>\n",
       "      <td>False</td>\n",
       "      <td>True</td>\n",
       "      <td>True</td>\n",
       "      <td>451500.0</td>\n",
       "      <td>True</td>\n",
       "      <td>400000.0</td>\n",
       "      <td>True</td>\n",
       "      <td>3</td>\n",
       "    </tr>\n",
       "    <tr>\n",
       "      <th>2</th>\n",
       "      <td>0x3b9b34f4</td>\n",
       "      <td>True</td>\n",
       "      <td>True</td>\n",
       "      <td>True</td>\n",
       "      <td>True</td>\n",
       "      <td>True</td>\n",
       "      <td>True</td>\n",
       "      <td>False</td>\n",
       "      <td>False</td>\n",
       "      <td>False</td>\n",
       "      <td>True</td>\n",
       "      <td>NaN</td>\n",
       "      <td>False</td>\n",
       "      <td>False</td>\n",
       "      <td>False</td>\n",
       "      <td>0.0</td>\n",
       "      <td>False</td>\n",
       "      <td>0.0</td>\n",
       "      <td>False</td>\n",
       "      <td>3</td>\n",
       "    </tr>\n",
       "    <tr>\n",
       "      <th>3</th>\n",
       "      <td>0x3b9b0e66</td>\n",
       "      <td>True</td>\n",
       "      <td>True</td>\n",
       "      <td>True</td>\n",
       "      <td>False</td>\n",
       "      <td>True</td>\n",
       "      <td>True</td>\n",
       "      <td>False</td>\n",
       "      <td>False</td>\n",
       "      <td>False</td>\n",
       "      <td>True</td>\n",
       "      <td>NaN</td>\n",
       "      <td>True</td>\n",
       "      <td>False</td>\n",
       "      <td>True</td>\n",
       "      <td>3541407.0</td>\n",
       "      <td>True</td>\n",
       "      <td>3541407.0</td>\n",
       "      <td>True</td>\n",
       "      <td>3</td>\n",
       "    </tr>\n",
       "    <tr>\n",
       "      <th>4</th>\n",
       "      <td>0x3b9b3dfa</td>\n",
       "      <td>True</td>\n",
       "      <td>True</td>\n",
       "      <td>True</td>\n",
       "      <td>True</td>\n",
       "      <td>True</td>\n",
       "      <td>True</td>\n",
       "      <td>False</td>\n",
       "      <td>False</td>\n",
       "      <td>False</td>\n",
       "      <td>True</td>\n",
       "      <td>NaN</td>\n",
       "      <td>True</td>\n",
       "      <td>True</td>\n",
       "      <td>True</td>\n",
       "      <td>780000.0</td>\n",
       "      <td>True</td>\n",
       "      <td>50000.0</td>\n",
       "      <td>True</td>\n",
       "      <td>3</td>\n",
       "    </tr>\n",
       "    <tr>\n",
       "      <th>...</th>\n",
       "      <td>...</td>\n",
       "      <td>...</td>\n",
       "      <td>...</td>\n",
       "      <td>...</td>\n",
       "      <td>...</td>\n",
       "      <td>...</td>\n",
       "      <td>...</td>\n",
       "      <td>...</td>\n",
       "      <td>...</td>\n",
       "      <td>...</td>\n",
       "      <td>...</td>\n",
       "      <td>...</td>\n",
       "      <td>...</td>\n",
       "      <td>...</td>\n",
       "      <td>...</td>\n",
       "      <td>...</td>\n",
       "      <td>...</td>\n",
       "      <td>...</td>\n",
       "      <td>...</td>\n",
       "      <td>...</td>\n",
       "    </tr>\n",
       "    <tr>\n",
       "      <th>222013</th>\n",
       "      <td>0xb2d61b6c</td>\n",
       "      <td>True</td>\n",
       "      <td>True</td>\n",
       "      <td>True</td>\n",
       "      <td>False</td>\n",
       "      <td>True</td>\n",
       "      <td>True</td>\n",
       "      <td>False</td>\n",
       "      <td>False</td>\n",
       "      <td>False</td>\n",
       "      <td>False</td>\n",
       "      <td>NaN</td>\n",
       "      <td>True</td>\n",
       "      <td>False</td>\n",
       "      <td>True</td>\n",
       "      <td>0.0</td>\n",
       "      <td>False</td>\n",
       "      <td>0.0</td>\n",
       "      <td>False</td>\n",
       "      <td>1</td>\n",
       "    </tr>\n",
       "    <tr>\n",
       "      <th>222014</th>\n",
       "      <td>0xb2da04b2</td>\n",
       "      <td>True</td>\n",
       "      <td>True</td>\n",
       "      <td>True</td>\n",
       "      <td>False</td>\n",
       "      <td>False</td>\n",
       "      <td>False</td>\n",
       "      <td>False</td>\n",
       "      <td>False</td>\n",
       "      <td>False</td>\n",
       "      <td>False</td>\n",
       "      <td>NaN</td>\n",
       "      <td>True</td>\n",
       "      <td>False</td>\n",
       "      <td>False</td>\n",
       "      <td>0.0</td>\n",
       "      <td>False</td>\n",
       "      <td>0.0</td>\n",
       "      <td>False</td>\n",
       "      <td>1</td>\n",
       "    </tr>\n",
       "    <tr>\n",
       "      <th>222015</th>\n",
       "      <td>0xb2d40589</td>\n",
       "      <td>True</td>\n",
       "      <td>True</td>\n",
       "      <td>True</td>\n",
       "      <td>True</td>\n",
       "      <td>False</td>\n",
       "      <td>True</td>\n",
       "      <td>False</td>\n",
       "      <td>False</td>\n",
       "      <td>False</td>\n",
       "      <td>True</td>\n",
       "      <td>NaN</td>\n",
       "      <td>False</td>\n",
       "      <td>False</td>\n",
       "      <td>False</td>\n",
       "      <td>0.0</td>\n",
       "      <td>False</td>\n",
       "      <td>0.0</td>\n",
       "      <td>False</td>\n",
       "      <td>1</td>\n",
       "    </tr>\n",
       "    <tr>\n",
       "      <th>222016</th>\n",
       "      <td>0xb2d6812c</td>\n",
       "      <td>True</td>\n",
       "      <td>True</td>\n",
       "      <td>True</td>\n",
       "      <td>False</td>\n",
       "      <td>True</td>\n",
       "      <td>True</td>\n",
       "      <td>False</td>\n",
       "      <td>False</td>\n",
       "      <td>False</td>\n",
       "      <td>True</td>\n",
       "      <td>NaN</td>\n",
       "      <td>False</td>\n",
       "      <td>False</td>\n",
       "      <td>False</td>\n",
       "      <td>0.0</td>\n",
       "      <td>False</td>\n",
       "      <td>0.0</td>\n",
       "      <td>False</td>\n",
       "      <td>1</td>\n",
       "    </tr>\n",
       "    <tr>\n",
       "      <th>222017</th>\n",
       "      <td>0xb2d99c7f</td>\n",
       "      <td>True</td>\n",
       "      <td>True</td>\n",
       "      <td>True</td>\n",
       "      <td>True</td>\n",
       "      <td>True</td>\n",
       "      <td>True</td>\n",
       "      <td>False</td>\n",
       "      <td>False</td>\n",
       "      <td>False</td>\n",
       "      <td>True</td>\n",
       "      <td>NaN</td>\n",
       "      <td>False</td>\n",
       "      <td>False</td>\n",
       "      <td>False</td>\n",
       "      <td>0.0</td>\n",
       "      <td>False</td>\n",
       "      <td>0.0</td>\n",
       "      <td>False</td>\n",
       "      <td>1</td>\n",
       "    </tr>\n",
       "  </tbody>\n",
       "</table>\n",
       "<p>222018 rows × 20 columns</p>\n",
       "</div>"
      ],
      "text/plain": [
       "           cust_no    E1    E2    E3     E4     E5     E6     E7     E8  \\\n",
       "0       0x3b9b0e20  True  True  True  False   True   True  False  False   \n",
       "1       0x3b9b29be  True  True  True   True   True   True  False  False   \n",
       "2       0x3b9b34f4  True  True  True   True   True   True  False  False   \n",
       "3       0x3b9b0e66  True  True  True  False   True   True  False  False   \n",
       "4       0x3b9b3dfa  True  True  True   True   True   True  False  False   \n",
       "...            ...   ...   ...   ...    ...    ...    ...    ...    ...   \n",
       "222013  0xb2d61b6c  True  True  True  False   True   True  False  False   \n",
       "222014  0xb2da04b2  True  True  True  False  False  False  False  False   \n",
       "222015  0xb2d40589  True  True  True   True  False   True  False  False   \n",
       "222016  0xb2d6812c  True  True  True  False   True   True  False  False   \n",
       "222017  0xb2d99c7f  True  True  True   True   True   True  False  False   \n",
       "\n",
       "           E9    E10  E11    E12    E13    E14        E15    E16        E17  \\\n",
       "0       False   True  NaN   True  False   True   590000.0   True   600000.0   \n",
       "1       False   True  NaN  False   True   True   451500.0   True   400000.0   \n",
       "2       False   True  NaN  False  False  False        0.0  False        0.0   \n",
       "3       False   True  NaN   True  False   True  3541407.0   True  3541407.0   \n",
       "4       False   True  NaN   True   True   True   780000.0   True    50000.0   \n",
       "...       ...    ...  ...    ...    ...    ...        ...    ...        ...   \n",
       "222013  False  False  NaN   True  False   True        0.0  False        0.0   \n",
       "222014  False  False  NaN   True  False  False        0.0  False        0.0   \n",
       "222015  False   True  NaN  False  False  False        0.0  False        0.0   \n",
       "222016  False   True  NaN  False  False  False        0.0  False        0.0   \n",
       "222017  False   True  NaN  False  False  False        0.0  False        0.0   \n",
       "\n",
       "          E18  Q  \n",
       "0        True  3  \n",
       "1        True  3  \n",
       "2       False  3  \n",
       "3        True  3  \n",
       "4        True  3  \n",
       "...       ... ..  \n",
       "222013  False  1  \n",
       "222014  False  1  \n",
       "222015  False  1  \n",
       "222016  False  1  \n",
       "222017  False  1  \n",
       "\n",
       "[222018 rows x 20 columns]"
      ]
     },
     "execution_count": 89,
     "metadata": {},
     "output_type": "execute_result"
    }
   ],
   "source": [
    "big_event"
   ]
  },
  {
   "cell_type": "code",
   "execution_count": 90,
   "metadata": {
    "ExecuteTime": {
     "end_time": "2020-12-26T14:23:36.859946Z",
     "start_time": "2020-12-26T14:23:36.810111Z"
    }
   },
   "outputs": [
    {
     "name": "stdout",
     "output_type": "stream",
     "text": [
      "<class 'pandas.core.frame.DataFrame'>\n",
      "RangeIndex: 222018 entries, 0 to 222017\n",
      "Data columns (total 20 columns):\n",
      " #   Column   Non-Null Count   Dtype  \n",
      "---  ------   --------------   -----  \n",
      " 0   cust_no  222018 non-null  object \n",
      " 1   E1       222018 non-null  bool   \n",
      " 2   E2       222018 non-null  bool   \n",
      " 3   E3       222018 non-null  bool   \n",
      " 4   E4       222018 non-null  bool   \n",
      " 5   E5       222018 non-null  bool   \n",
      " 6   E6       222018 non-null  bool   \n",
      " 7   E7       222018 non-null  bool   \n",
      " 8   E8       222018 non-null  bool   \n",
      " 9   E9       222018 non-null  bool   \n",
      " 10  E10      222018 non-null  bool   \n",
      " 11  E11      0 non-null       float64\n",
      " 12  E12      222018 non-null  bool   \n",
      " 13  E13      222018 non-null  bool   \n",
      " 14  E14      222018 non-null  bool   \n",
      " 15  E15      222018 non-null  float64\n",
      " 16  E16      222018 non-null  bool   \n",
      " 17  E17      222018 non-null  float64\n",
      " 18  E18      222018 non-null  bool   \n",
      " 19  Q        222018 non-null  int64  \n",
      "dtypes: bool(15), float64(3), int64(1), object(1)\n",
      "memory usage: 11.6+ MB\n"
     ]
    }
   ],
   "source": [
    "big_event.info(1)"
   ]
  },
  {
   "cell_type": "markdown",
   "metadata": {},
   "source": [
    "# 复现"
   ]
  },
  {
   "cell_type": "code",
   "execution_count": 91,
   "metadata": {
    "ExecuteTime": {
     "end_time": "2020-12-26T14:23:49.031354Z",
     "start_time": "2020-12-26T14:23:44.855842Z"
    }
   },
   "outputs": [],
   "source": [
    "data = pd.merge(cust_info,y,how='left',on=['cust_no','Q'])\n",
    "data = pd.merge(cust_info,y,how='left',on=['cust_no','Q'])\n",
    "data = data.merge(aum,how='left',on=['cust_no','Q'])\n",
    "data = data.merge(behavior,how='left',on=['cust_no','Q'])\n",
    "data = data.merge(cunkuan,how='left',on=['cust_no','Q'])\n",
    "data = data.merge(aum_stat,how='left',on=['cust_no','Q'])\n",
    "data = data.merge(aum_diff,how='left',on=['cust_no','Q'])\n",
    "data = data.merge(cunkuan_stat,how='left',on=['cust_no','Q'])\n",
    "data = data.merge(cunkuan_diff,how='left',on=['cust_no','Q'])\n",
    "data = data.merge(behavior_stat,how='left',on=['cust_no','Q'])\n",
    "data = data.merge(behavior_diff,how='left',on=['cust_no','Q'])\n",
    "del cust_info,aum,behavior,cunkuan,aum_stat,aum_diff,cunkuan_stat,behavior_stat,behavior_diff\n",
    "gc.collect()\n",
    "data = data.merge(big_event,how='left',on=['cust_no','Q'])\n",
    "data.label = data.label+1"
   ]
  },
  {
   "cell_type": "code",
   "execution_count": 92,
   "metadata": {
    "ExecuteTime": {
     "end_time": "2020-12-26T14:23:49.238962Z",
     "start_time": "2020-12-26T14:23:49.106815Z"
    }
   },
   "outputs": [
    {
     "name": "stderr",
     "output_type": "stream",
     "text": [
      "D:\\ProgramData\\Anaconda3\\lib\\site-packages\\pandas\\core\\series.py:726: RuntimeWarning: divide by zero encountered in log\n",
      "  result = getattr(ufunc, method)(*inputs, **kwargs)\n"
     ]
    }
   ],
   "source": [
    "#计算了统计性正向资产和负向资产的比值\n",
    "data['f1'] = np.log(data['X24']/data['X26'])\n",
    "data['f2'] = np.log(data['X15']/data['X17'])\n",
    "data['f3'] = np.log(data['X6']/data['X8'])\n",
    "data['f1_f2'] = data.f1 - data.f2"
   ]
  },
  {
   "cell_type": "code",
   "execution_count": 93,
   "metadata": {
    "ExecuteTime": {
     "end_time": "2020-12-26T14:23:50.658528Z",
     "start_time": "2020-12-26T14:23:49.803216Z"
    }
   },
   "outputs": [
    {
     "name": "stderr",
     "output_type": "stream",
     "text": [
      "D:\\ProgramData\\Anaconda3\\lib\\site-packages\\ipykernel_launcher.py:2: RuntimeWarning: divide by zero encountered in true_divide\n",
      "  \n",
      "D:\\ProgramData\\Anaconda3\\lib\\site-packages\\ipykernel_launcher.py:2: RuntimeWarning: invalid value encountered in true_divide\n",
      "  \n"
     ]
    }
   ],
   "source": [
    "#aum最后一个月比季度内均值\n",
    "data[['X1_mean1','X2_mean1','X3_mean1','X4_mean1','X5_mean1','X6_mean1','X7_mean1','X8_mean1','X9_mean1']] = data[['X1_mean','X2_mean','X3_mean','X4_mean','X5_mean','X6_mean','X7_mean','X8_mean','X9_mean']].values/data[['X18','X19','X20','X21','X22','X23','X24','X25','X26']].values"
   ]
  },
  {
   "cell_type": "code",
   "execution_count": 94,
   "metadata": {
    "ExecuteTime": {
     "end_time": "2020-12-26T14:23:51.001664Z",
     "start_time": "2020-12-26T14:23:50.659576Z"
    }
   },
   "outputs": [
    {
     "name": "stderr",
     "output_type": "stream",
     "text": [
      "D:\\ProgramData\\Anaconda3\\lib\\site-packages\\ipykernel_launcher.py:2: RuntimeWarning: divide by zero encountered in true_divide\n",
      "  \n",
      "D:\\ProgramData\\Anaconda3\\lib\\site-packages\\ipykernel_launcher.py:2: RuntimeWarning: invalid value encountered in true_divide\n",
      "  \n"
     ]
    }
   ],
   "source": [
    "#cunkuan最后一个月比季度内均值\n",
    "data[['C1_mean1','C2_mean1']] = data[['C1_mean','C2_mean']].values/data[['C4','C5']].values"
   ]
  },
  {
   "cell_type": "code",
   "execution_count": 95,
   "metadata": {
    "ExecuteTime": {
     "end_time": "2020-12-26T14:23:54.861856Z",
     "start_time": "2020-12-26T14:23:51.002697Z"
    }
   },
   "outputs": [],
   "source": [
    "#标签平移\n",
    "label_fea = data[['cust_no','Q','label']].copy()\n",
    "label_fea.columns = ['cust_no','Q','label_fea']\n",
    "label_fea.Q = label_fea.Q.map({3:4,4:1,1:2})\n",
    "data = data.merge(label_fea,how='left',on=['cust_no','Q'])"
   ]
  },
  {
   "cell_type": "code",
   "execution_count": 96,
   "metadata": {
    "ExecuteTime": {
     "end_time": "2020-12-26T14:23:59.086844Z",
     "start_time": "2020-12-26T14:23:54.863840Z"
    }
   },
   "outputs": [],
   "source": [
    "#本季度末X26（正向资产）和上一个季度差分\n",
    "label_fea = data[['cust_no','Q','X26']].copy()\n",
    "label_fea.columns = ['cust_no','Q','X26_sdiff']\n",
    "label_fea.Q = label_fea.Q.map({3:4,4:1,1:2})\n",
    "data = data.merge(label_fea,how='left',on=['cust_no','Q'])\n",
    "\n",
    "data['X26_sdiff'] = data['X26_sdiff'] - data['X26']\n",
    "data['X26_sdiff_rate'] = data['X26_sdiff'] / data['X26']"
   ]
  },
  {
   "cell_type": "code",
   "execution_count": 97,
   "metadata": {
    "ExecuteTime": {
     "end_time": "2020-12-26T14:24:03.778088Z",
     "start_time": "2020-12-26T14:23:59.088839Z"
    }
   },
   "outputs": [],
   "source": [
    "#本季度末X26（负向资产）和上一个季度差分\n",
    "label_fea = data[['cust_no','Q','X24']].copy()\n",
    "label_fea.columns = ['cust_no','Q','X24_sdiff']\n",
    "label_fea.Q = label_fea.Q.map({3:4,4:1,1:2})\n",
    "data = data.merge(label_fea,how='left',on=['cust_no','Q'])\n",
    "data['X24_sdiff'] = data['X24_sdiff'] - data['X24']"
   ]
  },
  {
   "cell_type": "code",
   "execution_count": 98,
   "metadata": {
    "ExecuteTime": {
     "end_time": "2020-12-26T14:24:08.260723Z",
     "start_time": "2020-12-26T14:24:03.780067Z"
    }
   },
   "outputs": [],
   "source": [
    "#本季度末C4（存款金额）和上一个季度差分\n",
    "label_fea = data[['cust_no','Q','C4']].copy()\n",
    "label_fea.columns = ['cust_no','Q','C4_sdiff']\n",
    "label_fea.Q = label_fea.Q.map({3:4,4:1,1:2})\n",
    "data = data.merge(label_fea,how='left',on=['cust_no','Q'])\n",
    "data['C4_sdiff'] = data['C4_sdiff'] - data['C4']"
   ]
  },
  {
   "cell_type": "code",
   "execution_count": 99,
   "metadata": {
    "ExecuteTime": {
     "end_time": "2020-12-26T14:24:12.759488Z",
     "start_time": "2020-12-26T14:24:08.262705Z"
    }
   },
   "outputs": [],
   "source": [
    "#本季度末C5（存款产品个数）和上一个季度差分\n",
    "label_fea = data[['cust_no','Q','C5']].copy()\n",
    "label_fea.columns = ['cust_no','Q','C5_sdiff']\n",
    "label_fea.Q = label_fea.Q.map({3:4,4:1,1:2})\n",
    "data = data.merge(label_fea,how='left',on=['cust_no','Q'])\n",
    "data['C5_sdiff'] = data['C5_sdiff'] - data['C5']"
   ]
  },
  {
   "cell_type": "code",
   "execution_count": 100,
   "metadata": {
    "ExecuteTime": {
     "end_time": "2020-12-26T14:24:12.768049Z",
     "start_time": "2020-12-26T14:24:12.760486Z"
    }
   },
   "outputs": [],
   "source": [
    "#缺失值统一填-999\n",
    "data.label_fea = data.label_fea.fillna(-999)"
   ]
  },
  {
   "cell_type": "code",
   "execution_count": 101,
   "metadata": {
    "ExecuteTime": {
     "end_time": "2020-12-26T14:24:12.789466Z",
     "start_time": "2020-12-26T14:24:12.769966Z"
    }
   },
   "outputs": [],
   "source": [
    "drop_col = ['X26_sdiff_rate','cust_no','Q','I9','label', 'E7', 'B15','E9', 'E11']+['E1', 'E2', 'E3', 'E4', 'E5', 'E6', 'E7', 'E8', 'E9', 'E10', 'E12', 'E13', 'E14', 'E16', 'E18']\n",
    "pre_drop_col = ['I12','I17','I20','I7','X5_mean','X6_max','diff_l3_X5']"
   ]
  },
  {
   "cell_type": "code",
   "execution_count": 102,
   "metadata": {
    "ExecuteTime": {
     "end_time": "2020-12-26T14:24:12.801426Z",
     "start_time": "2020-12-26T14:24:12.791460Z"
    }
   },
   "outputs": [],
   "source": [
    "fea = data.columns.difference(drop_col+pre_drop_col)"
   ]
  },
  {
   "cell_type": "code",
   "execution_count": 103,
   "metadata": {
    "ExecuteTime": {
     "end_time": "2020-12-26T14:24:12.812391Z",
     "start_time": "2020-12-26T14:24:12.803421Z"
    }
   },
   "outputs": [
    {
     "data": {
      "text/plain": [
       "197"
      ]
     },
     "execution_count": 103,
     "metadata": {},
     "output_type": "execute_result"
    }
   ],
   "source": [
    "len(fea)"
   ]
  },
  {
   "cell_type": "code",
   "execution_count": 104,
   "metadata": {
    "ExecuteTime": {
     "end_time": "2020-12-26T14:24:13.536968Z",
     "start_time": "2020-12-26T14:24:12.814384Z"
    }
   },
   "outputs": [
    {
     "name": "stdout",
     "output_type": "stream",
     "text": [
      "(145296, 197)\n",
      "(145296,)\n",
      "(76722, 197)\n"
     ]
    }
   ],
   "source": [
    "X_offset = data.loc[~data.label.isna(),fea]\n",
    "y_offset = data.loc[~data.label.isna(),'label']\n",
    "X_onset = data.loc[(data.Q==1)&(data.cust_no.isin(cust_avli_Q1.cust_no)),fea]\n",
    "print(X_offset.shape)\n",
    "print(y_offset.shape)\n",
    "print(X_onset.shape)"
   ]
  },
  {
   "cell_type": "code",
   "execution_count": 105,
   "metadata": {
    "ExecuteTime": {
     "end_time": "2020-12-26T14:24:13.545939Z",
     "start_time": "2020-12-26T14:24:13.538962Z"
    }
   },
   "outputs": [],
   "source": [
    "####opt\n",
    "class_num=3\n",
    "weights = [1.0]*class_num\n",
    "\n",
    "def search_weight(valid_y, raw_prob, init_weight=[1.0]*class_num, step=0.001):\n",
    "    weight = init_weight.copy()\n",
    "    f_best = cohen_kappa_score(valid_y, raw_prob.argmax(axis=1))\n",
    "    flag_score = 0\n",
    "    round_num = 1\n",
    "    while(flag_score != f_best):\n",
    "        print(\"round: \", round_num)\n",
    "        round_num += 1\n",
    "        flag_score = f_best\n",
    "        for c in range(class_num):\n",
    "            for n_w in range(0, 2000,10):\n",
    "                num = n_w * step\n",
    "                new_weight = weight.copy()\n",
    "                new_weight[c] = num\n",
    "\n",
    "                prob_df = raw_prob.copy()\n",
    "                prob_df = prob_df * np.array(new_weight)\n",
    "\n",
    "                f = cohen_kappa_score(valid_y, prob_df.argmax(axis=1))\n",
    "                if f > f_best:\n",
    "                    weight = new_weight.copy()\n",
    "                    f_best = f\n",
    "                    #print(f)\n",
    "    return weight"
   ]
  },
  {
   "cell_type": "code",
   "execution_count": 124,
   "metadata": {
    "ExecuteTime": {
     "end_time": "2020-12-26T14:52:34.397178Z",
     "start_time": "2020-12-26T14:39:22.725476Z"
    }
   },
   "outputs": [
    {
     "name": "stdout",
     "output_type": "stream",
     "text": [
      "Fold 0\n",
      "Training until validation scores don't improve for 300 rounds\n",
      "[100]\tvalid_0's multi_logloss: 0.629143\n",
      "[200]\tvalid_0's multi_logloss: 0.621778\n",
      "[300]\tvalid_0's multi_logloss: 0.620794\n",
      "[400]\tvalid_0's multi_logloss: 0.620879\n",
      "[500]\tvalid_0's multi_logloss: 0.621589\n",
      "Early stopping, best iteration is:\n",
      "[296]\tvalid_0's multi_logloss: 0.62069\n",
      "round:  1\n",
      "round:  2\n",
      "round:  3\n",
      "round:  4\n",
      "round:  5\n",
      "[1.85, 1.55, 0.89] 0.4862520828853272\n",
      "Fold 1\n",
      "Training until validation scores don't improve for 300 rounds\n",
      "[100]\tvalid_0's multi_logloss: 0.616339\n",
      "[200]\tvalid_0's multi_logloss: 0.60773\n",
      "[300]\tvalid_0's multi_logloss: 0.60629\n",
      "[400]\tvalid_0's multi_logloss: 0.606201\n",
      "[500]\tvalid_0's multi_logloss: 0.606961\n",
      "[600]\tvalid_0's multi_logloss: 0.607286\n",
      "Early stopping, best iteration is:\n",
      "[382]\tvalid_0's multi_logloss: 0.606017\n",
      "round:  1\n",
      "round:  2\n",
      "round:  3\n",
      "[1.75, 1.52, 1.02] 0.4984387888009363\n",
      "Fold 2\n",
      "Training until validation scores don't improve for 300 rounds\n",
      "[100]\tvalid_0's multi_logloss: 0.623625\n",
      "[200]\tvalid_0's multi_logloss: 0.615228\n",
      "[300]\tvalid_0's multi_logloss: 0.614086\n",
      "[400]\tvalid_0's multi_logloss: 0.613705\n",
      "[500]\tvalid_0's multi_logloss: 0.614097\n",
      "[600]\tvalid_0's multi_logloss: 0.615267\n",
      "Early stopping, best iteration is:\n",
      "[394]\tvalid_0's multi_logloss: 0.613609\n",
      "round:  1\n",
      "round:  2\n",
      "round:  3\n",
      "[1.95, 1.6300000000000001, 0.87] 0.48691550724227617\n",
      "Fold 3\n",
      "Training until validation scores don't improve for 300 rounds\n",
      "[100]\tvalid_0's multi_logloss: 0.625765\n",
      "[200]\tvalid_0's multi_logloss: 0.617996\n",
      "[300]\tvalid_0's multi_logloss: 0.616845\n",
      "[400]\tvalid_0's multi_logloss: 0.616607\n",
      "[500]\tvalid_0's multi_logloss: 0.617015\n",
      "[600]\tvalid_0's multi_logloss: 0.617863\n",
      "Early stopping, best iteration is:\n",
      "[353]\tvalid_0's multi_logloss: 0.616424\n",
      "round:  1\n",
      "round:  2\n",
      "round:  3\n",
      "round:  4\n",
      "[1.74, 1.73, 0.98] 0.49146820457458207\n",
      "Fold 4\n",
      "Training until validation scores don't improve for 300 rounds\n",
      "[100]\tvalid_0's multi_logloss: 0.623888\n",
      "[200]\tvalid_0's multi_logloss: 0.616698\n",
      "[300]\tvalid_0's multi_logloss: 0.615866\n",
      "[400]\tvalid_0's multi_logloss: 0.615972\n",
      "[500]\tvalid_0's multi_logloss: 0.616244\n",
      "[600]\tvalid_0's multi_logloss: 0.617136\n",
      "Early stopping, best iteration is:\n",
      "[304]\tvalid_0's multi_logloss: 0.615787\n",
      "round:  1\n",
      "round:  2\n",
      "round:  3\n",
      "[1.93, 1.68, 1.0] 0.48299378151196914\n",
      "CV score: 0.48919 \n",
      "mean score: 0.48921 \n"
     ]
    }
   ],
   "source": [
    "params = {\n",
    "'boosting_type': 'gbdt',\n",
    "'objective': 'multiclass',\n",
    "#'metrics':\"None\",\n",
    "    'num_class': 3,\n",
    "#'metric':  'auc',\n",
    "'num_leaves': 127,\n",
    "'max_depth': -1,\n",
    "'min_data_in_leaf': 1,\n",
    "'learning_rate': 0.03,\n",
    "'feature_fraction': 0.9,\n",
    "'bagging_fraction': 0.9,\n",
    "'bagging_freq': 5,\n",
    "'lambda_l1': 1,\n",
    "'lambda_l2': 0.001,# 越小l2正则程度越高\n",
    "'min_gain_to_split': 0.1,\n",
    "#'device': 'gpu',\n",
    "'verbose':-1\n",
    "}\n",
    "\n",
    "folds = KFold(n_splits=5, shuffle=True, random_state=99999)\n",
    "#folds = StratifiedKFold(n_splits=5, shuffle=True, random_state=99999)\n",
    "oof = np.zeros((len(X_offset),3))\n",
    "predictions = np.zeros((len(X_onset),3))\n",
    "imp_df=[]\n",
    "mean_score=0\n",
    "for fold_, (trn_idx, val_idx) in enumerate(folds.split(X_offset.values, y_offset.values)):\n",
    "    print(\"Fold {}\".format(fold_))\n",
    "    \n",
    "    trn_data = lgb.Dataset(X_offset.iloc[trn_idx], label=y_offset.iloc[trn_idx])\n",
    "    val_data = lgb.Dataset(X_offset.iloc[val_idx], label=y_offset.iloc[val_idx])\n",
    "    clf = lgb.train(params, trn_data, 1000000, valid_sets = [val_data], verbose_eval=100, early_stopping_rounds = 300)\n",
    "    val_pred_raw = clf.predict(X_offset.iloc[val_idx], num_iteration=clf.best_iteration)\n",
    "    weight = search_weight(y_offset.iloc[val_idx],val_pred_raw)\n",
    "    #weight = [1,1,1]\n",
    "    oof[val_idx] = val_pred_raw*weight  \n",
    "    mean_score += cohen_kappa_score(y_offset.iloc[val_idx], np.argmax(oof[val_idx],axis=1)) / folds.n_splits\n",
    "    print(weight,cohen_kappa_score(y_offset.iloc[val_idx], np.argmax(oof[val_idx],axis=1)))\n",
    "    predictions += clf.predict(X_onset, num_iteration=clf.best_iteration)*weight / folds.n_splits\n",
    "    imp_df1=pd.DataFrame()\n",
    "    imp_df1['fea'] = fea\n",
    "    imp_df1['imp'] = clf.feature_importance(importance_type='gain')\n",
    "    imp_df.append(imp_df1)\n",
    "print(\"CV score: {:<8.5f}\".format(cohen_kappa_score(y_offset, np.argmax(oof,axis=1))))\n",
    "print(\"mean score: {:<8.5f}\".format(mean_score))"
   ]
  },
  {
   "cell_type": "code",
   "execution_count": 125,
   "metadata": {
    "ExecuteTime": {
     "end_time": "2020-12-26T14:52:34.836697Z",
     "start_time": "2020-12-26T14:52:34.399155Z"
    }
   },
   "outputs": [
    {
     "data": {
      "text/html": [
       "<div>\n",
       "<style scoped>\n",
       "    .dataframe tbody tr th:only-of-type {\n",
       "        vertical-align: middle;\n",
       "    }\n",
       "\n",
       "    .dataframe tbody tr th {\n",
       "        vertical-align: top;\n",
       "    }\n",
       "\n",
       "    .dataframe thead th {\n",
       "        text-align: right;\n",
       "    }\n",
       "</style>\n",
       "<table border=\"1\" class=\"dataframe\">\n",
       "  <thead>\n",
       "    <tr style=\"text-align: right;\">\n",
       "      <th></th>\n",
       "      <th>cust_no</th>\n",
       "      <th>label=-1</th>\n",
       "      <th>label=0</th>\n",
       "      <th>label=1</th>\n",
       "    </tr>\n",
       "  </thead>\n",
       "  <tbody>\n",
       "    <tr>\n",
       "      <th>0</th>\n",
       "      <td>0x3b9b4615</td>\n",
       "      <td>0.160565</td>\n",
       "      <td>0.712114</td>\n",
       "      <td>0.450274</td>\n",
       "    </tr>\n",
       "    <tr>\n",
       "      <th>1</th>\n",
       "      <td>0x3b9ae61b</td>\n",
       "      <td>0.021168</td>\n",
       "      <td>0.110122</td>\n",
       "      <td>0.876244</td>\n",
       "    </tr>\n",
       "    <tr>\n",
       "      <th>2</th>\n",
       "      <td>0x3b9add69</td>\n",
       "      <td>0.018710</td>\n",
       "      <td>0.087506</td>\n",
       "      <td>0.890422</td>\n",
       "    </tr>\n",
       "    <tr>\n",
       "      <th>3</th>\n",
       "      <td>0x3b9b3601</td>\n",
       "      <td>0.013258</td>\n",
       "      <td>0.583342</td>\n",
       "      <td>0.604305</td>\n",
       "    </tr>\n",
       "    <tr>\n",
       "      <th>4</th>\n",
       "      <td>0x3b9b2599</td>\n",
       "      <td>0.009910</td>\n",
       "      <td>0.557607</td>\n",
       "      <td>0.618716</td>\n",
       "    </tr>\n",
       "    <tr>\n",
       "      <th>...</th>\n",
       "      <td>...</td>\n",
       "      <td>...</td>\n",
       "      <td>...</td>\n",
       "      <td>...</td>\n",
       "    </tr>\n",
       "    <tr>\n",
       "      <th>76717</th>\n",
       "      <td>0xb2d69017</td>\n",
       "      <td>0.179140</td>\n",
       "      <td>0.216830</td>\n",
       "      <td>0.731456</td>\n",
       "    </tr>\n",
       "    <tr>\n",
       "      <th>76718</th>\n",
       "      <td>0xb2d68153</td>\n",
       "      <td>0.008168</td>\n",
       "      <td>0.167909</td>\n",
       "      <td>0.849468</td>\n",
       "    </tr>\n",
       "    <tr>\n",
       "      <th>76719</th>\n",
       "      <td>0xb2d5bba1</td>\n",
       "      <td>0.129607</td>\n",
       "      <td>0.292741</td>\n",
       "      <td>0.714230</td>\n",
       "    </tr>\n",
       "    <tr>\n",
       "      <th>76720</th>\n",
       "      <td>0xb2d61b9b</td>\n",
       "      <td>0.071593</td>\n",
       "      <td>0.157342</td>\n",
       "      <td>0.823484</td>\n",
       "    </tr>\n",
       "    <tr>\n",
       "      <th>76721</th>\n",
       "      <td>0xb2d70079</td>\n",
       "      <td>0.288366</td>\n",
       "      <td>0.864078</td>\n",
       "      <td>0.297590</td>\n",
       "    </tr>\n",
       "  </tbody>\n",
       "</table>\n",
       "<p>76722 rows × 4 columns</p>\n",
       "</div>"
      ],
      "text/plain": [
       "          cust_no  label=-1   label=0   label=1\n",
       "0      0x3b9b4615  0.160565  0.712114  0.450274\n",
       "1      0x3b9ae61b  0.021168  0.110122  0.876244\n",
       "2      0x3b9add69  0.018710  0.087506  0.890422\n",
       "3      0x3b9b3601  0.013258  0.583342  0.604305\n",
       "4      0x3b9b2599  0.009910  0.557607  0.618716\n",
       "...           ...       ...       ...       ...\n",
       "76717  0xb2d69017  0.179140  0.216830  0.731456\n",
       "76718  0xb2d68153  0.008168  0.167909  0.849468\n",
       "76719  0xb2d5bba1  0.129607  0.292741  0.714230\n",
       "76720  0xb2d61b9b  0.071593  0.157342  0.823484\n",
       "76721  0xb2d70079  0.288366  0.864078  0.297590\n",
       "\n",
       "[76722 rows x 4 columns]"
      ]
     },
     "execution_count": 125,
     "metadata": {},
     "output_type": "execute_result"
    }
   ],
   "source": [
    "#####产出概率文件\n",
    "prob = pd.DataFrame()\n",
    "prob['cust_no'] = cust_avli_Q1['cust_no']\n",
    "prob = pd.concat([prob,pd.DataFrame(predictions)],axis=1)\n",
    "prob.columns = ['cust_no','label=-1','label=0','label=1']\n",
    "prob.to_csv('dmj-4935.csv',index = None)\n",
    "prob"
   ]
  },
  {
   "cell_type": "code",
   "execution_count": 126,
   "metadata": {
    "ExecuteTime": {
     "end_time": "2020-12-26T14:52:34.938588Z",
     "start_time": "2020-12-26T14:52:34.838686Z"
    }
   },
   "outputs": [
    {
     "data": {
      "text/plain": [
       " 1    48031\n",
       " 0    17141\n",
       "-1    11550\n",
       "Name: label, dtype: int64"
      ]
     },
     "execution_count": 126,
     "metadata": {},
     "output_type": "execute_result"
    }
   ],
   "source": [
    "#### 产出提交文件\n",
    "sub_df = pd.DataFrame()\n",
    "sub_df['cust_no'] = cust_avli_Q1['cust_no']\n",
    "sub_df['label'] = np.argmax(predictions,axis=1)\n",
    "sub_df.label = sub_df.label-1\n",
    "sub_df.to_csv('sub1226.csv',index = None)\n",
    "sub_df['label'].value_counts()"
   ]
  },
  {
   "cell_type": "code",
   "execution_count": null,
   "metadata": {
    "ExecuteTime": {
     "end_time": "2020-12-26T14:53:41.910362Z",
     "start_time": "2020-12-26T14:53:41.897478Z"
    }
   },
   "outputs": [],
   "source": [
    "imp_df = pd.concat(imp_df)\n",
    "imp_df = imp_df.groupby('fea').mean().reset_index().sort_values('imp',ascending = False)"
   ]
  },
  {
   "cell_type": "code",
   "execution_count": 130,
   "metadata": {
    "ExecuteTime": {
     "end_time": "2020-12-26T14:53:43.564506Z",
     "start_time": "2020-12-26T14:53:43.552039Z"
    },
    "scrolled": false
   },
   "outputs": [
    {
     "data": {
      "text/html": [
       "<div>\n",
       "<style scoped>\n",
       "    .dataframe tbody tr th:only-of-type {\n",
       "        vertical-align: middle;\n",
       "    }\n",
       "\n",
       "    .dataframe tbody tr th {\n",
       "        vertical-align: top;\n",
       "    }\n",
       "\n",
       "    .dataframe thead th {\n",
       "        text-align: right;\n",
       "    }\n",
       "</style>\n",
       "<table border=\"1\" class=\"dataframe\">\n",
       "  <thead>\n",
       "    <tr style=\"text-align: right;\">\n",
       "      <th></th>\n",
       "      <th>fea</th>\n",
       "      <th>imp</th>\n",
       "    </tr>\n",
       "  </thead>\n",
       "  <tbody>\n",
       "    <tr>\n",
       "      <th>142</th>\n",
       "      <td>X9_mean1</td>\n",
       "      <td>265851.522868</td>\n",
       "    </tr>\n",
       "    <tr>\n",
       "      <th>98</th>\n",
       "      <td>X26</td>\n",
       "      <td>140861.675363</td>\n",
       "    </tr>\n",
       "    <tr>\n",
       "      <th>143</th>\n",
       "      <td>X9_min</td>\n",
       "      <td>69083.135915</td>\n",
       "    </tr>\n",
       "    <tr>\n",
       "      <th>141</th>\n",
       "      <td>X9_mean</td>\n",
       "      <td>49231.682638</td>\n",
       "    </tr>\n",
       "    <tr>\n",
       "      <th>7</th>\n",
       "      <td>B16</td>\n",
       "      <td>45150.518164</td>\n",
       "    </tr>\n",
       "    <tr>\n",
       "      <th>52</th>\n",
       "      <td>C5</td>\n",
       "      <td>43131.246584</td>\n",
       "    </tr>\n",
       "    <tr>\n",
       "      <th>99</th>\n",
       "      <td>X26_sdiff</td>\n",
       "      <td>39519.280088</td>\n",
       "    </tr>\n",
       "    <tr>\n",
       "      <th>40</th>\n",
       "      <td>C1_mean1</td>\n",
       "      <td>37588.995603</td>\n",
       "    </tr>\n",
       "    <tr>\n",
       "      <th>67</th>\n",
       "      <td>I3</td>\n",
       "      <td>24807.256063</td>\n",
       "    </tr>\n",
       "    <tr>\n",
       "      <th>144</th>\n",
       "      <td>X9_std</td>\n",
       "      <td>23247.504199</td>\n",
       "    </tr>\n",
       "    <tr>\n",
       "      <th>160</th>\n",
       "      <td>diff_l1_X9</td>\n",
       "      <td>22182.275514</td>\n",
       "    </tr>\n",
       "    <tr>\n",
       "      <th>108</th>\n",
       "      <td>X3_mean1</td>\n",
       "      <td>20211.590384</td>\n",
       "    </tr>\n",
       "    <tr>\n",
       "      <th>51</th>\n",
       "      <td>C4_sdiff</td>\n",
       "      <td>19460.379766</td>\n",
       "    </tr>\n",
       "    <tr>\n",
       "      <th>54</th>\n",
       "      <td>E15</td>\n",
       "      <td>18693.926338</td>\n",
       "    </tr>\n",
       "    <tr>\n",
       "      <th>66</th>\n",
       "      <td>I2</td>\n",
       "      <td>18623.781171</td>\n",
       "    </tr>\n",
       "    <tr>\n",
       "      <th>176</th>\n",
       "      <td>diff_l2_X9</td>\n",
       "      <td>17138.137835</td>\n",
       "    </tr>\n",
       "    <tr>\n",
       "      <th>131</th>\n",
       "      <td>X7_min</td>\n",
       "      <td>17027.839840</td>\n",
       "    </tr>\n",
       "    <tr>\n",
       "      <th>87</th>\n",
       "      <td>X1_mean1</td>\n",
       "      <td>16806.477287</td>\n",
       "    </tr>\n",
       "    <tr>\n",
       "      <th>133</th>\n",
       "      <td>X8</td>\n",
       "      <td>16708.259547</td>\n",
       "    </tr>\n",
       "    <tr>\n",
       "      <th>21</th>\n",
       "      <td>B3_std</td>\n",
       "      <td>15649.660129</td>\n",
       "    </tr>\n",
       "    <tr>\n",
       "      <th>41</th>\n",
       "      <td>C1_min</td>\n",
       "      <td>15064.765672</td>\n",
       "    </tr>\n",
       "    <tr>\n",
       "      <th>166</th>\n",
       "      <td>diff_l2_C1</td>\n",
       "      <td>13706.256235</td>\n",
       "    </tr>\n",
       "    <tr>\n",
       "      <th>55</th>\n",
       "      <td>E17</td>\n",
       "      <td>13541.412438</td>\n",
       "    </tr>\n",
       "    <tr>\n",
       "      <th>82</th>\n",
       "      <td>X17</td>\n",
       "      <td>12892.178577</td>\n",
       "    </tr>\n",
       "    <tr>\n",
       "      <th>193</th>\n",
       "      <td>f1_f2</td>\n",
       "      <td>12370.778892</td>\n",
       "    </tr>\n",
       "    <tr>\n",
       "      <th>182</th>\n",
       "      <td>diff_l3_C1</td>\n",
       "      <td>11764.568820</td>\n",
       "    </tr>\n",
       "    <tr>\n",
       "      <th>130</th>\n",
       "      <td>X7_mean1</td>\n",
       "      <td>11735.552282</td>\n",
       "    </tr>\n",
       "    <tr>\n",
       "      <th>42</th>\n",
       "      <td>C1_std</td>\n",
       "      <td>11255.414515</td>\n",
       "    </tr>\n",
       "    <tr>\n",
       "      <th>91</th>\n",
       "      <td>X20</td>\n",
       "      <td>10832.464909</td>\n",
       "    </tr>\n",
       "    <tr>\n",
       "      <th>150</th>\n",
       "      <td>diff_l1_C1</td>\n",
       "      <td>10626.020003</td>\n",
       "    </tr>\n",
       "    <tr>\n",
       "      <th>19</th>\n",
       "      <td>B3_mean</td>\n",
       "      <td>9930.745325</td>\n",
       "    </tr>\n",
       "    <tr>\n",
       "      <th>36</th>\n",
       "      <td>C0</td>\n",
       "      <td>9396.384985</td>\n",
       "    </tr>\n",
       "    <tr>\n",
       "      <th>18</th>\n",
       "      <td>B3_max</td>\n",
       "      <td>9322.516715</td>\n",
       "    </tr>\n",
       "    <tr>\n",
       "      <th>109</th>\n",
       "      <td>X3_min</td>\n",
       "      <td>9276.543540</td>\n",
       "    </tr>\n",
       "    <tr>\n",
       "      <th>90</th>\n",
       "      <td>X2</td>\n",
       "      <td>9188.549098</td>\n",
       "    </tr>\n",
       "    <tr>\n",
       "      <th>50</th>\n",
       "      <td>C4</td>\n",
       "      <td>9095.903785</td>\n",
       "    </tr>\n",
       "    <tr>\n",
       "      <th>76</th>\n",
       "      <td>X11</td>\n",
       "      <td>8526.160135</td>\n",
       "    </tr>\n",
       "    <tr>\n",
       "      <th>70</th>\n",
       "      <td>I5</td>\n",
       "      <td>8372.437364</td>\n",
       "    </tr>\n",
       "    <tr>\n",
       "      <th>31</th>\n",
       "      <td>B5_std</td>\n",
       "      <td>8229.257384</td>\n",
       "    </tr>\n",
       "    <tr>\n",
       "      <th>114</th>\n",
       "      <td>X4_mean1</td>\n",
       "      <td>7874.420440</td>\n",
       "    </tr>\n",
       "  </tbody>\n",
       "</table>\n",
       "</div>"
      ],
      "text/plain": [
       "            fea            imp\n",
       "142    X9_mean1  265851.522868\n",
       "98          X26  140861.675363\n",
       "143      X9_min   69083.135915\n",
       "141     X9_mean   49231.682638\n",
       "7           B16   45150.518164\n",
       "52           C5   43131.246584\n",
       "99    X26_sdiff   39519.280088\n",
       "40     C1_mean1   37588.995603\n",
       "67           I3   24807.256063\n",
       "144      X9_std   23247.504199\n",
       "160  diff_l1_X9   22182.275514\n",
       "108    X3_mean1   20211.590384\n",
       "51     C4_sdiff   19460.379766\n",
       "54          E15   18693.926338\n",
       "66           I2   18623.781171\n",
       "176  diff_l2_X9   17138.137835\n",
       "131      X7_min   17027.839840\n",
       "87     X1_mean1   16806.477287\n",
       "133          X8   16708.259547\n",
       "21       B3_std   15649.660129\n",
       "41       C1_min   15064.765672\n",
       "166  diff_l2_C1   13706.256235\n",
       "55          E17   13541.412438\n",
       "82          X17   12892.178577\n",
       "193       f1_f2   12370.778892\n",
       "182  diff_l3_C1   11764.568820\n",
       "130    X7_mean1   11735.552282\n",
       "42       C1_std   11255.414515\n",
       "91          X20   10832.464909\n",
       "150  diff_l1_C1   10626.020003\n",
       "19      B3_mean    9930.745325\n",
       "36           C0    9396.384985\n",
       "18       B3_max    9322.516715\n",
       "109      X3_min    9276.543540\n",
       "90           X2    9188.549098\n",
       "50           C4    9095.903785\n",
       "76          X11    8526.160135\n",
       "70           I5    8372.437364\n",
       "31       B5_std    8229.257384\n",
       "114    X4_mean1    7874.420440"
      ]
     },
     "execution_count": 130,
     "metadata": {},
     "output_type": "execute_result"
    }
   ],
   "source": [
    "imp_df.head(40)"
   ]
  },
  {
   "cell_type": "code",
   "execution_count": null,
   "metadata": {},
   "outputs": [],
   "source": []
  },
  {
   "cell_type": "markdown",
   "metadata": {},
   "source": [
    "# 下面是画图"
   ]
  },
  {
   "cell_type": "markdown",
   "metadata": {},
   "source": []
  },
  {
   "cell_type": "code",
   "execution_count": 106,
   "metadata": {
    "ExecuteTime": {
     "end_time": "2020-12-20T10:50:35.771500Z",
     "start_time": "2020-12-20T10:50:33.219085Z"
    }
   },
   "outputs": [],
   "source": [
    "import pandas as pd\n",
    "import numpy as np\n",
    "import matplotlib\n",
    "from matplotlib import pyplot as plt\n",
    "#%matplotlib notebook"
   ]
  },
  {
   "cell_type": "code",
   "execution_count": 194,
   "metadata": {
    "ExecuteTime": {
     "end_time": "2020-12-20T14:35:26.449343Z",
     "start_time": "2020-12-20T14:35:26.434309Z"
    }
   },
   "outputs": [],
   "source": [
    "from pylab import mpl\n",
    "\n",
    "mpl.rcParams['font.sans-serif'] = ['FangSong'] # 指定默认字体\n",
    "mpl.rcParams['axes.unicode_minus'] = False # 解决保存图像是负号'-'显示为方块的问题"
   ]
  },
  {
   "cell_type": "code",
   "execution_count": 195,
   "metadata": {
    "ExecuteTime": {
     "end_time": "2020-12-20T14:35:29.749796Z",
     "start_time": "2020-12-20T14:35:29.570788Z"
    }
   },
   "outputs": [],
   "source": [
    "label = data[data.label == 0].X9_mean1.replace([np.inf, -np.inf], np.nan)\n",
    "label = label[label.notna()]\n",
    "label = label[(label<np.percentile(label,99)) & (label>np.percentile(label,1))]\n",
    "label0 = np.log2(label)\n",
    "\n",
    "label = data[data.label == 1].X9_mean1.replace([np.inf, -np.inf], np.nan)\n",
    "label = label[label.notna()]\n",
    "label = label[(label<np.percentile(label,99)) & (label>np.percentile(label,1))]\n",
    "label1 = np.log2(label)\n",
    "\n",
    "label = data[data.label == 2].X9_mean1.replace([np.inf, -np.inf], np.nan)\n",
    "label = label[label.notna()]\n",
    "label = label[(label<np.percentile(label,99)) & (label>np.percentile(label,1))]\n",
    "label2 = np.log2(label)"
   ]
  },
  {
   "cell_type": "code",
   "execution_count": 196,
   "metadata": {
    "ExecuteTime": {
     "end_time": "2020-12-20T14:35:29.947307Z",
     "start_time": "2020-12-20T14:35:29.943798Z"
    }
   },
   "outputs": [],
   "source": [
    "labels = ['label=-1','label=0','label=1']"
   ]
  },
  {
   "cell_type": "code",
   "execution_count": 197,
   "metadata": {
    "ExecuteTime": {
     "end_time": "2020-12-20T14:35:30.425181Z",
     "start_time": "2020-12-20T14:35:30.272146Z"
    }
   },
   "outputs": [
    {
     "data": {
      "image/png": "[encoded data removed]",
      "text/plain": [
       "<Figure size 432x288 with 1 Axes>"
      ]
     },
     "metadata": {
      "needs_background": "light"
     },
     "output_type": "display_data"
    }
   ],
   "source": [
    "import matplotlib.pyplot as plt\n",
    "\n",
    "fig = plt.figure()  # 创建画布\n",
    "ax = plt.subplot()  # 创建作图区域\n",
    "# 蓝色矩形的红线：50%分位点是4.5,上边沿：25%分位点是2.25,下边沿：75%分位点是6.75\n",
    "ax.boxplot([label0,label1,label2],labels=labels)\n",
    "plt.title('季末比均值',fontsize=20)\n",
    "plt.show()"
   ]
  },
  {
   "cell_type": "code",
   "execution_count": 207,
   "metadata": {
    "ExecuteTime": {
     "end_time": "2020-12-20T14:42:00.955778Z",
     "start_time": "2020-12-20T14:42:00.772262Z"
    }
   },
   "outputs": [],
   "source": [
    "label = data[data.label == 0].X26.replace([np.inf, -np.inf], np.nan)\n",
    "label = label[label.notna()]\n",
    "label = label[(label<np.percentile(label,99)) & (label>np.percentile(label,1))]\n",
    "label0 = np.log2(label)\n",
    "\n",
    "label = data[data.label == 1].X26.replace([np.inf, -np.inf], np.nan)\n",
    "label = label[label.notna()]\n",
    "label = label[(label<np.percentile(label,99)) & (label>np.percentile(label,1))]\n",
    "label1 = np.log2(label)\n",
    "\n",
    "label = data[data.label == 2].X26.replace([np.inf, -np.inf], np.nan)\n",
    "label = label[label.notna()]\n",
    "label = label[(label<np.percentile(label,99)) & (label>np.percentile(label,1))]\n",
    "label2 = np.log2(label)"
   ]
  },
  {
   "cell_type": "code",
   "execution_count": 208,
   "metadata": {
    "ExecuteTime": {
     "end_time": "2020-12-20T14:42:05.850906Z",
     "start_time": "2020-12-20T14:42:05.746905Z"
    },
    "scrolled": true
   },
   "outputs": [
    {
     "data": {
      "image/png": "[encoded data removed]",
      "text/plain": [
       "<Figure size 432x288 with 1 Axes>"
      ]
     },
     "metadata": {
      "needs_background": "light"
     },
     "output_type": "display_data"
    }
   ],
   "source": [
    "import matplotlib.pyplot as plt\n",
    "fig = plt.figure()  # 创建画布\n",
    "ax = plt.subplot()  # 创建作图区域\n",
    "# 蓝色矩形的红线：50%分位点是4.5,上边沿：25%分位点是2.25,下边沿：75%分位点是6.75\n",
    "ax.boxplot([label0,label1,label2],labels=labels)\n",
    "plt.title('E15',fontsize=20)\n",
    "plt.show()"
   ]
  },
  {
   "cell_type": "code",
   "execution_count": 172,
   "metadata": {
    "ExecuteTime": {
     "end_time": "2020-12-20T11:23:23.306385Z",
     "start_time": "2020-12-20T11:23:23.127385Z"
    }
   },
   "outputs": [
    {
     "name": "stderr",
     "output_type": "stream",
     "text": [
      "D:\\ProgramData\\Anaconda3\\lib\\site-packages\\pandas\\core\\series.py:726: RuntimeWarning: divide by zero encountered in log2\n",
      "  result = getattr(ufunc, method)(*inputs, **kwargs)\n",
      "D:\\ProgramData\\Anaconda3\\lib\\site-packages\\pandas\\core\\series.py:726: RuntimeWarning: divide by zero encountered in log2\n",
      "  result = getattr(ufunc, method)(*inputs, **kwargs)\n",
      "D:\\ProgramData\\Anaconda3\\lib\\site-packages\\pandas\\core\\series.py:726: RuntimeWarning: divide by zero encountered in log2\n",
      "  result = getattr(ufunc, method)(*inputs, **kwargs)\n"
     ]
    }
   ],
   "source": [
    "label = data[data.label == 0].label_fea.replace([np.inf, -np.inf], np.nan)\n",
    "label = label[label.notna()]\n",
    "label = label[(label<np.percentile(label,99)) & (label>np.percentile(label,1))]\n",
    "label0 = np.log2(label)\n",
    "\n",
    "label = data[data.label == 1].label_fea.replace([np.inf, -np.inf], np.nan)\n",
    "label = label[label.notna()]\n",
    "label = label[(label<np.percentile(label,99)) & (label>np.percentile(label,1))]\n",
    "label1 = np.log2(label)\n",
    "\n",
    "label = data[data.label == 2].label_fea.replace([np.inf, -np.inf], np.nan)\n",
    "label = label[label.notna()]\n",
    "label = label[(label<np.percentile(label,99)) & (label>np.percentile(label,1))]\n",
    "label2 = np.log2(label)"
   ]
  },
  {
   "cell_type": "code",
   "execution_count": 173,
   "metadata": {
    "ExecuteTime": {
     "end_time": "2020-12-20T11:23:23.680463Z",
     "start_time": "2020-12-20T11:23:23.584385Z"
    }
   },
   "outputs": [
    {
     "name": "stderr",
     "output_type": "stream",
     "text": [
      "D:\\ProgramData\\Anaconda3\\lib\\site-packages\\numpy\\lib\\function_base.py:3968: RuntimeWarning: invalid value encountered in multiply\n",
      "  x2 = take(ap, indices_above, axis=axis) * weights_above\n"
     ]
    },
    {
     "data": {
      "image/png": "[encoded data removed]",
      "text/plain": [
       "<Figure size 432x288 with 1 Axes>"
      ]
     },
     "metadata": {
      "needs_background": "light"
     },
     "output_type": "display_data"
    }
   ],
   "source": [
    "import matplotlib.pyplot as plt\n",
    "fig = plt.figure()  # 创建画布\n",
    "ax = plt.subplot()  # 创建作图区域\n",
    "# 蓝色矩形的红线：50%分位点是4.5,上边沿：25%分位点是2.25,下边沿：75%分位点是6.75\n",
    "ax.boxplot([label0,label1,label2])\n",
    "plt.show()"
   ]
  },
  {
   "cell_type": "code",
   "execution_count": 209,
   "metadata": {
    "ExecuteTime": {
     "end_time": "2020-12-20T14:50:39.692054Z",
     "start_time": "2020-12-20T14:50:39.501114Z"
    }
   },
   "outputs": [],
   "source": [
    "label = data[data.label == 0].X26_sdiff.replace([np.inf, -np.inf], np.nan)\n",
    "label = label[label.notna()]\n",
    "label = label[(label<np.percentile(label,99)) & (label>np.percentile(label,1))]\n",
    "label0 = label\n",
    "\n",
    "label = data[data.label == 1].X26_sdiff.replace([np.inf, -np.inf], np.nan)\n",
    "label = label[label.notna()]\n",
    "label = label[(label<np.percentile(label,99)) & (label>np.percentile(label,1))]\n",
    "label1 = label\n",
    "\n",
    "label = data[data.label == 2].X26_sdiff.replace([np.inf, -np.inf], np.nan)\n",
    "label = label[label.notna()]\n",
    "label = label[(label<np.percentile(label,99)) & (label>np.percentile(label,1))]\n",
    "label2 = label"
   ]
  },
  {
   "cell_type": "code",
   "execution_count": 210,
   "metadata": {
    "ExecuteTime": {
     "end_time": "2020-12-20T14:50:39.819054Z",
     "start_time": "2020-12-20T14:50:39.697055Z"
    }
   },
   "outputs": [
    {
     "data": {
      "image/png": "[encoded data removed]",
      "text/plain": [
       "<Figure size 432x288 with 1 Axes>"
      ]
     },
     "metadata": {
      "needs_background": "light"
     },
     "output_type": "display_data"
    }
   ],
   "source": [
    "fig = plt.figure()  # 创建画布\n",
    "ax = plt.subplot()  # 创建作图区域\n",
    "# 蓝色矩形的红线：50%分位点是4.5,上边沿：25%分位点是2.25,下边沿：75%分位点是6.75\n",
    "ax.boxplot([label0,label1,label2])\n",
    "plt.title('季度末最后一个月X9和上一个季度末X9差分',fontsize=20)\n",
    "plt.show()"
   ]
  },
  {
   "cell_type": "code",
   "execution_count": null,
   "metadata": {},
   "outputs": [],
   "source": []
  },
  {
   "cell_type": "code",
   "execution_count": 131,
   "metadata": {
    "ExecuteTime": {
     "end_time": "2020-12-20T11:05:11.353105Z",
     "start_time": "2020-12-20T11:05:11.313954Z"
    }
   },
   "outputs": [
    {
     "data": {
      "text/plain": [
       "0.3333333333333333"
      ]
     },
     "execution_count": 131,
     "metadata": {},
     "output_type": "execute_result"
    }
   ],
   "source": [
    "min(data[data.label == 0].X9_mean1.values)"
   ]
  },
  {
   "cell_type": "code",
   "execution_count": 130,
   "metadata": {
    "ExecuteTime": {
     "end_time": "2020-12-20T11:04:53.512791Z",
     "start_time": "2020-12-20T11:04:53.440830Z"
    }
   },
   "outputs": [
    {
     "data": {
      "image/png": "[encoded data removed]",
      "text/plain": [
       "<Figure size 432x288 with 1 Axes>"
      ]
     },
     "metadata": {
      "needs_background": "light"
     },
     "output_type": "display_data"
    }
   ],
   "source": [
    "import matplotlib.pyplot as plt\n",
    "fig = plt.figure()  # 创建画布\n",
    "ax = plt.subplot()  # 创建作图区域\n",
    "# 蓝色矩形的红线：50%分位点是4.5,上边沿：25%分位点是2.25,下边沿：75%分位点是6.75\n",
    "ax.boxplot(range(10))\n",
    "plt.show()"
   ]
  },
  {
   "cell_type": "code",
   "execution_count": 124,
   "metadata": {
    "ExecuteTime": {
     "end_time": "2020-12-20T11:00:54.677560Z",
     "start_time": "2020-12-20T11:00:54.560979Z"
    }
   },
   "outputs": [
    {
     "data": {
      "image/png": "[encoded data removed]",
      "text/plain": [
       "<Figure size 432x288 with 1 Axes>"
      ]
     },
     "metadata": {
      "needs_background": "light"
     },
     "output_type": "display_data"
    }
   ],
   "source": [
    "import matplotlib.pyplot as plt\n",
    "fig = plt.figure()  # 创建画布\n",
    "ax = plt.subplot()  # 创建作图区域\n",
    "# 蓝色矩形的红线：50%分位点是4.5,上边沿：25%分位点是2.25,下边沿：75%分位点是6.75\n",
    "ax.boxplot([data[data.label == 0].X9_mean1, data[data.label == 1].X9_mean1, data[data.label == 2].X9_mean1])\n",
    "plt.show()"
   ]
  },
  {
   "cell_type": "code",
   "execution_count": 109,
   "metadata": {
    "ExecuteTime": {
     "end_time": "2020-12-20T10:51:37.054273Z",
     "start_time": "2020-12-20T10:51:37.048283Z"
    }
   },
   "outputs": [
    {
     "data": {
      "text/plain": [
       "0          1.644742\n",
       "1          0.335060\n",
       "2          0.996813\n",
       "3         14.622152\n",
       "4          0.873692\n",
       "            ...    \n",
       "222013     0.896016\n",
       "222014     0.996524\n",
       "222015     0.977451\n",
       "222016     0.999963\n",
       "222017     1.033249\n",
       "Name: X9_mean1, Length: 222018, dtype: float64"
      ]
     },
     "execution_count": 109,
     "metadata": {},
     "output_type": "execute_result"
    }
   ],
   "source": [
    "data['X9_mean1']"
   ]
  },
  {
   "cell_type": "code",
   "execution_count": null,
   "metadata": {},
   "outputs": [],
   "source": []
  }
 ],
 "metadata": {
  "kernelspec": {
   "display_name": "Python 3",
   "language": "python",
   "name": "python3"
  },
  "language_info": {
   "codemirror_mode": {
    "name": "ipython",
    "version": 3
   },
   "file_extension": ".py",
   "mimetype": "text/x-python",
   "name": "python",
   "nbconvert_exporter": "python",
   "pygments_lexer": "ipython3",
   "version": "3.7.2"
  },
  "toc": {
   "base_numbering": 1,
   "nav_menu": {},
   "number_sections": true,
   "sideBar": true,
   "skip_h1_title": false,
   "title_cell": "Table of Contents",
   "title_sidebar": "Contents",
   "toc_cell": false,
   "toc_position": {
    "height": "calc(100% - 180px)",
    "left": "10px",
    "top": "150px",
    "width": "282.232px"
   },
   "toc_section_display": true,
   "toc_window_display": false
  }
 },
 "nbformat": 4,
 "nbformat_minor": 2
}
